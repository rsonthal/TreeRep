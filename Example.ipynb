{
 "cells": [
  {
   "cell_type": "code",
   "execution_count": 1,
   "metadata": {},
   "outputs": [],
   "source": [
    "using LightGraphs, SparseArrays, SimpleWeightedGraphs\n",
    "using Statistics, BenchmarkTools, LinearAlgebra, ProgressMeter\n",
    "using Base.Threads, PhyloNetworks, StatsBase, Distributions\n",
    "using Base.GC, JLD2, FileIO, CSV, DataFrames\n",
    "using Random, NPZ, GraphRecipes, Plots, Laplacians"
   ]
  },
  {
   "cell_type": "code",
   "execution_count": 2,
   "metadata": {},
   "outputs": [
    {
     "data": {
      "text/plain": [
       "Main.Bartal"
      ]
     },
     "execution_count": 2,
     "metadata": {},
     "output_type": "execute_result"
    }
   ],
   "source": [
    "include(\"TreeRep.jl\")\n",
    "include(\"ConstructTree.jl\")\n",
    "include(\"LevelTree.jl\")\n",
    "include(\"NJ.jl\")\n",
    "include(\"Utilities.jl\")\n",
    "include(\"Visualize.jl\")\n",
    "include(\"TreeOpt.jl\")\n",
    "include(\"SparseRep.jl\")\n",
    "include(\"Bartal.jl\")"
   ]
  },
  {
   "cell_type": "code",
   "execution_count": 3,
   "metadata": {},
   "outputs": [
    {
     "name": "stdout",
     "output_type": "stream",
     "text": [
      "Number of threads = 8\n",
      "  0.290953 seconds\n",
      "  0.041666 seconds (539 allocations: 35.440 KiB)\n",
      "  0.289400 seconds\n",
      "  0.040000 seconds (1 allocation: 48 bytes)\n"
     ]
    }
   ],
   "source": [
    "utilities.tm()"
   ]
  },
  {
   "cell_type": "code",
   "execution_count": 4,
   "metadata": {},
   "outputs": [],
   "source": [
    "X = CSV.read(\"full_taxonomy.csv\");"
   ]
  },
  {
   "cell_type": "code",
   "execution_count": 5,
   "metadata": {},
   "outputs": [
    {
     "data": {
      "text/plain": [
       "{0, 0} undirected simple Int64 graph"
      ]
     },
     "execution_count": 5,
     "metadata": {},
     "output_type": "execute_result"
    }
   ],
   "source": [
    "name_to_node_idx = Dict()\n",
    "next_node = 1\n",
    "G = SimpleGraph()"
   ]
  },
  {
   "cell_type": "code",
   "execution_count": 6,
   "metadata": {},
   "outputs": [],
   "source": [
    "m,_ = size(X)\n",
    "for i = 1:m\n",
    "    src = X[i,1]\n",
    "    dst = X[i,2]\n",
    "    if !haskey(name_to_node_idx,src)\n",
    "        name_to_node_idx[src] = next_node\n",
    "        next_node += 1\n",
    "        add_vertex!(G)\n",
    "    end\n",
    "    \n",
    "    if !haskey(name_to_node_idx,dst)\n",
    "        name_to_node_idx[dst] = next_node\n",
    "        next_node += 1\n",
    "        add_vertex!(G)\n",
    "    end\n",
    "    \n",
    "    u = name_to_node_idx[src]\n",
    "    v = name_to_node_idx[dst]\n",
    "    add_edge!(G,u,v)\n",
    "end\n",
    "\n",
    "n = nv(G)\n",
    "W = adjacency_matrix(G);"
   ]
  },
  {
   "cell_type": "code",
   "execution_count": 7,
   "metadata": {},
   "outputs": [
    {
     "name": "stdout",
     "output_type": "stream",
     "text": [
      "(n, E) = (19155, 78357)\n",
      "is_connected(G) = true\n"
     ]
    }
   ],
   "source": [
    "n = nv(G)\n",
    "E = ne(G)\n",
    "@show((n,E));\n",
    "@show(is_connected(G));"
   ]
  },
  {
   "cell_type": "code",
   "execution_count": 8,
   "metadata": {},
   "outputs": [
    {
     "name": "stderr",
     "output_type": "stream",
     "text": [
      "\u001b[32mProgress:  98%|████████████████████████████████████████▎|  ETA: 0:00:01\u001b[39m"
     ]
    },
    {
     "name": "stdout",
     "output_type": "stream",
     "text": [
      " 38.821643 seconds (3.96 M allocations: 61.501 GiB, 27.03% gc time)\n"
     ]
    }
   ],
   "source": [
    "@time D = utilities.parallel_dp_shortest_paths(G,adjacency_matrix(G));"
   ]
  },
  {
   "cell_type": "code",
   "execution_count": 9,
   "metadata": {},
   "outputs": [
    {
     "data": {
      "text/plain": [
       "19155×19155 Array{Int64,2}:\n",
       " 0  1  1  1  1  2  2  2  2  2  2  2  2  …  2  2  2  2  2  2  2  2  2  2  2  2\n",
       " 1  0  1  1  1  1  1  1  1  1  1  1  1     2  2  2  2  2  2  2  2  2  2  2  2\n",
       " 1  1  0  1  1  1  1  2  2  2  2  2  2     2  2  2  2  2  2  2  2  2  2  2  2\n",
       " 1  1  1  0  1  1  1  1  1  1  1  1  1     2  2  2  2  2  2  2  2  2  2  2  2\n",
       " 1  1  1  1  0  1  1  1  1  1  1  1  1     1  1  1  1  1  1  1  1  1  1  1  1\n",
       " 2  1  1  1  1  0  2  2  2  2  2  2  2  …  2  2  2  2  2  2  2  2  2  2  2  2\n",
       " 2  1  1  1  1  2  0  2  2  2  2  2  2     2  2  2  2  2  2  2  2  2  2  2  2\n",
       " 2  1  2  1  1  2  2  0  1  2  2  2  2     2  2  2  2  2  2  2  2  2  2  2  2\n",
       " 2  1  2  1  1  2  2  1  0  1  1  1  1     2  2  2  2  2  2  2  2  2  2  2  2\n",
       " 2  1  2  1  1  2  2  2  1  0  2  2  2     2  2  2  2  2  2  2  2  2  2  2  2\n",
       " 2  1  2  1  1  2  2  2  1  2  0  2  2  …  2  2  2  2  2  2  2  2  2  2  2  2\n",
       " 2  1  2  1  1  2  2  2  1  2  2  0  2     2  2  2  2  2  2  2  2  2  2  2  2\n",
       " 2  1  2  1  1  2  2  2  1  2  2  2  0     2  2  2  2  2  2  2  2  2  2  2  2\n",
       " ⋮              ⋮              ⋮        ⋱        ⋮              ⋮            \n",
       " 2  2  2  2  1  2  2  2  2  2  2  2  2     0  1  1  1  1  1  1  2  2  2  2  2\n",
       " 2  2  2  2  1  2  2  2  2  2  2  2  2     1  0  2  2  2  2  2  2  2  2  2  2\n",
       " 2  2  2  2  1  2  2  2  2  2  2  2  2  …  1  2  0  2  2  2  2  2  2  2  2  2\n",
       " 2  2  2  2  1  2  2  2  2  2  2  2  2     1  2  2  0  2  2  2  2  2  2  2  2\n",
       " 2  2  2  2  1  2  2  2  2  2  2  2  2     1  2  2  2  0  2  2  2  2  2  2  2\n",
       " 2  2  2  2  1  2  2  2  2  2  2  2  2     1  2  2  2  2  0  2  2  2  2  2  2\n",
       " 2  2  2  2  1  2  2  2  2  2  2  2  2     1  2  2  2  2  2  0  2  2  2  2  2\n",
       " 2  2  2  2  1  2  2  2  2  2  2  2  2  …  2  2  2  2  2  2  2  0  2  2  2  2\n",
       " 2  2  2  2  1  2  2  2  2  2  2  2  2     2  2  2  2  2  2  2  2  0  2  2  2\n",
       " 2  2  2  2  1  2  2  2  2  2  2  2  2     2  2  2  2  2  2  2  2  2  0  1  2\n",
       " 2  2  2  2  1  2  2  2  2  2  2  2  2     2  2  2  2  2  2  2  2  2  1  0  1\n",
       " 2  2  2  2  1  2  2  2  2  2  2  2  2     2  2  2  2  2  2  2  2  2  2  1  0"
      ]
     },
     "execution_count": 9,
     "metadata": {},
     "output_type": "execute_result"
    }
   ],
   "source": [
    "D"
   ]
  },
  {
   "cell_type": "code",
   "execution_count": 10,
   "metadata": {},
   "outputs": [
    {
     "name": "stdout",
     "output_type": "stream",
     "text": [
      "(nv(G), ne(G)) = (22282, 22281)\n",
      "77.826300527"
     ]
    }
   ],
   "source": [
    "t = @elapsed G2,W2 = TreeRep.metric_to_structure_no_recursion(D,undef,undef)\n",
    "print(t)"
   ]
  },
  {
   "cell_type": "code",
   "execution_count": 11,
   "metadata": {},
   "outputs": [
    {
     "name": "stderr",
     "output_type": "stream",
     "text": [
      "\u001b[32mProgress:  99%|████████████████████████████████████████▌|  ETA: 0:00:01\u001b[39m"
     ]
    },
    {
     "data": {
      "text/plain": [
       "0.33952971851501806"
      ]
     },
     "execution_count": 11,
     "metadata": {},
     "output_type": "execute_result"
    }
   ],
   "source": [
    "G2 = utilities.remove_loops(G2)\n",
    "flush(stdout)\n",
    "B = W2[1:nv(G2),1:nv(G2)];\n",
    "B = sparse(B);\n",
    "B = (B .> 0) .* B;\n",
    "\n",
    "GC.gc()\n",
    "D2 = utilities.parallel_dp_shortest_paths(G2, B);\n",
    "distort = utilities.avg_distortion(D2[1:n,1:n],D)\n",
    "map2 = utilities.MAP(D2[1:n,1:n],G)"
   ]
  },
  {
   "cell_type": "code",
   "execution_count": 12,
   "metadata": {},
   "outputs": [
    {
     "data": {
      "text/plain": [
       "0.08983959851741505"
      ]
     },
     "execution_count": 12,
     "metadata": {},
     "output_type": "execute_result"
    }
   ],
   "source": [
    "distort"
   ]
  },
  {
   "cell_type": "code",
   "execution_count": 13,
   "metadata": {},
   "outputs": [
    {
     "data": {
      "text/plain": [
       "0.33952971851501806"
      ]
     },
     "execution_count": 13,
     "metadata": {},
     "output_type": "execute_result"
    }
   ],
   "source": [
    "map2"
   ]
  },
  {
   "cell_type": "code",
   "execution_count": null,
   "metadata": {},
   "outputs": [],
   "source": []
  }
 ],
 "metadata": {
  "@webio": {
   "lastCommId": null,
   "lastKernelId": null
  },
  "kernelspec": {
   "display_name": "Julia 1.4.1",
   "language": "julia",
   "name": "julia-1.4"
  },
  "language_info": {
   "file_extension": ".jl",
   "mimetype": "application/julia",
   "name": "julia",
   "version": "1.1.0"
  }
 },
 "nbformat": 4,
 "nbformat_minor": 2
}
