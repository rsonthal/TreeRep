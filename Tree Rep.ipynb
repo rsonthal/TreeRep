{
 "cells": [
  {
   "cell_type": "code",
   "execution_count": 1,
   "metadata": {},
   "outputs": [
    {
     "name": "stdout",
     "output_type": "stream",
     "text": [
      "\u001b[32m\u001b[1m  Updating\u001b[22m\u001b[39m registry at `~/.julia/registries/General`\n"
     ]
    },
    {
     "name": "stderr",
     "output_type": "stream",
     "text": [
      "┌ Warning: Some registries failed to update:\n",
      "│     — `~/.julia/registries/General` — registry dirty\n",
      "└ @ Pkg.Types /buildworker/worker/package_linux64/build/usr/share/julia/stdlib/v1.1/Pkg/src/Types.jl:1269\n"
     ]
    },
    {
     "name": "stdout",
     "output_type": "stream",
     "text": [
      "\u001b[32m\u001b[1m Resolving\u001b[22m\u001b[39m package versions...\n",
      "\u001b[32m\u001b[1m  Updating\u001b[22m\u001b[39m `~/.julia/environments/v1.1/Project.toml`\n",
      "\u001b[90m [no changes]\u001b[39m\n",
      "\u001b[32m\u001b[1m  Updating\u001b[22m\u001b[39m `~/.julia/environments/v1.1/Manifest.toml`\n",
      "\u001b[90m [no changes]\u001b[39m\n"
     ]
    }
   ],
   "source": [
    "using Pkg;  Pkg.add(Pkg.PackageSpec(;name=\"Plots\", version=\"0.22.1\"))"
   ]
  },
  {
   "cell_type": "code",
   "execution_count": 2,
   "metadata": {},
   "outputs": [
    {
     "data": {
      "text/plain": [
       "v\"0.22.1\""
      ]
     },
     "execution_count": 2,
     "metadata": {},
     "output_type": "execute_result"
    }
   ],
   "source": [
    "using Pkg;\n",
    "pkgs = Pkg.installed();\n",
    "pkgs[\"Plots\"]"
   ]
  },
  {
   "cell_type": "code",
   "execution_count": 1,
   "metadata": {},
   "outputs": [],
   "source": [
    "#Include\n",
    "using LightGraphs, SparseArrays, SimpleWeightedGraphs\n",
    "using Statistics, BenchmarkTools, LinearAlgebra, ProgressMeter\n",
    "using Base.Threads, PhyloNetworks, StatsBase, Distributions\n",
    "using Base.GC, JLD2, FileIO, CSV, DataFrames\n",
    "using Random, NPZ, GraphRecipes, Plots"
   ]
  },
  {
   "cell_type": "code",
   "execution_count": 97,
   "metadata": {},
   "outputs": [
    {
     "name": "stderr",
     "output_type": "stream",
     "text": [
      "WARNING: replacing module TreeRep.\n",
      "WARNING: replacing module ConstructTree.\n",
      "WARNING: replacing module LevelTree.\n",
      "WARNING: replacing module NJ.\n",
      "WARNING: replacing module utilities.\n",
      "WARNING: replacing module Visualize.\n",
      "WARNING: replacing module TreeOpt.\n",
      "WARNING: replacing module SparseRep.\n",
      "WARNING: replacing module Bartal.\n"
     ]
    },
    {
     "data": {
      "text/plain": [
       "Main.Bartal"
      ]
     },
     "execution_count": 97,
     "metadata": {},
     "output_type": "execute_result"
    }
   ],
   "source": [
    "include(\"TreeRep.jl\")\n",
    "include(\"ConstructTree.jl\")\n",
    "include(\"LevelTree.jl\")\n",
    "include(\"NJ.jl\")\n",
    "include(\"Utilities.jl\")\n",
    "include(\"Visualize.jl\")\n",
    "include(\"TreeOpt.jl\")\n",
    "include(\"SparseRep.jl\")\n",
    "include(\"Bartal.jl\")"
   ]
  },
  {
   "cell_type": "code",
   "execution_count": 113,
   "metadata": {},
   "outputs": [
    {
     "data": {
      "text/plain": [
       "Plots.PlotlyBackend()"
      ]
     },
     "execution_count": 113,
     "metadata": {},
     "output_type": "execute_result"
    }
   ],
   "source": [
    "plotly()"
   ]
  },
  {
   "cell_type": "code",
   "execution_count": 5,
   "metadata": {
    "code_folding": [
     0
    ]
   },
   "outputs": [
    {
     "name": "stdout",
     "output_type": "stream",
     "text": [
      "Number of threads = 8\n",
      "  0.508864 seconds\n",
      "  0.073148 seconds (539 allocations: 35.440 KiB)\n",
      "  0.378764 seconds\n",
      "  0.052161 seconds (1 allocation: 48 bytes)\n"
     ]
    }
   ],
   "source": [
    "utilities.tm()"
   ]
  },
  {
   "cell_type": "code",
   "execution_count": 18,
   "metadata": {},
   "outputs": [],
   "source": [
    "G = BinaryTree(5)\n",
    "D = LightGraphs.floyd_warshall_shortest_paths(G).dists;"
   ]
  },
  {
   "cell_type": "code",
   "execution_count": 19,
   "metadata": {},
   "outputs": [
    {
     "data": {
      "text/plain": [
       "0"
      ]
     },
     "execution_count": 19,
     "metadata": {},
     "output_type": "execute_result"
    }
   ],
   "source": [
    "utilities.calc_delta(D)"
   ]
  },
  {
   "cell_type": "code",
   "execution_count": null,
   "metadata": {},
   "outputs": [],
   "source": [
    "Visualize.visualize(G)\n",
    "plot!(legend=:false)"
   ]
  },
  {
   "cell_type": "code",
   "execution_count": 40,
   "metadata": {},
   "outputs": [
    {
     "data": {
      "text/plain": [
       "Dict{Symbol,Plots.Font} with 4 entries:\n",
       "  :legendfont => Font(\"Helvetica\", 9, :hcenter, :vcenter, 0.0, RGB{N0f8}(0.0,0.…\n",
       "  :guidefont  => Font(\"Helvetica\", 15, :hcenter, :vcenter, 0.0, RGB{N0f8}(0.0,0…\n",
       "  :xtickfont  => Font(\"Helvetica\", 9, :hcenter, :vcenter, 0.0, RGB{N0f8}(0.0,0.…\n",
       "  :ytickfont  => Font(\"Helvetica\", 9, :hcenter, :vcenter, 0.0, RGB{N0f8}(0.0,0.…"
      ]
     },
     "execution_count": 40,
     "metadata": {},
     "output_type": "execute_result"
    }
   ],
   "source": [
    "font = Plots.font(\"Helvetica\", 15)\n",
    "font2 = Plots.font(\"Helvetica\", 9)\n",
    "myfonts = Dict(:guidefont=>font, :xtickfont=>font2, :ytickfont=>font2, :legendfont=>font2)"
   ]
  },
  {
   "cell_type": "code",
   "execution_count": 134,
   "metadata": {},
   "outputs": [
    {
     "name": "stdout",
     "output_type": "stream",
     "text": [
      "(nv(G), ne(G)) = (14, 13)\n"
     ]
    }
   ],
   "source": [
    "@elapsed G2,W2 = TreeRep.metric_to_structure(D,undef,undef)\n",
    "\n",
    "flush(stdout)\n",
    "B = W2[1:nv(G2),1:nv(G2)];\n",
    "B = sparse(B);\n",
    "B = (B .> 0) .* B;"
   ]
  },
  {
   "cell_type": "code",
   "execution_count": 164,
   "metadata": {},
   "outputs": [],
   "source": [
    "Visualize.visualize(R,W = wbfs, labels = [text(\"Dog\", :top, 20),text(\"Bear\", :left, 20),\n",
    "        text(\"Racoon\", :top, 20), text(\"Weasel\", :left, 20),text(\"Seal\", :bottom, 20),\n",
    "        text(\"Sea Lion\", :top, 20),\n",
    "        text(\"Cat\", :left, 20),\n",
    "        text(\"Monkey\", :right, 20),\n",
    "        \"\",\"\",\"\",\"\",\"\",\"\",\"\"])"
   ]
  },
  {
   "cell_type": "code",
   "execution_count": 165,
   "metadata": {},
   "outputs": [
    {
     "data": {
      "application/vnd.plotly.v1+json": {
       "data": [
        {
         "colorbar": {
          "title": ""
         },
         "hoverinfo": "text",
         "legendgroup": "y1",
         "marker": {
          "color": "rgba(227, 111, 71, 1.000)",
          "line": {
           "color": "rgba(0, 0, 0, 1.000)",
           "width": 1
          },
          "size": 2,
          "symbol": "circle"
         },
         "mode": "markers",
         "name": "y1",
         "showlegend": true,
         "text": [
          null
         ],
         "type": "scatter",
         "x": [
          0
         ],
         "xaxis": "x1",
         "y": [
          0
         ],
         "yaxis": "y1",
         "zmax": 0.1,
         "zmin": -0.1
        },
        {
         "colorbar": {
          "title": ""
         },
         "hoverinfo": "text",
         "legendgroup": "y2",
         "marker": {
          "color": "rgba(0, 154, 250, 1.000)",
          "line": {
           "color": "rgba(0, 0, 0, 1.000)",
           "width": 1
          },
          "size": 2,
          "symbol": "circle"
         },
         "mode": "markers",
         "name": "y2",
         "showlegend": true,
         "text": [
          null
         ],
         "type": "scatter",
         "x": [
          16
         ],
         "xaxis": "x1",
         "y": [
          27.71281
         ],
         "yaxis": "y1",
         "zmax": 0.1,
         "zmin": -0.1
        },
        {
         "colorbar": {
          "title": ""
         },
         "hoverinfo": "text",
         "legendgroup": "y3",
         "line": {
          "color": "rgba(0, 0, 0, 1.000)",
          "dash": "solid",
          "shape": "linear",
          "width": 1
         },
         "mode": "lines",
         "name": "y3",
         "showlegend": true,
         "text": [
          null,
          null
         ],
         "type": "scatter",
         "x": [
          0,
          16
         ],
         "xaxis": "x1",
         "y": [
          0,
          27.71281
         ],
         "yaxis": "y1",
         "zmax": 0.1,
         "zmin": -0.1
        },
        {
         "colorbar": {
          "title": ""
         },
         "hoverinfo": "text",
         "legendgroup": "y4",
         "marker": {
          "color": "rgba(0, 154, 250, 1.000)",
          "line": {
           "color": "rgba(0, 0, 0, 1.000)",
           "width": 1
          },
          "size": 2,
          "symbol": "circle"
         },
         "mode": "markers",
         "name": "y4",
         "showlegend": true,
         "text": [
          null
         ],
         "type": "scatter",
         "x": [
          -13
         ],
         "xaxis": "x1",
         "y": [
          22.51666
         ],
         "yaxis": "y1",
         "zmax": 0.1,
         "zmin": -0.1
        },
        {
         "colorbar": {
          "title": ""
         },
         "hoverinfo": "text",
         "legendgroup": "y5",
         "line": {
          "color": "rgba(0, 0, 0, 1.000)",
          "dash": "solid",
          "shape": "linear",
          "width": 1
         },
         "mode": "lines",
         "name": "y5",
         "showlegend": true,
         "text": [
          null,
          null
         ],
         "type": "scatter",
         "x": [
          0,
          -13
         ],
         "xaxis": "x1",
         "y": [
          0,
          22.51666
         ],
         "yaxis": "y1",
         "zmax": 0.1,
         "zmin": -0.1
        },
        {
         "colorbar": {
          "title": ""
         },
         "hoverinfo": "text",
         "legendgroup": "y6",
         "marker": {
          "color": "rgba(0, 154, 250, 1.000)",
          "line": {
           "color": "rgba(0, 0, 0, 1.000)",
           "width": 1
          },
          "size": 2,
          "symbol": "circle"
         },
         "mode": "markers",
         "name": "y6",
         "showlegend": true,
         "text": [
          null
         ],
         "type": "scatter",
         "x": [
          -34
         ],
         "xaxis": "x1",
         "y": [
          0
         ],
         "yaxis": "y1",
         "zmax": 0.1,
         "zmin": -0.1
        },
        {
         "colorbar": {
          "title": ""
         },
         "hoverinfo": "text",
         "legendgroup": "y7",
         "line": {
          "color": "rgba(0, 0, 0, 1.000)",
          "dash": "solid",
          "shape": "linear",
          "width": 1
         },
         "mode": "lines",
         "name": "y7",
         "showlegend": true,
         "text": [
          null,
          null
         ],
         "type": "scatter",
         "x": [
          0,
          -34
         ],
         "xaxis": "x1",
         "y": [
          0,
          0
         ],
         "yaxis": "y1",
         "zmax": 0.1,
         "zmin": -0.1
        },
        {
         "colorbar": {
          "title": ""
         },
         "hoverinfo": "text",
         "legendgroup": "y8",
         "marker": {
          "color": "rgba(0, 154, 250, 1.000)",
          "line": {
           "color": "rgba(0, 0, 0, 1.000)",
           "width": 1
          },
          "size": 2,
          "symbol": "circle"
         },
         "mode": "markers",
         "name": "y8",
         "showlegend": true,
         "text": [
          null
         ],
         "type": "scatter",
         "x": [
          -14.5
         ],
         "xaxis": "x1",
         "y": [
          -25.11474
         ],
         "yaxis": "y1",
         "zmax": 0.1,
         "zmin": -0.1
        },
        {
         "colorbar": {
          "title": ""
         },
         "hoverinfo": "text",
         "legendgroup": "y9",
         "line": {
          "color": "rgba(0, 0, 0, 1.000)",
          "dash": "solid",
          "shape": "linear",
          "width": 1
         },
         "mode": "lines",
         "name": "y9",
         "showlegend": true,
         "text": [
          null,
          null
         ],
         "type": "scatter",
         "x": [
          0,
          -14.5
         ],
         "xaxis": "x1",
         "y": [
          0,
          -25.11474
         ],
         "yaxis": "y1",
         "zmax": 0.1,
         "zmin": -0.1
        },
        {
         "colorbar": {
          "title": ""
         },
         "hoverinfo": "text",
         "legendgroup": "y10",
         "marker": {
          "color": "rgba(0, 154, 250, 1.000)",
          "line": {
           "color": "rgba(0, 0, 0, 1.000)",
           "width": 1
          },
          "size": 2,
          "symbol": "circle"
         },
         "mode": "markers",
         "name": "y10",
         "showlegend": true,
         "text": [
          null
         ],
         "type": "scatter",
         "x": [
          42
         ],
         "xaxis": "x1",
         "y": [
          -72.74613
         ],
         "yaxis": "y1",
         "zmax": 0.1,
         "zmin": -0.1
        },
        {
         "colorbar": {
          "title": ""
         },
         "hoverinfo": "text",
         "legendgroup": "y11",
         "line": {
          "color": "rgba(0, 0, 0, 1.000)",
          "dash": "solid",
          "shape": "linear",
          "width": 1
         },
         "mode": "lines",
         "name": "y11",
         "showlegend": true,
         "text": [
          null,
          null
         ],
         "type": "scatter",
         "x": [
          0,
          42
         ],
         "xaxis": "x1",
         "y": [
          0,
          -72.74613
         ],
         "yaxis": "y1",
         "zmax": 0.1,
         "zmin": -0.1
        },
        {
         "colorbar": {
          "title": ""
         },
         "hoverinfo": "text",
         "legendgroup": "y12",
         "marker": {
          "color": "rgba(0, 154, 250, 1.000)",
          "line": {
           "color": "rgba(0, 0, 0, 1.000)",
           "width": 1
          },
          "size": 2,
          "symbol": "circle"
         },
         "mode": "markers",
         "name": "y12",
         "showlegend": true,
         "text": [
          null
         ],
         "type": "scatter",
         "x": [
          136
         ],
         "xaxis": "x1",
         "y": [
          0
         ],
         "yaxis": "y1",
         "zmax": 0.1,
         "zmin": -0.1
        },
        {
         "colorbar": {
          "title": ""
         },
         "hoverinfo": "text",
         "legendgroup": "y13",
         "line": {
          "color": "rgba(0, 0, 0, 1.000)",
          "dash": "solid",
          "shape": "linear",
          "width": 1
         },
         "mode": "lines",
         "name": "y13",
         "showlegend": true,
         "text": [
          null,
          null
         ],
         "type": "scatter",
         "x": [
          0,
          136
         ],
         "xaxis": "x1",
         "y": [
          0,
          0
         ],
         "yaxis": "y1",
         "zmax": 0.1,
         "zmin": -0.1
        },
        {
         "colorbar": {
          "title": ""
         },
         "hoverinfo": "text",
         "legendgroup": "y14",
         "line": {
          "color": "rgba(0, 0, 0, 1.000)",
          "dash": "solid",
          "shape": "linear",
          "width": 1
         },
         "mode": "lines",
         "name": "y14",
         "showlegend": true,
         "text": [
          null,
          null
         ],
         "type": "scatter",
         "x": [
          -26.5,
          -14.5
         ],
         "xaxis": "x1",
         "y": [
          -45.89935,
          -25.11474
         ],
         "yaxis": "y1",
         "zmax": 0.1,
         "zmin": -0.1
        },
        {
         "colorbar": {
          "title": ""
         },
         "hoverinfo": "text",
         "legendgroup": "y15",
         "marker": {
          "color": "rgba(0, 154, 250, 1.000)",
          "line": {
           "color": "rgba(0, 0, 0, 1.000)",
           "width": 1
          },
          "size": 2,
          "symbol": "circle"
         },
         "mode": "markers",
         "name": "y15",
         "showlegend": true,
         "text": [
          null
         ],
         "type": "scatter",
         "x": [
          -26.5
         ],
         "xaxis": "x1",
         "y": [
          -45.89935
         ],
         "yaxis": "y1",
         "zmax": 0.1,
         "zmin": -0.1
        }
       ],
       "layout": {
        "annotations": [
         {
          "font": {
           "color": "rgba(0, 0, 0, 1.000)",
           "family": "sans-serif",
           "size": 28
          },
          "rotation": 0,
          "showarrow": false,
          "text": "Bear",
          "x": 0,
          "xanchor": "left",
          "xref": "x",
          "y": 0,
          "yanchor": "middle",
          "yref": "y"
         },
         {
          "font": {
           "color": "rgba(0, 0, 0, 1.000)",
           "family": "sans-serif",
           "size": 28
          },
          "rotation": 0,
          "showarrow": false,
          "text": "Dog",
          "x": 16,
          "xanchor": "center",
          "xref": "x",
          "y": 27.71281,
          "yanchor": "top",
          "yref": "y"
         },
         {
          "font": {
           "color": "rgba(0, 0, 0, 1.000)",
           "family": "sans-serif",
           "size": 28
          },
          "rotation": 0,
          "showarrow": false,
          "text": "Racoon",
          "x": -13,
          "xanchor": "center",
          "xref": "x",
          "y": 22.51666,
          "yanchor": "top",
          "yref": "y"
         },
         {
          "font": {
           "color": "rgba(0, 0, 0, 1.000)",
           "family": "sans-serif",
           "size": 28
          },
          "rotation": 0,
          "showarrow": false,
          "text": "Weasel",
          "x": -34,
          "xanchor": "left",
          "xref": "x",
          "y": 0,
          "yanchor": "middle",
          "yref": "y"
         },
         {
          "font": {
           "color": "rgba(0, 0, 0, 1.000)",
           "family": "sans-serif",
           "size": 28
          },
          "rotation": 0,
          "showarrow": false,
          "text": "Seal",
          "x": -14.5,
          "xanchor": "center",
          "xref": "x",
          "y": -25.11474,
          "yanchor": "bottom",
          "yref": "y"
         },
         {
          "font": {
           "color": "rgba(0, 0, 0, 1.000)",
           "family": "sans-serif",
           "size": 28
          },
          "rotation": 0,
          "showarrow": false,
          "text": "Cat",
          "x": 42,
          "xanchor": "left",
          "xref": "x",
          "y": -72.74613,
          "yanchor": "middle",
          "yref": "y"
         },
         {
          "font": {
           "color": "rgba(0, 0, 0, 1.000)",
           "family": "sans-serif",
           "size": 28
          },
          "rotation": 0,
          "showarrow": false,
          "text": "Monkey",
          "x": 136,
          "xanchor": "right",
          "xref": "x",
          "y": 0,
          "yanchor": "middle",
          "yref": "y"
         },
         {
          "font": {
           "color": "rgba(0, 0, 0, 1.000)",
           "family": "sans-serif",
           "size": 28
          },
          "rotation": 0,
          "showarrow": false,
          "text": "Sea Lion",
          "x": -26.5,
          "xanchor": "center",
          "xref": "x",
          "y": -45.89935,
          "yanchor": "top",
          "yref": "y"
         }
        ],
        "height": 400,
        "margin": {
         "b": 20,
         "l": 0,
         "r": 0,
         "t": 20
        },
        "paper_bgcolor": "rgba(255, 255, 255, 1.000)",
        "plot_bgcolor": "rgba(255, 255, 255, 1.000)",
        "showlegend": false,
        "width": 600,
        "xaxis": {
         "anchor": "y1",
         "domain": [
          0.05100612423447069,
          0.9934383202099737
         ],
         "gridcolor": "rgba(0, 0, 0, 0.100)",
         "gridwidth": 0.5,
         "linecolor": "rgba(0, 0, 0, 1.000)",
         "mirror": false,
         "range": [
          -39.1,
          141.1
         ],
         "showgrid": true,
         "showline": false,
         "showticklabels": false,
         "tickangle": 0,
         "tickcolor": "rgba(0, 0, 0, 0.000)",
         "tickfont": {
          "color": "rgba(0, 0, 0, 1.000)",
          "family": "sans-serif",
          "size": 11
         },
         "tickmode": "array",
         "ticks": "inside",
         "ticktext": [
          "-25",
          "0",
          "25",
          "50",
          "75",
          "100",
          "125"
         ],
         "tickvals": [
          -25,
          0,
          25,
          50,
          75,
          100,
          125
         ],
         "title": "",
         "titlefont": {
          "color": "rgba(0, 0, 0, 1.000)",
          "family": "sans-serif",
          "size": 15
         },
         "type": "-",
         "visible": true,
         "zeroline": false,
         "zerolinecolor": "rgba(0, 0, 0, 1.000)"
        },
        "yaxis": {
         "anchor": "x1",
         "domain": [
          0.03762029746281716,
          0.9901574803149606
         ],
         "gridcolor": "rgba(0, 0, 0, 0.100)",
         "gridwidth": 0.5,
         "linecolor": "rgba(0, 0, 0, 1.000)",
         "mirror": false,
         "range": [
          -75.7598982,
          30.726578200000002
         ],
         "showgrid": true,
         "showline": false,
         "showticklabels": false,
         "tickangle": 0,
         "tickcolor": "rgba(0, 0, 0, 0.000)",
         "tickfont": {
          "color": "rgba(0, 0, 0, 1.000)",
          "family": "sans-serif",
          "size": 11
         },
         "tickmode": "array",
         "ticks": "inside",
         "ticktext": [
          "-60",
          "-40",
          "-20",
          "0",
          "20"
         ],
         "tickvals": [
          -60,
          -40,
          -20,
          0,
          20
         ],
         "title": "",
         "titlefont": {
          "color": "rgba(0, 0, 0, 1.000)",
          "family": "sans-serif",
          "size": 15
         },
         "type": "-",
         "visible": true,
         "zeroline": false,
         "zerolinecolor": "rgba(0, 0, 0, 1.000)"
        }
       }
      },
      "text/html": [
       "    <div id=\"289496d3-e8c5-42e7-9820-c2da76f50f2f\" style=\"width:600px;height:400px;\"></div>\n",
       "    <script>\n",
       "    PLOT = document.getElementById('289496d3-e8c5-42e7-9820-c2da76f50f2f');\n",
       "    Plotly.plot(PLOT, [{\"xaxis\":\"x1\",\"colorbar\":{\"title\":\"\"},\"yaxis\":\"y1\",\"text\":[null],\"x\":[0],\"showlegend\":true,\"mode\":\"markers\",\"name\":\"y1\",\"zmin\":-0.1,\"legendgroup\":\"y1\",\"marker\":{\"symbol\":\"circle\",\"color\":\"rgba(227, 111, 71, 1.000)\",\"line\":{\"color\":\"rgba(0, 0, 0, 1.000)\",\"width\":1},\"size\":2},\"zmax\":0.1,\"y\":[0],\"type\":\"scatter\",\"hoverinfo\":\"text\"},{\"xaxis\":\"x1\",\"colorbar\":{\"title\":\"\"},\"yaxis\":\"y1\",\"text\":[null],\"x\":[16.0],\"showlegend\":true,\"mode\":\"markers\",\"name\":\"y2\",\"zmin\":-0.1,\"legendgroup\":\"y2\",\"marker\":{\"symbol\":\"circle\",\"color\":\"rgba(0, 154, 250, 1.000)\",\"line\":{\"color\":\"rgba(0, 0, 0, 1.000)\",\"width\":1},\"size\":2},\"zmax\":0.1,\"y\":[27.71281],\"type\":\"scatter\",\"hoverinfo\":\"text\"},{\"xaxis\":\"x1\",\"colorbar\":{\"title\":\"\"},\"yaxis\":\"y1\",\"text\":[null,null],\"x\":[0,16.0],\"showlegend\":true,\"mode\":\"lines\",\"name\":\"y3\",\"zmin\":-0.1,\"legendgroup\":\"y3\",\"zmax\":0.1,\"line\":{\"color\":\"rgba(0, 0, 0, 1.000)\",\"shape\":\"linear\",\"dash\":\"solid\",\"width\":1},\"y\":[0,27.71281],\"type\":\"scatter\",\"hoverinfo\":\"text\"},{\"xaxis\":\"x1\",\"colorbar\":{\"title\":\"\"},\"yaxis\":\"y1\",\"text\":[null],\"x\":[-13.0],\"showlegend\":true,\"mode\":\"markers\",\"name\":\"y4\",\"zmin\":-0.1,\"legendgroup\":\"y4\",\"marker\":{\"symbol\":\"circle\",\"color\":\"rgba(0, 154, 250, 1.000)\",\"line\":{\"color\":\"rgba(0, 0, 0, 1.000)\",\"width\":1},\"size\":2},\"zmax\":0.1,\"y\":[22.51666],\"type\":\"scatter\",\"hoverinfo\":\"text\"},{\"xaxis\":\"x1\",\"colorbar\":{\"title\":\"\"},\"yaxis\":\"y1\",\"text\":[null,null],\"x\":[0,-13.0],\"showlegend\":true,\"mode\":\"lines\",\"name\":\"y5\",\"zmin\":-0.1,\"legendgroup\":\"y5\",\"zmax\":0.1,\"line\":{\"color\":\"rgba(0, 0, 0, 1.000)\",\"shape\":\"linear\",\"dash\":\"solid\",\"width\":1},\"y\":[0,22.51666],\"type\":\"scatter\",\"hoverinfo\":\"text\"},{\"xaxis\":\"x1\",\"colorbar\":{\"title\":\"\"},\"yaxis\":\"y1\",\"text\":[null],\"x\":[-34.0],\"showlegend\":true,\"mode\":\"markers\",\"name\":\"y6\",\"zmin\":-0.1,\"legendgroup\":\"y6\",\"marker\":{\"symbol\":\"circle\",\"color\":\"rgba(0, 154, 250, 1.000)\",\"line\":{\"color\":\"rgba(0, 0, 0, 1.000)\",\"width\":1},\"size\":2},\"zmax\":0.1,\"y\":[0.0],\"type\":\"scatter\",\"hoverinfo\":\"text\"},{\"xaxis\":\"x1\",\"colorbar\":{\"title\":\"\"},\"yaxis\":\"y1\",\"text\":[null,null],\"x\":[0,-34.0],\"showlegend\":true,\"mode\":\"lines\",\"name\":\"y7\",\"zmin\":-0.1,\"legendgroup\":\"y7\",\"zmax\":0.1,\"line\":{\"color\":\"rgba(0, 0, 0, 1.000)\",\"shape\":\"linear\",\"dash\":\"solid\",\"width\":1},\"y\":[0,0.0],\"type\":\"scatter\",\"hoverinfo\":\"text\"},{\"xaxis\":\"x1\",\"colorbar\":{\"title\":\"\"},\"yaxis\":\"y1\",\"text\":[null],\"x\":[-14.5],\"showlegend\":true,\"mode\":\"markers\",\"name\":\"y8\",\"zmin\":-0.1,\"legendgroup\":\"y8\",\"marker\":{\"symbol\":\"circle\",\"color\":\"rgba(0, 154, 250, 1.000)\",\"line\":{\"color\":\"rgba(0, 0, 0, 1.000)\",\"width\":1},\"size\":2},\"zmax\":0.1,\"y\":[-25.11474],\"type\":\"scatter\",\"hoverinfo\":\"text\"},{\"xaxis\":\"x1\",\"colorbar\":{\"title\":\"\"},\"yaxis\":\"y1\",\"text\":[null,null],\"x\":[0,-14.5],\"showlegend\":true,\"mode\":\"lines\",\"name\":\"y9\",\"zmin\":-0.1,\"legendgroup\":\"y9\",\"zmax\":0.1,\"line\":{\"color\":\"rgba(0, 0, 0, 1.000)\",\"shape\":\"linear\",\"dash\":\"solid\",\"width\":1},\"y\":[0,-25.11474],\"type\":\"scatter\",\"hoverinfo\":\"text\"},{\"xaxis\":\"x1\",\"colorbar\":{\"title\":\"\"},\"yaxis\":\"y1\",\"text\":[null],\"x\":[42.0],\"showlegend\":true,\"mode\":\"markers\",\"name\":\"y10\",\"zmin\":-0.1,\"legendgroup\":\"y10\",\"marker\":{\"symbol\":\"circle\",\"color\":\"rgba(0, 154, 250, 1.000)\",\"line\":{\"color\":\"rgba(0, 0, 0, 1.000)\",\"width\":1},\"size\":2},\"zmax\":0.1,\"y\":[-72.74613],\"type\":\"scatter\",\"hoverinfo\":\"text\"},{\"xaxis\":\"x1\",\"colorbar\":{\"title\":\"\"},\"yaxis\":\"y1\",\"text\":[null,null],\"x\":[0,42.0],\"showlegend\":true,\"mode\":\"lines\",\"name\":\"y11\",\"zmin\":-0.1,\"legendgroup\":\"y11\",\"zmax\":0.1,\"line\":{\"color\":\"rgba(0, 0, 0, 1.000)\",\"shape\":\"linear\",\"dash\":\"solid\",\"width\":1},\"y\":[0,-72.74613],\"type\":\"scatter\",\"hoverinfo\":\"text\"},{\"xaxis\":\"x1\",\"colorbar\":{\"title\":\"\"},\"yaxis\":\"y1\",\"text\":[null],\"x\":[136.0],\"showlegend\":true,\"mode\":\"markers\",\"name\":\"y12\",\"zmin\":-0.1,\"legendgroup\":\"y12\",\"marker\":{\"symbol\":\"circle\",\"color\":\"rgba(0, 154, 250, 1.000)\",\"line\":{\"color\":\"rgba(0, 0, 0, 1.000)\",\"width\":1},\"size\":2},\"zmax\":0.1,\"y\":[-0.0],\"type\":\"scatter\",\"hoverinfo\":\"text\"},{\"xaxis\":\"x1\",\"colorbar\":{\"title\":\"\"},\"yaxis\":\"y1\",\"text\":[null,null],\"x\":[0,136.0],\"showlegend\":true,\"mode\":\"lines\",\"name\":\"y13\",\"zmin\":-0.1,\"legendgroup\":\"y13\",\"zmax\":0.1,\"line\":{\"color\":\"rgba(0, 0, 0, 1.000)\",\"shape\":\"linear\",\"dash\":\"solid\",\"width\":1},\"y\":[0,-0.0],\"type\":\"scatter\",\"hoverinfo\":\"text\"},{\"xaxis\":\"x1\",\"colorbar\":{\"title\":\"\"},\"yaxis\":\"y1\",\"text\":[null,null],\"x\":[-26.5,-14.5],\"showlegend\":true,\"mode\":\"lines\",\"name\":\"y14\",\"zmin\":-0.1,\"legendgroup\":\"y14\",\"zmax\":0.1,\"line\":{\"color\":\"rgba(0, 0, 0, 1.000)\",\"shape\":\"linear\",\"dash\":\"solid\",\"width\":1},\"y\":[-45.89935,-25.11474],\"type\":\"scatter\",\"hoverinfo\":\"text\"},{\"xaxis\":\"x1\",\"colorbar\":{\"title\":\"\"},\"yaxis\":\"y1\",\"text\":[null],\"x\":[-26.5],\"showlegend\":true,\"mode\":\"markers\",\"name\":\"y15\",\"zmin\":-0.1,\"legendgroup\":\"y15\",\"marker\":{\"symbol\":\"circle\",\"color\":\"rgba(0, 154, 250, 1.000)\",\"line\":{\"color\":\"rgba(0, 0, 0, 1.000)\",\"width\":1},\"size\":2},\"zmax\":0.1,\"y\":[-45.89935],\"type\":\"scatter\",\"hoverinfo\":\"text\"}], {\"showlegend\":false,\"xaxis\":{\"showticklabels\":false,\"gridwidth\":0.5,\"tickvals\":[-25.0,0.0,25.0,50.0,75.0,100.0,125.0],\"visible\":true,\"ticks\":\"inside\",\"range\":[-39.1,141.1],\"domain\":[0.05100612423447069,0.9934383202099737],\"tickmode\":\"array\",\"linecolor\":\"rgba(0, 0, 0, 1.000)\",\"showgrid\":true,\"title\":\"\",\"mirror\":false,\"tickangle\":0,\"showline\":false,\"gridcolor\":\"rgba(0, 0, 0, 0.100)\",\"titlefont\":{\"color\":\"rgba(0, 0, 0, 1.000)\",\"family\":\"sans-serif\",\"size\":15},\"tickcolor\":\"rgba(0, 0, 0, 0.000)\",\"ticktext\":[\"-25\",\"0\",\"25\",\"50\",\"75\",\"100\",\"125\"],\"zeroline\":false,\"type\":\"-\",\"tickfont\":{\"color\":\"rgba(0, 0, 0, 1.000)\",\"family\":\"sans-serif\",\"size\":11},\"zerolinecolor\":\"rgba(0, 0, 0, 1.000)\",\"anchor\":\"y1\"},\"paper_bgcolor\":\"rgba(255, 255, 255, 1.000)\",\"annotations\":[{\"yanchor\":\"middle\",\"xanchor\":\"left\",\"rotation\":-0.0,\"y\":0,\"font\":{\"color\":\"rgba(0, 0, 0, 1.000)\",\"family\":\"sans-serif\",\"size\":28},\"yref\":\"y\",\"showarrow\":false,\"text\":\"Bear\",\"xref\":\"x\",\"x\":0},{\"yanchor\":\"top\",\"xanchor\":\"center\",\"rotation\":-0.0,\"y\":27.71281,\"font\":{\"color\":\"rgba(0, 0, 0, 1.000)\",\"family\":\"sans-serif\",\"size\":28},\"yref\":\"y\",\"showarrow\":false,\"text\":\"Dog\",\"xref\":\"x\",\"x\":16.0},{\"yanchor\":\"top\",\"xanchor\":\"center\",\"rotation\":-0.0,\"y\":22.51666,\"font\":{\"color\":\"rgba(0, 0, 0, 1.000)\",\"family\":\"sans-serif\",\"size\":28},\"yref\":\"y\",\"showarrow\":false,\"text\":\"Racoon\",\"xref\":\"x\",\"x\":-13.0},{\"yanchor\":\"middle\",\"xanchor\":\"left\",\"rotation\":-0.0,\"y\":0.0,\"font\":{\"color\":\"rgba(0, 0, 0, 1.000)\",\"family\":\"sans-serif\",\"size\":28},\"yref\":\"y\",\"showarrow\":false,\"text\":\"Weasel\",\"xref\":\"x\",\"x\":-34.0},{\"yanchor\":\"bottom\",\"xanchor\":\"center\",\"rotation\":-0.0,\"y\":-25.11474,\"font\":{\"color\":\"rgba(0, 0, 0, 1.000)\",\"family\":\"sans-serif\",\"size\":28},\"yref\":\"y\",\"showarrow\":false,\"text\":\"Seal\",\"xref\":\"x\",\"x\":-14.5},{\"yanchor\":\"middle\",\"xanchor\":\"left\",\"rotation\":-0.0,\"y\":-72.74613,\"font\":{\"color\":\"rgba(0, 0, 0, 1.000)\",\"family\":\"sans-serif\",\"size\":28},\"yref\":\"y\",\"showarrow\":false,\"text\":\"Cat\",\"xref\":\"x\",\"x\":42.0},{\"yanchor\":\"middle\",\"xanchor\":\"right\",\"rotation\":-0.0,\"y\":-0.0,\"font\":{\"color\":\"rgba(0, 0, 0, 1.000)\",\"family\":\"sans-serif\",\"size\":28},\"yref\":\"y\",\"showarrow\":false,\"text\":\"Monkey\",\"xref\":\"x\",\"x\":136.0},{\"yanchor\":\"top\",\"xanchor\":\"center\",\"rotation\":-0.0,\"y\":-45.89935,\"font\":{\"color\":\"rgba(0, 0, 0, 1.000)\",\"family\":\"sans-serif\",\"size\":28},\"yref\":\"y\",\"showarrow\":false,\"text\":\"Sea Lion\",\"xref\":\"x\",\"x\":-26.5}],\"height\":400,\"margin\":{\"l\":0,\"b\":20,\"r\":0,\"t\":20},\"plot_bgcolor\":\"rgba(255, 255, 255, 1.000)\",\"yaxis\":{\"showticklabels\":false,\"gridwidth\":0.5,\"tickvals\":[-60.0,-40.0,-20.0,0.0,20.0],\"visible\":true,\"ticks\":\"inside\",\"range\":[-75.7598982,30.726578200000002],\"domain\":[0.03762029746281716,0.9901574803149606],\"tickmode\":\"array\",\"linecolor\":\"rgba(0, 0, 0, 1.000)\",\"showgrid\":true,\"title\":\"\",\"mirror\":false,\"tickangle\":0,\"showline\":false,\"gridcolor\":\"rgba(0, 0, 0, 0.100)\",\"titlefont\":{\"color\":\"rgba(0, 0, 0, 1.000)\",\"family\":\"sans-serif\",\"size\":15},\"tickcolor\":\"rgba(0, 0, 0, 0.000)\",\"ticktext\":[\"-60\",\"-40\",\"-20\",\"0\",\"20\"],\"zeroline\":false,\"type\":\"-\",\"tickfont\":{\"color\":\"rgba(0, 0, 0, 1.000)\",\"family\":\"sans-serif\",\"size\":11},\"zerolinecolor\":\"rgba(0, 0, 0, 1.000)\",\"anchor\":\"x1\"},\"width\":600});\n",
       "    </script>\n"
      ]
     },
     "execution_count": 165,
     "metadata": {},
     "output_type": "execute_result"
    }
   ],
   "source": [
    "plot!(legend=:false,axis=:false)"
   ]
  },
  {
   "cell_type": "code",
   "execution_count": 137,
   "metadata": {},
   "outputs": [
    {
     "ename": "UndefVarError",
     "evalue": "UndefVarError: W4 not defined",
     "output_type": "error",
     "traceback": [
      "UndefVarError: W4 not defined",
      "",
      "Stacktrace:",
      " [1] top-level scope at In[137]:1"
     ]
    }
   ],
   "source": [
    "Visualize.visualize(T,W = W4, labels = [\"dog\",\"bear\",\"racoon\", \"weasel\",\"seal\",\"sea lion\",\"cat\",\"monkey     \",\n",
    "        \"\",\"\",\"\",\"\",\"\",\"\",\"\"])"
   ]
  },
  {
   "cell_type": "code",
   "execution_count": 12,
   "metadata": {},
   "outputs": [
    {
     "data": {
      "text/html": [
       "    <script type=\"text/javascript\">\n",
       "        requirejs([\"https://cdn.plot.ly/plotly-latest.min.js\"], function(p) {\n",
       "            window.Plotly = p\n",
       "        });\n",
       "    </script>\n"
      ]
     },
     "metadata": {},
     "output_type": "display_data"
    },
    {
     "data": {
      "application/vnd.plotly.v1+json": {
       "data": [
        {
         "colorbar": {
          "title": ""
         },
         "hoverinfo": "text",
         "legendgroup": "y1",
         "marker": {
          "color": "rgba(237, 94, 147, 1.000)",
          "line": {
           "color": "rgba(0, 0, 0, 1.000)",
           "width": 1
          },
          "size": 2,
          "symbol": "circle"
         },
         "mode": "markers",
         "name": "y1",
         "showlegend": true,
         "text": [
          null
         ],
         "type": "scatter",
         "x": [
          0
         ],
         "xaxis": "x1",
         "y": [
          0
         ],
         "yaxis": "y1",
         "zmax": 0.1,
         "zmin": -0.1
        },
        {
         "colorbar": {
          "title": ""
         },
         "hoverinfo": "text",
         "legendgroup": "y2",
         "marker": {
          "color": "rgba(0, 154, 250, 1.000)",
          "line": {
           "color": "rgba(0, 0, 0, 1.000)",
           "width": 1
          },
          "size": 2,
          "symbol": "circle"
         },
         "mode": "markers",
         "name": "y2",
         "showlegend": true,
         "text": [
          null
         ],
         "type": "scatter",
         "x": [
          30.28367
         ],
         "xaxis": "x1",
         "y": [
          93.20354
         ],
         "yaxis": "y1",
         "zmax": 0.1,
         "zmin": -0.1
        },
        {
         "colorbar": {
          "title": ""
         },
         "hoverinfo": "text",
         "legendgroup": "y3",
         "line": {
          "color": "rgba(0, 0, 0, 1.000)",
          "dash": "solid",
          "shape": "linear",
          "width": 1
         },
         "mode": "lines",
         "name": "y3",
         "showlegend": true,
         "text": [
          null,
          null
         ],
         "type": "scatter",
         "x": [
          0,
          30.28367
         ],
         "xaxis": "x1",
         "y": [
          0,
          93.20354
         ],
         "yaxis": "y1",
         "zmax": 0.1,
         "zmin": -0.1
        },
        {
         "colorbar": {
          "title": ""
         },
         "hoverinfo": "text",
         "legendgroup": "y4",
         "marker": {
          "color": "rgba(0, 154, 250, 1.000)",
          "line": {
           "color": "rgba(0, 0, 0, 1.000)",
           "width": 1
          },
          "size": 2,
          "symbol": "circle"
         },
         "mode": "markers",
         "name": "y4",
         "showlegend": true,
         "text": [
          null
         ],
         "type": "scatter",
         "x": [
          -60.67627
         ],
         "xaxis": "x1",
         "y": [
          44.08389
         ],
         "yaxis": "y1",
         "zmax": 0.1,
         "zmin": -0.1
        },
        {
         "colorbar": {
          "title": ""
         },
         "hoverinfo": "text",
         "legendgroup": "y5",
         "line": {
          "color": "rgba(0, 0, 0, 1.000)",
          "dash": "solid",
          "shape": "linear",
          "width": 1
         },
         "mode": "lines",
         "name": "y5",
         "showlegend": true,
         "text": [
          null,
          null
         ],
         "type": "scatter",
         "x": [
          0,
          -60.67627
         ],
         "xaxis": "x1",
         "y": [
          0,
          44.08389
         ],
         "yaxis": "y1",
         "zmax": 0.1,
         "zmin": -0.1
        },
        {
         "colorbar": {
          "title": ""
         },
         "hoverinfo": "text",
         "legendgroup": "y6",
         "marker": {
          "color": "rgba(0, 154, 250, 1.000)",
          "line": {
           "color": "rgba(0, 0, 0, 1.000)",
           "width": 1
          },
          "size": 2,
          "symbol": "circle"
         },
         "mode": "markers",
         "name": "y6",
         "showlegend": true,
         "text": [
          null
         ],
         "type": "scatter",
         "x": [
          -55.41766
         ],
         "xaxis": "x1",
         "y": [
          -40.26329
         ],
         "yaxis": "y1",
         "zmax": 0.1,
         "zmin": -0.1
        },
        {
         "colorbar": {
          "title": ""
         },
         "hoverinfo": "text",
         "legendgroup": "y7",
         "line": {
          "color": "rgba(0, 0, 0, 1.000)",
          "dash": "solid",
          "shape": "linear",
          "width": 1
         },
         "mode": "lines",
         "name": "y7",
         "showlegend": true,
         "text": [
          null,
          null
         ],
         "type": "scatter",
         "x": [
          0,
          -55.41766
         ],
         "xaxis": "x1",
         "y": [
          0,
          -40.26329
         ],
         "yaxis": "y1",
         "zmax": 0.1,
         "zmin": -0.1
        },
        {
         "colorbar": {
          "title": ""
         },
         "hoverinfo": "text",
         "legendgroup": "y8",
         "marker": {
          "color": "rgba(0, 154, 250, 1.000)",
          "line": {
           "color": "rgba(0, 0, 0, 1.000)",
           "width": 1
          },
          "size": 2,
          "symbol": "circle"
         },
         "mode": "markers",
         "name": "y8",
         "showlegend": true,
         "text": [
          null
         ],
         "type": "scatter",
         "x": [
          20.54963
         ],
         "xaxis": "x1",
         "y": [
          -63.24526
         ],
         "yaxis": "y1",
         "zmax": 0.1,
         "zmin": -0.1
        },
        {
         "colorbar": {
          "title": ""
         },
         "hoverinfo": "text",
         "legendgroup": "y9",
         "line": {
          "color": "rgba(0, 0, 0, 1.000)",
          "dash": "solid",
          "shape": "linear",
          "width": 1
         },
         "mode": "lines",
         "name": "y9",
         "showlegend": true,
         "text": [
          null,
          null
         ],
         "type": "scatter",
         "x": [
          0,
          20.54963
         ],
         "xaxis": "x1",
         "y": [
          0,
          -63.24526
         ],
         "yaxis": "y1",
         "zmax": 0.1,
         "zmin": -0.1
        },
        {
         "colorbar": {
          "title": ""
         },
         "hoverinfo": "text",
         "legendgroup": "y10",
         "marker": {
          "color": "rgba(0, 154, 250, 1.000)",
          "line": {
           "color": "rgba(0, 0, 0, 1.000)",
           "width": 1
          },
          "size": 2,
          "symbol": "circle"
         },
         "mode": "markers",
         "name": "y10",
         "showlegend": true,
         "text": [
          null
         ],
         "type": "scatter",
         "x": [
          49
         ],
         "xaxis": "x1",
         "y": [
          0
         ],
         "yaxis": "y1",
         "zmax": 0.1,
         "zmin": -0.1
        },
        {
         "colorbar": {
          "title": ""
         },
         "hoverinfo": "text",
         "legendgroup": "y11",
         "line": {
          "color": "rgba(0, 0, 0, 1.000)",
          "dash": "solid",
          "shape": "linear",
          "width": 1
         },
         "mode": "lines",
         "name": "y11",
         "showlegend": true,
         "text": [
          null,
          null
         ],
         "type": "scatter",
         "x": [
          0,
          49
         ],
         "xaxis": "x1",
         "y": [
          0,
          0
         ],
         "yaxis": "y1",
         "zmax": 0.1,
         "zmin": -0.1
        },
        {
         "colorbar": {
          "title": ""
         },
         "hoverinfo": "text",
         "legendgroup": "y12",
         "line": {
          "color": "rgba(0, 0, 0, 1.000)",
          "dash": "solid",
          "shape": "linear",
          "width": 1
         },
         "mode": "lines",
         "name": "y12",
         "showlegend": true,
         "text": [
          null,
          null
         ],
         "type": "scatter",
         "x": [
          -67.95742,
          -60.67627
         ],
         "xaxis": "x1",
         "y": [
          49.37396,
          44.08389
         ],
         "yaxis": "y1",
         "zmax": 0.1,
         "zmin": -0.1
        },
        {
         "colorbar": {
          "title": ""
         },
         "hoverinfo": "text",
         "legendgroup": "y13",
         "line": {
          "color": "rgba(0, 0, 0, 1.000)",
          "dash": "solid",
          "shape": "linear",
          "width": 1
         },
         "mode": "lines",
         "name": "y13",
         "showlegend": true,
         "text": [
          null,
          null
         ],
         "type": "scatter",
         "x": [
          -72.0025,
          -67.95742
         ],
         "xaxis": "x1",
         "y": [
          52.31289,
          49.37396
         ],
         "yaxis": "y1",
         "zmax": 0.1,
         "zmin": -0.1
        },
        {
         "colorbar": {
          "title": ""
         },
         "hoverinfo": "text",
         "legendgroup": "y14",
         "line": {
          "color": "rgba(0, 0, 0, 1.000)",
          "dash": "solid",
          "shape": "linear",
          "width": 1
         },
         "mode": "lines",
         "name": "y14",
         "showlegend": true,
         "text": [
          null,
          null
         ],
         "type": "scatter",
         "x": [
          -88.99186,
          -72.0025
         ],
         "xaxis": "x1",
         "y": [
          64.65638,
          52.31289
         ],
         "yaxis": "y1",
         "zmax": 0.1,
         "zmin": -0.1
        },
        {
         "colorbar": {
          "title": ""
         },
         "hoverinfo": "text",
         "legendgroup": "y15",
         "marker": {
          "color": "rgba(0, 154, 250, 1.000)",
          "line": {
           "color": "rgba(0, 0, 0, 1.000)",
           "width": 1
          },
          "size": 2,
          "symbol": "circle"
         },
         "mode": "markers",
         "name": "y15",
         "showlegend": true,
         "text": [
          null
         ],
         "type": "scatter",
         "x": [
          -88.99186
         ],
         "xaxis": "x1",
         "y": [
          64.65638
         ],
         "yaxis": "y1",
         "zmax": 0.1,
         "zmin": -0.1
        },
        {
         "colorbar": {
          "title": ""
         },
         "hoverinfo": "text",
         "legendgroup": "y16",
         "marker": {
          "color": "rgba(0, 154, 250, 1.000)",
          "line": {
           "color": "rgba(0, 0, 0, 1.000)",
           "width": 1
          },
          "size": 2,
          "symbol": "circle"
         },
         "mode": "markers",
         "name": "y16",
         "showlegend": true,
         "text": [
          null
         ],
         "type": "scatter",
         "x": [
          -72.0025
         ],
         "xaxis": "x1",
         "y": [
          52.31289
         ],
         "yaxis": "y1",
         "zmax": 0.1,
         "zmin": -0.1
        },
        {
         "colorbar": {
          "title": ""
         },
         "hoverinfo": "text",
         "legendgroup": "y17",
         "marker": {
          "color": "rgba(0, 154, 250, 1.000)",
          "line": {
           "color": "rgba(0, 0, 0, 1.000)",
           "width": 1
          },
          "size": 2,
          "symbol": "circle"
         },
         "mode": "markers",
         "name": "y17",
         "showlegend": true,
         "text": [
          null
         ],
         "type": "scatter",
         "x": [
          -67.95742
         ],
         "xaxis": "x1",
         "y": [
          49.37396
         ],
         "yaxis": "y1",
         "zmax": 0.1,
         "zmin": -0.1
        },
        {
         "colorbar": {
          "title": ""
         },
         "hoverinfo": "text",
         "legendgroup": "y18",
         "line": {
          "color": "rgba(0, 0, 0, 1.000)",
          "dash": "solid",
          "shape": "linear",
          "width": 1
         },
         "mode": "lines",
         "name": "y18",
         "showlegend": true,
         "text": [
          null,
          null
         ],
         "type": "scatter",
         "x": [
          -72.00251,
          -55.41766
         ],
         "xaxis": "x1",
         "y": [
          -52.31289,
          -40.26329
         ],
         "yaxis": "y1",
         "zmax": 0.1,
         "zmin": -0.1
        },
        {
         "colorbar": {
          "title": ""
         },
         "hoverinfo": "text",
         "legendgroup": "y19",
         "line": {
          "color": "rgba(0, 0, 0, 1.000)",
          "dash": "solid",
          "shape": "linear",
          "width": 1
         },
         "mode": "lines",
         "name": "y19",
         "showlegend": true,
         "text": [
          null,
          null
         ],
         "type": "scatter",
         "x": [
          -82.51973,
          -72.00251
         ],
         "xaxis": "x1",
         "y": [
          -59.9541,
          -52.31289
         ],
         "yaxis": "y1",
         "zmax": 0.1,
         "zmin": -0.1
        },
        {
         "colorbar": {
          "title": ""
         },
         "hoverinfo": "text",
         "legendgroup": "y20",
         "line": {
          "color": "rgba(0, 0, 0, 1.000)",
          "dash": "solid",
          "shape": "linear",
          "width": 1
         },
         "mode": "lines",
         "name": "y20",
         "showlegend": true,
         "text": [
          null,
          null
         ],
         "type": "scatter",
         "x": [
          -91.41892,
          -82.51973
         ],
         "xaxis": "x1",
         "y": [
          -66.41974,
          -59.9541
         ],
         "yaxis": "y1",
         "zmax": 0.1,
         "zmin": -0.1
        },
        {
         "colorbar": {
          "title": ""
         },
         "hoverinfo": "text",
         "legendgroup": "y21",
         "marker": {
          "color": "rgba(0, 154, 250, 1.000)",
          "line": {
           "color": "rgba(0, 0, 0, 1.000)",
           "width": 1
          },
          "size": 2,
          "symbol": "circle"
         },
         "mode": "markers",
         "name": "y21",
         "showlegend": true,
         "text": [
          null
         ],
         "type": "scatter",
         "x": [
          -91.41892
         ],
         "xaxis": "x1",
         "y": [
          -66.41974
         ],
         "yaxis": "y1",
         "zmax": 0.1,
         "zmin": -0.1
        },
        {
         "colorbar": {
          "title": ""
         },
         "hoverinfo": "text",
         "legendgroup": "y22",
         "marker": {
          "color": "rgba(0, 154, 250, 1.000)",
          "line": {
           "color": "rgba(0, 0, 0, 1.000)",
           "width": 1
          },
          "size": 2,
          "symbol": "circle"
         },
         "mode": "markers",
         "name": "y22",
         "showlegend": true,
         "text": [
          null
         ],
         "type": "scatter",
         "x": [
          -82.51973
         ],
         "xaxis": "x1",
         "y": [
          -59.9541
         ],
         "yaxis": "y1",
         "zmax": 0.1,
         "zmin": -0.1
        },
        {
         "colorbar": {
          "title": ""
         },
         "hoverinfo": "text",
         "legendgroup": "y23",
         "marker": {
          "color": "rgba(0, 154, 250, 1.000)",
          "line": {
           "color": "rgba(0, 0, 0, 1.000)",
           "width": 1
          },
          "size": 2,
          "symbol": "circle"
         },
         "mode": "markers",
         "name": "y23",
         "showlegend": true,
         "text": [
          null
         ],
         "type": "scatter",
         "x": [
          -72.00251
         ],
         "xaxis": "x1",
         "y": [
          -52.31289
         ],
         "yaxis": "y1",
         "zmax": 0.1,
         "zmin": -0.1
        },
        {
         "colorbar": {
          "title": ""
         },
         "hoverinfo": "text",
         "legendgroup": "y24",
         "line": {
          "color": "rgba(0, 0, 0, 1.000)",
          "dash": "solid",
          "shape": "linear",
          "width": 1
         },
         "mode": "lines",
         "name": "y24",
         "showlegend": true,
         "text": [
          null,
          null
         ],
         "type": "scatter",
         "x": [
          26.57546,
          20.54963
         ],
         "xaxis": "x1",
         "y": [
          -81.79086,
          -63.24526
         ],
         "yaxis": "y1",
         "zmax": 0.1,
         "zmin": -0.1
        },
        {
         "colorbar": {
          "title": ""
         },
         "hoverinfo": "text",
         "legendgroup": "y25",
         "marker": {
          "color": "rgba(0, 154, 250, 1.000)",
          "line": {
           "color": "rgba(0, 0, 0, 1.000)",
           "width": 1
          },
          "size": 2,
          "symbol": "circle"
         },
         "mode": "markers",
         "name": "y25",
         "showlegend": true,
         "text": [
          null
         ],
         "type": "scatter",
         "x": [
          26.57546
         ],
         "xaxis": "x1",
         "y": [
          -81.79086
         ],
         "yaxis": "y1",
         "zmax": 0.1,
         "zmin": -0.1
        },
        {
         "colorbar": {
          "title": ""
         },
         "hoverinfo": "text",
         "legendgroup": "y26",
         "line": {
          "color": "rgba(0, 0, 0, 1.000)",
          "dash": "solid",
          "shape": "linear",
          "width": 1
         },
         "mode": "lines",
         "name": "y26",
         "showlegend": true,
         "text": [
          null,
          null
         ],
         "type": "scatter",
         "x": [
          148,
          49
         ],
         "xaxis": "x1",
         "y": [
          0,
          0
         ],
         "yaxis": "y1",
         "zmax": 0.1,
         "zmin": -0.1
        },
        {
         "colorbar": {
          "title": ""
         },
         "hoverinfo": "text",
         "legendgroup": "y27",
         "marker": {
          "color": "rgba(0, 154, 250, 1.000)",
          "line": {
           "color": "rgba(0, 0, 0, 1.000)",
           "width": 1
          },
          "size": 2,
          "symbol": "circle"
         },
         "mode": "markers",
         "name": "y27",
         "showlegend": true,
         "text": [
          null
         ],
         "type": "scatter",
         "x": [
          148
         ],
         "xaxis": "x1",
         "y": [
          0
         ],
         "yaxis": "y1",
         "zmax": 0.1,
         "zmin": -0.1
        }
       ],
       "layout": {
        "annotations": [
         {
          "font": {
           "color": "rgba(0, 0, 0, 1.000)",
           "family": "sans-serif",
           "size": 20
          },
          "rotation": 0,
          "showarrow": false,
          "text": "cat",
          "x": 0,
          "xanchor": "center",
          "xref": "x",
          "y": 0,
          "yanchor": "middle",
          "yref": "y"
         },
         {
          "font": {
           "color": "rgba(0, 0, 0, 1.000)",
           "family": "sans-serif",
           "size": 20
          },
          "rotation": 0,
          "showarrow": false,
          "text": "dog",
          "x": 30.28367,
          "xanchor": "center",
          "xref": "x",
          "y": 93.20354,
          "yanchor": "middle",
          "yref": "y"
         },
         {
          "font": {
           "color": "rgba(0, 0, 0, 1.000)",
           "family": "sans-serif",
           "size": 20
          },
          "rotation": 0,
          "showarrow": false,
          "text": "",
          "x": -60.67627,
          "xanchor": "center",
          "xref": "x",
          "y": 44.08389,
          "yanchor": "middle",
          "yref": "y"
         },
         {
          "font": {
           "color": "rgba(0, 0, 0, 1.000)",
           "family": "sans-serif",
           "size": 20
          },
          "rotation": 0,
          "showarrow": false,
          "text": "",
          "x": -55.41766,
          "xanchor": "center",
          "xref": "x",
          "y": -40.26329,
          "yanchor": "middle",
          "yref": "y"
         },
         {
          "font": {
           "color": "rgba(0, 0, 0, 1.000)",
           "family": "sans-serif",
           "size": 20
          },
          "rotation": 0,
          "showarrow": false,
          "text": "",
          "x": 20.54963,
          "xanchor": "center",
          "xref": "x",
          "y": -63.24526,
          "yanchor": "middle",
          "yref": "y"
         },
         {
          "font": {
           "color": "rgba(0, 0, 0, 1.000)",
           "family": "sans-serif",
           "size": 20
          },
          "rotation": 0,
          "showarrow": false,
          "text": "",
          "x": 49,
          "xanchor": "center",
          "xref": "x",
          "y": 0,
          "yanchor": "middle",
          "yref": "y"
         },
         {
          "font": {
           "color": "rgba(0, 0, 0, 1.000)",
           "family": "sans-serif",
           "size": 20
          },
          "rotation": 0,
          "showarrow": false,
          "text": "racoon",
          "x": -88.99186,
          "xanchor": "center",
          "xref": "x",
          "y": 64.65638,
          "yanchor": "middle",
          "yref": "y"
         },
         {
          "font": {
           "color": "rgba(0, 0, 0, 1.000)",
           "family": "sans-serif",
           "size": 20
          },
          "rotation": 0,
          "showarrow": false,
          "text": "",
          "x": -72.0025,
          "xanchor": "center",
          "xref": "x",
          "y": 52.31289,
          "yanchor": "middle",
          "yref": "y"
         },
         {
          "font": {
           "color": "rgba(0, 0, 0, 1.000)",
           "family": "sans-serif",
           "size": 20
          },
          "rotation": 0,
          "showarrow": false,
          "text": "bear",
          "x": -67.95742,
          "xanchor": "center",
          "xref": "x",
          "y": 49.37396,
          "yanchor": "middle",
          "yref": "y"
         },
         {
          "font": {
           "color": "rgba(0, 0, 0, 1.000)",
           "family": "sans-serif",
           "size": 20
          },
          "rotation": 0,
          "showarrow": false,
          "text": "sea lion",
          "x": -91.41892,
          "xanchor": "center",
          "xref": "x",
          "y": -66.41974,
          "yanchor": "middle",
          "yref": "y"
         },
         {
          "font": {
           "color": "rgba(0, 0, 0, 1.000)",
           "family": "sans-serif",
           "size": 20
          },
          "rotation": 0,
          "showarrow": false,
          "text": "",
          "x": -82.51973,
          "xanchor": "center",
          "xref": "x",
          "y": -59.9541,
          "yanchor": "middle",
          "yref": "y"
         },
         {
          "font": {
           "color": "rgba(0, 0, 0, 1.000)",
           "family": "sans-serif",
           "size": 20
          },
          "rotation": 0,
          "showarrow": false,
          "text": "seal",
          "x": -72.00251,
          "xanchor": "center",
          "xref": "x",
          "y": -52.31289,
          "yanchor": "middle",
          "yref": "y"
         },
         {
          "font": {
           "color": "rgba(0, 0, 0, 1.000)",
           "family": "sans-serif",
           "size": 20
          },
          "rotation": 0,
          "showarrow": false,
          "text": "weasel",
          "x": 26.57546,
          "xanchor": "center",
          "xref": "x",
          "y": -81.79086,
          "yanchor": "middle",
          "yref": "y"
         },
         {
          "font": {
           "color": "rgba(0, 0, 0, 1.000)",
           "family": "sans-serif",
           "size": 20
          },
          "rotation": 0,
          "showarrow": false,
          "text": "monkey     ",
          "x": 148,
          "xanchor": "center",
          "xref": "x",
          "y": 0,
          "yanchor": "middle",
          "yref": "y"
         }
        ],
        "height": 400,
        "margin": {
         "b": 20,
         "l": 0,
         "r": 0,
         "t": 20
        },
        "paper_bgcolor": "rgba(255, 255, 255, 1.000)",
        "plot_bgcolor": "rgba(255, 255, 255, 1.000)",
        "showlegend": false,
        "width": 600,
        "xaxis": {
         "anchor": "y1",
         "domain": [
          0.05100612423447069,
          0.9934383202099737
         ],
         "gridcolor": "rgba(0, 0, 0, 0.100)",
         "gridwidth": 0.5,
         "linecolor": "rgba(0, 0, 0, 1.000)",
         "mirror": false,
         "range": [
          -98.6014876,
          155.1825676
         ],
         "showgrid": true,
         "showline": true,
         "showticklabels": true,
         "tickangle": 0,
         "tickcolor": "rgb(0, 0, 0)",
         "tickfont": {
          "color": "rgba(0, 0, 0, 1.000)",
          "family": "sans-serif",
          "size": 11
         },
         "tickmode": "array",
         "ticks": "inside",
         "ticktext": [
          "-50",
          "0",
          "50",
          "100",
          "150"
         ],
         "tickvals": [
          -50,
          0,
          50,
          100,
          150
         ],
         "title": "",
         "titlefont": {
          "color": "rgba(0, 0, 0, 1.000)",
          "family": "sans-serif",
          "size": 15
         },
         "type": "-",
         "visible": true,
         "zeroline": false,
         "zerolinecolor": "rgba(0, 0, 0, 1.000)"
        },
        "yaxis": {
         "anchor": "x1",
         "domain": [
          0.03762029746281716,
          0.9901574803149606
         ],
         "gridcolor": "rgba(0, 0, 0, 0.100)",
         "gridwidth": 0.5,
         "linecolor": "rgba(0, 0, 0, 1.000)",
         "mirror": false,
         "range": [
          -87.04069199999999,
          98.453372
         ],
         "showgrid": true,
         "showline": true,
         "showticklabels": true,
         "tickangle": 0,
         "tickcolor": "rgb(0, 0, 0)",
         "tickfont": {
          "color": "rgba(0, 0, 0, 1.000)",
          "family": "sans-serif",
          "size": 11
         },
         "tickmode": "array",
         "ticks": "inside",
         "ticktext": [
          "-75",
          "-50",
          "-25",
          "0",
          "25",
          "50",
          "75"
         ],
         "tickvals": [
          -75,
          -50,
          -25,
          0,
          25,
          50,
          75
         ],
         "title": "",
         "titlefont": {
          "color": "rgba(0, 0, 0, 1.000)",
          "family": "sans-serif",
          "size": 15
         },
         "type": "-",
         "visible": true,
         "zeroline": false,
         "zerolinecolor": "rgba(0, 0, 0, 1.000)"
        }
       }
      },
      "text/html": [
       "    <div id=\"91c260c2-ecf9-48c1-a485-e1f47f5ba0b6\" style=\"width:600px;height:400px;\"></div>\n",
       "    <script>\n",
       "    PLOT = document.getElementById('91c260c2-ecf9-48c1-a485-e1f47f5ba0b6');\n",
       "    Plotly.plot(PLOT, [{\"xaxis\":\"x1\",\"colorbar\":{\"title\":\"\"},\"yaxis\":\"y1\",\"text\":[null],\"x\":[0],\"showlegend\":true,\"mode\":\"markers\",\"name\":\"y1\",\"zmin\":-0.1,\"legendgroup\":\"y1\",\"marker\":{\"symbol\":\"circle\",\"color\":\"rgba(237, 94, 147, 1.000)\",\"line\":{\"color\":\"rgba(0, 0, 0, 1.000)\",\"width\":1},\"size\":2},\"zmax\":0.1,\"y\":[0],\"type\":\"scatter\",\"hoverinfo\":\"text\"},{\"xaxis\":\"x1\",\"colorbar\":{\"title\":\"\"},\"yaxis\":\"y1\",\"text\":[null],\"x\":[30.28367],\"showlegend\":true,\"mode\":\"markers\",\"name\":\"y2\",\"zmin\":-0.1,\"legendgroup\":\"y2\",\"marker\":{\"symbol\":\"circle\",\"color\":\"rgba(0, 154, 250, 1.000)\",\"line\":{\"color\":\"rgba(0, 0, 0, 1.000)\",\"width\":1},\"size\":2},\"zmax\":0.1,\"y\":[93.20354],\"type\":\"scatter\",\"hoverinfo\":\"text\"},{\"xaxis\":\"x1\",\"colorbar\":{\"title\":\"\"},\"yaxis\":\"y1\",\"text\":[null,null],\"x\":[0,30.28367],\"showlegend\":true,\"mode\":\"lines\",\"name\":\"y3\",\"zmin\":-0.1,\"legendgroup\":\"y3\",\"zmax\":0.1,\"line\":{\"color\":\"rgba(0, 0, 0, 1.000)\",\"shape\":\"linear\",\"dash\":\"solid\",\"width\":1},\"y\":[0,93.20354],\"type\":\"scatter\",\"hoverinfo\":\"text\"},{\"xaxis\":\"x1\",\"colorbar\":{\"title\":\"\"},\"yaxis\":\"y1\",\"text\":[null],\"x\":[-60.67627],\"showlegend\":true,\"mode\":\"markers\",\"name\":\"y4\",\"zmin\":-0.1,\"legendgroup\":\"y4\",\"marker\":{\"symbol\":\"circle\",\"color\":\"rgba(0, 154, 250, 1.000)\",\"line\":{\"color\":\"rgba(0, 0, 0, 1.000)\",\"width\":1},\"size\":2},\"zmax\":0.1,\"y\":[44.08389],\"type\":\"scatter\",\"hoverinfo\":\"text\"},{\"xaxis\":\"x1\",\"colorbar\":{\"title\":\"\"},\"yaxis\":\"y1\",\"text\":[null,null],\"x\":[0,-60.67627],\"showlegend\":true,\"mode\":\"lines\",\"name\":\"y5\",\"zmin\":-0.1,\"legendgroup\":\"y5\",\"zmax\":0.1,\"line\":{\"color\":\"rgba(0, 0, 0, 1.000)\",\"shape\":\"linear\",\"dash\":\"solid\",\"width\":1},\"y\":[0,44.08389],\"type\":\"scatter\",\"hoverinfo\":\"text\"},{\"xaxis\":\"x1\",\"colorbar\":{\"title\":\"\"},\"yaxis\":\"y1\",\"text\":[null],\"x\":[-55.41766],\"showlegend\":true,\"mode\":\"markers\",\"name\":\"y6\",\"zmin\":-0.1,\"legendgroup\":\"y6\",\"marker\":{\"symbol\":\"circle\",\"color\":\"rgba(0, 154, 250, 1.000)\",\"line\":{\"color\":\"rgba(0, 0, 0, 1.000)\",\"width\":1},\"size\":2},\"zmax\":0.1,\"y\":[-40.26329],\"type\":\"scatter\",\"hoverinfo\":\"text\"},{\"xaxis\":\"x1\",\"colorbar\":{\"title\":\"\"},\"yaxis\":\"y1\",\"text\":[null,null],\"x\":[0,-55.41766],\"showlegend\":true,\"mode\":\"lines\",\"name\":\"y7\",\"zmin\":-0.1,\"legendgroup\":\"y7\",\"zmax\":0.1,\"line\":{\"color\":\"rgba(0, 0, 0, 1.000)\",\"shape\":\"linear\",\"dash\":\"solid\",\"width\":1},\"y\":[0,-40.26329],\"type\":\"scatter\",\"hoverinfo\":\"text\"},{\"xaxis\":\"x1\",\"colorbar\":{\"title\":\"\"},\"yaxis\":\"y1\",\"text\":[null],\"x\":[20.54963],\"showlegend\":true,\"mode\":\"markers\",\"name\":\"y8\",\"zmin\":-0.1,\"legendgroup\":\"y8\",\"marker\":{\"symbol\":\"circle\",\"color\":\"rgba(0, 154, 250, 1.000)\",\"line\":{\"color\":\"rgba(0, 0, 0, 1.000)\",\"width\":1},\"size\":2},\"zmax\":0.1,\"y\":[-63.24526],\"type\":\"scatter\",\"hoverinfo\":\"text\"},{\"xaxis\":\"x1\",\"colorbar\":{\"title\":\"\"},\"yaxis\":\"y1\",\"text\":[null,null],\"x\":[0,20.54963],\"showlegend\":true,\"mode\":\"lines\",\"name\":\"y9\",\"zmin\":-0.1,\"legendgroup\":\"y9\",\"zmax\":0.1,\"line\":{\"color\":\"rgba(0, 0, 0, 1.000)\",\"shape\":\"linear\",\"dash\":\"solid\",\"width\":1},\"y\":[0,-63.24526],\"type\":\"scatter\",\"hoverinfo\":\"text\"},{\"xaxis\":\"x1\",\"colorbar\":{\"title\":\"\"},\"yaxis\":\"y1\",\"text\":[null],\"x\":[49.0],\"showlegend\":true,\"mode\":\"markers\",\"name\":\"y10\",\"zmin\":-0.1,\"legendgroup\":\"y10\",\"marker\":{\"symbol\":\"circle\",\"color\":\"rgba(0, 154, 250, 1.000)\",\"line\":{\"color\":\"rgba(0, 0, 0, 1.000)\",\"width\":1},\"size\":2},\"zmax\":0.1,\"y\":[-0.0],\"type\":\"scatter\",\"hoverinfo\":\"text\"},{\"xaxis\":\"x1\",\"colorbar\":{\"title\":\"\"},\"yaxis\":\"y1\",\"text\":[null,null],\"x\":[0,49.0],\"showlegend\":true,\"mode\":\"lines\",\"name\":\"y11\",\"zmin\":-0.1,\"legendgroup\":\"y11\",\"zmax\":0.1,\"line\":{\"color\":\"rgba(0, 0, 0, 1.000)\",\"shape\":\"linear\",\"dash\":\"solid\",\"width\":1},\"y\":[0,-0.0],\"type\":\"scatter\",\"hoverinfo\":\"text\"},{\"xaxis\":\"x1\",\"colorbar\":{\"title\":\"\"},\"yaxis\":\"y1\",\"text\":[null,null],\"x\":[-67.95742,-60.67627],\"showlegend\":true,\"mode\":\"lines\",\"name\":\"y12\",\"zmin\":-0.1,\"legendgroup\":\"y12\",\"zmax\":0.1,\"line\":{\"color\":\"rgba(0, 0, 0, 1.000)\",\"shape\":\"linear\",\"dash\":\"solid\",\"width\":1},\"y\":[49.37396,44.08389],\"type\":\"scatter\",\"hoverinfo\":\"text\"},{\"xaxis\":\"x1\",\"colorbar\":{\"title\":\"\"},\"yaxis\":\"y1\",\"text\":[null,null],\"x\":[-72.0025,-67.95742],\"showlegend\":true,\"mode\":\"lines\",\"name\":\"y13\",\"zmin\":-0.1,\"legendgroup\":\"y13\",\"zmax\":0.1,\"line\":{\"color\":\"rgba(0, 0, 0, 1.000)\",\"shape\":\"linear\",\"dash\":\"solid\",\"width\":1},\"y\":[52.31289,49.37396],\"type\":\"scatter\",\"hoverinfo\":\"text\"},{\"xaxis\":\"x1\",\"colorbar\":{\"title\":\"\"},\"yaxis\":\"y1\",\"text\":[null,null],\"x\":[-88.99186,-72.0025],\"showlegend\":true,\"mode\":\"lines\",\"name\":\"y14\",\"zmin\":-0.1,\"legendgroup\":\"y14\",\"zmax\":0.1,\"line\":{\"color\":\"rgba(0, 0, 0, 1.000)\",\"shape\":\"linear\",\"dash\":\"solid\",\"width\":1},\"y\":[64.65638,52.31289],\"type\":\"scatter\",\"hoverinfo\":\"text\"},{\"xaxis\":\"x1\",\"colorbar\":{\"title\":\"\"},\"yaxis\":\"y1\",\"text\":[null],\"x\":[-88.99186],\"showlegend\":true,\"mode\":\"markers\",\"name\":\"y15\",\"zmin\":-0.1,\"legendgroup\":\"y15\",\"marker\":{\"symbol\":\"circle\",\"color\":\"rgba(0, 154, 250, 1.000)\",\"line\":{\"color\":\"rgba(0, 0, 0, 1.000)\",\"width\":1},\"size\":2},\"zmax\":0.1,\"y\":[64.65638],\"type\":\"scatter\",\"hoverinfo\":\"text\"},{\"xaxis\":\"x1\",\"colorbar\":{\"title\":\"\"},\"yaxis\":\"y1\",\"text\":[null],\"x\":[-72.0025],\"showlegend\":true,\"mode\":\"markers\",\"name\":\"y16\",\"zmin\":-0.1,\"legendgroup\":\"y16\",\"marker\":{\"symbol\":\"circle\",\"color\":\"rgba(0, 154, 250, 1.000)\",\"line\":{\"color\":\"rgba(0, 0, 0, 1.000)\",\"width\":1},\"size\":2},\"zmax\":0.1,\"y\":[52.31289],\"type\":\"scatter\",\"hoverinfo\":\"text\"},{\"xaxis\":\"x1\",\"colorbar\":{\"title\":\"\"},\"yaxis\":\"y1\",\"text\":[null],\"x\":[-67.95742],\"showlegend\":true,\"mode\":\"markers\",\"name\":\"y17\",\"zmin\":-0.1,\"legendgroup\":\"y17\",\"marker\":{\"symbol\":\"circle\",\"color\":\"rgba(0, 154, 250, 1.000)\",\"line\":{\"color\":\"rgba(0, 0, 0, 1.000)\",\"width\":1},\"size\":2},\"zmax\":0.1,\"y\":[49.37396],\"type\":\"scatter\",\"hoverinfo\":\"text\"},{\"xaxis\":\"x1\",\"colorbar\":{\"title\":\"\"},\"yaxis\":\"y1\",\"text\":[null,null],\"x\":[-72.00251,-55.41766],\"showlegend\":true,\"mode\":\"lines\",\"name\":\"y18\",\"zmin\":-0.1,\"legendgroup\":\"y18\",\"zmax\":0.1,\"line\":{\"color\":\"rgba(0, 0, 0, 1.000)\",\"shape\":\"linear\",\"dash\":\"solid\",\"width\":1},\"y\":[-52.31289,-40.26329],\"type\":\"scatter\",\"hoverinfo\":\"text\"},{\"xaxis\":\"x1\",\"colorbar\":{\"title\":\"\"},\"yaxis\":\"y1\",\"text\":[null,null],\"x\":[-82.51973,-72.00251],\"showlegend\":true,\"mode\":\"lines\",\"name\":\"y19\",\"zmin\":-0.1,\"legendgroup\":\"y19\",\"zmax\":0.1,\"line\":{\"color\":\"rgba(0, 0, 0, 1.000)\",\"shape\":\"linear\",\"dash\":\"solid\",\"width\":1},\"y\":[-59.9541,-52.31289],\"type\":\"scatter\",\"hoverinfo\":\"text\"},{\"xaxis\":\"x1\",\"colorbar\":{\"title\":\"\"},\"yaxis\":\"y1\",\"text\":[null,null],\"x\":[-91.41892,-82.51973],\"showlegend\":true,\"mode\":\"lines\",\"name\":\"y20\",\"zmin\":-0.1,\"legendgroup\":\"y20\",\"zmax\":0.1,\"line\":{\"color\":\"rgba(0, 0, 0, 1.000)\",\"shape\":\"linear\",\"dash\":\"solid\",\"width\":1},\"y\":[-66.41974,-59.9541],\"type\":\"scatter\",\"hoverinfo\":\"text\"},{\"xaxis\":\"x1\",\"colorbar\":{\"title\":\"\"},\"yaxis\":\"y1\",\"text\":[null],\"x\":[-91.41892],\"showlegend\":true,\"mode\":\"markers\",\"name\":\"y21\",\"zmin\":-0.1,\"legendgroup\":\"y21\",\"marker\":{\"symbol\":\"circle\",\"color\":\"rgba(0, 154, 250, 1.000)\",\"line\":{\"color\":\"rgba(0, 0, 0, 1.000)\",\"width\":1},\"size\":2},\"zmax\":0.1,\"y\":[-66.41974],\"type\":\"scatter\",\"hoverinfo\":\"text\"},{\"xaxis\":\"x1\",\"colorbar\":{\"title\":\"\"},\"yaxis\":\"y1\",\"text\":[null],\"x\":[-82.51973],\"showlegend\":true,\"mode\":\"markers\",\"name\":\"y22\",\"zmin\":-0.1,\"legendgroup\":\"y22\",\"marker\":{\"symbol\":\"circle\",\"color\":\"rgba(0, 154, 250, 1.000)\",\"line\":{\"color\":\"rgba(0, 0, 0, 1.000)\",\"width\":1},\"size\":2},\"zmax\":0.1,\"y\":[-59.9541],\"type\":\"scatter\",\"hoverinfo\":\"text\"},{\"xaxis\":\"x1\",\"colorbar\":{\"title\":\"\"},\"yaxis\":\"y1\",\"text\":[null],\"x\":[-72.00251],\"showlegend\":true,\"mode\":\"markers\",\"name\":\"y23\",\"zmin\":-0.1,\"legendgroup\":\"y23\",\"marker\":{\"symbol\":\"circle\",\"color\":\"rgba(0, 154, 250, 1.000)\",\"line\":{\"color\":\"rgba(0, 0, 0, 1.000)\",\"width\":1},\"size\":2},\"zmax\":0.1,\"y\":[-52.31289],\"type\":\"scatter\",\"hoverinfo\":\"text\"},{\"xaxis\":\"x1\",\"colorbar\":{\"title\":\"\"},\"yaxis\":\"y1\",\"text\":[null,null],\"x\":[26.57546,20.54963],\"showlegend\":true,\"mode\":\"lines\",\"name\":\"y24\",\"zmin\":-0.1,\"legendgroup\":\"y24\",\"zmax\":0.1,\"line\":{\"color\":\"rgba(0, 0, 0, 1.000)\",\"shape\":\"linear\",\"dash\":\"solid\",\"width\":1},\"y\":[-81.79086,-63.24526],\"type\":\"scatter\",\"hoverinfo\":\"text\"},{\"xaxis\":\"x1\",\"colorbar\":{\"title\":\"\"},\"yaxis\":\"y1\",\"text\":[null],\"x\":[26.57546],\"showlegend\":true,\"mode\":\"markers\",\"name\":\"y25\",\"zmin\":-0.1,\"legendgroup\":\"y25\",\"marker\":{\"symbol\":\"circle\",\"color\":\"rgba(0, 154, 250, 1.000)\",\"line\":{\"color\":\"rgba(0, 0, 0, 1.000)\",\"width\":1},\"size\":2},\"zmax\":0.1,\"y\":[-81.79086],\"type\":\"scatter\",\"hoverinfo\":\"text\"},{\"xaxis\":\"x1\",\"colorbar\":{\"title\":\"\"},\"yaxis\":\"y1\",\"text\":[null,null],\"x\":[148.0,49.0],\"showlegend\":true,\"mode\":\"lines\",\"name\":\"y26\",\"zmin\":-0.1,\"legendgroup\":\"y26\",\"zmax\":0.1,\"line\":{\"color\":\"rgba(0, 0, 0, 1.000)\",\"shape\":\"linear\",\"dash\":\"solid\",\"width\":1},\"y\":[-0.0,-0.0],\"type\":\"scatter\",\"hoverinfo\":\"text\"},{\"xaxis\":\"x1\",\"colorbar\":{\"title\":\"\"},\"yaxis\":\"y1\",\"text\":[null],\"x\":[148.0],\"showlegend\":true,\"mode\":\"markers\",\"name\":\"y27\",\"zmin\":-0.1,\"legendgroup\":\"y27\",\"marker\":{\"symbol\":\"circle\",\"color\":\"rgba(0, 154, 250, 1.000)\",\"line\":{\"color\":\"rgba(0, 0, 0, 1.000)\",\"width\":1},\"size\":2},\"zmax\":0.1,\"y\":[-0.0],\"type\":\"scatter\",\"hoverinfo\":\"text\"}], {\"showlegend\":false,\"xaxis\":{\"showticklabels\":true,\"gridwidth\":0.5,\"tickvals\":[-50.0,0.0,50.0,100.0,150.0],\"visible\":true,\"ticks\":\"inside\",\"range\":[-98.6014876,155.1825676],\"domain\":[0.05100612423447069,0.9934383202099737],\"tickmode\":\"array\",\"linecolor\":\"rgba(0, 0, 0, 1.000)\",\"showgrid\":true,\"title\":\"\",\"mirror\":false,\"tickangle\":0,\"showline\":true,\"gridcolor\":\"rgba(0, 0, 0, 0.100)\",\"titlefont\":{\"color\":\"rgba(0, 0, 0, 1.000)\",\"family\":\"sans-serif\",\"size\":15},\"tickcolor\":\"rgb(0, 0, 0)\",\"ticktext\":[\"-50\",\"0\",\"50\",\"100\",\"150\"],\"zeroline\":false,\"type\":\"-\",\"tickfont\":{\"color\":\"rgba(0, 0, 0, 1.000)\",\"family\":\"sans-serif\",\"size\":11},\"zerolinecolor\":\"rgba(0, 0, 0, 1.000)\",\"anchor\":\"y1\"},\"paper_bgcolor\":\"rgba(255, 255, 255, 1.000)\",\"annotations\":[{\"yanchor\":\"middle\",\"xanchor\":\"center\",\"rotation\":-0.0,\"y\":0,\"font\":{\"color\":\"rgba(0, 0, 0, 1.000)\",\"family\":\"sans-serif\",\"size\":20},\"yref\":\"y\",\"showarrow\":false,\"text\":\"cat\",\"xref\":\"x\",\"x\":0},{\"yanchor\":\"middle\",\"xanchor\":\"center\",\"rotation\":-0.0,\"y\":93.20354,\"font\":{\"color\":\"rgba(0, 0, 0, 1.000)\",\"family\":\"sans-serif\",\"size\":20},\"yref\":\"y\",\"showarrow\":false,\"text\":\"dog\",\"xref\":\"x\",\"x\":30.28367},{\"yanchor\":\"middle\",\"xanchor\":\"center\",\"rotation\":-0.0,\"y\":44.08389,\"font\":{\"color\":\"rgba(0, 0, 0, 1.000)\",\"family\":\"sans-serif\",\"size\":20},\"yref\":\"y\",\"showarrow\":false,\"text\":\"\",\"xref\":\"x\",\"x\":-60.67627},{\"yanchor\":\"middle\",\"xanchor\":\"center\",\"rotation\":-0.0,\"y\":-40.26329,\"font\":{\"color\":\"rgba(0, 0, 0, 1.000)\",\"family\":\"sans-serif\",\"size\":20},\"yref\":\"y\",\"showarrow\":false,\"text\":\"\",\"xref\":\"x\",\"x\":-55.41766},{\"yanchor\":\"middle\",\"xanchor\":\"center\",\"rotation\":-0.0,\"y\":-63.24526,\"font\":{\"color\":\"rgba(0, 0, 0, 1.000)\",\"family\":\"sans-serif\",\"size\":20},\"yref\":\"y\",\"showarrow\":false,\"text\":\"\",\"xref\":\"x\",\"x\":20.54963},{\"yanchor\":\"middle\",\"xanchor\":\"center\",\"rotation\":-0.0,\"y\":-0.0,\"font\":{\"color\":\"rgba(0, 0, 0, 1.000)\",\"family\":\"sans-serif\",\"size\":20},\"yref\":\"y\",\"showarrow\":false,\"text\":\"\",\"xref\":\"x\",\"x\":49.0},{\"yanchor\":\"middle\",\"xanchor\":\"center\",\"rotation\":-0.0,\"y\":64.65638,\"font\":{\"color\":\"rgba(0, 0, 0, 1.000)\",\"family\":\"sans-serif\",\"size\":20},\"yref\":\"y\",\"showarrow\":false,\"text\":\"racoon\",\"xref\":\"x\",\"x\":-88.99186},{\"yanchor\":\"middle\",\"xanchor\":\"center\",\"rotation\":-0.0,\"y\":52.31289,\"font\":{\"color\":\"rgba(0, 0, 0, 1.000)\",\"family\":\"sans-serif\",\"size\":20},\"yref\":\"y\",\"showarrow\":false,\"text\":\"\",\"xref\":\"x\",\"x\":-72.0025},{\"yanchor\":\"middle\",\"xanchor\":\"center\",\"rotation\":-0.0,\"y\":49.37396,\"font\":{\"color\":\"rgba(0, 0, 0, 1.000)\",\"family\":\"sans-serif\",\"size\":20},\"yref\":\"y\",\"showarrow\":false,\"text\":\"bear\",\"xref\":\"x\",\"x\":-67.95742},{\"yanchor\":\"middle\",\"xanchor\":\"center\",\"rotation\":-0.0,\"y\":-66.41974,\"font\":{\"color\":\"rgba(0, 0, 0, 1.000)\",\"family\":\"sans-serif\",\"size\":20},\"yref\":\"y\",\"showarrow\":false,\"text\":\"sea lion\",\"xref\":\"x\",\"x\":-91.41892},{\"yanchor\":\"middle\",\"xanchor\":\"center\",\"rotation\":-0.0,\"y\":-59.9541,\"font\":{\"color\":\"rgba(0, 0, 0, 1.000)\",\"family\":\"sans-serif\",\"size\":20},\"yref\":\"y\",\"showarrow\":false,\"text\":\"\",\"xref\":\"x\",\"x\":-82.51973},{\"yanchor\":\"middle\",\"xanchor\":\"center\",\"rotation\":-0.0,\"y\":-52.31289,\"font\":{\"color\":\"rgba(0, 0, 0, 1.000)\",\"family\":\"sans-serif\",\"size\":20},\"yref\":\"y\",\"showarrow\":false,\"text\":\"seal\",\"xref\":\"x\",\"x\":-72.00251},{\"yanchor\":\"middle\",\"xanchor\":\"center\",\"rotation\":-0.0,\"y\":-81.79086,\"font\":{\"color\":\"rgba(0, 0, 0, 1.000)\",\"family\":\"sans-serif\",\"size\":20},\"yref\":\"y\",\"showarrow\":false,\"text\":\"weasel\",\"xref\":\"x\",\"x\":26.57546},{\"yanchor\":\"middle\",\"xanchor\":\"center\",\"rotation\":-0.0,\"y\":-0.0,\"font\":{\"color\":\"rgba(0, 0, 0, 1.000)\",\"family\":\"sans-serif\",\"size\":20},\"yref\":\"y\",\"showarrow\":false,\"text\":\"monkey     \",\"xref\":\"x\",\"x\":148.0}],\"height\":400,\"margin\":{\"l\":0,\"b\":20,\"r\":0,\"t\":20},\"plot_bgcolor\":\"rgba(255, 255, 255, 1.000)\",\"yaxis\":{\"showticklabels\":true,\"gridwidth\":0.5,\"tickvals\":[-75.0,-50.0,-25.0,0.0,25.0,50.0,75.0],\"visible\":true,\"ticks\":\"inside\",\"range\":[-87.04069199999999,98.453372],\"domain\":[0.03762029746281716,0.9901574803149606],\"tickmode\":\"array\",\"linecolor\":\"rgba(0, 0, 0, 1.000)\",\"showgrid\":true,\"title\":\"\",\"mirror\":false,\"tickangle\":0,\"showline\":true,\"gridcolor\":\"rgba(0, 0, 0, 0.100)\",\"titlefont\":{\"color\":\"rgba(0, 0, 0, 1.000)\",\"family\":\"sans-serif\",\"size\":15},\"tickcolor\":\"rgb(0, 0, 0)\",\"ticktext\":[\"-75\",\"-50\",\"-25\",\"0\",\"25\",\"50\",\"75\"],\"zeroline\":false,\"type\":\"-\",\"tickfont\":{\"color\":\"rgba(0, 0, 0, 1.000)\",\"family\":\"sans-serif\",\"size\":11},\"zerolinecolor\":\"rgba(0, 0, 0, 1.000)\",\"anchor\":\"x1\"},\"width\":600});\n",
       "    </script>\n"
      ]
     },
     "execution_count": 12,
     "metadata": {},
     "output_type": "execute_result"
    }
   ],
   "source": [
    "plot!(legend=:false)"
   ]
  },
  {
   "cell_type": "code",
   "execution_count": null,
   "metadata": {},
   "outputs": [],
   "source": [
    "Ph = CSV.read(\"./../../../julia-1.1.0/bin/phylo-embed\")\n",
    "P = Matrix(Ph[1:end,[2,3]])"
   ]
  },
  {
   "cell_type": "code",
   "execution_count": null,
   "metadata": {},
   "outputs": [],
   "source": [
    "scatter(P[:,1],P[:,2])"
   ]
  },
  {
   "cell_type": "code",
   "execution_count": null,
   "metadata": {},
   "outputs": [],
   "source": [
    "for e in edges(g)\n",
    "    i = e.dst\n",
    "    j = e.src\n",
    "    \n",
    "    plot!([(P[i,1],P[i,2]),(P[j,1],P[j,2])],color=:black)\n",
    "end"
   ]
  },
  {
   "cell_type": "code",
   "execution_count": null,
   "metadata": {},
   "outputs": [],
   "source": [
    "plot!(legend=:false)"
   ]
  },
  {
   "cell_type": "markdown",
   "metadata": {},
   "source": [
    "# Temp"
   ]
  },
  {
   "cell_type": "code",
   "execution_count": 68,
   "metadata": {},
   "outputs": [
    {
     "data": {
      "text/plain": [
       "8×2 Array{Float64,2}:\n",
       " 0.0  0.0\n",
       " 0.0  0.0\n",
       " 0.0  0.0\n",
       " 0.0  0.0\n",
       " 0.0  0.0\n",
       " 0.0  0.0\n",
       " 0.0  0.0\n",
       " 0.0  0.0"
      ]
     },
     "execution_count": 68,
     "metadata": {},
     "output_type": "execute_result"
    }
   ],
   "source": [
    "P = zeros(8,2)"
   ]
  },
  {
   "cell_type": "code",
   "execution_count": 69,
   "metadata": {},
   "outputs": [
    {
     "data": {
      "text/plain": [
       "2-element Array{Float64,1}:\n",
       " -0.0761\n",
       " -0.1009"
      ]
     },
     "execution_count": 69,
     "metadata": {},
     "output_type": "execute_result"
    }
   ],
   "source": [
    "P[1,:] = [-0.6015,  -0.7989]\n",
    "P[2,:] = [0.8426,  0.5386]\n",
    "P[3,:] = [-0.8188,  0.5740]\n",
    "P[4,:] = [0.7942, -0.6047]\n",
    "P[5,:] = [-0.9950, -0.0819]\n",
    "P[6,:] = [-0.1758,  0.9827]\n",
    "P[7,:] = [0.0065, -0.9208]\n",
    "P[8,:] = [-0.0761, -0.1009]"
   ]
  },
  {
   "cell_type": "code",
   "execution_count": 70,
   "metadata": {},
   "outputs": [
    {
     "data": {
      "text/plain": [
       "8×2 Array{Float64,2}:\n",
       " -0.6015  -0.7989\n",
       "  0.8426   0.5386\n",
       " -0.8188   0.574 \n",
       "  0.7942  -0.6047\n",
       " -0.995   -0.0819\n",
       " -0.1758   0.9827\n",
       "  0.0065  -0.9208\n",
       " -0.0761  -0.1009"
      ]
     },
     "execution_count": 70,
     "metadata": {},
     "output_type": "execute_result"
    }
   ],
   "source": [
    "P"
   ]
  },
  {
   "cell_type": "code",
   "execution_count": 154,
   "metadata": {
    "code_folding": []
   },
   "outputs": [
    {
     "data": {
      "application/vnd.plotly.v1+json": {
       "data": [
        {
         "colorbar": {
          "title": ""
         },
         "hoverinfo": "text",
         "legendgroup": "y1",
         "marker": {
          "color": "rgba(0, 154, 250, 1.000)",
          "line": {
           "color": "rgba(0, 0, 0, 1.000)",
           "width": 1
          },
          "size": 2,
          "symbol": "circle"
         },
         "mode": "markers",
         "name": "y1",
         "showlegend": true,
         "text": [
          null,
          null,
          null,
          null,
          null,
          null,
          null,
          null
         ],
         "type": "scatter",
         "x": [
          -0.6015,
          0.8426,
          -0.8188,
          0.7942,
          -0.995,
          -0.1758,
          0.0065,
          -0.0761
         ],
         "xaxis": "x1",
         "y": [
          -0.7989,
          0.5386,
          0.574,
          -0.6047,
          -0.0819,
          0.9827,
          -0.9208,
          -0.1009
         ],
         "yaxis": "y1",
         "zmax": 0.1,
         "zmin": -0.1
        }
       ],
       "layout": {
        "annotations": [
         {
          "font": {
           "color": "rgba(0, 0, 0, 1.000)",
           "family": "sans-serif",
           "size": 28
          },
          "rotation": 0,
          "showarrow": false,
          "text": "Dog",
          "x": -0.6015,
          "xanchor": "right",
          "xref": "x",
          "y": -0.7989,
          "yanchor": "middle",
          "yref": "y"
         },
         {
          "font": {
           "color": "rgba(0, 0, 0, 1.000)",
           "family": "sans-serif",
           "size": 28
          },
          "rotation": 0,
          "showarrow": false,
          "text": "Bear",
          "x": 0.8426,
          "xanchor": "right",
          "xref": "x",
          "y": 0.5386,
          "yanchor": "middle",
          "yref": "y"
         },
         {
          "font": {
           "color": "rgba(0, 0, 0, 1.000)",
           "family": "sans-serif",
           "size": 28
          },
          "rotation": 0,
          "showarrow": false,
          "text": "Racoon",
          "x": -0.8188,
          "xanchor": "right",
          "xref": "x",
          "y": 0.574,
          "yanchor": "middle",
          "yref": "y"
         },
         {
          "font": {
           "color": "rgba(0, 0, 0, 1.000)",
           "family": "sans-serif",
           "size": 28
          },
          "rotation": 0,
          "showarrow": false,
          "text": "Weasel",
          "x": 0.7942,
          "xanchor": "right",
          "xref": "x",
          "y": -0.6047,
          "yanchor": "middle",
          "yref": "y"
         },
         {
          "font": {
           "color": "rgba(0, 0, 0, 1.000)",
           "family": "sans-serif",
           "size": 28
          },
          "rotation": 0,
          "showarrow": false,
          "text": "Seal",
          "x": -0.995,
          "xanchor": "right",
          "xref": "x",
          "y": -0.0819,
          "yanchor": "middle",
          "yref": "y"
         },
         {
          "font": {
           "color": "rgba(0, 0, 0, 1.000)",
           "family": "sans-serif",
           "size": 28
          },
          "rotation": 0,
          "showarrow": false,
          "text": "Sea Lion",
          "x": -0.1758,
          "xanchor": "right",
          "xref": "x",
          "y": 0.9827,
          "yanchor": "middle",
          "yref": "y"
         },
         {
          "font": {
           "color": "rgba(0, 0, 0, 1.000)",
           "family": "sans-serif",
           "size": 28
          },
          "rotation": 0,
          "showarrow": false,
          "text": "Cat",
          "x": 0.0065,
          "xanchor": "right",
          "xref": "x",
          "y": -0.9208,
          "yanchor": "middle",
          "yref": "y"
         },
         {
          "font": {
           "color": "rgba(0, 0, 0, 1.000)",
           "family": "sans-serif",
           "size": 28
          },
          "rotation": 0,
          "showarrow": false,
          "text": "Monkey",
          "x": -0.0761,
          "xanchor": "right",
          "xref": "x",
          "y": -0.1009,
          "yanchor": "middle",
          "yref": "y"
         }
        ],
        "height": 400,
        "margin": {
         "b": 20,
         "l": 0,
         "r": 0,
         "t": 20
        },
        "paper_bgcolor": "rgba(255, 255, 255, 1.000)",
        "plot_bgcolor": "rgba(255, 255, 255, 1.000)",
        "showlegend": false,
        "width": 600,
        "xaxis": {
         "anchor": "y1",
         "domain": [
          0.0732283464566929,
          0.9934383202099737
         ],
         "gridcolor": "rgba(0, 0, 0, 0.100)",
         "gridwidth": 0.5,
         "linecolor": "rgba(0, 0, 0, 1.000)",
         "mirror": false,
         "range": [
          -1.050128,
          0.897728
         ],
         "showgrid": true,
         "showline": false,
         "showticklabels": false,
         "tickangle": 0,
         "tickcolor": "rgba(0, 0, 0, 0.000)",
         "tickfont": {
          "color": "rgba(0, 0, 0, 1.000)",
          "family": "Helvetica",
          "size": 13
         },
         "tickmode": "array",
         "ticks": "inside",
         "ticktext": [
          "-1.0",
          "-0.5",
          "0.0",
          "0.5"
         ],
         "tickvals": [
          -1,
          -0.5,
          0,
          0.5
         ],
         "title": "",
         "titlefont": {
          "color": "rgba(0, 0, 0, 1.000)",
          "family": "Helvetica",
          "size": 21
         },
         "type": "-",
         "visible": true,
         "zeroline": false,
         "zerolinecolor": "rgba(0, 0, 0, 1.000)"
        },
        "yaxis": {
         "anchor": "x1",
         "domain": [
          0.041092519685039346,
          0.9901574803149606
         ],
         "gridcolor": "rgba(0, 0, 0, 0.100)",
         "gridwidth": 0.5,
         "linecolor": "rgba(0, 0, 0, 1.000)",
         "mirror": false,
         "range": [
          -0.9779049999999999,
          1.039805
         ],
         "showgrid": true,
         "showline": false,
         "showticklabels": false,
         "tickangle": 0,
         "tickcolor": "rgba(0, 0, 0, 0.000)",
         "tickfont": {
          "color": "rgba(0, 0, 0, 1.000)",
          "family": "Helvetica",
          "size": 13
         },
         "tickmode": "array",
         "ticks": "inside",
         "ticktext": [
          "-0.5",
          "0.0",
          "0.5",
          "1.0"
         ],
         "tickvals": [
          -0.5,
          0,
          0.5,
          1
         ],
         "title": "",
         "titlefont": {
          "color": "rgba(0, 0, 0, 1.000)",
          "family": "Helvetica",
          "size": 21
         },
         "type": "-",
         "visible": true,
         "zeroline": false,
         "zerolinecolor": "rgba(0, 0, 0, 1.000)"
        }
       }
      },
      "text/html": [
       "    <div id=\"935d41e8-020f-49f4-a940-c268ffd25935\" style=\"width:600px;height:400px;\"></div>\n",
       "    <script>\n",
       "    PLOT = document.getElementById('935d41e8-020f-49f4-a940-c268ffd25935');\n",
       "    Plotly.plot(PLOT, [{\"xaxis\":\"x1\",\"colorbar\":{\"title\":\"\"},\"yaxis\":\"y1\",\"text\":[null,null,null,null,null,null,null,null],\"x\":[-0.6015,0.8426,-0.8188,0.7942,-0.995,-0.1758,0.0065,-0.0761],\"showlegend\":true,\"mode\":\"markers\",\"name\":\"y1\",\"zmin\":-0.1,\"legendgroup\":\"y1\",\"marker\":{\"symbol\":\"circle\",\"color\":\"rgba(0, 154, 250, 1.000)\",\"line\":{\"color\":\"rgba(0, 0, 0, 1.000)\",\"width\":1},\"size\":2},\"zmax\":0.1,\"y\":[-0.7989,0.5386,0.574,-0.6047,-0.0819,0.9827,-0.9208,-0.1009],\"type\":\"scatter\",\"hoverinfo\":\"text\"}], {\"showlegend\":false,\"xaxis\":{\"showticklabels\":false,\"gridwidth\":0.5,\"tickvals\":[-1.0,-0.5,0.0,0.5],\"visible\":true,\"ticks\":\"inside\",\"range\":[-1.050128,0.897728],\"domain\":[0.0732283464566929,0.9934383202099737],\"tickmode\":\"array\",\"linecolor\":\"rgba(0, 0, 0, 1.000)\",\"showgrid\":true,\"title\":\"\",\"mirror\":false,\"tickangle\":0,\"showline\":false,\"gridcolor\":\"rgba(0, 0, 0, 0.100)\",\"titlefont\":{\"color\":\"rgba(0, 0, 0, 1.000)\",\"family\":\"Helvetica\",\"size\":21},\"tickcolor\":\"rgba(0, 0, 0, 0.000)\",\"ticktext\":[\"-1.0\",\"-0.5\",\"0.0\",\"0.5\"],\"zeroline\":false,\"type\":\"-\",\"tickfont\":{\"color\":\"rgba(0, 0, 0, 1.000)\",\"family\":\"Helvetica\",\"size\":13},\"zerolinecolor\":\"rgba(0, 0, 0, 1.000)\",\"anchor\":\"y1\"},\"paper_bgcolor\":\"rgba(255, 255, 255, 1.000)\",\"annotations\":[{\"yanchor\":\"middle\",\"xanchor\":\"right\",\"rotation\":-0.0,\"y\":-0.7989,\"font\":{\"color\":\"rgba(0, 0, 0, 1.000)\",\"family\":\"sans-serif\",\"size\":28},\"yref\":\"y\",\"showarrow\":false,\"text\":\"Dog\",\"xref\":\"x\",\"x\":-0.6015},{\"yanchor\":\"middle\",\"xanchor\":\"right\",\"rotation\":-0.0,\"y\":0.5386,\"font\":{\"color\":\"rgba(0, 0, 0, 1.000)\",\"family\":\"sans-serif\",\"size\":28},\"yref\":\"y\",\"showarrow\":false,\"text\":\"Bear\",\"xref\":\"x\",\"x\":0.8426},{\"yanchor\":\"middle\",\"xanchor\":\"right\",\"rotation\":-0.0,\"y\":0.574,\"font\":{\"color\":\"rgba(0, 0, 0, 1.000)\",\"family\":\"sans-serif\",\"size\":28},\"yref\":\"y\",\"showarrow\":false,\"text\":\"Racoon\",\"xref\":\"x\",\"x\":-0.8188},{\"yanchor\":\"middle\",\"xanchor\":\"right\",\"rotation\":-0.0,\"y\":-0.6047,\"font\":{\"color\":\"rgba(0, 0, 0, 1.000)\",\"family\":\"sans-serif\",\"size\":28},\"yref\":\"y\",\"showarrow\":false,\"text\":\"Weasel\",\"xref\":\"x\",\"x\":0.7942},{\"yanchor\":\"middle\",\"xanchor\":\"right\",\"rotation\":-0.0,\"y\":-0.0819,\"font\":{\"color\":\"rgba(0, 0, 0, 1.000)\",\"family\":\"sans-serif\",\"size\":28},\"yref\":\"y\",\"showarrow\":false,\"text\":\"Seal\",\"xref\":\"x\",\"x\":-0.995},{\"yanchor\":\"middle\",\"xanchor\":\"right\",\"rotation\":-0.0,\"y\":0.9827,\"font\":{\"color\":\"rgba(0, 0, 0, 1.000)\",\"family\":\"sans-serif\",\"size\":28},\"yref\":\"y\",\"showarrow\":false,\"text\":\"Sea Lion\",\"xref\":\"x\",\"x\":-0.1758},{\"yanchor\":\"middle\",\"xanchor\":\"right\",\"rotation\":-0.0,\"y\":-0.9208,\"font\":{\"color\":\"rgba(0, 0, 0, 1.000)\",\"family\":\"sans-serif\",\"size\":28},\"yref\":\"y\",\"showarrow\":false,\"text\":\"Cat\",\"xref\":\"x\",\"x\":0.0065},{\"yanchor\":\"middle\",\"xanchor\":\"right\",\"rotation\":-0.0,\"y\":-0.1009,\"font\":{\"color\":\"rgba(0, 0, 0, 1.000)\",\"family\":\"sans-serif\",\"size\":28},\"yref\":\"y\",\"showarrow\":false,\"text\":\"Monkey\",\"xref\":\"x\",\"x\":-0.0761}],\"height\":400,\"margin\":{\"l\":0,\"b\":20,\"r\":0,\"t\":20},\"plot_bgcolor\":\"rgba(255, 255, 255, 1.000)\",\"yaxis\":{\"showticklabels\":false,\"gridwidth\":0.5,\"tickvals\":[-0.5,0.0,0.5,1.0],\"visible\":true,\"ticks\":\"inside\",\"range\":[-0.9779049999999999,1.039805],\"domain\":[0.041092519685039346,0.9901574803149606],\"tickmode\":\"array\",\"linecolor\":\"rgba(0, 0, 0, 1.000)\",\"showgrid\":true,\"title\":\"\",\"mirror\":false,\"tickangle\":0,\"showline\":false,\"gridcolor\":\"rgba(0, 0, 0, 0.100)\",\"titlefont\":{\"color\":\"rgba(0, 0, 0, 1.000)\",\"family\":\"Helvetica\",\"size\":21},\"tickcolor\":\"rgba(0, 0, 0, 0.000)\",\"ticktext\":[\"-0.5\",\"0.0\",\"0.5\",\"1.0\"],\"zeroline\":false,\"type\":\"-\",\"tickfont\":{\"color\":\"rgba(0, 0, 0, 1.000)\",\"family\":\"Helvetica\",\"size\":13},\"zerolinecolor\":\"rgba(0, 0, 0, 1.000)\",\"anchor\":\"x1\"},\"width\":600});\n",
       "    </script>\n"
      ]
     },
     "execution_count": 154,
     "metadata": {},
     "output_type": "execute_result"
    }
   ],
   "source": [
    "scatter(P[:,1],P[:,2], series_annotations = [text(\"Dog\", :right, 20),text(\"Bear\", :right, 20),\n",
    "        text(\"Racoon\", :right, 20), text(\"Weasel\", :right, 20),text(\"Seal\", :right, 20),\n",
    "        text(\"Sea Lion\", :right, 20),\n",
    "        text(\"Cat\", :right, 20),\n",
    "        text(\"Monkey\", :right, 20)],\n",
    "legend=:false, ms = 1; myfonts..., axis=:false)"
   ]
  },
  {
   "cell_type": "code",
   "execution_count": 78,
   "metadata": {},
   "outputs": [
    {
     "data": {
      "text/plain": [
       "8×2 Array{Float64,2}:\n",
       " 0.0  0.0\n",
       " 0.0  0.0\n",
       " 0.0  0.0\n",
       " 0.0  0.0\n",
       " 0.0  0.0\n",
       " 0.0  0.0\n",
       " 0.0  0.0\n",
       " 0.0  0.0"
      ]
     },
     "execution_count": 78,
     "metadata": {},
     "output_type": "execute_result"
    }
   ],
   "source": [
    "P2 = zeros(8,2)"
   ]
  },
  {
   "cell_type": "code",
   "execution_count": 86,
   "metadata": {},
   "outputs": [
    {
     "data": {
      "text/plain": [
       "2-element Array{Float64,1}:\n",
       " -0.0001866253716251444\n",
       " -0.0005304081715788266"
      ]
     },
     "execution_count": 86,
     "metadata": {},
     "output_type": "execute_result"
    }
   ],
   "source": [
    "T = npzread(\"./sarich.final_coordinates0.npy\")\n",
    "P2[1,:] = T[2:end]/(1+T[1])"
   ]
  },
  {
   "cell_type": "code",
   "execution_count": 155,
   "metadata": {},
   "outputs": [
    {
     "data": {
      "application/vnd.plotly.v1+json": {
       "data": [
        {
         "colorbar": {
          "title": ""
         },
         "hoverinfo": "text",
         "legendgroup": "y1",
         "marker": {
          "color": "rgba(0, 154, 250, 1.000)",
          "line": {
           "color": "rgba(0, 0, 0, 1.000)",
           "width": 1
          },
          "size": 8,
          "symbol": "circle"
         },
         "mode": "markers",
         "name": "y1",
         "showlegend": true,
         "text": [
          null,
          null,
          null,
          null,
          null,
          null,
          null,
          null
         ],
         "type": "scatter",
         "x": [
          -0.0001866253716251444,
          0.5686216028308051,
          -0.6439907346487318,
          -0.6157959395633215,
          0.315841033862021,
          0.9906131702324017,
          0.9978189659128216,
          0.9928923238906894
         ],
         "xaxis": "x1",
         "y": [
          -0.0005304081715788266,
          -0.822599096032901,
          -0.7595113792554636,
          0.7879049577739435,
          0.9488120153299003,
          0.13669402314949713,
          -0.06600700264611546,
          -0.11901526439480983
         ],
         "yaxis": "y1",
         "zmax": 0.1,
         "zmin": -0.1
        }
       ],
       "layout": {
        "annotations": [
         {
          "font": {
           "color": "rgba(0, 0, 0, 1.000)",
           "family": "sans-serif",
           "size": 28
          },
          "rotation": 0,
          "showarrow": false,
          "text": "Dog",
          "x": -0.0001866253716251444,
          "xanchor": "right",
          "xref": "x",
          "y": -0.0005304081715788266,
          "yanchor": "middle",
          "yref": "y"
         },
         {
          "font": {
           "color": "rgba(0, 0, 0, 1.000)",
           "family": "sans-serif",
           "size": 28
          },
          "rotation": 0,
          "showarrow": false,
          "text": "Bear",
          "x": 0.5686216028308051,
          "xanchor": "right",
          "xref": "x",
          "y": -0.822599096032901,
          "yanchor": "middle",
          "yref": "y"
         },
         {
          "font": {
           "color": "rgba(0, 0, 0, 1.000)",
           "family": "sans-serif",
           "size": 28
          },
          "rotation": 0,
          "showarrow": false,
          "text": "Racoon",
          "x": -0.6439907346487318,
          "xanchor": "center",
          "xref": "x",
          "y": -0.7595113792554636,
          "yanchor": "top",
          "yref": "y"
         },
         {
          "font": {
           "color": "rgba(0, 0, 0, 1.000)",
           "family": "sans-serif",
           "size": 28
          },
          "rotation": 0,
          "showarrow": false,
          "text": "Weasel",
          "x": -0.6157959395633215,
          "xanchor": "center",
          "xref": "x",
          "y": 0.7879049577739435,
          "yanchor": "bottom",
          "yref": "y"
         },
         {
          "font": {
           "color": "rgba(0, 0, 0, 1.000)",
           "family": "sans-serif",
           "size": 28
          },
          "rotation": 0,
          "showarrow": false,
          "text": "Seal",
          "x": 0.315841033862021,
          "xanchor": "right",
          "xref": "x",
          "y": 0.9488120153299003,
          "yanchor": "middle",
          "yref": "y"
         },
         {
          "font": {
           "color": "rgba(0, 0, 0, 1.000)",
           "family": "sans-serif",
           "size": 28
          },
          "rotation": 0,
          "showarrow": false,
          "text": "Sea Lion",
          "x": 0.9906131702324017,
          "xanchor": "right",
          "xref": "x",
          "y": 0.13669402314949713,
          "yanchor": "middle",
          "yref": "y"
         },
         {
          "font": {
           "color": "rgba(0, 0, 0, 1.000)",
           "family": "sans-serif",
           "size": 28
          },
          "rotation": 0,
          "showarrow": false,
          "text": "Cat",
          "x": 0.9978189659128216,
          "xanchor": "right",
          "xref": "x",
          "y": -0.06600700264611546,
          "yanchor": "middle",
          "yref": "y"
         },
         {
          "font": {
           "color": "rgba(0, 0, 0, 1.000)",
           "family": "sans-serif",
           "size": 28
          },
          "rotation": 0,
          "showarrow": false,
          "text": "Monkey",
          "x": 0.9928923238906894,
          "xanchor": "right",
          "xref": "x",
          "y": -0.11901526439480983,
          "yanchor": "middle",
          "yref": "y"
         }
        ],
        "height": 400,
        "margin": {
         "b": 20,
         "l": 0,
         "r": 0,
         "t": 20
        },
        "paper_bgcolor": "rgba(255, 255, 255, 1.000)",
        "plot_bgcolor": "rgba(255, 255, 255, 1.000)",
        "showlegend": false,
        "width": 600,
        "xaxis": {
         "anchor": "y1",
         "domain": [
          0.0658209390492855,
          0.9934383202099738
         ],
         "gridcolor": "rgba(0, 0, 0, 0.100)",
         "gridwidth": 0.5,
         "linecolor": "rgba(0, 0, 0, 1.000)",
         "mirror": false,
         "range": [
          -0.6932450256655784,
          1.0470732569296681
         ],
         "showgrid": true,
         "showline": false,
         "showticklabels": false,
         "tickangle": 0,
         "tickcolor": "rgba(0, 0, 0, 0.000)",
         "tickfont": {
          "color": "rgba(0, 0, 0, 1.000)",
          "family": "sans-serif",
          "size": 11
         },
         "tickmode": "array",
         "ticks": "inside",
         "ticktext": [
          "-0.5",
          "0.0",
          "0.5",
          "1.0"
         ],
         "tickvals": [
          -0.5,
          0,
          0.5,
          1
         ],
         "title": "",
         "titlefont": {
          "color": "rgba(0, 0, 0, 1.000)",
          "family": "sans-serif",
          "size": 15
         },
         "type": "-",
         "visible": true,
         "zeroline": false,
         "zerolinecolor": "rgba(0, 0, 0, 1.000)"
        },
        "yaxis": {
         "anchor": "x1",
         "domain": [
          0.03762029746281716,
          0.9901574803149606
         ],
         "gridcolor": "rgba(0, 0, 0, 0.100)",
         "gridwidth": 0.5,
         "linecolor": "rgba(0, 0, 0, 1.000)",
         "mirror": false,
         "range": [
          -0.8757414293737851,
          1.0019543486707845
         ],
         "showgrid": true,
         "showline": false,
         "showticklabels": false,
         "tickangle": 0,
         "tickcolor": "rgba(0, 0, 0, 0.000)",
         "tickfont": {
          "color": "rgba(0, 0, 0, 1.000)",
          "family": "sans-serif",
          "size": 11
         },
         "tickmode": "array",
         "ticks": "inside",
         "ticktext": [
          "-0.5",
          "0.0",
          "0.5",
          "1.0"
         ],
         "tickvals": [
          -0.5,
          0,
          0.5,
          1
         ],
         "title": "",
         "titlefont": {
          "color": "rgba(0, 0, 0, 1.000)",
          "family": "sans-serif",
          "size": 15
         },
         "type": "-",
         "visible": true,
         "zeroline": false,
         "zerolinecolor": "rgba(0, 0, 0, 1.000)"
        }
       }
      },
      "text/html": [
       "    <div id=\"367c6778-5038-4a5a-b052-37924f0dc770\" style=\"width:600px;height:400px;\"></div>\n",
       "    <script>\n",
       "    PLOT = document.getElementById('367c6778-5038-4a5a-b052-37924f0dc770');\n",
       "    Plotly.plot(PLOT, [{\"xaxis\":\"x1\",\"colorbar\":{\"title\":\"\"},\"yaxis\":\"y1\",\"text\":[null,null,null,null,null,null,null,null],\"x\":[-0.0001866253716251444,0.5686216028308051,-0.6439907346487318,-0.6157959395633215,0.315841033862021,0.9906131702324017,0.9978189659128216,0.9928923238906894],\"showlegend\":true,\"mode\":\"markers\",\"name\":\"y1\",\"zmin\":-0.1,\"legendgroup\":\"y1\",\"marker\":{\"symbol\":\"circle\",\"color\":\"rgba(0, 154, 250, 1.000)\",\"line\":{\"color\":\"rgba(0, 0, 0, 1.000)\",\"width\":1},\"size\":8},\"zmax\":0.1,\"y\":[-0.0005304081715788266,-0.822599096032901,-0.7595113792554636,0.7879049577739435,0.9488120153299003,0.13669402314949713,-0.06600700264611546,-0.11901526439480983],\"type\":\"scatter\",\"hoverinfo\":\"text\"}], {\"showlegend\":false,\"xaxis\":{\"showticklabels\":false,\"gridwidth\":0.5,\"tickvals\":[-0.5,0.0,0.5,1.0],\"visible\":true,\"ticks\":\"inside\",\"range\":[-0.6932450256655784,1.0470732569296681],\"domain\":[0.0658209390492855,0.9934383202099738],\"tickmode\":\"array\",\"linecolor\":\"rgba(0, 0, 0, 1.000)\",\"showgrid\":true,\"title\":\"\",\"mirror\":false,\"tickangle\":0,\"showline\":false,\"gridcolor\":\"rgba(0, 0, 0, 0.100)\",\"titlefont\":{\"color\":\"rgba(0, 0, 0, 1.000)\",\"family\":\"sans-serif\",\"size\":15},\"tickcolor\":\"rgba(0, 0, 0, 0.000)\",\"ticktext\":[\"-0.5\",\"0.0\",\"0.5\",\"1.0\"],\"zeroline\":false,\"type\":\"-\",\"tickfont\":{\"color\":\"rgba(0, 0, 0, 1.000)\",\"family\":\"sans-serif\",\"size\":11},\"zerolinecolor\":\"rgba(0, 0, 0, 1.000)\",\"anchor\":\"y1\"},\"paper_bgcolor\":\"rgba(255, 255, 255, 1.000)\",\"annotations\":[{\"yanchor\":\"middle\",\"xanchor\":\"right\",\"rotation\":-0.0,\"y\":-0.0005304081715788266,\"font\":{\"color\":\"rgba(0, 0, 0, 1.000)\",\"family\":\"sans-serif\",\"size\":28},\"yref\":\"y\",\"showarrow\":false,\"text\":\"Dog\",\"xref\":\"x\",\"x\":-0.0001866253716251444},{\"yanchor\":\"middle\",\"xanchor\":\"right\",\"rotation\":-0.0,\"y\":-0.822599096032901,\"font\":{\"color\":\"rgba(0, 0, 0, 1.000)\",\"family\":\"sans-serif\",\"size\":28},\"yref\":\"y\",\"showarrow\":false,\"text\":\"Bear\",\"xref\":\"x\",\"x\":0.5686216028308051},{\"yanchor\":\"top\",\"xanchor\":\"center\",\"rotation\":-0.0,\"y\":-0.7595113792554636,\"font\":{\"color\":\"rgba(0, 0, 0, 1.000)\",\"family\":\"sans-serif\",\"size\":28},\"yref\":\"y\",\"showarrow\":false,\"text\":\"Racoon\",\"xref\":\"x\",\"x\":-0.6439907346487318},{\"yanchor\":\"bottom\",\"xanchor\":\"center\",\"rotation\":-0.0,\"y\":0.7879049577739435,\"font\":{\"color\":\"rgba(0, 0, 0, 1.000)\",\"family\":\"sans-serif\",\"size\":28},\"yref\":\"y\",\"showarrow\":false,\"text\":\"Weasel\",\"xref\":\"x\",\"x\":-0.6157959395633215},{\"yanchor\":\"middle\",\"xanchor\":\"right\",\"rotation\":-0.0,\"y\":0.9488120153299003,\"font\":{\"color\":\"rgba(0, 0, 0, 1.000)\",\"family\":\"sans-serif\",\"size\":28},\"yref\":\"y\",\"showarrow\":false,\"text\":\"Seal\",\"xref\":\"x\",\"x\":0.315841033862021},{\"yanchor\":\"middle\",\"xanchor\":\"right\",\"rotation\":-0.0,\"y\":0.13669402314949713,\"font\":{\"color\":\"rgba(0, 0, 0, 1.000)\",\"family\":\"sans-serif\",\"size\":28},\"yref\":\"y\",\"showarrow\":false,\"text\":\"Sea Lion\",\"xref\":\"x\",\"x\":0.9906131702324017},{\"yanchor\":\"middle\",\"xanchor\":\"right\",\"rotation\":-0.0,\"y\":-0.06600700264611546,\"font\":{\"color\":\"rgba(0, 0, 0, 1.000)\",\"family\":\"sans-serif\",\"size\":28},\"yref\":\"y\",\"showarrow\":false,\"text\":\"Cat\",\"xref\":\"x\",\"x\":0.9978189659128216},{\"yanchor\":\"middle\",\"xanchor\":\"right\",\"rotation\":-0.0,\"y\":-0.11901526439480983,\"font\":{\"color\":\"rgba(0, 0, 0, 1.000)\",\"family\":\"sans-serif\",\"size\":28},\"yref\":\"y\",\"showarrow\":false,\"text\":\"Monkey\",\"xref\":\"x\",\"x\":0.9928923238906894}],\"height\":400,\"margin\":{\"l\":0,\"b\":20,\"r\":0,\"t\":20},\"plot_bgcolor\":\"rgba(255, 255, 255, 1.000)\",\"yaxis\":{\"showticklabels\":false,\"gridwidth\":0.5,\"tickvals\":[-0.5,0.0,0.5,1.0],\"visible\":true,\"ticks\":\"inside\",\"range\":[-0.8757414293737851,1.0019543486707845],\"domain\":[0.03762029746281716,0.9901574803149606],\"tickmode\":\"array\",\"linecolor\":\"rgba(0, 0, 0, 1.000)\",\"showgrid\":true,\"title\":\"\",\"mirror\":false,\"tickangle\":0,\"showline\":false,\"gridcolor\":\"rgba(0, 0, 0, 0.100)\",\"titlefont\":{\"color\":\"rgba(0, 0, 0, 1.000)\",\"family\":\"sans-serif\",\"size\":15},\"tickcolor\":\"rgba(0, 0, 0, 0.000)\",\"ticktext\":[\"-0.5\",\"0.0\",\"0.5\",\"1.0\"],\"zeroline\":false,\"type\":\"-\",\"tickfont\":{\"color\":\"rgba(0, 0, 0, 1.000)\",\"family\":\"sans-serif\",\"size\":11},\"zerolinecolor\":\"rgba(0, 0, 0, 1.000)\",\"anchor\":\"x1\"},\"width\":600});\n",
       "    </script>\n"
      ]
     },
     "execution_count": 155,
     "metadata": {},
     "output_type": "execute_result"
    }
   ],
   "source": [
    "scatter(P2[:,1],P2[:,2], series_annotations = [text(\"Dog\", :right, 20),text(\"Bear\", :right, 20),\n",
    "        text(\"Racoon\", :top, 20), text(\"Weasel\", :bottom, 20),text(\"Seal\", :right, 20),\n",
    "        text(\"Sea Lion\", :right, 20),\n",
    "        text(\"Cat\", :right, 20),\n",
    "        text(\"Monkey\", :right, 20)],\n",
    "legend=:false, axis=:false)"
   ]
  },
  {
   "cell_type": "markdown",
   "metadata": {},
   "source": [
    "# Bartal"
   ]
  },
  {
   "cell_type": "code",
   "execution_count": null,
   "metadata": {},
   "outputs": [],
   "source": [
    "g = BinaryTree(4)\n",
    "D = floyd_warshall_shortest_paths(g).dists\n",
    "n = nv(g)"
   ]
  },
  {
   "cell_type": "code",
   "execution_count": null,
   "metadata": {
    "code_folding": []
   },
   "outputs": [],
   "source": [
    "D7 = zeros(n,n)\n",
    "p2 = Progress(2)\n",
    "for i = 1:2\n",
    "    R = Bartal.bartal(g,collect(1:n),D)\n",
    "    D6 = utilities.parallel_dp_shortest_paths(R[1],R[4])\n",
    "    p = R[2]\n",
    "    IndexToIdx = copy(R[2])\n",
    "    for i = 1:length(p)\n",
    "        IndexToIdx[p[i]] = i\n",
    "    end\n",
    "    D2p = zeros(n,n)\n",
    "    for i = 1:length(p)\n",
    "        for j = 1:i-1\n",
    "            D2p[i,j] = D6[IndexToIdx[i],IndexToIdx[j]]\n",
    "            D2p[j,i] = D2p[i,j]\n",
    "        end\n",
    "    end\n",
    "    D7 = (D7*(i-1) + D2p)/i\n",
    "    update!(p2,i)\n",
    "    flush(stdout)\n",
    "end\n",
    "α = tr(D7[1:n,1:n]'*D)/tr(D7[1:n,1:n]'*D7[1:n,1:n])\n",
    "@show(utilities.avg_distortion(D7*α,D))\n",
    "@show(utilities.MAP(D7,g))"
   ]
  },
  {
   "cell_type": "code",
   "execution_count": null,
   "metadata": {},
   "outputs": [],
   "source": [
    "D7"
   ]
  },
  {
   "cell_type": "code",
   "execution_count": null,
   "metadata": {},
   "outputs": [],
   "source": [
    "α = tr(D7[1:n,1:n]'*D)/tr(D7[1:n,1:n]'*D7[1:n,1:n])\n",
    "@show(utilities.avg_distortion(D7*α,D))\n",
    "@show(utilities.MAP(D7,g))"
   ]
  },
  {
   "cell_type": "code",
   "execution_count": null,
   "metadata": {},
   "outputs": [],
   "source": [
    "G = BinaryTree(4)\n",
    "D = LightGraphs.floyd_warshall_shortest_paths(G).dists"
   ]
  },
  {
   "cell_type": "code",
   "execution_count": null,
   "metadata": {},
   "outputs": [],
   "source": [
    "R = ldrd(G,D,diameter(G,adjacency_matrix(G))/2)"
   ]
  },
  {
   "cell_type": "markdown",
   "metadata": {},
   "source": [
    "# Scotland Data"
   ]
  },
  {
   "cell_type": "code",
   "execution_count": null,
   "metadata": {},
   "outputs": [],
   "source": [
    "D6 = utilities.parallel_dp_shortest_paths(R[1],R[4])"
   ]
  },
  {
   "cell_type": "code",
   "execution_count": null,
   "metadata": {},
   "outputs": [],
   "source": [
    "F = CSV.read(\"2lev-xc.txt\");"
   ]
  },
  {
   "cell_type": "code",
   "execution_count": null,
   "metadata": {},
   "outputs": [],
   "source": [
    "X = Matrix(F[:,[1,2,3,5,6]])\n",
    "X[:,3] = 1000*X[:,3]\n",
    "X[:,5] = 100000*X[:,5];"
   ]
  },
  {
   "cell_type": "code",
   "execution_count": null,
   "metadata": {},
   "outputs": [],
   "source": [
    "c = convert(Array{Int64,1},X[:,end]);"
   ]
  },
  {
   "cell_type": "code",
   "execution_count": null,
   "metadata": {},
   "outputs": [],
   "source": [
    "D = zeros(3434,3434)\n",
    "for i = 1:size(D)[1]\n",
    "    for j = 1:i-1\n",
    "        D[i,j] = sqrt(sum((X[i,:]-X[j,:]).^2))\n",
    "    end\n",
    "end\n",
    "\n",
    "D = D + D';"
   ]
  },
  {
   "cell_type": "code",
   "execution_count": null,
   "metadata": {},
   "outputs": [],
   "source": [
    "D = D ./ maximum(D)"
   ]
  },
  {
   "cell_type": "code",
   "execution_count": null,
   "metadata": {},
   "outputs": [],
   "source": [
    "@elapsed G2,W2 = TreeRep.metric_to_structure(D,undef,undef);"
   ]
  },
  {
   "cell_type": "code",
   "execution_count": null,
   "metadata": {},
   "outputs": [],
   "source": [
    "m = maximum(c)\n",
    "c = vcat(c, (m+1)*convert(Array{Int64,1},ones(nv(G2)-length(c))));"
   ]
  },
  {
   "cell_type": "code",
   "execution_count": null,
   "metadata": {
    "code_folding": []
   },
   "outputs": [],
   "source": [
    "B = W2[1:nv(G2),1:nv(G2)];\n",
    "B = sparse(B);\n",
    "B = (B .> 0) .* B;\n",
    "    \n",
    "n = size(D)[1]\n",
    "D2 = utilities.parallel_dp_shortest_paths(G2, B, false);\n",
    "for i = 1:n\n",
    "    D2[i,i] = 0\n",
    "end\n",
    "    \n",
    "@show(utilities.avg_distortion(D2,D))"
   ]
  },
  {
   "cell_type": "code",
   "execution_count": null,
   "metadata": {},
   "outputs": [],
   "source": [
    "Dist = abs.((D2 - D)./D)\n",
    "for i = 1:size(Dist)[1]\n",
    "    Dist[i,i] = 0\n",
    "end\n",
    "\n",
    "sum(D.==0)"
   ]
  },
  {
   "cell_type": "markdown",
   "metadata": {},
   "source": [
    "# Random tree test"
   ]
  },
  {
   "cell_type": "code",
   "execution_count": 166,
   "metadata": {},
   "outputs": [
    {
     "data": {
      "text/plain": [
       "7-element Array{Float64,1}:\n",
       " 0.0\n",
       " 0.0\n",
       " 0.0\n",
       " 0.0\n",
       " 0.0\n",
       " 0.0\n",
       " 0.0"
      ]
     },
     "execution_count": 166,
     "metadata": {},
     "output_type": "execute_result"
    }
   ],
   "source": [
    "N = 7\n",
    "\n",
    "T1 = zeros(N)\n",
    "T2 = zeros(N)\n",
    "map1 = zeros(N)\n",
    "map2 = zeros(N)\n",
    "dist1 = zeros(N)\n",
    "dist2 = zeros(N)\n",
    "nvs1 = zeros(N)\n",
    "nvs2 = zeros(N)\n",
    "nvs = zeros(N)"
   ]
  },
  {
   "cell_type": "code",
   "execution_count": 167,
   "metadata": {
    "code_folding": [],
    "scrolled": true
   },
   "outputs": [
    {
     "name": "stdout",
     "output_type": "stream",
     "text": [
      "G = {11, 10} undirected simple Int64 graph\n",
      "(nv(G), ne(G)) = (11, 10)\n",
      "G = {40, 39} undirected simple Int64 graph\n",
      "(nv(G), ne(G)) = "
     ]
    },
    {
     "name": "stderr",
     "output_type": "stream",
     "text": [
      "┌ Info: 2 branches had negative lengths, reset to 0\n",
      "└ @ Main.NJ /home/rishi/ICLR/Experiments/Gene_Expression/NJ.jl:141\n"
     ]
    },
    {
     "name": "stdout",
     "output_type": "stream",
     "text": [
      "(40, 39)\n",
      "G = {89, 88} undirected simple Int64 graph\n",
      "(nv(G), ne(G)) = (89, 88)\n",
      "G = {191, 190} undirected simple Int64 graph\n",
      "(nv(G), ne(G)) = (191, 190)\n"
     ]
    },
    {
     "name": "stderr",
     "output_type": "stream",
     "text": [
      "┌ Info: 16 branches had negative lengths, reset to 0\n",
      "└ @ Main.NJ /home/rishi/ICLR/Experiments/Gene_Expression/NJ.jl:141\n",
      "┌ Info: 29 branches had negative lengths, reset to 0\n",
      "└ @ Main.NJ /home/rishi/ICLR/Experiments/Gene_Expression/NJ.jl:141\n"
     ]
    },
    {
     "name": "stdout",
     "output_type": "stream",
     "text": [
      "G = {362, 361} undirected simple Int64 graph\n",
      "(nv(G), ne(G)) = "
     ]
    },
    {
     "name": "stderr",
     "output_type": "stream",
     "text": [
      "┌ Info: 79 branches had negative lengths, reset to 0\n",
      "└ @ Main.NJ /home/rishi/ICLR/Experiments/Gene_Expression/NJ.jl:141\n"
     ]
    },
    {
     "name": "stdout",
     "output_type": "stream",
     "text": [
      "(362, 361)\n"
     ]
    },
    {
     "name": "stderr",
     "output_type": "stream",
     "text": [
      "┌ Info: 126 branches had negative lengths, reset to 0\n",
      "└ @ Main.NJ /home/rishi/ICLR/Experiments/Gene_Expression/NJ.jl:141\n",
      "\u001b[32mProgress:  75%|███████████████████████████████          |  ETA: 0:00:00\u001b[39m"
     ]
    },
    {
     "name": "stdout",
     "output_type": "stream",
     "text": [
      "G = {817, 816} undirected simple Int64 graph\n"
     ]
    },
    {
     "name": "stderr",
     "output_type": "stream",
     "text": [
      "\u001b[32mProgress:  93%|██████████████████████████████████████   |  ETA: 0:00:00\u001b[39m"
     ]
    },
    {
     "name": "stdout",
     "output_type": "stream",
     "text": [
      "(nv(G), ne(G)) = (817, 816)\n"
     ]
    },
    {
     "name": "stderr",
     "output_type": "stream",
     "text": [
      "┌ Info: 221 branches had negative lengths, reset to 0\n",
      "└ @ Main.NJ /home/rishi/ICLR/Experiments/Gene_Expression/NJ.jl:141\n",
      "\u001b[32mProgress:  98%|████████████████████████████████████████ |  ETA: 0:00:00\u001b[39m"
     ]
    },
    {
     "name": "stdout",
     "output_type": "stream",
     "text": [
      "G = {1611, 1610} undirected simple Int64 graph\n"
     ]
    },
    {
     "name": "stderr",
     "output_type": "stream",
     "text": [
      "\u001b[32mProgress:  98%|████████████████████████████████████████▏|  ETA: 0:00:00\u001b[39m"
     ]
    },
    {
     "name": "stdout",
     "output_type": "stream",
     "text": [
      "(nv(G), ne(G)) = (1611, 1610)\n"
     ]
    },
    {
     "name": "stderr",
     "output_type": "stream",
     "text": [
      "┌ Info: 504 branches had negative lengths, reset to 0\n",
      "└ @ Main.NJ /home/rishi/ICLR/Experiments/Gene_Expression/NJ.jl:141\n",
      "\u001b[32mProgress: 100%|████████████████████████████████████████▊|  ETA: 0:00:00\u001b[39m"
     ]
    },
    {
     "name": "stdout",
     "output_type": "stream",
     "text": [
      "T1 = [0.0526076, 0.229354, 0.00170722, 0.00391346, 0.0196504, 0.0802664, 0.123146]\n",
      "T2 = [0.0835829, 0.00159493, 0.00667716, 0.0359934, 0.181397, 1.66127, 15.119]\n",
      "map1 = [1.0, 1.0, 1.0, 1.0, 1.0, 0.997445, 0.999308]\n",
      "map2 = [1.0, 1.0, 1.0, 1.0, 1.0, 1.0, 1.0]\n",
      "dist1 = [3.40716e-17, 7.6335e-17, 6.22912e-17, 8.04225e-17, 7.20925e-17, 7.32211e-5, 8.95329e-5]\n",
      "dist2 = [1.88391e-16, 1.97578e-16, 2.89881e-16, 4.90095e-16, 7.07757e-16, 1.53169e-15, 1.99219e-15]\n",
      "nvs = [11.0, 40.0, 89.0, 191.0, 362.0, 817.0, 1611.0]\n",
      "nvs1 = [11.0, 40.0, 89.0, 191.0, 362.0, 817.0, 1611.0]\n",
      "nvs2 = [20.0, 78.0, 176.0, 380.0, 722.0, 1632.0, 3220.0]\n"
     ]
    },
    {
     "data": {
      "text/plain": [
       "7-element Array{Float64,1}:\n",
       "   20.0\n",
       "   78.0\n",
       "  176.0\n",
       "  380.0\n",
       "  722.0\n",
       " 1632.0\n",
       " 3220.0"
      ]
     },
     "execution_count": 167,
     "metadata": {},
     "output_type": "execute_result"
    }
   ],
   "source": [
    "for i = 1:7\n",
    "    g = utilities.block(LightGraphs.SimpleGraphs.DoubleBinaryTree(i),10)\n",
    "    n = nv(g)\n",
    "    g = LightGraphs.bfs_tree(g,rand(1:n))\n",
    "    G = SimpleGraph(n)\n",
    "    for e in edges(g)\n",
    "        add_edge!(G,e)\n",
    "    end\n",
    "    @show(G)\n",
    "    W = rand(n,n)\n",
    "    W = W+W'\n",
    "    W = adjacency_matrix(G) .* W\n",
    "    D = utilities.parallel_dp_shortest_paths(G,W);\n",
    "    T1[i] = @elapsed G2,W2 = TreeRep.metric_to_structure(D,undef,undef);\n",
    "    \n",
    "    nvs[i] = nv(G)\n",
    "    \n",
    "\n",
    "    B = W2[1:nv(G2),1:nv(G2)];\n",
    "    B = sparse(B);\n",
    "    B = (B .> 0) .* B;\n",
    "    \n",
    "    D2 = utilities.parallel_dp_shortest_paths(G2, B, false);\n",
    "    for i = 1:n\n",
    "        D2[i,i] = 0\n",
    "    end\n",
    "    \n",
    "    nvs1[i] = nv(G2)\n",
    "    \n",
    "    map1[i] = utilities.MAP(D2[1:n,1:n],G)/utilities.MAP(D,G)\n",
    "    dist1[i] = utilities.avg_distortion(D2[1:n,1:n],D)\n",
    "    \n",
    "    \n",
    "    T2[i] = @elapsed R =  NJ.nj!(copy(convert(Matrix{Float64},D)));\n",
    "    \n",
    "    g2 = SimpleGraph(R.numNodes)\n",
    "    w = spzeros(R.numNodes,R.numNodes)\n",
    "    for i = 1:R.numEdges\n",
    "        src = R.edge[i].node[1].number\n",
    "        dst = R.edge[i].node[2].number\n",
    "        add_edge!(g2,src,dst)\n",
    "        w[src,dst] = R.edge[i].length\n",
    "        w[dst,src] = w[src,dst]\n",
    "    end\n",
    "    \n",
    "    nvs2[i] = nv(g2)\n",
    "    \n",
    "    D5 = utilities.parallel_dp_shortest_paths(g2, w)\n",
    "\n",
    "\n",
    "    dist2[i] = utilities.avg_distortion(D5[1:n,1:n],D);\n",
    "    map2[i] = utilities.MAP(D5[1:n,1:n],G)/utilities.MAP(D,G)\n",
    "    \n",
    "end\n",
    "\n",
    "@show(T1,T2,map1,map2,dist1,dist2,nvs,nvs1,nvs2)"
   ]
  },
  {
   "cell_type": "code",
   "execution_count": 168,
   "metadata": {},
   "outputs": [
    {
     "data": {
      "application/vnd.plotly.v1+json": {
       "data": [
        {
         "colorbar": {
          "title": ""
         },
         "hoverinfo": "text",
         "legendgroup": "TreeRep",
         "line": {
          "color": "rgba(0, 0, 255, 1.000)",
          "dash": "solid",
          "shape": "linear",
          "width": 2
         },
         "mode": "lines",
         "name": "TreeRep",
         "showlegend": true,
         "text": [
          null,
          null,
          null,
          null,
          null,
          null,
          null
         ],
         "type": "scatter",
         "x": [
          11,
          40,
          89,
          191,
          362,
          817,
          1611
         ],
         "xaxis": "x1",
         "y": [
          0.05260764,
          0.229353577,
          0.001707224,
          0.003913463,
          0.019650445,
          0.080266403,
          0.123145735
         ],
         "yaxis": "y1",
         "zmax": 0.1,
         "zmin": -0.1
        },
        {
         "colorbar": {
          "title": ""
         },
         "hoverinfo": "text",
         "legendgroup": "TreeRep",
         "marker": {
          "color": "rgba(0, 0, 255, 1.000)",
          "line": {
           "color": "rgba(0, 0, 0, 1.000)",
           "width": 1
          },
          "size": 8,
          "symbol": "circle"
         },
         "mode": "markers",
         "name": "TreeRep",
         "showlegend": true,
         "text": [
          null,
          null,
          null,
          null,
          null,
          null,
          null
         ],
         "type": "scatter",
         "x": [
          11,
          40,
          89,
          191,
          362,
          817,
          1611
         ],
         "xaxis": "x1",
         "y": [
          0.05260764,
          0.229353577,
          0.001707224,
          0.003913463,
          0.019650445,
          0.080266403,
          0.123145735
         ],
         "yaxis": "y1",
         "zmax": 0.1,
         "zmin": -0.1
        },
        {
         "colorbar": {
          "title": ""
         },
         "hoverinfo": "text",
         "legendgroup": "NJ",
         "line": {
          "color": "rgba(255, 0, 0, 1.000)",
          "dash": "solid",
          "shape": "linear",
          "width": 2
         },
         "mode": "lines",
         "name": "NJ",
         "showlegend": true,
         "text": [
          null,
          null,
          null,
          null,
          null,
          null,
          null
         ],
         "type": "scatter",
         "x": [
          11,
          40,
          89,
          191,
          362,
          817,
          1611
         ],
         "xaxis": "x1",
         "y": [
          0.083582865,
          0.001594931,
          0.006677161,
          0.035993357,
          0.181397352,
          1.66126765,
          15.118998524
         ],
         "yaxis": "y1",
         "zmax": 0.1,
         "zmin": -0.1
        },
        {
         "colorbar": {
          "title": ""
         },
         "hoverinfo": "text",
         "legendgroup": "NJ",
         "marker": {
          "color": "rgba(255, 0, 0, 1.000)",
          "line": {
           "color": "rgba(0, 0, 0, 1.000)",
           "width": 1
          },
          "size": 8,
          "symbol": "x"
         },
         "mode": "markers",
         "name": "NJ",
         "showlegend": true,
         "text": [
          null,
          null,
          null,
          null,
          null,
          null,
          null
         ],
         "type": "scatter",
         "x": [
          11,
          40,
          89,
          191,
          362,
          817,
          1611
         ],
         "xaxis": "x1",
         "y": [
          0.083582865,
          0.001594931,
          0.006677161,
          0.035993357,
          0.181397352,
          1.66126765,
          15.118998524
         ],
         "yaxis": "y1",
         "zmax": 0.1,
         "zmin": -0.1
        }
       ],
       "layout": {
        "annotations": [],
        "height": 400,
        "legend": {
         "bgcolor": "rgba(255, 255, 255, 1.000)",
         "bordercolor": "rgba(0, 0, 0, 1.000)",
         "font": {
          "color": "rgba(0, 0, 0, 1.000)",
          "family": "Helvetica",
          "size": 13
         },
         "tracegroupgap": 0,
         "x": 1,
         "y": 1
        },
        "margin": {
         "b": 20,
         "l": 0,
         "r": 0,
         "t": 20
        },
        "paper_bgcolor": "rgba(255, 255, 255, 1.000)",
        "plot_bgcolor": "rgba(255, 255, 255, 1.000)",
        "showlegend": true,
        "width": 600,
        "xaxis": {
         "anchor": "y1",
         "domain": [
          0.07461723534558179,
          0.9934383202099737
         ],
         "gridcolor": "rgba(0, 0, 0, 0.100)",
         "gridwidth": 0.5,
         "linecolor": "rgba(0, 0, 0, 1.000)",
         "mirror": false,
         "range": [
          -37,
          1659
         ],
         "showgrid": true,
         "showline": true,
         "showticklabels": true,
         "tickangle": 0,
         "tickcolor": "rgb(0, 0, 0)",
         "tickfont": {
          "color": "rgba(0, 0, 0, 1.000)",
          "family": "Helvetica",
          "size": 13
         },
         "tickmode": "array",
         "ticks": "inside",
         "ticktext": [
          "0",
          "500",
          "1000",
          "1500"
         ],
         "tickvals": [
          0,
          500,
          1000,
          1500
         ],
         "title": "Nodes",
         "titlefont": {
          "color": "rgba(0, 0, 0, 1.000)",
          "family": "Helvetica",
          "size": 21
         },
         "type": "-",
         "visible": true,
         "zeroline": false,
         "zerolinecolor": "rgba(0, 0, 0, 1.000)"
        },
        "yaxis": {
         "anchor": "x1",
         "domain": [
          0.09317585301837272,
          0.9901574803149606
         ],
         "gridcolor": "rgba(0, 0, 0, 0.100)",
         "gridwidth": 0.5,
         "linecolor": "rgba(0, 0, 0, 1.000)",
         "mirror": false,
         "range": [
          -0.45192717679,
          15.57252063179
         ],
         "showgrid": true,
         "showline": true,
         "showticklabels": true,
         "tickangle": 0,
         "tickcolor": "rgb(0, 0, 0)",
         "tickfont": {
          "color": "rgba(0, 0, 0, 1.000)",
          "family": "Helvetica",
          "size": 13
         },
         "tickmode": "array",
         "ticks": "inside",
         "ticktext": [
          "0",
          "5",
          "10",
          "15"
         ],
         "tickvals": [
          0,
          5,
          10,
          15
         ],
         "title": "Time taken (Seconds)",
         "titlefont": {
          "color": "rgba(0, 0, 0, 1.000)",
          "family": "Helvetica",
          "size": 21
         },
         "type": "-",
         "visible": true,
         "zeroline": false,
         "zerolinecolor": "rgba(0, 0, 0, 1.000)"
        }
       }
      },
      "text/html": [
       "    <div id=\"9a0ce342-d5af-47c6-b331-cec987709074\" style=\"width:600px;height:400px;\"></div>\n",
       "    <script>\n",
       "    PLOT = document.getElementById('9a0ce342-d5af-47c6-b331-cec987709074');\n",
       "    Plotly.plot(PLOT, [{\"xaxis\":\"x1\",\"colorbar\":{\"title\":\"\"},\"yaxis\":\"y1\",\"text\":[null,null,null,null,null,null,null],\"x\":[11.0,40.0,89.0,191.0,362.0,817.0,1611.0],\"showlegend\":true,\"mode\":\"lines\",\"name\":\"TreeRep\",\"zmin\":-0.1,\"legendgroup\":\"TreeRep\",\"zmax\":0.1,\"line\":{\"color\":\"rgba(0, 0, 255, 1.000)\",\"shape\":\"linear\",\"dash\":\"solid\",\"width\":2},\"y\":[0.05260764,0.229353577,0.001707224,0.003913463,0.019650445,0.080266403,0.123145735],\"type\":\"scatter\",\"hoverinfo\":\"text\"},{\"xaxis\":\"x1\",\"colorbar\":{\"title\":\"\"},\"yaxis\":\"y1\",\"text\":[null,null,null,null,null,null,null],\"x\":[11.0,40.0,89.0,191.0,362.0,817.0,1611.0],\"showlegend\":true,\"mode\":\"markers\",\"name\":\"TreeRep\",\"zmin\":-0.1,\"legendgroup\":\"TreeRep\",\"marker\":{\"symbol\":\"circle\",\"color\":\"rgba(0, 0, 255, 1.000)\",\"line\":{\"color\":\"rgba(0, 0, 0, 1.000)\",\"width\":1},\"size\":8},\"zmax\":0.1,\"y\":[0.05260764,0.229353577,0.001707224,0.003913463,0.019650445,0.080266403,0.123145735],\"type\":\"scatter\",\"hoverinfo\":\"text\"},{\"xaxis\":\"x1\",\"colorbar\":{\"title\":\"\"},\"yaxis\":\"y1\",\"text\":[null,null,null,null,null,null,null],\"x\":[11.0,40.0,89.0,191.0,362.0,817.0,1611.0],\"showlegend\":true,\"mode\":\"lines\",\"name\":\"NJ\",\"zmin\":-0.1,\"legendgroup\":\"NJ\",\"zmax\":0.1,\"line\":{\"color\":\"rgba(255, 0, 0, 1.000)\",\"shape\":\"linear\",\"dash\":\"solid\",\"width\":2},\"y\":[0.083582865,0.001594931,0.006677161,0.035993357,0.181397352,1.66126765,15.118998524],\"type\":\"scatter\",\"hoverinfo\":\"text\"},{\"xaxis\":\"x1\",\"colorbar\":{\"title\":\"\"},\"yaxis\":\"y1\",\"text\":[null,null,null,null,null,null,null],\"x\":[11.0,40.0,89.0,191.0,362.0,817.0,1611.0],\"showlegend\":true,\"mode\":\"markers\",\"name\":\"NJ\",\"zmin\":-0.1,\"legendgroup\":\"NJ\",\"marker\":{\"symbol\":\"x\",\"color\":\"rgba(255, 0, 0, 1.000)\",\"line\":{\"color\":\"rgba(0, 0, 0, 1.000)\",\"width\":1},\"size\":8},\"zmax\":0.1,\"y\":[0.083582865,0.001594931,0.006677161,0.035993357,0.181397352,1.66126765,15.118998524],\"type\":\"scatter\",\"hoverinfo\":\"text\"}], {\"showlegend\":true,\"xaxis\":{\"showticklabels\":true,\"gridwidth\":0.5,\"tickvals\":[0.0,500.0,1000.0,1500.0],\"visible\":true,\"ticks\":\"inside\",\"range\":[-37.0,1659.0],\"domain\":[0.07461723534558179,0.9934383202099737],\"tickmode\":\"array\",\"linecolor\":\"rgba(0, 0, 0, 1.000)\",\"showgrid\":true,\"title\":\"Nodes\",\"mirror\":false,\"tickangle\":0,\"showline\":true,\"gridcolor\":\"rgba(0, 0, 0, 0.100)\",\"titlefont\":{\"color\":\"rgba(0, 0, 0, 1.000)\",\"family\":\"Helvetica\",\"size\":21},\"tickcolor\":\"rgb(0, 0, 0)\",\"ticktext\":[\"0\",\"500\",\"1000\",\"1500\"],\"zeroline\":false,\"type\":\"-\",\"tickfont\":{\"color\":\"rgba(0, 0, 0, 1.000)\",\"family\":\"Helvetica\",\"size\":13},\"zerolinecolor\":\"rgba(0, 0, 0, 1.000)\",\"anchor\":\"y1\"},\"paper_bgcolor\":\"rgba(255, 255, 255, 1.000)\",\"annotations\":[],\"height\":400,\"margin\":{\"l\":0,\"b\":20,\"r\":0,\"t\":20},\"plot_bgcolor\":\"rgba(255, 255, 255, 1.000)\",\"yaxis\":{\"showticklabels\":true,\"gridwidth\":0.5,\"tickvals\":[0.0,5.0,10.0,15.0],\"visible\":true,\"ticks\":\"inside\",\"range\":[-0.45192717679,15.57252063179],\"domain\":[0.09317585301837272,0.9901574803149606],\"tickmode\":\"array\",\"linecolor\":\"rgba(0, 0, 0, 1.000)\",\"showgrid\":true,\"title\":\"Time taken (Seconds)\",\"mirror\":false,\"tickangle\":0,\"showline\":true,\"gridcolor\":\"rgba(0, 0, 0, 0.100)\",\"titlefont\":{\"color\":\"rgba(0, 0, 0, 1.000)\",\"family\":\"Helvetica\",\"size\":21},\"tickcolor\":\"rgb(0, 0, 0)\",\"ticktext\":[\"0\",\"5\",\"10\",\"15\"],\"zeroline\":false,\"type\":\"-\",\"tickfont\":{\"color\":\"rgba(0, 0, 0, 1.000)\",\"family\":\"Helvetica\",\"size\":13},\"zerolinecolor\":\"rgba(0, 0, 0, 1.000)\",\"anchor\":\"x1\"},\"legend\":{\"tracegroupgap\":0,\"bordercolor\":\"rgba(0, 0, 0, 1.000)\",\"bgcolor\":\"rgba(255, 255, 255, 1.000)\",\"font\":{\"color\":\"rgba(0, 0, 0, 1.000)\",\"family\":\"Helvetica\",\"size\":13},\"y\":1.0,\"x\":1.0},\"width\":600});\n",
       "    </script>\n"
      ]
     },
     "execution_count": 168,
     "metadata": {},
     "output_type": "execute_result"
    }
   ],
   "source": [
    "plot(nvs,T1,label=\"TreeRep\",lc = :blue, linewidth = 2, xlabel = \"Nodes\", ylabel = \"Time taken (Seconds)\"; myfonts...)\n",
    "scatter!(nvs,T1,label=\"TreeRep\",xlabel = \"Nodes\", ylabel = \"Time taken (Seconds)\", mc = :blue, shape=:circle; myfonts...)\n",
    "plot!(nvs,T2,label=\"NJ\", lc = :red, linewidth = 2; myfonts...)\n",
    "scatter!(nvs,T2,label=\"NJ\", mc = :red, shape =:xcross; myfonts...)"
   ]
  },
  {
   "cell_type": "code",
   "execution_count": null,
   "metadata": {},
   "outputs": [],
   "source": [
    "plot(nvs,nvs1./nvs,label = \"TreeRep\", xlabel = \"Nodes\", ylabel = \"Ratio of number of nodes in returned tree to original tree\")\n",
    "plot!(nvs, nvs2./nvs,label = \"NJ\")"
   ]
  },
  {
   "cell_type": "markdown",
   "metadata": {},
   "source": [
    "# Zeisel"
   ]
  },
  {
   "cell_type": "code",
   "execution_count": 34,
   "metadata": {},
   "outputs": [
    {
     "data": {
      "text/plain": [
       "1-element Array{Symbol,1}:\n",
       " :A2"
      ]
     },
     "execution_count": 34,
     "metadata": {},
     "output_type": "execute_result"
    }
   ],
   "source": [
    "@load \"zeisel-dists.jld2\" A2"
   ]
  },
  {
   "cell_type": "code",
   "execution_count": null,
   "metadata": {},
   "outputs": [],
   "source": [
    "@load \"cite-dists.jld2\" A2"
   ]
  },
  {
   "cell_type": "code",
   "execution_count": 35,
   "metadata": {},
   "outputs": [
    {
     "data": {
      "text/plain": [
       "{3005, 4513510} undirected simple Int64 graph"
      ]
     },
     "execution_count": 35,
     "metadata": {},
     "output_type": "execute_result"
    }
   ],
   "source": [
    "D = A2\n",
    "n = size(D)[1]\n",
    "G = CompleteGraph(n)"
   ]
  },
  {
   "cell_type": "code",
   "execution_count": 6,
   "metadata": {},
   "outputs": [
    {
     "data": {
      "text/plain": [
       "\"sarich.csv\""
      ]
     },
     "execution_count": 6,
     "metadata": {},
     "output_type": "execute_result"
    }
   ],
   "source": [
    "g = CompleteGraph(size(D)[1])\n",
    "E = ne(g)\n",
    "\n",
    "id1 = convert(Array{Int64,1},zeros(E))\n",
    "id2 = convert(Array{Int64,1},zeros(E))\n",
    "weight = zeros(E)\n",
    "\n",
    "Ed = collect(edges(g))\n",
    "\n",
    "for i = 1:E\n",
    "    e = Ed[i]\n",
    "    id1[i] = e.src\n",
    "    id2[i] = e.dst\n",
    "    weight[i] = D[e.src,e.dst]\n",
    "end\n",
    "\n",
    "df = DataFrame(id1 = id1, id2 = id2, weight = weight)\n",
    "CSV.write(\"sarich.csv\",  df, writeheader=true)"
   ]
  },
  {
   "cell_type": "code",
   "execution_count": 8,
   "metadata": {},
   "outputs": [
    {
     "data": {
      "text/plain": [
       "\"sarich.edges\""
      ]
     },
     "execution_count": 8,
     "metadata": {},
     "output_type": "execute_result"
    }
   ],
   "source": [
    "filename = \"sarich.\"\n",
    "CSV.write(filename*\"edges\",CSV.read(filename*\"csv\"); delim=' ',writeheader=false)"
   ]
  },
  {
   "cell_type": "code",
   "execution_count": null,
   "metadata": {},
   "outputs": [],
   "source": [
    "open(\"zeisel-tree.edges\", \"w\") do f\n",
    "    for e in edges(G2)\n",
    "        i = e.src - 1\n",
    "        j = e.dst - 1\n",
    "        w = W2[i+1,j+1]/100\n",
    "        if w < 0\n",
    "            w = 0\n",
    "        end\n",
    "        write(f, \"$i $j $w\\n\")\n",
    "    end\n",
    "end"
   ]
  },
  {
   "cell_type": "code",
   "execution_count": null,
   "metadata": {},
   "outputs": [],
   "source": [
    "using MAT\n",
    "\n",
    "X = matread(\"./zeisel_data.mat\")[\"zeisel_data\"]\n",
    "N = ((ones(4000)'*X.^2)'*ones(3005)')\n",
    "A2 = N + N' - 2* X'*X\n",
    "for i = 1:3005\n",
    "    A2[i,i] = 0\n",
    "end\n",
    "A2 = A2.^(0.5)"
   ]
  },
  {
   "cell_type": "code",
   "execution_count": null,
   "metadata": {},
   "outputs": [],
   "source": [
    "d,n = size(X)\n",
    "A = zeros(n,n)\n",
    "@showprogress for i = 1:n\n",
    "    for j = 1:i-1\n",
    "        A[i,j] = sum((D[:,i]-D[:,j]).^2)^(0.5)\n",
    "    end\n",
    "end"
   ]
  },
  {
   "cell_type": "markdown",
   "metadata": {},
   "source": [
    "# Load Data Sets"
   ]
  },
  {
   "cell_type": "code",
   "execution_count": 92,
   "metadata": {},
   "outputs": [
    {
     "data": {
      "text/plain": [
       "8×8 Array{Int64,2}:\n",
       "   0   32   48   51   50   48   98  148\n",
       "  32    0   26   34   29   33   84  136\n",
       "  48   26    0   42   44   44   92  152\n",
       "  51   34   42    0   44   38   86  142\n",
       "  50   29   44   44    0   24   89  142\n",
       "  48   33   44   38   24    0   90  142\n",
       "  98   84   92   86   89   90    0  148\n",
       " 148  136  152  142  142  142  148    0"
      ]
     },
     "execution_count": 92,
     "metadata": {},
     "output_type": "execute_result"
    }
   ],
   "source": [
    "D = [ 0  32  48  51  50  48  98 148;\n",
    "32   0  26  34  29  33  84 136;\n",
    "48  26   0  42  44  44  92 152;\n",
    "51  34  42   0  44  38  86 142;\n",
    "50  29  44  44   0  24  89 142;\n",
    "48  33  44  38  24   0  90 142;\n",
    "98  84  92  86  89  90   0 148;\n",
    "148 136 152 142 142 142 148 0]"
   ]
  },
  {
   "cell_type": "code",
   "execution_count": null,
   "metadata": {},
   "outputs": [],
   "source": [
    "G,w = utilities.read_tree_withweights(\"./../hyperbolics-master/data/edges/bio-CE-GT.edges\",\" \")\n",
    "n = nv(G)\n",
    "E = ne(G)\n",
    "@show((n,E));\n",
    "@show(is_connected(G));"
   ]
  },
  {
   "cell_type": "code",
   "execution_count": 12,
   "metadata": {},
   "outputs": [
    {
     "name": "stdout",
     "output_type": "stream",
     "text": [
      "(n, E) = (74374, 75834)\n",
      "is_connected(G) = true\n"
     ]
    }
   ],
   "source": [
    "G = utilities.remove_loops(utilities.read_tree(\"./../hyperbolics-master/data/edges/wordnet.edges\",\" \"))\n",
    "n = nv(G)\n",
    "E = ne(G)\n",
    "@show((n,E));\n",
    "@show(is_connected(G));"
   ]
  },
  {
   "cell_type": "code",
   "execution_count": 5,
   "metadata": {},
   "outputs": [
    {
     "data": {
      "text/plain": [
       "2"
      ]
     },
     "execution_count": 5,
     "metadata": {},
     "output_type": "execute_result"
    }
   ],
   "source": [
    "C = connected_components(G)\n",
    "idxmax = argmax(length.(C))"
   ]
  },
  {
   "cell_type": "code",
   "execution_count": 6,
   "metadata": {},
   "outputs": [
    {
     "name": "stdout",
     "output_type": "stream",
     "text": [
      "is_connected(g) = true\n",
      "33695 180810"
     ]
    }
   ],
   "source": [
    "g,V = induced_subgraph(G, C[idxmax])\n",
    "@show(is_connected(g));\n",
    "n = nv(g)\n",
    "E = ne(g)\n",
    "\n",
    "print(n,\" \",E)"
   ]
  },
  {
   "cell_type": "code",
   "execution_count": 7,
   "metadata": {},
   "outputs": [
    {
     "ename": "UndefVarError",
     "evalue": "UndefVarError: w not defined",
     "output_type": "error",
     "traceback": [
      "UndefVarError: w not defined",
      "",
      "Stacktrace:",
      " [1] top-level scope at In[7]:1"
     ]
    }
   ],
   "source": [
    "W = w[V,V];"
   ]
  },
  {
   "cell_type": "code",
   "execution_count": 8,
   "metadata": {},
   "outputs": [],
   "source": [
    "W = adjacency_matrix(g);"
   ]
  },
  {
   "cell_type": "code",
   "execution_count": 9,
   "metadata": {},
   "outputs": [
    {
     "name": "stderr",
     "output_type": "stream",
     "text": [
      "\u001b[32mProgress: 100%|█████████████████████████████████████████|  ETA: 0:00:00\u001b[39m"
     ]
    },
    {
     "name": "stdout",
     "output_type": "stream",
     "text": [
      "299.370357 seconds (5.22 M allocations: 130.667 GiB, 11.61% gc time)\n"
     ]
    }
   ],
   "source": [
    "@time D = utilities.parallel_dp_shortest_paths(g,adjacency_matrix(g));"
   ]
  },
  {
   "cell_type": "code",
   "execution_count": 10,
   "metadata": {},
   "outputs": [
    {
     "data": {
      "text/plain": [
       "13"
      ]
     },
     "execution_count": 10,
     "metadata": {},
     "output_type": "execute_result"
    }
   ],
   "source": [
    "maximum(D)"
   ]
  },
  {
   "cell_type": "code",
   "execution_count": 58,
   "metadata": {},
   "outputs": [
    {
     "data": {
      "text/plain": [
       "0.23214285714285715"
      ]
     },
     "execution_count": 58,
     "metadata": {},
     "output_type": "execute_result"
    }
   ],
   "source": [
    "6.5/28"
   ]
  },
  {
   "cell_type": "code",
   "execution_count": null,
   "metadata": {},
   "outputs": [
    {
     "name": "stderr",
     "output_type": "stream",
     "text": [
      "\u001b[32mProgress:   5%|██                                       |  ETA: 0:35:09\u001b[39m"
     ]
    }
   ],
   "source": [
    "d = utilities.calc_delta_for_w(D,1)"
   ]
  },
  {
   "cell_type": "code",
   "execution_count": 60,
   "metadata": {},
   "outputs": [
    {
     "data": {
      "text/plain": [
       "0.17647058823529413"
      ]
     },
     "execution_count": 60,
     "metadata": {},
     "output_type": "execute_result"
    }
   ],
   "source": [
    "3/17"
   ]
  },
  {
   "cell_type": "code",
   "execution_count": null,
   "metadata": {},
   "outputs": [],
   "source": [
    "celegans = 1.5, 0.021949574631569782\n",
    "diseasome = 2.5, 0.03335496540574415\n",
    "phd = 6.5, 0.08464395557806965\n",
    "yeast = \n",
    "grid worm = \n"
   ]
  },
  {
   "cell_type": "raw",
   "metadata": {},
   "source": [
    "n = 1000\n",
    "D = utilities.rand_hyperbolic3(1000,3,1000);"
   ]
  },
  {
   "cell_type": "code",
   "execution_count": 127,
   "metadata": {},
   "outputs": [
    {
     "name": "stdout",
     "output_type": "stream",
     "text": [
      "(nv(G), ne(G)) = (14, 13)\n"
     ]
    },
    {
     "data": {
      "text/plain": [
       "0.000623699"
      ]
     },
     "execution_count": 127,
     "metadata": {},
     "output_type": "execute_result"
    }
   ],
   "source": [
    "@elapsed G2,W2 = TreeRep.metric_to_structure(D,undef,undef)\n",
    "\n",
    "flush(stdout)\n",
    "B = W2[1:nv(G2),1:nv(G2)];\n",
    "B = sparse(B);\n",
    "B = (B .> 0) .* B;"
   ]
  },
  {
   "cell_type": "code",
   "execution_count": 101,
   "metadata": {},
   "outputs": [],
   "source": [
    "D2 = utilities.parallel_dp_shortest_paths(G2, B, false);"
   ]
  },
  {
   "cell_type": "code",
   "execution_count": 10,
   "metadata": {},
   "outputs": [
    {
     "data": {
      "text/plain": [
       "82.0709114074707"
      ]
     },
     "execution_count": 10,
     "metadata": {},
     "output_type": "execute_result"
    }
   ],
   "source": [
    "Sys.free_memory()/2^(30)"
   ]
  },
  {
   "cell_type": "code",
   "execution_count": null,
   "metadata": {},
   "outputs": [],
   "source": [
    "utilities.avg_distortion(D2[1:n,1:n],D)"
   ]
  },
  {
   "cell_type": "code",
   "execution_count": null,
   "metadata": {},
   "outputs": [],
   "source": [
    "utilities.MAP(D[1:n,1:n],g)"
   ]
  },
  {
   "cell_type": "code",
   "execution_count": null,
   "metadata": {},
   "outputs": [],
   "source": [
    "SparseRep.add_kEdges(G2,B,g,D,20)"
   ]
  },
  {
   "cell_type": "code",
   "execution_count": null,
   "metadata": {},
   "outputs": [],
   "source": [
    "SparseRep.repeat_merge(D,g,n,20)"
   ]
  },
  {
   "cell_type": "code",
   "execution_count": null,
   "metadata": {},
   "outputs": [],
   "source": [
    "graphplot(D2.*adjacency_matrix(G2))"
   ]
  },
  {
   "cell_type": "markdown",
   "metadata": {},
   "source": [
    "# Ultra method"
   ]
  },
  {
   "cell_type": "code",
   "execution_count": 125,
   "metadata": {
    "code_folding": [
     0,
     8,
     37,
     86
    ]
   },
   "outputs": [
    {
     "data": {
      "text/plain": [
       "eps (generic function with 1 method)"
      ]
     },
     "execution_count": 125,
     "metadata": {},
     "output_type": "execute_result"
    }
   ],
   "source": [
    "function compute_Ca(D,a=1)\n",
    "    n = size(D)[1]\n",
    "    ma = maximum(D[a,:])\n",
    "    Ca = 2*ma .- (ones(n)*D[a,:]' + D[a,:]*ones(n)')\n",
    "    \n",
    "    return Ca\n",
    "end\n",
    "\n",
    "function compute_U(M)\n",
    "    n = size(M)[1]\n",
    "    G = CompleteGraph(n)\n",
    "    r = LightGraphs.prim_mst(G,M)\n",
    "    R = SimpleGraph(n)\n",
    "    for e in r\n",
    "        add_edge!(R,e)\n",
    "    end\n",
    "    \n",
    "    A = LightGraphs.adjacency_matrix(R)\n",
    "    Mp = A .* M\n",
    "    \n",
    "    nextroots = collect(n+2:3*n)\n",
    "    W = spzeros(3*n,3*n)\n",
    "    \n",
    "    W,nextroots = recurse_U(R,collect(1:n),Mp,nextroots,W,n+1)\n",
    "    \n",
    "    T = SimpleGraph(3*n)\n",
    "    I,J,V = findnz(W)\n",
    "    for k = 1:length(I)\n",
    "        add_edge!(T,I[k],J[k])\n",
    "        if W[I[k],J[k]] == -1\n",
    "            W[I[k],J[k]] = 0\n",
    "        end\n",
    "    end\n",
    "    \n",
    "    return T,W\n",
    "end\n",
    "\n",
    "function recurse_U(T,V,M,nextroots,W,r)\n",
    "    if length(V) == 1\n",
    "        W[r,V[1]] = -1\n",
    "        W[V[1],r] = -1\n",
    "        \n",
    "        return W,nextroots\n",
    "    end\n",
    "    \n",
    "    r1 = nextroots[1]\n",
    "    r2 = nextroots[2]\n",
    "    \n",
    "    n = size(M)[1]\n",
    "    I,J,U = findnz(M)\n",
    "    m = argmax(U)\n",
    "    i = I[m]\n",
    "    j = J[m]\n",
    "    \n",
    "    W[r,r1] = U[m]/2\n",
    "    W[r,r2] = U[m]/2\n",
    "    W[r2,r] = U[m]/2\n",
    "    W[r1,r] = U[m]/2\n",
    "    \n",
    "    Aij = M[i,j]\n",
    "    \n",
    "    rem_edge!(T,i,j)\n",
    "    C = connected_components(T)\n",
    "    \n",
    "    T1,V1 = induced_subgraph(T,C[1])\n",
    "    T2,V2 = induced_subgraph(T,C[2])\n",
    "    \n",
    "    M1 = M[V1,V1]\n",
    "    M2 = M[V2,V2]\n",
    "    \n",
    "    U1 = copy(V1)\n",
    "    U2 = copy(V2)\n",
    "    \n",
    "    for k = 1:length(V1)\n",
    "        V1[k] = V[V1[k]]\n",
    "    end\n",
    "    for k = 1:length(V2)\n",
    "        V2[k] = V[V2[k]]\n",
    "    end\n",
    "    \n",
    "    W,nextroots = recurse_U(T1,V1,M1,nextroots[3:end],W,r1)\n",
    "    W,nextroots = recurse_U(T2,V2,M2,nextroots,W,r2)\n",
    "   \n",
    "    return W,nextroots\n",
    "end\n",
    "\n",
    "function eps(D)\n",
    "    n = size(D)[1]\n",
    "    Ca = compute_Ca(D)\n",
    "    M = D + Ca\n",
    "    T,W = compute_U(M)\n",
    "    C = connected_components(T)\n",
    "    T1,_ = induced_subgraph(T,C[argmax(length.(C))])\n",
    "    U = LightGraphs.Parallel.floyd_warshall_shortest_paths(T1,W).dists\n",
    "    AD = U[1:n,1:n] - Ca\n",
    "    \n",
    "    @time R = NJ.nj!(copy(convert(Matrix{Float64},AD)))\n",
    "    g2 = SimpleGraph(R.numNodes)\n",
    "    w = spzeros(R.numNodes,R.numNodes)\n",
    "    for i = 1:R.numEdges\n",
    "        src = R.edge[i].node[1].number\n",
    "        dst = R.edge[i].node[2].number\n",
    "        add_edge!(g2,src,dst)\n",
    "        w[src,dst] = R.edge[i].length\n",
    "        w[dst,src] = w[src,dst]\n",
    "    end\n",
    "    \n",
    "    return g2,w\n",
    "end\n",
    "    "
   ]
  },
  {
   "cell_type": "code",
   "execution_count": 135,
   "metadata": {},
   "outputs": [
    {
     "data": {
      "text/plain": [
       "7×7 Array{Int64,2}:\n",
       " 0  1  1  2  2  2  2\n",
       " 1  0  2  1  1  3  3\n",
       " 1  2  0  3  3  1  1\n",
       " 2  1  3  0  2  4  4\n",
       " 2  1  3  2  0  4  4\n",
       " 2  3  1  4  4  0  2\n",
       " 2  3  1  4  4  2  0"
      ]
     },
     "execution_count": 135,
     "metadata": {},
     "output_type": "execute_result"
    }
   ],
   "source": [
    "g = BinaryTree(3)\n",
    "Dg = LightGraphs.floyd_warshall_shortest_paths(g).dists"
   ]
  },
  {
   "cell_type": "code",
   "execution_count": 138,
   "metadata": {},
   "outputs": [
    {
     "name": "stdout",
     "output_type": "stream",
     "text": [
      "Edge 1 => 2\n",
      "Edge 1 => 3\n",
      "Edge 2 => 4\n",
      "Edge 2 => 5\n",
      "Edge 3 => 6\n",
      "Edge 3 => 7\n"
     ]
    }
   ],
   "source": [
    "r = LightGraphs.prim_mst(g,Dg)\n",
    "R = SimpleGraph(7)\n",
    "for e in r\n",
    "    println(e)\n",
    "    add_edge!(R,e)\n",
    "end"
   ]
  },
  {
   "cell_type": "code",
   "execution_count": null,
   "metadata": {},
   "outputs": [],
   "source": []
  },
  {
   "cell_type": "code",
   "execution_count": 139,
   "metadata": {},
   "outputs": [
    {
     "data": {
      "text/plain": [
       "({21, 19} undirected simple Int64 graph, \n",
       "  [11,  1]  =  0.0\n",
       "  [19,  2]  =  0.0\n",
       "  [15,  3]  =  0.0\n",
       "  [18,  4]  =  0.0\n",
       "  [20,  5]  =  0.0\n",
       "  [14,  6]  =  0.0\n",
       "  [16,  7]  =  0.0\n",
       "  [9 ,  8]  =  0.5\n",
       "  [10,  8]  =  0.5\n",
       "  [8 ,  9]  =  0.5\n",
       "  [11,  9]  =  0.5\n",
       "  [12,  9]  =  0.5\n",
       "  ⋮\n",
       "  [13, 15]  =  0.5\n",
       "  [7 , 16]  =  0.0\n",
       "  [13, 16]  =  0.5\n",
       "  [10, 17]  =  0.5\n",
       "  [19, 17]  =  0.5\n",
       "  [20, 17]  =  0.5\n",
       "  [4 , 18]  =  0.0\n",
       "  [10, 18]  =  0.5\n",
       "  [2 , 19]  =  0.0\n",
       "  [17, 19]  =  0.5\n",
       "  [5 , 20]  =  0.0\n",
       "  [17, 20]  =  0.5)"
      ]
     },
     "execution_count": 139,
     "metadata": {},
     "output_type": "execute_result"
    }
   ],
   "source": [
    "T,W = compute_U(Dg)"
   ]
  },
  {
   "cell_type": "code",
   "execution_count": 140,
   "metadata": {},
   "outputs": [
    {
     "data": {
      "text/plain": [
       "2-element Array{Array{Int64,1},1}:\n",
       " [1, 2, 3, 4, 5, 6, 7, 8, 9, 10, 11, 12, 13, 14, 15, 16, 17, 18, 19, 20]\n",
       " [21]                                                                   "
      ]
     },
     "execution_count": 140,
     "metadata": {},
     "output_type": "execute_result"
    }
   ],
   "source": [
    "C = connected_components(T)"
   ]
  },
  {
   "cell_type": "code",
   "execution_count": 141,
   "metadata": {},
   "outputs": [
    {
     "data": {
      "text/plain": [
       "({20, 19} undirected simple Int64 graph, [1, 2, 3, 4, 5, 6, 7, 8, 9, 10, 11, 12, 13, 14, 15, 16, 17, 18, 19, 20])"
      ]
     },
     "execution_count": 141,
     "metadata": {},
     "output_type": "execute_result"
    }
   ],
   "source": [
    "T1,_ = induced_subgraph(T,C[1])"
   ]
  },
  {
   "cell_type": "code",
   "execution_count": 142,
   "metadata": {},
   "outputs": [
    {
     "name": "stdout",
     "output_type": "stream",
     "text": [
      "Edge 1 => 11\n",
      "Edge 2 => 19\n",
      "Edge 3 => 15\n",
      "Edge 4 => 18\n",
      "Edge 5 => 20\n",
      "Edge 6 => 14\n",
      "Edge 7 => 16\n",
      "Edge 8 => 9\n",
      "Edge 8 => 10\n",
      "Edge 9 => 11\n",
      "Edge 9 => 12\n",
      "Edge 10 => 17\n",
      "Edge 10 => 18\n",
      "Edge 12 => 13\n",
      "Edge 12 => 14\n",
      "Edge 13 => 15\n",
      "Edge 13 => 16\n",
      "Edge 17 => 19\n",
      "Edge 17 => 20\n"
     ]
    }
   ],
   "source": [
    "for e in edges(T1)\n",
    "    println(e)\n",
    "end"
   ]
  },
  {
   "cell_type": "code",
   "execution_count": 143,
   "metadata": {},
   "outputs": [
    {
     "data": {
      "text/plain": [
       "20×20 Array{Float64,2}:\n",
       " 0.0  2.5  2.0  2.0  2.5  1.5  2.0  1.0  …  1.5  2.0  2.0  2.0  2.0  2.5  2.5\n",
       " 2.5  0.0  3.5  1.5  1.0  3.0  3.5  1.5     3.0  3.5  3.5  0.5  1.5  0.0  1.0\n",
       " 2.0  3.5  0.0  3.0  3.5  1.5  1.0  2.0     1.5  0.0  1.0  3.0  3.0  3.5  3.5\n",
       " 2.0  1.5  3.0  0.0  1.5  2.5  3.0  1.0     2.5  3.0  3.0  1.0  0.0  1.5  1.5\n",
       " 2.5  1.0  3.5  1.5  0.0  3.0  3.5  1.5     3.0  3.5  3.5  0.5  1.5  1.0  0.0\n",
       " 1.5  3.0  1.5  2.5  3.0  0.0  1.5  1.5  …  0.0  1.5  1.5  2.5  2.5  3.0  3.0\n",
       " 2.0  3.5  1.0  3.0  3.5  1.5  0.0  2.0     1.5  1.0  0.0  3.0  3.0  3.5  3.5\n",
       " 1.0  1.5  2.0  1.0  1.5  1.5  2.0  0.0     1.5  2.0  2.0  1.0  1.0  1.5  1.5\n",
       " 0.5  2.0  1.5  1.5  2.0  1.0  1.5  0.5     1.0  1.5  1.5  1.5  1.5  2.0  2.0\n",
       " 1.5  1.0  2.5  0.5  1.0  2.0  2.5  0.5     2.0  2.5  2.5  0.5  0.5  1.0  1.0\n",
       " 0.0  2.5  2.0  2.0  2.5  1.5  2.0  1.0  …  1.5  2.0  2.0  2.0  2.0  2.5  2.5\n",
       " 1.0  2.5  1.0  2.0  2.5  0.5  1.0  1.0     0.5  1.0  1.0  2.0  2.0  2.5  2.5\n",
       " 1.5  3.0  0.5  2.5  3.0  1.0  0.5  1.5     1.0  0.5  0.5  2.5  2.5  3.0  3.0\n",
       " 1.5  3.0  1.5  2.5  3.0  0.0  1.5  1.5     0.0  1.5  1.5  2.5  2.5  3.0  3.0\n",
       " 2.0  3.5  0.0  3.0  3.5  1.5  1.0  2.0     1.5  0.0  1.0  3.0  3.0  3.5  3.5\n",
       " 2.0  3.5  1.0  3.0  3.5  1.5  0.0  2.0  …  1.5  1.0  0.0  3.0  3.0  3.5  3.5\n",
       " 2.0  0.5  3.0  1.0  0.5  2.5  3.0  1.0     2.5  3.0  3.0  0.0  1.0  0.5  0.5\n",
       " 2.0  1.5  3.0  0.0  1.5  2.5  3.0  1.0     2.5  3.0  3.0  1.0  0.0  1.5  1.5\n",
       " 2.5  0.0  3.5  1.5  1.0  3.0  3.5  1.5     3.0  3.5  3.5  0.5  1.5  0.0  1.0\n",
       " 2.5  1.0  3.5  1.5  0.0  3.0  3.5  1.5     3.0  3.5  3.5  0.5  1.5  1.0  0.0"
      ]
     },
     "execution_count": 143,
     "metadata": {},
     "output_type": "execute_result"
    }
   ],
   "source": [
    "D2 = LightGraphs.floyd_warshall_shortest_paths(T1,W).dists"
   ]
  },
  {
   "cell_type": "code",
   "execution_count": 145,
   "metadata": {},
   "outputs": [
    {
     "data": {
      "text/plain": [
       "7"
      ]
     },
     "execution_count": 145,
     "metadata": {},
     "output_type": "execute_result"
    }
   ],
   "source": [
    "n = 7"
   ]
  },
  {
   "cell_type": "code",
   "execution_count": 151,
   "metadata": {},
   "outputs": [
    {
     "data": {
      "text/plain": [
       "7×7 BitArray{2}:\n",
       "  true  true  true   true   true  false   true\n",
       "  true  true  true   true   true   true   true\n",
       "  true  true  true   true   true   true   true\n",
       "  true  true  true   true  false  false  false\n",
       "  true  true  true  false   true  false  false\n",
       " false  true  true  false  false   true  false\n",
       "  true  true  true  false  false  false   true"
      ]
     },
     "execution_count": 151,
     "metadata": {},
     "output_type": "execute_result"
    }
   ],
   "source": [
    "D2[1:n,1:n] .>= Dg"
   ]
  },
  {
   "cell_type": "markdown",
   "metadata": {},
   "source": [
    "# Construct Tree"
   ]
  },
  {
   "cell_type": "code",
   "execution_count": 10,
   "metadata": {},
   "outputs": [
    {
     "data": {
      "text/plain": [
       "{3005, 4513510} undirected simple Int64 graph"
      ]
     },
     "execution_count": 10,
     "metadata": {},
     "output_type": "execute_result"
    }
   ],
   "source": [
    "g = CompleteGraph(n)"
   ]
  },
  {
   "cell_type": "code",
   "execution_count": 142,
   "metadata": {},
   "outputs": [
    {
     "name": "stdout",
     "output_type": "stream",
     "text": [
      "  0.147845 seconds (163.83 k allocations: 8.106 MiB)\n"
     ]
    },
    {
     "data": {
      "text/plain": [
       "({14, 13} undirected simple Int64 graph, [0.0 32.0 … 0.0 0.0; 32.0 0.0 … 0.0 0.0; … ; 0.0 0.0 … 0.0 0.0; 0.0 0.0 … 0.0 0.0])"
      ]
     },
     "execution_count": 142,
     "metadata": {},
     "output_type": "execute_result"
    }
   ],
   "source": [
    "global λ = 2000\n",
    "n = size(D)[1]\n",
    "@time T,W4 = ConstructTree.basicConstructTree(collect(2:n),1,D)"
   ]
  },
  {
   "cell_type": "code",
   "execution_count": 10,
   "metadata": {},
   "outputs": [
    {
     "name": "stdout",
     "output_type": "stream",
     "text": [
      "  0.138508 seconds (152.84 k allocations: 7.182 MiB)\n"
     ]
    }
   ],
   "source": [
    "@time D4 = LightGraphs.floyd_warshall_shortest_paths(T,W4[1:nv(T),1:nv(T)]).dists;"
   ]
  },
  {
   "cell_type": "code",
   "execution_count": 20,
   "metadata": {},
   "outputs": [
    {
     "data": {
      "text/plain": [
       "0.42210600715879026"
      ]
     },
     "execution_count": 20,
     "metadata": {},
     "output_type": "execute_result"
    }
   ],
   "source": [
    "α = tr(D4[1:n,1:n]'*D)/tr(D4[1:n,1:n]'*D4[1:n,1:n])"
   ]
  },
  {
   "cell_type": "code",
   "execution_count": 21,
   "metadata": {},
   "outputs": [
    {
     "data": {
      "text/plain": [
       "0.7121231446658032"
      ]
     },
     "execution_count": 21,
     "metadata": {},
     "output_type": "execute_result"
    }
   ],
   "source": [
    "utilities.avg_distortion(D4[1:n,1:n]*α,D)"
   ]
  },
  {
   "cell_type": "code",
   "execution_count": null,
   "metadata": {},
   "outputs": [],
   "source": [
    "utilities.MAP(D4[1:n,1:n],g)"
   ]
  },
  {
   "cell_type": "markdown",
   "metadata": {},
   "source": [
    "# Calculating for Facebook"
   ]
  },
  {
   "cell_type": "code",
   "execution_count": null,
   "metadata": {},
   "outputs": [],
   "source": [
    "Z = CSV.read(\"rand-dim$sc-scale1.csv\")\n",
    "D = zeros(100,100)\n",
    "for k = 1:50*99\n",
    "    i = Z[k,1]\n",
    "    j = Z[k,2]\n",
    "    D[i,j] = Z[k,3]\n",
    "    D[j,i] = Z[k,3]\n",
    "end"
   ]
  },
  {
   "cell_type": "code",
   "execution_count": null,
   "metadata": {},
   "outputs": [],
   "source": [
    "dist7 = zeros(10)"
   ]
  },
  {
   "cell_type": "code",
   "execution_count": 5,
   "metadata": {},
   "outputs": [],
   "source": [
    "p = collect(1:n) #npzread(\"./../../../grid-worm-order.npy\");"
   ]
  },
  {
   "cell_type": "code",
   "execution_count": 6,
   "metadata": {},
   "outputs": [],
   "source": [
    "IndexToIdx = copy(p)\n",
    "for i = 1:length(p)\n",
    "    IndexToIdx[p[i]] = i\n",
    "end"
   ]
  },
  {
   "cell_type": "code",
   "execution_count": 7,
   "metadata": {},
   "outputs": [],
   "source": [
    "IndexToIdx;"
   ]
  },
  {
   "cell_type": "code",
   "execution_count": 8,
   "metadata": {},
   "outputs": [],
   "source": [
    "D2 = npzread(\"./zeisel-knn10.npy\")\n",
    "D2p = copy(D2)\n",
    "for i = 1:length(p)\n",
    "    for j = 1:i-1\n",
    "        D2p[i,j] = D2[IndexToIdx[i],IndexToIdx[j]]\n",
    "        D2p[j,i] = D2p[i,j]\n",
    "    end\n",
    "end"
   ]
  },
  {
   "cell_type": "code",
   "execution_count": 9,
   "metadata": {},
   "outputs": [
    {
     "data": {
      "text/plain": [
       "8.22483850533057"
      ]
     },
     "execution_count": 9,
     "metadata": {},
     "output_type": "execute_result"
    }
   ],
   "source": [
    "α = tr(D2p[1:n,1:n]'*D)/tr(D2p[1:n,1:n]'*D2p[1:n,1:n])"
   ]
  },
  {
   "cell_type": "code",
   "execution_count": 10,
   "metadata": {},
   "outputs": [
    {
     "data": {
      "text/plain": [
       "0.2944394342975348"
      ]
     },
     "execution_count": 10,
     "metadata": {},
     "output_type": "execute_result"
    }
   ],
   "source": [
    "utilities.avg_distortion(D2p*α,D)"
   ]
  },
  {
   "cell_type": "code",
   "execution_count": null,
   "metadata": {},
   "outputs": [],
   "source": [
    "utilities.MAP(D2p[1:n,1:n],g)"
   ]
  },
  {
   "cell_type": "markdown",
   "metadata": {},
   "source": [
    "# Calculate Hyperbolic_models"
   ]
  },
  {
   "cell_type": "code",
   "execution_count": 109,
   "metadata": {},
   "outputs": [
    {
     "data": {
      "text/plain": [
       "10-element Array{Float64,1}:\n",
       " 0.0\n",
       " 0.0\n",
       " 0.0\n",
       " 0.0\n",
       " 0.0\n",
       " 0.0\n",
       " 0.0\n",
       " 0.0\n",
       " 0.0\n",
       " 0.0"
      ]
     },
     "execution_count": 109,
     "metadata": {},
     "output_type": "execute_result"
    }
   ],
   "source": [
    "dist8 = zeros(10)\n",
    "dist9 = zeros(10)"
   ]
  },
  {
   "cell_type": "code",
   "execution_count": 110,
   "metadata": {},
   "outputs": [
    {
     "data": {
      "text/plain": [
       "100"
      ]
     },
     "execution_count": 110,
     "metadata": {},
     "output_type": "execute_result"
    }
   ],
   "source": [
    "n=100"
   ]
  },
  {
   "cell_type": "code",
   "execution_count": 158,
   "metadata": {},
   "outputs": [
    {
     "data": {
      "text/plain": [
       "1024"
      ]
     },
     "execution_count": 158,
     "metadata": {},
     "output_type": "execute_result"
    }
   ],
   "source": [
    "i = 10\n",
    "sc = 2^i"
   ]
  },
  {
   "cell_type": "code",
   "execution_count": 159,
   "metadata": {},
   "outputs": [],
   "source": [
    "Z = CSV.read(\"rand-dim$sc-scale1.csv\")\n",
    "D = zeros(100,100)\n",
    "for k = 1:50*99\n",
    "    ii = Z[k,1]\n",
    "    j = Z[k,2]\n",
    "    D[ii,j] = Z[k,3]\n",
    "    D[j,ii] = Z[k,3]\n",
    "end"
   ]
  },
  {
   "cell_type": "code",
   "execution_count": 160,
   "metadata": {},
   "outputs": [],
   "source": [
    "D2 = npzread(\"./rand-dim$sc-scale1-l-1024npy.npy\")\n",
    "for i = 1:n\n",
    "    D2[i,i] = 0\n",
    "end"
   ]
  },
  {
   "cell_type": "code",
   "execution_count": 161,
   "metadata": {},
   "outputs": [
    {
     "data": {
      "text/plain": [
       "0.38430030936803233"
      ]
     },
     "execution_count": 161,
     "metadata": {},
     "output_type": "execute_result"
    }
   ],
   "source": [
    "α = tr(D2[1:n,1:n]'*D)/tr(D2[1:n,1:n]'*D2[1:n,1:n])"
   ]
  },
  {
   "cell_type": "code",
   "execution_count": 162,
   "metadata": {},
   "outputs": [
    {
     "data": {
      "text/plain": [
       "0.10490860563948282"
      ]
     },
     "execution_count": 162,
     "metadata": {},
     "output_type": "execute_result"
    }
   ],
   "source": [
    "dist8[i] = utilities.avg_distortion(D2*α,D)"
   ]
  },
  {
   "cell_type": "code",
   "execution_count": 151,
   "metadata": {},
   "outputs": [
    {
     "data": {
      "text/plain": [
       "1.000000000000027"
      ]
     },
     "execution_count": 151,
     "metadata": {},
     "output_type": "execute_result"
    }
   ],
   "source": [
    "utilities.MAP(D2[1:n,1:n],g)"
   ]
  },
  {
   "cell_type": "code",
   "execution_count": null,
   "metadata": {},
   "outputs": [],
   "source": [
    "neighborhood(g,1,1)"
   ]
  },
  {
   "cell_type": "markdown",
   "metadata": {},
   "source": [
    "# Level version algoriton"
   ]
  },
  {
   "cell_type": "code",
   "execution_count": 14,
   "metadata": {
    "scrolled": true
   },
   "outputs": [
    {
     "name": "stdout",
     "output_type": "stream",
     "text": [
      "  0.638097 seconds (1.02 M allocations: 87.435 MiB)\n"
     ]
    }
   ],
   "source": [
    "@time gT = utilities.remove_loops(LevelTree.build_level_graph(g,D,1))\n",
    "DT = utilities.parallel_dp_shortest_paths(gT, adjacency_matrix(gT));"
   ]
  },
  {
   "cell_type": "code",
   "execution_count": 15,
   "metadata": {},
   "outputs": [
    {
     "data": {
      "text/plain": [
       "0.2722030902680685"
      ]
     },
     "execution_count": 15,
     "metadata": {},
     "output_type": "execute_result"
    }
   ],
   "source": [
    "utilities.MAP(DT,g)"
   ]
  },
  {
   "cell_type": "code",
   "execution_count": 18,
   "metadata": {},
   "outputs": [
    {
     "data": {
      "text/plain": [
       "0.16642753426157253"
      ]
     },
     "execution_count": 18,
     "metadata": {},
     "output_type": "execute_result"
    }
   ],
   "source": [
    "α = tr(DT[1:n,1:n]'*D)/tr(DT[1:n,1:n]'*DT[1:n,1:n])\n",
    "utilities.avg_distortion(DT[1:n,1:n]*α,D)"
   ]
  },
  {
   "cell_type": "markdown",
   "metadata": {},
   "source": [
    "# Tree Rep"
   ]
  },
  {
   "cell_type": "code",
   "execution_count": null,
   "metadata": {},
   "outputs": [],
   "source": [
    "global p2 = Progress(nv(g))\n",
    "global jj = 0"
   ]
  },
  {
   "cell_type": "code",
   "execution_count": 11,
   "metadata": {
    "code_folding": []
   },
   "outputs": [
    {
     "data": {
      "text/plain": [
       "1"
      ]
     },
     "execution_count": 11,
     "metadata": {},
     "output_type": "execute_result"
    }
   ],
   "source": [
    "NN = 20\n",
    "\n",
    "times = zeros(NN)\n",
    "map2 = zeros(NN)\n",
    "distort = zeros(NN)\n",
    "map2opt = zeros(NN)\n",
    "distortopt = zeros(NN)\n",
    "j = 1"
   ]
  },
  {
   "cell_type": "code",
   "execution_count": null,
   "metadata": {
    "code_folding": [
     0
    ],
    "scrolled": false
   },
   "outputs": [
    {
     "name": "stdout",
     "output_type": "stream",
     "text": [
      "(nv(G), ne(G)) = (5536, 5535)\n",
      "Sys.free_memory() / 2 ^ 30 = 9.115985870361328\n",
      "Sys.free_memory() / 2 ^ 30 = 8.28631591796875\n"
     ]
    },
    {
     "name": "stderr",
     "output_type": "stream",
     "text": [
      "\u001b[32mProgress:  98%|████████████████████████████████████████ |  ETA: 0:00:00\u001b[39m"
     ]
    },
    {
     "name": "stdout",
     "output_type": "stream",
     "text": [
      "Sys.free_memory() / 2 ^ 30 = 0.14223861694335938\n",
      "Sys.free_memory() / 2 ^ 30 = 0.15359115600585938\n",
      "(times[j], distort[j], map2[j]) = (80.291470019, 0.19110500291949384, 0.686652532276688)\n",
      "(nv(G), ne(G)) = (5539, 5538)\n",
      "Sys.free_memory() / 2 ^ 30 = 8.908164978027344\n",
      "Sys.free_memory() / 2 ^ 30 = 8.079017639160156\n"
     ]
    },
    {
     "name": "stderr",
     "output_type": "stream",
     "text": [
      "\u001b[32mProgress:  97%|████████████████████████████████████████ |  ETA: 0:00:00\u001b[39m"
     ]
    }
   ],
   "source": [
    "for j = 1:20\n",
    "    times[j] = @elapsed G2,W2 = TreeRep.metric_to_structure(D,undef,undef);\n",
    "    \n",
    "    flush(stdout)\n",
    "    B = W2[1:nv(G2),1:nv(G2)];\n",
    "    B = sparse(B);\n",
    "    B = (B .> 0) .* B;\n",
    "    \n",
    "    D2 = utilities.parallel_dp_shortest_paths(G2, B,false);\n",
    "    α = tr(D2[1:n,1:n]'*D)/tr(D2[1:n,1:n]'*D2[1:n,1:n])\n",
    "    \n",
    "    map2[j] = utilities.MAP(D2[1:n,1:n],g)\n",
    "    distort[j] = utilities.avg_distortion(D2[1:n,1:n]*α,D)\n",
    "    D2 = 0\n",
    "    B = 0\n",
    "    GC.gc()\n",
    "    \n",
    "    N = size(D)[1]\n",
    "    \n",
    "    @show(Sys.free_memory()/2^(30))\n",
    "    \n",
    "    L = Int((N*(N-1))/2)\n",
    "    IDXs = Array{Tuple{Int,Int},1}(undef,L)\n",
    "    c = 1\n",
    "    for i = 1:N \n",
    "        for j = 1:i-1\n",
    "            IDXs[c] = (i,j)\n",
    "            c += 1\n",
    "        end\n",
    "    end\n",
    "    \n",
    "    @show(Sys.free_memory()/2^(30))\n",
    "    \n",
    "    times[j] += @elapsed x,EdgetoIdx = TreeOpt.lsngd_mengdi(G2,D,W2,IDXs,0.0001,200);\n",
    "    \n",
    "    IDXs = 0\n",
    "    W2 = 0\n",
    "    GC.gc()\n",
    "    \n",
    "    N = nv(G2)\n",
    "    W3 = zeros(N,N)\n",
    "    E = collect(edges(G2))\n",
    "    for e in E\n",
    "        i2 = e.src\n",
    "        j2 = e.dst\n",
    "        idx = EdgetoIdx[(i2,j2)]\n",
    "        w = max(0,x[idx])\n",
    "        W3[i2,j2] = w\n",
    "        W3[j2,i2] = w\n",
    "    end\n",
    "    \n",
    "    B = W3[1:nv(G2),1:nv(G2)];\n",
    "    B = sparse(B);\n",
    "    B = (B .> 0) .* B;\n",
    "    D3 = utilities.parallel_dp_shortest_paths(G2, B,false) .+ 1e-14;\n",
    "    for i = 1:n\n",
    "        D3[i,i] = 0\n",
    "    end\n",
    "\n",
    "    α = tr(D3[1:n,1:n]'*D)/tr(D3[1:n,1:n]'*D3[1:n,1:n])\n",
    "\n",
    "    distortopt[j] = utilities.avg_distortion(D3[1:n,1:n]*α,D)\n",
    "    map2opt[j] = utilities.MAP(D3[1:n,1:n],g)\n",
    "    @show((times[j],distort[j],map2[j]))\n",
    "end\n",
    "\n",
    "t = mean(times)\n",
    "dis = minimum(distort)\n",
    "m = maximum(map2)\n",
    "disopt = minimum(distortopt)\n",
    "mopt = maximum(map2opt)\n",
    "\n",
    "mdis = mean(distort)\n",
    "mm = mean(map2)\n",
    "mdisopt = mean(distortopt)\n",
    "mmopt = mean(map2opt)\n",
    "\n",
    "@show((t,dis,m))\n",
    "@show((t,disopt,mopt))\n",
    "@show((t,mdis,mm))\n",
    "@show((t,mdisopt,mmopt))"
   ]
  },
  {
   "cell_type": "code",
   "execution_count": null,
   "metadata": {},
   "outputs": [],
   "source": [
    "map2"
   ]
  },
  {
   "cell_type": "code",
   "execution_count": null,
   "metadata": {},
   "outputs": [],
   "source": [
    "MAP(D2[1:n,1:n],g)"
   ]
  },
  {
   "cell_type": "code",
   "execution_count": null,
   "metadata": {},
   "outputs": [],
   "source": [
    "avg_distortion(D2[1:n,1:n],D)"
   ]
  },
  {
   "cell_type": "code",
   "execution_count": null,
   "metadata": {
    "code_folding": []
   },
   "outputs": [
    {
     "name": "stderr",
     "output_type": "stream",
     "text": [
      "\u001b[32mProgress:  97%|███████████████████████████████████████▊ |  ETA: 0:01:39\u001b[39m"
     ]
    }
   ],
   "source": [
    "n = nv(g)\n",
    "map = 0\n",
    "p2 = Progress(n)\n",
    "jj = 0\n",
    "for i = 1:n\n",
    "    N = neighbors(g,i)\n",
    "    Dp = D2[1:n,i] .+ 1e-13\n",
    "    Dp[i] = 0\n",
    "    p = sortperm(Dp)\n",
    "    P = Dict()\n",
    "    for j = 1:n\n",
    "        P[p[j]] = j\n",
    "    end\n",
    "    d = length(N)\n",
    "    for j = 1:d\n",
    "        R = P[N[j]]-1\n",
    "        a = Set(N)\n",
    "        b = Set(p[2:R+1])\n",
    "        map += length(intersect(a,b))/(d*R)\n",
    "    end\n",
    "    update!(p2,i)\n",
    "end\n",
    "    \n",
    "map/n"
   ]
  },
  {
   "cell_type": "code",
   "execution_count": 15,
   "metadata": {},
   "outputs": [
    {
     "data": {
      "text/plain": [
       "NaN"
      ]
     },
     "execution_count": 15,
     "metadata": {},
     "output_type": "execute_result"
    }
   ],
   "source": [
    "map/n"
   ]
  },
  {
   "cell_type": "code",
   "execution_count": 12,
   "metadata": {},
   "outputs": [
    {
     "name": "stderr",
     "output_type": "stream",
     "text": [
      "\u001b[32mProgress: 100%|█████████████████████████████████████████| Time: 0:34:43\u001b[39m\n"
     ]
    },
    {
     "data": {
      "text/plain": [
       "0.13075636618096464"
      ]
     },
     "execution_count": 12,
     "metadata": {},
     "output_type": "execute_result"
    }
   ],
   "source": [
    "d = 0\n",
    "n = nv(g)\n",
    "p2 = Progress(n)\n",
    "for i = 1:n\n",
    "    for j = 1:i-1\n",
    "        d += abs(D2[i,j]-D[i,j])/D[i,j]\n",
    "    end\n",
    "    update!(p2,i)\n",
    "end\n",
    "    \n",
    "2*d/(n*(n-1))"
   ]
  },
  {
   "cell_type": "code",
   "execution_count": 14,
   "metadata": {},
   "outputs": [
    {
     "data": {
      "text/plain": [
       "0.13075636618096464"
      ]
     },
     "execution_count": 14,
     "metadata": {},
     "output_type": "execute_result"
    }
   ],
   "source": [
    "2*d/(n*(n-1))"
   ]
  },
  {
   "cell_type": "code",
   "execution_count": 61,
   "metadata": {
    "code_folding": [
     6
    ],
    "scrolled": true
   },
   "outputs": [
    {
     "name": "stdout",
     "output_type": "stream",
     "text": [
      "(nv(G), ne(G)) = (1647, 1646)\n",
      "(times[j], distort[j], map2[j]) = (2.053427624, 0.39796283945060795, 0.8350589752580877)\n",
      " 49.618066 seconds (2 allocations: 20.671 MiB)\n",
      "  0.583949 seconds (1 allocation: 13.000 KiB)\n",
      "(times[j], distort[j], map2[j]) = (69.615465473, 0.14271864007979382, 0.8056032842023519)\n",
      "(nv(G), ne(G)) = (1649, 1648)\n",
      "(times[j], distort[j], map2[j]) = (2.281534681, 0.32903081848989024, 0.8258885414633931)\n"
     ]
    },
    {
     "name": "stderr",
     "output_type": "stream",
     "text": [
      "\r",
      "\u001b[32mProgress:  23%|█████████▍                               |  ETA: 0:00:00\u001b[39m\r",
      "\u001b[32mProgress:  46%|██████████████████▉                      |  ETA: 0:00:00\u001b[39m\r",
      "\u001b[32mProgress:  70%|████████████████████████████▌            |  ETA: 0:00:00\u001b[39m\r",
      "\u001b[32mProgress:  93%|██████████████████████████████████████▏  |  ETA: 0:00:00\u001b[39m\r",
      "\u001b[32mProgress:  28%|███████████▍                             |  ETA: 0:00:00\u001b[39m\r",
      "\u001b[32mProgress:  39%|████████████████                         |  ETA: 0:00:00\u001b[39m\r",
      "\u001b[32mProgress:  47%|███████████████████▎                     |  ETA: 0:00:00\u001b[39m\r",
      "\u001b[32mProgress:  54%|██████████████████████▏                  |  ETA: 0:00:00\u001b[39m\r",
      "\u001b[32mProgress:  60%|████████████████████████▍                |  ETA: 0:00:00\u001b[39m\r",
      "\u001b[32mProgress:  64%|██████████████████████████▍              |  ETA: 0:00:00\u001b[39m\r",
      "\u001b[32mProgress:  69%|████████████████████████████▎            |  ETA: 0:00:00\u001b[39m\r",
      "\u001b[32mProgress:  73%|██████████████████████████████▏          |  ETA: 0:00:00\u001b[39m\r",
      "\u001b[32mProgress:  77%|███████████████████████████████▊         |  ETA: 0:00:00\u001b[39m\r",
      "\u001b[32mProgress:  81%|█████████████████████████████████▎       |  ETA: 0:00:00\u001b[39m\r",
      "\u001b[32mProgress:  85%|██████████████████████████████████▋      |  ETA: 0:00:00\u001b[39m\r",
      "\u001b[32mProgress:  88%|███████████████████████████████████▉     |  ETA: 0:00:00\u001b[39m\r",
      "\u001b[32mProgress:  91%|█████████████████████████████████████▏   |  ETA: 0:00:00\u001b[39m\r",
      "\u001b[32mProgress:  94%|██████████████████████████████████████▌  |  ETA: 0:00:00\u001b[39m\r",
      "\u001b[32mProgress:  97%|███████████████████████████████████████▋ |  ETA: 0:00:00\u001b[39m\r",
      "\u001b[32mProgress: 100%|████████████████████████████████████████▉|  ETA: 0:00:00\u001b[39m\r",
      "\u001b[32mProgress: 100%|█████████████████████████████████████████| Time: 0:00:02\u001b[39m\n",
      "\r",
      "\u001b[32mProgress:   4%|█▋                                       |  ETA: 0:00:03\u001b[39m\r",
      "\u001b[32mProgress:   8%|███▎                                     |  ETA: 0:00:02\u001b[39m\r",
      "\u001b[32mProgress:  12%|████▉                                    |  ETA: 0:00:02\u001b[39m\r",
      "\u001b[32mProgress:  16%|██████▌                                  |  ETA: 0:00:02\u001b[39m\r",
      "\u001b[32mProgress:  20%|████████▎                                |  ETA: 0:00:02\u001b[39m\r",
      "\u001b[32mProgress:  24%|█████████▉                               |  ETA: 0:00:02\u001b[39m\r",
      "\u001b[32mProgress:  28%|███████████▌                             |  ETA: 0:00:02\u001b[39m\r",
      "\u001b[32mProgress:  32%|█████████████▏                           |  ETA: 0:00:02\u001b[39m\r",
      "\u001b[32mProgress:  36%|██████████████▉                          |  ETA: 0:00:02\u001b[39m\r",
      "\u001b[32mProgress:  40%|████████████████▋                        |  ETA: 0:00:01\u001b[39m\r",
      "\u001b[32mProgress:  45%|██████████████████▎                      |  ETA: 0:00:01\u001b[39m\r",
      "\u001b[32mProgress:  49%|████████████████████                     |  ETA: 0:00:01\u001b[39m\r",
      "\u001b[32mProgress:  53%|█████████████████████▊                   |  ETA: 0:00:01\u001b[39m\r",
      "\u001b[32mProgress:  57%|███████████████████████▌                 |  ETA: 0:00:01\u001b[39m\r",
      "\u001b[32mProgress:  61%|█████████████████████████▏               |  ETA: 0:00:01\u001b[39m\r",
      "\u001b[32mProgress:  65%|██████████████████████████▋              |  ETA: 0:00:01\u001b[39m\r",
      "\u001b[32mProgress:  69%|████████████████████████████▎            |  ETA: 0:00:01\u001b[39m\r",
      "\u001b[32mProgress:  73%|██████████████████████████████           |  ETA: 0:00:01\u001b[39m\r",
      "\u001b[32mProgress:  77%|███████████████████████████████▋         |  ETA: 0:00:01\u001b[39m\r",
      "\u001b[32mProgress:  81%|█████████████████████████████████▎       |  ETA: 0:00:00\u001b[39m\r",
      "\u001b[32mProgress:  85%|██████████████████████████████████▉      |  ETA: 0:00:00\u001b[39m\r",
      "\u001b[32mProgress:  89%|████████████████████████████████████▌    |  ETA: 0:00:00\u001b[39m\r",
      "\u001b[32mProgress:  92%|█████████████████████████████████████▋   |  ETA: 0:00:00\u001b[39m\r",
      "\u001b[32mProgress:  95%|██████████████████████████████████████▊  |  ETA: 0:00:00\u001b[39m\r",
      "\u001b[32mProgress:  97%|███████████████████████████████████████▉ |  ETA: 0:00:00\u001b[39m\r",
      "\u001b[32mProgress: 100%|█████████████████████████████████████████|  ETA: 0:00:00\u001b[39m\r",
      "\u001b[32mProgress: 100%|█████████████████████████████████████████| Time: 0:00:03\u001b[39m\n",
      "\r",
      "\u001b[32mProgress:  11%|████▋                                    |  ETA: 0:00:01\u001b[39m\r",
      "\u001b[32mProgress:  29%|███████████▊                             |  ETA: 0:00:01\u001b[39m\r",
      "\u001b[32mProgress:  45%|██████████████████▎                      |  ETA: 0:00:00\u001b[39m\r",
      "\u001b[32mProgress:  61%|█████████████████████████                |  ETA: 0:00:00\u001b[39m\r",
      "\u001b[32mProgress:  76%|███████████████████████████████▍         |  ETA: 0:00:00\u001b[39m\r",
      "\u001b[32mProgress:  92%|█████████████████████████████████████▊   |  ETA: 0:00:00\u001b[39m\r",
      "\u001b[32mProgress:  23%|█████████▌                               |  ETA: 0:00:00\u001b[39m\r",
      "\u001b[32mProgress:  47%|███████████████████▎                     |  ETA: 0:00:00\u001b[39m\r",
      "\u001b[32mProgress:  70%|████████████████████████████▉            |  ETA: 0:00:00\u001b[39m\r",
      "\u001b[32mProgress:  94%|██████████████████████████████████████▋  |  ETA: 0:00:00\u001b[39m\r",
      "\u001b[32mProgress:  29%|████████████                             |  ETA: 0:00:00\u001b[39m\r",
      "\u001b[32mProgress:  40%|████████████████▋                        |  ETA: 0:00:00\u001b[39m\r",
      "\u001b[32mProgress:  49%|████████████████████                     |  ETA: 0:00:00\u001b[39m\r",
      "\u001b[32mProgress:  56%|██████████████████████▊                  |  ETA: 0:00:00\u001b[39m\r",
      "\u001b[32mProgress:  62%|█████████████████████████▍               |  ETA: 0:00:00\u001b[39m\r",
      "\u001b[32mProgress:  67%|███████████████████████████▌             |  ETA: 0:00:00\u001b[39m\r",
      "\u001b[32mProgress:  72%|█████████████████████████████▌           |  ETA: 0:00:00\u001b[39m\r",
      "\u001b[32mProgress:  77%|███████████████████████████████▍         |  ETA: 0:00:00\u001b[39m\r",
      "\u001b[32mProgress:  81%|█████████████████████████████████▏       |  ETA: 0:00:00\u001b[39m\r",
      "\u001b[32mProgress:  85%|██████████████████████████████████▊      |  ETA: 0:00:00\u001b[39m\r",
      "\u001b[32mProgress:  89%|████████████████████████████████████▍    |  ETA: 0:00:00\u001b[39m\r",
      "\u001b[32mProgress:  92%|█████████████████████████████████████▉   |  ETA: 0:00:00\u001b[39m\r",
      "\u001b[32mProgress:  96%|███████████████████████████████████████▎ |  ETA: 0:00:00\u001b[39m\r",
      "\u001b[32mProgress:  99%|████████████████████████████████████████▋|  ETA: 0:00:00\u001b[39m\r",
      "\u001b[32mProgress: 100%|█████████████████████████████████████████| Time: 0:00:01\u001b[39m\n",
      "\r",
      "\u001b[32mProgress:   4%|█▌                                       |  ETA: 0:00:03\u001b[39m\r",
      "\u001b[32mProgress:   8%|███▎                                     |  ETA: 0:00:02\u001b[39m\r",
      "\u001b[32mProgress:  12%|████▉                                    |  ETA: 0:00:02\u001b[39m\r",
      "\u001b[32mProgress:  16%|██████▍                                  |  ETA: 0:00:02\u001b[39m\r",
      "\u001b[32mProgress:  20%|████████▏                                |  ETA: 0:00:02\u001b[39m"
     ]
    },
    {
     "name": "stdout",
     "output_type": "stream",
     "text": [
      " 49.041450 seconds (2 allocations: 20.721 MiB)\n",
      "  0.586563 seconds (1 allocation: 13.000 KiB)\n",
      "(times[j], distort[j], map2[j]) = (66.176770683, 0.14329930633487334, 0.781786912835245)\n",
      "(nv(G), ne(G)) = (1644, 1643)\n",
      "(times[j], distort[j], map2[j]) = (0.43698634, 0.2679632857850257, 0.7982465868309743)\n",
      " 51.444509 seconds (2 allocations: 20.595 MiB)\n",
      "  0.579527 seconds (1 allocation: 13.000 KiB)\n",
      "(times[j], distort[j], map2[j]) = (66.556838933, 0.1389662293875319, 0.7723252527222463)\n",
      "(nv(G), ne(G)) = (1663, 1662)\n",
      "(times[j], distort[j], map2[j]) = (0.927457343, 0.5041143197964135, 0.8196828374978425)\n"
     ]
    },
    {
     "name": "stderr",
     "output_type": "stream",
     "text": [
      "\r",
      "\u001b[32mProgress:  24%|█████████▋                               |  ETA: 0:00:02\u001b[39m\r",
      "\u001b[32mProgress:  28%|███████████▍                             |  ETA: 0:00:02\u001b[39m\r",
      "\u001b[32mProgress:  32%|█████████████▏                           |  ETA: 0:00:02\u001b[39m\r",
      "\u001b[32mProgress:  36%|██████████████▊                          |  ETA: 0:00:02\u001b[39m\r",
      "\u001b[32mProgress:  40%|████████████████▎                        |  ETA: 0:00:02\u001b[39m\r",
      "\u001b[32mProgress:  44%|█████████████████▉                       |  ETA: 0:00:01\u001b[39m\r",
      "\u001b[32mProgress:  48%|███████████████████▌                     |  ETA: 0:00:01\u001b[39m\r",
      "\u001b[32mProgress:  52%|█████████████████████▏                   |  ETA: 0:00:01\u001b[39m\r",
      "\u001b[32mProgress:  55%|██████████████████████▊                  |  ETA: 0:00:01\u001b[39m\r",
      "\u001b[32mProgress:  59%|████████████████████████▍                |  ETA: 0:00:01\u001b[39m\r",
      "\u001b[32mProgress:  64%|██████████████████████████▏              |  ETA: 0:00:01\u001b[39m\r",
      "\u001b[32mProgress:  68%|███████████████████████████▊             |  ETA: 0:00:01\u001b[39m\r",
      "\u001b[32mProgress:  72%|█████████████████████████████▌           |  ETA: 0:00:01\u001b[39m\r",
      "\u001b[32mProgress:  76%|███████████████████████████████▏         |  ETA: 0:00:01\u001b[39m\r",
      "\u001b[32mProgress:  80%|████████████████████████████████▉        |  ETA: 0:00:00\u001b[39m\r",
      "\u001b[32mProgress:  84%|██████████████████████████████████▋      |  ETA: 0:00:00\u001b[39m\r",
      "\u001b[32mProgress:  89%|████████████████████████████████████▍    |  ETA: 0:00:00\u001b[39m\r",
      "\u001b[32mProgress:  93%|██████████████████████████████████████▏  |  ETA: 0:00:00\u001b[39m\r",
      "\u001b[32mProgress:  98%|████████████████████████████████████████ |  ETA: 0:00:00\u001b[39m\r",
      "\u001b[32mProgress: 100%|█████████████████████████████████████████| Time: 0:00:02\u001b[39m\n",
      "\r",
      "\u001b[32mProgress:   8%|███▎                                     |  ETA: 0:00:01\u001b[39m\r",
      "\u001b[32mProgress:  26%|██████████▋                              |  ETA: 0:00:01\u001b[39m\r",
      "\u001b[32mProgress:  44%|██████████████████                       |  ETA: 0:00:00\u001b[39m\r",
      "\u001b[32mProgress:  62%|█████████████████████████▎               |  ETA: 0:00:00\u001b[39m\r",
      "\u001b[32mProgress:  79%|████████████████████████████████▋        |  ETA: 0:00:00\u001b[39m\r",
      "\u001b[32mProgress:  98%|████████████████████████████████████████ |  ETA: 0:00:00\u001b[39m\r",
      "\u001b[32mProgress:  23%|█████████▌                               |  ETA: 0:00:00\u001b[39m\r",
      "\u001b[32mProgress:  47%|███████████████████▎                     |  ETA: 0:00:00\u001b[39m\r",
      "\u001b[32mProgress:  71%|█████████████████████████████            |  ETA: 0:00:00\u001b[39m\r",
      "\u001b[32mProgress:  94%|██████████████████████████████████████▋  |  ETA: 0:00:00\u001b[39m\r",
      "\u001b[32mProgress:  30%|████████████▎                            |  ETA: 0:00:00\u001b[39m\r",
      "\u001b[32mProgress:  41%|████████████████▉                        |  ETA: 0:00:00\u001b[39m\r",
      "\u001b[32mProgress:  50%|████████████████████▍                    |  ETA: 0:00:00\u001b[39m\r",
      "\u001b[32mProgress:  57%|███████████████████████▎                 |  ETA: 0:00:00\u001b[39m\r",
      "\u001b[32mProgress:  63%|█████████████████████████▋               |  ETA: 0:00:00\u001b[39m\r",
      "\u001b[32mProgress:  68%|███████████████████████████▊             |  ETA: 0:00:00\u001b[39m\r",
      "\u001b[32mProgress:  73%|█████████████████████████████▉           |  ETA: 0:00:00\u001b[39m\r",
      "\u001b[32mProgress:  77%|███████████████████████████████▋         |  ETA: 0:00:00\u001b[39m\r",
      "\u001b[32mProgress:  81%|█████████████████████████████████▍       |  ETA: 0:00:00\u001b[39m\r",
      "\u001b[32mProgress:  86%|███████████████████████████████████▏     |  ETA: 0:00:00\u001b[39m\r",
      "\u001b[32mProgress:  90%|████████████████████████████████████▊    |  ETA: 0:00:00\u001b[39m\r",
      "\u001b[32mProgress:  94%|██████████████████████████████████████▍  |  ETA: 0:00:00\u001b[39m\r",
      "\u001b[32mProgress:  97%|███████████████████████████████████████▊ |  ETA: 0:00:00\u001b[39m\r",
      "\u001b[32mProgress: 100%|█████████████████████████████████████████| Time: 0:00:01\u001b[39m\n",
      "\r",
      "\u001b[32mProgress:   4%|█▊                                       |  ETA: 0:00:02\u001b[39m\r",
      "\u001b[32mProgress:   8%|███▍                                     |  ETA: 0:00:02\u001b[39m\r",
      "\u001b[32mProgress:  12%|█████                                    |  ETA: 0:00:02\u001b[39m\r",
      "\u001b[32mProgress:  16%|██████▋                                  |  ETA: 0:00:02\u001b[39m\r",
      "\u001b[32mProgress:  20%|████████▍                                |  ETA: 0:00:02\u001b[39m\r",
      "\u001b[32mProgress:  25%|██████████▏                              |  ETA: 0:00:02\u001b[39m\r",
      "\u001b[32mProgress:  29%|███████████▉                             |  ETA: 0:00:02\u001b[39m\r",
      "\u001b[32mProgress:  33%|█████████████▌                           |  ETA: 0:00:02\u001b[39m\r",
      "\u001b[32mProgress:  37%|███████████████▎                         |  ETA: 0:00:02\u001b[39m\r",
      "\u001b[32mProgress:  41%|█████████████████                        |  ETA: 0:00:01\u001b[39m\r",
      "\u001b[32mProgress:  46%|██████████████████▊                      |  ETA: 0:00:01\u001b[39m\r",
      "\u001b[32mProgress:  50%|████████████████████▌                    |  ETA: 0:00:01\u001b[39m\r",
      "\u001b[32mProgress:  54%|██████████████████████▎                  |  ETA: 0:00:01\u001b[39m\r",
      "\u001b[32mProgress:  58%|███████████████████████▉                 |  ETA: 0:00:01\u001b[39m\r",
      "\u001b[32mProgress:  63%|█████████████████████████▋               |  ETA: 0:00:01\u001b[39m\r",
      "\u001b[32mProgress:  67%|███████████████████████████▌             |  ETA: 0:00:01\u001b[39m\r",
      "\u001b[32mProgress:  71%|█████████████████████████████▎           |  ETA: 0:00:01\u001b[39m\r",
      "\u001b[32mProgress:  75%|███████████████████████████████          |  ETA: 0:00:01\u001b[39m\r",
      "\u001b[32mProgress:  80%|████████████████████████████████▋        |  ETA: 0:00:00\u001b[39m\r",
      "\u001b[32mProgress:  84%|██████████████████████████████████▍      |  ETA: 0:00:00\u001b[39m\r",
      "\u001b[32mProgress:  88%|████████████████████████████████████     |  ETA: 0:00:00\u001b[39m\r",
      "\u001b[32mProgress:  92%|█████████████████████████████████████▊   |  ETA: 0:00:00\u001b[39m\r",
      "\u001b[32mProgress:  96%|███████████████████████████████████████▍ |  ETA: 0:00:00\u001b[39m\r",
      "\u001b[32mProgress: 100%|█████████████████████████████████████████| Time: 0:00:02\u001b[39m\n",
      "\r",
      "\u001b[32mProgress:   9%|███▌                                     |  ETA: 0:00:01\u001b[39m\r",
      "\u001b[32mProgress:  26%|██████████▊                              |  ETA: 0:00:01\u001b[39m\r",
      "\u001b[32mProgress:  44%|██████████████████▎                      |  ETA: 0:00:00\u001b[39m\r",
      "\u001b[32mProgress:  62%|█████████████████████████▌               |  ETA: 0:00:00\u001b[39m\r",
      "\u001b[32mProgress:  80%|████████████████████████████████▉        |  ETA: 0:00:00\u001b[39m\r",
      "\u001b[32mProgress:  98%|████████████████████████████████████████▏|  ETA: 0:00:00\u001b[39m\r",
      "\u001b[32mProgress:  23%|█████████▍                               |  ETA: 0:00:00\u001b[39m\r",
      "\u001b[32mProgress:  46%|██████████████████▉                      |  ETA: 0:00:00\u001b[39m\r",
      "\u001b[32mProgress:  70%|████████████████████████████▊            |  ETA: 0:00:00\u001b[39m\r",
      "\u001b[32mProgress:  94%|██████████████████████████████████████▌  |  ETA: 0:00:00\u001b[39m\r",
      "\u001b[32mProgress:  28%|███████████▌                             |  ETA: 0:00:00\u001b[39m"
     ]
    },
    {
     "name": "stdout",
     "output_type": "stream",
     "text": [
      " 50.114799 seconds (2 allocations: 21.074 MiB)\n",
      "  0.586673 seconds (1 allocation: 13.125 KiB)\n",
      "(times[j], distort[j], map2[j]) = (66.466327963, 0.13547307852446064, 0.7803161967358179)\n",
      "(nv(G), ne(G)) = (1740, 1739)\n",
      "(times[j], distort[j], map2[j]) = (5.054603946, 0.5324882603399064, 0.6843693447329624)\n"
     ]
    },
    {
     "name": "stderr",
     "output_type": "stream",
     "text": [
      "\r",
      "\u001b[32mProgress:  39%|████████████████                         |  ETA: 0:00:00\u001b[39m\r",
      "\u001b[32mProgress:  46%|███████████████████                      |  ETA: 0:00:00\u001b[39m\r",
      "\u001b[32mProgress:  52%|█████████████████████▌                   |  ETA: 0:00:00\u001b[39m\r",
      "\u001b[32mProgress:  58%|███████████████████████▋                 |  ETA: 0:00:00\u001b[39m\r",
      "\u001b[32mProgress:  63%|█████████████████████████▊               |  ETA: 0:00:00\u001b[39m\r",
      "\u001b[32mProgress:  67%|███████████████████████████▋             |  ETA: 0:00:00\u001b[39m\r",
      "\u001b[32mProgress:  72%|█████████████████████████████▍           |  ETA: 0:00:00\u001b[39m\r",
      "\u001b[32mProgress:  76%|███████████████████████████████          |  ETA: 0:00:00\u001b[39m\r",
      "\u001b[32mProgress:  79%|████████████████████████████████▌        |  ETA: 0:00:00\u001b[39m\r",
      "\u001b[32mProgress:  83%|█████████████████████████████████▉       |  ETA: 0:00:00\u001b[39m\r",
      "\u001b[32mProgress:  86%|███████████████████████████████████▍     |  ETA: 0:00:00\u001b[39m\r",
      "\u001b[32mProgress:  90%|████████████████████████████████████▊    |  ETA: 0:00:00\u001b[39m\r",
      "\u001b[32mProgress:  93%|██████████████████████████████████████   |  ETA: 0:00:00\u001b[39m\r",
      "\u001b[32mProgress:  95%|███████████████████████████████████████▏ |  ETA: 0:00:00\u001b[39m\r",
      "\u001b[32mProgress:  98%|████████████████████████████████████████▍|  ETA: 0:00:00\u001b[39m\r",
      "\u001b[32mProgress: 100%|█████████████████████████████████████████| Time: 0:00:02\u001b[39m\n",
      "\r",
      "\u001b[32mProgress:   4%|█▌                                       |  ETA: 0:00:03\u001b[39m\r",
      "\u001b[32mProgress:   8%|███▏                                     |  ETA: 0:00:02\u001b[39m\r",
      "\u001b[32mProgress:  12%|████▉                                    |  ETA: 0:00:02\u001b[39m\r",
      "\u001b[32mProgress:  16%|██████▍                                  |  ETA: 0:00:02\u001b[39m\r",
      "\u001b[32mProgress:  20%|████████▏                                |  ETA: 0:00:02\u001b[39m\r",
      "\u001b[32mProgress:  24%|█████████▋                               |  ETA: 0:00:02\u001b[39m\r",
      "\u001b[32mProgress:  28%|███████████▍                             |  ETA: 0:00:02\u001b[39m\r",
      "\u001b[32mProgress:  32%|█████████████                            |  ETA: 0:00:02\u001b[39m\r",
      "\u001b[32mProgress:  36%|██████████████▋                          |  ETA: 0:00:02\u001b[39m\r",
      "\u001b[32mProgress:  40%|████████████████▎                        |  ETA: 0:00:02\u001b[39m\r",
      "\u001b[32mProgress:  44%|█████████████████▉                       |  ETA: 0:00:01\u001b[39m\r",
      "\u001b[32mProgress:  48%|███████████████████▌                     |  ETA: 0:00:01\u001b[39m\r",
      "\u001b[32mProgress:  52%|█████████████████████▎                   |  ETA: 0:00:01\u001b[39m\r",
      "\u001b[32mProgress:  56%|██████████████████████▉                  |  ETA: 0:00:01\u001b[39m\r",
      "\u001b[32mProgress:  60%|████████████████████████▌                |  ETA: 0:00:01\u001b[39m\r",
      "\u001b[32mProgress:  64%|██████████████████████████▏              |  ETA: 0:00:01\u001b[39m\r",
      "\u001b[32mProgress:  68%|███████████████████████████▊             |  ETA: 0:00:01\u001b[39m\r",
      "\u001b[32mProgress:  72%|█████████████████████████████▌           |  ETA: 0:00:01\u001b[39m\r",
      "\u001b[32mProgress:  76%|███████████████████████████████▏         |  ETA: 0:00:01\u001b[39m\r",
      "\u001b[32mProgress:  80%|████████████████████████████████▉        |  ETA: 0:00:00\u001b[39m\r",
      "\u001b[32mProgress:  84%|██████████████████████████████████▋      |  ETA: 0:00:00\u001b[39m\r",
      "\u001b[32mProgress:  88%|████████████████████████████████████▎    |  ETA: 0:00:00\u001b[39m\r",
      "\u001b[32mProgress:  93%|█████████████████████████████████████▉   |  ETA: 0:00:00\u001b[39m\r",
      "\u001b[32mProgress:  97%|███████████████████████████████████████▋ |  ETA: 0:00:00\u001b[39m\r",
      "\u001b[32mProgress: 100%|█████████████████████████████████████████| Time: 0:00:02\u001b[39m\n",
      "\r",
      "\u001b[32mProgress:  11%|████▌                                    |  ETA: 0:00:01\u001b[39m\r",
      "\u001b[32mProgress:  29%|███████████▊                             |  ETA: 0:00:01\u001b[39m\r",
      "\u001b[32mProgress:  46%|███████████████████                      |  ETA: 0:00:00\u001b[39m\r",
      "\u001b[32mProgress:  64%|██████████████████████████▍              |  ETA: 0:00:00\u001b[39m\r",
      "\u001b[32mProgress:  82%|█████████████████████████████████▌       |  ETA: 0:00:00\u001b[39m\r",
      "\u001b[32mProgress:  21%|████████▋                                |  ETA: 0:00:00\u001b[39m\r",
      "\u001b[32mProgress:  42%|█████████████████▍                       |  ETA: 0:00:00\u001b[39m\r",
      "\u001b[32mProgress:  64%|██████████████████████████▏              |  ETA: 0:00:00\u001b[39m\r",
      "\u001b[32mProgress:  85%|███████████████████████████████████      |  ETA: 0:00:00\u001b[39m\r",
      "\u001b[32mProgress:  27%|███████████                              |  ETA: 0:00:00\u001b[39m\r",
      "\u001b[32mProgress:  37%|███████████████▎                         |  ETA: 0:00:00\u001b[39m\r",
      "\u001b[32mProgress:  45%|██████████████████▌                      |  ETA: 0:00:00\u001b[39m\r",
      "\u001b[32mProgress:  52%|█████████████████████▎                   |  ETA: 0:00:00\u001b[39m\r",
      "\u001b[32mProgress:  57%|███████████████████████▌                 |  ETA: 0:00:00\u001b[39m\r",
      "\u001b[32mProgress:  62%|█████████████████████████▌               |  ETA: 0:00:00\u001b[39m\r",
      "\u001b[32mProgress:  67%|███████████████████████████▎             |  ETA: 0:00:00\u001b[39m\r",
      "\u001b[32mProgress:  71%|█████████████████████████████            |  ETA: 0:00:00\u001b[39m\r",
      "\u001b[32mProgress:  75%|██████████████████████████████▋          |  ETA: 0:00:00\u001b[39m\r",
      "\u001b[32mProgress:  78%|████████████████████████████████▏        |  ETA: 0:00:00\u001b[39m\r",
      "\u001b[32mProgress:  82%|█████████████████████████████████▌       |  ETA: 0:00:00\u001b[39m\r",
      "\u001b[32mProgress:  85%|██████████████████████████████████▉      |  ETA: 0:00:00\u001b[39m\r",
      "\u001b[32mProgress:  88%|████████████████████████████████████     |  ETA: 0:00:00\u001b[39m\r",
      "\u001b[32mProgress:  91%|█████████████████████████████████████▎   |  ETA: 0:00:00\u001b[39m\r",
      "\u001b[32mProgress:  94%|██████████████████████████████████████▌  |  ETA: 0:00:00\u001b[39m\r",
      "\u001b[32mProgress:  96%|███████████████████████████████████████▌ |  ETA: 0:00:00\u001b[39m\r",
      "\u001b[32mProgress:  99%|████████████████████████████████████████▋|  ETA: 0:00:00\u001b[39m\r",
      "\u001b[32mProgress: 100%|█████████████████████████████████████████| Time: 0:00:02\u001b[39m\n",
      "\r",
      "\u001b[32mProgress:   3%|█▎                                       |  ETA: 0:00:03\u001b[39m\r",
      "\u001b[32mProgress:   6%|██▋                                      |  ETA: 0:00:03\u001b[39m\r",
      "\u001b[32mProgress:  10%|███▉                                     |  ETA: 0:00:03\u001b[39m\r",
      "\u001b[32mProgress:  13%|█████▎                                   |  ETA: 0:00:03\u001b[39m\r",
      "\u001b[32mProgress:  16%|██████▋                                  |  ETA: 0:00:03\u001b[39m\r",
      "\u001b[32mProgress:  19%|████████                                 |  ETA: 0:00:03\u001b[39m\r",
      "\u001b[32mProgress:  23%|█████████▎                               |  ETA: 0:00:02\u001b[39m\r",
      "\u001b[32mProgress:  26%|██████████▋                              |  ETA: 0:00:02\u001b[39m\r",
      "\u001b[32mProgress:  29%|████████████                             |  ETA: 0:00:02\u001b[39m\r",
      "\u001b[32mProgress:  33%|█████████████▍                           |  ETA: 0:00:02\u001b[39m\r",
      "\u001b[32mProgress:  36%|██████████████▋                          |  ETA: 0:00:02\u001b[39m\r",
      "\u001b[32mProgress:  39%|████████████████▏                        |  ETA: 0:00:02\u001b[39m"
     ]
    },
    {
     "name": "stdout",
     "output_type": "stream",
     "text": [
      " 56.399112 seconds (2 allocations: 23.072 MiB)\n",
      "  0.614386 seconds (1 allocation: 13.750 KiB)\n",
      "(times[j], distort[j], map2[j]) = (78.304176864, 0.1447148354365693, 0.648922810650255)\n",
      "(nv(G), ne(G)) = (1724, 1723)\n",
      "(times[j], distort[j], map2[j]) = (2.667574958, 0.3533370777193499, 0.6370145285802111)\n"
     ]
    },
    {
     "name": "stderr",
     "output_type": "stream",
     "text": [
      "\r",
      "\u001b[32mProgress:  42%|█████████████████▍                       |  ETA: 0:00:02\u001b[39m\r",
      "\u001b[32mProgress:  46%|██████████████████▋                      |  ETA: 0:00:02\u001b[39m\r",
      "\u001b[32mProgress:  49%|███████████████████▉                     |  ETA: 0:00:02\u001b[39m\r",
      "\u001b[32mProgress:  52%|█████████████████████▏                   |  ETA: 0:00:02\u001b[39m\r",
      "\u001b[32mProgress:  55%|██████████████████████▍                  |  ETA: 0:00:01\u001b[39m\r",
      "\u001b[32mProgress:  58%|███████████████████████▊                 |  ETA: 0:00:01\u001b[39m\r",
      "\u001b[32mProgress:  61%|█████████████████████████▏               |  ETA: 0:00:01\u001b[39m\r",
      "\u001b[32mProgress:  64%|██████████████████████████▍              |  ETA: 0:00:01\u001b[39m\r",
      "\u001b[32mProgress:  68%|███████████████████████████▊             |  ETA: 0:00:01\u001b[39m\r",
      "\u001b[32mProgress:  71%|█████████████████████████████            |  ETA: 0:00:01\u001b[39m\r",
      "\u001b[32mProgress:  74%|██████████████████████████████▎          |  ETA: 0:00:01\u001b[39m\r",
      "\u001b[32mProgress:  77%|███████████████████████████████▌         |  ETA: 0:00:01\u001b[39m\r",
      "\u001b[32mProgress:  80%|████████████████████████████████▉        |  ETA: 0:00:01\u001b[39m\r",
      "\u001b[32mProgress:  84%|██████████████████████████████████▎      |  ETA: 0:00:01\u001b[39m\r",
      "\u001b[32mProgress:  87%|███████████████████████████████████▌     |  ETA: 0:00:00\u001b[39m\r",
      "\u001b[32mProgress:  90%|████████████████████████████████████▉    |  ETA: 0:00:00\u001b[39m\r",
      "\u001b[32mProgress:  93%|██████████████████████████████████████▏  |  ETA: 0:00:00\u001b[39m\r",
      "\u001b[32mProgress:  96%|███████████████████████████████████████▌ |  ETA: 0:00:00\u001b[39m\r",
      "\u001b[32mProgress: 100%|████████████████████████████████████████▉|  ETA: 0:00:00\u001b[39m\r",
      "\u001b[32mProgress: 100%|█████████████████████████████████████████| Time: 0:00:03\u001b[39m\n",
      "\r",
      "\u001b[32mProgress:  10%|████▎                                    |  ETA: 0:00:01\u001b[39m\r",
      "\u001b[32mProgress:  27%|██████████▉                              |  ETA: 0:00:01\u001b[39m\r",
      "\u001b[32mProgress:  43%|█████████████████▌                       |  ETA: 0:00:00\u001b[39m\r",
      "\u001b[32mProgress:  59%|████████████████████████▏                |  ETA: 0:00:00\u001b[39m\r",
      "\u001b[32mProgress:  75%|██████████████████████████████▊          |  ETA: 0:00:00\u001b[39m\r",
      "\u001b[32mProgress:  91%|█████████████████████████████████████▏   |  ETA: 0:00:00\u001b[39m\r",
      "\u001b[32mProgress:  21%|████████▊                                |  ETA: 0:00:00\u001b[39m\r",
      "\u001b[32mProgress:  43%|█████████████████▊                       |  ETA: 0:00:00\u001b[39m\r",
      "\u001b[32mProgress:  65%|██████████████████████████▊              |  ETA: 0:00:00\u001b[39m\r",
      "\u001b[32mProgress:  87%|███████████████████████████████████▊     |  ETA: 0:00:00\u001b[39m\r",
      "\u001b[32mProgress:  27%|███████████▎                             |  ETA: 0:00:00\u001b[39m\r",
      "\u001b[32mProgress:  38%|███████████████▋                         |  ETA: 0:00:00\u001b[39m\r",
      "\u001b[32mProgress:  46%|██████████████████▉                      |  ETA: 0:00:00\u001b[39m\r",
      "\u001b[32mProgress:  53%|█████████████████████▌                   |  ETA: 0:00:00\u001b[39m\r",
      "\u001b[32mProgress:  58%|███████████████████████▉                 |  ETA: 0:00:00\u001b[39m\r",
      "\u001b[32mProgress:  63%|█████████████████████████▉               |  ETA: 0:00:00\u001b[39m\r",
      "\u001b[32mProgress:  68%|███████████████████████████▊             |  ETA: 0:00:00\u001b[39m\r",
      "\u001b[32mProgress:  72%|█████████████████████████████▌           |  ETA: 0:00:00\u001b[39m\r",
      "\u001b[32mProgress:  76%|███████████████████████████████▏         |  ETA: 0:00:00\u001b[39m\r",
      "\u001b[32mProgress:  80%|████████████████████████████████▊        |  ETA: 0:00:00\u001b[39m\r",
      "\u001b[32mProgress:  83%|██████████████████████████████████▏      |  ETA: 0:00:00\u001b[39m\r",
      "\u001b[32mProgress:  87%|███████████████████████████████████▌     |  ETA: 0:00:00\u001b[39m\r",
      "\u001b[32mProgress:  90%|████████████████████████████████████▊    |  ETA: 0:00:00\u001b[39m\r",
      "\u001b[32mProgress:  93%|██████████████████████████████████████▎  |  ETA: 0:00:00\u001b[39m\r",
      "\u001b[32mProgress:  96%|███████████████████████████████████████▍ |  ETA: 0:00:00\u001b[39m\r",
      "\u001b[32mProgress:  99%|████████████████████████████████████████▌|  ETA: 0:00:00\u001b[39m\r",
      "\u001b[32mProgress: 100%|█████████████████████████████████████████| Time: 0:00:02\u001b[39m\n",
      "\r",
      "\u001b[32mProgress:   3%|█▎                                       |  ETA: 0:00:03\u001b[39m\r",
      "\u001b[32mProgress:   6%|██▋                                      |  ETA: 0:00:03\u001b[39m\r",
      "\u001b[32mProgress:  10%|████                                     |  ETA: 0:00:03\u001b[39m\r",
      "\u001b[32mProgress:  13%|█████▍                                   |  ETA: 0:00:03\u001b[39m\r",
      "\u001b[32mProgress:  17%|██████▊                                  |  ETA: 0:00:03\u001b[39m\r",
      "\u001b[32mProgress:  20%|████████                                 |  ETA: 0:00:02\u001b[39m\r",
      "\u001b[32mProgress:  23%|█████████▍                               |  ETA: 0:00:02\u001b[39m\r",
      "\u001b[32mProgress:  26%|██████████▌                              |  ETA: 0:00:02\u001b[39m\r",
      "\u001b[32mProgress:  29%|███████████▊                             |  ETA: 0:00:02\u001b[39m\r",
      "\u001b[32mProgress:  32%|█████████████▏                           |  ETA: 0:00:02\u001b[39m\r",
      "\u001b[32mProgress:  35%|██████████████▌                          |  ETA: 0:00:02\u001b[39m\r",
      "\u001b[32mProgress:  38%|███████████████▊                         |  ETA: 0:00:02\u001b[39m\r",
      "\u001b[32mProgress:  42%|█████████████████▏                       |  ETA: 0:00:02\u001b[39m\r",
      "\u001b[32mProgress:  45%|██████████████████▌                      |  ETA: 0:00:02\u001b[39m\r",
      "\u001b[32mProgress:  48%|███████████████████▉                     |  ETA: 0:00:02\u001b[39m\r",
      "\u001b[32mProgress:  51%|█████████████████████                    |  ETA: 0:00:02\u001b[39m\r",
      "\u001b[32mProgress:  54%|██████████████████████▍                  |  ETA: 0:00:01\u001b[39m\r",
      "\u001b[32mProgress:  58%|███████████████████████▋                 |  ETA: 0:00:01\u001b[39m\r",
      "\u001b[32mProgress:  61%|█████████████████████████▏               |  ETA: 0:00:01\u001b[39m\r",
      "\u001b[32mProgress:  64%|██████████████████████████▍              |  ETA: 0:00:01\u001b[39m\r",
      "\u001b[32mProgress:  68%|███████████████████████████▊             |  ETA: 0:00:01\u001b[39m\r",
      "\u001b[32mProgress:  71%|█████████████████████████████▏           |  ETA: 0:00:01\u001b[39m\r",
      "\u001b[32mProgress:  74%|██████████████████████████████▌          |  ETA: 0:00:01\u001b[39m\r",
      "\u001b[32mProgress:  78%|███████████████████████████████▉         |  ETA: 0:00:01\u001b[39m\r",
      "\u001b[32mProgress:  81%|█████████████████████████████████▎       |  ETA: 0:00:01\u001b[39m\r",
      "\u001b[32mProgress:  85%|██████████████████████████████████▋      |  ETA: 0:00:00\u001b[39m\r",
      "\u001b[32mProgress:  88%|████████████████████████████████████     |  ETA: 0:00:00\u001b[39m\r",
      "\u001b[32mProgress:  91%|█████████████████████████████████████▎   |  ETA: 0:00:00\u001b[39m\r",
      "\u001b[32mProgress:  94%|██████████████████████████████████████▊  |  ETA: 0:00:00\u001b[39m\r",
      "\u001b[32mProgress:  98%|████████████████████████████████████████ |  ETA: 0:00:00\u001b[39m\r",
      "\u001b[32mProgress: 100%|█████████████████████████████████████████| Time: 0:00:03\u001b[39m"
     ]
    },
    {
     "name": "stdout",
     "output_type": "stream",
     "text": [
      " 53.783422 seconds (2 allocations: 22.650 MiB)\n",
      "  0.609266 seconds (1 allocation: 13.625 KiB)\n",
      "(times[j], distort[j], map2[j]) = (72.790828515, 0.1443924724945534, 0.6121878614255182)\n",
      "(nv(G), ne(G)) = (1660, 1659)\n",
      "(times[j], distort[j], map2[j]) = (0.610977008, 0.3595570019916748, 0.8248859959522333)\n",
      " 50.221463 seconds (2 allocations: 20.998 MiB)\n",
      "  0.592975 seconds (1 allocation: 13.125 KiB)\n",
      "(times[j], distort[j], map2[j]) = (66.489628221, 0.13997549210294413, 0.7880253463545043)\n",
      "(nv(G), ne(G)) = (1637, 1636)\n",
      "(times[j], distort[j], map2[j]) = (0.38147519, 0.49390939953538116, 0.8260177497274892)\n"
     ]
    },
    {
     "name": "stderr",
     "output_type": "stream",
     "text": [
      "\n",
      "\r",
      "\u001b[32mProgress:   8%|███▍                                     |  ETA: 0:00:01\u001b[39m\r",
      "\u001b[32mProgress:  24%|█████████▊                               |  ETA: 0:00:01\u001b[39m\r",
      "\u001b[32mProgress:  40%|████████████████▎                        |  ETA: 0:00:00\u001b[39m\r",
      "\u001b[32mProgress:  56%|██████████████████████▉                  |  ETA: 0:00:00\u001b[39m\r",
      "\u001b[32mProgress:  72%|█████████████████████████████▍           |  ETA: 0:00:00\u001b[39m\r",
      "\u001b[32mProgress:  87%|███████████████████████████████████▉     |  ETA: 0:00:00\u001b[39m\r",
      "\u001b[32mProgress:  23%|█████████▋                               |  ETA: 0:00:00\u001b[39m\r",
      "\u001b[32mProgress:  48%|███████████████████▌                     |  ETA: 0:00:00\u001b[39m\r",
      "\u001b[32mProgress:  72%|█████████████████████████████▌           |  ETA: 0:00:00\u001b[39m\r",
      "\u001b[32mProgress:  96%|███████████████████████████████████████▍ |  ETA: 0:00:00\u001b[39m\r",
      "\u001b[32mProgress:  27%|███████████                              |  ETA: 0:00:00\u001b[39m\r",
      "\u001b[32mProgress:  37%|███████████████▍                         |  ETA: 0:00:00\u001b[39m\r",
      "\u001b[32mProgress:  45%|██████████████████▌                      |  ETA: 0:00:00\u001b[39m\r",
      "\u001b[32mProgress:  51%|█████████████████████                    |  ETA: 0:00:00\u001b[39m\r",
      "\u001b[32mProgress:  56%|███████████████████████▏                 |  ETA: 0:00:00\u001b[39m\r",
      "\u001b[32mProgress:  61%|█████████████████████████▏               |  ETA: 0:00:00\u001b[39m\r",
      "\u001b[32mProgress:  66%|██████████████████████████▉              |  ETA: 0:00:00\u001b[39m\r",
      "\u001b[32mProgress:  70%|████████████████████████████▋            |  ETA: 0:00:00\u001b[39m\r",
      "\u001b[32mProgress:  73%|██████████████████████████████           |  ETA: 0:00:00\u001b[39m\r",
      "\u001b[32mProgress:  77%|███████████████████████████████▌         |  ETA: 0:00:00\u001b[39m\r",
      "\u001b[32mProgress:  80%|████████████████████████████████▉        |  ETA: 0:00:00\u001b[39m\r",
      "\u001b[32mProgress:  83%|██████████████████████████████████▎      |  ETA: 0:00:00\u001b[39m\r",
      "\u001b[32mProgress:  87%|███████████████████████████████████▋     |  ETA: 0:00:00\u001b[39m\r",
      "\u001b[32mProgress:  90%|████████████████████████████████████▉    |  ETA: 0:00:00\u001b[39m\r",
      "\u001b[32mProgress:  93%|██████████████████████████████████████▎  |  ETA: 0:00:00\u001b[39m\r",
      "\u001b[32mProgress:  96%|███████████████████████████████████████▍ |  ETA: 0:00:00\u001b[39m\r",
      "\u001b[32mProgress:  99%|████████████████████████████████████████▌|  ETA: 0:00:00\u001b[39m\r",
      "\u001b[32mProgress: 100%|█████████████████████████████████████████| Time: 0:00:02\u001b[39m\n",
      "\r",
      "\u001b[32mProgress:   3%|█▍                                       |  ETA: 0:00:03\u001b[39m\r",
      "\u001b[32mProgress:   7%|██▉                                      |  ETA: 0:00:03\u001b[39m\r",
      "\u001b[32mProgress:  11%|████▍                                    |  ETA: 0:00:03\u001b[39m\r",
      "\u001b[32mProgress:  14%|█████▉                                   |  ETA: 0:00:02\u001b[39m\r",
      "\u001b[32mProgress:  18%|███████▍                                 |  ETA: 0:00:02\u001b[39m\r",
      "\u001b[32mProgress:  21%|████████▊                                |  ETA: 0:00:02\u001b[39m\r",
      "\u001b[32mProgress:  25%|██████████▎                              |  ETA: 0:00:02\u001b[39m\r",
      "\u001b[32mProgress:  29%|███████████▊                             |  ETA: 0:00:02\u001b[39m\r",
      "\u001b[32mProgress:  33%|█████████████▍                           |  ETA: 0:00:02\u001b[39m\r",
      "\u001b[32mProgress:  36%|██████████████▉                          |  ETA: 0:00:02\u001b[39m\r",
      "\u001b[32mProgress:  40%|████████████████▌                        |  ETA: 0:00:02\u001b[39m\r",
      "\u001b[32mProgress:  44%|██████████████████                       |  ETA: 0:00:02\u001b[39m\r",
      "\u001b[32mProgress:  48%|███████████████████▌                     |  ETA: 0:00:01\u001b[39m\r",
      "\u001b[32mProgress:  51%|█████████████████████                    |  ETA: 0:00:01\u001b[39m\r",
      "\u001b[32mProgress:  55%|██████████████████████▋                  |  ETA: 0:00:01\u001b[39m\r",
      "\u001b[32mProgress:  59%|████████████████████████▏                |  ETA: 0:00:01\u001b[39m\r",
      "\u001b[32mProgress:  63%|█████████████████████████▊               |  ETA: 0:00:01\u001b[39m\r",
      "\u001b[32mProgress:  66%|███████████████████████████▎             |  ETA: 0:00:01\u001b[39m\r",
      "\u001b[32mProgress:  70%|████████████████████████████▊            |  ETA: 0:00:01\u001b[39m\r",
      "\u001b[32mProgress:  74%|██████████████████████████████▍          |  ETA: 0:00:01\u001b[39m\r",
      "\u001b[32mProgress:  78%|███████████████████████████████▉         |  ETA: 0:00:01\u001b[39m\r",
      "\u001b[32mProgress:  82%|█████████████████████████████████▌       |  ETA: 0:00:01\u001b[39m\r",
      "\u001b[32mProgress:  85%|███████████████████████████████████      |  ETA: 0:00:00\u001b[39m\r",
      "\u001b[32mProgress:  89%|████████████████████████████████████▌    |  ETA: 0:00:00\u001b[39m\r",
      "\u001b[32mProgress:  93%|██████████████████████████████████████▏  |  ETA: 0:00:00\u001b[39m\r",
      "\u001b[32mProgress:  97%|███████████████████████████████████████▋ |  ETA: 0:00:00\u001b[39m\r",
      "\u001b[32mProgress: 100%|█████████████████████████████████████████| Time: 0:00:03\u001b[39m\n",
      "\r",
      "\u001b[32mProgress:  11%|████▍                                    |  ETA: 0:00:01\u001b[39m\r",
      "\u001b[32mProgress:  29%|███████████▉                             |  ETA: 0:00:00\u001b[39m\r",
      "\u001b[32mProgress:  47%|███████████████████▎                     |  ETA: 0:00:00\u001b[39m\r",
      "\u001b[32mProgress:  65%|██████████████████████████▋              |  ETA: 0:00:00\u001b[39m\r",
      "\u001b[32mProgress:  83%|█████████████████████████████████▉       |  ETA: 0:00:00\u001b[39m\r",
      "\u001b[32mProgress:  24%|██████████                               |  ETA: 0:00:00\u001b[39m\r",
      "\u001b[32mProgress:  49%|████████████████████▏                    |  ETA: 0:00:00\u001b[39m\r",
      "\u001b[32mProgress:  74%|██████████████████████████████▏          |  ETA: 0:00:00\u001b[39m\r",
      "\u001b[32mProgress:  98%|████████████████████████████████████████▎|  ETA: 0:00:00\u001b[39m\r",
      "\u001b[32mProgress:  28%|███████████▋                             |  ETA: 0:00:00\u001b[39m\r",
      "\u001b[32mProgress:  39%|████████████████▏                        |  ETA: 0:00:00\u001b[39m\r",
      "\u001b[32mProgress:  47%|███████████████████▍                     |  ETA: 0:00:00\u001b[39m\r",
      "\u001b[32mProgress:  54%|██████████████████████▏                  |  ETA: 0:00:00\u001b[39m\r",
      "\u001b[32mProgress:  60%|████████████████████████▍                |  ETA: 0:00:00\u001b[39m\r",
      "\u001b[32mProgress:  65%|██████████████████████████▋              |  ETA: 0:00:00\u001b[39m\r",
      "\u001b[32mProgress:  70%|████████████████████████████▌            |  ETA: 0:00:00\u001b[39m\r",
      "\u001b[32mProgress:  74%|██████████████████████████████▍          |  ETA: 0:00:00\u001b[39m\r",
      "\u001b[32mProgress:  78%|████████████████████████████████         |  ETA: 0:00:00\u001b[39m\r",
      "\u001b[32mProgress:  82%|█████████████████████████████████▋       |  ETA: 0:00:00\u001b[39m\r",
      "\u001b[32mProgress:  86%|███████████████████████████████████▏     |  ETA: 0:00:00\u001b[39m\r",
      "\u001b[32mProgress:  89%|████████████████████████████████████▍    |  ETA: 0:00:00\u001b[39m\r",
      "\u001b[32mProgress:  92%|█████████████████████████████████████▊   |  ETA: 0:00:00\u001b[39m\r",
      "\u001b[32mProgress:  95%|███████████████████████████████████████  |  ETA: 0:00:00\u001b[39m"
     ]
    },
    {
     "name": "stdout",
     "output_type": "stream",
     "text": [
      " 48.146347 seconds (2 allocations: 20.420 MiB)\n",
      "  0.576863 seconds (1 allocation: 12.938 KiB)\n",
      "(times[j], distort[j], map2[j]) = (63.550290645, 0.14098862284565777, 0.8001905684404653)\n",
      "(nv(G), ne(G)) = (1631, 1630)\n",
      "(times[j], distort[j], map2[j]) = (0.321303616, 0.318953409972916, 0.8351413509821233)\n",
      " 48.978019 seconds (2 allocations: 20.271 MiB)\n",
      "  0.584225 seconds (1 allocation: 12.875 KiB)\n"
     ]
    },
    {
     "name": "stderr",
     "output_type": "stream",
     "text": [
      "\r",
      "\u001b[32mProgress:  98%|████████████████████████████████████████▏|  ETA: 0:00:00\u001b[39m\r",
      "\u001b[32mProgress: 100%|█████████████████████████████████████████| Time: 0:00:02\u001b[39m\n",
      "\r",
      "\u001b[32mProgress:   4%|█▌                                       |  ETA: 0:00:03\u001b[39m\r",
      "\u001b[32mProgress:   8%|███▎                                     |  ETA: 0:00:02\u001b[39m\r",
      "\u001b[32mProgress:  12%|████▉                                    |  ETA: 0:00:02\u001b[39m\r",
      "\u001b[32mProgress:  16%|██████▋                                  |  ETA: 0:00:02\u001b[39m\r",
      "\u001b[32mProgress:  20%|████████▎                                |  ETA: 0:00:02\u001b[39m\r",
      "\u001b[32mProgress:  24%|██████████                               |  ETA: 0:00:02\u001b[39m\r",
      "\u001b[32mProgress:  29%|███████████▉                             |  ETA: 0:00:02\u001b[39m\r",
      "\u001b[32mProgress:  33%|█████████████▋                           |  ETA: 0:00:02\u001b[39m\r",
      "\u001b[32mProgress:  38%|███████████████▍                         |  ETA: 0:00:02\u001b[39m\r",
      "\u001b[32mProgress:  42%|█████████████████▏                       |  ETA: 0:00:01\u001b[39m\r",
      "\u001b[32mProgress:  46%|██████████████████▊                      |  ETA: 0:00:01\u001b[39m\r",
      "\u001b[32mProgress:  50%|████████████████████▌                    |  ETA: 0:00:01\u001b[39m\r",
      "\u001b[32mProgress:  54%|██████████████████████▏                  |  ETA: 0:00:01\u001b[39m\r",
      "\u001b[32mProgress:  58%|███████████████████████▉                 |  ETA: 0:00:01\u001b[39m\r",
      "\u001b[32mProgress:  62%|█████████████████████████▌               |  ETA: 0:00:01\u001b[39m\r",
      "\u001b[32mProgress:  66%|███████████████████████████▏             |  ETA: 0:00:01\u001b[39m\r",
      "\u001b[32mProgress:  71%|█████████████████████████████            |  ETA: 0:00:01\u001b[39m\r",
      "\u001b[32mProgress:  75%|██████████████████████████████▊          |  ETA: 0:00:01\u001b[39m\r",
      "\u001b[32mProgress:  79%|████████████████████████████████▍        |  ETA: 0:00:01\u001b[39m\r",
      "\u001b[32mProgress:  83%|██████████████████████████████████▏      |  ETA: 0:00:00\u001b[39m\r",
      "\u001b[32mProgress:  87%|███████████████████████████████████▉     |  ETA: 0:00:00\u001b[39m\r",
      "\u001b[32mProgress:  92%|█████████████████████████████████████▋   |  ETA: 0:00:00\u001b[39m\r",
      "\u001b[32mProgress:  96%|███████████████████████████████████████▍ |  ETA: 0:00:00\u001b[39m\r",
      "\u001b[32mProgress: 100%|█████████████████████████████████████████| Time: 0:00:02\u001b[39m\n",
      "\r",
      "\u001b[32mProgress:  12%|████▊                                    |  ETA: 0:00:01\u001b[39m\r",
      "\u001b[32mProgress:  30%|████████████▍                            |  ETA: 0:00:00\u001b[39m\r",
      "\u001b[32mProgress:  49%|████████████████████                     |  ETA: 0:00:00\u001b[39m\r",
      "\u001b[32mProgress:  68%|███████████████████████████▊             |  ETA: 0:00:00\u001b[39m\r",
      "\u001b[32mProgress:  86%|███████████████████████████████████▍     |  ETA: 0:00:00\u001b[39m\r",
      "\u001b[32mProgress:  24%|██████████                               |  ETA: 0:00:00\u001b[39m\r",
      "\u001b[32mProgress:  49%|████████████████████                     |  ETA: 0:00:00\u001b[39m\r",
      "\u001b[32mProgress:  73%|██████████████████████████████▏          |  ETA: 0:00:00\u001b[39m\r",
      "\u001b[32mProgress:  98%|████████████████████████████████████████▏|  ETA: 0:00:00\u001b[39m\r",
      "\u001b[32mProgress:  29%|███████████▉                             |  ETA: 0:00:00\u001b[39m\r",
      "\u001b[32mProgress:  40%|████████████████▍                        |  ETA: 0:00:00\u001b[39m\r",
      "\u001b[32mProgress:  48%|███████████████████▋                     |  ETA: 0:00:00\u001b[39m\r",
      "\u001b[32mProgress:  54%|██████████████████████▎                  |  ETA: 0:00:00\u001b[39m\r",
      "\u001b[32mProgress:  60%|████████████████████████▊                |  ETA: 0:00:00\u001b[39m\r",
      "\u001b[32mProgress:  66%|██████████████████████████▉              |  ETA: 0:00:00\u001b[39m\r",
      "\u001b[32mProgress:  70%|████████████████████████████▊            |  ETA: 0:00:00\u001b[39m\r",
      "\u001b[32mProgress:  74%|██████████████████████████████▌          |  ETA: 0:00:00\u001b[39m\r",
      "\u001b[32mProgress:  78%|████████████████████████████████▏        |  ETA: 0:00:00\u001b[39m\r",
      "\u001b[32mProgress:  82%|█████████████████████████████████▋       |  ETA: 0:00:00\u001b[39m\r",
      "\u001b[32mProgress:  86%|███████████████████████████████████▏     |  ETA: 0:00:00\u001b[39m\r",
      "\u001b[32mProgress:  89%|████████████████████████████████████▌    |  ETA: 0:00:00\u001b[39m\r",
      "\u001b[32mProgress:  93%|██████████████████████████████████████   |  ETA: 0:00:00\u001b[39m\r",
      "\u001b[32mProgress:  96%|███████████████████████████████████████▎ |  ETA: 0:00:00\u001b[39m\r",
      "\u001b[32mProgress:  99%|████████████████████████████████████████▌|  ETA: 0:00:00\u001b[39m\r",
      "\u001b[32mProgress: 100%|█████████████████████████████████████████| Time: 0:00:02\u001b[39m\n",
      "\r",
      "\u001b[32mProgress:   4%|█▋                                       |  ETA: 0:00:02\u001b[39m\r",
      "\u001b[32mProgress:   8%|███▎                                     |  ETA: 0:00:02\u001b[39m\r",
      "\u001b[32mProgress:  12%|████▉                                    |  ETA: 0:00:02\u001b[39m\r",
      "\u001b[32mProgress:  16%|██████▌                                  |  ETA: 0:00:02\u001b[39m\r",
      "\u001b[32mProgress:  20%|████████▏                                |  ETA: 0:00:02\u001b[39m\r",
      "\u001b[32mProgress:  24%|██████████                               |  ETA: 0:00:02\u001b[39m\r",
      "\u001b[32mProgress:  29%|███████████▊                             |  ETA: 0:00:02\u001b[39m\r",
      "\u001b[32mProgress:  33%|█████████████▌                           |  ETA: 0:00:02\u001b[39m\r",
      "\u001b[32mProgress:  37%|███████████████▏                         |  ETA: 0:00:02\u001b[39m\r",
      "\u001b[32mProgress:  41%|████████████████▉                        |  ETA: 0:00:01\u001b[39m\r",
      "\u001b[32mProgress:  45%|██████████████████▋                      |  ETA: 0:00:01\u001b[39m\r",
      "\u001b[32mProgress:  50%|████████████████████▍                    |  ETA: 0:00:01\u001b[39m\r",
      "\u001b[32mProgress:  54%|██████████████████████▏                  |  ETA: 0:00:01\u001b[39m\r",
      "\u001b[32mProgress:  58%|███████████████████████▉                 |  ETA: 0:00:01\u001b[39m\r",
      "\u001b[32mProgress:  62%|█████████████████████████▋               |  ETA: 0:00:01\u001b[39m\r",
      "\u001b[32mProgress:  67%|███████████████████████████▎             |  ETA: 0:00:01\u001b[39m\r",
      "\u001b[32mProgress:  71%|█████████████████████████████▏           |  ETA: 0:00:01\u001b[39m\r",
      "\u001b[32mProgress:  75%|██████████████████████████████▊          |  ETA: 0:00:01\u001b[39m\r",
      "\u001b[32mProgress:  79%|████████████████████████████████▌        |  ETA: 0:00:01\u001b[39m\r",
      "\u001b[32mProgress:  83%|██████████████████████████████████▎      |  ETA: 0:00:00\u001b[39m\r",
      "\u001b[32mProgress:  88%|████████████████████████████████████     |  ETA: 0:00:00\u001b[39m\r",
      "\u001b[32mProgress:  92%|█████████████████████████████████████▋   |  ETA: 0:00:00\u001b[39m\r",
      "\u001b[32mProgress:  96%|███████████████████████████████████████▍ |  ETA: 0:00:00\u001b[39m\r",
      "\u001b[32mProgress: 100%|█████████████████████████████████████████| Time: 0:00:02\u001b[39m\n",
      "\r",
      "\u001b[32mProgress:  13%|█████▏                                   |  ETA: 0:00:01\u001b[39m\r",
      "\u001b[32mProgress:  30%|████████████▎                            |  ETA: 0:00:00\u001b[39m\r",
      "\u001b[32mProgress:  48%|███████████████████▋                     |  ETA: 0:00:00\u001b[39m\r",
      "\u001b[32mProgress:  66%|███████████████████████████              |  ETA: 0:00:00\u001b[39m\r",
      "\u001b[32mProgress:  84%|██████████████████████████████████▍      |  ETA: 0:00:00\u001b[39m"
     ]
    },
    {
     "name": "stdout",
     "output_type": "stream",
     "text": [
      "(times[j], distort[j], map2[j]) = (64.15529075399999, 0.13771801517827034, 0.807557887346646)\n",
      "(nv(G), ne(G)) = (1667, 1666)\n",
      "(times[j], distort[j], map2[j]) = (0.653189909, 0.32119248852352145, 0.7751664169151651)\n",
      " 51.626037 seconds (2 allocations: 21.176 MiB)\n",
      "  0.597232 seconds (1 allocation: 13.188 KiB)\n",
      "(times[j], distort[j], map2[j]) = (67.82966468000001, 0.14016955612839602, 0.7292097704316413)\n",
      "(nv(G), ne(G)) = (1644, 1643)\n",
      "(times[j], distort[j], map2[j]) = (0.448767757, 0.5428427064265126, 0.8175770127977119)\n"
     ]
    },
    {
     "name": "stderr",
     "output_type": "stream",
     "text": [
      "\r",
      "\u001b[32mProgress:  23%|█████████▍                               |  ETA: 0:00:00\u001b[39m\r",
      "\u001b[32mProgress:  46%|██████████████████▉                      |  ETA: 0:00:00\u001b[39m\r",
      "\u001b[32mProgress:  70%|████████████████████████████▌            |  ETA: 0:00:00\u001b[39m\r",
      "\u001b[32mProgress:  93%|██████████████████████████████████████▏  |  ETA: 0:00:00\u001b[39m\r",
      "\u001b[32mProgress:  29%|███████████▊                             |  ETA: 0:00:00\u001b[39m\r",
      "\u001b[32mProgress:  39%|████████████████▏                        |  ETA: 0:00:00\u001b[39m\r",
      "\u001b[32mProgress:  48%|███████████████████▌                     |  ETA: 0:00:00\u001b[39m\r",
      "\u001b[32mProgress:  54%|██████████████████████▍                  |  ETA: 0:00:00\u001b[39m\r",
      "\u001b[32mProgress:  60%|████████████████████████▋                |  ETA: 0:00:00\u001b[39m\r",
      "\u001b[32mProgress:  65%|██████████████████████████▋              |  ETA: 0:00:00\u001b[39m\r",
      "\u001b[32mProgress:  70%|████████████████████████████▋            |  ETA: 0:00:00\u001b[39m\r",
      "\u001b[32mProgress:  74%|██████████████████████████████▌          |  ETA: 0:00:00\u001b[39m\r",
      "\u001b[32mProgress:  78%|████████████████████████████████▏        |  ETA: 0:00:00\u001b[39m\r",
      "\u001b[32mProgress:  82%|█████████████████████████████████▊       |  ETA: 0:00:00\u001b[39m\r",
      "\u001b[32mProgress:  86%|███████████████████████████████████▏     |  ETA: 0:00:00\u001b[39m\r",
      "\u001b[32mProgress:  89%|████████████████████████████████████▌    |  ETA: 0:00:00\u001b[39m\r",
      "\u001b[32mProgress:  93%|██████████████████████████████████████   |  ETA: 0:00:00\u001b[39m\r",
      "\u001b[32mProgress:  96%|███████████████████████████████████████▍ |  ETA: 0:00:00\u001b[39m\r",
      "\u001b[32mProgress:  99%|████████████████████████████████████████▋|  ETA: 0:00:00\u001b[39m\r",
      "\u001b[32mProgress: 100%|█████████████████████████████████████████| Time: 0:00:02\u001b[39m\n",
      "\r",
      "\u001b[32mProgress:   4%|█▍                                       |  ETA: 0:00:03\u001b[39m\r",
      "\u001b[32mProgress:   7%|██▉                                      |  ETA: 0:00:03\u001b[39m\r",
      "\u001b[32mProgress:  11%|████▍                                    |  ETA: 0:00:03\u001b[39m\r",
      "\u001b[32mProgress:  14%|█████▉                                   |  ETA: 0:00:02\u001b[39m\r",
      "\u001b[32mProgress:  18%|███████▎                                 |  ETA: 0:00:02\u001b[39m\r",
      "\u001b[32mProgress:  21%|████████▊                                |  ETA: 0:00:02\u001b[39m\r",
      "\u001b[32mProgress:  25%|██████████▍                              |  ETA: 0:00:02\u001b[39m\r",
      "\u001b[32mProgress:  29%|███████████▊                             |  ETA: 0:00:02\u001b[39m\r",
      "\u001b[32mProgress:  32%|█████████████▎                           |  ETA: 0:00:02\u001b[39m\r",
      "\u001b[32mProgress:  35%|██████████████▌                          |  ETA: 0:00:02\u001b[39m\r",
      "\u001b[32mProgress:  38%|███████████████▊                         |  ETA: 0:00:02\u001b[39m\r",
      "\u001b[32mProgress:  42%|█████████████████▎                       |  ETA: 0:00:02\u001b[39m\r",
      "\u001b[32mProgress:  46%|██████████████████▊                      |  ETA: 0:00:02\u001b[39m\r",
      "\u001b[32mProgress:  49%|████████████████████▎                    |  ETA: 0:00:01\u001b[39m\r",
      "\u001b[32mProgress:  53%|█████████████████████▊                   |  ETA: 0:00:01\u001b[39m\r",
      "\u001b[32mProgress:  57%|███████████████████████▎                 |  ETA: 0:00:01\u001b[39m\r",
      "\u001b[32mProgress:  60%|████████████████████████▋                |  ETA: 0:00:01\u001b[39m\r",
      "\u001b[32mProgress:  64%|██████████████████████████▏              |  ETA: 0:00:01\u001b[39m\r",
      "\u001b[32mProgress:  67%|███████████████████████████▋             |  ETA: 0:00:01\u001b[39m\r",
      "\u001b[32mProgress:  71%|█████████████████████████████▏           |  ETA: 0:00:01\u001b[39m\r",
      "\u001b[32mProgress:  74%|██████████████████████████████▌          |  ETA: 0:00:01\u001b[39m\r",
      "\u001b[32mProgress:  78%|████████████████████████████████         |  ETA: 0:00:01\u001b[39m\r",
      "\u001b[32mProgress:  82%|█████████████████████████████████▍       |  ETA: 0:00:01\u001b[39m\r",
      "\u001b[32mProgress:  85%|██████████████████████████████████▉      |  ETA: 0:00:00\u001b[39m\r",
      "\u001b[32mProgress:  89%|████████████████████████████████████▍    |  ETA: 0:00:00\u001b[39m\r",
      "\u001b[32mProgress:  92%|█████████████████████████████████████▉   |  ETA: 0:00:00\u001b[39m\r",
      "\u001b[32mProgress:  96%|███████████████████████████████████████▎ |  ETA: 0:00:00\u001b[39m\r",
      "\u001b[32mProgress:  99%|████████████████████████████████████████▊|  ETA: 0:00:00\u001b[39m\r",
      "\u001b[32mProgress: 100%|█████████████████████████████████████████| Time: 0:00:03\u001b[39m\n",
      "\r",
      "\u001b[32mProgress:   9%|███▌                                     |  ETA: 0:00:01\u001b[39m\r",
      "\u001b[32mProgress:  26%|██████████▌                              |  ETA: 0:00:01\u001b[39m\r",
      "\u001b[32mProgress:  43%|█████████████████▋                       |  ETA: 0:00:00\u001b[39m\r",
      "\u001b[32mProgress:  60%|████████████████████████▊                |  ETA: 0:00:00\u001b[39m\r",
      "\u001b[32mProgress:  77%|███████████████████████████████▊         |  ETA: 0:00:00\u001b[39m\r",
      "\u001b[32mProgress:  95%|██████████████████████████████████████▊  |  ETA: 0:00:00\u001b[39m\r",
      "\u001b[32mProgress:  25%|██████████▎                              |  ETA: 0:00:00\u001b[39m\r",
      "\u001b[32mProgress:  50%|████████████████████▋                    |  ETA: 0:00:00\u001b[39m\r",
      "\u001b[32mProgress:  75%|██████████████████████████████▉          |  ETA: 0:00:00\u001b[39m\r",
      "\u001b[32mProgress:  25%|██████████▎                              |  ETA: 0:00:00\u001b[39m\r",
      "\u001b[32mProgress:  34%|██████████████▏                          |  ETA: 0:00:00\u001b[39m\r",
      "\u001b[32mProgress:  42%|█████████████████▏                       |  ETA: 0:00:00\u001b[39m\r",
      "\u001b[32mProgress:  47%|███████████████████▌                     |  ETA: 0:00:00\u001b[39m\r",
      "\u001b[32mProgress:  53%|█████████████████████▋                   |  ETA: 0:00:00\u001b[39m\r",
      "\u001b[32mProgress:  57%|███████████████████████▍                 |  ETA: 0:00:00\u001b[39m\r",
      "\u001b[32mProgress:  61%|█████████████████████████▏               |  ETA: 0:00:00\u001b[39m\r",
      "\u001b[32mProgress:  65%|██████████████████████████▊              |  ETA: 0:00:00\u001b[39m\r",
      "\u001b[32mProgress:  69%|████████████████████████████▎            |  ETA: 0:00:00\u001b[39m\r",
      "\u001b[32mProgress:  72%|█████████████████████████████▋           |  ETA: 0:00:00\u001b[39m\r",
      "\u001b[32mProgress:  75%|██████████████████████████████▊          |  ETA: 0:00:00\u001b[39m\r",
      "\u001b[32mProgress:  77%|███████████████████████████████▊         |  ETA: 0:00:00\u001b[39m\r",
      "\u001b[32mProgress:  80%|████████████████████████████████▊        |  ETA: 0:00:00\u001b[39m\r",
      "\u001b[32mProgress:  82%|█████████████████████████████████▋       |  ETA: 0:00:00\u001b[39m\r",
      "\u001b[32mProgress:  85%|██████████████████████████████████▉      |  ETA: 0:00:00\u001b[39m\r",
      "\u001b[32mProgress:  88%|███████████████████████████████████▉     |  ETA: 0:00:00\u001b[39m\r",
      "\u001b[32mProgress:  90%|████████████████████████████████████▉    |  ETA: 0:00:00\u001b[39m\r",
      "\u001b[32mProgress:  93%|█████████████████████████████████████▉   |  ETA: 0:00:00\u001b[39m\r",
      "\u001b[32mProgress:  95%|██████████████████████████████████████▉  |  ETA: 0:00:00\u001b[39m\r",
      "\u001b[32mProgress:  97%|███████████████████████████████████████▊ |  ETA: 0:00:00\u001b[39m"
     ]
    },
    {
     "name": "stdout",
     "output_type": "stream",
     "text": [
      " 49.605496 seconds (2 allocations: 20.595 MiB)\n",
      "  0.580691 seconds (1 allocation: 13.000 KiB)\n",
      "(times[j], distort[j], map2[j]) = (66.13621651, 0.14072899625947355, 0.7862850303298272)\n",
      "(nv(G), ne(G)) = (1629, 1628)\n",
      "(times[j], distort[j], map2[j]) = (0.311304894, 0.4128949972490206, 0.8413519679215238)\n"
     ]
    },
    {
     "name": "stderr",
     "output_type": "stream",
     "text": [
      "\r",
      "\u001b[32mProgress:  99%|████████████████████████████████████████▊|  ETA: 0:00:00\u001b[39m\r",
      "\u001b[32mProgress: 100%|█████████████████████████████████████████| Time: 0:00:02\u001b[39m\n",
      "\r",
      "\u001b[32mProgress:   4%|█▌                                       |  ETA: 0:00:03\u001b[39m\r",
      "\u001b[32mProgress:   8%|███▎                                     |  ETA: 0:00:02\u001b[39m\r",
      "\u001b[32mProgress:  12%|████▉                                    |  ETA: 0:00:02\u001b[39m\r",
      "\u001b[32mProgress:  16%|██████▋                                  |  ETA: 0:00:02\u001b[39m\r",
      "\u001b[32mProgress:  20%|████████▍                                |  ETA: 0:00:02\u001b[39m\r",
      "\u001b[32mProgress:  24%|██████████                               |  ETA: 0:00:02\u001b[39m\r",
      "\u001b[32mProgress:  29%|███████████▊                             |  ETA: 0:00:02\u001b[39m\r",
      "\u001b[32mProgress:  33%|█████████████▍                           |  ETA: 0:00:02\u001b[39m\r",
      "\u001b[32mProgress:  37%|███████████████                          |  ETA: 0:00:02\u001b[39m\r",
      "\u001b[32mProgress:  41%|████████████████▋                        |  ETA: 0:00:01\u001b[39m\r",
      "\u001b[32mProgress:  45%|██████████████████▎                      |  ETA: 0:00:01\u001b[39m\r",
      "\u001b[32mProgress:  49%|████████████████████                     |  ETA: 0:00:01\u001b[39m\r",
      "\u001b[32mProgress:  53%|█████████████████████▊                   |  ETA: 0:00:01\u001b[39m\r",
      "\u001b[32mProgress:  57%|███████████████████████▍                 |  ETA: 0:00:01\u001b[39m\r",
      "\u001b[32mProgress:  61%|█████████████████████████▏               |  ETA: 0:00:01\u001b[39m\r",
      "\u001b[32mProgress:  65%|██████████████████████████▊              |  ETA: 0:00:01\u001b[39m\r",
      "\u001b[32mProgress:  69%|████████████████████████████▌            |  ETA: 0:00:01\u001b[39m\r",
      "\u001b[32mProgress:  74%|██████████████████████████████▎          |  ETA: 0:00:01\u001b[39m\r",
      "\u001b[32mProgress:  78%|███████████████████████████████▉         |  ETA: 0:00:01\u001b[39m\r",
      "\u001b[32mProgress:  82%|█████████████████████████████████▋       |  ETA: 0:00:00\u001b[39m\r",
      "\u001b[32mProgress:  86%|███████████████████████████████████▎     |  ETA: 0:00:00\u001b[39m\r",
      "\u001b[32mProgress:  90%|████████████████████████████████████▉    |  ETA: 0:00:00\u001b[39m\r",
      "\u001b[32mProgress:  94%|██████████████████████████████████████▋  |  ETA: 0:00:00\u001b[39m\r",
      "\u001b[32mProgress:  98%|████████████████████████████████████████▍|  ETA: 0:00:00\u001b[39m\r",
      "\u001b[32mProgress: 100%|█████████████████████████████████████████| Time: 0:00:02\u001b[39m\n",
      "\r",
      "\u001b[32mProgress:  10%|████▏                                    |  ETA: 0:00:01\u001b[39m\r",
      "\u001b[32mProgress:  27%|███████████▏                             |  ETA: 0:00:01\u001b[39m\r",
      "\u001b[32mProgress:  45%|██████████████████▌                      |  ETA: 0:00:00\u001b[39m\r",
      "\u001b[32mProgress:  63%|█████████████████████████▊               |  ETA: 0:00:00\u001b[39m\r",
      "\u001b[32mProgress:  80%|█████████████████████████████████        |  ETA: 0:00:00\u001b[39m\r",
      "\u001b[32mProgress:  98%|████████████████████████████████████████▍|  ETA: 0:00:00\u001b[39m\r",
      "\u001b[32mProgress:  23%|█████████▋                               |  ETA: 0:00:00\u001b[39m\r",
      "\u001b[32mProgress:  47%|███████████████████▎                     |  ETA: 0:00:00\u001b[39m\r",
      "\u001b[32mProgress:  71%|█████████████████████████████▎           |  ETA: 0:00:00\u001b[39m\r",
      "\u001b[32mProgress:  96%|███████████████████████████████████████▎ |  ETA: 0:00:00\u001b[39m\r",
      "\u001b[32mProgress:  27%|███████████▎                             |  ETA: 0:00:00\u001b[39m\r",
      "\u001b[32mProgress:  38%|███████████████▋                         |  ETA: 0:00:00\u001b[39m\r",
      "\u001b[32mProgress:  46%|██████████████████▉                      |  ETA: 0:00:00\u001b[39m\r",
      "\u001b[32mProgress:  52%|█████████████████████▌                   |  ETA: 0:00:00\u001b[39m\r",
      "\u001b[32mProgress:  58%|███████████████████████▊                 |  ETA: 0:00:00\u001b[39m\r",
      "\u001b[32mProgress:  63%|█████████████████████████▉               |  ETA: 0:00:00\u001b[39m\r",
      "\u001b[32mProgress:  68%|███████████████████████████▊             |  ETA: 0:00:00\u001b[39m\r",
      "\u001b[32mProgress:  72%|█████████████████████████████▌           |  ETA: 0:00:00\u001b[39m\r",
      "\u001b[32mProgress:  76%|███████████████████████████████▏         |  ETA: 0:00:00\u001b[39m\r",
      "\u001b[32mProgress:  80%|████████████████████████████████▉        |  ETA: 0:00:00\u001b[39m\r",
      "\u001b[32mProgress:  84%|██████████████████████████████████▍      |  ETA: 0:00:00\u001b[39m\r",
      "\u001b[32mProgress:  87%|███████████████████████████████████▊     |  ETA: 0:00:00\u001b[39m\r",
      "\u001b[32mProgress:  91%|█████████████████████████████████████▏   |  ETA: 0:00:00\u001b[39m\r",
      "\u001b[32mProgress:  94%|██████████████████████████████████████▍  |  ETA: 0:00:00\u001b[39m\r",
      "\u001b[32mProgress:  97%|███████████████████████████████████████▋ |  ETA: 0:00:00\u001b[39m\r",
      "\u001b[32mProgress: 100%|████████████████████████████████████████▉|  ETA: 0:00:00\u001b[39m\r",
      "\u001b[32mProgress: 100%|█████████████████████████████████████████| Time: 0:00:02\u001b[39m\n",
      "\r",
      "\u001b[32mProgress:   4%|█▌                                       |  ETA: 0:00:03\u001b[39m\r",
      "\u001b[32mProgress:   7%|███                                      |  ETA: 0:00:03\u001b[39m\r",
      "\u001b[32mProgress:  11%|████▌                                    |  ETA: 0:00:02\u001b[39m\r",
      "\u001b[32mProgress:  15%|██████▏                                  |  ETA: 0:00:02\u001b[39m\r",
      "\u001b[32mProgress:  19%|███████▋                                 |  ETA: 0:00:02\u001b[39m\r",
      "\u001b[32mProgress:  22%|█████████▏                               |  ETA: 0:00:02\u001b[39m\r",
      "\u001b[32mProgress:  26%|██████████▋                              |  ETA: 0:00:02\u001b[39m\r",
      "\u001b[32mProgress:  30%|████████████▎                            |  ETA: 0:00:02\u001b[39m\r",
      "\u001b[32mProgress:  33%|█████████████▋                           |  ETA: 0:00:02\u001b[39m\r",
      "\u001b[32mProgress:  37%|███████████████▏                         |  ETA: 0:00:02\u001b[39m\r",
      "\u001b[32mProgress:  41%|████████████████▊                        |  ETA: 0:00:02\u001b[39m\r",
      "\u001b[32mProgress:  45%|██████████████████▎                      |  ETA: 0:00:02\u001b[39m\r",
      "\u001b[32mProgress:  48%|███████████████████▉                     |  ETA: 0:00:01\u001b[39m\r",
      "\u001b[32mProgress:  52%|█████████████████████▎                   |  ETA: 0:00:01\u001b[39m\r",
      "\u001b[32mProgress:  56%|██████████████████████▉                  |  ETA: 0:00:01\u001b[39m\r",
      "\u001b[32mProgress:  60%|████████████████████████▍                |  ETA: 0:00:01\u001b[39m\r",
      "\u001b[32mProgress:  63%|█████████████████████████▉               |  ETA: 0:00:01\u001b[39m\r",
      "\u001b[32mProgress:  67%|███████████████████████████▍             |  ETA: 0:00:01\u001b[39m\r",
      "\u001b[32mProgress:  70%|████████████████████████████▊            |  ETA: 0:00:01\u001b[39m\r",
      "\u001b[32mProgress:  74%|██████████████████████████████▍          |  ETA: 0:00:01\u001b[39m\r",
      "\u001b[32mProgress:  78%|████████████████████████████████         |  ETA: 0:00:01\u001b[39m\r",
      "\u001b[32mProgress:  82%|█████████████████████████████████▋       |  ETA: 0:00:00\u001b[39m\r",
      "\u001b[32mProgress:  86%|███████████████████████████████████▎     |  ETA: 0:00:00\u001b[39m\r",
      "\u001b[32mProgress:  90%|████████████████████████████████████▉    |  ETA: 0:00:00\u001b[39m\r",
      "\u001b[32mProgress:  94%|██████████████████████████████████████▍  |  ETA: 0:00:00\u001b[39m"
     ]
    },
    {
     "name": "stdout",
     "output_type": "stream",
     "text": [
      " 48.230419 seconds (2 allocations: 20.221 MiB)\n",
      "  0.580475 seconds (1 allocation: 12.875 KiB)\n",
      "(times[j], distort[j], map2[j]) = (63.900833095, 0.14589852060187739, 0.7796033072543912)\n",
      "(nv(G), ne(G)) = (1656, 1655)\n",
      "(times[j], distort[j], map2[j]) = (0.556941514, 0.46795584866173745, 0.8163266469793898)\n",
      " 52.244597 seconds (2 allocations: 20.897 MiB)\n",
      "  0.587892 seconds (1 allocation: 13.063 KiB)\n",
      "(times[j], distort[j], map2[j]) = (68.55964182299999, 0.13902827561789563, 0.7826286417016503)\n",
      "(nv(G), ne(G)) = (1639, 1638)\n",
      "(times[j], distort[j], map2[j]) = (0.400591141, 0.28462214601011265, 0.833891770415445)\n"
     ]
    },
    {
     "name": "stderr",
     "output_type": "stream",
     "text": [
      "\r",
      "\u001b[32mProgress:  98%|████████████████████████████████████████ |  ETA: 0:00:00\u001b[39m\r",
      "\u001b[32mProgress: 100%|█████████████████████████████████████████| Time: 0:00:03\u001b[39m\n",
      "\r",
      "\u001b[32mProgress:   9%|███▋                                     |  ETA: 0:00:01\u001b[39m\r",
      "\u001b[32mProgress:  27%|███████████▎                             |  ETA: 0:00:01\u001b[39m\r",
      "\u001b[32mProgress:  45%|██████████████████▋                      |  ETA: 0:00:00\u001b[39m\r",
      "\u001b[32mProgress:  64%|██████████████████████████               |  ETA: 0:00:00\u001b[39m\r",
      "\u001b[32mProgress:  82%|█████████████████████████████████▋       |  ETA: 0:00:00\u001b[39m\r",
      "\u001b[32mProgress: 100%|████████████████████████████████████████▉|  ETA: 0:00:00\u001b[39m\r",
      "\u001b[32mProgress:  24%|█████████▊                               |  ETA: 0:00:00\u001b[39m\r",
      "\u001b[32mProgress:  49%|████████████████████                     |  ETA: 0:00:00\u001b[39m\r",
      "\u001b[32mProgress:  73%|█████████████████████████████▉           |  ETA: 0:00:00\u001b[39m\r",
      "\u001b[32mProgress:  97%|███████████████████████████████████████▉ |  ETA: 0:00:00\u001b[39m\r",
      "\u001b[32mProgress:  27%|███████████                              |  ETA: 0:00:00\u001b[39m\r",
      "\u001b[32mProgress:  37%|███████████████▎                         |  ETA: 0:00:00\u001b[39m\r",
      "\u001b[32mProgress:  45%|██████████████████▎                      |  ETA: 0:00:00\u001b[39m\r",
      "\u001b[32mProgress:  51%|████████████████████▉                    |  ETA: 0:00:00\u001b[39m\r",
      "\u001b[32mProgress:  56%|███████████████████████▏                 |  ETA: 0:00:00\u001b[39m\r",
      "\u001b[32mProgress:  61%|█████████████████████████▏               |  ETA: 0:00:00\u001b[39m\r",
      "\u001b[32mProgress:  66%|██████████████████████████▉              |  ETA: 0:00:00\u001b[39m\r",
      "\u001b[32mProgress:  70%|████████████████████████████▋            |  ETA: 0:00:00\u001b[39m\r",
      "\u001b[32mProgress:  74%|██████████████████████████████▏          |  ETA: 0:00:00\u001b[39m\r",
      "\u001b[32mProgress:  77%|███████████████████████████████▌         |  ETA: 0:00:00\u001b[39m\r",
      "\u001b[32mProgress:  80%|█████████████████████████████████        |  ETA: 0:00:00\u001b[39m\r",
      "\u001b[32mProgress:  84%|██████████████████████████████████▍      |  ETA: 0:00:00\u001b[39m\r",
      "\u001b[32mProgress:  87%|███████████████████████████████████▊     |  ETA: 0:00:00\u001b[39m\r",
      "\u001b[32mProgress:  90%|████████████████████████████████████▉    |  ETA: 0:00:00\u001b[39m\r",
      "\u001b[32mProgress:  93%|██████████████████████████████████████   |  ETA: 0:00:00\u001b[39m\r",
      "\u001b[32mProgress:  95%|███████████████████████████████████████▏ |  ETA: 0:00:00\u001b[39m\r",
      "\u001b[32mProgress:  98%|████████████████████████████████████████▎|  ETA: 0:00:00\u001b[39m\r",
      "\u001b[32mProgress: 100%|█████████████████████████████████████████| Time: 0:00:02\u001b[39m\n",
      "\r",
      "\u001b[32mProgress:   4%|█▌                                       |  ETA: 0:00:03\u001b[39m\r",
      "\u001b[32mProgress:   8%|███▏                                     |  ETA: 0:00:02\u001b[39m\r",
      "\u001b[32mProgress:  12%|████▉                                    |  ETA: 0:00:02\u001b[39m\r",
      "\u001b[32mProgress:  16%|██████▌                                  |  ETA: 0:00:02\u001b[39m\r",
      "\u001b[32mProgress:  20%|████████▏                                |  ETA: 0:00:02\u001b[39m\r",
      "\u001b[32mProgress:  24%|█████████▊                               |  ETA: 0:00:02\u001b[39m\r",
      "\u001b[32mProgress:  28%|███████████▍                             |  ETA: 0:00:02\u001b[39m\r",
      "\u001b[32mProgress:  32%|█████████████                            |  ETA: 0:00:02\u001b[39m\r",
      "\u001b[32mProgress:  36%|██████████████▋                          |  ETA: 0:00:02\u001b[39m\r",
      "\u001b[32mProgress:  40%|████████████████▎                        |  ETA: 0:00:02\u001b[39m\r",
      "\u001b[32mProgress:  44%|██████████████████                       |  ETA: 0:00:01\u001b[39m\r",
      "\u001b[32mProgress:  48%|███████████████████▊                     |  ETA: 0:00:01\u001b[39m\r",
      "\u001b[32mProgress:  52%|█████████████████████▌                   |  ETA: 0:00:01\u001b[39m\r",
      "\u001b[32mProgress:  56%|███████████████████████▏                 |  ETA: 0:00:01\u001b[39m\r",
      "\u001b[32mProgress:  61%|████████████████████████▉                |  ETA: 0:00:01\u001b[39m\r",
      "\u001b[32mProgress:  64%|██████████████████████████▍              |  ETA: 0:00:01\u001b[39m\r",
      "\u001b[32mProgress:  68%|███████████████████████████▉             |  ETA: 0:00:01\u001b[39m\r",
      "\u001b[32mProgress:  72%|█████████████████████████████▌           |  ETA: 0:00:01\u001b[39m\r",
      "\u001b[32mProgress:  76%|███████████████████████████████▏         |  ETA: 0:00:01\u001b[39m\r",
      "\u001b[32mProgress:  80%|████████████████████████████████▊        |  ETA: 0:00:01\u001b[39m\r",
      "\u001b[32mProgress:  84%|██████████████████████████████████▎      |  ETA: 0:00:00\u001b[39m\r",
      "\u001b[32mProgress:  87%|███████████████████████████████████▊     |  ETA: 0:00:00\u001b[39m\r",
      "\u001b[32mProgress:  91%|█████████████████████████████████████▍   |  ETA: 0:00:00\u001b[39m\r",
      "\u001b[32mProgress:  95%|███████████████████████████████████████  |  ETA: 0:00:00\u001b[39m\r",
      "\u001b[32mProgress:  99%|████████████████████████████████████████▌|  ETA: 0:00:00\u001b[39m\r",
      "\u001b[32mProgress: 100%|█████████████████████████████████████████| Time: 0:00:03\u001b[39m\n",
      "\r",
      "\u001b[32mProgress:  11%|████▋                                    |  ETA: 0:00:01\u001b[39m\r",
      "\u001b[32mProgress:  29%|███████████▉                             |  ETA: 0:00:00\u001b[39m\r",
      "\u001b[32mProgress:  47%|███████████████████▏                     |  ETA: 0:00:00\u001b[39m\r",
      "\u001b[32mProgress:  64%|██████████████████████████▎              |  ETA: 0:00:00\u001b[39m\r",
      "\u001b[32mProgress:  82%|█████████████████████████████████▌       |  ETA: 0:00:00\u001b[39m\r",
      "\u001b[32mProgress:  24%|█████████▋                               |  ETA: 0:00:00\u001b[39m\r",
      "\u001b[32mProgress:  48%|███████████████████▋                     |  ETA: 0:00:00\u001b[39m\r",
      "\u001b[32mProgress:  72%|█████████████████████████████▋           |  ETA: 0:00:00\u001b[39m\r",
      "\u001b[32mProgress:  97%|███████████████████████████████████████▋ |  ETA: 0:00:00\u001b[39m\r",
      "\u001b[32mProgress:  29%|███████████▉                             |  ETA: 0:00:00\u001b[39m\r",
      "\u001b[32mProgress:  40%|████████████████▍                        |  ETA: 0:00:00\u001b[39m\r",
      "\u001b[32mProgress:  48%|███████████████████▉                     |  ETA: 0:00:00\u001b[39m\r",
      "\u001b[32mProgress:  55%|██████████████████████▋                  |  ETA: 0:00:00\u001b[39m\r",
      "\u001b[32mProgress:  61%|█████████████████████████                |  ETA: 0:00:00\u001b[39m\r",
      "\u001b[32mProgress:  66%|███████████████████████████▏             |  ETA: 0:00:00\u001b[39m\r",
      "\u001b[32mProgress:  71%|█████████████████████████████▏           |  ETA: 0:00:00\u001b[39m\r",
      "\u001b[32mProgress:  75%|██████████████████████████████▉          |  ETA: 0:00:00\u001b[39m\r",
      "\u001b[32mProgress:  80%|████████████████████████████████▋        |  ETA: 0:00:00\u001b[39m\r",
      "\u001b[32mProgress:  83%|██████████████████████████████████▏      |  ETA: 0:00:00\u001b[39m\r",
      "\u001b[32mProgress:  87%|███████████████████████████████████▋     |  ETA: 0:00:00\u001b[39m\r",
      "\u001b[32mProgress:  90%|█████████████████████████████████████▏   |  ETA: 0:00:00\u001b[39m"
     ]
    },
    {
     "name": "stdout",
     "output_type": "stream",
     "text": [
      " 49.158396 seconds (2 allocations: 20.470 MiB)\n",
      "  0.597684 seconds (1 allocation: 12.938 KiB)\n",
      "(times[j], distort[j], map2[j]) = (64.521588378, 0.13903239881430848, 0.8045725873810641)\n",
      "(nv(G), ne(G)) = (1716, 1715)\n",
      "(times[j], distort[j], map2[j]) = (1.154306752, 0.4199323134339269, 0.6889501763893995)\n"
     ]
    },
    {
     "name": "stderr",
     "output_type": "stream",
     "text": [
      "\r",
      "\u001b[32mProgress:  94%|██████████████████████████████████████▌  |  ETA: 0:00:00\u001b[39m\r",
      "\u001b[32mProgress:  97%|███████████████████████████████████████▉ |  ETA: 0:00:00\u001b[39m\r",
      "\u001b[32mProgress: 100%|█████████████████████████████████████████| Time: 0:00:02\u001b[39m\n",
      "\r",
      "\u001b[32mProgress:   4%|█▌                                       |  ETA: 0:00:03\u001b[39m\r",
      "\u001b[32mProgress:   8%|███▏                                     |  ETA: 0:00:02\u001b[39m\r",
      "\u001b[32mProgress:  12%|████▊                                    |  ETA: 0:00:02\u001b[39m\r",
      "\u001b[32mProgress:  16%|██████▍                                  |  ETA: 0:00:02\u001b[39m\r",
      "\u001b[32mProgress:  19%|████████                                 |  ETA: 0:00:02\u001b[39m\r",
      "\u001b[32mProgress:  23%|█████████▋                               |  ETA: 0:00:02\u001b[39m\r",
      "\u001b[32mProgress:  27%|███████████▎                             |  ETA: 0:00:02\u001b[39m\r",
      "\u001b[32mProgress:  31%|████████████▉                            |  ETA: 0:00:02\u001b[39m\r",
      "\u001b[32mProgress:  35%|██████████████▌                          |  ETA: 0:00:02\u001b[39m\r",
      "\u001b[32mProgress:  39%|████████████████▏                        |  ETA: 0:00:02\u001b[39m\r",
      "\u001b[32mProgress:  43%|█████████████████▋                       |  ETA: 0:00:01\u001b[39m\r",
      "\u001b[32mProgress:  47%|███████████████████▍                     |  ETA: 0:00:01\u001b[39m\r",
      "\u001b[32mProgress:  51%|████████████████████▉                    |  ETA: 0:00:01\u001b[39m\r",
      "\u001b[32mProgress:  55%|██████████████████████▌                  |  ETA: 0:00:01\u001b[39m\r",
      "\u001b[32mProgress:  59%|████████████████████████▎                |  ETA: 0:00:01\u001b[39m\r",
      "\u001b[32mProgress:  63%|█████████████████████████▉               |  ETA: 0:00:01\u001b[39m\r",
      "\u001b[32mProgress:  67%|███████████████████████████▌             |  ETA: 0:00:01\u001b[39m\r",
      "\u001b[32mProgress:  71%|█████████████████████████████▏           |  ETA: 0:00:01\u001b[39m\r",
      "\u001b[32mProgress:  75%|██████████████████████████████▊          |  ETA: 0:00:01\u001b[39m\r",
      "\u001b[32mProgress:  79%|████████████████████████████████▍        |  ETA: 0:00:01\u001b[39m\r",
      "\u001b[32mProgress:  83%|██████████████████████████████████▏      |  ETA: 0:00:00\u001b[39m\r",
      "\u001b[32mProgress:  87%|███████████████████████████████████▉     |  ETA: 0:00:00\u001b[39m\r",
      "\u001b[32mProgress:  91%|█████████████████████████████████████▌   |  ETA: 0:00:00\u001b[39m\r",
      "\u001b[32mProgress:  96%|███████████████████████████████████████▏ |  ETA: 0:00:00\u001b[39m\r",
      "\u001b[32mProgress: 100%|████████████████████████████████████████▉|  ETA: 0:00:00\u001b[39m\r",
      "\u001b[32mProgress: 100%|█████████████████████████████████████████| Time: 0:00:03\u001b[39m\n",
      "\r",
      "\u001b[32mProgress:  10%|████▏                                    |  ETA: 0:00:01\u001b[39m\r",
      "\u001b[32mProgress:  28%|███████████▋                             |  ETA: 0:00:01\u001b[39m\r",
      "\u001b[32mProgress:  47%|███████████████████▏                     |  ETA: 0:00:00\u001b[39m\r",
      "\u001b[32mProgress:  65%|██████████████████████████▋              |  ETA: 0:00:00\u001b[39m\r",
      "\u001b[32mProgress:  83%|██████████████████████████████████▏      |  ETA: 0:00:00\u001b[39m\r",
      "\u001b[32mProgress: 100%|████████████████████████████████████████▉|  ETA: 0:00:00\u001b[39m\r",
      "\u001b[32mProgress:  22%|████████▉                                |  ETA: 0:00:00\u001b[39m\r",
      "\u001b[32mProgress:  44%|██████████████████                       |  ETA: 0:00:00\u001b[39m\r",
      "\u001b[32mProgress:  66%|███████████████████████████▏             |  ETA: 0:00:00\u001b[39m\r",
      "\u001b[32mProgress:  88%|████████████████████████████████████▏    |  ETA: 0:00:00\u001b[39m\r",
      "\u001b[32mProgress:  27%|███████████▏                             |  ETA: 0:00:00\u001b[39m\r",
      "\u001b[32mProgress:  38%|███████████████▊                         |  ETA: 0:00:00\u001b[39m\r",
      "\u001b[32mProgress:  46%|██████████████████▊                      |  ETA: 0:00:00\u001b[39m\r",
      "\u001b[32mProgress:  52%|█████████████████████▍                   |  ETA: 0:00:00\u001b[39m\r",
      "\u001b[32mProgress:  58%|███████████████████████▋                 |  ETA: 0:00:00\u001b[39m\r",
      "\u001b[32mProgress:  63%|█████████████████████████▊               |  ETA: 0:00:00\u001b[39m\r",
      "\u001b[32mProgress:  67%|███████████████████████████▌             |  ETA: 0:00:00\u001b[39m\r",
      "\u001b[32mProgress:  72%|█████████████████████████████▍           |  ETA: 0:00:00\u001b[39m\r",
      "\u001b[32mProgress:  76%|███████████████████████████████          |  ETA: 0:00:00\u001b[39m\r",
      "\u001b[32mProgress:  79%|████████████████████████████████▌        |  ETA: 0:00:00\u001b[39m\r",
      "\u001b[32mProgress:  83%|██████████████████████████████████       |  ETA: 0:00:00\u001b[39m\r",
      "\u001b[32mProgress:  86%|███████████████████████████████████▍     |  ETA: 0:00:00\u001b[39m\r",
      "\u001b[32mProgress:  89%|████████████████████████████████████▋    |  ETA: 0:00:00\u001b[39m\r",
      "\u001b[32mProgress:  93%|█████████████████████████████████████▉   |  ETA: 0:00:00\u001b[39m\r",
      "\u001b[32mProgress:  96%|███████████████████████████████████████▎ |  ETA: 0:00:00\u001b[39m\r",
      "\u001b[32mProgress:  98%|████████████████████████████████████████▍|  ETA: 0:00:00\u001b[39m\r",
      "\u001b[32mProgress: 100%|█████████████████████████████████████████| Time: 0:00:02\u001b[39m\n",
      "\r",
      "\u001b[32mProgress:   3%|█▍                                       |  ETA: 0:00:03\u001b[39m\r",
      "\u001b[32mProgress:   7%|██▊                                      |  ETA: 0:00:03\u001b[39m\r",
      "\u001b[32mProgress:  10%|████▏                                    |  ETA: 0:00:03\u001b[39m\r",
      "\u001b[32mProgress:  14%|█████▌                                   |  ETA: 0:00:03\u001b[39m\r",
      "\u001b[32mProgress:  17%|███████                                  |  ETA: 0:00:02\u001b[39m\r",
      "\u001b[32mProgress:  20%|████████▍                                |  ETA: 0:00:02\u001b[39m\r",
      "\u001b[32mProgress:  24%|█████████▊                               |  ETA: 0:00:02\u001b[39m\r",
      "\u001b[32mProgress:  27%|███████████▏                             |  ETA: 0:00:02\u001b[39m\r",
      "\u001b[32mProgress:  31%|████████████▌                            |  ETA: 0:00:02\u001b[39m\r",
      "\u001b[32mProgress:  34%|█████████████▉                           |  ETA: 0:00:02\u001b[39m\r",
      "\u001b[32mProgress:  37%|███████████████▎                         |  ETA: 0:00:02\u001b[39m\r",
      "\u001b[32mProgress:  41%|████████████████▋                        |  ETA: 0:00:02\u001b[39m\r",
      "\u001b[32mProgress:  44%|██████████████████                       |  ETA: 0:00:02\u001b[39m\r",
      "\u001b[32mProgress:  47%|███████████████████▎                     |  ETA: 0:00:02\u001b[39m\r",
      "\u001b[32mProgress:  50%|████████████████████▋                    |  ETA: 0:00:01\u001b[39m\r",
      "\u001b[32mProgress:  54%|██████████████████████                   |  ETA: 0:00:01\u001b[39m\r",
      "\u001b[32mProgress:  57%|███████████████████████▍                 |  ETA: 0:00:01\u001b[39m\r",
      "\u001b[32mProgress:  60%|████████████████████████▊                |  ETA: 0:00:01\u001b[39m\r",
      "\u001b[32mProgress:  64%|██████████████████████████▏              |  ETA: 0:00:01\u001b[39m\r",
      "\u001b[32mProgress:  67%|███████████████████████████▋             |  ETA: 0:00:01\u001b[39m\r",
      "\u001b[32mProgress:  71%|████████████████████████████▉            |  ETA: 0:00:01\u001b[39m\r",
      "\u001b[32mProgress:  74%|██████████████████████████████▎          |  ETA: 0:00:01\u001b[39m\r",
      "\u001b[32mProgress:  77%|███████████████████████████████▋         |  ETA: 0:00:01\u001b[39m\r",
      "\u001b[32mProgress:  81%|█████████████████████████████████▏       |  ETA: 0:00:01\u001b[39m"
     ]
    },
    {
     "name": "stdout",
     "output_type": "stream",
     "text": [
      " 56.610534 seconds (2 allocations: 22.440 MiB)\n",
      "  0.605790 seconds (1 allocation: 13.563 KiB)\n",
      "(times[j], distort[j], map2[j]) = (74.090949224, 0.14308996248524802, 0.6602151817460503)\n",
      "(nv(G), ne(G)) = (1646, 1645)\n",
      "(times[j], distort[j], map2[j]) = (0.453243286, 0.3011601952408861, 0.8336692705315596)\n",
      " 52.215417 seconds (2 allocations: 20.645 MiB)\n",
      "  0.584594 seconds (1 allocation: 13.000 KiB)\n",
      "(times[j], distort[j], map2[j]) = (67.70511019, 0.14273684839034295, 0.7765700687041688)\n",
      "(nv(G), ne(G)) = (1670, 1669)\n",
      "(times[j], distort[j], map2[j]) = (0.685012741, 0.4378108596625872, 0.8272139111876278)\n"
     ]
    },
    {
     "name": "stderr",
     "output_type": "stream",
     "text": [
      "\r",
      "\u001b[32mProgress:  84%|██████████████████████████████████▍      |  ETA: 0:00:00\u001b[39m\r",
      "\u001b[32mProgress:  87%|███████████████████████████████████▊     |  ETA: 0:00:00\u001b[39m\r",
      "\u001b[32mProgress:  91%|█████████████████████████████████████▏   |  ETA: 0:00:00\u001b[39m\r",
      "\u001b[32mProgress:  94%|██████████████████████████████████████▋  |  ETA: 0:00:00\u001b[39m\r",
      "\u001b[32mProgress:  97%|███████████████████████████████████████▉ |  ETA: 0:00:00\u001b[39m\r",
      "\u001b[32mProgress: 100%|█████████████████████████████████████████| Time: 0:00:03\u001b[39m\n",
      "\r",
      "\u001b[32mProgress:  11%|████▌                                    |  ETA: 0:00:01\u001b[39m\r",
      "\u001b[32mProgress:  28%|███████████▍                             |  ETA: 0:00:01\u001b[39m\r",
      "\u001b[32mProgress:  44%|██████████████████▏                      |  ETA: 0:00:00\u001b[39m\r",
      "\u001b[32mProgress:  61%|████████████████████████▉                |  ETA: 0:00:00\u001b[39m\r",
      "\u001b[32mProgress:  77%|███████████████████████████████▋         |  ETA: 0:00:00\u001b[39m\r",
      "\u001b[32mProgress:  94%|██████████████████████████████████████▌  |  ETA: 0:00:00\u001b[39m\r",
      "\u001b[32mProgress:  23%|█████████▎                               |  ETA: 0:00:00\u001b[39m\r",
      "\u001b[32mProgress:  46%|██████████████████▋                      |  ETA: 0:00:00\u001b[39m\r",
      "\u001b[32mProgress:  69%|████████████████████████████▎            |  ETA: 0:00:00\u001b[39m\r",
      "\u001b[32mProgress:  91%|█████████████████████████████████████▌   |  ETA: 0:00:00\u001b[39m\r",
      "\u001b[32mProgress:  29%|███████████▊                             |  ETA: 0:00:00\u001b[39m\r",
      "\u001b[32mProgress:  40%|████████████████▍                        |  ETA: 0:00:00\u001b[39m\r",
      "\u001b[32mProgress:  48%|███████████████████▊                     |  ETA: 0:00:00\u001b[39m\r",
      "\u001b[32mProgress:  55%|██████████████████████▌                  |  ETA: 0:00:00\u001b[39m\r",
      "\u001b[32mProgress:  61%|█████████████████████████                |  ETA: 0:00:00\u001b[39m\r",
      "\u001b[32mProgress:  66%|███████████████████████████              |  ETA: 0:00:00\u001b[39m\r",
      "\u001b[32mProgress:  71%|█████████████████████████████▏           |  ETA: 0:00:00\u001b[39m\r",
      "\u001b[32mProgress:  75%|██████████████████████████████▉          |  ETA: 0:00:00\u001b[39m\r",
      "\u001b[32mProgress:  79%|████████████████████████████████▌        |  ETA: 0:00:00\u001b[39m\r",
      "\u001b[32mProgress:  83%|██████████████████████████████████▏      |  ETA: 0:00:00\u001b[39m\r",
      "\u001b[32mProgress:  87%|███████████████████████████████████▋     |  ETA: 0:00:00\u001b[39m\r",
      "\u001b[32mProgress:  90%|█████████████████████████████████████▏   |  ETA: 0:00:00\u001b[39m\r",
      "\u001b[32mProgress:  94%|██████████████████████████████████████▌  |  ETA: 0:00:00\u001b[39m\r",
      "\u001b[32mProgress:  97%|███████████████████████████████████████▉ |  ETA: 0:00:00\u001b[39m\r",
      "\u001b[32mProgress: 100%|█████████████████████████████████████████| Time: 0:00:02\u001b[39m\n",
      "\r",
      "\u001b[32mProgress:   4%|█▌                                       |  ETA: 0:00:03\u001b[39m\r",
      "\u001b[32mProgress:   8%|███▏                                     |  ETA: 0:00:02\u001b[39m\r",
      "\u001b[32mProgress:  12%|████▊                                    |  ETA: 0:00:02\u001b[39m\r",
      "\u001b[32mProgress:  16%|██████▍                                  |  ETA: 0:00:02\u001b[39m\r",
      "\u001b[32mProgress:  20%|████████                                 |  ETA: 0:00:02\u001b[39m\r",
      "\u001b[32mProgress:  24%|█████████▊                               |  ETA: 0:00:02\u001b[39m\r",
      "\u001b[32mProgress:  28%|███████████▌                             |  ETA: 0:00:02\u001b[39m\r",
      "\u001b[32mProgress:  32%|█████████████▎                           |  ETA: 0:00:02\u001b[39m\r",
      "\u001b[32mProgress:  37%|███████████████                          |  ETA: 0:00:02\u001b[39m\r",
      "\u001b[32mProgress:  41%|████████████████▋                        |  ETA: 0:00:01\u001b[39m\r",
      "\u001b[32mProgress:  44%|██████████████████▎                      |  ETA: 0:00:01\u001b[39m\r",
      "\u001b[32mProgress:  48%|███████████████████▉                     |  ETA: 0:00:01\u001b[39m\r",
      "\u001b[32mProgress:  52%|█████████████████████▌                   |  ETA: 0:00:01\u001b[39m\r",
      "\u001b[32mProgress:  56%|███████████████████████▏                 |  ETA: 0:00:01\u001b[39m\r",
      "\u001b[32mProgress:  60%|████████████████████████▋                |  ETA: 0:00:01\u001b[39m\r",
      "\u001b[32mProgress:  64%|██████████████████████████▎              |  ETA: 0:00:01\u001b[39m\r",
      "\u001b[32mProgress:  68%|███████████████████████████▉             |  ETA: 0:00:01\u001b[39m\r",
      "\u001b[32mProgress:  72%|█████████████████████████████▌           |  ETA: 0:00:01\u001b[39m\r",
      "\u001b[32mProgress:  76%|███████████████████████████████▎         |  ETA: 0:00:01\u001b[39m\r",
      "\u001b[32mProgress:  80%|████████████████████████████████▉        |  ETA: 0:00:00\u001b[39m\r",
      "\u001b[32mProgress:  84%|██████████████████████████████████▌      |  ETA: 0:00:00\u001b[39m\r",
      "\u001b[32mProgress:  88%|████████████████████████████████████▏    |  ETA: 0:00:00\u001b[39m\r",
      "\u001b[32mProgress:  92%|█████████████████████████████████████▉   |  ETA: 0:00:00\u001b[39m\r",
      "\u001b[32mProgress:  96%|███████████████████████████████████████▌ |  ETA: 0:00:00\u001b[39m\r",
      "\u001b[32mProgress: 100%|█████████████████████████████████████████| Time: 0:00:03\u001b[39m\n",
      "\r",
      "\u001b[32mProgress:  10%|████▏                                    |  ETA: 0:00:01\u001b[39m\r",
      "\u001b[32mProgress:  28%|███████████▍                             |  ETA: 0:00:01\u001b[39m\r",
      "\u001b[32mProgress:  46%|██████████████████▋                      |  ETA: 0:00:00\u001b[39m\r",
      "\u001b[32mProgress:  63%|█████████████████████████▉               |  ETA: 0:00:00\u001b[39m\r",
      "\u001b[32mProgress:  81%|█████████████████████████████████▏       |  ETA: 0:00:00\u001b[39m\r",
      "\u001b[32mProgress:  98%|████████████████████████████████████████▏|  ETA: 0:00:00\u001b[39m\r",
      "\u001b[32mProgress:  23%|█████████▌                               |  ETA: 0:00:00\u001b[39m\r",
      "\u001b[32mProgress:  47%|███████████████████▏                     |  ETA: 0:00:00\u001b[39m\r",
      "\u001b[32mProgress:  70%|████████████████████████████▉            |  ETA: 0:00:00\u001b[39m\r",
      "\u001b[32mProgress:  94%|██████████████████████████████████████▋  |  ETA: 0:00:00\u001b[39m\r",
      "\u001b[32mProgress:  26%|██████████▉                              |  ETA: 0:00:00\u001b[39m\r",
      "\u001b[32mProgress:  36%|███████████████                          |  ETA: 0:00:00\u001b[39m\r",
      "\u001b[32mProgress:  44%|██████████████████▏                      |  ETA: 0:00:00\u001b[39m\r",
      "\u001b[32mProgress:  51%|████████████████████▉                    |  ETA: 0:00:00\u001b[39m\r",
      "\u001b[32mProgress:  56%|███████████████████████▏                 |  ETA: 0:00:00\u001b[39m\r",
      "\u001b[32mProgress:  61%|█████████████████████████▎               |  ETA: 0:00:00\u001b[39m\r",
      "\u001b[32mProgress:  66%|███████████████████████████              |  ETA: 0:00:00\u001b[39m\r",
      "\u001b[32mProgress:  70%|████████████████████████████▊            |  ETA: 0:00:00\u001b[39m\r",
      "\u001b[32mProgress:  74%|██████████████████████████████▍          |  ETA: 0:00:00\u001b[39m\r",
      "\u001b[32mProgress:  77%|███████████████████████████████▊         |  ETA: 0:00:00\u001b[39m\r",
      "\u001b[32mProgress:  81%|█████████████████████████████████▏       |  ETA: 0:00:00\u001b[39m\r",
      "\u001b[32mProgress:  84%|██████████████████████████████████▍      |  ETA: 0:00:00\u001b[39m"
     ]
    },
    {
     "name": "stdout",
     "output_type": "stream",
     "text": [
      " 53.687521 seconds (2 allocations: 21.252 MiB)\n",
      "  0.593906 seconds (1 allocation: 13.188 KiB)\n",
      "(times[j], distort[j], map2[j]) = (70.157125113, 0.1383384465068774, 0.7927380963453663)\n",
      "(nv(G), ne(G)) = (1646, 1645)\n",
      "(times[j], distort[j], map2[j]) = (0.457917, 0.4765824753057049, 0.8323000951110262)\n"
     ]
    },
    {
     "name": "stderr",
     "output_type": "stream",
     "text": [
      "\r",
      "\u001b[32mProgress:  87%|███████████████████████████████████▋     |  ETA: 0:00:00\u001b[39m\r",
      "\u001b[32mProgress:  90%|████████████████████████████████████▉    |  ETA: 0:00:00\u001b[39m\r",
      "\u001b[32mProgress:  93%|██████████████████████████████████████▏  |  ETA: 0:00:00\u001b[39m\r",
      "\u001b[32mProgress:  96%|███████████████████████████████████████▎ |  ETA: 0:00:00\u001b[39m\r",
      "\u001b[32mProgress:  98%|████████████████████████████████████████▍|  ETA: 0:00:00\u001b[39m\r",
      "\u001b[32mProgress: 100%|█████████████████████████████████████████| Time: 0:00:02\u001b[39m\n",
      "\r",
      "\u001b[32mProgress:   4%|█▌                                       |  ETA: 0:00:03\u001b[39m\r",
      "\u001b[32mProgress:   8%|███▏                                     |  ETA: 0:00:02\u001b[39m\r",
      "\u001b[32mProgress:  12%|████▊                                    |  ETA: 0:00:02\u001b[39m\r",
      "\u001b[32mProgress:  16%|██████▍                                  |  ETA: 0:00:02\u001b[39m\r",
      "\u001b[32mProgress:  19%|███████▉                                 |  ETA: 0:00:02\u001b[39m\r",
      "\u001b[32mProgress:  23%|█████████▌                               |  ETA: 0:00:02\u001b[39m\r",
      "\u001b[32mProgress:  27%|███████████▏                             |  ETA: 0:00:02\u001b[39m\r",
      "\u001b[32mProgress:  31%|████████████▊                            |  ETA: 0:00:02\u001b[39m\r",
      "\u001b[32mProgress:  35%|██████████████▍                          |  ETA: 0:00:02\u001b[39m\r",
      "\u001b[32mProgress:  39%|███████████████▉                         |  ETA: 0:00:02\u001b[39m\r",
      "\u001b[32mProgress:  43%|█████████████████▌                       |  ETA: 0:00:01\u001b[39m\r",
      "\u001b[32mProgress:  47%|███████████████████▏                     |  ETA: 0:00:01\u001b[39m\r",
      "\u001b[32mProgress:  50%|████████████████████▋                    |  ETA: 0:00:01\u001b[39m\r",
      "\u001b[32mProgress:  54%|██████████████████████▎                  |  ETA: 0:00:01\u001b[39m\r",
      "\u001b[32mProgress:  58%|███████████████████████▉                 |  ETA: 0:00:01\u001b[39m\r",
      "\u001b[32mProgress:  62%|█████████████████████████▋               |  ETA: 0:00:01\u001b[39m\r",
      "\u001b[32mProgress:  66%|███████████████████████████▎             |  ETA: 0:00:01\u001b[39m\r",
      "\u001b[32mProgress:  71%|████████████████████████████▉            |  ETA: 0:00:01\u001b[39m\r",
      "\u001b[32mProgress:  75%|██████████████████████████████▋          |  ETA: 0:00:01\u001b[39m\r",
      "\u001b[32mProgress:  78%|████████████████████████████████▏        |  ETA: 0:00:01\u001b[39m\r",
      "\u001b[32mProgress:  83%|█████████████████████████████████▉       |  ETA: 0:00:00\u001b[39m\r",
      "\u001b[32mProgress:  86%|███████████████████████████████████▌     |  ETA: 0:00:00\u001b[39m\r",
      "\u001b[32mProgress:  90%|█████████████████████████████████████▏   |  ETA: 0:00:00\u001b[39m\r",
      "\u001b[32mProgress:  95%|██████████████████████████████████████▊  |  ETA: 0:00:00\u001b[39m\r",
      "\u001b[32mProgress:  99%|████████████████████████████████████████▌|  ETA: 0:00:00\u001b[39m\r",
      "\u001b[32mProgress: 100%|█████████████████████████████████████████| Time: 0:00:03\u001b[39m\n",
      "\r",
      "\u001b[32mProgress:  11%|████▍                                    |  ETA: 0:00:01\u001b[39m\r",
      "\u001b[32mProgress:  28%|███████████▍                             |  ETA: 0:00:01\u001b[39m\r",
      "\u001b[32mProgress:  45%|██████████████████▍                      |  ETA: 0:00:00\u001b[39m\r",
      "\u001b[32mProgress:  62%|█████████████████████████▍               |  ETA: 0:00:00\u001b[39m\r",
      "\u001b[32mProgress:  79%|████████████████████████████████▌        |  ETA: 0:00:00\u001b[39m\r",
      "\u001b[32mProgress:  97%|███████████████████████████████████████▋ |  ETA: 0:00:00\u001b[39m\r",
      "\u001b[32mProgress:  23%|█████████▌                               |  ETA: 0:00:00\u001b[39m\r",
      "\u001b[32mProgress:  46%|███████████████████                      |  ETA: 0:00:00\u001b[39m\r",
      "\u001b[32mProgress:  70%|████████████████████████████▌            |  ETA: 0:00:00\u001b[39m\r",
      "\u001b[32mProgress:  93%|██████████████████████████████████████   |  ETA: 0:00:00\u001b[39m\r",
      "\u001b[32mProgress:  28%|███████████▌                             |  ETA: 0:00:00\u001b[39m\r",
      "\u001b[32mProgress:  39%|████████████████                         |  ETA: 0:00:00\u001b[39m\r",
      "\u001b[32mProgress:  47%|███████████████████▍                     |  ETA: 0:00:00\u001b[39m\r",
      "\u001b[32mProgress:  54%|██████████████████████                   |  ETA: 0:00:00\u001b[39m\r",
      "\u001b[32mProgress:  59%|████████████████████████▎                |  ETA: 0:00:00\u001b[39m\r",
      "\u001b[32mProgress:  64%|██████████████████████████▎              |  ETA: 0:00:00\u001b[39m\r",
      "\u001b[32mProgress:  68%|████████████████████████████             |  ETA: 0:00:00\u001b[39m\r",
      "\u001b[32mProgress:  73%|█████████████████████████████▊           |  ETA: 0:00:00\u001b[39m\r",
      "\u001b[32mProgress:  77%|███████████████████████████████▍         |  ETA: 0:00:00\u001b[39m\r",
      "\u001b[32mProgress:  80%|█████████████████████████████████        |  ETA: 0:00:00\u001b[39m\r",
      "\u001b[32mProgress:  84%|██████████████████████████████████▎      |  ETA: 0:00:00\u001b[39m\r",
      "\u001b[32mProgress:  87%|███████████████████████████████████▌     |  ETA: 0:00:00\u001b[39m\r",
      "\u001b[32mProgress:  90%|████████████████████████████████████▊    |  ETA: 0:00:00\u001b[39m\r",
      "\u001b[32mProgress:  93%|██████████████████████████████████████▏  |  ETA: 0:00:00\u001b[39m\r",
      "\u001b[32mProgress:  96%|███████████████████████████████████████▍ |  ETA: 0:00:00\u001b[39m\r",
      "\u001b[32mProgress:  99%|████████████████████████████████████████▋|  ETA: 0:00:00\u001b[39m\r",
      "\u001b[32mProgress: 100%|█████████████████████████████████████████| Time: 0:00:02\u001b[39m\n",
      "\r",
      "\u001b[32mProgress:   4%|█▌                                       |  ETA: 0:00:03\u001b[39m\r",
      "\u001b[32mProgress:   8%|███▏                                     |  ETA: 0:00:02\u001b[39m\r",
      "\u001b[32mProgress:  12%|████▊                                    |  ETA: 0:00:02\u001b[39m\r",
      "\u001b[32mProgress:  16%|██████▍                                  |  ETA: 0:00:02\u001b[39m\r",
      "\u001b[32mProgress:  20%|████████                                 |  ETA: 0:00:02\u001b[39m\r",
      "\u001b[32mProgress:  23%|█████████▋                               |  ETA: 0:00:02\u001b[39m\r",
      "\u001b[32mProgress:  27%|███████████▎                             |  ETA: 0:00:02\u001b[39m\r",
      "\u001b[32mProgress:  31%|████████████▉                            |  ETA: 0:00:02\u001b[39m\r",
      "\u001b[32mProgress:  35%|██████████████▌                          |  ETA: 0:00:02\u001b[39m\r",
      "\u001b[32mProgress:  38%|███████████████▊                         |  ETA: 0:00:02\u001b[39m\r",
      "\u001b[32mProgress:  40%|████████████████▍                        |  ETA: 0:00:02\u001b[39m\r",
      "\u001b[32mProgress:  42%|█████████████████                        |  ETA: 0:00:02\u001b[39m\r",
      "\u001b[32mProgress:  43%|█████████████████▊                       |  ETA: 0:00:02\u001b[39m\r",
      "\u001b[32mProgress:  45%|██████████████████▌                      |  ETA: 0:00:02\u001b[39m\r",
      "\u001b[32mProgress:  49%|████████████████████                     |  ETA: 0:00:02\u001b[39m\r",
      "\u001b[32mProgress:  53%|█████████████████████▋                   |  ETA: 0:00:01\u001b[39m\r",
      "\u001b[32mProgress:  57%|███████████████████████▎                 |  ETA: 0:00:01\u001b[39m\r",
      "\u001b[32mProgress:  61%|█████████████████████████                |  ETA: 0:00:01\u001b[39m\r",
      "\u001b[32mProgress:  65%|██████████████████████████▊              |  ETA: 0:00:01\u001b[39m\r",
      "\u001b[32mProgress:  69%|████████████████████████████▍            |  ETA: 0:00:01\u001b[39m\r",
      "\u001b[32mProgress:  73%|██████████████████████████████▏          |  ETA: 0:00:01\u001b[39m"
     ]
    },
    {
     "name": "stdout",
     "output_type": "stream",
     "text": [
      " 52.479862 seconds (2 allocations: 20.645 MiB)\n",
      "  0.581556 seconds (1 allocation: 13.000 KiB)\n",
      "(times[j], distort[j], map2[j]) = (68.45216691, 0.14226392777816368, 0.7953151900923088)\n",
      "(nv(G), ne(G)) = (1754, 1753)\n",
      "(times[j], distort[j], map2[j]) = (2.23208785, 0.36550742938216485, 0.6413761147349041)\n",
      " 56.266463 seconds (2 allocations: 23.445 MiB)\n",
      "  0.616165 seconds (1 allocation: 13.875 KiB)\n",
      "(times[j], distort[j], map2[j]) = (75.454326607, 0.14708974850036938, 0.5992126044449996)\n",
      "(nv(G), ne(G)) = (1662, 1661)\n",
      "(times[j], distort[j], map2[j]) = (0.615143343, 0.3154074403021912, 0.8286524887113054)\n"
     ]
    },
    {
     "name": "stderr",
     "output_type": "stream",
     "text": [
      "\r",
      "\u001b[32mProgress:  77%|███████████████████████████████▊         |  ETA: 0:00:01\u001b[39m\r",
      "\u001b[32mProgress:  81%|█████████████████████████████████▍       |  ETA: 0:00:01\u001b[39m\r",
      "\u001b[32mProgress:  86%|███████████████████████████████████▏     |  ETA: 0:00:00\u001b[39m\r",
      "\u001b[32mProgress:  90%|████████████████████████████████████▊    |  ETA: 0:00:00\u001b[39m\r",
      "\u001b[32mProgress:  94%|██████████████████████████████████████▌  |  ETA: 0:00:00\u001b[39m\r",
      "\u001b[32mProgress:  98%|████████████████████████████████████████▍|  ETA: 0:00:00\u001b[39m\r",
      "\u001b[32mProgress: 100%|█████████████████████████████████████████| Time: 0:00:03\u001b[39m\n",
      "\r",
      "\u001b[32mProgress:  11%|████▌                                    |  ETA: 0:00:01\u001b[39m\r",
      "\u001b[32mProgress:  29%|███████████▉                             |  ETA: 0:00:00\u001b[39m\r",
      "\u001b[32mProgress:  47%|███████████████████▍                     |  ETA: 0:00:00\u001b[39m\r",
      "\u001b[32mProgress:  65%|██████████████████████████▉              |  ETA: 0:00:00\u001b[39m\r",
      "\u001b[32mProgress:  84%|██████████████████████████████████▍      |  ETA: 0:00:00\u001b[39m\r",
      "\u001b[32mProgress:  20%|████████▎                                |  ETA: 0:00:00\u001b[39m\r",
      "\u001b[32mProgress:  41%|████████████████▊                        |  ETA: 0:00:00\u001b[39m\r",
      "\u001b[32mProgress:  62%|█████████████████████████▍               |  ETA: 0:00:00\u001b[39m\r",
      "\u001b[32mProgress:  83%|██████████████████████████████████       |  ETA: 0:00:00\u001b[39m\r",
      "\u001b[32mProgress:  27%|███████████                              |  ETA: 0:00:00\u001b[39m\r",
      "\u001b[32mProgress:  37%|███████████████▏                         |  ETA: 0:00:00\u001b[39m\r",
      "\u001b[32mProgress:  45%|██████████████████▍                      |  ETA: 0:00:00\u001b[39m\r",
      "\u001b[32mProgress:  51%|█████████████████████                    |  ETA: 0:00:00\u001b[39m\r",
      "\u001b[32mProgress:  57%|███████████████████████▎                 |  ETA: 0:00:00\u001b[39m\r",
      "\u001b[32mProgress:  61%|█████████████████████████▏               |  ETA: 0:00:00\u001b[39m\r",
      "\u001b[32mProgress:  66%|██████████████████████████▉              |  ETA: 0:00:00\u001b[39m\r",
      "\u001b[32mProgress:  70%|████████████████████████████▌            |  ETA: 0:00:00\u001b[39m\r",
      "\u001b[32mProgress:  74%|██████████████████████████████▎          |  ETA: 0:00:00\u001b[39m\r",
      "\u001b[32mProgress:  77%|███████████████████████████████▊         |  ETA: 0:00:00\u001b[39m\r",
      "\u001b[32mProgress:  81%|█████████████████████████████████▏       |  ETA: 0:00:00\u001b[39m\r",
      "\u001b[32mProgress:  84%|██████████████████████████████████▍      |  ETA: 0:00:00\u001b[39m\r",
      "\u001b[32mProgress:  87%|███████████████████████████████████▋     |  ETA: 0:00:00\u001b[39m\r",
      "\u001b[32mProgress:  90%|████████████████████████████████████▊    |  ETA: 0:00:00\u001b[39m\r",
      "\u001b[32mProgress:  93%|██████████████████████████████████████   |  ETA: 0:00:00\u001b[39m\r",
      "\u001b[32mProgress:  95%|███████████████████████████████████████▏ |  ETA: 0:00:00\u001b[39m\r",
      "\u001b[32mProgress:  98%|████████████████████████████████████████▎|  ETA: 0:00:00\u001b[39m\r",
      "\u001b[32mProgress: 100%|█████████████████████████████████████████| Time: 0:00:02\u001b[39m\n",
      "\r",
      "\u001b[32mProgress:   3%|█▎                                       |  ETA: 0:00:03\u001b[39m\r",
      "\u001b[32mProgress:   6%|██▌                                      |  ETA: 0:00:03\u001b[39m\r",
      "\u001b[32mProgress:   9%|███▉                                     |  ETA: 0:00:03\u001b[39m\r",
      "\u001b[32mProgress:  13%|█████▏                                   |  ETA: 0:00:03\u001b[39m\r",
      "\u001b[32mProgress:  16%|██████▌                                  |  ETA: 0:00:03\u001b[39m\r",
      "\u001b[32mProgress:  19%|███████▉                                 |  ETA: 0:00:03\u001b[39m\r",
      "\u001b[32mProgress:  22%|█████████▏                               |  ETA: 0:00:02\u001b[39m\r",
      "\u001b[32mProgress:  25%|██████████▌                              |  ETA: 0:00:02\u001b[39m\r",
      "\u001b[32mProgress:  29%|███████████▊                             |  ETA: 0:00:02\u001b[39m\r",
      "\u001b[32mProgress:  32%|█████████████▏                           |  ETA: 0:00:02\u001b[39m\r",
      "\u001b[32mProgress:  35%|██████████████▍                          |  ETA: 0:00:02\u001b[39m\r",
      "\u001b[32mProgress:  38%|███████████████▊                         |  ETA: 0:00:02\u001b[39m\r",
      "\u001b[32mProgress:  41%|█████████████████                        |  ETA: 0:00:02\u001b[39m\r",
      "\u001b[32mProgress:  45%|██████████████████▎                      |  ETA: 0:00:02\u001b[39m\r",
      "\u001b[32mProgress:  48%|███████████████████▋                     |  ETA: 0:00:02\u001b[39m\r",
      "\u001b[32mProgress:  51%|████████████████████▉                    |  ETA: 0:00:02\u001b[39m\r",
      "\u001b[32mProgress:  54%|██████████████████████▏                  |  ETA: 0:00:01\u001b[39m\r",
      "\u001b[32mProgress:  57%|███████████████████████▌                 |  ETA: 0:00:01\u001b[39m\r",
      "\u001b[32mProgress:  60%|████████████████████████▊                |  ETA: 0:00:01\u001b[39m\r",
      "\u001b[32mProgress:  64%|██████████████████████████▏              |  ETA: 0:00:01\u001b[39m\r",
      "\u001b[32mProgress:  67%|███████████████████████████▌             |  ETA: 0:00:01\u001b[39m\r",
      "\u001b[32mProgress:  70%|████████████████████████████▊            |  ETA: 0:00:01\u001b[39m\r",
      "\u001b[32mProgress:  73%|██████████████████████████████▏          |  ETA: 0:00:01\u001b[39m\r",
      "\u001b[32mProgress:  77%|███████████████████████████████▍         |  ETA: 0:00:01\u001b[39m\r",
      "\u001b[32mProgress:  80%|████████████████████████████████▊        |  ETA: 0:00:01\u001b[39m\r",
      "\u001b[32mProgress:  83%|██████████████████████████████████       |  ETA: 0:00:01\u001b[39m\r",
      "\u001b[32mProgress:  86%|███████████████████████████████████▍     |  ETA: 0:00:00\u001b[39m\r",
      "\u001b[32mProgress:  90%|████████████████████████████████████▊    |  ETA: 0:00:00\u001b[39m\r",
      "\u001b[32mProgress:  93%|██████████████████████████████████████   |  ETA: 0:00:00\u001b[39m\r",
      "\u001b[32mProgress:  96%|███████████████████████████████████████▍ |  ETA: 0:00:00\u001b[39m\r",
      "\u001b[32mProgress:  99%|████████████████████████████████████████▋|  ETA: 0:00:00\u001b[39m\r",
      "\u001b[32mProgress: 100%|█████████████████████████████████████████| Time: 0:00:03\u001b[39m\n",
      "\r",
      "\u001b[32mProgress:   8%|███▎                                     |  ETA: 0:00:01\u001b[39m\r",
      "\u001b[32mProgress:  23%|█████████▌                               |  ETA: 0:00:01\u001b[39m\r",
      "\u001b[32mProgress:  38%|███████████████▊                         |  ETA: 0:00:00\u001b[39m\r",
      "\u001b[32mProgress:  54%|██████████████████████                   |  ETA: 0:00:00\u001b[39m\r",
      "\u001b[32mProgress:  69%|████████████████████████████▍            |  ETA: 0:00:00\u001b[39m\r",
      "\u001b[32mProgress:  85%|██████████████████████████████████▊      |  ETA: 0:00:00\u001b[39m\r",
      "\u001b[32mProgress: 100%|█████████████████████████████████████████|  ETA: 0:00:00\u001b[39m\r",
      "\u001b[32mProgress:  23%|█████████▋                               |  ETA: 0:00:00\u001b[39m\r",
      "\u001b[32mProgress:  47%|███████████████████▌                     |  ETA: 0:00:00\u001b[39m\r",
      "\u001b[32mProgress:  71%|█████████████████████████████▎           |  ETA: 0:00:00\u001b[39m\r",
      "\u001b[32mProgress:  95%|███████████████████████████████████████▏ |  ETA: 0:00:00\u001b[39m\r",
      "\u001b[32mProgress:  27%|███████████▎                             |  ETA: 0:00:00\u001b[39m"
     ]
    },
    {
     "name": "stdout",
     "output_type": "stream",
     "text": [
      " 50.612809 seconds (2 allocations: 21.049 MiB)\n",
      "  0.592096 seconds (1 allocation: 13.125 KiB)\n",
      "(times[j], distort[j], map2[j]) = (66.695791869, 0.13831661231373577, 0.7996929169280639)\n",
      "(t, dis, m) = (68.3804516225, 0.13547307852446064, 0.807557887346646)\n"
     ]
    },
    {
     "name": "stderr",
     "output_type": "stream",
     "text": [
      "\r",
      "\u001b[32mProgress:  38%|███████████████▊                         |  ETA: 0:00:00\u001b[39m\r",
      "\u001b[32mProgress:  46%|███████████████████                      |  ETA: 0:00:00\u001b[39m\r",
      "\u001b[32mProgress:  53%|█████████████████████▉                   |  ETA: 0:00:00\u001b[39m\r",
      "\u001b[32mProgress:  59%|████████████████████████▏                |  ETA: 0:00:00\u001b[39m\r",
      "\u001b[32mProgress:  64%|██████████████████████████▎              |  ETA: 0:00:00\u001b[39m\r",
      "\u001b[32mProgress:  69%|████████████████████████████▏            |  ETA: 0:00:00\u001b[39m\r",
      "\u001b[32mProgress:  73%|██████████████████████████████           |  ETA: 0:00:00\u001b[39m\r",
      "\u001b[32mProgress:  77%|███████████████████████████████▋         |  ETA: 0:00:00\u001b[39m\r",
      "\u001b[32mProgress:  81%|█████████████████████████████████▏       |  ETA: 0:00:00\u001b[39m\r",
      "\u001b[32mProgress:  85%|██████████████████████████████████▋      |  ETA: 0:00:00\u001b[39m\r",
      "\u001b[32mProgress:  88%|████████████████████████████████████▏    |  ETA: 0:00:00\u001b[39m\r",
      "\u001b[32mProgress:  92%|█████████████████████████████████████▌   |  ETA: 0:00:00\u001b[39m\r",
      "\u001b[32mProgress:  95%|██████████████████████████████████████▉  |  ETA: 0:00:00\u001b[39m\r",
      "\u001b[32mProgress:  98%|████████████████████████████████████████▏|  ETA: 0:00:00\u001b[39m\r",
      "\u001b[32mProgress: 100%|█████████████████████████████████████████| Time: 0:00:02\u001b[39m\n",
      "\r",
      "\u001b[32mProgress:   4%|█▌                                       |  ETA: 0:00:03\u001b[39m\r",
      "\u001b[32mProgress:   7%|███                                      |  ETA: 0:00:03\u001b[39m\r",
      "\u001b[32mProgress:  11%|████▍                                    |  ETA: 0:00:03\u001b[39m\r",
      "\u001b[32mProgress:  14%|█████▉                                   |  ETA: 0:00:02\u001b[39m\r",
      "\u001b[32mProgress:  18%|███████▍                                 |  ETA: 0:00:02\u001b[39m\r",
      "\u001b[32mProgress:  22%|████████▉                                |  ETA: 0:00:02\u001b[39m\r",
      "\u001b[32mProgress:  26%|██████████▌                              |  ETA: 0:00:02\u001b[39m\r",
      "\u001b[32mProgress:  29%|████████████                             |  ETA: 0:00:02\u001b[39m\r",
      "\u001b[32mProgress:  33%|█████████████▌                           |  ETA: 0:00:02\u001b[39m\r",
      "\u001b[32mProgress:  37%|███████████████▏                         |  ETA: 0:00:02\u001b[39m\r",
      "\u001b[32mProgress:  41%|████████████████▋                        |  ETA: 0:00:02\u001b[39m\r",
      "\u001b[32mProgress:  44%|██████████████████▏                      |  ETA: 0:00:02\u001b[39m\r",
      "\u001b[32mProgress:  48%|███████████████████▋                     |  ETA: 0:00:01\u001b[39m\r",
      "\u001b[32mProgress:  52%|█████████████████████▎                   |  ETA: 0:00:01\u001b[39m\r",
      "\u001b[32mProgress:  56%|██████████████████████▉                  |  ETA: 0:00:01\u001b[39m\r",
      "\u001b[32mProgress:  60%|████████████████████████▌                |  ETA: 0:00:01\u001b[39m\r",
      "\u001b[32mProgress:  64%|██████████████████████████▏              |  ETA: 0:00:01\u001b[39m\r",
      "\u001b[32mProgress:  68%|███████████████████████████▉             |  ETA: 0:00:01\u001b[39m\r",
      "\u001b[32mProgress:  72%|█████████████████████████████▌           |  ETA: 0:00:01\u001b[39m\r",
      "\u001b[32mProgress:  76%|███████████████████████████████▏         |  ETA: 0:00:01\u001b[39m\r",
      "\u001b[32mProgress:  80%|████████████████████████████████▊        |  ETA: 0:00:01\u001b[39m\r",
      "\u001b[32mProgress:  84%|██████████████████████████████████▌      |  ETA: 0:00:00\u001b[39m\r",
      "\u001b[32mProgress:  88%|████████████████████████████████████▏    |  ETA: 0:00:00\u001b[39m\r",
      "\u001b[32mProgress:  92%|█████████████████████████████████████▊   |  ETA: 0:00:00\u001b[39m\r",
      "\u001b[32mProgress:  96%|███████████████████████████████████████▍ |  ETA: 0:00:00\u001b[39m\r",
      "\u001b[32mProgress: 100%|█████████████████████████████████████████| Time: 0:00:03\u001b[39m\n",
      "\r",
      "\u001b[32mProgress:  11%|████▋                                    |  ETA: 0:00:01\u001b[39m\r",
      "\u001b[32mProgress:  29%|███████████▉                             |  ETA: 0:00:00\u001b[39m\r",
      "\u001b[32mProgress:  47%|███████████████████▏                     |  ETA: 0:00:00\u001b[39m\r",
      "\u001b[32mProgress:  64%|██████████████████████████▍              |  ETA: 0:00:00\u001b[39m\r",
      "\u001b[32mProgress:  82%|█████████████████████████████████▌       |  ETA: 0:00:00\u001b[39m"
     ]
    },
    {
     "data": {
      "text/plain": [
       "(68.3804516225, 0.13547307852446064, 0.807557887346646)"
      ]
     },
     "execution_count": 61,
     "metadata": {},
     "output_type": "execute_result"
    }
   ],
   "source": [
    "NN = 20\n",
    "\n",
    "times = zeros(NN)\n",
    "map2 = zeros(NN)\n",
    "distort = zeros(NN)\n",
    "\n",
    "for j = 1:NN\n",
    "    times[j] = @elapsed G2,W2 = TreeRep.metric_to_structure(D,undef,undef);\n",
    "    \n",
    "    flush(stdout)\n",
    "    B = W2[1:nv(G2),1:nv(G2)];\n",
    "    B = sparse(B);\n",
    "    B = (B .> 0) .* B;\n",
    "    \n",
    "    D2 = utilities.parallel_dp_shortest_paths(G2, B,false);\n",
    "    \n",
    "    distort[j] = utilities.avg_distortion(D2[1:n,1:n],D)\n",
    "    map2[j] = utilities.MAP(D2[1:n,1:n],g)\n",
    "    \n",
    "    B = 0\n",
    "    D2 = 0\n",
    "    \n",
    "    GC.gc()\n",
    "    \n",
    "    @show((times[j],distort[j],map2[j]))\n",
    "    flush(stdout)\n",
    "    \n",
    "    times[j] += @elapsed A,b,EdgetoIdx,x0 = TreeOpt.makeAbMatrix(G2,D,W2)\n",
    "    times[j] += @elapsed x,loss = TreeOpt.lsngd(A,b,0.00000001,x0,5000)\n",
    "    flush(stdout)\n",
    "    N = nv(G2)\n",
    "    W2  = zeros(N,N)\n",
    "    E = collect(edges(G2))\n",
    "    for e in E\n",
    "        i2 = e.src\n",
    "        j2 = e.dst\n",
    "        idx = EdgetoIdx[(i2,j2)]\n",
    "        w = max(0,x[idx])\n",
    "        W2[i2,j2] = w\n",
    "        W2[j2,i2] = w\n",
    "    end\n",
    "    flush(stdout)\n",
    "    B = W2[1:nv(G2),1:nv(G2)];\n",
    "    B = sparse(B);\n",
    "    B = (B .> 0) .* B;\n",
    "    D2 = utilities.parallel_dp_shortest_paths(G2, B) .+1e-13;\n",
    "    for i = 1:size(D2)[1]\n",
    "        D2[i,i] = 0\n",
    "    end\n",
    "    flush(stdout)\n",
    "\n",
    "    distort[j] = utilities.avg_distortion(D2[1:n,1:n],D)\n",
    "    map2[j] = utilities.MAP(D2[1:n,1:n],g)\n",
    "    flush(stdout)\n",
    "    @show((times[j],distort[j],map2[j]))\n",
    "    flush(stdout)\n",
    "end\n",
    "\n",
    "t = mean(times)\n",
    "dis = minimum(distort)\n",
    "m = maximum(map2)\n",
    "\n",
    "@show((t,dis,m))"
   ]
  },
  {
   "cell_type": "code",
   "execution_count": 15,
   "metadata": {
    "code_folding": [],
    "scrolled": false
   },
   "outputs": [
    {
     "name": "stdout",
     "output_type": "stream",
     "text": [
      "(nv(G), ne(G)) = (5570, 5569)\n",
      "times[j] = 0.53459211\n"
     ]
    },
    {
     "name": "stderr",
     "output_type": "stream",
     "text": [
      "\u001b[32mProgress: 100%|████████████████████████████████████████▉|  ETA: 0:00:00\u001b[39m"
     ]
    },
    {
     "name": "stdout",
     "output_type": "stream",
     "text": [
      "(distort[j], map2[j]) = (0.3776559373835731, 0.0)\n",
      "(nv(G), ne(G)) = (5469, 5468)\n",
      "times[j] = 0.685732594\n"
     ]
    },
    {
     "name": "stderr",
     "output_type": "stream",
     "text": [
      "\u001b[32mProgress:  40%|████████████████▌                        |  ETA: 0:00:24\u001b[39m"
     ]
    },
    {
     "ename": "InterruptException",
     "evalue": "InterruptException:",
     "output_type": "error",
     "traceback": [
      "InterruptException:",
      "",
      "Stacktrace:",
      " [1] Type at ./boot.jl:402 [inlined]",
      " [2] Type at ./boot.jl:411 [inlined]",
      " [3] zeros at ./array.jl:452 [inlined]",
      " [4] zeros at ./array.jl:449 [inlined]",
      " [5] rehash!(::Dict{Int64,Int64}, ::Int64) at ./dict.jl:192",
      " [6] _setindex! at ./dict.jl:368 [inlined]",
      " [7] setindex!(::Dict{Int64,Int64}, ::Int64, ::Int64) at ./dict.jl:389",
      " [8] enqueue!(::DataStructures.PriorityQueue{Int64,Float64,Base.Order.ForwardOrdering}, ::Pair{Int64,Float64}) at /home/rishi/.julia/packages/DataStructures/6r6kb/src/priorityqueue.jl:222",
      " [9] enqueue! at /home/rishi/.julia/packages/DataStructures/6r6kb/src/priorityqueue.jl:234 [inlined]",
      " [10] setindex!(::DataStructures.PriorityQueue{Int64,Float64,Base.Order.ForwardOrdering}, ::Float64, ::Int64) at /home/rishi/.julia/packages/DataStructures/6r6kb/src/priorityqueue.jl:191",
      " [11] #dijkstra_shortest_paths#104(::Bool, ::Bool, ::Function, ::SimpleGraph{Int64}, ::Array{Int64,1}, ::SparseMatrixCSC{Float64,Int64}) at /home/rishi/.julia/packages/LightGraphs/WBY2S/src/shortestpaths/dijkstra.jl:103",
      " [12] dijkstra_shortest_paths at /home/rishi/.julia/packages/LightGraphs/WBY2S/src/shortestpaths/dijkstra.jl:63 [inlined]",
      " [13] macro expansion at /home/rishi/ICLR/Experiments/Gene_Expression/Utilities.jl:314 [inlined]",
      " [14] (::getfield(Main.utilities, Symbol(\"##656#threadsfor_fun#7\")){SimpleGraph{Int64},SparseMatrixCSC{Float64,Int64},Bool,Progress,Atomic{Int64},Array{Float64,2},UnitRange{Int64}})(::Bool) at ./threadingconstructs.jl:64",
      " [15] macro expansion at ./threadingconstructs.jl:71 [inlined]",
      " [16] parallel_dp_shortest_paths(::SimpleGraph{Int64}, ::SparseMatrixCSC{Float64,Int64}, ::Bool) at /home/rishi/ICLR/Experiments/Gene_Expression/Utilities.jl:313",
      " [17] parallel_dp_shortest_paths(::SimpleGraph{Int64}, ::SparseMatrixCSC{Float64,Int64}) at /home/rishi/ICLR/Experiments/Gene_Expression/Utilities.jl:298",
      " [18] top-level scope at ./In[15]:20"
     ]
    }
   ],
   "source": [
    "N = 20\n",
    "\n",
    "times = zeros(N)\n",
    "map2 = zeros(N)\n",
    "distort = zeros(N)\n",
    "D2 = 0\n",
    "j=1\n",
    "for j = 1:20\n",
    "    times[j] = @elapsed G2,W2 = TreeRep.metric_to_structure(D,undef,undef);\n",
    "    G2 = utilities.remove_loops(G2)\n",
    "    @show(times[j])\n",
    "    flush(stdout)\n",
    "    #@show(is_connected(G2),nv(G2),ne(G2));\n",
    "    B = W2[1:nv(G2),1:nv(G2)];\n",
    "    B = sparse(B);\n",
    "    B = (B .> 0) .* B;\n",
    "    \n",
    "    W2 = 0\n",
    "    GC.gc()\n",
    "    D2 = utilities.parallel_dp_shortest_paths(G2, B);\n",
    "    α = trm(D2[1:n,1:n]',D)/(sum(D2.^2))\n",
    "    distort[j] = utilities.avg_distortion(D2[1:n,1:n]*α,D)\n",
    "    #map2[j] = utilities.MAP(D2[1:n,1:n],g)\n",
    "    \n",
    "    @show((distort[j],map2[j]))\n",
    "end"
   ]
  },
  {
   "cell_type": "code",
   "execution_count": 13,
   "metadata": {
    "code_folding": [],
    "scrolled": false
   },
   "outputs": [
    {
     "name": "stdout",
     "output_type": "stream",
     "text": [
      "(t, dis, m) = (0.51476216335, 0.3995939814022638, 0.0)\n",
      "(t, mdis, mm) = (0.51476216335, 0.2650421309333974, 0.0)\n"
     ]
    },
    {
     "data": {
      "text/plain": [
       "(0.51476216335, 0.2650421309333974, 0.0)"
      ]
     },
     "execution_count": 13,
     "metadata": {},
     "output_type": "execute_result"
    }
   ],
   "source": [
    "t = mean(times)\n",
    "dis = maximum(distort)\n",
    "m = maximum(map2)\n",
    "mdis = mean(distort)\n",
    "mm = mean(map2)\n",
    "\n",
    "@show((t,dis,m))\n",
    "@show((t,mdis,mm))"
   ]
  },
  {
   "cell_type": "markdown",
   "metadata": {},
   "source": [
    "# Neighbor Join"
   ]
  },
  {
   "cell_type": "code",
   "execution_count": 103,
   "metadata": {},
   "outputs": [
    {
     "name": "stdout",
     "output_type": "stream",
     "text": [
      "  0.793835 seconds (1.04 M allocations: 45.943 MiB, 3.54% gc time)\n"
     ]
    }
   ],
   "source": [
    "@time R = NJ.nj!(copy(convert(Matrix{Float64},D)));"
   ]
  },
  {
   "cell_type": "code",
   "execution_count": 104,
   "metadata": {
    "scrolled": true
   },
   "outputs": [
    {
     "data": {
      "text/plain": [
       "100"
      ]
     },
     "execution_count": 104,
     "metadata": {},
     "output_type": "execute_result"
    }
   ],
   "source": [
    "n"
   ]
  },
  {
   "cell_type": "code",
   "execution_count": 105,
   "metadata": {},
   "outputs": [
    {
     "data": {
      "text/plain": [
       "66.75"
      ]
     },
     "execution_count": 105,
     "metadata": {},
     "output_type": "execute_result"
    }
   ],
   "source": [
    "m = mean(D)"
   ]
  },
  {
   "cell_type": "code",
   "execution_count": 106,
   "metadata": {},
   "outputs": [],
   "source": [
    "g2 = SimpleGraph(R.numNodes)\n",
    "w = spzeros(R.numNodes,R.numNodes)\n",
    "for i = 1:R.numEdges\n",
    "    src = R.edge[i].node[1].number\n",
    "    dst = R.edge[i].node[2].number\n",
    "    add_edge!(g2,src,dst)\n",
    "    w[src,dst] = R.edge[i].length\n",
    "    w[dst,src] = w[src,dst]\n",
    "end"
   ]
  },
  {
   "cell_type": "code",
   "execution_count": null,
   "metadata": {},
   "outputs": [],
   "source": []
  },
  {
   "cell_type": "code",
   "execution_count": 107,
   "metadata": {},
   "outputs": [
    {
     "name": "stdout",
     "output_type": "stream",
     "text": [
      "  0.003281 seconds (906 allocations: 73.771 KiB)\n"
     ]
    },
    {
     "data": {
      "text/plain": [
       "14×14 Array{Float64,2}:\n",
       "   0.0      33.875    46.125    49.8125  …   25.25     28.6875   30.25  \n",
       "  33.875     0.0      26.0      33.1875       8.625    12.0625   13.625 \n",
       "  46.125    26.0       0.0      45.4375      20.875    24.3125   25.875 \n",
       "  49.8125   33.1875   45.4375    0.0         24.5625   21.125    19.5625\n",
       "  48.85     32.225    44.475    41.2875      23.6      20.1625   21.725 \n",
       "  48.15     31.525    43.775    40.5875  …   22.9      19.4625   21.025 \n",
       "  97.7708   81.1458   93.3958   87.0833      72.5208   69.0833   67.5208\n",
       " 151.604   134.979   147.229   140.917      126.354   122.917   121.354 \n",
       "  50.6875   34.0625   46.3125   40.0         25.4375   22.0      20.4375\n",
       "  36.5      19.875    32.125    28.9375      11.25      7.8125    9.375 \n",
       "  27.0       6.875    19.125    26.3125  …    1.75      5.1875    6.75  \n",
       "  25.25      8.625    20.875    24.5625       0.0       3.4375    5.0   \n",
       "  28.6875   12.0625   24.3125   21.125        3.4375    0.0       1.5625\n",
       "  30.25     13.625    25.875    19.5625       5.0       1.5625    0.0   "
      ]
     },
     "execution_count": 107,
     "metadata": {},
     "output_type": "execute_result"
    }
   ],
   "source": [
    "@time D5 = utilities.parallel_dp_shortest_paths(g2, w)"
   ]
  },
  {
   "cell_type": "code",
   "execution_count": 74,
   "metadata": {},
   "outputs": [
    {
     "name": "stdout",
     "output_type": "stream",
     "text": [
      "utilities.avg_distortion(D5[1:n, 1:n] * α, D) = 0.14237708379400482\n"
     ]
    }
   ],
   "source": [
    "α = tr(D5[1:n,1:n]'*D)/tr(D5[1:n,1:n]'*D5[1:n,1:n])\n",
    "@show(utilities.avg_distortion(D5[1:n,1:n]*α,D));"
   ]
  },
  {
   "cell_type": "code",
   "execution_count": 87,
   "metadata": {},
   "outputs": [
    {
     "name": "stdout",
     "output_type": "stream",
     "text": [
      "utilities.MAP(D5[1:n, 1:n], g) = 0.5583433628949345\n"
     ]
    }
   ],
   "source": [
    "@show(utilities.MAP(D5[1:n,1:n],g));"
   ]
  },
  {
   "cell_type": "markdown",
   "metadata": {},
   "source": [
    "# Making CSV"
   ]
  },
  {
   "cell_type": "code",
   "execution_count": null,
   "metadata": {},
   "outputs": [],
   "source": [
    "n = 1000\n",
    "D = utilities.rand_hyperbolic(1000,10,1000);"
   ]
  },
  {
   "cell_type": "code",
   "execution_count": null,
   "metadata": {},
   "outputs": [],
   "source": [
    "g = CompleteGraph(n)\n",
    "E = ne(g)"
   ]
  },
  {
   "cell_type": "code",
   "execution_count": null,
   "metadata": {},
   "outputs": [],
   "source": [
    "id1 = convert(Array{Int64,1},zeros(E))\n",
    "id2 = convert(Array{Int64,1},zeros(E))\n",
    "weight = zeros(E)\n",
    "\n",
    "Ed = collect(edges(g))\n",
    "\n",
    "for i = 1:E\n",
    "    e = Ed[i]\n",
    "    id1[i] = e.src\n",
    "    id2[i] = e.dst\n",
    "    weight[i] = D[e.src,e.dst]\n",
    "end"
   ]
  },
  {
   "cell_type": "code",
   "execution_count": null,
   "metadata": {},
   "outputs": [],
   "source": [
    "df = DataFrame(id1 = id1, id2 = id2, weight = weight)\n",
    "CSV.write(\"rand1000.csv\",  df, writeheader=true)"
   ]
  },
  {
   "cell_type": "code",
   "execution_count": null,
   "metadata": {},
   "outputs": [],
   "source": [
    "n"
   ]
  },
  {
   "cell_type": "code",
   "execution_count": null,
   "metadata": {},
   "outputs": [],
   "source": [
    "w = adjacency_matrix(r) .* D"
   ]
  },
  {
   "cell_type": "markdown",
   "metadata": {},
   "source": [
    "# BFS Tree"
   ]
  },
  {
   "cell_type": "code",
   "execution_count": null,
   "metadata": {},
   "outputs": [],
   "source": [
    "g = utilities.kNN(D,10)"
   ]
  },
  {
   "cell_type": "code",
   "execution_count": 156,
   "metadata": {},
   "outputs": [
    {
     "data": {
      "text/plain": [
       "{8, 28} undirected simple Int64 graph"
      ]
     },
     "execution_count": 156,
     "metadata": {},
     "output_type": "execute_result"
    }
   ],
   "source": [
    "G = CompleteGraph(size(D)[1])"
   ]
  },
  {
   "cell_type": "code",
   "execution_count": null,
   "metadata": {},
   "outputs": [],
   "source": [
    "n =nv(g)"
   ]
  },
  {
   "cell_type": "code",
   "execution_count": 157,
   "metadata": {},
   "outputs": [
    {
     "data": {
      "text/plain": [
       "0.122476744"
      ]
     },
     "execution_count": 157,
     "metadata": {},
     "output_type": "execute_result"
    }
   ],
   "source": [
    "@elapsed r = LightGraphs.prim_mst(G,D)"
   ]
  },
  {
   "cell_type": "code",
   "execution_count": 158,
   "metadata": {},
   "outputs": [],
   "source": [
    "R = SimpleGraph(n)\n",
    "for e in r\n",
    "    add_edge!(R,e)\n",
    "end"
   ]
  },
  {
   "cell_type": "code",
   "execution_count": 97,
   "metadata": {},
   "outputs": [
    {
     "data": {
      "text/plain": [
       "0.004319605"
      ]
     },
     "execution_count": 97,
     "metadata": {},
     "output_type": "execute_result"
    }
   ],
   "source": [
    "@elapsed r = LightGraphs.bfs_tree(g,rand(1:n))"
   ]
  },
  {
   "cell_type": "code",
   "execution_count": 98,
   "metadata": {},
   "outputs": [],
   "source": [
    "R = SimpleGraph(n)\n",
    "for e in edges(r)\n",
    "    add_edge!(R,e)\n",
    "end"
   ]
  },
  {
   "cell_type": "code",
   "execution_count": 12,
   "metadata": {},
   "outputs": [
    {
     "data": {
      "text/plain": [
       "13.528114318847656"
      ]
     },
     "execution_count": 12,
     "metadata": {},
     "output_type": "execute_result"
    }
   ],
   "source": [
    "GC.gc()\n",
    "Sys.free_memory()/2^(30)"
   ]
  },
  {
   "cell_type": "code",
   "execution_count": 159,
   "metadata": {
    "code_folding": []
   },
   "outputs": [
    {
     "name": "stderr",
     "output_type": "stream",
     "text": [
      "\r",
      "\u001b[32mProgress:  12%|█████▏                                   |  ETA: 0:00:01\u001b[39m"
     ]
    }
   ],
   "source": [
    "wbfs =  adjacency_matrix(R) .* D\n",
    "D3 = utilities.parallel_dp_shortest_paths(R,wbfs);"
   ]
  },
  {
   "cell_type": "code",
   "execution_count": 11,
   "metadata": {},
   "outputs": [
    {
     "data": {
      "text/plain": [
       "trm (generic function with 1 method)"
      ]
     },
     "execution_count": 11,
     "metadata": {},
     "output_type": "execute_result"
    }
   ],
   "source": [
    "function trm(A,B)\n",
    "    n = size(A)[1]\n",
    "    t = 0\n",
    "    for i = 1:n\n",
    "        t += sum(A[i,:].*B[:,i])\n",
    "    end\n",
    "    \n",
    "    return t\n",
    "end"
   ]
  },
  {
   "cell_type": "code",
   "execution_count": 15,
   "metadata": {
    "code_folding": []
   },
   "outputs": [
    {
     "data": {
      "text/plain": [
       "0.7902710903361099"
      ]
     },
     "execution_count": 15,
     "metadata": {},
     "output_type": "execute_result"
    }
   ],
   "source": [
    "α = trm(D3[1:n,1:n],D)/(sum(D3.^2))"
   ]
  },
  {
   "cell_type": "code",
   "execution_count": 16,
   "metadata": {
    "code_folding": []
   },
   "outputs": [
    {
     "name": "stdout",
     "output_type": "stream",
     "text": [
      "utilities.avg_distortion(D3[1:n, 1:n] * α, D) = 0.17051780175704664\n"
     ]
    }
   ],
   "source": [
    "@show(utilities.avg_distortion(D3[1:n,1:n]*α,D));"
   ]
  },
  {
   "cell_type": "code",
   "execution_count": 77,
   "metadata": {
    "code_folding": []
   },
   "outputs": [
    {
     "name": "stdout",
     "output_type": "stream",
     "text": [
      "utilities.MAP(D3[1:n, 1:n], g) = 0.8691119396937591\n"
     ]
    }
   ],
   "source": [
    "@show(utilities.MAP(D3[1:n,1:n],g));"
   ]
  },
  {
   "cell_type": "code",
   "execution_count": 78,
   "metadata": {},
   "outputs": [
    {
     "name": "stdout",
     "output_type": "stream",
     "text": [
      "Sys.free_memory() / 2 ^ 30 = 17.148414611816406\n"
     ]
    }
   ],
   "source": [
    "N = size(D)[1]\n",
    "    \n",
    "@show(Sys.free_memory()/2^(30))\n",
    "    \n",
    "L = Int((N*(N-1))/2)\n",
    "IDXs = Array{Tuple{Int,Int},1}(undef,L)\n",
    "c = 1\n",
    "for i = 1:N \n",
    "    for j = 1:i-1\n",
    "        IDXs[c] = (i,j)\n",
    "        c += 1\n",
    "    end\n",
    "end"
   ]
  },
  {
   "cell_type": "code",
   "execution_count": 79,
   "metadata": {},
   "outputs": [
    {
     "name": "stdout",
     "output_type": "stream",
     "text": [
      "Sys.free_memory() / 2 ^ 30 = 16.18099594116211\n",
      "Sys.free_memory() / 2 ^ 30 = 16.18099594116211\n",
      "  1.988720 seconds (10.33 M allocations: 1.319 GiB)\n"
     ]
    },
    {
     "name": "stderr",
     "output_type": "stream",
     "text": [
      "\r",
      "\u001b[32mProgress:  30%|████████████▏                            |  ETA: 0:00:00\u001b[39m\r",
      "\u001b[32mProgress:  60%|████████████████████████▍                |  ETA: 0:00:00\u001b[39m\r",
      "\u001b[32mProgress:  90%|████████████████████████████████████▉    |  ETA: 0:00:00\u001b[39m"
     ]
    }
   ],
   "source": [
    "@time x,EdgetoIdx = TreeOpt.lsngd_mengdi(R,D,adjacency_matrix(R),IDXs,0.0001,200);"
   ]
  },
  {
   "cell_type": "code",
   "execution_count": 80,
   "metadata": {},
   "outputs": [
    {
     "name": "stdout",
     "output_type": "stream",
     "text": [
      "(distort, map2) = (0.16203463229761678, 0.8583969773161401)\n"
     ]
    },
    {
     "name": "stderr",
     "output_type": "stream",
     "text": [
      "\r",
      "\u001b[32mProgress:  19%|███████▊                                 |  ETA: 0:00:00\u001b[39m\r",
      "\u001b[32mProgress:  43%|█████████████████▊                       |  ETA: 0:00:00\u001b[39m\r",
      "\u001b[32mProgress:  68%|███████████████████████████▊             |  ETA: 0:00:00\u001b[39m\r",
      "\u001b[32mProgress:  91%|█████████████████████████████████████▍   |  ETA: 0:00:00\u001b[39m"
     ]
    },
    {
     "data": {
      "text/plain": [
       "(0.16203463229761678, 0.8583969773161401)"
      ]
     },
     "execution_count": 80,
     "metadata": {},
     "output_type": "execute_result"
    }
   ],
   "source": [
    "N = nv(R)\n",
    "W3 = zeros(N,N)\n",
    "E = collect(edges(R))\n",
    "for e in E\n",
    "    i2 = e.src\n",
    "    j2 = e.dst\n",
    "    idx = EdgetoIdx[(i2,j2)]\n",
    "    w = max(0,x[idx])\n",
    "    W3[i2,j2] = w\n",
    "    W3[j2,i2] = w\n",
    "end\n",
    "\n",
    "B = W3[1:nv(R),1:nv(R)];\n",
    "B = sparse(B);\n",
    "B = (B .> 0) .* B;\n",
    "D3 = utilities.parallel_dp_shortest_paths(R, B) .+ 1e-14;\n",
    "for i = 1:n\n",
    "    D3[i,i] = 0\n",
    "end\n",
    "\n",
    "\n",
    "distort = utilities.avg_distortion(D3[1:n,1:n],D)\n",
    "map2 = utilities.MAP(D3[1:n,1:n],g)\n",
    "\n",
    "@show((distort,map2))"
   ]
  },
  {
   "cell_type": "code",
   "execution_count": 71,
   "metadata": {
    "code_folding": [
     2
    ]
   },
   "outputs": [
    {
     "ename": "UndefVarError",
     "evalue": "UndefVarError: D2 not defined",
     "output_type": "error",
     "traceback": [
      "UndefVarError: D2 not defined",
      "",
      "Stacktrace:",
      " [1] top-level scope at ./In[71]:5"
     ]
    }
   ],
   "source": [
    "map = 0\n",
    "p2 = Progress(n)\n",
    "for i = 1:n\n",
    "    N = neighborhood(G,i,1)\n",
    "    D = D2[:,i]\n",
    "    p = sortperm(D)\n",
    "    P = Dict()\n",
    "    for j = 1:n\n",
    "        P[p[j]] = j\n",
    "    end\n",
    "    d = length(N)\n",
    "    for j = 1:d\n",
    "        R = P[N[j]]\n",
    "        a = Set(N)\n",
    "        b = Set(p[1:R])\n",
    "        map += length(intersect(a,b))/(d*R)        \n",
    "    end\n",
    "    next!(p2)\n",
    "end\n",
    "\n",
    "map/n"
   ]
  },
  {
   "cell_type": "markdown",
   "metadata": {},
   "source": [
    "# Random Points"
   ]
  },
  {
   "cell_type": "code",
   "execution_count": 58,
   "metadata": {
    "code_folding": [
     9
    ],
    "scrolled": true
   },
   "outputs": [
    {
     "name": "stdout",
     "output_type": "stream",
     "text": [
      "(nv(G), ne(G)) = (156, 155)\n",
      "  0.001994 seconds (25.52 k allocations: 1.523 MiB)\n",
      "  0.018718 seconds (74.45 k allocations: 2.532 MiB)\n",
      "  0.099853 seconds (627.12 k allocations: 30.673 MiB, 35.39% gc time)\n",
      "  0.000223 seconds (133 allocations: 20.266 KiB)\n",
      "  0.000385 seconds (133 allocations: 20.266 KiB)\n",
      "(dist1[i], dist2[i]) = (0.09036405401168805, 0.05632563045089825)\n",
      "(nv(G), ne(G)) = (156, 155)\n",
      "  0.004484 seconds (26.92 k allocations: 1.572 MiB)\n",
      "  0.028539 seconds (74.45 k allocations: 2.532 MiB, 35.86% gc time)\n",
      "  0.079803 seconds (627.12 k allocations: 30.672 MiB, 30.11% gc time)\n",
      "  0.000220 seconds (133 allocations: 20.266 KiB)\n",
      "  0.000349 seconds (133 allocations: 20.266 KiB)\n",
      "(dist1[i], dist2[i]) = (0.07084767032069861, 0.04474178277175264)\n",
      "(nv(G), ne(G)) = (155, 154)\n",
      "  0.004731 seconds (27.74 k allocations: 1.602 MiB)\n",
      "  0.019218 seconds (74.45 k allocations: 2.532 MiB)\n",
      "  0.101166 seconds (627.13 k allocations: 30.720 MiB, 37.97% gc time)\n",
      "  0.000224 seconds (133 allocations: 20.266 KiB)\n",
      "  0.000368 seconds (133 allocations: 20.266 KiB)\n",
      "(dist1[i], dist2[i]) = (0.05793848140915417, 0.03467205181491677)\n",
      "(nv(G), ne(G)) = (151, 150)\n",
      "  0.004480 seconds (27.95 k allocations: 1.609 MiB)\n",
      "  0.019236 seconds (74.45 k allocations: 2.532 MiB)\n",
      "  0.082235 seconds (627.16 k allocations: 30.747 MiB, 23.56% gc time)\n",
      "  0.000207 seconds (133 allocations: 20.266 KiB)\n",
      "  0.000333 seconds (133 allocations: 20.266 KiB)\n",
      "(dist1[i], dist2[i]) = (0.04382537884555265, 0.029160144119770862)\n",
      "(nv(G), ne(G)) = (164, 163)\n",
      "  0.004134 seconds (27.49 k allocations: 1.592 MiB)\n",
      "  0.018330 seconds (74.45 k allocations: 2.532 MiB)\n",
      "  0.081054 seconds (627.12 k allocations: 30.673 MiB, 25.54% gc time)\n",
      "  0.000192 seconds (133 allocations: 20.266 KiB)\n",
      "  0.000380 seconds (133 allocations: 20.266 KiB)\n",
      "(dist1[i], dist2[i]) = (0.04454595163157459, 0.02552825598791737)\n",
      "(nv(G), ne(G)) = (159, 158)\n",
      "  0.004351 seconds (28.75 k allocations: 1.641 MiB)\n",
      "  0.018909 seconds (74.45 k allocations: 2.532 MiB)\n",
      "  0.098867 seconds (627.28 k allocations: 30.680 MiB, 34.80% gc time)\n",
      "  0.000222 seconds (133 allocations: 20.266 KiB)\n",
      "  0.000354 seconds (133 allocations: 20.266 KiB)\n",
      "(dist1[i], dist2[i]) = (0.033058321911233396, 0.0215075483815361)\n",
      "(nv(G), ne(G)) = (165, 164)\n",
      "  0.004608 seconds (27.82 k allocations: 1.619 MiB)\n",
      "  0.018721 seconds (74.45 k allocations: 2.532 MiB)\n",
      "  0.079355 seconds (627.14 k allocations: 30.682 MiB, 27.44% gc time)\n",
      "  0.000214 seconds (133 allocations: 20.266 KiB)\n",
      "  0.000423 seconds (133 allocations: 20.266 KiB)\n",
      "(dist1[i], dist2[i]) = (0.0347861484126851, 0.019423794429159057)\n",
      "(nv(G), ne(G)) = (162, 161)\n",
      "  0.013081 seconds (28.28 k allocations: 1.611 MiB, 67.06% gc time)\n",
      "  0.018687 seconds (74.45 k allocations: 2.532 MiB)\n",
      "  0.081622 seconds (627.22 k allocations: 30.744 MiB, 23.01% gc time)\n",
      "  0.000214 seconds (133 allocations: 20.266 KiB)\n",
      "  0.000377 seconds (133 allocations: 20.266 KiB)\n",
      "(dist1[i], dist2[i]) = (0.027164064464119498, 0.017226916339104715)\n",
      "(nv(G), ne(G)) = (160, 159)\n",
      "  0.004500 seconds (27.65 k allocations: 1.609 MiB)\n",
      "  0.018868 seconds (74.45 k allocations: 2.532 MiB)\n",
      "  0.097172 seconds (627.26 k allocations: 30.675 MiB, 30.82% gc time)\n",
      "  0.000219 seconds (133 allocations: 20.266 KiB)\n",
      "  0.000366 seconds (133 allocations: 20.266 KiB)\n",
      "(dist1[i], dist2[i]) = (0.022553534668006994, 0.01573018916687486)\n",
      "(nv(G), ne(G)) = (156, 155)\n",
      "  0.005000 seconds (30.24 k allocations: 1.688 MiB)\n",
      "  0.028781 seconds (74.45 k allocations: 2.532 MiB, 32.69% gc time)\n",
      "  0.078778 seconds (627.20 k allocations: 30.702 MiB, 28.73% gc time)\n",
      "  0.000208 seconds (133 allocations: 20.266 KiB)\n",
      "  0.000368 seconds (133 allocations: 20.266 KiB)\n",
      "(dist1[i], dist2[i]) = (0.02234648246438992, 0.014513850397146776)\n"
     ]
    }
   ],
   "source": [
    "N = 10\n",
    "dist1 = zeros(10)\n",
    "dist2 = zeros(10)\n",
    "dist3 = zeros(10)\n",
    "dist4 = zeros(10)\n",
    "dist5 = zeros(10)\n",
    "\n",
    "n = 100\n",
    "\n",
    "for i = 1:N\n",
    "    sc = 2^i\n",
    "    Z = CSV.read(\"rand-dim10-scale$sc.csv\")\n",
    "    D = zeros(100,100)\n",
    "    for k = 1:50*99\n",
    "        ii = Z[k,1]\n",
    "        j = Z[k,2]\n",
    "        D[ii,j] = Z[k,3]\n",
    "        D[j,ii] = Z[k,3]\n",
    "    end\n",
    "    n = 100\n",
    "    #D = utilities.rand_hyperbolic(n,10,2^i)\n",
    "    \n",
    "    @time G2, W2 = TreeRep.metric_to_structure(D,undef,undef)\n",
    "    B = W2[1:nv(G2),1:nv(G2)];\n",
    "    B = sparse(B);\n",
    "    B = (B .> 0) .* B;\n",
    "    D2 = utilities.parallel_dp_shortest_paths(G2, B, false);\n",
    "    α = tr(D2[1:n,1:n]'*D)/tr(D2[1:n,1:n]'*D2[1:n,1:n])\n",
    "    dist1[i] = utilities.avg_distortion(D2[1:n,1:n]*α,D)\n",
    "    \n",
    "    @time R = NJ.nj!(copy(convert(Matrix{Float64},D)))\n",
    "    g2 = SimpleGraph(R.numNodes)\n",
    "    w = spzeros(R.numNodes,R.numNodes)\n",
    "    for i = 1:R.numEdges\n",
    "        src = R.edge[i].node[1].number\n",
    "        dst = R.edge[i].node[2].number\n",
    "        add_edge!(g2,src,dst)\n",
    "        w[src,dst] = R.edge[i].length\n",
    "        w[dst,src] = w[src,dst]\n",
    "    end\n",
    "    D5 = utilities.parallel_dp_shortest_paths(g2, w, false);\n",
    "    dist2[i] = utilities.avg_distortion(D5[1:n,1:n],D)\n",
    "    \n",
    "    @time T,W4 = ConstructTree.basicConstructTree(collect(2:n),1,D)\n",
    "    D4 = LightGraphs.floyd_warshall_shortest_paths(T,W4[1:nv(T),1:nv(T)]).dists;\n",
    "    α = tr(D4[1:n,1:n]'*D)/tr(D4[1:n,1:n]'*D4[1:n,1:n])\n",
    "    dist3[i] = utilities.avg_distortion(D4[1:n,1:n]*α,D)\n",
    "    \n",
    "    \n",
    "    #g = CompleteGraph(n)\n",
    "    g = utilities.kNN(D,10)\n",
    "    @time r = LightGraphs.prim_mst(g,D)\n",
    "    #r = LightGraphs.bfs_tree(g,1)\n",
    "    R = SimpleGraph(n)\n",
    "    for e in r\n",
    "        add_edge!(R,e)\n",
    "    end\n",
    "    wbfs =  adjacency_matrix(R) .* D\n",
    "    D3 = utilities.parallel_dp_shortest_paths(R,wbfs);\n",
    "    α = tr(D3[1:n,1:n]'*D)/tr(D3[1:n,1:n]'*D3[1:n,1:n])\n",
    "    dist4[i] = utilities.avg_distortion(D3[1:n,1:n]*α,D)\n",
    "    \n",
    "    g = CompleteGraph(n)\n",
    "    #g = utilities.kNN(D,10)\n",
    "    @time r = LightGraphs.prim_mst(g,D)\n",
    "    #r = LightGraphs.bfs_tree(g,1)\n",
    "    R = SimpleGraph(n)\n",
    "    for e in r\n",
    "        add_edge!(R,e)\n",
    "    end\n",
    "    wbfs =  adjacency_matrix(R) .* D\n",
    "    D3 = utilities.parallel_dp_shortest_paths(R,wbfs);\n",
    "    α = tr(D3[1:n,1:n]'*D)/tr(D3[1:n,1:n]'*D3[1:n,1:n])\n",
    "    dist5[i] = utilities.avg_distortion(D3[1:n,1:n]*α,D)\n",
    "    \n",
    "    g = CompleteGraph(n)\n",
    "    E = ne(g)\n",
    "    \n",
    "    id1 = convert(Array{Int64,1},zeros(E))\n",
    "    id2 = convert(Array{Int64,1},zeros(E))\n",
    "    weight = zeros(E)\n",
    "\n",
    "    Ed = collect(edges(g))\n",
    "\n",
    "    for i = 1:E\n",
    "        e = Ed[i]\n",
    "        id1[i] = e.src\n",
    "        id2[i] = e.dst\n",
    "        weight[i] = D[e.src,e.dst]\n",
    "    end\n",
    "    \n",
    "    df = DataFrame(id1 = id1, id2 = id2, weight = weight)\n",
    "    scale = 2^i\n",
    "    dim = 10\n",
    "    CSV.write(\"rand-dim$dim-scale$scale.csv\",  df, writeheader=true)\n",
    "    \n",
    "    @show((dist1[i],dist2[i]))\n",
    "end"
   ]
  },
  {
   "cell_type": "code",
   "execution_count": 59,
   "metadata": {},
   "outputs": [
    {
     "data": {
      "application/vnd.plotly.v1+json": {
       "data": [
        {
         "colorbar": {
          "title": ""
         },
         "hoverinfo": "text",
         "legendgroup": "TreeRep",
         "line": {
          "color": "rgba(0, 0, 255, 1.000)",
          "dash": "solid",
          "shape": "linear",
          "width": 2
         },
         "mode": "lines",
         "name": "TreeRep",
         "showlegend": true,
         "text": [
          null,
          null,
          null,
          null,
          null,
          null,
          null,
          null,
          null,
          null
         ],
         "type": "scatter",
         "x": [
          1,
          2,
          3,
          4,
          5,
          6,
          7,
          8,
          9,
          10
         ],
         "xaxis": "x1",
         "y": [
          0.09036405401168805,
          0.07084767032069861,
          0.05793848140915417,
          0.04382537884555265,
          0.04454595163157459,
          0.033058321911233396,
          0.0347861484126851,
          0.027164064464119498,
          0.022553534668006994,
          0.02234648246438992
         ],
         "yaxis": "y1",
         "zmax": 0.1,
         "zmin": -0.1
        },
        {
         "colorbar": {
          "title": ""
         },
         "hoverinfo": "text",
         "legendgroup": "NJ",
         "line": {
          "color": "rgba(255, 0, 0, 1.000)",
          "dash": "solid",
          "shape": "linear",
          "width": 2
         },
         "mode": "lines",
         "name": "NJ",
         "showlegend": true,
         "text": [
          null,
          null,
          null,
          null,
          null,
          null,
          null,
          null,
          null,
          null
         ],
         "type": "scatter",
         "x": [
          1,
          2,
          3,
          4,
          5,
          6,
          7,
          8,
          9,
          10
         ],
         "xaxis": "x1",
         "y": [
          0.05632563045089825,
          0.04474178277175264,
          0.03467205181491677,
          0.029160144119770862,
          0.02552825598791737,
          0.0215075483815361,
          0.019423794429159057,
          0.017226916339104715,
          0.01573018916687486,
          0.014513850397146776
         ],
         "yaxis": "y1",
         "zmax": 0.1,
         "zmin": -0.1
        },
        {
         "colorbar": {
          "title": ""
         },
         "hoverinfo": "text",
         "legendgroup": "ConstructTree",
         "line": {
          "color": "rgba(0, 128, 0, 1.000)",
          "dash": "solid",
          "shape": "linear",
          "width": 2
         },
         "mode": "lines",
         "name": "ConstructTree",
         "showlegend": true,
         "text": [
          null,
          null,
          null,
          null,
          null,
          null,
          null,
          null,
          null,
          null
         ],
         "type": "scatter",
         "x": [
          1,
          2,
          3,
          4,
          5,
          6,
          7,
          8,
          9,
          10
         ],
         "xaxis": "x1",
         "y": [
          0.23980000615140742,
          0.2255378060001685,
          0.22999732371691764,
          0.23134132262135837,
          0.2264960494923864,
          0.22242189454120173,
          0.22692437117069914,
          0.23943284524479888,
          0.24484346688859054,
          0.2459987376691799
         ],
         "yaxis": "y1",
         "zmax": 0.1,
         "zmin": -0.1
        },
        {
         "colorbar": {
          "title": ""
         },
         "hoverinfo": "text",
         "legendgroup": "MST : Complete",
         "line": {
          "color": "rgba(75, 0, 130, 1.000)",
          "dash": "solid",
          "shape": "linear",
          "width": 2
         },
         "mode": "lines",
         "name": "MST : Complete",
         "showlegend": true,
         "text": [
          null,
          null,
          null,
          null,
          null,
          null,
          null,
          null,
          null,
          null
         ],
         "type": "scatter",
         "x": [
          1,
          2,
          3,
          4,
          5,
          6,
          7,
          8,
          9,
          10
         ],
         "xaxis": "x1",
         "y": [
          0.3446884659511977,
          0.34233649788948184,
          0.38802282467610144,
          0.2961615613769893,
          0.30821302658293914,
          0.3693651966620093,
          0.29977383801282587,
          0.3101441100338902,
          0.3291794163848797,
          0.3663917121902865
         ],
         "yaxis": "y1",
         "zmax": 0.1,
         "zmin": -0.1
        },
        {
         "colorbar": {
          "title": ""
         },
         "hoverinfo": "text",
         "legendgroup": "MST : KNN 10",
         "line": {
          "color": "rgba(255, 140, 0, 1.000)",
          "dash": "solid",
          "shape": "linear",
          "width": 2
         },
         "mode": "lines",
         "name": "MST : KNN 10",
         "showlegend": true,
         "text": [
          null,
          null,
          null,
          null,
          null,
          null,
          null,
          null,
          null,
          null
         ],
         "type": "scatter",
         "x": [
          1,
          2,
          3,
          4,
          5,
          6,
          7,
          8,
          9,
          10
         ],
         "xaxis": "x1",
         "y": [
          0.28865873714692875,
          0.32543800625114266,
          0.28163988004805857,
          0.3048327961208449,
          0.3266495130275017,
          0.3712343721396345,
          0.3805642691167438,
          0.27205812789322553,
          0.3205220320967139,
          0.3468907541389357
         ],
         "yaxis": "y1",
         "zmax": 0.1,
         "zmin": -0.1
        },
        {
         "colorbar": {
          "title": ""
         },
         "hoverinfo": "text",
         "legendgroup": "Lorentz Maps",
         "line": {
          "color": "rgba(255, 192, 203, 1.000)",
          "dash": "solid",
          "shape": "linear",
          "width": 2
         },
         "mode": "lines",
         "name": "Lorentz Maps",
         "showlegend": true,
         "text": [
          null,
          null,
          null,
          null,
          null,
          null,
          null,
          null,
          null,
          null
         ],
         "type": "scatter",
         "x": [
          1,
          2,
          3,
          4,
          5,
          6,
          7,
          8,
          9,
          10
         ],
         "xaxis": "x1",
         "y": [
          0.18915586408782525,
          0.1785550951698343,
          0.19054754261176568,
          0.16741108004449493,
          0.1748642662926503,
          0.17012652680246032,
          0.1783727305276203,
          0.17035114548888042,
          0.16067793931441993,
          0.1751707592645711
         ],
         "yaxis": "y1",
         "zmax": 0.1,
         "zmin": -0.1
        },
        {
         "colorbar": {
          "title": ""
         },
         "hoverinfo": "text",
         "legendgroup": "PT",
         "line": {
          "color": "rgba(0, 0, 0, 1.000)",
          "dash": "solid",
          "shape": "linear",
          "width": 2
         },
         "mode": "lines",
         "name": "PT",
         "showlegend": true,
         "text": [
          null,
          null,
          null,
          null,
          null,
          null,
          null,
          null,
          null,
          null
         ],
         "type": "scatter",
         "x": [
          1,
          2,
          3,
          4,
          5,
          6,
          7,
          8,
          9,
          10
         ],
         "xaxis": "x1",
         "y": [
          0.8803885764568925,
          0.3452934604390895,
          0.23459185402108762,
          0.19562707360918596,
          0.1664077966390392,
          0.16455587638040575,
          0.16700663979252536,
          0.14803881732281685,
          0.13421195443429848,
          0.10490860563948282
         ],
         "yaxis": "y1",
         "zmax": 0.1,
         "zmin": -0.1
        },
        {
         "colorbar": {
          "title": ""
         },
         "hoverinfo": "text",
         "legendgroup": "TreeRep",
         "marker": {
          "color": "rgba(0, 0, 255, 1.000)",
          "line": {
           "color": "rgba(0, 0, 0, 1.000)",
           "width": 1
          },
          "size": 8,
          "symbol": "circle"
         },
         "mode": "markers",
         "name": "TreeRep",
         "showlegend": true,
         "text": [
          null,
          null,
          null,
          null,
          null,
          null,
          null,
          null,
          null,
          null
         ],
         "type": "scatter",
         "x": [
          1,
          2,
          3,
          4,
          5,
          6,
          7,
          8,
          9,
          10
         ],
         "xaxis": "x1",
         "y": [
          0.09036405401168805,
          0.07084767032069861,
          0.05793848140915417,
          0.04382537884555265,
          0.04454595163157459,
          0.033058321911233396,
          0.0347861484126851,
          0.027164064464119498,
          0.022553534668006994,
          0.02234648246438992
         ],
         "yaxis": "y1",
         "zmax": 0.1,
         "zmin": -0.1
        },
        {
         "colorbar": {
          "title": ""
         },
         "hoverinfo": "text",
         "legendgroup": "NJ",
         "marker": {
          "color": "rgba(255, 0, 0, 1.000)",
          "line": {
           "color": "rgba(0, 0, 0, 1.000)",
           "width": 1
          },
          "size": 8,
          "symbol": "cross"
         },
         "mode": "markers",
         "name": "NJ",
         "showlegend": true,
         "text": [
          null,
          null,
          null,
          null,
          null,
          null,
          null,
          null,
          null,
          null
         ],
         "type": "scatter",
         "x": [
          1,
          2,
          3,
          4,
          5,
          6,
          7,
          8,
          9,
          10
         ],
         "xaxis": "x1",
         "y": [
          0.05632563045089825,
          0.04474178277175264,
          0.03467205181491677,
          0.029160144119770862,
          0.02552825598791737,
          0.0215075483815361,
          0.019423794429159057,
          0.017226916339104715,
          0.01573018916687486,
          0.014513850397146776
         ],
         "yaxis": "y1",
         "zmax": 0.1,
         "zmin": -0.1
        },
        {
         "colorbar": {
          "title": ""
         },
         "hoverinfo": "text",
         "legendgroup": "ConstructTree",
         "marker": {
          "color": "rgba(0, 128, 0, 1.000)",
          "line": {
           "color": "rgba(0, 0, 0, 1.000)",
           "width": 1
          },
          "size": 8,
          "symbol": "x"
         },
         "mode": "markers",
         "name": "ConstructTree",
         "showlegend": true,
         "text": [
          null,
          null,
          null,
          null,
          null,
          null,
          null,
          null,
          null,
          null
         ],
         "type": "scatter",
         "x": [
          1,
          2,
          3,
          4,
          5,
          6,
          7,
          8,
          9,
          10
         ],
         "xaxis": "x1",
         "y": [
          0.23980000615140742,
          0.2255378060001685,
          0.22999732371691764,
          0.23134132262135837,
          0.2264960494923864,
          0.22242189454120173,
          0.22692437117069914,
          0.23943284524479888,
          0.24484346688859054,
          0.2459987376691799
         ],
         "yaxis": "y1",
         "zmax": 0.1,
         "zmin": -0.1
        },
        {
         "colorbar": {
          "title": ""
         },
         "hoverinfo": "text",
         "legendgroup": "MST : KNN 10",
         "marker": {
          "color": "rgba(255, 140, 0, 1.000)",
          "line": {
           "color": "rgba(0, 0, 0, 1.000)",
           "width": 1
          },
          "size": 8,
          "symbol": "line-ns"
         },
         "mode": "markers",
         "name": "MST : KNN 10",
         "showlegend": true,
         "text": [
          null,
          null,
          null,
          null,
          null,
          null,
          null,
          null,
          null,
          null
         ],
         "type": "scatter",
         "x": [
          1,
          2,
          3,
          4,
          5,
          6,
          7,
          8,
          9,
          10
         ],
         "xaxis": "x1",
         "y": [
          0.28865873714692875,
          0.32543800625114266,
          0.28163988004805857,
          0.3048327961208449,
          0.3266495130275017,
          0.3712343721396345,
          0.3805642691167438,
          0.27205812789322553,
          0.3205220320967139,
          0.3468907541389357
         ],
         "yaxis": "y1",
         "zmax": 0.1,
         "zmin": -0.1
        },
        {
         "colorbar": {
          "title": ""
         },
         "hoverinfo": "text",
         "legendgroup": "MST : Complete",
         "marker": {
          "color": "rgba(75, 0, 130, 1.000)",
          "line": {
           "color": "rgba(0, 0, 0, 1.000)",
           "width": 1
          },
          "size": 8,
          "symbol": "diamond"
         },
         "mode": "markers",
         "name": "MST : Complete",
         "showlegend": true,
         "text": [
          null,
          null,
          null,
          null,
          null,
          null,
          null,
          null,
          null,
          null
         ],
         "type": "scatter",
         "x": [
          1,
          2,
          3,
          4,
          5,
          6,
          7,
          8,
          9,
          10
         ],
         "xaxis": "x1",
         "y": [
          0.3446884659511977,
          0.34233649788948184,
          0.38802282467610144,
          0.2961615613769893,
          0.30821302658293914,
          0.3693651966620093,
          0.29977383801282587,
          0.3101441100338902,
          0.3291794163848797,
          0.3663917121902865
         ],
         "yaxis": "y1",
         "zmax": 0.1,
         "zmin": -0.1
        },
        {
         "colorbar": {
          "title": ""
         },
         "hoverinfo": "text",
         "legendgroup": "Lorentz Maps",
         "marker": {
          "color": "rgba(255, 192, 203, 1.000)",
          "line": {
           "color": "rgba(0, 0, 0, 1.000)",
           "width": 1
          },
          "size": 8,
          "symbol": "square"
         },
         "mode": "markers",
         "name": "Lorentz Maps",
         "showlegend": true,
         "text": [
          null,
          null,
          null,
          null,
          null,
          null,
          null,
          null,
          null,
          null
         ],
         "type": "scatter",
         "x": [
          1,
          2,
          3,
          4,
          5,
          6,
          7,
          8,
          9,
          10
         ],
         "xaxis": "x1",
         "y": [
          0.18915586408782525,
          0.1785550951698343,
          0.19054754261176568,
          0.16741108004449493,
          0.1748642662926503,
          0.17012652680246032,
          0.1783727305276203,
          0.17035114548888042,
          0.16067793931441993,
          0.1751707592645711
         ],
         "yaxis": "y1",
         "zmax": 0.1,
         "zmin": -0.1
        },
        {
         "colorbar": {
          "title": ""
         },
         "hoverinfo": "text",
         "legendgroup": "PT",
         "marker": {
          "color": "rgba(0, 0, 0, 1.000)",
          "line": {
           "color": "rgba(0, 0, 0, 1.000)",
           "width": 1
          },
          "size": 8,
          "symbol": "triangle-down"
         },
         "mode": "markers",
         "name": "PT",
         "showlegend": true,
         "text": [
          null,
          null,
          null,
          null,
          null,
          null,
          null,
          null,
          null,
          null
         ],
         "type": "scatter",
         "x": [
          1,
          2,
          3,
          4,
          5,
          6,
          7,
          8,
          9,
          10
         ],
         "xaxis": "x1",
         "y": [
          0.8803885764568925,
          0.3452934604390895,
          0.23459185402108762,
          0.19562707360918596,
          0.1664077966390392,
          0.16455587638040575,
          0.16700663979252536,
          0.14803881732281685,
          0.13421195443429848,
          0.10490860563948282
         ],
         "yaxis": "y1",
         "zmax": 0.1,
         "zmin": -0.1
        }
       ],
       "layout": {
        "annotations": [],
        "height": 400,
        "legend": {
         "bgcolor": "rgba(255, 255, 255, 1.000)",
         "bordercolor": "rgba(0, 0, 0, 1.000)",
         "font": {
          "color": "rgba(0, 0, 0, 1.000)",
          "family": "Helvetica",
          "size": 13
         },
         "tracegroupgap": 0,
         "x": 1,
         "y": 1
        },
        "margin": {
         "b": 20,
         "l": 0,
         "r": 0,
         "t": 20
        },
        "paper_bgcolor": "rgba(255, 255, 255, 1.000)",
        "plot_bgcolor": "rgba(255, 255, 255, 1.000)",
        "showlegend": true,
        "width": 600,
        "xaxis": {
         "anchor": "y1",
         "domain": [
          0.1746172353455818,
          0.9934383202099738
         ],
         "gridcolor": "rgba(0, 0, 0, 0.100)",
         "gridwidth": 0.5,
         "linecolor": "rgba(0, 0, 0, 1.000)",
         "mirror": false,
         "range": [
          0.73,
          10.27
         ],
         "showgrid": true,
         "showline": true,
         "showticklabels": true,
         "tickangle": 0,
         "tickcolor": "rgb(0, 0, 0)",
         "tickfont": {
          "color": "rgba(0, 0, 0, 1.000)",
          "family": "Helvetica",
          "size": 13
         },
         "tickmode": "array",
         "ticks": "inside",
         "ticktext": [
          "2",
          "4",
          "6",
          "8",
          "10"
         ],
         "tickvals": [
          2,
          4,
          6,
          8,
          10
         ],
         "title": "Dimension (Log Scale)",
         "titlefont": {
          "color": "rgba(0, 0, 0, 1.000)",
          "family": "Helvetica",
          "size": 21
         },
         "type": "-",
         "visible": true,
         "zeroline": false,
         "zerolinecolor": "rgba(0, 0, 0, 1.000)"
        },
        "yaxis": {
         "anchor": "x1",
         "domain": [
          0.09317585301837272,
          0.9901574803149606
         ],
         "gridcolor": "rgba(0, 0, 0, 0.100)",
         "gridwidth": 0.5,
         "linecolor": "rgba(0, 0, 0, 1.000)",
         "mirror": false,
         "range": [
          -1.8917041104557284,
          -0.0018388486064906428
         ],
         "showgrid": true,
         "showline": true,
         "showticklabels": true,
         "tickangle": 0,
         "tickcolor": "rgb(0, 0, 0)",
         "tickfont": {
          "color": "rgba(0, 0, 0, 1.000)",
          "family": "Helvetica",
          "size": 13
         },
         "tickmode": "array",
         "ticks": "inside",
         "ticktext": [
          "10^-1.75",
          "10^-1.50",
          "10^-1.25",
          "10^-1.00",
          "10^-0.75",
          "10^-0.50",
          "10^-0.25"
         ],
         "tickvals": [
          0.01778279410038923,
          0.03162277660168379,
          0.056234132519034905,
          0.1,
          0.1778279410038923,
          0.31622776601683794,
          0.5623413251903491
         ],
         "title": "Average Distortion (Log scale)",
         "titlefont": {
          "color": "rgba(0, 0, 0, 1.000)",
          "family": "Helvetica",
          "size": 21
         },
         "type": "log",
         "visible": true,
         "zeroline": false,
         "zerolinecolor": "rgba(0, 0, 0, 1.000)"
        }
       }
      },
      "text/html": [
       "    <div id=\"824d89bd-fec5-47a6-965d-b22f09d7cbfa\" style=\"width:600px;height:400px;\"></div>\n",
       "    <script>\n",
       "    PLOT = document.getElementById('824d89bd-fec5-47a6-965d-b22f09d7cbfa');\n",
       "    Plotly.plot(PLOT, [{\"xaxis\":\"x1\",\"colorbar\":{\"title\":\"\"},\"yaxis\":\"y1\",\"text\":[null,null,null,null,null,null,null,null,null,null],\"x\":[1,2,3,4,5,6,7,8,9,10],\"showlegend\":true,\"mode\":\"lines\",\"name\":\"TreeRep\",\"zmin\":-0.1,\"legendgroup\":\"TreeRep\",\"zmax\":0.1,\"line\":{\"color\":\"rgba(0, 0, 255, 1.000)\",\"shape\":\"linear\",\"dash\":\"solid\",\"width\":2},\"y\":[0.09036405401168805,0.07084767032069861,0.05793848140915417,0.04382537884555265,0.04454595163157459,0.033058321911233396,0.0347861484126851,0.027164064464119498,0.022553534668006994,0.02234648246438992],\"type\":\"scatter\",\"hoverinfo\":\"text\"},{\"xaxis\":\"x1\",\"colorbar\":{\"title\":\"\"},\"yaxis\":\"y1\",\"text\":[null,null,null,null,null,null,null,null,null,null],\"x\":[1,2,3,4,5,6,7,8,9,10],\"showlegend\":true,\"mode\":\"lines\",\"name\":\"NJ\",\"zmin\":-0.1,\"legendgroup\":\"NJ\",\"zmax\":0.1,\"line\":{\"color\":\"rgba(255, 0, 0, 1.000)\",\"shape\":\"linear\",\"dash\":\"solid\",\"width\":2},\"y\":[0.05632563045089825,0.04474178277175264,0.03467205181491677,0.029160144119770862,0.02552825598791737,0.0215075483815361,0.019423794429159057,0.017226916339104715,0.01573018916687486,0.014513850397146776],\"type\":\"scatter\",\"hoverinfo\":\"text\"},{\"xaxis\":\"x1\",\"colorbar\":{\"title\":\"\"},\"yaxis\":\"y1\",\"text\":[null,null,null,null,null,null,null,null,null,null],\"x\":[1,2,3,4,5,6,7,8,9,10],\"showlegend\":true,\"mode\":\"lines\",\"name\":\"ConstructTree\",\"zmin\":-0.1,\"legendgroup\":\"ConstructTree\",\"zmax\":0.1,\"line\":{\"color\":\"rgba(0, 128, 0, 1.000)\",\"shape\":\"linear\",\"dash\":\"solid\",\"width\":2},\"y\":[0.23980000615140742,0.2255378060001685,0.22999732371691764,0.23134132262135837,0.2264960494923864,0.22242189454120173,0.22692437117069914,0.23943284524479888,0.24484346688859054,0.2459987376691799],\"type\":\"scatter\",\"hoverinfo\":\"text\"},{\"xaxis\":\"x1\",\"colorbar\":{\"title\":\"\"},\"yaxis\":\"y1\",\"text\":[null,null,null,null,null,null,null,null,null,null],\"x\":[1,2,3,4,5,6,7,8,9,10],\"showlegend\":true,\"mode\":\"lines\",\"name\":\"MST : Complete\",\"zmin\":-0.1,\"legendgroup\":\"MST : Complete\",\"zmax\":0.1,\"line\":{\"color\":\"rgba(75, 0, 130, 1.000)\",\"shape\":\"linear\",\"dash\":\"solid\",\"width\":2},\"y\":[0.3446884659511977,0.34233649788948184,0.38802282467610144,0.2961615613769893,0.30821302658293914,0.3693651966620093,0.29977383801282587,0.3101441100338902,0.3291794163848797,0.3663917121902865],\"type\":\"scatter\",\"hoverinfo\":\"text\"},{\"xaxis\":\"x1\",\"colorbar\":{\"title\":\"\"},\"yaxis\":\"y1\",\"text\":[null,null,null,null,null,null,null,null,null,null],\"x\":[1,2,3,4,5,6,7,8,9,10],\"showlegend\":true,\"mode\":\"lines\",\"name\":\"MST : KNN 10\",\"zmin\":-0.1,\"legendgroup\":\"MST : KNN 10\",\"zmax\":0.1,\"line\":{\"color\":\"rgba(255, 140, 0, 1.000)\",\"shape\":\"linear\",\"dash\":\"solid\",\"width\":2},\"y\":[0.28865873714692875,0.32543800625114266,0.28163988004805857,0.3048327961208449,0.3266495130275017,0.3712343721396345,0.3805642691167438,0.27205812789322553,0.3205220320967139,0.3468907541389357],\"type\":\"scatter\",\"hoverinfo\":\"text\"},{\"xaxis\":\"x1\",\"colorbar\":{\"title\":\"\"},\"yaxis\":\"y1\",\"text\":[null,null,null,null,null,null,null,null,null,null],\"x\":[1,2,3,4,5,6,7,8,9,10],\"showlegend\":true,\"mode\":\"lines\",\"name\":\"Lorentz Maps\",\"zmin\":-0.1,\"legendgroup\":\"Lorentz Maps\",\"zmax\":0.1,\"line\":{\"color\":\"rgba(255, 192, 203, 1.000)\",\"shape\":\"linear\",\"dash\":\"solid\",\"width\":2},\"y\":[0.18915586408782525,0.1785550951698343,0.19054754261176568,0.16741108004449493,0.1748642662926503,0.17012652680246032,0.1783727305276203,0.17035114548888042,0.16067793931441993,0.1751707592645711],\"type\":\"scatter\",\"hoverinfo\":\"text\"},{\"xaxis\":\"x1\",\"colorbar\":{\"title\":\"\"},\"yaxis\":\"y1\",\"text\":[null,null,null,null,null,null,null,null,null,null],\"x\":[1,2,3,4,5,6,7,8,9,10],\"showlegend\":true,\"mode\":\"lines\",\"name\":\"PT\",\"zmin\":-0.1,\"legendgroup\":\"PT\",\"zmax\":0.1,\"line\":{\"color\":\"rgba(0, 0, 0, 1.000)\",\"shape\":\"linear\",\"dash\":\"solid\",\"width\":2},\"y\":[0.8803885764568925,0.3452934604390895,0.23459185402108762,0.19562707360918596,0.1664077966390392,0.16455587638040575,0.16700663979252536,0.14803881732281685,0.13421195443429848,0.10490860563948282],\"type\":\"scatter\",\"hoverinfo\":\"text\"},{\"xaxis\":\"x1\",\"colorbar\":{\"title\":\"\"},\"yaxis\":\"y1\",\"text\":[null,null,null,null,null,null,null,null,null,null],\"x\":[1,2,3,4,5,6,7,8,9,10],\"showlegend\":true,\"mode\":\"markers\",\"name\":\"TreeRep\",\"zmin\":-0.1,\"legendgroup\":\"TreeRep\",\"marker\":{\"symbol\":\"circle\",\"color\":\"rgba(0, 0, 255, 1.000)\",\"line\":{\"color\":\"rgba(0, 0, 0, 1.000)\",\"width\":1},\"size\":8},\"zmax\":0.1,\"y\":[0.09036405401168805,0.07084767032069861,0.05793848140915417,0.04382537884555265,0.04454595163157459,0.033058321911233396,0.0347861484126851,0.027164064464119498,0.022553534668006994,0.02234648246438992],\"type\":\"scatter\",\"hoverinfo\":\"text\"},{\"xaxis\":\"x1\",\"colorbar\":{\"title\":\"\"},\"yaxis\":\"y1\",\"text\":[null,null,null,null,null,null,null,null,null,null],\"x\":[1,2,3,4,5,6,7,8,9,10],\"showlegend\":true,\"mode\":\"markers\",\"name\":\"NJ\",\"zmin\":-0.1,\"legendgroup\":\"NJ\",\"marker\":{\"symbol\":\"cross\",\"color\":\"rgba(255, 0, 0, 1.000)\",\"line\":{\"color\":\"rgba(0, 0, 0, 1.000)\",\"width\":1},\"size\":8},\"zmax\":0.1,\"y\":[0.05632563045089825,0.04474178277175264,0.03467205181491677,0.029160144119770862,0.02552825598791737,0.0215075483815361,0.019423794429159057,0.017226916339104715,0.01573018916687486,0.014513850397146776],\"type\":\"scatter\",\"hoverinfo\":\"text\"},{\"xaxis\":\"x1\",\"colorbar\":{\"title\":\"\"},\"yaxis\":\"y1\",\"text\":[null,null,null,null,null,null,null,null,null,null],\"x\":[1,2,3,4,5,6,7,8,9,10],\"showlegend\":true,\"mode\":\"markers\",\"name\":\"ConstructTree\",\"zmin\":-0.1,\"legendgroup\":\"ConstructTree\",\"marker\":{\"symbol\":\"x\",\"color\":\"rgba(0, 128, 0, 1.000)\",\"line\":{\"color\":\"rgba(0, 0, 0, 1.000)\",\"width\":1},\"size\":8},\"zmax\":0.1,\"y\":[0.23980000615140742,0.2255378060001685,0.22999732371691764,0.23134132262135837,0.2264960494923864,0.22242189454120173,0.22692437117069914,0.23943284524479888,0.24484346688859054,0.2459987376691799],\"type\":\"scatter\",\"hoverinfo\":\"text\"},{\"xaxis\":\"x1\",\"colorbar\":{\"title\":\"\"},\"yaxis\":\"y1\",\"text\":[null,null,null,null,null,null,null,null,null,null],\"x\":[1,2,3,4,5,6,7,8,9,10],\"showlegend\":true,\"mode\":\"markers\",\"name\":\"MST : KNN 10\",\"zmin\":-0.1,\"legendgroup\":\"MST : KNN 10\",\"marker\":{\"symbol\":\"line-ns\",\"color\":\"rgba(255, 140, 0, 1.000)\",\"line\":{\"color\":\"rgba(0, 0, 0, 1.000)\",\"width\":1},\"size\":8},\"zmax\":0.1,\"y\":[0.28865873714692875,0.32543800625114266,0.28163988004805857,0.3048327961208449,0.3266495130275017,0.3712343721396345,0.3805642691167438,0.27205812789322553,0.3205220320967139,0.3468907541389357],\"type\":\"scatter\",\"hoverinfo\":\"text\"},{\"xaxis\":\"x1\",\"colorbar\":{\"title\":\"\"},\"yaxis\":\"y1\",\"text\":[null,null,null,null,null,null,null,null,null,null],\"x\":[1,2,3,4,5,6,7,8,9,10],\"showlegend\":true,\"mode\":\"markers\",\"name\":\"MST : Complete\",\"zmin\":-0.1,\"legendgroup\":\"MST : Complete\",\"marker\":{\"symbol\":\"diamond\",\"color\":\"rgba(75, 0, 130, 1.000)\",\"line\":{\"color\":\"rgba(0, 0, 0, 1.000)\",\"width\":1},\"size\":8},\"zmax\":0.1,\"y\":[0.3446884659511977,0.34233649788948184,0.38802282467610144,0.2961615613769893,0.30821302658293914,0.3693651966620093,0.29977383801282587,0.3101441100338902,0.3291794163848797,0.3663917121902865],\"type\":\"scatter\",\"hoverinfo\":\"text\"},{\"xaxis\":\"x1\",\"colorbar\":{\"title\":\"\"},\"yaxis\":\"y1\",\"text\":[null,null,null,null,null,null,null,null,null,null],\"x\":[1,2,3,4,5,6,7,8,9,10],\"showlegend\":true,\"mode\":\"markers\",\"name\":\"Lorentz Maps\",\"zmin\":-0.1,\"legendgroup\":\"Lorentz Maps\",\"marker\":{\"symbol\":\"square\",\"color\":\"rgba(255, 192, 203, 1.000)\",\"line\":{\"color\":\"rgba(0, 0, 0, 1.000)\",\"width\":1},\"size\":8},\"zmax\":0.1,\"y\":[0.18915586408782525,0.1785550951698343,0.19054754261176568,0.16741108004449493,0.1748642662926503,0.17012652680246032,0.1783727305276203,0.17035114548888042,0.16067793931441993,0.1751707592645711],\"type\":\"scatter\",\"hoverinfo\":\"text\"},{\"xaxis\":\"x1\",\"colorbar\":{\"title\":\"\"},\"yaxis\":\"y1\",\"text\":[null,null,null,null,null,null,null,null,null,null],\"x\":[1,2,3,4,5,6,7,8,9,10],\"showlegend\":true,\"mode\":\"markers\",\"name\":\"PT\",\"zmin\":-0.1,\"legendgroup\":\"PT\",\"marker\":{\"symbol\":\"triangle-down\",\"color\":\"rgba(0, 0, 0, 1.000)\",\"line\":{\"color\":\"rgba(0, 0, 0, 1.000)\",\"width\":1},\"size\":8},\"zmax\":0.1,\"y\":[0.8803885764568925,0.3452934604390895,0.23459185402108762,0.19562707360918596,0.1664077966390392,0.16455587638040575,0.16700663979252536,0.14803881732281685,0.13421195443429848,0.10490860563948282],\"type\":\"scatter\",\"hoverinfo\":\"text\"}], {\"showlegend\":true,\"xaxis\":{\"showticklabels\":true,\"gridwidth\":0.5,\"tickvals\":[2.0,4.0,6.0,8.0,10.0],\"visible\":true,\"ticks\":\"inside\",\"range\":[0.73,10.27],\"domain\":[0.1746172353455818,0.9934383202099738],\"tickmode\":\"array\",\"linecolor\":\"rgba(0, 0, 0, 1.000)\",\"showgrid\":true,\"title\":\"Dimension (Log Scale)\",\"mirror\":false,\"tickangle\":0,\"showline\":true,\"gridcolor\":\"rgba(0, 0, 0, 0.100)\",\"titlefont\":{\"color\":\"rgba(0, 0, 0, 1.000)\",\"family\":\"Helvetica\",\"size\":21},\"tickcolor\":\"rgb(0, 0, 0)\",\"ticktext\":[\"2\",\"4\",\"6\",\"8\",\"10\"],\"zeroline\":false,\"type\":\"-\",\"tickfont\":{\"color\":\"rgba(0, 0, 0, 1.000)\",\"family\":\"Helvetica\",\"size\":13},\"zerolinecolor\":\"rgba(0, 0, 0, 1.000)\",\"anchor\":\"y1\"},\"paper_bgcolor\":\"rgba(255, 255, 255, 1.000)\",\"annotations\":[],\"height\":400,\"margin\":{\"l\":0,\"b\":20,\"r\":0,\"t\":20},\"plot_bgcolor\":\"rgba(255, 255, 255, 1.000)\",\"yaxis\":{\"showticklabels\":true,\"gridwidth\":0.5,\"tickvals\":[0.01778279410038923,0.03162277660168379,0.056234132519034905,0.1,0.1778279410038923,0.31622776601683794,0.5623413251903491],\"visible\":true,\"ticks\":\"inside\",\"range\":[-1.8917041104557284,-0.0018388486064906428],\"domain\":[0.09317585301837272,0.9901574803149606],\"tickmode\":\"array\",\"linecolor\":\"rgba(0, 0, 0, 1.000)\",\"showgrid\":true,\"title\":\"Average Distortion (Log scale)\",\"mirror\":false,\"tickangle\":0,\"showline\":true,\"gridcolor\":\"rgba(0, 0, 0, 0.100)\",\"titlefont\":{\"color\":\"rgba(0, 0, 0, 1.000)\",\"family\":\"Helvetica\",\"size\":21},\"tickcolor\":\"rgb(0, 0, 0)\",\"ticktext\":[\"10^-1.75\",\"10^-1.50\",\"10^-1.25\",\"10^-1.00\",\"10^-0.75\",\"10^-0.50\",\"10^-0.25\"],\"zeroline\":false,\"type\":\"log\",\"tickfont\":{\"color\":\"rgba(0, 0, 0, 1.000)\",\"family\":\"Helvetica\",\"size\":13},\"zerolinecolor\":\"rgba(0, 0, 0, 1.000)\",\"anchor\":\"x1\"},\"legend\":{\"tracegroupgap\":0,\"bordercolor\":\"rgba(0, 0, 0, 1.000)\",\"bgcolor\":\"rgba(255, 255, 255, 1.000)\",\"font\":{\"color\":\"rgba(0, 0, 0, 1.000)\",\"family\":\"Helvetica\",\"size\":13},\"y\":1.0,\"x\":1.0},\"width\":600});\n",
       "    </script>\n"
      ]
     },
     "execution_count": 59,
     "metadata": {},
     "output_type": "execute_result"
    }
   ],
   "source": [
    "plot(collect(1:10),dist1,label=\"TreeRep\", lc = :blue, linewidth = 2)\n",
    "plot!(collect(1:10),dist2,label=\"NJ\", lc = :red, linewidth = 2)\n",
    "plot!(collect(1:10),dist3,label=\"ConstructTree\", lc = :green, linewidth = 2)\n",
    "plot!(collect(1:10),dist5,label=\"MST : Complete\", lc = :indigo, linewidth = 2)\n",
    "plot!(collect(1:10),dist4,label=\"MST : KNN 10\", lc = :darkorange, linewidth = 2)\n",
    "plot!(collect(1:10),dist6,label=\"Lorentz Maps\", lc = :pink, linewidth = 2)\n",
    "plot!(collect(1:10),dist8,label=\"PT\", lc = :black, linewidth = 2)\n",
    "scatter!(collect(1:10),dist1,label=\"TreeRep\", shape=:circle, mc = :blue)\n",
    "scatter!(collect(1:10),dist2,label=\"NJ\",shape=:cross, mc = :red)\n",
    "scatter!(collect(1:10),dist3,label=\"ConstructTree\", shape =:xcross, mc = :green)\n",
    "scatter!(collect(1:10),dist4,label=\"MST : KNN 10\", shape =:vline, mc = :darkorange)\n",
    "scatter!(collect(1:10),dist5,label=\"MST : Complete\", shape =:diamond, mc = :indigo)\n",
    "scatter!(collect(1:10),dist6,label=\"Lorentz Maps\", shape = :square, mc = :pink)\n",
    "scatter!(collect(1:10),dist8,label=\"PT\", shape = :dtriangle, mc = :black)\n",
    "plot!(xlabel = \"Dimension (Log Scale)\",ylabel = \"Average Distortion (Log scale)\",yscale=:log; myfonts...)"
   ]
  },
  {
   "cell_type": "code",
   "execution_count": 66,
   "metadata": {
    "code_folding": [
     9
    ]
   },
   "outputs": [
    {
     "name": "stdout",
     "output_type": "stream",
     "text": [
      "(nv(G), ne(G)) = (108, 107)\n",
      "(dist1[i], dist2[i]) = (0.3924084905784876, 0.30792713845438285)\n",
      "(nv(G), ne(G)) = (154, 153)\n",
      "(dist1[i], dist2[i]) = (0.22702983197222978, 0.15973365814483037)\n",
      "(nv(G), ne(G)) = (156, 155)\n",
      "(dist1[i], dist2[i]) = (0.12532154153551622, 0.09197492078873921)\n",
      "(nv(G), ne(G)) = (151, 150)\n",
      "(dist1[i], dist2[i]) = (0.07561369994175976, 0.050452637870338206)\n",
      "(nv(G), ne(G)) = (146, 145)\n",
      "(dist1[i], dist2[i]) = (0.05047955419678273, 0.03092912658263701)\n",
      "(nv(G), ne(G)) = (129, 128)\n",
      "(dist1[i], dist2[i]) = (0.03218813284310934, 0.019087902179392744)\n",
      "(nv(G), ne(G)) = (116, 115)\n",
      "(dist1[i], dist2[i]) = (0.019873897316375396, 0.011735821824899339)\n",
      "(nv(G), ne(G)) = (117, 116)\n",
      "(dist1[i], dist2[i]) = (0.011902551346127895, 0.007534766866894497)\n",
      "(nv(G), ne(G)) = (102, 101)\n",
      "(dist1[i], dist2[i]) = (0.0067557926406194005, 0.004687109709439094)\n",
      "(nv(G), ne(G)) = (101, 100)\n",
      "(dist1[i], dist2[i]) = (0.0037224293877966136, 0.0030330320879567284)\n"
     ]
    }
   ],
   "source": [
    "N = 10\n",
    "dist1 = zeros(10)\n",
    "dist2 = zeros(10)\n",
    "dist3 = zeros(10)\n",
    "dist4 = zeros(10)\n",
    "dist5 = zeros(10)\n",
    "\n",
    "n = 100\n",
    "\n",
    "for i = 1:N\n",
    "    sc = 2^i\n",
    "    Z = CSV.read(\"rand-dim$sc-scale1.csv\")\n",
    "    D = zeros(100,100)\n",
    "    for k = 1:50*99\n",
    "        ii = Z[k,1]\n",
    "        j = Z[k,2]\n",
    "        D[ii,j] = Z[k,3]\n",
    "        D[j,ii] = Z[k,3]\n",
    "    end\n",
    "    n = 100\n",
    "    #D = utilities.rand_hyperbolic(n,2^i,1)\n",
    "    \n",
    "    G2, W2 = TreeRep.metric_to_structure(D,undef,undef)\n",
    "    B = W2[1:nv(G2),1:nv(G2)];\n",
    "    B = sparse(B);\n",
    "    B = (B .> 0) .* B;\n",
    "    D2 = utilities.parallel_dp_shortest_paths(G2, B, false);\n",
    "    α = tr(D2[1:n,1:n]'*D)/tr(D2[1:n,1:n]'*D2[1:n,1:n])\n",
    "    dist1[i] = utilities.avg_distortion(D2[1:n,1:n]*α,D)\n",
    "    \n",
    "    R = NJ.nj!(copy(convert(Matrix{Float64},D)))\n",
    "    g2 = SimpleGraph(R.numNodes)\n",
    "    w = spzeros(R.numNodes,R.numNodes)\n",
    "    for i = 1:R.numEdges\n",
    "        src = R.edge[i].node[1].number\n",
    "        dst = R.edge[i].node[2].number\n",
    "        add_edge!(g2,src,dst)\n",
    "        w[src,dst] = R.edge[i].length\n",
    "        w[dst,src] = w[src,dst]\n",
    "    end\n",
    "    D5 = utilities.parallel_dp_shortest_paths(g2, w, false);\n",
    "    dist2[i] = utilities.avg_distortion(D5[1:n,1:n],D)\n",
    "    \n",
    "    T,W4 = ConstructTree.basicConstructTree(collect(2:n),1,D)\n",
    "    D4 = LightGraphs.floyd_warshall_shortest_paths(T,W4[1:nv(T),1:nv(T)]).dists;\n",
    "    α = tr(D4[1:n,1:n]'*D)/tr(D4[1:n,1:n]'*D4[1:n,1:n])\n",
    "    dist3[i] = utilities.avg_distortion(D4[1:n,1:n]*α,D)\n",
    "    \n",
    "    \n",
    "    #g = CompleteGraph(n)\n",
    "    g = utilities.kNN(D,10)\n",
    "    r = LightGraphs.prim_mst(g,D)\n",
    "    #r = LightGraphs.bfs_tree(g,1)\n",
    "    R = SimpleGraph(n)\n",
    "    for e in r\n",
    "        add_edge!(R,e)\n",
    "    end\n",
    "    wbfs =  adjacency_matrix(R) .* D\n",
    "    D3 = utilities.parallel_dp_shortest_paths(R,wbfs);\n",
    "    α = tr(D3[1:n,1:n]'*D)/tr(D3[1:n,1:n]'*D3[1:n,1:n])\n",
    "    dist4[i] = utilities.avg_distortion(D3[1:n,1:n]*α,D)\n",
    "    \n",
    "    g = CompleteGraph(n)\n",
    "    #g = utilities.kNN(D,10)\n",
    "    r = LightGraphs.prim_mst(g,D)\n",
    "    #r = LightGraphs.bfs_tree(g,1)\n",
    "    R = SimpleGraph(n)\n",
    "    for e in r\n",
    "        add_edge!(R,e)\n",
    "    end\n",
    "    wbfs =  adjacency_matrix(R) .* D\n",
    "    D3 = utilities.parallel_dp_shortest_paths(R,wbfs);\n",
    "    α = tr(D3[1:n,1:n]'*D)/tr(D3[1:n,1:n]'*D3[1:n,1:n])\n",
    "    dist5[i] = utilities.avg_distortion(D3[1:n,1:n]*α,D)\n",
    "    \n",
    "    g = CompleteGraph(n)\n",
    "    E = ne(g)\n",
    "    \n",
    "    id1 = convert(Array{Int64,1},zeros(E))\n",
    "    id2 = convert(Array{Int64,1},zeros(E))\n",
    "    weight = zeros(E)\n",
    "\n",
    "    Ed = collect(edges(g))\n",
    "\n",
    "    for i = 1:E\n",
    "        e = Ed[i]\n",
    "        id1[i] = e.src\n",
    "        id2[i] = e.dst\n",
    "        weight[i] = D[e.src,e.dst]\n",
    "    end\n",
    "    \n",
    "    df = DataFrame(id1 = id1, id2 = id2, weight = weight)\n",
    "    scale = 1\n",
    "    dim = 2^i\n",
    "    CSV.write(\"rand-dim$dim-scale$scale.csv\",  df, writeheader=true)\n",
    "    \n",
    "    @show((dist1[i],dist2[i]))\n",
    "end"
   ]
  },
  {
   "cell_type": "code",
   "execution_count": 67,
   "metadata": {},
   "outputs": [
    {
     "data": {
      "application/vnd.plotly.v1+json": {
       "data": [
        {
         "colorbar": {
          "title": ""
         },
         "hoverinfo": "text",
         "legendgroup": "TreeRep",
         "line": {
          "color": "rgba(0, 0, 255, 1.000)",
          "dash": "solid",
          "shape": "linear",
          "width": 2
         },
         "mode": "lines",
         "name": "TreeRep",
         "showlegend": true,
         "text": [
          null,
          null,
          null,
          null,
          null,
          null,
          null,
          null,
          null,
          null
         ],
         "type": "scatter",
         "x": [
          1,
          2,
          3,
          4,
          5,
          6,
          7,
          8,
          9,
          10
         ],
         "xaxis": "x1",
         "y": [
          0.3924084905784876,
          0.22702983197222978,
          0.12532154153551622,
          0.07561369994175976,
          0.05047955419678273,
          0.03218813284310934,
          0.019873897316375396,
          0.011902551346127895,
          0.0067557926406194005,
          0.0037224293877966136
         ],
         "yaxis": "y1",
         "zmax": 0.1,
         "zmin": -0.1
        },
        {
         "colorbar": {
          "title": ""
         },
         "hoverinfo": "text",
         "legendgroup": "NJ",
         "line": {
          "color": "rgba(255, 0, 0, 1.000)",
          "dash": "solid",
          "shape": "linear",
          "width": 2
         },
         "mode": "lines",
         "name": "NJ",
         "showlegend": true,
         "text": [
          null,
          null,
          null,
          null,
          null,
          null,
          null,
          null,
          null,
          null
         ],
         "type": "scatter",
         "x": [
          1,
          2,
          3,
          4,
          5,
          6,
          7,
          8,
          9,
          10
         ],
         "xaxis": "x1",
         "y": [
          0.30792713845438285,
          0.15973365814483037,
          0.09197492078873921,
          0.050452637870338206,
          0.03092912658263701,
          0.019087902179392744,
          0.011735821824899339,
          0.007534766866894497,
          0.004687109709439094,
          0.0030330320879567284
         ],
         "yaxis": "y1",
         "zmax": 0.1,
         "zmin": -0.1
        },
        {
         "colorbar": {
          "title": ""
         },
         "hoverinfo": "text",
         "legendgroup": "ConstructTree",
         "line": {
          "color": "rgba(0, 128, 0, 1.000)",
          "dash": "solid",
          "shape": "linear",
          "width": 2
         },
         "mode": "lines",
         "name": "ConstructTree",
         "showlegend": true,
         "text": [
          null,
          null,
          null,
          null,
          null,
          null,
          null,
          null,
          null,
          null
         ],
         "type": "scatter",
         "x": [
          1,
          2,
          3,
          4,
          5,
          6,
          7,
          8,
          9,
          10
         ],
         "xaxis": "x1",
         "y": [
          0.42916841116606463,
          0.32749082476519925,
          0.2472927542094282,
          0.22839818048598856,
          0.22436161908475705,
          0.2263709674731488,
          0.23958528144111324,
          0.24874934565677145,
          0.23465310799569822,
          0.2397848096730278
         ],
         "yaxis": "y1",
         "zmax": 0.1,
         "zmin": -0.1
        },
        {
         "colorbar": {
          "title": ""
         },
         "hoverinfo": "text",
         "legendgroup": "MST : Complete",
         "line": {
          "color": "rgba(75, 0, 130, 1.000)",
          "dash": "solid",
          "shape": "linear",
          "width": 2
         },
         "mode": "lines",
         "name": "MST : Complete",
         "showlegend": true,
         "text": [
          null,
          null,
          null,
          null,
          null,
          null,
          null,
          null,
          null,
          null
         ],
         "type": "scatter",
         "x": [
          1,
          2,
          3,
          4,
          5,
          6,
          7,
          8,
          9,
          10
         ],
         "xaxis": "x1",
         "y": [
          0.2881590948817964,
          0.41102241368765813,
          0.301356194011237,
          0.31947620932913173,
          0.3388500370810763,
          0.3302338058310278,
          0.38060879640817424,
          0.33999383681323786,
          0.3103526590485344,
          0.30038571318119084
         ],
         "yaxis": "y1",
         "zmax": 0.1,
         "zmin": -0.1
        },
        {
         "colorbar": {
          "title": ""
         },
         "hoverinfo": "text",
         "legendgroup": "MST : KNN 10",
         "line": {
          "color": "rgba(255, 140, 0, 1.000)",
          "dash": "solid",
          "shape": "linear",
          "width": 2
         },
         "mode": "lines",
         "name": "MST : KNN 10",
         "showlegend": true,
         "text": [
          null,
          null,
          null,
          null,
          null,
          null,
          null,
          null,
          null,
          null
         ],
         "type": "scatter",
         "x": [
          1,
          2,
          3,
          4,
          5,
          6,
          7,
          8,
          9,
          10
         ],
         "xaxis": "x1",
         "y": [
          0.40696098267151165,
          0.3502192007363283,
          0.3012814960334767,
          0.32390038418781475,
          0.34319721366520345,
          0.31618661447601126,
          0.3096205989119582,
          0.329815860585222,
          0.2768363942199151,
          0.35893474765940864
         ],
         "yaxis": "y1",
         "zmax": 0.1,
         "zmin": -0.1
        },
        {
         "colorbar": {
          "title": ""
         },
         "hoverinfo": "text",
         "legendgroup": "Lorentz Maps",
         "line": {
          "color": "rgba(255, 192, 203, 1.000)",
          "dash": "solid",
          "shape": "linear",
          "width": 2
         },
         "mode": "lines",
         "name": "Lorentz Maps",
         "showlegend": true,
         "text": [
          null,
          null,
          null,
          null,
          null,
          null,
          null,
          null,
          null,
          null
         ],
         "type": "scatter",
         "x": [
          1,
          2,
          3,
          4,
          5,
          6,
          7,
          8,
          9,
          10
         ],
         "xaxis": "x1",
         "y": [
          0.8803885764568925,
          0.34529346043908954,
          0.23459185402108762,
          0.19562707360918596,
          0.1664077966390392,
          0.1645558763804057,
          0.16700663979252536,
          0.14803881732281685,
          0.13421195443429848,
          0.10490860563948282
         ],
         "yaxis": "y1",
         "zmax": 0.1,
         "zmin": -0.1
        },
        {
         "colorbar": {
          "title": ""
         },
         "hoverinfo": "text",
         "legendgroup": "PT",
         "line": {
          "color": "rgba(0, 0, 0, 1.000)",
          "dash": "solid",
          "shape": "linear",
          "width": 2
         },
         "mode": "lines",
         "name": "PT",
         "showlegend": true,
         "text": [
          null,
          null,
          null,
          null,
          null,
          null,
          null,
          null,
          null,
          null
         ],
         "type": "scatter",
         "x": [
          1,
          2,
          3,
          4,
          5,
          6,
          7,
          8,
          9,
          10
         ],
         "xaxis": "x1",
         "y": [
          0.8546943005658045,
          0.6642194310670083,
          0.22416677269118204,
          0.12312041458349997,
          0.11469794716417758,
          0.08772766088122697,
          0.042399332866795626,
          0.02946842818590852,
          0.023851548199430625,
          0.020019080198004524
         ],
         "yaxis": "y1",
         "zmax": 0.1,
         "zmin": -0.1
        },
        {
         "colorbar": {
          "title": ""
         },
         "hoverinfo": "text",
         "legendgroup": "TreeRep",
         "marker": {
          "color": "rgba(0, 0, 255, 1.000)",
          "line": {
           "color": "rgba(0, 0, 0, 1.000)",
           "width": 1
          },
          "size": 8,
          "symbol": "circle"
         },
         "mode": "markers",
         "name": "TreeRep",
         "showlegend": true,
         "text": [
          null,
          null,
          null,
          null,
          null,
          null,
          null,
          null,
          null,
          null
         ],
         "type": "scatter",
         "x": [
          1,
          2,
          3,
          4,
          5,
          6,
          7,
          8,
          9,
          10
         ],
         "xaxis": "x1",
         "y": [
          0.3924084905784876,
          0.22702983197222978,
          0.12532154153551622,
          0.07561369994175976,
          0.05047955419678273,
          0.03218813284310934,
          0.019873897316375396,
          0.011902551346127895,
          0.0067557926406194005,
          0.0037224293877966136
         ],
         "yaxis": "y1",
         "zmax": 0.1,
         "zmin": -0.1
        },
        {
         "colorbar": {
          "title": ""
         },
         "hoverinfo": "text",
         "legendgroup": "NJ",
         "marker": {
          "color": "rgba(255, 0, 0, 1.000)",
          "line": {
           "color": "rgba(0, 0, 0, 1.000)",
           "width": 1
          },
          "size": 8,
          "symbol": "cross"
         },
         "mode": "markers",
         "name": "NJ",
         "showlegend": true,
         "text": [
          null,
          null,
          null,
          null,
          null,
          null,
          null,
          null,
          null,
          null
         ],
         "type": "scatter",
         "x": [
          1,
          2,
          3,
          4,
          5,
          6,
          7,
          8,
          9,
          10
         ],
         "xaxis": "x1",
         "y": [
          0.30792713845438285,
          0.15973365814483037,
          0.09197492078873921,
          0.050452637870338206,
          0.03092912658263701,
          0.019087902179392744,
          0.011735821824899339,
          0.007534766866894497,
          0.004687109709439094,
          0.0030330320879567284
         ],
         "yaxis": "y1",
         "zmax": 0.1,
         "zmin": -0.1
        },
        {
         "colorbar": {
          "title": ""
         },
         "hoverinfo": "text",
         "legendgroup": "ConstructTree",
         "marker": {
          "color": "rgba(0, 128, 0, 1.000)",
          "line": {
           "color": "rgba(0, 0, 0, 1.000)",
           "width": 1
          },
          "size": 8,
          "symbol": "x"
         },
         "mode": "markers",
         "name": "ConstructTree",
         "showlegend": true,
         "text": [
          null,
          null,
          null,
          null,
          null,
          null,
          null,
          null,
          null,
          null
         ],
         "type": "scatter",
         "x": [
          1,
          2,
          3,
          4,
          5,
          6,
          7,
          8,
          9,
          10
         ],
         "xaxis": "x1",
         "y": [
          0.42916841116606463,
          0.32749082476519925,
          0.2472927542094282,
          0.22839818048598856,
          0.22436161908475705,
          0.2263709674731488,
          0.23958528144111324,
          0.24874934565677145,
          0.23465310799569822,
          0.2397848096730278
         ],
         "yaxis": "y1",
         "zmax": 0.1,
         "zmin": -0.1
        },
        {
         "colorbar": {
          "title": ""
         },
         "hoverinfo": "text",
         "legendgroup": "MST : KNN 10",
         "marker": {
          "color": "rgba(255, 140, 0, 1.000)",
          "line": {
           "color": "rgba(0, 0, 0, 1.000)",
           "width": 1
          },
          "size": 8,
          "symbol": "line-ns"
         },
         "mode": "markers",
         "name": "MST : KNN 10",
         "showlegend": true,
         "text": [
          null,
          null,
          null,
          null,
          null,
          null,
          null,
          null,
          null,
          null
         ],
         "type": "scatter",
         "x": [
          1,
          2,
          3,
          4,
          5,
          6,
          7,
          8,
          9,
          10
         ],
         "xaxis": "x1",
         "y": [
          0.40696098267151165,
          0.3502192007363283,
          0.3012814960334767,
          0.32390038418781475,
          0.34319721366520345,
          0.31618661447601126,
          0.3096205989119582,
          0.329815860585222,
          0.2768363942199151,
          0.35893474765940864
         ],
         "yaxis": "y1",
         "zmax": 0.1,
         "zmin": -0.1
        },
        {
         "colorbar": {
          "title": ""
         },
         "hoverinfo": "text",
         "legendgroup": "MST : Complete",
         "marker": {
          "color": "rgba(75, 0, 130, 1.000)",
          "line": {
           "color": "rgba(0, 0, 0, 1.000)",
           "width": 1
          },
          "size": 8,
          "symbol": "diamond"
         },
         "mode": "markers",
         "name": "MST : Complete",
         "showlegend": true,
         "text": [
          null,
          null,
          null,
          null,
          null,
          null,
          null,
          null,
          null,
          null
         ],
         "type": "scatter",
         "x": [
          1,
          2,
          3,
          4,
          5,
          6,
          7,
          8,
          9,
          10
         ],
         "xaxis": "x1",
         "y": [
          0.2881590948817964,
          0.41102241368765813,
          0.301356194011237,
          0.31947620932913173,
          0.3388500370810763,
          0.3302338058310278,
          0.38060879640817424,
          0.33999383681323786,
          0.3103526590485344,
          0.30038571318119084
         ],
         "yaxis": "y1",
         "zmax": 0.1,
         "zmin": -0.1
        },
        {
         "colorbar": {
          "title": ""
         },
         "hoverinfo": "text",
         "legendgroup": "Lorentz Maps",
         "marker": {
          "color": "rgba(255, 192, 203, 1.000)",
          "line": {
           "color": "rgba(0, 0, 0, 1.000)",
           "width": 1
          },
          "size": 8,
          "symbol": "square"
         },
         "mode": "markers",
         "name": "Lorentz Maps",
         "showlegend": true,
         "text": [
          null,
          null,
          null,
          null,
          null,
          null,
          null,
          null,
          null,
          null
         ],
         "type": "scatter",
         "x": [
          1,
          2,
          3,
          4,
          5,
          6,
          7,
          8,
          9,
          10
         ],
         "xaxis": "x1",
         "y": [
          0.8803885764568925,
          0.34529346043908954,
          0.23459185402108762,
          0.19562707360918596,
          0.1664077966390392,
          0.1645558763804057,
          0.16700663979252536,
          0.14803881732281685,
          0.13421195443429848,
          0.10490860563948282
         ],
         "yaxis": "y1",
         "zmax": 0.1,
         "zmin": -0.1
        },
        {
         "colorbar": {
          "title": ""
         },
         "hoverinfo": "text",
         "legendgroup": "PT",
         "marker": {
          "color": "rgba(0, 0, 0, 1.000)",
          "line": {
           "color": "rgba(0, 0, 0, 1.000)",
           "width": 1
          },
          "size": 8,
          "symbol": "triangle-down"
         },
         "mode": "markers",
         "name": "PT",
         "showlegend": true,
         "text": [
          null,
          null,
          null,
          null,
          null,
          null,
          null,
          null,
          null,
          null
         ],
         "type": "scatter",
         "x": [
          1,
          2,
          3,
          4,
          5,
          6,
          7,
          8,
          9,
          10
         ],
         "xaxis": "x1",
         "y": [
          0.8546943005658045,
          0.6642194310670083,
          0.22416677269118204,
          0.12312041458349997,
          0.11469794716417758,
          0.08772766088122697,
          0.042399332866795626,
          0.02946842818590852,
          0.023851548199430625,
          0.020019080198004524
         ],
         "yaxis": "y1",
         "zmax": 0.1,
         "zmin": -0.1
        }
       ],
       "layout": {
        "annotations": [],
        "height": 400,
        "legend": {
         "bgcolor": "rgba(255, 255, 255, 1.000)",
         "bordercolor": "rgba(0, 0, 0, 1.000)",
         "font": {
          "color": "rgba(0, 0, 0, 1.000)",
          "family": "Helvetica",
          "size": 13
         },
         "tracegroupgap": 0,
         "x": 1,
         "y": 1
        },
        "margin": {
         "b": 20,
         "l": 0,
         "r": 0,
         "t": 20
        },
        "paper_bgcolor": "rgba(255, 255, 255, 1.000)",
        "plot_bgcolor": "rgba(255, 255, 255, 1.000)",
        "showlegend": true,
        "width": 600,
        "xaxis": {
         "anchor": "y1",
         "domain": [
          0.15795056867891513,
          0.9934383202099738
         ],
         "gridcolor": "rgba(0, 0, 0, 0.100)",
         "gridwidth": 0.5,
         "linecolor": "rgba(0, 0, 0, 1.000)",
         "mirror": false,
         "range": [
          0.73,
          10.27
         ],
         "showgrid": true,
         "showline": true,
         "showticklabels": true,
         "tickangle": 0,
         "tickcolor": "rgb(0, 0, 0)",
         "tickfont": {
          "color": "rgba(0, 0, 0, 1.000)",
          "family": "Helvetica",
          "size": 13
         },
         "tickmode": "array",
         "ticks": "inside",
         "ticktext": [
          "2",
          "4",
          "6",
          "8",
          "10"
         ],
         "tickvals": [
          2,
          4,
          6,
          8,
          10
         ],
         "title": "Scale (Log scale)",
         "titlefont": {
          "color": "rgba(0, 0, 0, 1.000)",
          "family": "Helvetica",
          "size": 21
         },
         "type": "-",
         "visible": true,
         "zeroline": false,
         "zerolinecolor": "rgba(0, 0, 0, 1.000)"
        },
        "yaxis": {
         "anchor": "x1",
         "domain": [
          0.09317585301837272,
          0.9901574803149606
         ],
         "gridcolor": "rgba(0, 0, 0, 0.100)",
         "gridwidth": 0.5,
         "linecolor": "rgba(0, 0, 0, 1.000)",
         "mirror": false,
         "range": [
          -2.5920069168598685,
          0.018558320512076558
         ],
         "showgrid": true,
         "showline": true,
         "showticklabels": true,
         "tickangle": 0,
         "tickcolor": "rgb(0, 0, 0)",
         "tickfont": {
          "color": "rgba(0, 0, 0, 1.000)",
          "family": "Helvetica",
          "size": 13
         },
         "tickmode": "array",
         "ticks": "inside",
         "ticktext": [
          "10^-2.5",
          "10^-2.0",
          "10^-1.5",
          "10^-1.0",
          "10^-0.5",
          "10^0.0"
         ],
         "tickvals": [
          0.0031622776601683794,
          0.01,
          0.03162277660168379,
          0.1,
          0.31622776601683794,
          1
         ],
         "title": "Average Distortion (Log scale)",
         "titlefont": {
          "color": "rgba(0, 0, 0, 1.000)",
          "family": "Helvetica",
          "size": 21
         },
         "type": "log",
         "visible": true,
         "zeroline": false,
         "zerolinecolor": "rgba(0, 0, 0, 1.000)"
        }
       }
      },
      "text/html": [
       "    <div id=\"0ba45208-66fb-4ec5-a78c-9cee8f19d2a2\" style=\"width:600px;height:400px;\"></div>\n",
       "    <script>\n",
       "    PLOT = document.getElementById('0ba45208-66fb-4ec5-a78c-9cee8f19d2a2');\n",
       "    Plotly.plot(PLOT, [{\"xaxis\":\"x1\",\"colorbar\":{\"title\":\"\"},\"yaxis\":\"y1\",\"text\":[null,null,null,null,null,null,null,null,null,null],\"x\":[1,2,3,4,5,6,7,8,9,10],\"showlegend\":true,\"mode\":\"lines\",\"name\":\"TreeRep\",\"zmin\":-0.1,\"legendgroup\":\"TreeRep\",\"zmax\":0.1,\"line\":{\"color\":\"rgba(0, 0, 255, 1.000)\",\"shape\":\"linear\",\"dash\":\"solid\",\"width\":2},\"y\":[0.3924084905784876,0.22702983197222978,0.12532154153551622,0.07561369994175976,0.05047955419678273,0.03218813284310934,0.019873897316375396,0.011902551346127895,0.0067557926406194005,0.0037224293877966136],\"type\":\"scatter\",\"hoverinfo\":\"text\"},{\"xaxis\":\"x1\",\"colorbar\":{\"title\":\"\"},\"yaxis\":\"y1\",\"text\":[null,null,null,null,null,null,null,null,null,null],\"x\":[1,2,3,4,5,6,7,8,9,10],\"showlegend\":true,\"mode\":\"lines\",\"name\":\"NJ\",\"zmin\":-0.1,\"legendgroup\":\"NJ\",\"zmax\":0.1,\"line\":{\"color\":\"rgba(255, 0, 0, 1.000)\",\"shape\":\"linear\",\"dash\":\"solid\",\"width\":2},\"y\":[0.30792713845438285,0.15973365814483037,0.09197492078873921,0.050452637870338206,0.03092912658263701,0.019087902179392744,0.011735821824899339,0.007534766866894497,0.004687109709439094,0.0030330320879567284],\"type\":\"scatter\",\"hoverinfo\":\"text\"},{\"xaxis\":\"x1\",\"colorbar\":{\"title\":\"\"},\"yaxis\":\"y1\",\"text\":[null,null,null,null,null,null,null,null,null,null],\"x\":[1,2,3,4,5,6,7,8,9,10],\"showlegend\":true,\"mode\":\"lines\",\"name\":\"ConstructTree\",\"zmin\":-0.1,\"legendgroup\":\"ConstructTree\",\"zmax\":0.1,\"line\":{\"color\":\"rgba(0, 128, 0, 1.000)\",\"shape\":\"linear\",\"dash\":\"solid\",\"width\":2},\"y\":[0.42916841116606463,0.32749082476519925,0.2472927542094282,0.22839818048598856,0.22436161908475705,0.2263709674731488,0.23958528144111324,0.24874934565677145,0.23465310799569822,0.2397848096730278],\"type\":\"scatter\",\"hoverinfo\":\"text\"},{\"xaxis\":\"x1\",\"colorbar\":{\"title\":\"\"},\"yaxis\":\"y1\",\"text\":[null,null,null,null,null,null,null,null,null,null],\"x\":[1,2,3,4,5,6,7,8,9,10],\"showlegend\":true,\"mode\":\"lines\",\"name\":\"MST : Complete\",\"zmin\":-0.1,\"legendgroup\":\"MST : Complete\",\"zmax\":0.1,\"line\":{\"color\":\"rgba(75, 0, 130, 1.000)\",\"shape\":\"linear\",\"dash\":\"solid\",\"width\":2},\"y\":[0.2881590948817964,0.41102241368765813,0.301356194011237,0.31947620932913173,0.3388500370810763,0.3302338058310278,0.38060879640817424,0.33999383681323786,0.3103526590485344,0.30038571318119084],\"type\":\"scatter\",\"hoverinfo\":\"text\"},{\"xaxis\":\"x1\",\"colorbar\":{\"title\":\"\"},\"yaxis\":\"y1\",\"text\":[null,null,null,null,null,null,null,null,null,null],\"x\":[1,2,3,4,5,6,7,8,9,10],\"showlegend\":true,\"mode\":\"lines\",\"name\":\"MST : KNN 10\",\"zmin\":-0.1,\"legendgroup\":\"MST : KNN 10\",\"zmax\":0.1,\"line\":{\"color\":\"rgba(255, 140, 0, 1.000)\",\"shape\":\"linear\",\"dash\":\"solid\",\"width\":2},\"y\":[0.40696098267151165,0.3502192007363283,0.3012814960334767,0.32390038418781475,0.34319721366520345,0.31618661447601126,0.3096205989119582,0.329815860585222,0.2768363942199151,0.35893474765940864],\"type\":\"scatter\",\"hoverinfo\":\"text\"},{\"xaxis\":\"x1\",\"colorbar\":{\"title\":\"\"},\"yaxis\":\"y1\",\"text\":[null,null,null,null,null,null,null,null,null,null],\"x\":[1,2,3,4,5,6,7,8,9,10],\"showlegend\":true,\"mode\":\"lines\",\"name\":\"Lorentz Maps\",\"zmin\":-0.1,\"legendgroup\":\"Lorentz Maps\",\"zmax\":0.1,\"line\":{\"color\":\"rgba(255, 192, 203, 1.000)\",\"shape\":\"linear\",\"dash\":\"solid\",\"width\":2},\"y\":[0.8803885764568925,0.34529346043908954,0.23459185402108762,0.19562707360918596,0.1664077966390392,0.1645558763804057,0.16700663979252536,0.14803881732281685,0.13421195443429848,0.10490860563948282],\"type\":\"scatter\",\"hoverinfo\":\"text\"},{\"xaxis\":\"x1\",\"colorbar\":{\"title\":\"\"},\"yaxis\":\"y1\",\"text\":[null,null,null,null,null,null,null,null,null,null],\"x\":[1,2,3,4,5,6,7,8,9,10],\"showlegend\":true,\"mode\":\"lines\",\"name\":\"PT\",\"zmin\":-0.1,\"legendgroup\":\"PT\",\"zmax\":0.1,\"line\":{\"color\":\"rgba(0, 0, 0, 1.000)\",\"shape\":\"linear\",\"dash\":\"solid\",\"width\":2},\"y\":[0.8546943005658045,0.6642194310670083,0.22416677269118204,0.12312041458349997,0.11469794716417758,0.08772766088122697,0.042399332866795626,0.02946842818590852,0.023851548199430625,0.020019080198004524],\"type\":\"scatter\",\"hoverinfo\":\"text\"},{\"xaxis\":\"x1\",\"colorbar\":{\"title\":\"\"},\"yaxis\":\"y1\",\"text\":[null,null,null,null,null,null,null,null,null,null],\"x\":[1,2,3,4,5,6,7,8,9,10],\"showlegend\":true,\"mode\":\"markers\",\"name\":\"TreeRep\",\"zmin\":-0.1,\"legendgroup\":\"TreeRep\",\"marker\":{\"symbol\":\"circle\",\"color\":\"rgba(0, 0, 255, 1.000)\",\"line\":{\"color\":\"rgba(0, 0, 0, 1.000)\",\"width\":1},\"size\":8},\"zmax\":0.1,\"y\":[0.3924084905784876,0.22702983197222978,0.12532154153551622,0.07561369994175976,0.05047955419678273,0.03218813284310934,0.019873897316375396,0.011902551346127895,0.0067557926406194005,0.0037224293877966136],\"type\":\"scatter\",\"hoverinfo\":\"text\"},{\"xaxis\":\"x1\",\"colorbar\":{\"title\":\"\"},\"yaxis\":\"y1\",\"text\":[null,null,null,null,null,null,null,null,null,null],\"x\":[1,2,3,4,5,6,7,8,9,10],\"showlegend\":true,\"mode\":\"markers\",\"name\":\"NJ\",\"zmin\":-0.1,\"legendgroup\":\"NJ\",\"marker\":{\"symbol\":\"cross\",\"color\":\"rgba(255, 0, 0, 1.000)\",\"line\":{\"color\":\"rgba(0, 0, 0, 1.000)\",\"width\":1},\"size\":8},\"zmax\":0.1,\"y\":[0.30792713845438285,0.15973365814483037,0.09197492078873921,0.050452637870338206,0.03092912658263701,0.019087902179392744,0.011735821824899339,0.007534766866894497,0.004687109709439094,0.0030330320879567284],\"type\":\"scatter\",\"hoverinfo\":\"text\"},{\"xaxis\":\"x1\",\"colorbar\":{\"title\":\"\"},\"yaxis\":\"y1\",\"text\":[null,null,null,null,null,null,null,null,null,null],\"x\":[1,2,3,4,5,6,7,8,9,10],\"showlegend\":true,\"mode\":\"markers\",\"name\":\"ConstructTree\",\"zmin\":-0.1,\"legendgroup\":\"ConstructTree\",\"marker\":{\"symbol\":\"x\",\"color\":\"rgba(0, 128, 0, 1.000)\",\"line\":{\"color\":\"rgba(0, 0, 0, 1.000)\",\"width\":1},\"size\":8},\"zmax\":0.1,\"y\":[0.42916841116606463,0.32749082476519925,0.2472927542094282,0.22839818048598856,0.22436161908475705,0.2263709674731488,0.23958528144111324,0.24874934565677145,0.23465310799569822,0.2397848096730278],\"type\":\"scatter\",\"hoverinfo\":\"text\"},{\"xaxis\":\"x1\",\"colorbar\":{\"title\":\"\"},\"yaxis\":\"y1\",\"text\":[null,null,null,null,null,null,null,null,null,null],\"x\":[1,2,3,4,5,6,7,8,9,10],\"showlegend\":true,\"mode\":\"markers\",\"name\":\"MST : KNN 10\",\"zmin\":-0.1,\"legendgroup\":\"MST : KNN 10\",\"marker\":{\"symbol\":\"line-ns\",\"color\":\"rgba(255, 140, 0, 1.000)\",\"line\":{\"color\":\"rgba(0, 0, 0, 1.000)\",\"width\":1},\"size\":8},\"zmax\":0.1,\"y\":[0.40696098267151165,0.3502192007363283,0.3012814960334767,0.32390038418781475,0.34319721366520345,0.31618661447601126,0.3096205989119582,0.329815860585222,0.2768363942199151,0.35893474765940864],\"type\":\"scatter\",\"hoverinfo\":\"text\"},{\"xaxis\":\"x1\",\"colorbar\":{\"title\":\"\"},\"yaxis\":\"y1\",\"text\":[null,null,null,null,null,null,null,null,null,null],\"x\":[1,2,3,4,5,6,7,8,9,10],\"showlegend\":true,\"mode\":\"markers\",\"name\":\"MST : Complete\",\"zmin\":-0.1,\"legendgroup\":\"MST : Complete\",\"marker\":{\"symbol\":\"diamond\",\"color\":\"rgba(75, 0, 130, 1.000)\",\"line\":{\"color\":\"rgba(0, 0, 0, 1.000)\",\"width\":1},\"size\":8},\"zmax\":0.1,\"y\":[0.2881590948817964,0.41102241368765813,0.301356194011237,0.31947620932913173,0.3388500370810763,0.3302338058310278,0.38060879640817424,0.33999383681323786,0.3103526590485344,0.30038571318119084],\"type\":\"scatter\",\"hoverinfo\":\"text\"},{\"xaxis\":\"x1\",\"colorbar\":{\"title\":\"\"},\"yaxis\":\"y1\",\"text\":[null,null,null,null,null,null,null,null,null,null],\"x\":[1,2,3,4,5,6,7,8,9,10],\"showlegend\":true,\"mode\":\"markers\",\"name\":\"Lorentz Maps\",\"zmin\":-0.1,\"legendgroup\":\"Lorentz Maps\",\"marker\":{\"symbol\":\"square\",\"color\":\"rgba(255, 192, 203, 1.000)\",\"line\":{\"color\":\"rgba(0, 0, 0, 1.000)\",\"width\":1},\"size\":8},\"zmax\":0.1,\"y\":[0.8803885764568925,0.34529346043908954,0.23459185402108762,0.19562707360918596,0.1664077966390392,0.1645558763804057,0.16700663979252536,0.14803881732281685,0.13421195443429848,0.10490860563948282],\"type\":\"scatter\",\"hoverinfo\":\"text\"},{\"xaxis\":\"x1\",\"colorbar\":{\"title\":\"\"},\"yaxis\":\"y1\",\"text\":[null,null,null,null,null,null,null,null,null,null],\"x\":[1,2,3,4,5,6,7,8,9,10],\"showlegend\":true,\"mode\":\"markers\",\"name\":\"PT\",\"zmin\":-0.1,\"legendgroup\":\"PT\",\"marker\":{\"symbol\":\"triangle-down\",\"color\":\"rgba(0, 0, 0, 1.000)\",\"line\":{\"color\":\"rgba(0, 0, 0, 1.000)\",\"width\":1},\"size\":8},\"zmax\":0.1,\"y\":[0.8546943005658045,0.6642194310670083,0.22416677269118204,0.12312041458349997,0.11469794716417758,0.08772766088122697,0.042399332866795626,0.02946842818590852,0.023851548199430625,0.020019080198004524],\"type\":\"scatter\",\"hoverinfo\":\"text\"}], {\"showlegend\":true,\"xaxis\":{\"showticklabels\":true,\"gridwidth\":0.5,\"tickvals\":[2.0,4.0,6.0,8.0,10.0],\"visible\":true,\"ticks\":\"inside\",\"range\":[0.73,10.27],\"domain\":[0.15795056867891513,0.9934383202099738],\"tickmode\":\"array\",\"linecolor\":\"rgba(0, 0, 0, 1.000)\",\"showgrid\":true,\"title\":\"Scale (Log scale)\",\"mirror\":false,\"tickangle\":0,\"showline\":true,\"gridcolor\":\"rgba(0, 0, 0, 0.100)\",\"titlefont\":{\"color\":\"rgba(0, 0, 0, 1.000)\",\"family\":\"Helvetica\",\"size\":21},\"tickcolor\":\"rgb(0, 0, 0)\",\"ticktext\":[\"2\",\"4\",\"6\",\"8\",\"10\"],\"zeroline\":false,\"type\":\"-\",\"tickfont\":{\"color\":\"rgba(0, 0, 0, 1.000)\",\"family\":\"Helvetica\",\"size\":13},\"zerolinecolor\":\"rgba(0, 0, 0, 1.000)\",\"anchor\":\"y1\"},\"paper_bgcolor\":\"rgba(255, 255, 255, 1.000)\",\"annotations\":[],\"height\":400,\"margin\":{\"l\":0,\"b\":20,\"r\":0,\"t\":20},\"plot_bgcolor\":\"rgba(255, 255, 255, 1.000)\",\"yaxis\":{\"showticklabels\":true,\"gridwidth\":0.5,\"tickvals\":[0.0031622776601683794,0.01,0.03162277660168379,0.1,0.31622776601683794,1.0],\"visible\":true,\"ticks\":\"inside\",\"range\":[-2.5920069168598685,0.018558320512076558],\"domain\":[0.09317585301837272,0.9901574803149606],\"tickmode\":\"array\",\"linecolor\":\"rgba(0, 0, 0, 1.000)\",\"showgrid\":true,\"title\":\"Average Distortion (Log scale)\",\"mirror\":false,\"tickangle\":0,\"showline\":true,\"gridcolor\":\"rgba(0, 0, 0, 0.100)\",\"titlefont\":{\"color\":\"rgba(0, 0, 0, 1.000)\",\"family\":\"Helvetica\",\"size\":21},\"tickcolor\":\"rgb(0, 0, 0)\",\"ticktext\":[\"10^-2.5\",\"10^-2.0\",\"10^-1.5\",\"10^-1.0\",\"10^-0.5\",\"10^0.0\"],\"zeroline\":false,\"type\":\"log\",\"tickfont\":{\"color\":\"rgba(0, 0, 0, 1.000)\",\"family\":\"Helvetica\",\"size\":13},\"zerolinecolor\":\"rgba(0, 0, 0, 1.000)\",\"anchor\":\"x1\"},\"legend\":{\"tracegroupgap\":0,\"bordercolor\":\"rgba(0, 0, 0, 1.000)\",\"bgcolor\":\"rgba(255, 255, 255, 1.000)\",\"font\":{\"color\":\"rgba(0, 0, 0, 1.000)\",\"family\":\"Helvetica\",\"size\":13},\"y\":1.0,\"x\":1.0},\"width\":600});\n",
       "    </script>\n"
      ]
     },
     "execution_count": 67,
     "metadata": {},
     "output_type": "execute_result"
    }
   ],
   "source": [
    "plot(collect(1:10),dist1,label=\"TreeRep\", lc = :blue, linewidth = 2)\n",
    "plot!(collect(1:10),dist2,label=\"NJ\", lc = :red, linewidth = 2)\n",
    "plot!(collect(1:10),dist3,label=\"ConstructTree\", lc = :green, linewidth = 2)\n",
    "plot!(collect(1:10),dist5,label=\"MST : Complete\", lc = :indigo, linewidth = 2)\n",
    "plot!(collect(1:10),dist4,label=\"MST : KNN 10\", lc = :darkorange, linewidth = 2)\n",
    "plot!(collect(1:10),dist7,label=\"Lorentz Maps\", lc = :pink, linewidth = 2)\n",
    "plot!(collect(1:10),dist9,label=\"PT\", lc = :black, linewidth = 2)\n",
    "scatter!(collect(1:10),dist1,label=\"TreeRep\", shape=:circle, mc = :blue)\n",
    "scatter!(collect(1:10),dist2,label=\"NJ\",shape=:cross, mc = :red)\n",
    "scatter!(collect(1:10),dist3,label=\"ConstructTree\", shape =:xcross, mc = :green)\n",
    "scatter!(collect(1:10),dist4,label=\"MST : KNN 10\", shape =:vline, mc = :darkorange)\n",
    "scatter!(collect(1:10),dist5,label=\"MST : Complete\", shape =:diamond, mc = :indigo)\n",
    "scatter!(collect(1:10),dist7,label=\"Lorentz Maps\", shape = :square, mc = :pink)\n",
    "scatter!(collect(1:10),dist9,label=\"PT\", shape = :dtriangle, mc = :black)\n",
    "plot!(xlabel = \"Scale (Log scale)\",ylabel = \"Average Distortion (Log scale)\",yscale=:log; myfonts...)"
   ]
  },
  {
   "cell_type": "code",
   "execution_count": null,
   "metadata": {},
   "outputs": [],
   "source": [
    "dist1"
   ]
  },
  {
   "cell_type": "code",
   "execution_count": 16,
   "metadata": {},
   "outputs": [
    {
     "data": {
      "text/plain": [
       "1-element Array{Symbol,1}:\n",
       " :dist7"
      ]
     },
     "execution_count": 16,
     "metadata": {},
     "output_type": "execute_result"
    }
   ],
   "source": [
    "@load \"dist6.jld2\" dist6\n",
    "@load \"dist7.jld2\" dist7"
   ]
  },
  {
   "cell_type": "code",
   "execution_count": 17,
   "metadata": {},
   "outputs": [
    {
     "data": {
      "text/plain": [
       "1-element Array{Symbol,1}:\n",
       " :dist8"
      ]
     },
     "execution_count": 17,
     "metadata": {},
     "output_type": "execute_result"
    }
   ],
   "source": [
    "@load \"dist8.jld2\" dist8"
   ]
  },
  {
   "cell_type": "code",
   "execution_count": 18,
   "metadata": {},
   "outputs": [
    {
     "data": {
      "text/plain": [
       "1-element Array{Symbol,1}:\n",
       " :dist9"
      ]
     },
     "execution_count": 18,
     "metadata": {},
     "output_type": "execute_result"
    }
   ],
   "source": [
    "@load \"dist9.jld2\" dist9"
   ]
  },
  {
   "cell_type": "code",
   "execution_count": 107,
   "metadata": {},
   "outputs": [
    {
     "data": {
      "text/plain": [
       "10-element Array{Float64,1}:\n",
       " 0.8546943005658045  \n",
       " 0.6642194310670083  \n",
       " 0.22416677269118204 \n",
       " 0.12312041458349997 \n",
       " 0.11469794716417758 \n",
       " 0.08772766088122697 \n",
       " 0.042399332866795626\n",
       " 0.02946842818590852 \n",
       " 0.023851548199430625\n",
       " 0.020019080198004524"
      ]
     },
     "execution_count": 107,
     "metadata": {},
     "output_type": "execute_result"
    }
   ],
   "source": [
    "dist8"
   ]
  },
  {
   "cell_type": "code",
   "execution_count": 108,
   "metadata": {},
   "outputs": [
    {
     "data": {
      "text/plain": [
       "10-element Array{Float64,1}:\n",
       " 0.8546943005658045  \n",
       " 0.6642194310670083  \n",
       " 0.22416677269118204 \n",
       " 0.12312041458349997 \n",
       " 0.11469794716417758 \n",
       " 0.08772766088122697 \n",
       " 0.042399332866795626\n",
       " 0.02946842818590852 \n",
       " 0.023851548199430625\n",
       " 0.020019080198004524"
      ]
     },
     "execution_count": 108,
     "metadata": {},
     "output_type": "execute_result"
    }
   ],
   "source": [
    "dist9"
   ]
  },
  {
   "cell_type": "code",
   "execution_count": null,
   "metadata": {},
   "outputs": [],
   "source": []
  },
  {
   "cell_type": "code",
   "execution_count": null,
   "metadata": {},
   "outputs": [],
   "source": []
  },
  {
   "cell_type": "code",
   "execution_count": null,
   "metadata": {},
   "outputs": [],
   "source": []
  }
 ],
 "metadata": {
  "@webio": {
   "lastCommId": null,
   "lastKernelId": null
  },
  "kernelspec": {
   "display_name": "Julia 0.7.0",
   "language": "julia",
   "name": "julia-0.7"
  },
  "language_info": {
   "file_extension": ".jl",
   "mimetype": "application/julia",
   "name": "julia",
   "version": "0.7.0"
  }
 },
 "nbformat": 4,
 "nbformat_minor": 2
}
