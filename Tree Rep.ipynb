{
 "cells": [
  {
   "cell_type": "code",
   "execution_count": 1,
   "metadata": {},
   "outputs": [],
   "source": [
    "#Include\n",
    "using LightGraphs, SparseArrays, SimpleWeightedGraphs\n",
    "using Statistics, BenchmarkTools, LinearAlgebra, ProgressMeter\n",
    "using Base.Threads, PhyloNetworks\n",
    "using Base.GC, JLD2, FileIO\n",
    "using Random"
   ]
  },
  {
   "cell_type": "code",
   "execution_count": 2,
   "metadata": {
    "code_folding": [
     0
    ]
   },
   "outputs": [
    {
     "name": "stdout",
     "output_type": "stream",
     "text": [
      "Number of threads = 8\n",
      "  0.378807 seconds\n",
      "  0.201988 seconds (539 allocations: 35.440 KiB)\n",
      "  1.002391 seconds\n",
      "  0.228819 seconds (1 allocation: 48 bytes)\n"
     ]
    }
   ],
   "source": [
    "function tm()\n",
    "    println(\"Number of threads = $(nthreads())\")\n",
    "\n",
    "    # sin1(x::Float64) = ccall((:sin, Base.Math.libm), Float64, (Float64,), x)\n",
    "    # cos1(x::Float64) = ccall((:cos, Base.Math.libm), Float64, (Float64,), x)\n",
    "    sin1(x::Float64) = ccall(:sin, Float64, (Float64,), x)\n",
    "    cos1(x::Float64) = ccall(:cos, Float64, (Float64,), x)\n",
    "\n",
    "    function test1!(y, x)\n",
    "        # @assert length(y) == length(x)\n",
    "        for i = 1:length(x)\n",
    "            y[i] = sin1(x[i])^2 + cos1(x[i])^2\n",
    "        end\n",
    "        y\n",
    "    end\n",
    "\n",
    "    function testn!(y::Vector{Float64}, x::Vector{Float64})\n",
    "        # @assert length(y) == length(x)\n",
    "        Threads.@threads for i = 1:length(x)\n",
    "            y[i] = sin1(x[i])^2 + cos1(x[i])^2\n",
    "        end\n",
    "        y\n",
    "    end\n",
    "    n = 10^7\n",
    "    x = rand(n)\n",
    "    y = zeros(n)\n",
    "    @time test1!(y, x)\n",
    "    @time testn!(y, x)\n",
    "    @time test1!(y, x)\n",
    "    @time testn!(y, x);\n",
    "    flush(stdout)\n",
    "end\n",
    "\n",
    "tm()"
   ]
  },
  {
   "cell_type": "code",
   "execution_count": 3,
   "metadata": {
    "code_folding": []
   },
   "outputs": [
    {
     "data": {
      "text/plain": [
       "read_tree (generic function with 1 method)"
      ]
     },
     "execution_count": 3,
     "metadata": {},
     "output_type": "execute_result"
    }
   ],
   "source": [
    "function read_tree(filename,c)\n",
    "    lines = readlines(open(filename))\n",
    "    count = Dict()\n",
    "    for i = 1:length(lines)\n",
    "        l = split(lines[i],c)\n",
    "        count[l[1]] = 1 \n",
    "        count[l[2]] = 1\n",
    "    end\n",
    "    \n",
    "    n = length(count)\n",
    "    G = SimpleGraph(n)\n",
    "    for i = 1:length(lines)\n",
    "        l = split(lines[i],c)\n",
    "        add_edge!(G, parse(Int64,l[1])+1,parse(Int64,l[2])+1)\n",
    "    end\n",
    "    \n",
    "    return G\n",
    "end"
   ]
  },
  {
   "cell_type": "code",
   "execution_count": 4,
   "metadata": {
    "code_folding": [
     0,
     4,
     35,
     43,
     60,
     78,
     98,
     182,
     203,
     220,
     238,
     258,
     278,
     338,
     361,
     395,
     413,
     433,
     516
    ]
   },
   "outputs": [
    {
     "data": {
      "text/plain": [
       "zone2_recurse (generic function with 2 methods)"
      ]
     },
     "execution_count": 4,
     "metadata": {},
     "output_type": "execute_result"
    }
   ],
   "source": [
    "function gid(D,w,x,y)\n",
    "    return 0.5*(D[w,x]+D[w,y]-D[x,y])\n",
    "end\n",
    "\n",
    "function metric_to_structure(d,p2,jj)\n",
    "    n,_ = size(d)\n",
    "    global W = zeros(2*n,2*n)\n",
    "    W[1:n,1:n] = d\n",
    "    G = SimpleGraph(n)\n",
    "    \n",
    "    p = randperm(n)\n",
    "    \n",
    "    x = p[1]\n",
    "    y = p[2]\n",
    "    z = p[3]\n",
    "    V = collect(4:n)\n",
    "    for i = 4:n\n",
    "        V[i-3] = p[i]\n",
    "    end\n",
    "    \n",
    "    global nextRoots = collect(2*n:-1:n+1)\n",
    "    \n",
    "    G= recursive_step(G,V,x,y,z,1)\n",
    "    \n",
    "    @show((nv(G),ne(G)))\n",
    "\n",
    "    for i = 1:nv(G)\n",
    "        if has_edge(G,i,i)\n",
    "            rem_edge!(G,i,i)\n",
    "        end\n",
    "    end\n",
    "    \n",
    "    return G,W\n",
    "end\n",
    "\n",
    "function recursive_step(G,V,x,y,z,ztype,tol = 0.000000001)\n",
    "    n = Int(size(W,1)/2)\n",
    "    r = pop!(nextRoots)\n",
    "    add_vertex!(G)\n",
    "    add_edge!(G,x,r)\n",
    "    add_edge!(G,y,r)\n",
    "    add_edge!(G,z,r)\n",
    "    \n",
    "    if ztype == 2\n",
    "        rem_edge!(G,x,y)\n",
    "    end\n",
    "\n",
    "    X1 = []\n",
    "    X2 = []\n",
    "    Y1 = []\n",
    "    Y2 = []\n",
    "    Z1 = []\n",
    "    Z2 = []\n",
    "    R1 = []\n",
    "    \n",
    "    W[r,x] = gid(W,x,y,z)\n",
    "    W[x,r] = W[r,x]\n",
    "    \n",
    "    replaced_root = false\n",
    "    \n",
    "    if abs(W[r,x]) < tol && !replaced_root\n",
    "        replaced_root = true\n",
    "        W[r,x] = 0\n",
    "        W[x,r] = 0\n",
    "        rem_edge!(G,x,r)\n",
    "        rem_edge!(G,y,r)\n",
    "        rem_edge!(G,z,r)\n",
    "        rem_vertex!(G,r)\n",
    "        add_edge!(G,x,y)\n",
    "        add_edge!(G,z,x)\n",
    "        \n",
    "        push!(nextRoots,r)\n",
    "        r = x\n",
    "    end\n",
    "        \n",
    "    W[y,r] = gid(W,y,x,z)\n",
    "    W[r,y] = W[y,r]\n",
    "    \n",
    "    if abs(W[r,y]) < tol && !replaced_root\n",
    "        replaced_root = true\n",
    "        W[r,x] = 0\n",
    "        W[x,r] = 0\n",
    "        W[r,y] = 0\n",
    "        W[y,r] = 0\n",
    "        rem_edge!(G,x,r)\n",
    "        rem_edge!(G,y,r)\n",
    "        rem_edge!(G,z,r)\n",
    "        rem_vertex!(G,r)\n",
    "        add_edge!(G,x,y)\n",
    "        add_edge!(G,z,y)\n",
    "        \n",
    "        push!(nextRoots,r)\n",
    "        r = y\n",
    "    end\n",
    "    \n",
    "    W[r,z] = gid(W,z,x,y)\n",
    "    W[z,r] = W[r,z]\n",
    "    \n",
    "    if abs(W[r,z]) < tol && !replaced_root\n",
    "        replaced_root = true\n",
    "        W[r,x] = 0\n",
    "        W[x,r] = 0\n",
    "        W[r,y] = 0\n",
    "        W[y,r] = 0\n",
    "        W[r,z] = 0\n",
    "        W[z,r] = 0\n",
    "        rem_edge!(G,x,r)\n",
    "        rem_edge!(G,y,r)\n",
    "        rem_edge!(G,z,r)\n",
    "        rem_vertex!(G,r)\n",
    "        add_edge!(G,z,y)\n",
    "        add_edge!(G,z,x)\n",
    "        \n",
    "        push!(nextRoots,r)\n",
    "        r = z\n",
    "    end\n",
    "    \n",
    "    for w in V\n",
    "        a = gid(W,w,x,y)\n",
    "        b = gid(W,w,y,z)\n",
    "        c = gid(W,w,z,x)\n",
    "        \n",
    "        if abs(a-b) < tol && abs(b-c) < tol && abs(c-a) < tol\n",
    "            if a < tol && b < tol && c < tol && !replaced_root\n",
    "                replaced_root = true\n",
    "                W[w,n+1:2*n] = W[r,n+1:2*n] \n",
    "                W[n+1:2*n,w] = W[n+1:2*n,r]\n",
    "                W[:,r] = zeros(2*n)\n",
    "                W[r,:] = zeros(2*n)\n",
    "                rem_edge!(G,x,r)\n",
    "                rem_edge!(G,y,r)\n",
    "                rem_edge!(G,z,r)\n",
    "                rem_vertex!(G,r)\n",
    "                push!(nextRoots,r)\n",
    "                r = w\n",
    "                add_edge!(G,x,r)\n",
    "                add_edge!(G,y,r)\n",
    "                add_edge!(G,z,r)\n",
    "            else\n",
    "                push!(R1,w)\n",
    "                W[w,r] = (a+b+c)/3\n",
    "                W[r,w] = W[w,r]\n",
    "            end\n",
    "        elseif a == maximum([a,b,c])\n",
    "            if abs(W[w,z] - b) < tol || abs(W[w,z] - c) < tol\n",
    "                push!(Z1,w)\n",
    "            else\n",
    "                push!(Z2,w)\n",
    "            end\n",
    "            W[w,r] = a\n",
    "            W[r,w] = a\n",
    "        elseif b == maximum([a,b,c])\n",
    "            if abs(W[w,z] - a) < tol || abs(W[w,z] - c) < tol\n",
    "                push!(X1,w)\n",
    "            else\n",
    "                push!(X2,w)\n",
    "            end\n",
    "            W[w,r] = b\n",
    "            W[r,w] = b\n",
    "        elseif c == maximum([a,b,c])\n",
    "            if abs(W[w,z] - b) < tol || abs(W[w,z] - a) < tol\n",
    "                push!(Y1,w)\n",
    "            else\n",
    "                push!(Y2,w)\n",
    "            end\n",
    "            W[w,r] = c\n",
    "            W[r,w] = c\n",
    "        end\n",
    "    end\n",
    "        \n",
    "    G = zone1_recurse(G,R1,r)\n",
    "    G = zone1_recurse(G,X1,x)\n",
    "    G = zone1_recurse(G,Y1,y)\n",
    "    G = zone1_recurse(G,Z1,z)\n",
    "    \n",
    "    G = zone2_recurse(G,X2,x,r)\n",
    "    G = zone2_recurse(G,Y2,y,r)\n",
    "    G = zone2_recurse(G,Z2,z,r)\n",
    "    \n",
    "    return G\n",
    "end\n",
    "\n",
    "function zone1_recurse(G,V,x,tol = 0.000000001)\n",
    "    ztype = 1 \n",
    "    if length(V) == 0\n",
    "        return G\n",
    "    end\n",
    "    \n",
    "    if length(V) == 1\n",
    "        add_edge!(G,x,V[1])\n",
    "        return G\n",
    "    end\n",
    "    \n",
    "    y = V[1]\n",
    "    z = V[2]\n",
    "    \n",
    "    n = Int(size(W,1)/2)\n",
    "    r = pop!(nextRoots)\n",
    "    add_vertex!(G)\n",
    "    add_edge!(G,x,r)\n",
    "    add_edge!(G,y,r)\n",
    "    add_edge!(G,z,r)\n",
    "    \n",
    "    if ztype == 2\n",
    "        rem_edge!(G,x,y)\n",
    "    end\n",
    "\n",
    "    X1 = [[],[],[],[],[],[],[],[],[],[],[],[],[],[],[],[]]\n",
    "    X2 = [[],[],[],[],[],[],[],[],[],[],[],[],[],[],[],[]]\n",
    "    Y1 = [[],[],[],[],[],[],[],[],[],[],[],[],[],[],[],[]]\n",
    "    Y2 = [[],[],[],[],[],[],[],[],[],[],[],[],[],[],[],[]]\n",
    "    Z1 = [[],[],[],[],[],[],[],[],[],[],[],[],[],[],[],[]]\n",
    "    Z2 = [[],[],[],[],[],[],[],[],[],[],[],[],[],[],[],[]]\n",
    "    R1 = [[],[],[],[],[],[],[],[],[],[],[],[],[],[],[],[]]\n",
    "    \n",
    "    W[r,x] = gid(W,x,y,z)\n",
    "    W[x,r] = W[r,x]\n",
    "    \n",
    "    replaced_root = false\n",
    "    \n",
    "    if abs(W[r,x]) < tol && !replaced_root\n",
    "        replaced_root = true\n",
    "        W[r,x] = 0\n",
    "        W[x,r] = 0\n",
    "        rem_edge!(G,x,r)\n",
    "        rem_edge!(G,y,r)\n",
    "        rem_edge!(G,z,r)\n",
    "        rem_vertex!(G,r)\n",
    "        add_edge!(G,x,y)\n",
    "        add_edge!(G,z,x)\n",
    "        \n",
    "        push!(nextRoots,r)\n",
    "        r = x\n",
    "    end\n",
    "        \n",
    "    W[y,r] = gid(W,y,x,z)\n",
    "    W[r,y] = W[y,r]\n",
    "    \n",
    "    if abs(W[r,y]) < tol && !replaced_root\n",
    "        replaced_root = true\n",
    "        W[r,x] = 0\n",
    "        W[x,r] = 0\n",
    "        W[r,y] = 0\n",
    "        W[y,r] = 0\n",
    "        rem_edge!(G,x,r)\n",
    "        rem_edge!(G,y,r)\n",
    "        rem_edge!(G,z,r)\n",
    "        rem_vertex!(G,r)\n",
    "        add_edge!(G,x,y)\n",
    "        add_edge!(G,z,y)\n",
    "        \n",
    "        push!(nextRoots,r)\n",
    "        r = y\n",
    "    end\n",
    "    \n",
    "    W[r,z] = gid(W,z,x,y)\n",
    "    W[z,r] = W[r,z]\n",
    "    \n",
    "    if abs(W[r,z]) < tol && !replaced_root\n",
    "        replaced_root = true\n",
    "        W[r,x] = 0\n",
    "        W[x,r] = 0\n",
    "        W[r,y] = 0\n",
    "        W[y,r] = 0\n",
    "        W[r,z] = 0\n",
    "        W[z,r] = 0\n",
    "        rem_edge!(G,x,r)\n",
    "        rem_edge!(G,y,r)\n",
    "        rem_edge!(G,z,r)\n",
    "        rem_vertex!(G,r)\n",
    "        add_edge!(G,z,y)\n",
    "        add_edge!(G,z,x)\n",
    "        \n",
    "        push!(nextRoots,r)\n",
    "        r = z\n",
    "    end\n",
    "    \n",
    "    Ṽ = V[3:end]\n",
    "    @inbounds Threads.@threads for w in Ṽ \n",
    "        a = gid(W,w,x,y)\n",
    "        b = gid(W,w,y,z)\n",
    "        c = gid(W,w,z,x)\n",
    "        \n",
    "        if abs(a-b) < tol && abs(b-c) < tol && abs(c-a) < tol\n",
    "            if a < tol && b < tol && c < tol && !replaced_root\n",
    "                replaced_root = true\n",
    "                W[w,n+1:2*n] = W[r,n+1:2*n] \n",
    "                W[n+1:2*n,w] = W[n+1:2*n,r]\n",
    "                W[:,r] = zeros(2*n)\n",
    "                W[r,:] = zeros(2*n)\n",
    "                rem_edge!(G,x,r)\n",
    "                rem_edge!(G,y,r)\n",
    "                rem_edge!(G,z,r)\n",
    "                rem_vertex!(G,r)\n",
    "                push!(nextRoots,r)\n",
    "                r = w\n",
    "                add_edge!(G,x,r)\n",
    "                add_edge!(G,y,r)\n",
    "                add_edge!(G,z,r)\n",
    "            else\n",
    "                push!(R1[Threads.threadid()],w)\n",
    "                W[w,r] = (a+b+c)/3\n",
    "                W[r,w] = W[w,r]\n",
    "            end\n",
    "        elseif a == maximum([a,b,c])\n",
    "            if abs(W[w,z] - b) < tol && abs(W[w,z] - c) < tol\n",
    "                push!(Z1[Threads.threadid()],w)\n",
    "            else\n",
    "                push!(Z2[Threads.threadid()],w)\n",
    "            end\n",
    "            W[w,r] = a\n",
    "            W[r,w] = a\n",
    "        elseif b == maximum([a,b,c])\n",
    "            if abs(W[w,z] - a) < tol && abs(W[w,z] - c) < tol\n",
    "                push!(X1[Threads.threadid()],w)\n",
    "            else\n",
    "                push!(X2[Threads.threadid()],w)\n",
    "            end\n",
    "            W[w,r] = b\n",
    "            W[r,w] = b\n",
    "        elseif c == maximum([a,b,c])\n",
    "            if abs(W[w,z] - b) < tol && abs(W[w,z] - a) < tol\n",
    "                push!(Y1[Threads.threadid()],w)\n",
    "            else\n",
    "                push!(Y2[Threads.threadid()],w)\n",
    "            end\n",
    "            W[w,r] = c\n",
    "            W[r,w] = c\n",
    "        end\n",
    "    end\n",
    "    \n",
    "    R1p = R1[1]\n",
    "    X1p = X1[1]\n",
    "    Y1p = Y1[1]\n",
    "    Z1p = Z1[1]\n",
    "    X2p = X2[1]\n",
    "    Y2p = Y2[1]\n",
    "    Z2p = Z2[1]\n",
    "    for i = 2:16\n",
    "        R1p = append!(R1p,R1[i])\n",
    "        X1p = append!(X1p,X1[i])\n",
    "        Y1p = append!(Y1p,Y1[i])\n",
    "        Z1p = append!(Z1p,Z1[i])\n",
    "        X2p = append!(X2p,X2[i])\n",
    "        Y2p = append!(Y2p,Y2[i])\n",
    "        Z2p = append!(Z2p,Z2[i])\n",
    "    end\n",
    "        \n",
    "        \n",
    "    G = zone1_recurse(G,R1p,r)\n",
    "    G = zone1_recurse(G,X1p,x)\n",
    "    G = zone1_recurse(G,Y1p,y)\n",
    "    G = zone1_recurse(G,Z1p,z)\n",
    "    \n",
    "    G = zone2_recurse(G,X2p,x,r)\n",
    "    G = zone2_recurse(G,Y2p,y,r)\n",
    "    G = zone2_recurse(G,Z2p,z,r)\n",
    "    \n",
    "    return G\n",
    "end\n",
    "\n",
    "function zone2_recurse(G,V,x,y,tol = 0.000000001)\n",
    "    ztype = 2\n",
    "    if length(V) == 0\n",
    "        return G\n",
    "    end\n",
    "    \n",
    "    p = sortperm(W[y,V])\n",
    "\n",
    "    z = V[p[1]]\n",
    "    \n",
    "    n = Int(size(W,1)/2)\n",
    "    r = pop!(nextRoots)\n",
    "    add_vertex!(G)\n",
    "    add_edge!(G,x,r)\n",
    "    add_edge!(G,y,r)\n",
    "    add_edge!(G,z,r)\n",
    "    \n",
    "    if ztype == 2\n",
    "        rem_edge!(G,x,y)\n",
    "    end\n",
    "\n",
    "    X1 = [[],[],[],[],[],[],[],[],[],[],[],[],[],[],[],[]]\n",
    "    X2 = [[],[],[],[],[],[],[],[],[],[],[],[],[],[],[],[]]\n",
    "    Y1 = [[],[],[],[],[],[],[],[],[],[],[],[],[],[],[],[]]\n",
    "    Y2 = [[],[],[],[],[],[],[],[],[],[],[],[],[],[],[],[]]\n",
    "    Z1 = [[],[],[],[],[],[],[],[],[],[],[],[],[],[],[],[]]\n",
    "    Z2 = [[],[],[],[],[],[],[],[],[],[],[],[],[],[],[],[]]\n",
    "    R1 = [[],[],[],[],[],[],[],[],[],[],[],[],[],[],[],[]]\n",
    "    \n",
    "    W[r,x] = gid(W,x,y,z)\n",
    "    W[x,r] = W[r,x]\n",
    "    \n",
    "    replaced_root = false\n",
    "    \n",
    "    if abs(W[r,x]) < tol && !replaced_root\n",
    "        replaced_root = true\n",
    "        W[r,x] = 0\n",
    "        W[x,r] = 0\n",
    "        rem_edge!(G,x,r)\n",
    "        rem_edge!(G,y,r)\n",
    "        rem_edge!(G,z,r)\n",
    "        rem_vertex!(G,r)\n",
    "        add_edge!(G,x,y)\n",
    "        add_edge!(G,z,x)\n",
    "        \n",
    "        push!(nextRoots,r)\n",
    "        r = x\n",
    "    end\n",
    "        \n",
    "    W[y,r] = gid(W,y,x,z)\n",
    "    W[r,y] = W[y,r]\n",
    "    \n",
    "    if abs(W[r,y]) < tol && !replaced_root\n",
    "        replaced_root = true\n",
    "        W[r,x] = 0\n",
    "        W[x,r] = 0\n",
    "        W[r,y] = 0\n",
    "        W[y,r] = 0\n",
    "        rem_edge!(G,x,r)\n",
    "        rem_edge!(G,y,r)\n",
    "        rem_edge!(G,z,r)\n",
    "        rem_vertex!(G,r)\n",
    "        add_edge!(G,x,y)\n",
    "        add_edge!(G,z,y)\n",
    "        \n",
    "        push!(nextRoots,r)\n",
    "        r = y\n",
    "    end\n",
    "    \n",
    "    W[r,z] = gid(W,z,x,y)\n",
    "    W[z,r] = W[r,z]\n",
    "    \n",
    "    if abs(W[r,z]) < tol && !replaced_root\n",
    "        replaced_root = true\n",
    "        W[r,x] = 0\n",
    "        W[x,r] = 0\n",
    "        W[r,y] = 0\n",
    "        W[y,r] = 0\n",
    "        W[r,z] = 0\n",
    "        W[z,r] = 0\n",
    "        rem_edge!(G,x,r)\n",
    "        rem_edge!(G,y,r)\n",
    "        rem_edge!(G,z,r)\n",
    "        rem_vertex!(G,r)\n",
    "        add_edge!(G,z,y)\n",
    "        add_edge!(G,z,x)\n",
    "        \n",
    "        push!(nextRoots,r)\n",
    "        r = z\n",
    "    end\n",
    "    \n",
    "    Ṽ = V[2:end]\n",
    "    for i = 2:length(V)\n",
    "        Ṽ[i-1] = V[p[i]]\n",
    "    end\n",
    "    @inbounds Threads.@threads for w in Ṽ \n",
    "        a = gid(W,w,x,y)\n",
    "        b = gid(W,w,y,z)\n",
    "        c = gid(W,w,z,x)\n",
    "        \n",
    "        if abs(a-b) < tol && abs(b-c) < tol && abs(c-a) < tol\n",
    "            if a < tol && b < tol && c < tol && !replaced_root\n",
    "                replaced_root = true\n",
    "                W[w,n+1:2*n] = W[r,n+1:2*n] \n",
    "                W[n+1:2*n,w] = W[n+1:2*n,r]\n",
    "                W[:,r] = zeros(2*n)\n",
    "                W[r,:] = zeros(2*n)\n",
    "                rem_edge!(G,x,r)\n",
    "                rem_edge!(G,y,r)\n",
    "                rem_edge!(G,z,r)\n",
    "                rem_vertex!(G,r)\n",
    "                push!(nextRoots,r)\n",
    "                r = w\n",
    "                add_edge!(G,x,r)\n",
    "                add_edge!(G,y,r)\n",
    "                add_edge!(G,z,r)\n",
    "            else\n",
    "                push!(R1[Threads.threadid()],w)\n",
    "                W[w,r] = (a+b+c)/3\n",
    "                W[r,w] = W[w,r]\n",
    "            end\n",
    "        elseif a == maximum([a,b,c])\n",
    "            if abs(W[w,z] - b) < tol || abs(W[w,z] - c) < tol\n",
    "                push!(Z1[Threads.threadid()],w)\n",
    "            else\n",
    "                push!(Z2[Threads.threadid()],w)\n",
    "            end\n",
    "            W[w,r] = a\n",
    "            W[r,w] = a\n",
    "        elseif b == maximum([a,b,c])\n",
    "            if abs(W[w,z] - a) < tol || abs(W[w,z] - c) < tol\n",
    "                push!(X1[Threads.threadid()],w)\n",
    "            else\n",
    "                push!(X2[Threads.threadid()],w)\n",
    "            end\n",
    "            W[w,r] = b\n",
    "            W[r,w] = b\n",
    "        elseif c == maximum([a,b,c])\n",
    "            if abs(W[w,z] - b) < tol || abs(W[w,z] - a) < tol\n",
    "                push!(Y1[Threads.threadid()],w)\n",
    "            else\n",
    "                push!(Y2[Threads.threadid()],w)\n",
    "            end\n",
    "            W[w,r] = c\n",
    "            W[r,w] = c\n",
    "        end\n",
    "    end\n",
    "    \n",
    "    R1p = R1[1]\n",
    "    X1p = X1[1]\n",
    "    Y1p = Y1[1]\n",
    "    Z1p = Z1[1]\n",
    "    X2p = X2[1]\n",
    "    Y2p = Y2[1]\n",
    "    Z2p = Z2[1]\n",
    "    for i = 2:16\n",
    "        R1p = append!(R1p,R1[i])\n",
    "        X1p = append!(X1p,X1[i])\n",
    "        Y1p = append!(Y1p,Y1[i])\n",
    "        Z1p = append!(Z1p,Z1[i])\n",
    "        X2p = append!(X2p,X2[i])\n",
    "        Y2p = append!(Y2p,Y2[i])\n",
    "        Z2p = append!(Z2p,Z2[i])\n",
    "    end\n",
    "        \n",
    "        \n",
    "    G = zone1_recurse(G,R1p,r)\n",
    "    G = zone1_recurse(G,X1p,x)\n",
    "    G = zone1_recurse(G,Y1p,y)\n",
    "    G = zone1_recurse(G,Z1p,z)\n",
    "    \n",
    "    G = zone2_recurse(G,X2p,x,r)\n",
    "    G = zone2_recurse(G,Y2p,y,r)\n",
    "    G = zone2_recurse(G,Z2p,z,r)\n",
    "\n",
    "    return G\n",
    "end"
   ]
  },
  {
   "cell_type": "code",
   "execution_count": 5,
   "metadata": {
    "code_folding": [
     0,
     4,
     131,
     309
    ]
   },
   "outputs": [
    {
     "data": {
      "text/plain": [
       "zone2_recurse_2 (generic function with 2 methods)"
      ]
     },
     "execution_count": 5,
     "metadata": {},
     "output_type": "execute_result"
    }
   ],
   "source": [
    "function gid_2(D,w,x,y)\n",
    "    return (D[w,x]+D[w,y]-D[x,y])\n",
    "end\n",
    "\n",
    "function metric_to_tree_struct(D,tol=0.005)\n",
    "    n = size(D,1)\n",
    "    #Dextended = spzeros(2*n-1,2*n-1)\n",
    "    #Dextended[1:n,1:n] = D\n",
    "    G = SimpleGraph(n)\n",
    "    \n",
    "    W = zeros(2*n-1,2*n-1)\n",
    "    \n",
    "    nextRoots = collect(2*n-1:-1:n+1)\n",
    "    \n",
    "    r = pop!(nextRoots)\n",
    "    add_vertex!(G)\n",
    "    \n",
    "    p = ranperm(n)\n",
    "    \n",
    "    x=p[1]\n",
    "    y=p[2]\n",
    "    z=p[3]\n",
    "    \n",
    "    add_edge!(G,r,x)\n",
    "    add_edge!(G,r,y)\n",
    "    add_edge!(G,r,z)\n",
    "    \n",
    "    W[r,x] = gid_2(D,x,y,z)/2\n",
    "    W[x,r] = gid_2(D,x,y,z)/2\n",
    "    \n",
    "    W[y,r] = gid_2(D,y,x,z)/2\n",
    "    W[r,y] = gid_2(D,y,x,z)/2\n",
    "    \n",
    "    \n",
    "    W[r,z] = gid_2(D,z,y,x)/2\n",
    "    W[z,r] = gid_2(D,z,y,x)/2\n",
    "    \n",
    "    #Dextended[r,x] = W[r,x]\n",
    "    #Dextended[x,r] = W[r,x]\n",
    "    #Dextended[y,r] = W[y,r]\n",
    "    #Dextended[r,y] = W[y,r]\n",
    "    #Dextended[z,r] = W[z,r]\n",
    "    #Dextended[r,z] = W[z,r]\n",
    "    \n",
    "    #In Zone type 1\n",
    "    X1 = []\n",
    "    Y1 = []\n",
    "    Z1 = []\n",
    "    \n",
    "    #In Zone type 2\n",
    "    X2 = []\n",
    "    Y2 = []\n",
    "    Z2 = []\n",
    "    \n",
    "    \n",
    "    for i = 4:n\n",
    "        w = p[i]\n",
    "        a = gid_2(D,w,x,y)/2\n",
    "        b = gid_2(D,w,x,z)/2\n",
    "        c = gid_2(D,w,y,z)/2\n",
    "        \n",
    "        if a < tol && b < tol && c < tol\n",
    "            \n",
    "            #D\n",
    "            rem_edge!(G,r,x)\n",
    "            rem_edge!(G,r,y)\n",
    "            rem_edge!(G,r,z)\n",
    "            \n",
    "            W[r,x] = 0\n",
    "            W[x,r] = 0\n",
    "    \n",
    "            W[y,r] = 0\n",
    "            W[r,y] = 0\n",
    "    \n",
    "    \n",
    "            W[r,z] = 0\n",
    "            W[z,r] = 0\n",
    "            \n",
    "            push!(nextRoots,r)\n",
    "            rem_vertex!(G,r)\n",
    "            \n",
    "            r = w\n",
    "            \n",
    "            add_edge!(G,w,x)\n",
    "            add_edge!(G,w,y)\n",
    "            add_edge!(G,w,z)\n",
    "    \n",
    "            W[w,x] = gid_2(D,x,y,z)/2\n",
    "            W[x,w] = gid_2(D,x,y,z)/2\n",
    "    \n",
    "            W[y,w] = gid_2(D,y,x,z)/2\n",
    "            W[w,y] = gid_2(D,y,x,z)/2\n",
    "    \n",
    "            W[w,z] = gid_2(D,z,y,x)/2\n",
    "            W[z,w] = gid_2(D,z,y,x)/2\n",
    "        else\n",
    "            if a == maximum([a,b,c])\n",
    "                if b < D[z,w]\n",
    "                    push!(Z2,(w,b))\n",
    "                else\n",
    "                    push!(Z1,w)\n",
    "                end\n",
    "                    \n",
    "            elseif b == maximum([a,b,c])\n",
    "                if c < D[y,w]\n",
    "                    push!(Y2,(w,c))\n",
    "                else\n",
    "                    push!(Y1,w)\n",
    "                end\n",
    "            else\n",
    "                if a < D[x,w]\n",
    "                    push!(X2,(w,a))\n",
    "                else\n",
    "                    push!(X1,w)\n",
    "                end\n",
    "            end\n",
    "        end\n",
    "    end\n",
    "    \n",
    "    G,W,nextRoots = zone1_recurse_2(G,W,x,X1,nextRoots,D)\n",
    "    G,W,nextRoots = zone1_recurse_2(G,W,y,Y1,nextRoots,D)\n",
    "    G,W,nextRoots = zone1_recurse_2(G,W,z,Z1,nextRoots,D)\n",
    "    \n",
    "    G,W,nextRoots = zone2_recurse_2(G,W,x,r,X2,nextRoots,D)\n",
    "    G,W,nextRoots = zone2_recurse_2(G,W,y,r,Y2,nextRoots,D)\n",
    "    G,W,nextRoots = zone2_recurse_2(G,W,z,r,Z2,nextRoots,D)\n",
    "            \n",
    "    \n",
    "    return G,W\n",
    "end\n",
    "\n",
    "function zone1_recurse_2(G,W,x,V,nextRoots,D,tol=0.005)\n",
    "    n = length(V)\n",
    "    \n",
    "    if n == 0\n",
    "        return G,W,nextRoots\n",
    "    end\n",
    "    \n",
    "    if n == 1\n",
    "        add_edge!(G,x,V[1])\n",
    "        W[x,V[1]] = D[x,V[1]]\n",
    "        W[V[1],x] = D[x,V[1]]\n",
    "        return G,W,nextRoots\n",
    "    end\n",
    "        \n",
    "    r = pop!(nextRoots)\n",
    "    add_vertex!(G)\n",
    "    \n",
    "    y=V[1]\n",
    "    z=V[2]\n",
    "    \n",
    "    add_edge!(G,r,x)\n",
    "    add_edge!(G,r,y)\n",
    "    add_edge!(G,r,z)\n",
    "    \n",
    "    W[r,x] = gid_2(D,x,y,z)/2\n",
    "    W[x,r] = gid_2(D,x,y,z)/2\n",
    "    \n",
    "    if W[r,x] == 0.0\n",
    "        rem_edge!(G,r,x)\n",
    "        rem_edge!(G,r,y)\n",
    "        rem_edge!(G,r,z)\n",
    "        \n",
    "        rem_vertex!(G,r)\n",
    "        push!(nextRoots,r)\n",
    "        \n",
    "        r = x\n",
    "        \n",
    "        add_edge!(G,r,y)\n",
    "        add_edge!(G,r,z)\n",
    "    end\n",
    "    \n",
    "    W[y,r] = gid_2(D,y,x,z)/2\n",
    "    W[r,y] = gid_2(D,y,x,z)/2\n",
    "    \n",
    "    if W[r,y] == 0.0\n",
    "        rem_edge!(G,r,x)\n",
    "        rem_edge!(G,r,y)\n",
    "        rem_edge!(G,r,z)\n",
    "        \n",
    "        rem_vertex!(G,r)\n",
    "        push!(nextRoots,r)\n",
    "        \n",
    "        W[x,y] = W[x,r]\n",
    "        W[y,x] = W[r,x]\n",
    "        \n",
    "        W[x,r] = 0.0\n",
    "        W[r,x] = 0.0\n",
    "        \n",
    "        r = y\n",
    "        \n",
    "        add_edge!(G,r,x)\n",
    "        add_edge!(G,r,z)\n",
    "    end\n",
    "    \n",
    "    W[r,z] = gid_2(D,z,y,x)/2\n",
    "    W[z,r] = gid_2(D,z,y,x)/2\n",
    "    \n",
    "     if W[r,z] == 0.0\n",
    "        push!(nextRoots,r)\n",
    "        \n",
    "        rem_edge!(G,r,z)\n",
    "        rem_edge!(G,r,x)\n",
    "        rem_edge!(G,r,y)\n",
    "        \n",
    "        rem_vertex!(G,r)\n",
    "        \n",
    "        W[r,x] = 0.0\n",
    "        W[x,r] = 0.0\n",
    "        W[y,r] = 0.0\n",
    "        W[r,y] = 0.0\n",
    "        \n",
    "        r = z\n",
    "        \n",
    "        add_edge!(G,z,x)\n",
    "        add_edge!(G,z,y)\n",
    "        \n",
    "        W[r,x] = D[x,z]\n",
    "        W[x,r] = D[x,z]\n",
    "        W[r,y] = D[y,z]\n",
    "        W[y,r] = D[y,z]\n",
    "        \n",
    "    end\n",
    "        \n",
    "    \n",
    "    #In Zone type 1\n",
    "    X1 = []\n",
    "    Y1 = []\n",
    "    Z1 = []\n",
    "    \n",
    "    #In Zone type 2\n",
    "    X2 = []\n",
    "    Y2 = []\n",
    "    Z2 = []\n",
    "    \n",
    "    for i = 3:n\n",
    "        w = V[i]\n",
    "        a = gid_2(D,w,x,y)/2\n",
    "        b = gid_2(D,w,x,z)/2\n",
    "        c = gid_2(D,w,y,z)/2\n",
    "        \n",
    "        if a < tol && b < tol && c < tol\n",
    "            numroots = 0\n",
    "            \n",
    "            rem_edge!(G,r,x)\n",
    "            rem_edge!(G,r,y)\n",
    "            rem_edge!(G,r,z)\n",
    "            \n",
    "            W[r,x] = 0\n",
    "            W[x,r] = 0\n",
    "    \n",
    "            W[y,r] = 0\n",
    "            W[r,y] = 0\n",
    "    \n",
    "            W[r,z] = 0\n",
    "            W[z,r] = 0\n",
    "            \n",
    "            rem_vertex!(G,r)\n",
    "            \n",
    "            push!(nextRoots,r)\n",
    "            \n",
    "            r = w\n",
    "            \n",
    "            add_edge!(G,w,x)\n",
    "            add_edge!(G,w,y)\n",
    "            add_edge!(G,w,z)\n",
    "    \n",
    "            W[w,x] = gid_2(D,x,y,z)/2\n",
    "            W[x,w] = gid_2(D,x,y,z)/2\n",
    "    \n",
    "            W[y,w] = gid_2(D,y,x,z)/2\n",
    "            W[w,y] = gid_2(D,y,x,z)/2\n",
    "    \n",
    "            W[w,z] = gid_2(D,z,y,x)/2\n",
    "            W[z,w] = gid_2(D,z,y,x)/2\n",
    "        else\n",
    "            if a == maximum([a,b,c])\n",
    "                if b < D[z,w]\n",
    "                    push!(Z2,(w,b))\n",
    "                else\n",
    "                    push!(Z1,w)\n",
    "                end\n",
    "                    \n",
    "            elseif b == maximum([a,b,c])\n",
    "                if c < D[y,w]\n",
    "                    push!(Y2,(w,c))\n",
    "                else\n",
    "                    push!(Y1,w)\n",
    "                end\n",
    "            else\n",
    "                if a < D[x,w]\n",
    "                    push!(X2,(w,a))\n",
    "                else\n",
    "                    push!(X1,w)\n",
    "                end\n",
    "            end\n",
    "        end\n",
    "    end\n",
    "    \n",
    "    G,W,nextRoots = zone1_recurse_2(G,W,y,Y1,nextRoots,D)\n",
    "    G,W,nextRoots = zone1_recurse_2(G,W,z,Z1,nextRoots,D)\n",
    "    \n",
    "    G,W,nextRoots = zone2_recurse_2(G,W,x,r,X2,nextRoots,D)\n",
    "    G,W,nextRoots = zone2_recurse_2(G,W,y,r,Y2,nextRoots,D)\n",
    "    G,W,nextRoots = zone2_recurse_2(G,W,z,r,Z2,nextRoots,D)\n",
    "    \n",
    "    return G,W,nextRoots\n",
    "end\n",
    "\n",
    "function zone2_recurse_2(G,W,x,y,V,nextRoots,D,tol=0.005)\n",
    "    n = length(V)\n",
    "    if n == 0\n",
    "        return G,W,nextRoots\n",
    "    end\n",
    "    \n",
    "    dxy = W[x,y]\n",
    "    \n",
    "    r = pop!(nextRoots)\n",
    "    add_vertex!(G)\n",
    "    \n",
    "    dists = zeros(length(V))\n",
    "    for i = 1:length(V)\n",
    "        a,gya = V[i]\n",
    "        dxa = D[x,a]\n",
    "        dya = gya + (dxy - (dxa - gya))\n",
    "        dists[i] = (dxy + dya - dxa)/2\n",
    "    end\n",
    "    \n",
    "    p = sortperm(dists)\n",
    "        \n",
    "    \n",
    "    z,gyz = V[p[1]]\n",
    "    \n",
    "    dxz = D[x,z]\n",
    "    dyz = gyz + (dxy - (dxz - gyz))\n",
    "    \n",
    "    \n",
    "    rem_edge!(G,x,y)\n",
    "    \n",
    "    add_edge!(G,r,x)\n",
    "    add_edge!(G,r,y)\n",
    "    add_edge!(G,r,z)\n",
    "    \n",
    "    W[r,x] = (dxy + dxz - dyz)/2\n",
    "    W[x,r] = (dxy + dxz - dyz)/2\n",
    "    \n",
    "    W[y,r] = (dxy + dyz - dxz)/2\n",
    "    W[r,y] = (dxy + dyz - dxz)/2\n",
    "    \n",
    "    W[r,z] = (dxz + dyz - dxy)/2\n",
    "    W[z,r] = (dxz + dyz - dxy)/2\n",
    "    \n",
    "    if W[r,z] == 0.0\n",
    "        push!(nextRoots,r)\n",
    "        \n",
    "        rem_edge!(G,r,z)\n",
    "        rem_edge!(G,r,x)\n",
    "        rem_edge!(G,r,y)\n",
    "        \n",
    "        rem_vertex!(G,r)\n",
    "        \n",
    "        W[r,x] = 0.0\n",
    "        W[x,r] = 0.0\n",
    "        W[y,r] = 0.0\n",
    "        W[r,y] = 0.0\n",
    "        \n",
    "        r = z\n",
    "        \n",
    "        add_edge!(G,z,x)\n",
    "        add_edge!(G,z,y)\n",
    "        \n",
    "        W[r,x] = D[x,z]\n",
    "        W[x,r] = D[x,z]\n",
    "        W[r,y] = dxy\n",
    "        W[y,r] = dxy\n",
    "        \n",
    "    end\n",
    "        \n",
    "    #In Zone type 1\n",
    "    X1 = []\n",
    "    Y1 = []\n",
    "    Z1 = []\n",
    "    \n",
    "    #In Zone type 2\n",
    "    X2 = []\n",
    "    Y2 = []\n",
    "    Z2 = []\n",
    "    \n",
    "    for i = 2:n\n",
    "        w,gyw = V[p[i]]\n",
    "        dxw = D[x,w]\n",
    "        dzw = D[z,w]\n",
    "        \n",
    "        dyw = gyw + (dxy - (dxw - gyw))\n",
    "        \n",
    "        a = (dxw+dyw-dxy)/2\n",
    "        b = (dxw+dzw-dxz)/2\n",
    "        c = (dyw+dzw-dyz)/2\n",
    "        \n",
    "        if a < tol && b < tol && c < tol\n",
    "            \n",
    "            rem_edge!(G,r,x)\n",
    "            rem_edge!(G,r,y)\n",
    "            rem_edge!(G,r,z)\n",
    "            \n",
    "            W[r,x] = 0\n",
    "            W[x,r] = 0\n",
    "    \n",
    "            W[y,r] = 0\n",
    "            W[r,y] = 0\n",
    "    \n",
    "    \n",
    "            W[r,z] = 0\n",
    "            W[z,r] = 0\n",
    "            \n",
    "            rem_vertex!(G,r)\n",
    "            push!(nextRoots,r)\n",
    "            \n",
    "            r = w\n",
    "            \n",
    "            add_edge!(G,w,x)\n",
    "            add_edge!(G,w,y)\n",
    "            add_edge!(G,w,z)\n",
    "    \n",
    "            W[r,x] = (dxy + dxz - dyz)/2\n",
    "            W[x,r] = (dxy + dxz - dyz)/2\n",
    "    \n",
    "            W[y,r] = (dxy + dyz - dxz)/2\n",
    "            W[r,y] = (dxy + dyz - dxz)/2\n",
    "    \n",
    "            W[r,z] = (dxz + dyz - dxy)/2\n",
    "            W[z,r] = (dxz + dyz - dxy)/2\n",
    "        else\n",
    "            if a == maximum([a,b,c])\n",
    "                if b < dzw\n",
    "                    push!(Z2,(w,b))\n",
    "                else\n",
    "                    push!(Z1,w)\n",
    "                end\n",
    "                    \n",
    "            #elseif b == maximum([a,b,c])\n",
    "            #    if c < dyw\n",
    "            #        @show((a,b,c))\n",
    "            #        push!(Y2,(w,c))\n",
    "            #    else\n",
    "            #        push!(Y1,w)\n",
    "            #    end\n",
    "            else\n",
    "                if a < dxw\n",
    "                    push!(X2,(w,a))\n",
    "                else\n",
    "                    push!(X1,w)\n",
    "                end\n",
    "            end\n",
    "        end\n",
    "    end\n",
    "    \n",
    "    G,W,nextRoots = zone1_recurse_2(G,W,z,Z1,nextRoots,D)\n",
    "    \n",
    "    G,W,nextRoots = zone2_recurse_2(G,W,x,r,X2,nextRoots,D)\n",
    "    G,W,nextRoots = zone2_recurse_2(G,W,y,r,Y2,nextRoots,D)\n",
    "    G,W,nextRoots = zone2_recurse_2(G,W,z,r,Z2,nextRoots,D)\n",
    "    \n",
    "    return G,W,nextRoots\n",
    "end  "
   ]
  },
  {
   "cell_type": "code",
   "execution_count": 6,
   "metadata": {
    "code_folding": [
     0,
     23,
     37
    ]
   },
   "outputs": [
    {
     "data": {
      "text/plain": [
       "parallel_dp_shortest_paths (generic function with 1 method)"
      ]
     },
     "execution_count": 6,
     "metadata": {},
     "output_type": "execute_result"
    }
   ],
   "source": [
    "function MAP(Dnew,G)\n",
    "    n = nv(G)\n",
    "    map = 0\n",
    "    for i = 1:n\n",
    "        N = neighborhood(G,i,1)\n",
    "        D = Dnew[:,i]\n",
    "        p = sortperm(D)\n",
    "        P = Dict()\n",
    "        for j = 1:n\n",
    "            P[p[j]] = j\n",
    "        end\n",
    "        d = length(N)\n",
    "        for j = 1:d\n",
    "            R = P[N[j]]\n",
    "            a = Set(N)\n",
    "            b = Set(p[1:R])\n",
    "            map += length(intersect(a,b))/(d*R)\n",
    "        end\n",
    "    end\n",
    "    \n",
    "    return map/n\n",
    "end\n",
    "\n",
    "function avg_distortion(Dnew,Dold)\n",
    "    n,n = size(Dnew)\n",
    "    d = 0\n",
    "    for i = 1:n\n",
    "        for j = 1:i-1\n",
    "            d += abs(Dnew[i,j]-Dold[i,j])/Dold[i,j]\n",
    "        end\n",
    "    end\n",
    "    \n",
    "    return 2*d/(n*(n-1))\n",
    "end\n",
    "\n",
    "using ProgressMeter\n",
    "\n",
    "function parallel_dp_shortest_paths(g,distmx::AbstractMatrix{T}) where T <: Real\n",
    "    n_v = nv(g)\n",
    "    N = n_v\n",
    "    p = Progress(N);\n",
    "    update!(p,0)\n",
    "    jj = Threads.Atomic{Int}(0)\n",
    "\n",
    "    l = Threads.SpinLock()\n",
    "\n",
    "    # TODO: remove `Int` once julialang/#23029 / #23032 are resolved\n",
    "    dists   = Array{T,2}(undef,(Int(n_v), Int(n_v)))\n",
    "    #parents = Array{U,2}(undef,(Int(n_v), Int(n_v)))\n",
    "\n",
    "    state = LightGraphs.dijkstra_shortest_paths(g,[1],distmx)\n",
    "    dists[1, :] = state.dists \n",
    "        \n",
    "    Threads.@threads for i in 2:n_v\n",
    "        state = LightGraphs.dijkstra_shortest_paths(g,[i],distmx)\n",
    "        dists[i, :] = state.dists\n",
    "        #parents[i, :] = state.parents\n",
    "        Threads.atomic_add!(jj, 1)\n",
    "        Threads.threadid() == 1 && update!(p, jj[])\n",
    "    end\n",
    "\n",
    "    #result = MultipleDijkstraState(dists, parents)\n",
    "    return dists\n",
    "end"
   ]
  },
  {
   "cell_type": "code",
   "execution_count": 7,
   "metadata": {},
   "outputs": [
    {
     "name": "stdout",
     "output_type": "stream",
     "text": [
      "(n, E) = (9436, 30917)\n",
      "is_connected(G) = false\n"
     ]
    }
   ],
   "source": [
    "G = read_tree(\"./../hyperbolics-master/data/edges/bio-grid-human.edges\",\",\")\n",
    "n = nv(G)\n",
    "E = ne(G)\n",
    "@show((n,E));\n",
    "@show(is_connected(G));"
   ]
  },
  {
   "cell_type": "code",
   "execution_count": 8,
   "metadata": {},
   "outputs": [
    {
     "name": "stdout",
     "output_type": "stream",
     "text": [
      "is_connected(G) = false\n"
     ]
    }
   ],
   "source": [
    "connected_components(G)\n",
    "add_edge!(G,1,2)\n",
    "@show(is_connected(G));"
   ]
  },
  {
   "cell_type": "code",
   "execution_count": 9,
   "metadata": {},
   "outputs": [
    {
     "name": "stderr",
     "output_type": "stream",
     "text": [
      "\u001b[32mProgress:  96%|███████████████████████████████████████▌ |  ETA: 0:00:01\u001b[39m"
     ]
    },
    {
     "name": "stdout",
     "output_type": "stream",
     "text": [
      " 31.987685 seconds (3.83 M allocations: 9.602 GiB, 5.06% gc time)\n"
     ]
    }
   ],
   "source": [
    "@time A = parallel_dp_shortest_paths(G, adjacency_matrix(G));"
   ]
  },
  {
   "cell_type": "code",
   "execution_count": 10,
   "metadata": {},
   "outputs": [
    {
     "data": {
      "text/plain": [
       "0"
      ]
     },
     "execution_count": 10,
     "metadata": {},
     "output_type": "execute_result"
    }
   ],
   "source": [
    "global p2 = Progress(nv(G))\n",
    "global jj = 0"
   ]
  },
  {
   "cell_type": "code",
   "execution_count": 11,
   "metadata": {
    "scrolled": false
   },
   "outputs": [
    {
     "name": "stdout",
     "output_type": "stream",
     "text": [
      "(nv(G), ne(G)) = (11461, 11472)\n"
     ]
    },
    {
     "name": "stderr",
     "output_type": "stream",
     "text": [
      "\u001b[32mProgress:  98%|████████████████████████████████████████▏|  ETA: 0:00:01\u001b[39m"
     ]
    },
    {
     "name": "stdout",
     "output_type": "stream",
     "text": [
      "(distort[j], map2[j]) = (0.40820779011463737, 0.494638114869993)\n"
     ]
    },
    {
     "name": "stderr",
     "output_type": "stream",
     "text": [
      "\r",
      "\u001b[32mProgress:   5%|██                                       |  ETA: 0:42:38\u001b[39m"
     ]
    },
    {
     "name": "stdout",
     "output_type": "stream",
     "text": [
      "(nv(G), ne(G)) = (12335, 12344)\n"
     ]
    },
    {
     "name": "stderr",
     "output_type": "stream",
     "text": [
      "\u001b[32mProgress:  98%|████████████████████████████████████████▍|  ETA: 0:00:01\u001b[39m"
     ]
    },
    {
     "name": "stdout",
     "output_type": "stream",
     "text": [
      "(distort[j], map2[j]) = (0.6068646616336401, 0.5595216327865279)\n"
     ]
    },
    {
     "name": "stderr",
     "output_type": "stream",
     "text": [
      "\r",
      "\u001b[32mProgress:  10%|████▏                                    |  ETA: 0:37:31\u001b[39m"
     ]
    },
    {
     "name": "stdout",
     "output_type": "stream",
     "text": [
      "(nv(G), ne(G)) = (12621, 12642)\n"
     ]
    },
    {
     "name": "stderr",
     "output_type": "stream",
     "text": [
      "\u001b[32mProgress:  99%|████████████████████████████████████████▌|  ETA: 0:00:01\u001b[39m"
     ]
    },
    {
     "name": "stdout",
     "output_type": "stream",
     "text": [
      "(distort[j], map2[j]) = (0.5882331221810032, 0.5237858816361756)\n"
     ]
    },
    {
     "name": "stderr",
     "output_type": "stream",
     "text": [
      "\r",
      "\u001b[32mProgress:  15%|██████▏                                  |  ETA: 0:36:47\u001b[39m"
     ]
    },
    {
     "name": "stdout",
     "output_type": "stream",
     "text": [
      "(nv(G), ne(G)) = (12093, 12121)\n"
     ]
    },
    {
     "name": "stderr",
     "output_type": "stream",
     "text": [
      "\u001b[32mProgress:  88%|████████████████████████████████████     |  ETA: 0:00:06\u001b[39m"
     ]
    },
    {
     "name": "stdout",
     "output_type": "stream",
     "text": [
      "(distort[j], map2[j]) = (0.4434893041434061, 0.5475911034399775)\n"
     ]
    },
    {
     "name": "stderr",
     "output_type": "stream",
     "text": [
      "\r",
      "\u001b[32mProgress:  20%|████████▎                                |  ETA: 0:34:09\u001b[39m"
     ]
    },
    {
     "name": "stdout",
     "output_type": "stream",
     "text": [
      "(nv(G), ne(G)) = (12295, 12308)\n"
     ]
    },
    {
     "name": "stderr",
     "output_type": "stream",
     "text": [
      "\u001b[32mProgress:  99%|████████████████████████████████████████▋|  ETA: 0:00:00\u001b[39m"
     ]
    },
    {
     "name": "stdout",
     "output_type": "stream",
     "text": [
      "(distort[j], map2[j]) = (0.5260447598191696, 0.535551685484235)\n"
     ]
    },
    {
     "name": "stderr",
     "output_type": "stream",
     "text": [
      "\r",
      "\u001b[32mProgress:  25%|██████████▎                              |  ETA: 0:32:06\u001b[39m"
     ]
    },
    {
     "name": "stdout",
     "output_type": "stream",
     "text": [
      "(nv(G), ne(G)) = (12240, 12251)\n"
     ]
    },
    {
     "name": "stderr",
     "output_type": "stream",
     "text": [
      "\u001b[32mProgress:  99%|████████████████████████████████████████▊|  ETA: 0:00:00\u001b[39m"
     ]
    },
    {
     "name": "stdout",
     "output_type": "stream",
     "text": [
      "(distort[j], map2[j]) = (0.5731448257192537, 0.5604890892410677)\n"
     ]
    },
    {
     "name": "stderr",
     "output_type": "stream",
     "text": [
      "\r",
      "\u001b[32mProgress:  30%|████████████▎                            |  ETA: 0:30:14\u001b[39m"
     ]
    },
    {
     "name": "stdout",
     "output_type": "stream",
     "text": [
      "(nv(G), ne(G)) = (12541, 12550)\n"
     ]
    },
    {
     "name": "stderr",
     "output_type": "stream",
     "text": [
      "\u001b[32mProgress:  98%|████████████████████████████████████████▎|  ETA: 0:00:01\u001b[39m"
     ]
    },
    {
     "name": "stdout",
     "output_type": "stream",
     "text": [
      "(distort[j], map2[j]) = (0.7982515760753828, 0.5725151823038807)\n"
     ]
    },
    {
     "name": "stderr",
     "output_type": "stream",
     "text": [
      "\r",
      "\u001b[32mProgress:  35%|██████████████▍                          |  ETA: 0:27:29\u001b[39m"
     ]
    },
    {
     "name": "stdout",
     "output_type": "stream",
     "text": [
      "(nv(G), ne(G)) = (12237, 12248)\n"
     ]
    },
    {
     "name": "stderr",
     "output_type": "stream",
     "text": [
      "\u001b[32mProgress: 100%|████████████████████████████████████████▉|  ETA: 0:00:00\u001b[39m"
     ]
    },
    {
     "name": "stdout",
     "output_type": "stream",
     "text": [
      "(distort[j], map2[j]) = (0.5398475755700652, 0.5792680377085687)\n"
     ]
    },
    {
     "name": "stderr",
     "output_type": "stream",
     "text": [
      "\r",
      "\u001b[32mProgress:  40%|████████████████▍                        |  ETA: 0:25:44\u001b[39m"
     ]
    },
    {
     "name": "stdout",
     "output_type": "stream",
     "text": [
      "(nv(G), ne(G)) = (12279, 12291)\n"
     ]
    },
    {
     "name": "stderr",
     "output_type": "stream",
     "text": [
      "\u001b[32mProgress:  91%|█████████████████████████████████████▎   |  ETA: 0:00:04\u001b[39m"
     ]
    },
    {
     "name": "stdout",
     "output_type": "stream",
     "text": [
      "(distort[j], map2[j]) = (0.6438092047758115, 0.537917405742136)\n"
     ]
    },
    {
     "name": "stderr",
     "output_type": "stream",
     "text": [
      "\r",
      "\u001b[32mProgress:  45%|██████████████████▌                      |  ETA: 0:23:48\u001b[39m"
     ]
    },
    {
     "name": "stdout",
     "output_type": "stream",
     "text": [
      "(nv(G), ne(G)) = (12429, 12442)\n"
     ]
    },
    {
     "name": "stderr",
     "output_type": "stream",
     "text": [
      "\u001b[32mProgress:  98%|████████████████████████████████████████▎|  ETA: 0:00:01\u001b[39m"
     ]
    },
    {
     "name": "stdout",
     "output_type": "stream",
     "text": [
      "(distort[j], map2[j]) = (0.6424325290500105, 0.575004239910636)\n"
     ]
    },
    {
     "name": "stderr",
     "output_type": "stream",
     "text": [
      "\r",
      "\u001b[32mProgress:  50%|████████████████████▌                    |  ETA: 0:21:36\u001b[39m"
     ]
    },
    {
     "name": "stdout",
     "output_type": "stream",
     "text": [
      "(nv(G), ne(G)) = (11946, 11973)\n"
     ]
    },
    {
     "name": "stderr",
     "output_type": "stream",
     "text": [
      "\u001b[32mProgress:  98%|████████████████████████████████████████ |  ETA: 0:00:01\u001b[39m"
     ]
    },
    {
     "name": "stdout",
     "output_type": "stream",
     "text": [
      "(distort[j], map2[j]) = (0.4703371570642991, 0.5250558283049221)\n"
     ]
    },
    {
     "name": "stderr",
     "output_type": "stream",
     "text": [
      "\r",
      "\u001b[32mProgress:  55%|██████████████████████▌                  |  ETA: 0:19:59\u001b[39m"
     ]
    },
    {
     "name": "stdout",
     "output_type": "stream",
     "text": [
      "(nv(G), ne(G)) = (11879, 11903)\n"
     ]
    },
    {
     "name": "stderr",
     "output_type": "stream",
     "text": [
      "\u001b[32mProgress:  96%|███████████████████████████████████████▍ |  ETA: 0:00:02\u001b[39m"
     ]
    },
    {
     "name": "stdout",
     "output_type": "stream",
     "text": [
      "(distort[j], map2[j]) = (0.4631507992946537, 0.549593740699824)\n"
     ]
    },
    {
     "name": "stderr",
     "output_type": "stream",
     "text": [
      "\r",
      "\u001b[32mProgress:  60%|████████████████████████▋                |  ETA: 0:17:30\u001b[39m"
     ]
    },
    {
     "name": "stdout",
     "output_type": "stream",
     "text": [
      "(nv(G), ne(G)) = (11678, 11689)\n"
     ]
    },
    {
     "name": "stderr",
     "output_type": "stream",
     "text": [
      "\u001b[32mProgress:  97%|███████████████████████████████████████▊ |  ETA: 0:00:01\u001b[39m"
     ]
    },
    {
     "name": "stdout",
     "output_type": "stream",
     "text": [
      "(distort[j], map2[j]) = (0.4301128886332058, 0.4549612820684634)\n"
     ]
    },
    {
     "name": "stderr",
     "output_type": "stream",
     "text": [
      "\r",
      "\u001b[32mProgress:  65%|██████████████████████████▋              |  ETA: 0:15:24\u001b[39m"
     ]
    },
    {
     "name": "stdout",
     "output_type": "stream",
     "text": [
      "(nv(G), ne(G)) = (11684, 11689)\n"
     ]
    },
    {
     "name": "stderr",
     "output_type": "stream",
     "text": [
      "\u001b[32mProgress:  96%|███████████████████████████████████████▌ |  ETA: 0:00:01\u001b[39m"
     ]
    },
    {
     "name": "stdout",
     "output_type": "stream",
     "text": [
      "(distort[j], map2[j]) = (0.5088581086416647, 0.44334675473882346)\n"
     ]
    },
    {
     "name": "stderr",
     "output_type": "stream",
     "text": [
      "\r",
      "\u001b[32mProgress:  70%|████████████████████████████▊            |  ETA: 0:13:12\u001b[39m"
     ]
    },
    {
     "name": "stdout",
     "output_type": "stream",
     "text": [
      "(nv(G), ne(G)) = (12835, 12859)\n"
     ]
    },
    {
     "name": "stderr",
     "output_type": "stream",
     "text": [
      "\u001b[32mProgress:  80%|████████████████████████████████▊        |  ETA: 0:00:10\u001b[39m"
     ]
    },
    {
     "name": "stdout",
     "output_type": "stream",
     "text": [
      "(distort[j], map2[j]) = (0.8279671904629258, 0.47709689588720927)\n"
     ]
    },
    {
     "name": "stderr",
     "output_type": "stream",
     "text": [
      "\r",
      "\u001b[32mProgress:  75%|██████████████████████████████▊          |  ETA: 0:11:00\u001b[39m"
     ]
    },
    {
     "name": "stdout",
     "output_type": "stream",
     "text": [
      "(nv(G), ne(G)) = (12113, 12134)\n"
     ]
    },
    {
     "name": "stderr",
     "output_type": "stream",
     "text": [
      "\u001b[32mProgress:  98%|████████████████████████████████████████ |  ETA: 0:00:01\u001b[39m"
     ]
    },
    {
     "name": "stdout",
     "output_type": "stream",
     "text": [
      "(distort[j], map2[j]) = (0.41669724896077903, 0.5248922517568663)\n"
     ]
    },
    {
     "name": "stderr",
     "output_type": "stream",
     "text": [
      "\r",
      "\u001b[32mProgress:  80%|████████████████████████████████▊        |  ETA: 0:08:40\u001b[39m"
     ]
    },
    {
     "name": "stdout",
     "output_type": "stream",
     "text": [
      "(nv(G), ne(G)) = (12279, 12300)\n"
     ]
    },
    {
     "name": "stderr",
     "output_type": "stream",
     "text": [
      "\u001b[32mProgress:  94%|██████████████████████████████████████▋  |  ETA: 0:00:03\u001b[39m"
     ]
    },
    {
     "name": "stdout",
     "output_type": "stream",
     "text": [
      "(distort[j], map2[j]) = (0.4243446455387482, 0.5608850972085534)\n"
     ]
    },
    {
     "name": "stderr",
     "output_type": "stream",
     "text": [
      "\r",
      "\u001b[32mProgress:  85%|██████████████████████████████████▉      |  ETA: 0:06:26\u001b[39m"
     ]
    },
    {
     "name": "stdout",
     "output_type": "stream",
     "text": [
      "(nv(G), ne(G)) = (11759, 11770)\n"
     ]
    },
    {
     "name": "stderr",
     "output_type": "stream",
     "text": [
      "\u001b[32mProgress:  99%|████████████████████████████████████████▊|  ETA: 0:00:00\u001b[39m"
     ]
    },
    {
     "name": "stdout",
     "output_type": "stream",
     "text": [
      "(distort[j], map2[j]) = (0.4687231821031893, 0.4652686298301409)\n"
     ]
    },
    {
     "name": "stderr",
     "output_type": "stream",
     "text": [
      "\r",
      "\u001b[32mProgress:  90%|████████████████████████████████████▉    |  ETA: 0:04:18\u001b[39m"
     ]
    },
    {
     "name": "stdout",
     "output_type": "stream",
     "text": [
      "(nv(G), ne(G)) = (11965, 11988)\n"
     ]
    },
    {
     "name": "stderr",
     "output_type": "stream",
     "text": [
      "\u001b[32mProgress:  98%|████████████████████████████████████████▎|  ETA: 0:00:01\u001b[39m"
     ]
    },
    {
     "name": "stdout",
     "output_type": "stream",
     "text": [
      "(distort[j], map2[j]) = (0.428715040925655, 0.5834427451830049)\n"
     ]
    },
    {
     "name": "stderr",
     "output_type": "stream",
     "text": [
      "\r",
      "\u001b[32mProgress:  95%|███████████████████████████████████████  |  ETA: 0:02:08\u001b[39m"
     ]
    },
    {
     "name": "stdout",
     "output_type": "stream",
     "text": [
      "(nv(G), ne(G)) = (11909, 11919)\n"
     ]
    },
    {
     "name": "stderr",
     "output_type": "stream",
     "text": [
      "\u001b[32mProgress:  94%|██████████████████████████████████████▌  |  ETA: 0:00:03\u001b[39m"
     ]
    },
    {
     "name": "stdout",
     "output_type": "stream",
     "text": [
      "(distort[j], map2[j]) = (0.4126774655209126, 0.5255738760994367)\n"
     ]
    },
    {
     "name": "stderr",
     "output_type": "stream",
     "text": [
      "\r",
      "\u001b[32mProgress: 100%|█████████████████████████████████████████| Time: 0:42:38\u001b[39m\n"
     ]
    },
    {
     "name": "stdout",
     "output_type": "stream",
     "text": [
      "(t, dis, m) = (31.467209559400004, 0.5310954538114206, 0.5298199737450221)\n"
     ]
    },
    {
     "data": {
      "text/plain": [
       "(31.467209559400004, 0.5310954538114206, 0.5298199737450221)"
      ]
     },
     "execution_count": 11,
     "metadata": {},
     "output_type": "execute_result"
    }
   ],
   "source": [
    "times = zeros(20)\n",
    "map2 = zeros(20)\n",
    "distort = zeros(20)\n",
    "@showprogress for j = 1:20\n",
    "    times[j] = @elapsed G2,W2 = metric_to_structure(A,p2,jj);\n",
    "    #@show(is_connected(G2),nv(G2),ne(G2));\n",
    "    B = W2[1:nv(G2),1:nv(G2)];\n",
    "    B = sparse(B);\n",
    "    B = (B .> 0) .* B;\n",
    "    D2 = parallel_dp_shortest_paths(G2, B);\n",
    "\n",
    "    distort[j] = avg_distortion(D2[1:n,1:n],A)\n",
    "    map2[j] = MAP(D2[1:n,1:n],G)\n",
    "    \n",
    "    @show((distort[j],map2[j]))\n",
    "end\n",
    "\n",
    "t = mean(times)\n",
    "dis = mean(distort)\n",
    "m = mean(map2)\n",
    "\n",
    "@show((t,dis,m))"
   ]
  },
  {
   "cell_type": "code",
   "execution_count": 14,
   "metadata": {},
   "outputs": [
    {
     "name": "stdout",
     "output_type": "stream",
     "text": [
      "7079.936381 seconds (975.22 M allocations: 25.679 GiB, 0.12% gc time)\n"
     ]
    },
    {
     "name": "stderr",
     "output_type": "stream",
     "text": [
      "┌ Info: 1 branches had negative lengths, reset to 0\n",
      "└ @ Main In[13]:133\n"
     ]
    }
   ],
   "source": [
    "@time R = nj!(copy(convert(Matrix{Float64},A)));"
   ]
  },
  {
   "cell_type": "code",
   "execution_count": 15,
   "metadata": {
    "scrolled": true
   },
   "outputs": [
    {
     "data": {
      "text/plain": [
       "HybridNetwork, Un-rooted Network\n",
       "18869 edges\n",
       "18870 nodes: 9436 tips, 0 hybrid nodes, 9434 internal tree nodes.\n",
       "tip labels: 1, 2, 3, 4, ...\n",
       "(((((((((((1:0.454,3524:0.546):0.332,(213:0.124,6514:0.876):0.168):0.176,((((650:0.135,7824:0.865):0.191,((968:0.635,(4501:0.274,(5223:0.072,7963:0.928):0.226):0.115):0.276,(3935:0.73,7834:0.27):0.474):0.184):0.127,(690:0.375,(6318:1.0,6319:0.0):0.625):0.373):0.225,((651:0.832,2018:0.168):0.183,7171:0.817):0.252):0.016):0.083,((886:0.276,6436:0.724):0.435,7401:0.565):0.194):0.124,(((587:0.535,(5862:0.449,(((5912:0.0,7492:1.0):0.164,(7490:0.253,7491:0.747):0.336):0.438,6956:0.562):0.051):0.215):0.073,((4648:0.159,4899:0.841):0.315,(((4827:0.0,6518:1.0):0.075,6516:0.925):0.26,6517:0.74):0.185):0.24):0.186,(((2446:0.0,2447:1.0):0.0,7074:1.0):0.829,((2898:0.304,6383:0.696):0.222,7048:0.778):0.171):0.322):0.225):0.122,((((1114:0.639,(1116:0.453,4434:0.547):0.361):0.283,(2438:0.0,6561:1.0):0.217):0.427,6120:0.573):0.459,((2783:0.557,7610:0.443):0.637,(3794:0.0,4042:1.0):0.363):0.291):0.361):0.217,(((((((48:0.0,(6836:0.0,7037:1.0):1.0):0.512,4556:0.488):0.34,(2452:0.844,3719:0.156):0.66):0.29,(3717:0.121,3721:0.879):0.46):0.267,((((((1493:0.0,1946:1.0):0.0,2716:1.0):0.0,(2399:0.0,(((2760:0.5,4470:0.5):0.0,(2761:0.0,7918:1.0):0.5):0.5,4469:0.0):1.0):1.0):0.158,1494:0.842):0.445,((((1534:0.0,2458:1.0):0.115,1708:0.885):0.235,1902:0.765):0.015,(1728:0.101,2159:0.899):0.235):0.117):0.419,2528:0.862):0.358):0.14,(((((288:0.247,5411:0.753):0.174,(4690:0.0,9171:1.0):0.826):0.144,4902:0.856):0.221,(((353:0.0,7565:1.0):0.096,(((((3928:0.0,8161:1.0):0.134,4903:0.866):0.07,6405:0.93):0.034,7332:0.966):0.085,6664:0.915):0.029):0.055,6443:0.882):0.191):0.13,((560:0.467,((4532:0.748,6309:0.252):0.418,6310:0.582):0.533):0.748,((((5511:1.0,5512:0.0):0.146,5805:0.854):0.389,5578:0.611):0.262,6054:0.738):0.502):0.044):0.205):0.067,(((205:0.482,(1878:0.874,5072:0.126):0.518):0.521,((((849:0.0,8394:1.0):0.64,(2813:1.0,2814:0.0):0.36):0.248,6663:0.752):0.522,((((4236:0.768,4237:0.232):0.627,(4481:0.909,(5243:0.0,6828:1.0):0.091):0.373):0.177,(6829:0.198,7697:0.802):0.573):0.114,(4238:0.343,5331:0.657):0.386):0.228):0.065):0.266,((((225:0.0,7603:1.0):0.486,844:0.514):0.358,(((417:0.0,7036:1.0):0.0,7634:1.0):0.0,7635:1.0):0.642):0.254,((((((((((1729:0.0,1830:1.0):0.0,1904:1.0):0.0,2108:1.0):0.0,2385:1.0):0.0,2424:1.0):0.0,(1792:0.0,4125:1.0):1.0):0.185,2198:0.815):0.147,1732:0.853):0.154,2654:0.846):0.242,2186:0.758):0.496):0.172):0.138):0.086):0.044,(((((((((((96:0.48,1988:0.52):0.242,((2301:0.0,9024:1.0):0.084,9068:0.916):0.258):0.007,2570:0.243):0.072,((2769:0.0,5676:1.0):0.515,4626:0.485):0.178):0.069,(962:0.517,(4625:0.0,7160:1.0):0.483):0.243):0.039,2952:0.274):0.051,7034:0.746):0.243,((((((525:0.444,1139:0.556):0.701,(3616:0.0,8724:1.0):0.299):0.853,(2924:0.0,3638:1.0):0.147):0.248,3044:0.752):0.132,1745:0.868):0.393,((862:0.337,3181:0.663):0.392,(((980:0.0,8065:1.0):0.147,(2610:0.256,8330:0.744):0.353):0.069,4852:0.681):0.233):0.295):0.076):0.07,(((2138:0.244,4510:0.756):0.189,((2139:0.855,(2749:0.0,7138:1.0):0.145):0.119,2196:0.881):0.311):0.438,(3225:0.633,4062:0.367):0.562):0.158):0.123,((((2925:0.0,7151:1.0):0.403,7150:0.597):0.245,4793:0.755):0.469,(3014:0.222,3723:0.778):0.531):0.109):0.33,((((((897:0.029,8056:0.971):0.555,2021:0.445):0.122,((2937:0.0,3480:1.0):0.26,((5347:0.0,7756:1.0):0.157,6432:0.843):0.24):0.378):0.229,((((1716:0.162,7925:0.838):0.148,((1788:0.569,1789:0.431):0.261,5089:0.739):0.602):0.2,3176:0.925):0.395,(2928:0.651,7926:0.349):0.355):0.181):0.232,(5447:0.0,6845:1.0):0.735):0.384,(2373:0.844,5448:0.156):0.585):0.338):0.118):0.048,(((((((((((((((((((((((((((((((((((((((((((((((((((((((((((5:0.0,1351:1.0):0.0,1353:1.0):0.0,1354:1.0):0.0,1355:1.0):0.264,6270:0.736):0.212,2772:0.788):0.132,1269:0.868):0.064,1295:0.936):0.032,1316:0.968):0.016,1336:0.984):0.008,1343:0.992):0.004,1344:0.996):0.002,1270:0.998):0.001,1299:0.999):0.001,1317:0.999):0.0,((((((((((((((((((((((((((((((((((((((((((((((((425:0.0,1271:1.0):0.0,1272:1.0):0.0,1273:1.0):0.0,1274:1.0):0.0,1277:1.0):0.0,1279:1.0):0.0,1280:1.0):0.0,1281:1.0):0.0,1282:1.0):0.0,1283:1.0):0.0,1285:1.0):0.0,1286:1.0):0.0,1288:1.0):0.0,1294:1.0):0.0,1297:1.0):0.0,1298:1.0):0.0,1300:1.0):0.0,1301:1.0):0.0,1302:1.0):0.0,1304:1.0):0.0,1305:1.0):0.0,1306:1.0):0.0,1310:1.0):0.0,1311:1.0):0.0,1312:1.0):0.0,1314:1.0):0.0,1315:1.0):0.0,1319:1.0):0.0,1320:1.0):0.0,1321:1.0):0.0,1323:1.0):0.0,1324:1.0):0.0,1325:1.0):0.0,1326:1.0):0.0,1328:1.0):0.0,1332:1.0):0.0,1335:1.0):0.0,1337:1.0):0.0,1338:1.0):0.0,1340:1.0):0.0,1341:1.0):0.0,2811:1.0):0.001,1313:0.999):0.0,1329:1.0):0.0,1331:1.0):0.0,((((((((((((752:0.132,4048:0.868):0.144,6271:0.856):0.18,(((((((1356:0.0,1357:1.0):0.0,1358:1.0):0.0,1359:1.0):0.0,1360:1.0):0.0,1361:1.0):0.0,1362:1.0):0.246,((3999:0.0,8039:1.0):0.63,(4326:0.655,(4327:0.0,(7616:0.0,(7617:0.0,7618:1.0):1.0):1.0):0.345):0.37):0.254):0.07):0.175,1275:0.95):0.024,1278:0.976):0.012,1289:0.988):0.006,1293:0.994):0.003,1296:0.997):0.001,1308:0.999):0.001,1322:0.999):0.0,1330:1.0):0.0,1345:1.0):0.0):0.002,1276:0.998):0.001,1307:0.999):0.0):0.0,2771:1.0):0.076,1363:0.959):0.052,1290:0.931):0.033,1291:0.967):0.016,1292:0.984):0.008,1318:0.992):0.004,1333:0.996):0.002,1334:0.998):0.001,1346:0.999):0.001,1347:0.999):0.001,1309:0.999):0.0,1342:1.0):0.001,(((1287:0.954,(((((1350:0.997,(((((((((1395:0.0,1397:1.0):0.0,1398:1.0):0.0,1399:1.0):0.0,1400:1.0):0.0,1402:1.0):0.0,1403:1.0):0.0,1404:1.0):0.0,1405:1.0):0.0,1406:1.0):0.003):0.002,1352:0.998):0.016,1380:0.984):0.008,1384:0.992):0.012,(((((((((((((((((((((((((((1364:0.0,1365:1.0):0.0,1366:1.0):0.0,1367:1.0):0.0,1368:1.0):0.0,1369:1.0):0.0,1370:1.0):0.0,1372:1.0):0.0,1373:1.0):0.0,1374:1.0):0.0,1376:1.0):0.0,1378:1.0):0.0,1379:1.0):0.0,1381:1.0):0.0,1382:1.0):0.0,1386:1.0):0.0,1387:1.0):0.0,1388:1.0):0.0,1389:1.0):0.0,1390:1.0):0.0,1391:1.0):0.0,1392:1.0):0.0,1393:1.0):0.0,1394:1.0):0.0,2773:1.0):0.061,1375:0.939):0.03,1377:0.97):0.015,1383:0.985):0.019):0.062):0.024,1303:0.976):0.012,1327:0.988):0.011):0.01,1268:0.986):0.016,1348:0.982):0.075,1265:0.926):0.054,1257:0.945):0.04,1229:0.96):0.027,1258:0.973):0.013,1261:0.987):0.007,1263:0.993):0.012,1248:0.988):0.007,((((((((((((((((((((((94:0.0,1239:1.0):0.0,1241:1.0):0.0,1242:1.0):0.0,1245:1.0):0.0,1246:1.0):0.0,1254:1.0):0.0,1255:1.0):0.0,1262:1.0):0.0,1266:1.0):0.0,4456:1.0):0.011,1247:0.989):0.005,1250:0.995):0.003,1267:0.997):0.012,1259:0.988):0.008,1243:0.992):0.024,1252:0.976):0.012,1253:0.988):0.006,1264:0.994):0.003,1244:0.997):0.002,1249:0.998):0.001,1256:0.999):0.014,1240:0.986):0.009):0.004,1260:0.989):0.022,1224:0.979):0.018,(((((((((1207:0.052,1210:0.948):0.042,1223:0.958):0.021,1230:0.979):0.011,1231:0.989):0.032,1222:0.968):0.02,1228:0.98):0.011,1212:0.989):0.027,1213:0.973):0.021,1216:0.979):0.004):0.006,(((((((93:0.0,1237:1.0):0.0,1238:1.0):0.013,1236:0.987):0.039,1217:0.961):0.034,4518:0.966):0.017,1235:0.983):0.015,1221:0.985):0.016):0.001,1233:0.983):0.019,1209:0.997):0.002,1219:0.998):0.001,1226:0.999):0.007,1211:0.991):0.011,1227:0.99):0.012,((1214:0.987,((1215:0.975,(5341:0.759,(6592:0.475,8256:0.525):0.241):0.275):0.022,1234:0.978):0.013):0.014,1218:0.986):0.019):0.002,1208:0.982):0.08,(4477:0.387,6538:0.613):0.43):0.1,(((889:0.24,1225:0.76):0.21,3954:0.79):0.147,(3739:0.459,3877:0.541):0.353):0.117):0.212,((1024:0.794,1025:0.206):0.514,(3206:0.409,(3207:0.269,5603:0.731):0.591):0.486):0.554):0.156,((((979:0.428,(3863:0.462,3934:0.538):0.072):0.069,(3864:0.398,7944:0.602):0.431):0.194,((4888:0.0,8568:1.0):0.0,8569:1.0):0.431):0.25,((((((((3030:0.0,3350:1.0):0.0,3567:1.0):0.0,3641:1.0):0.0,3660:1.0):0.097,3508:0.903):0.311,(3931:0.441,3932:0.559):0.189):0.064,4023:0.686):0.08,((3825:0.353,4034:0.647):0.199,(4022:0.19,(4024:0.128,8628:0.872):0.31):0.176):0.124):0.215):0.542):0.126,(((83:0.149,1232:0.851):0.665,((((569:0.716,(821:0.894,822:0.106):0.284):0.174,(819:0.33,3947:0.67):0.076):0.124,2035:0.876):0.212,(761:0.685,((4611:0.325,5176:0.675):0.296,5175:0.204):0.315):0.351):0.272):0.148,(((1438:0.402,2668:0.598):0.372,3993:0.628):0.527,((((((((1650:0.0,6720:1.0):0.0,6721:1.0):0.0,6722:1.0):0.0,6723:1.0):0.0,8226:1.0):0.0,(7799:0.0,7800:1.0):1.0):0.001,1852:0.999):0.356,1957:0.644):0.223):0.278):0.081):0.079,((((((((257:0.721,258:0.279):0.268,1396:0.732):0.602,(5871:0.0,9252:1.0):0.398):0.259,(((((806:0.0,4482:1.0):0.193,5407:0.807):0.232,((5269:0.0,7505:1.0):0.277,8688:0.723):0.268):0.218,(894:0.197,2085:0.803):0.282):0.077,((2493:0.24,9270:0.76):0.224,4991:0.276):0.423):0.179):0.164,((269:0.176,((4533:0.388,4535:0.612):0.195,4536:0.805):0.324):0.48,((807:0.575,((((1173:0.0,5824:1.0):0.223,2241:0.777):0.146,2240:0.354):0.281,((5267:0.456,5271:0.544):0.024,(5268:0.014,5270:0.986):0.476):0.094):0.112):0.093,4907:0.407):0.235):0.323):0.14,((5446:0.422,6733:0.578):0.515,((8676:0.0,8708:1.0):0.0,8709:1.0):0.485):0.7):0.148,((3122:0.697,3279:0.303):0.497,3742:0.503):0.47):0.118,((((((((((((((((((((310:0.0,325:1.0):0.0,9253:1.0):0.0,9254:1.0):0.0,9255:1.0):0.0,9256:1.0):0.0,9257:1.0):0.0,9258:1.0):0.0,9259:1.0):0.0,9260:1.0):0.0,9261:1.0):0.0,9262:1.0):0.0,9263:1.0):0.0,9264:1.0):0.0,9265:1.0):0.194,8376:0.806):0.224,7772:0.776):0.175,1183:0.825):0.352,(311:0.585,5308:0.415):0.648):0.156,(2142:0.84,(((2343:0.0,2344:1.0):0.38,2450:0.62):0.234,(7776:0.827,7777:0.173):0.766):0.16):0.688):0.374,(((586:0.508,7811:0.492):0.561,3656:0.439):0.248,8542:0.752):0.361):0.127):0.051):0.046,(((((222:0.606,2888:0.394):0.181,(((3142:0.0,3570:1.0):0.488,9225:0.512):0.302,(3777:0.0,7890:1.0):0.698):0.569):0.166,((1825:0.427,3492:0.573):0.484,((3728:0.0,3731:1.0):0.0,3732:1.0):0.516):0.271):0.261,(((((234:0.275,(2997:0.36,3054:0.64):0.225):0.222,((((593:0.0,8714:1.0):0.14,715:0.86):0.233,(1707:0.0,2544:1.0):0.767):0.295,((1533:0.0,1776:1.0):0.296,1953:0.704):0.205):0.403):0.298,(((341:0.292,(4562:0.476,6959:0.524):0.208):0.243,((4563:0.0,7848:1.0):0.261,6960:0.739):0.257):0.138,4561:0.737):0.202):0.343,((1490:0.555,2340:0.445):0.473,2584:0.527):0.486):0.226,(((1489:0.339,1577:0.661):0.186,2276:0.814):0.391,(((1536:0.0,7897:1.0):0.723,1537:0.277):0.169,2741:0.331):0.859):0.403):0.173):0.119,(((283:0.0,4139:1.0):0.143,5393:0.857):0.494,((((1967:0.0,8296:1.0):0.758,(4058:0.0,6967:1.0):0.242):0.141,(((2334:0.415,6782:0.585):0.403,4565:0.097):0.246,(5116:0.0,5117:1.0):0.754):0.109):0.38,((((5519:0.177,5847:0.823):0.314,5934:0.686):0.174,6022:0.826):0.294,(((((5836:1.0,5837:0.0):0.0,7059:1.0):0.236,6051:0.764):0.127,6048:0.873):0.097,7057:0.903):0.206):0.456):0.026):0.329):0.052):0.002,((((((((((((7:0.57,5346:0.43):0.284,(((299:0.0,300:1.0):0.377,6237:0.623):0.43,((((2853:0.0,5285:1.0):0.0,5286:1.0):0.0,6196:1.0):0.0,7429:1.0):0.07):0.091):0.11,294:0.577):0.233,((((((43:0.224,7333:0.776):0.44,((3259:0.0,3310:1.0):0.347,5322:0.653):0.31):0.272,((124:0.086,5406:0.914):0.175,(2437:0.823,(((4085:0.747,(4086:0.0,8061:1.0):0.253):0.177,5405:0.823):0.187,(((4509:0.0,7733:1.0):0.0,7734:1.0):0.427,5014:0.573):0.563):0.052):0.075):0.103):0.04,(1427:0.401,5340:0.599):0.335):0.084,((85:0.282,86:0.718):0.301,4643:0.699):0.553):0.052,(((365:0.359,415:0.641):0.53,(((416:0.0,4758:1.0):0.305,2326:0.695):0.204,5403:0.796):0.22):0.257,(5400:0.71,(6040:0.508,7715:0.492):0.29):0.493):0.132):0.066):0.062,((((((24:0.1,892:0.9):0.513,774:0.487):0.1,(5335:0.503,5336:0.497):0.4):0.253,25:0.497):0.275,(((((26:0.0,2779:1.0):0.0,5401:1.0):0.0,5402:1.0):0.089,(770:0.661,(((1037:0.0,6838:1.0):0.0,6840:1.0):0.0,6842:1.0):0.339):0.411):0.23,(3912:0.252,5324:0.748):0.27):0.171):0.115,(((2649:0.0,8324:1.0):0.609,4699:0.391):0.386,5396:0.614):0.365):0.072):0.081,(((38:0.252,3998:0.748):0.316,((((((((1621:0.0,1622:1.0):0.0,1706:1.0):0.0,1848:1.0):0.0,2422:1.0):0.582,5182:0.418):0.416,5180:0.084):0.376,5181:0.374):0.234,5233:0.766):0.59):0.303,((((((137:0.259,4979:0.741):0.461,4980:0.539):0.389,((577:0.0,3888:1.0):0.568,(765:0.063,6688:0.937):0.432):0.361):0.118,(((575:0.092,4167:0.908):0.115,6126:0.885):0.193,(((1091:0.158,7362:0.842):0.146,2774:0.854):0.322,((2094:0.356,7053:0.644):0.102,3621:0.398):0.178):0.088):0.163):0.075,((((((304:0.0,7350:1.0):0.24,8405:0.76):0.159,4843:0.341):0.193,((4773:0.764,6646:0.236):0.13,7449:0.87):0.494):0.24,(((((392:0.0,7790:1.0):0.0,7846:1.0):0.142,6119:0.858):0.253,4486:0.747):0.039,(852:0.261,(4432:0.0,4433:1.0):0.739):0.211):0.166):0.054,((((328:0.726,((329:0.0,7453:1.0):0.123,2057:0.877):0.274):0.247,((2025:0.43,2356:0.57):0.432,(3224:0.0,7013:1.0):0.568):0.253):0.127,((((((1079:0.0,7915:1.0):0.0,9230:1.0):0.0,9231:1.0):0.081,8028:0.919):0.138,(2255:0.372,6683:0.628):0.362):0.205,((3966:0.0,7835:1.0):0.403,6579:0.597):0.545):0.248):0.073,(((((1080:0.0,6700:1.0):0.0,6701:1.0):0.461,4071:0.539):0.661,6631:0.339):0.197,(6403:0.529,(6629:0.394,((6630:0.0,8059:1.0):0.0,8060:1.0):0.606):0.471):0.115):0.248):0.034):0.134):0.087,(((3068:0.226,3528:0.774):0.263,(3158:0.531,(5198:0.714,((6181:0.0,6182:1.0):0.0,6183:1.0):0.286):0.469):0.237):0.194,(((3405:0.0,(6918:0.0,7557:1.0):1.0):0.503,6018:0.497):0.401,4757:0.599):0.743):0.566):0.053):0.047):0.017,((((((207:0.0,6852:1.0):0.332,237:0.668):0.285,(((((208:0.496,275:0.504):0.056,7273:0.444):0.257,((6240:0.0,6241:1.0):0.473,7483:0.527):0.493):0.074,(509:0.481,(((667:0.0,4629:1.0):0.0,4630:1.0):0.0,4631:1.0):0.519):0.301):0.21,((665:0.656,666:0.344):0.167,668:0.333):0.15):0.161):0.174,(((4084:0.0,8377:1.0):0.179,5580:0.821):0.236,(((4316:0.0,6610:1.0):0.0,7611:1.0):0.0,7753:1.0):0.264):0.342):0.214,(7049:0.537,7780:0.463):0.723):0.168,(((((396:0.123,(4840:0.0,6866:1.0):0.877):0.106,(1459:0.247,2298:0.753):0.394):0.25,((6209:0.394,7484:0.606):0.374,6821:0.626):0.25):0.189,(1958:0.331,((1959:0.589,1968:0.411):0.564,2307:0.436):0.169):0.311):0.05,(((398:0.0,429:1.0):0.0,6824:1.0):0.0,6825:1.0):0.263):0.541):0.133):0.051,((((((133:0.27,8423:0.73):0.604,781:0.396):0.156,((2016:0.412,2384:0.588):0.34,4412:0.16):0.344):0.295,((((794:0.691,795:0.309):0.402,3130:0.098):0.489,4726:0.261):0.68,(869:0.193,7413:0.807):0.32):0.307):0.141,((((646:0.709,(6702:0.0,7410:1.0):0.291):0.164,3545:0.836):0.252,7411:0.748):0.439,(5398:0.243,5399:0.757):0.561):0.427):0.074,((((((((((((134:0.0,7214:1.0):0.0,8197:1.0):0.0,8199:1.0):0.0,8321:1.0):0.0,8518:1.0):0.079,(((6166:0.0,7883:1.0):0.0,7884:1.0):0.495,((6368:0.647,((6999:0.0,(7180:0.0,7181:1.0):1.0):0.315,7324:0.685):0.353):0.099,(7323:0.0,8192:1.0):0.151):0.505):0.421):0.127,(((1715:0.0,5427:1.0):0.378,7583:0.622):0.193,7584:0.807):0.373):0.059,((1908:0.497,(1909:0.0,6937:1.0):0.503):0.26,8030:0.74):0.332):0.097,((((764:0.19,7224:0.81):0.208,((3854:0.343,4177:0.657):0.202,4179:0.798):0.042):0.115,(((((1178:0.486,4184:0.514):0.451,4175:0.549):0.078,((1837:0.378,4185:0.622):0.046,(((4173:0.292,((4180:0.549,4192:0.451):0.1,4188:0.4):0.208):0.041,((((4174:0.809,4186:0.191):0.199,4178:0.301):0.031,(4189:0.593,4191:0.407):0.219):0.062,4183:0.688):0.022):0.023,((4181:0.305,4198:0.695):0.09,(4187:0.283,4196:0.717):0.16):0.063):0.107):0.098):0.091,(3908:0.324,4094:0.676):0.026):0.13,(3855:0.407,(4176:0.429,4182:0.571):0.093):0.293):0.058):0.061,(((3833:0.0,7931:1.0):0.222,5325:0.778):0.242,4093:0.758):0.146):0.169):0.041,((3073:0.394,(3228:0.227,(3229:0.0,3230:1.0):0.773):0.606):0.262,4709:0.738):0.401):0.105,(((576:0.0,7649:1.0):0.266,6580:0.734):0.639,(((777:0.161,5115:0.839):0.184,2526:0.816):0.389,3718:0.611):0.361):0.235):0.066,(((((305:0.604,(5225:0.753,((7248:0.0,9187:1.0):0.0,9188:1.0):0.247):0.396):0.262,(((((1414:0.0,4610:1.0):0.0,7663:1.0):0.0,7664:1.0):0.112,5320:0.888):0.199,4613:0.801):0.238):0.171,((((709:0.0,5328:1.0):0.214,(710:0.572,5160:0.428):0.286):0.159,((4975:0.426,5321:0.574):0.385,(5253:0.541,5275:0.459):0.615):0.091):0.275,(3929:0.501,4072:0.499):0.537):0.11):0.116,((((((780:0.0,7786:1.0):0.275,((1096:0.337,8159:0.663):0.357,5247:0.643):0.225):0.261,(888:0.0,6152:1.0):0.239):0.17,(7358:0.416,8222:0.584):0.673):0.062,(((4885:0.0,4886:1.0):0.32,7843:0.68):0.4,(4887:0.0,5854:1.0):0.1):0.766):0.07,((((((2886:0.0,4708:1.0):0.0,7646:1.0):0.0,9233:1.0):0.143,6151:0.857):0.258,5302:0.742):0.138,4026:0.862):0.207):0.085):0.124,((((480:0.85,482:0.15):0.081,4614:0.919):0.531,(((481:0.0,7913:1.0):0.196,5092:0.804):0.145,5097:0.855):0.219):0.366,(((884:0.417,885:0.583):0.348,(((((2049:0.0,2050:1.0):1.0,2508:0.0):1.0,4915:0.0):0.535,(2619:0.136,4916:0.864):0.465):0.497,(4807:0.857,4808:0.143):0.503):0.59):0.16,((((2998:0.0,6643:1.0):0.303,3298:0.697):0.371,((4471:0.0,5310:1.0):0.0,5311:1.0):0.629):0.335,3190:0.665):0.472):0.267):0.096):0.071):0.017):0.023):0.047,((((92:0.0,7229:1.0):0.261,((7182:0.999,8483:0.001):0.151,8484:0.849):0.239):0.564,(((2183:0.0,7267:1.0):0.447,(2727:0.401,6412:0.599):0.053):0.381,5412:0.619):0.28):0.232,((((((249:0.0,6225:1.0):0.0,6718:1.0):0.0,6719:1.0):0.507,(4031:0.625,(4300:0.0,8705:1.0):0.375):0.493):0.067,(3905:0.163,5229:0.837):0.433):0.314,((4751:0.335,(8132:0.0,8137:1.0):0.665):0.432,(5395:0.302,((6781:0.273,7215:0.727):0.193,7216:0.307):0.198):0.318):0.53):0.346):0.103):0.024,((((((((152:0.0,154:1.0):0.0,6553:1.0):0.0,6554:1.0):0.198,((723:0.699,5294:0.301):0.164,7347:0.836):0.302):0.13,(((((5036:0.0,5037:1.0):0.226,6835:0.774):0.178,(6540:0.716,6900:0.284):0.322):0.164,6780:0.836):0.235,6841:0.765):0.37):0.156,(((4514:0.611,6766:0.389):0.362,7826:0.638):0.44,((6767:0.538,8147:0.462):0.513,6946:0.487):0.06):0.938):0.192,(((5073:0.499,5317:0.501):0.316,5319:0.684):0.413,((((((5133:0.0,7091:1.0):0.0,7092:1.0):0.0,7093:1.0):0.0,7094:1.0):0.0,7095:1.0):0.0,7096:1.0):0.587):0.09):0.168,((((((((((236:0.0,4100:1.0):0.0,4143:1.0):0.0,7592:1.0):0.156,4345:0.844):0.186,(286:0.35,4098:0.65):0.314):0.04,((((313:0.0,3715:1.0):0.205,7159:0.795):0.219,7730:0.781):0.167,(2525:0.774,(3714:0.0,3727:1.0):0.226):0.083):0.085):0.149,((((287:0.0,7732:1.0):0.0,9167:1.0):0.0,9240:1.0):0.151,1145:0.849):0.101):0.2,(290:0.865,((494:0.739,(791:0.425,7028:0.575):0.261):0.296,(3889:0.0,7306:1.0):0.204):0.135):0.146):0.155,(((((470:0.546,5213:0.454):0.3,((((((((((((3831:0.0,6312:1.0):0.0,8101:1.0):0.0,8135:1.0):0.0,8136:1.0):0.0,8167:1.0):0.0,8168:1.0):0.0,8169:1.0):0.0,8186:1.0):0.0,8187:1.0):0.0,8188:1.0):0.098,(4328:0.56,(4344:0.5,4589:0.5):0.44):0.152):0.267,3857:0.733):0.2):0.145,(7109:0.201,7110:0.799):0.855):0.21,(((((1990:0.27,9142:0.73):0.193,(2213:0.302,3788:0.698):0.057):0.119,((3789:0.268,(((5124:0.278,((8623:0.146,9176:0.854):0.199,8624:0.801):0.222):0.12,8640:0.755):0.101,((8607:0.0,8689:1.0):0.122,8608:0.878):0.211):0.294):0.128,((6273:0.0,8682:1.0):0.0,8683:1.0):0.622):0.086):0.176,(3348:0.556,3349:0.444):0.565):0.37,(((((3790:0.0,3830:1.0):0.0,3832:1.0):0.0,3873:1.0):0.0,6636:1.0):0.217,4027:0.783):0.255):0.253):0.111,((3913:0.263,(6338:0.724,6339:0.276):0.737):0.18,((4387:0.087,6758:0.913):0.178,8190:0.822):0.195):0.323):0.045):0.119,((((248:0.525,2070:0.475):0.355,688:0.645):0.289,((260:0.178,5083:0.822):0.293,4002:0.707):0.336):0.062,((((((358:0.0,4025:1.0):0.0,7327:1.0):0.0,7706:1.0):0.08,((500:0.0,2521:1.0):0.439,4939:0.561):0.42):0.139,(((574:0.0,7887:1.0):0.639,611:0.361):0.39,((((((628:0.0,5162:1.0):0.0,5165:1.0):0.011,(5164:0.479,5166:0.521):0.489):0.387,5163:0.613):0.685,3915:0.315):0.265,(3922:0.467,5397:0.533):0.485):0.235):0.049):0.052,(580:0.538,(5196:0.715,5197:0.285):0.462):0.401):0.119):0.118):0.04):0.051):0.046,(((((((((((141:0.0,1965:1.0):0.117,8603:0.883):0.125,(2627:0.498,4063:0.502):0.375):0.119,((1797:0.36,8184:0.64):0.202,((1798:0.0,3463:1.0):0.371,3306:0.629):0.298):0.319):0.082,((3313:0.212,4424:0.788):0.261,6001:0.739):0.23):0.189,613:0.67):0.139,(((326:0.496,(327:0.0,7789:1.0):0.504):0.71,((5901:0.0,7434:1.0):0.235,8225:0.765):0.29):0.278,(2653:0.779,3829:0.221):0.722):0.186):0.106,(((2947:0.0,8373:1.0):0.423,6908:0.577):0.312,8754:0.688):0.513):0.038,((((((((176:0.0,1661:1.0):0.0,1705:1.0):0.0,2466:1.0):0.0,5171:1.0):0.0,7911:1.0):0.093,(((366:0.882,(((6763:0.0,8520:1.0):0.0,8521:1.0):0.0,8556:1.0):0.118):0.345,7142:0.655):0.27,7141:0.73):0.157):0.282,(((((((((411:0.0,413:1.0):0.0,949:1.0):0.0,951:1.0):0.0,4604:1.0):0.0,4606:1.0):0.0,7378:1.0):0.196,431:0.804):0.158,4605:0.842):0.483,((((((((643:1.0,644:0.0):0.0,2737:1.0):0.0,7427:1.0):0.0,7428:1.0):0.156,(6562:0.187,6563:0.813):0.344):0.358,669:0.642):0.341,790:0.159):0.3,(((670:0.0,1911:1.0):0.0,8122:1.0):0.32,((671:0.631,789:0.369):0.299,5822:0.201):0.18):0.231):0.626):0.28):0.161,(1113:0.596,(5339:0.146,7724:0.854):0.404):0.32):0.164):0.078,((((((3035:0.0,8298:1.0):0.0,8586:1.0):0.0,8587:1.0):0.0,8588:1.0):0.316,(7431:0.418,(7971:0.166,7972:0.834):0.582):0.184):0.482,7143:0.518):0.663):0.083,(((233:0.0,6297:1.0):0.585,((((687:0.0,6296:1.0):0.0,8398:1.0):0.0,8399:1.0):0.4,3619:0.6):0.415):0.467,(((((435:0.464,436:0.536):0.245,4067:0.255):0.142,(6897:0.206,(7708:0.306,7805:0.694):0.294):0.733):0.114,(2401:0.582,2402:0.418):0.949):0.094,((((867:0.0,5087:1.0):0.289,2993:0.711):0.244,(((4342:0.0,5495:1.0):0.0,(5496:0.0,5497:1.0):1.0):0.494,(4776:0.016,(5429:0.0,5430:1.0):0.984):0.506):0.256):0.127,5513:0.873):0.124):0.189):0.16):0.084):0.031,(((((((((((((8:0.001,2500:0.999):0.234,6207:0.766):0.206,((162:0.0,7496:1.0):0.282,5071:0.718):0.294):0.203,(((((702:0.252,5266:0.748):0.563,(703:0.542,1855:0.458):0.437):0.392,(7120:0.0,7778:1.0):0.608):0.217,6590:0.783):0.278,(4448:0.361,4871:0.639):0.409):0.172):0.064,((((((((253:0.0,7463:1.0):0.428,4241:0.572):0.451,(((((((((456:0.001,457:0.999):0.0,4091:1.0):0.0,4092:1.0):0.0,4493:1.0):0.0,4799:1.0):0.0,5070:1.0):0.0,7488:1.0):0.0,7524:1.0):0.034,5939:0.966):0.049):0.028,((4571:0.767,4572:0.233):0.413,4573:0.587):0.472):0.045,(((((475:0.057,(476:0.431,4124:0.569):0.443):0.125,2856:0.625):0.141,8254:0.984):0.253,((2847:0.0,8255:1.0):0.0,(4117:1.0,4118:0.0):1.0):0.247):0.071,2846:0.679):0.455):0.022,(3090:0.462,3371:0.538):0.478):0.041,(((((617:0.0,4251:1.0):0.467,2540:0.533):0.243,5167:0.757):0.161,5337:0.839):0.031,(((3911:0.0,7748:1.0):0.126,5333:0.874):0.145,8524:0.855):0.125):0.139):0.032,4919:0.87):0.039):0.074,(((((123:0.0,6441:1.0):0.0,8177:1.0):0.638,((4603:0.436,7717:0.564):0.642,(5915:0.751,6076:0.249):0.358):0.362):0.446,(((270:0.68,2581:0.32):0.401,7511:0.599):0.338,7230:0.662):0.648):0.049,((((1125:0.204,4043:0.796):0.696,(((5537:0.0,5540:1.0):0.0,(5984:0.0,(7626:0.0,7627:1.0):1.0):1.0):0.302,5539:0.698):0.304):0.177,5541:0.823):0.094,(3045:0.647,6050:0.353):0.593):0.369):0.007):0.037,((((((135:0.0,8712:1.0):0.19,((3735:0.0,5291:1.0):0.356,(4894:0.638,5287:0.362):0.144):0.31):0.12,(3734:0.498,4052:0.502):0.193):0.128,((868:0.645,1567:0.355):0.434,(3733:0.463,4460:0.537):0.066):0.091):0.135,(((471:0.129,(943:0.504,6984:0.496):0.371):0.383,(548:0.754,(3919:0.0,(4881:0.5,4882:0.5):0.5):0.246):0.617):0.318,3902:0.682):0.127):0.229,(((((878:0.0,7938:1.0):0.0,7939:1.0):0.702,879:0.298):0.38,(5425:0.0,8234:1.0):0.62):0.37,4166:0.63):0.644):0.107):0.032,(((((((((854:0.0,5975:1.0):0.134,7657:0.866):0.25,((4889:0.317,7043:0.683):0.222,7041:0.778):0.25):0.166,((855:0.0,7042:1.0):0.0,7045:1.0):0.334):0.05,((2718:0.0,2719:1.0):0.599,6939:0.401):0.637):0.359,(3501:0.546,3633:0.454):0.673):0.375,2655:0.937):0.197,((1514:0.115,6021:0.885):0.349,(2379:0.744,2380:0.256):0.651):0.451):0.206,((((1119:0.356,(5661:1.0,5662:0.0):0.644):0.666,(4035:0.0,5879:1.0):0.334):0.563,((((2039:0.0,2040:1.0):0.0,8263:1.0):0.0,8583:1.0):0.219,(2266:0.747,(2913:0.0,6014:1.0):0.253):0.281):0.375):0.132,((((((2951:0.0,3763:1.0):0.158,3273:0.842):0.176,3692:0.824):0.154,3092:0.846):0.149,3608:0.851):0.408,(3576:0.0,3581:1.0):0.592):0.431):0.079):0.055):0.021,((((((9:0.0,6837:1.0):0.187,6353:0.813):0.165,((72:0.1,5009:0.9):0.151,(486:0.359,487:0.641):0.349):0.085):0.342,((73:0.277,3446:0.723):0.553,((536:0.456,8786:0.544):0.447,(3167:0.0,3288:1.0):0.553):0.447):0.33):0.173,(((((64:0.321,746:0.679):0.269,264:0.231):0.062,((((66:0.467,(70:0.466,1043:0.534):0.033):0.056,74:0.444):0.209,265:0.416):0.127,(69:0.296,(1124:0.263,4999:0.737):0.204):0.061):0.142):0.102,(65:0.405,(67:0.448,(((68:0.0,6208:1.0):0.345,2469:0.655):0.546,75:0.454):0.052):0.095):0.15):0.141,((793:0.208,2341:0.792):0.21,1475:0.79):0.386):0.356):0.136,(((383:0.0,6899:1.0):0.234,(((((384:0.0,3055:1.0):0.0,8671:1.0):0.017,(386:0.467,8670:0.533):0.483):0.019,(((663:0.466,3994:0.534):0.07,664:0.43):0.196,(3995:0.495,3996:0.505):0.304):0.231):0.106,9234:0.894):0.266):0.368,(1448:0.477,(2522:0.828,3943:0.172):0.523):0.632):0.163):0.168):0.016,(((((((((39:0.235,3880:0.765):0.254,522:0.746):0.107,(((((((((((((((((((42:0.0,3848:1.0):0.0,3849:1.0):0.0,3896:1.0):0.0,3948:1.0):0.0,5453:1.0):0.0,5455:1.0):0.0,5456:1.0):0.0,5457:1.0):0.0,5459:1.0):0.0,5460:1.0):0.0,5461:1.0):0.0,5462:1.0):0.0,5463:1.0):0.0,5464:1.0):0.0,5465:1.0):0.0,5466:1.0):0.0,5467:1.0):0.0,7739:1.0):0.001,5454:0.999):0.143):0.057,((((660:0.116,1121:0.884):0.105,3658:0.895):0.109,6445:0.891):0.226,662:0.774):0.318):0.051,(((661:0.294,6738:0.706):0.26,8183:0.74):0.185,5458:0.815):0.441):0.142,((3423:0.109,((5084:0.126,5085:0.874):0.313,5086:0.187):0.641):0.582,7798:0.543):0.839):0.156,(((((408:0.0,(1099:1.0,1100:0.0):1.0):0.487,633:0.513):0.589,(3787:0.776,(5606:0.0,5863:1.0):0.224):0.411):0.292,((2908:0.0,9210:1.0):0.272,((3713:0.0,6703:1.0):0.224,7082:0.776):0.228):0.271):0.187,(((553:0.219,4891:0.781):0.355,(554:0.361,7291:0.639):0.145):0.296,555:0.704):0.579):0.171):0.062,((((((98:0.2,9178:0.8):0.125,8409:0.875):0.307,3868:0.193):0.168,((((114:0.0,4073:1.0):0.27,4074:0.73):0.204,(4028:0.469,6881:0.531):0.296):0.09,((990:0.0,1486:1.0):0.366,(991:0.0,3876:1.0):0.634):0.16):0.332):0.252,(458:0.393,8078:0.607):0.779):0.151,((((678:0.477,6359:0.523):0.502,(3558:0.0,6844:1.0):0.498):0.298,((((1008:0.0,4286:1.0):0.187,(4392:0.0,5487:1.0):0.813):0.282,4287:0.718):0.425,8024:0.575):0.515):0.195,(((2580:0.458,(3325:0.253,3394:0.747):0.542):0.392,((3413:0.185,4896:0.815):0.326,8616:0.674):0.108):0.239,(3952:0.694,(6362:0.504,(8609:0.0,8610:1.0):0.496):0.306):0.511):0.234):0.099):0.051):0.026,(((((((44:0.263,6823:0.737):0.212,(3851:0.364,8369:0.636):0.288):0.262,(((((((((1903:0.0,2347:1.0):0.0,8727:1.0):0.0,8729:1.0):0.0,9191:1.0):0.0,9192:1.0):0.036,9190:0.964):0.048,((5215:0.0,5216:1.0):0.38,6606:0.62):0.452):0.13,8581:0.87):0.184,((3798:0.761,(((6607:0.0,9195:1.0):0.0,9196:1.0):0.052,9193:0.948):0.239):0.074,((5451:0.0,9194:1.0):0.053,9189:0.947):0.301):0.082):0.027):0.099,((45:0.551,((246:0.422,((2520:0.45,(4005:0.0,8669:1.0):0.55):0.15,3433:0.35):0.078):0.198,(3786:0.0,8730:1.0):0.427):0.011):0.107,4082:0.393):0.192):0.082,(((((((((441:0.0,3836:1.0):0.0,3885:1.0):0.0,3886:1.0):0.0,3910:1.0):0.0,9165:1.0):0.0,9166:1.0):0.166,(3859:0.213,3923:0.787):0.334):0.105,1251:0.895):0.119,((2410:0.886,3839:0.114):0.18,(3484:0.508,9105:0.492):0.32):0.1):0.284):0.11,((488:0.501,(1810:0.33,4649:0.67):0.499):0.406,(3840:0.421,8416:0.579):0.344):0.423):0.156,((((2808:1.0,2809:0.0):0.208,8728:0.792):0.4,7033:0.6):0.45,(3898:0.256,3920:0.744):0.55):0.057):0.154):0.035):0.008,(((((((((((((((((60:0.0,390:1.0):0.0,2852:1.0):0.0,5295:1.0):0.0,6716:1.0):0.0,7303:1.0):0.0,8634:1.0):0.003,(7097:0.494,7098:0.506):0.497):0.009,((2388:0.0,5248:1.0):0.478,4637:0.522):0.491):0.123,6809:0.877):0.082,(387:0.802,(391:0.197,8339:0.803):0.198):0.168):0.07,5415:0.93):0.199,(((84:0.217,4723:0.783):0.154,(2473:0.22,5323:0.78):0.346):0.291,(((440:0.0,7065:1.0):0.281,(2747:0.777,(5017:0.78,(5021:0.0,8099:1.0):0.22):0.223):0.219):0.065,(((5015:0.698,(5019:0.0,5020:1.0):0.302):0.433,5016:0.567):0.168,((5018:0.0,6795:1.0):0.311,6369:0.689):0.582):0.06):0.131):0.082):0.17,((61:0.234,3126:0.766):0.465,(1845:0.315,(4211:0.197,5273:0.803):0.185):0.535):0.488):0.061,(((((((247:0.0,2315:1.0):0.011,2873:0.989):0.218,7419:0.782):0.101,(4409:0.0,6115:1.0):0.899):0.141,(((584:0.758,585:0.242):0.269,7904:0.731):0.264,((8626:0.0,8627:1.0):0.0,8691:1.0):0.736):0.109):0.398,((((259:0.0,7861:1.0):0.281,7912:0.719):0.494,1200:0.506):0.098,(3144:0.768,(4893:0.0,4895:1.0):0.232):0.402):0.336):0.245,(((960:0.684,2328:0.316):0.637,(961:0.371,1004:0.629):0.363):0.159,(4397:0.28,8584:0.72):0.341):0.52):0.031):0.041,(((116:0.547,5062:0.453):0.298,(5303:0.667,7628:0.333):0.702):0.194,(((((323:0.53,324:0.47):0.445,(445:0.0,7243:1.0):0.555):0.276,(((893:0.105,5408:0.895):0.262,8668:0.738):0.376,3927:0.124):0.474):0.148,((3828:0.259,4036:0.741):0.263,(((3838:0.0,5314:1.0):0.0,5316:1.0):0.093,5315:0.907):0.487):0.227):0.179,(((397:0.598,((4813:0.0,5476:1.0):0.582,(7820:0.0,8695:1.0):0.418):0.402):0.244,8621:0.756):0.269,(((((426:0.508,4759:0.492):0.318,(((((938:0.212,(941:0.092,5245:0.908):0.288):0.2,940:0.55):0.158,2914:0.342):0.1,(2911:0.481,((4429:0.217,(4430:0.067,4431:0.933):0.283):0.417,(5246:0.0,9219:1.0):0.333):0.519):0.04):0.266,(((1012:0.0,4662:1.0):0.058,4700:0.942):0.117,((2003:0.563,2481:0.437):0.167,((3874:0.176,(3875:0.16,5232:0.84):0.324):0.178,5230:0.822):0.208):0.133):0.164):0.057):0.053,(((((((((880:0.0,2842:1.0):0.0,5312:1.0):0.0,5313:1.0):0.0,9174:1.0):0.008,9177:0.992):0.395,(1583:0.805,(1584:0.0,2434:1.0):0.195):0.605):0.195,(3194:0.737,((3424:0.155,(4210:0.191,7262:0.809):0.345):0.597,4209:0.153):0.263):0.305):0.179,(1429:0.0,9173:1.0):0.821):0.084,((((2885:0.0,5282:1.0):0.0,5297:1.0):0.0,9226:1.0):0.102,5298:0.898):0.166):0.103):0.049,(((((915:0.481,4707:0.519):0.169,(2022:0.0,5301:1.0):0.331):0.145,(((948:1.0,3806:0.0):0.697,5326:0.303):0.32,(2155:0.709,2223:0.291):0.18):0.168):0.206,((5125:0.276,8947:0.724):0.231,8638:0.769):0.325):0.126,(((((1598:0.0,8429:1.0):0.487,6404:0.513):0.482,5293:0.518):0.129,(5300:0.382,8292:0.618):0.371):0.442,((5284:0.557,7928:0.443):0.344,(5299:0.758,7766:0.242):0.656):0.214):0.101):0.127):0.017,((((521:0.0,5422:1.0):0.236,(5128:1.0,5129:0.0):0.764):0.494,2912:0.506):0.242,(((((((2915:0.0,5252:1.0):0.0,5304:1.0):0.0,5307:1.0):0.1,5327:0.9):0.186,5306:0.814):0.163,(3006:0.679,4001:0.321):0.337):0.199,(((5038:0.52,5039:0.48):0.165,5040:0.335):0.242,(5292:0.77,(6125:0.674,((8641:0.0,8642:1.0):0.0,8718:1.0):0.326):0.23):0.258):0.238):0.133):0.064):0.078):0.053):0.036):0.071):0.108,((((115:0.544,(((792:0.0,1410:1.0):0.0,1411:1.0):0.816,1408:0.184):0.456):0.505,(291:0.494,(((345:0.159,6774:0.841):0.142,((4520:0.54,4522:0.46):0.317,4521:0.183):0.233):0.209,2770:0.229):0.193):0.308):0.169,((((((493:0.0,6990:1.0):0.0,7377:1.0):0.0,9227:1.0):0.144,(((((1199:0.5,2939:0.5):0.329,(((((1201:0.0,2932:1.0):0.0,3364:1.0):0.0,3587:1.0):0.0,3592:1.0):0.0,3682:1.0):0.171):0.123,3400:0.877):0.087,9228:0.913):0.043,9229:0.957):0.106):0.128,((2705:0.0,2706:1.0):0.185,9217:0.815):0.372):0.292,(966:0.859,967:0.141):0.708):0.409):0.209,(((((((534:0.0,6333:1.0):0.0,9242:1.0):0.213,535:0.787):0.272,2191:0.728):0.289,(2841:0.0,3768:1.0):0.211):0.243,(((((((1195:0.0,9151:1.0):0.0,(1203:1.0,1204:0.0):1.0):0.136,9123:0.864):0.156,4632:0.844):0.112,((5140:0.203,8431:0.797):0.204,(5918:0.716,(((((((((((5969:0.0,5971:1.0):0.0,8865:1.0):0.0,8894:1.0):0.0,9023:1.0):0.0,9040:1.0):0.0,9050:1.0):0.0,9072:1.0):0.0,9075:1.0):0.0,9083:1.0):0.0,(5970:0.0,6651:1.0):1.0):0.169,8953:0.831):0.284):0.046):0.138):0.043,5139:0.77):0.248,(((4892:0.159,5280:0.841):0.176,((5279:0.0,5426:1.0):0.196,5413:0.804):0.324):0.079,((5613:0.508,8562:0.492):0.284,((5614:0.0,5781:1.0):0.0,5819:1.0):0.716):0.421):0.151):0.226):0.258,(((((896:0.0,3671:1.0):0.123,8424:0.877):0.168,((4526:0.871,((4528:0.0,7769:1.0):0.077,4530:0.923):0.129):0.078,((4527:0.0,4529:1.0):0.081,7767:0.919):0.172):0.082):0.448,((3149:0.0,6072:1.0):0.29,(3631:0.251,5791:0.749):0.71):0.239):0.375,1793:0.625):0.325):0.073):0.058):0.046,((((((((271:0.12,3686:0.88):0.454,(((3193:0.0,8134:1.0):0.398,5445:0.602):0.419,4897:0.581):0.546):0.157,(((616:0.0,7833:1.0):0.07,7455:0.93):0.444,(2676:0.835,((3138:0.131,(3139:0.4,(3459:0.0,6834:1.0):0.6):0.369):0.099,7454:0.901):0.165):0.306):0.413):0.133,((1179:0.862,(1180:0.0,7100:1.0):0.138):0.169,2663:0.831):0.347):0.16,(861:0.638,(3977:0.659,(5444:0.382,5452:0.618):0.341):0.362):0.355):0.069,(((805:0.788,(1103:0.0,1104:1.0):0.212):0.337,4754:0.663):0.215,((3027:0.0,3235:1.0):0.258,3227:0.742):0.285):0.499):0.088,(((815:0.36,5187:0.64):0.376,3513:0.624):0.342,(3736:0.215,((4365:0.754,(5012:0.276,8637:0.724):0.246):0.379,(4539:0.0,6731:1.0):0.621):0.285):0.22):0.364):0.206,((((((312:0.0,5657:1.0):0.173,5655:0.827):0.139,5656:0.861):0.216,((4602:0.214,(6367:0.0,8677:1.0):0.786):0.13,((((8560:1.0,8561:0.0):0.243,8697:0.757):0.578,8696:0.422):0.227,9232:0.773):0.37):0.284):0.164,((3286:0.404,((3379:0.0,3443:1.0):0.0,8456:1.0):0.596):0.327,5051:0.673):0.571):0.313,(((469:0.236,(6895:0.0,8051:1.0):0.764):0.165,981:0.835):0.241,1094:0.759):0.5):0.309):0.042):0.062):0.033,((((((((((((((127:0.0,6371:1.0):0.1,6094:0.9):0.275,5999:0.725):0.204,((((((624:1.0,625:0.0):0.105,7726:0.895):0.224,(6839:0.286,8244:0.714):0.776):0.067,(2955:0.775,5288:0.225):0.558):0.094,((((626:0.0,627:1.0):0.0,7521:1.0):0.092,6113:0.908):0.079,((5329:0.6,6274:0.4):0.261,6272:0.739):0.421):0.218):0.241,6070:0.759):0.272):0.071,((((1984:0.609,8086:0.391):0.811,6074:0.189):0.466,((5647:0.0,8261:1.0):0.175,5648:0.825):0.534):0.2,((((2598:0.462,5766:0.538):0.322,(5527:0.328,5979:0.672):0.428):0.246,(5502:0.164,(5811:0.0,5812:1.0):0.836):0.379):0.135,5992:0.615):0.253):0.042):0.027,(((((((((((788:0.0,5565:1.0):0.0,5612:1.0):0.0,5630:1.0):0.0,5900:1.0):0.2,6105:0.8):0.126,(5723:0.553,6004:0.447):0.624):0.106,5618:0.769):0.101,(((((2072:0.0,5500:1.0):0.0,5671:1.0):0.0,5869:1.0):0.076,5838:0.924):0.15,2492:0.85):0.243):0.083,6032:0.745):0.219,(((3440:0.643,(5948:0.59,5980:0.41):0.357):0.292,5977:0.708):0.174,(6096:0.0,6849:1.0):0.826):0.122):0.054,((((1194:0.624,((5555:0.0,5688:1.0):0.116,(5944:0.0,6088:1.0):0.884):0.376):0.274,((5761:0.0,5762:1.0):0.52,5763:0.48):0.476):0.093,6055:0.782):0.058,((5571:0.811,(5635:0.319,5938:0.681):0.189):0.333,5797:0.667):0.208):0.102):0.062):0.081,((((((((1515:0.0,2279:1.0):0.0,2672:1.0):0.0,5887:1.0):0.0,5889:1.0):0.0,5890:1.0):0.122,5997:0.878):0.076,2007:0.924):0.534,(((2613:0.0,5891:1.0):0.646,(3627:0.633,(3637:0.679,((((5510:0.0,5718:1.0):0.0,5745:1.0):0.0,5943:1.0):0.0,(5802:0.0,5803:1.0):1.0):0.321):0.367):0.354):0.324,5744:0.676):0.466):0.113):0.043,((((1651:0.85,(((((((4414:0.0,4416:1.0):0.0,4415:1.0):0.5,(4418:0.0,8276:1.0):0.5):0.5,4417:0.0):1.0,((5722:0.0,5725:1.0):0.0,6033:1.0):0.0):0.157,5831:0.843):0.128,5724:0.872):0.15):0.451,(3024:0.609,(5272:0.155,5708:0.845):0.391):0.361):0.472,(((((1723:0.588,(2725:0.239,5904:0.761):0.412):0.343,(((((2664:0.0,5748:1.0):0.0,6010:1.0):0.0,6114:1.0):0.146,5941:0.854):0.078,6112:0.922):0.157):0.168,(2972:0.351,5814:0.649):0.332):0.127,(((((((((((4270:0.25,((4271:0.0,6169:1.0):0.0,4275:1.0):0.25):0.25,4273:0.5):0.125,4272:0.625):0.531,(4276:0.0,4279:1.0):0.156):0.5,4274:0.656):0.172,4278:0.828):0.172,4277:0.0):1.0,(5569:1.0,5570:0.0):0.0):0.266,6089:0.734):0.328,5963:0.672):0.285,6087:0.715):0.123):0.104,(1914:0.552,1915:0.448):0.802):0.094):0.02,(((2304:0.561,((5599:0.0,5600:1.0):0.447,5985:0.553):0.439):0.154,((2387:0.822,(4190:0.0,6121:1.0):0.178):0.184,3020:0.816):0.346):0.206,6028:0.794):0.203):0.104):0.029,((((((950:0.793,(2013:0.0,6064:1.0):0.207):0.262,6056:0.738):0.267,((5767:0.693,5768:0.307):0.385,6081:0.615):0.483):0.266,((((5503:0.277,5504:0.723):0.258,5505:0.742):0.339,5506:0.661):0.545,5633:0.455):0.328):0.071,((((((((2097:0.0,2098:1.0):0.0,5782:1.0):0.114,(2600:0.226,((4466:0.219,(4718:0.0,6901:1.0):0.781):0.549,7407:0.451):0.774):0.886):0.075,6019:0.925):0.121,5591:0.879):0.08,7629:0.92):0.039,(((2440:0.37,2978:0.63):0.258,8179:0.742):0.355,2979:0.395):0.336):0.191,((((((4937:1.0,4938:0.0):0.471,6687:0.529):0.479,(((6878:0.0,7387:1.0):0.0,7388:1.0):0.0,7389:1.0):0.521):0.432,6118:0.568):0.228,(6165:0.526,6832:0.474):0.272):0.469,6009:0.781):0.491):0.224):0.14,((((((((1171:0.0,6035:1.0):0.0,6420:1.0):0.244,6073:0.756):0.228,1929:0.772):0.082,(5832:0.725,(6520:0.317,(6695:0.577,((6696:0.455,7502:0.545):0.478,6697:0.022):0.173):0.683):0.838):0.793):0.249,3236:0.564):0.25,(((5598:0.23,6024:0.77):0.264,6107:0.736):0.323,6053:0.677):0.297):0.165,((1487:0.0,(2453:0.0,2557:1.0):1.0):0.517,(1488:0.285,1893:0.715):0.483):0.518):0.038):0.075):0.039,((((((1931:0.0,2043:1.0):0.0,2550:1.0):0.332,1944:0.668):0.209,(2405:0.0,5641:1.0):0.791):0.435,((2497:0.0,5974:1.0):0.602,4677:0.398):0.44):0.289,(2966:0.584,(6066:0.672,6086:0.328):0.416):0.086):0.315):0.031,(((((((((2626:0.0,5839:1.0):0.0,5840:1.0):0.0,5841:1.0):0.15,5842:0.85):0.088,5844:0.912):0.178,(4449:0.0,4450:1.0):0.822):0.212,5843:0.788):0.672,(((3075:0.0,5796:1.0):0.286,(4755:0.164,4756:0.836):0.714):0.27,4817:0.73):0.281):0.111,((((3476:0.176,4818:0.824):0.179,((3703:0.0,6745:1.0):0.13,5849:0.87):0.321):0.145,4816:0.355):0.417,((5278:0.339,6097:0.661):0.402,6108:0.598):0.239):0.194):0.192):0.038,(((((((144:0.0,742:1.0):0.0,945:1.0):0.0,1146:1.0):0.0,1147:1.0):0.355,1148:0.645):0.427,(963:0.314,6601:0.686):0.573):0.502,((145:0.507,(2280:0.0,6015:1.0):0.493):0.491,(((1101:0.505,((4669:0.0,4670:1.0):0.0,4671:1.0):0.495):0.418,1692:0.582):0.268,4673:0.732):0.259):0.436):0.431):0.038,((((((262:0.557,3900:0.443):0.065,6692:0.435):0.308,(((1872:0.0,7916:1.0):0.279,(6251:0.122,8335:0.878):0.221):0.336,((2866:0.756,3401:0.244):0.414,3600:0.586):0.664):0.192):0.34,(((572:0.367,3918:0.633):0.447,((1153:0.412,(1154:0.53,4149:0.47):0.088):0.37,(3571:0.693,(3578:0.651,3583:0.349):0.307):0.38):0.303):0.063,(((((2857:0.0,9064:1.0):0.211,9006:0.789):0.15,9081:0.85):0.195,(4151:0.635,((7166:0.0,7167:1.0):0.0,7176:1.0):0.365):0.305):0.156,(4150:0.535,6693:0.465):0.094):0.187):0.299):0.191,((((((571:0.328,(2272:0.195,7203:0.805):0.172):0.166,((((602:0.297,2670:0.703):0.207,5137:0.793):0.169,2233:0.831):0.18,(4090:0.557,((4295:0.435,5136:0.565):0.077,5141:0.423):0.193):0.211):0.123):0.045,4908:0.619):0.214,((((((603:0.0,8242:1.0):0.034,(5186:0.431,7223:0.569):0.466):0.135,((((3242:0.161,9140:0.839):0.231,5808:0.769):0.219,8502:0.781):0.249,((3243:0.0,9159:1.0):0.368,(3283:0.686,(5135:0.0,6740:1.0):0.314):0.132):0.188):0.146):0.12,(((4053:0.0,8604:1.0):0.151,8001:0.849):0.333,4519:0.667):0.099):0.074,((912:0.51,913:0.49):0.481,4088:0.519):0.348):0.121,(((3772:0.39,7796:0.61):0.222,(5237:0.546,((5238:0.048,9214:0.952):0.242,5239:0.258):0.204):0.403):0.248,5242:0.564):0.238):0.07):0.113,((((3673:0.609,5134:0.391):0.077,4054:0.423):0.204,6450:0.546):0.227,(((((3853:0.0,7381:1.0):0.0,8406:1.0):0.0,8548:1.0):0.226,(8549:0.37,8651:0.63):0.774):0.109,(4055:0.142,4578:0.858):0.391):0.054):0.207):0.113,((((1624:0.162,8434:0.838):0.203,(((3869:0.122,4156:0.878):0.086,(4152:0.548,4153:0.452):0.414):0.129,3870:0.121):0.172):0.147,4155:0.54):0.286,(((2188:0.537,2411:0.463):0.395,2935:0.605):0.089,((4712:0.16,9117:0.84):0.166,8846:0.834):0.411):0.37):0.187):0.143):0.06,(((438:0.248,((1983:0.328,5274:0.672):0.178,(2536:0.0,6787:1.0):0.822):0.252):0.455,(((444:0.209,985:0.791):0.184,964:0.816):0.178,4742:0.822):0.295):0.524,(983:0.673,1670:0.327):0.444):0.553):0.054):0.023,((((((((((((243:0.0,5586:1.0):0.0,5695:1.0):0.0,5732:1.0):0.0,6052:1.0):0.0,6402:1.0):0.0,6779:1.0):0.22,2157:0.78):0.136,((4972:0.269,5754:0.731):0.207,5634:0.793):0.364):0.381,(((245:0.402,(1001:0.704,5334:0.296):0.598):0.294,((2096:0.247,2262:0.753):0.565,2263:0.435):0.706):0.116,(((((((881:0.0,8400:1.0):0.0,8417:1.0):0.0,8418:1.0):0.0,8419:1.0):0.159,(2730:0.668,((3002:0.345,3278:0.655):0.276,3169:0.724):0.332):0.091):0.368,2441:0.632):0.197,(3909:0.0,8185:1.0):0.303):0.25):0.107):0.13,((3554:0.649,(6805:0.0,6885:1.0):0.351):0.425,(((5523:0.258,5524:0.742):0.218,5525:0.782):0.453,6095:0.547):0.2):0.379):0.031,((((((1028:0.17,3208:0.83):0.146,3381:0.854):0.154,2696:0.846):0.373,3363:0.627):0.177,(3257:0.743,((6058:0.0,7295:1.0):0.272,7743:0.728):0.257):0.573):0.304,(((3712:0.0,5074:1.0):0.0,5075:1.0):0.427,6868:0.573):0.571):0.126):0.175,((((389:0.0,4351:1.0):0.545,((1118:0.0,4282:1.0):0.393,4283:0.607):0.455):0.423,(2677:0.751,(7655:0.0,7990:1.0):0.249):0.577):0.469,((((((691:0.0,4511:1.0):0.0,6269:1.0):0.775,(((1839:0.0,4962:1.0):0.0,7878:1.0):0.296,7797:0.704):0.225):0.372,(3098:0.694,((3265:0.389,3294:0.611):0.371,3454:0.629):0.306):0.628):0.326,2766:0.674):0.296,(2754:0.369,4505:0.631):0.563):0.316):0.086):0.044):0.007):0.008,(((((((181:0.403,8009:0.597):0.184,763:0.316):0.215,730:0.785):0.201,((4066:0.0,8513:1.0):0.19,4388:0.81):0.799):0.275,1905:0.725):0.277,(2889:0.574,((3419:0.0,7598:1.0):0.247,4740:0.753):0.426):0.364):0.205,(((((359:0.392,4941:0.608):0.227,4942:0.773):0.309,4106:0.691):0.645,(((851:0.237,(((1626:0.0,(1675:0.0,2585:1.0):1.0):0.205,4269:0.795):0.257,((1693:0.264,(4266:0.387,(4267:0.33,(4268:0.0,(8975:0.0,9011:1.0):1.0):0.67):0.113):0.236):0.178,4265:0.447):0.118):0.076):0.273,6079:0.727):0.408,(5615:0.502,5940:0.498):0.592):0.355):0.253,((((393:0.0,9241:1.0):0.529,(6124:0.666,((8643:0.0,8644:1.0):0.0,8645:1.0):0.334):0.471):0.429,(((474:0.375,1481:0.625):0.235,((1158:0.109,8646:0.891):0.243,1560:0.257):0.015):0.171,(((1605:0.876,(((1932:0.0,8648:1.0):0.0,8649:1.0):0.0,8650:1.0):0.124):0.072,8647:0.928):0.18,5559:0.82):0.204):0.259):0.246,(((((((439:0.0,5234:1.0):0.0,5756:1.0):0.162,6059:0.838):0.201,8523:0.799):0.127,(2235:0.411,5281:0.589):0.373):0.072,(3964:0.314,8622:0.686):0.428):0.134,(579:0.0,8582:1.0):0.866):0.215):0.107):0.066):0.081):0.004):0.018):0.012):0.008,(((((347:0.454,(7293:0.0,8395:1.0):0.546):0.691,(716:0.616,(((3675:0.0,4949:1.0):0.0,4950:1.0):0.749,((8829:0.0,8989:1.0):0.14,8882:0.86):0.251):0.384):0.309):0.443,((1009:1.0,1010:0.0):0.907,(3997:0.116,((5158:0.026,5988:0.974):0.696,(5989:0.419,7866:0.581):0.304):0.384):0.093):0.393):0.334,(((((363:0.813,((5517:0.0,6232:1.0):0.69,(5518:0.0,5728:1.0):0.31):0.187):0.113,((3550:0.435,(8630:0.5,8631:0.5):0.065):0.264,8629:0.236):0.637):0.417,(2088:0.688,(5696:0.432,((6428:0.0,7237:1.0):0.349,7472:0.651):0.568):0.312):0.583):0.307,(((1412:0.225,1415:0.775):0.402,(1413:0.33,4064:0.67):0.098):0.347,(((2201:0.543,2202:0.457):0.827,((((2977:0.0,3435:1.0):0.0,3701:1.0):0.236,3368:0.764):0.117,3544:0.883):0.173):0.24,3665:0.76):0.153):0.412):0.194,(((((558:0.2,559:0.8):0.47,(1184:0.0,1185:1.0):0.53):0.022,(5104:0.49,((((5772:0.0,8755:1.0):0.0,8756:1.0):0.448,6985:0.552):0.08,(8744:0.0,8745:1.0):0.42):0.76):0.478):0.456,(5159:0.568,((5352:0.0,(6320:1.0,6321:0.0):1.0):0.402,(6149:0.0,7879:1.0):0.598):0.432):0.544):0.22,(((622:0.795,623:0.205):0.514,((1036:0.0,2583:1.0):0.409,6545:0.591):0.486):0.486,((((786:0.0,1530:1.0):0.71,(1426:0.0,8203:1.0):0.29):0.256,(((3308:0.723,(5058:0.643,((8784:0.0,8834:1.0):0.319,(9077:0.0,9078:1.0):0.681):0.357):0.277):0.265,8842:0.61):0.313,8202:0.75):0.744):0.217,((((2824:0.0,8224:1.0):0.506,4784:0.494):0.535,((((2825:0.0,6292:1.0):0.0,8211:1.0):0.168,2827:0.832):0.33,3730:0.67):0.34):0.258,(((3749:0.0,5349:1.0):0.0,7639:1.0):0.008,5348:0.992):0.305):0.295):0.082):0.221):0.051):0.032):0.064,((((((((((1431:0.0,5665:1.0):0.0,5667:1.0):0.0,6157:1.0):0.0,6948:1.0):0.0,8180:1.0):0.319,5668:0.681):0.185,5670:0.815):0.459,(1618:0.663,(2014:0.332,7885:0.668):0.337):0.541):0.12,((3395:0.735,(3677:0.806,((((5507:0.0,5683:1.0):0.0,5697:1.0):0.0,5795:1.0):0.197,5935:0.803):0.194):0.265):0.157,3950:0.843):0.38):0.353,(((1507:0.535,1508:0.465):0.499,((2278:0.248,2541:0.752):0.732,(((((((((2436:0.0,5707:1.0):0.0,5709:1.0):0.0,5710:1.0):0.0,5711:1.0):0.0,5712:1.0):0.0,5713:1.0):0.0,6027:1.0):0.239,3458:0.761):0.137,2572:0.863):0.268):0.376):0.554,(((1746:0.188,1747:0.812):0.223,2444:0.777):0.365,(3858:0.554,4459:0.446):0.135):0.368):0.283):0.102):0.024):0.011,(((((((((((((((((((2:0.0,6850:1.0):0.0,6851:1.0):0.0,8013:1.0):0.275,52:0.725):0.276,((432:0.215,7191:0.785):0.547,2168:0.453):0.099):0.175,1920:0.638):0.253,(2073:0.658,(2576:0.0,8125:1.0):0.342):0.497):0.317,6741:0.683):0.496,(((((((87:0.0,5033:1.0):0.0,8350:1.0):0.123,5344:0.877):0.196,5516:0.804):0.189,6486:0.811):0.386,8598:0.614):0.299,((317:0.471,6945:0.529):0.644,6426:0.356):0.498):0.178):0.09,(((235:0.777,(((837:0.0,1032:1.0):0.0,7962:1.0):0.341,7779:0.659):0.223):0.546,(((((836:0.0,7451:1.0):0.0,8375:1.0):0.0,8382:1.0):0.0,8719:1.0):0.396,((((874:0.0,5809:1.0):0.166,((875:0.0,8510:1.0):0.348,(876:0.731,(877:0.462,8511:0.538):0.269):0.152):0.209):0.307,(7156:0.0,7174:1.0):0.443):0.156,7153:0.626):0.463):0.204):0.336,((((((739:0.533,(5194:0.0,7896:1.0):0.467):0.268,5372:0.732):0.291,(((((997:0.0,6413:1.0):0.0,6414:1.0):0.0,6415:1.0):0.0,7493:1.0):0.0,8362:1.0):0.209):0.244,((969:0.167,7625:0.833):0.19,1038:0.81):0.538):0.273,(((6067:0.0,7787:1.0):0.476,6770:0.524):0.439,6771:0.561):0.586):0.276,4290:0.849):0.191):0.199):0.016,((((((((((((147:0.0,7653:1.0):0.0,7654:1.0):0.0,8229:1.0):0.0,8230:1.0):0.0,(6489:0.0,7577:1.0):1.0):0.0,(7416:0.0,8384:1.0):1.0):0.234,(750:0.377,1495:0.623):0.266):0.105,(((925:0.0,5760:1.0):0.0,7758:1.0):0.697,(6915:0.494,7000:0.506):0.303):0.207):0.294,((((3938:0.22,((6155:0.185,7461:0.815):0.286,7233:0.714):0.03):0.133,(3940:0.298,5013:0.702):0.18):0.25,6492:0.594):0.137,3939:0.425):0.081):0.256,(468:0.812,(((1418:0.506,(((6726:0.0,6975:1.0):0.0,8371:1.0):0.0,8372:1.0):0.494):0.192,6725:0.308):0.37,((5585:0.0,6030:1.0):0.0,8478:1.0):0.13):0.188):0.35):0.261,(4390:0.485,((4496:0.181,5883:0.819):0.485,(6341:0.24,(((6560:0.0,6909:1.0):0.623,(6679:0.243,(7179:0.0,8430:1.0):0.757):0.377):0.415,6680:0.585):0.51):0.14):0.14):0.41):0.133,(2377:0.534,(3503:0.867,((((4495:0.193,((4659:1.0,4660:0.0):1.0,4661:0.0):0.807):0.198,(7405:0.0,7679:1.0):0.302):0.105,((7145:1.0,7146:0.0):0.781,7260:0.219):0.52):0.147,(5582:0.435,((((7672:0.0,7673:1.0):0.0,7674:1.0):0.0,7676:1.0):0.359,7675:0.641):0.565):0.322):0.43):0.466):0.607):0.122):0.038,((((557:0.107,(4016:0.513,7157:0.487):0.393):0.225,(3533:0.12,8602:0.88):0.15):0.518,((((952:0.0,4422:1.0):0.0,(9271:0.0,9272:1.0):1.0):0.766,((((953:0.0,3256:1.0):0.0,7355:1.0):0.112,(6442:0.324,8566:0.676):0.388):0.124,7898:0.876):0.234):0.231,((2445:0.359,4664:0.641):0.648,(2985:0.648,(3366:0.408,(5450:0.599,7877:0.401):0.592):0.352):0.352):0.394):0.044):0.15,((4294:0.344,4543:0.656):0.461,4544:0.539):0.639):0.085):0.011,((((136:0.699,((2285:0.0,2286:1.0):0.847,(3537:0.915,4465:0.085):0.153):0.301):0.452,(4464:0.638,(8336:0.0,8337:1.0):0.362):0.548):0.173,((3067:0.217,(4110:0.106,4111:0.894):0.283):0.364,(3175:0.332,(7046:0.193,7075:0.807):0.668):0.386):0.233):0.134,((537:0.61,(((((2748:0.0,8792:1.0):0.0,9410:1.0):0.099,((4624:0.609,6604:0.391):0.298,9186:0.702):0.401):0.299,((3281:0.0,3282:1.0):0.653,8274:0.347):0.701):0.162,8831:0.838):0.39):0.281,(((618:0.268,619:0.732):0.29,(4317:0.285,6313:0.715):0.21):0.482,((1482:0.466,1580:0.534):0.4,1844:0.6):0.455):0.176):0.193):0.135):0.021,(((((((((((20:0.0,4608:1.0):0.0,6976:1.0):0.0,7001:1.0):0.0,7590:1.0):0.0,7862:1.0):0.155,6231:0.845):0.467,((870:0.268,871:0.732):0.233,6377:0.767):0.283):0.186,(((50:0.092,((3411:0.0,3412:1.0):0.0,8014:1.0):0.908):0.097,(((3847:0.0,8472:1.0):0.097,6485:0.903):0.079,((4127:0.0,7960:1.0):0.448,(4128:0.5,4579:0.5):0.052):0.421):0.028):0.127,(51:0.0,5095:1.0):0.936):0.321):0.481,(((((523:0.411,2601:0.589):0.225,(8530:0.0,8532:1.0):0.775):0.264,8531:0.236):0.376,(((((((748:0.0,1916:1.0):0.0,2109:1.0):0.0,2129:1.0):0.0,2204:1.0):0.0,2354:1.0):0.0,2524:1.0):0.345,(2215:0.161,5588:0.839):0.655):0.124):0.301,(1478:0.626,2359:0.374):0.824):0.238):0.11,(((((56:0.734,(57:0.0,1170:1.0):0.266):0.486,(((401:1.0,402:0.0):0.0,1090:1.0):0.444,1087:0.556):0.514):0.161,1005:0.339):0.509,(1085:0.233,((3106:0.199,3152:0.801):0.498,3153:0.502):0.767):0.726):0.244,((((827:0.0,8233:1.0):0.205,1753:0.795):0.378,(5289:0.425,5290:0.575):0.622):0.591,(((2249:0.0,2250:1.0):1.0,3872:0.0):0.639,2701:0.361):0.284):0.334):0.076):0.056,(((((244:0.537,(5363:0.0,6806:1.0):0.463):0.315,(2812:0.369,4967:0.631):0.185):0.163,6753:0.587):0.672,(((((261:0.518,(((4252:1.0,8428:0.0):0.587,(6205:0.0,7337:1.0):0.413):0.26,8514:0.74):0.482):0.413,6888:0.587):0.452,(3841:0.537,(8544:0.215,9126:0.785):0.463):0.36):0.087,((((455:0.539,(4438:0.0,4441:1.0):0.461):0.325,3850:0.675):0.264,4440:0.736):0.373,((1106:0.291,4097:0.709):0.317,2472:0.683):0.377):0.126):0.036,((((((((((((544:0.997,(((((((((((((((((((2036:0.001,8278:0.999):0.001,8481:0.999):0.0,8485:1.0):0.0,8486:1.0):0.0,8487:1.0):0.0,8552:1.0):0.0,8553:1.0):0.0,8554:1.0):0.0,8555:1.0):0.0,8563:1.0):0.0,8580:1.0):0.0,8678:1.0):0.0,8759:1.0):0.0,9198:1.0):0.0,9273:1.0):0.001,(7642:0.0,7643:1.0):0.999):0.0,(8596:0.0,8597:1.0):1.0):0.001,9411:0.999):0.001,4444:0.999):0.003):0.002,8538:0.998):0.002,(((1668:0.0,1669:1.0):0.0,1674:1.0):0.0,1768:1.0):0.998):0.009,6254:0.991):0.007,7825:0.993):0.027,(4680:0.487,8522:0.513):0.473):0.02,((((5056:0.38,((7586:0.0,8576:1.0):0.0,8577:1.0):0.62):0.484,8575:0.516):0.246,8578:0.754):0.281,8539:0.969):0.043):0.013,5404:0.987):0.022,((((((756:0.492,3473:0.508):0.354,4146:0.146):0.696,(4336:0.449,8492:0.551):0.304):0.102,(1093:0.343,4338:0.657):0.273):0.047,(3972:0.454,(4337:0.0,8543:1.0):0.546):0.421):0.055,((((825:0.0,(4974:0.0,(8466:0.0,8467:1.0):1.0):1.0):0.299,4774:0.701):0.253,8507:0.747):0.133,9197:0.867):0.187):0.035):0.012,(((1761:0.0,2386:1.0):1.0,1762:0.0):0.515,1834:0.485):0.489):0.05,(5654:0.816,((6279:0.661,7768:0.339):0.323,8529:0.677):0.434):0.073):0.033,(2342:0.677,(5343:0.591,7415:0.409):0.323):0.389):0.056):0.035):0.02,((((266:0.0,7828:1.0):0.317,1712:0.683):0.245,(7827:0.0,8557:1.0):0.755):0.347,(499:0.29,(5719:0.567,5720:0.433):0.71):0.653):0.192):0.03):0.015):0.012,((((((((((((((((((((((((((((((((((((((((((((((((((((((((((((((((((((((((((((((((((((282:0.0,5076:1.0):0.0,8441:1.0):0.0,8715:1.0):0.0,8716:1.0):0.0,8732:1.0):0.0,8733:1.0):0.0,8734:1.0):0.0,8735:1.0):0.0,8736:1.0):0.0,8737:1.0):0.0,9289:1.0):0.0,9290:1.0):0.0,9291:1.0):0.0,9292:1.0):0.0,9293:1.0):0.0,9294:1.0):0.0,9295:1.0):0.0,9296:1.0):0.0,9297:1.0):0.0,9333:1.0):0.0,9334:1.0):0.0,9335:1.0):0.0,9336:1.0):0.0,9337:1.0):0.0,9338:1.0):0.0,9339:1.0):0.0,9340:1.0):0.0,9341:1.0):0.0,9342:1.0):0.0,9343:1.0):0.0,9344:1.0):0.0,9345:1.0):0.0,9346:1.0):0.0,9347:1.0):0.0,9348:1.0):0.0,9349:1.0):0.0,9350:1.0):0.0,9351:1.0):0.0,9352:1.0):0.0,9353:1.0):0.0,9354:1.0):0.0,9355:1.0):0.0,9356:1.0):0.0,9357:1.0):0.0,9358:1.0):0.0,9359:1.0):0.0,9360:1.0):0.0,9361:1.0):0.0,9362:1.0):0.0,9363:1.0):0.0,9364:1.0):0.0,9365:1.0):0.0,9366:1.0):0.0,9367:1.0):0.0,9368:1.0):0.0,9369:1.0):0.0,9370:1.0):0.0,9371:1.0):0.0,9372:1.0):0.0,9373:1.0):0.0,9374:1.0):0.0,9375:1.0):0.0,9376:1.0):0.0,9377:1.0):0.0,9378:1.0):0.0,9379:1.0):0.0,9380:1.0):0.0,9381:1.0):0.0,9382:1.0):0.0,9383:1.0):0.0,9384:1.0):0.0,9385:1.0):0.0,9386:1.0):0.0,9387:1.0):0.0,9388:1.0):0.0,9389:1.0):0.0,9390:1.0):0.0,9391:1.0):0.039,(7129:0.473,7857:0.527):0.461):0.131,9279:0.869):0.438,(((2529:0.773,6807:0.227):0.687,((((((6084:0.0,7446:1.0):0.0,7702:1.0):0.0,7703:1.0):0.241,7701:0.759):0.209,7445:0.791):0.716,(((6460:0.0,7189:1.0):0.0,7855:1.0):0.292,7187:0.708):0.284):0.25):0.303,((3172:0.305,3191:0.695):0.39,(((5909:0.259,6898:0.741):0.324,7319:0.676):0.274,((6239:0.0,7576:1.0):0.724,6537:0.276):0.476):0.235):0.228):0.125):0.229,(((1608:0.447,(2083:0.471,2084:0.529):0.553):0.056,8021:0.444):0.048,(3124:0.75,6534:0.25):0.452):1.106):0.114,(((3330:0.768,3422:0.232):0.496,((3559:0.0,3593:1.0):0.0,4213:1.0):0.504):0.55,9184:0.45):0.707):0.189,(((((((((((((((((284:0.287,9420:0.713):0.174,1886:0.826):0.126,9416:0.874):0.038,((1857:0.821,2042:0.179):0.143,9414:0.857):0.056):0.052,((1824:0.0,8464:1.0):0.123,9419:0.877):0.089):0.088,((((826:0.0,8396:1.0):0.0,9427:1.0):0.128,9423:0.872):0.165,((2597:0.183,9422:0.817):0.149,6752:0.851):0.085):0.006):0.075,((((4826:0.0,7061:1.0):0.0,7062:1.0):0.145,9417:0.855):0.185,(((5514:0.216,9425:0.784):0.116,9428:0.884):0.142,9415:0.858):0.19):0.081):0.106,((1884:0.754,(5418:0.37,9421:0.63):0.246):0.236,((2000:0.872,(4837:0.819,((5417:0.0,5962:1.0):0.194,5428:0.806):0.181):0.128):0.248,3924:0.752):0.014):0.058):0.028,(2006:0.487,2486:0.513):0.827):0.057,(((((1156:0.858,(4254:0.0,9435:1.0):0.142):0.165,9424:0.835):0.084,9434:0.916):0.249,(((3933:0.696,4255:0.304):0.348,8684:0.652):0.178,8685:0.822):0.251):0.249,(((5121:1.0,5122:0.0):0.452,7111:0.548):0.424,5123:0.576):0.126):0.122):0.078,((((929:0.85,((((3396:0.0,9430:1.0):0.0,9431:1.0):0.0,9432:1.0):0.222,5870:0.778):0.15):0.162,9433:0.838):0.246,9429:0.754):0.291,((((((5572:1.0,5573:0.0):0.0,5602:1.0):0.0,5818:1.0):0.0,5965:1.0):0.707,5952:0.293):0.386,5973:0.614):0.741):0.077):0.049,(((1960:0.0,5764:1.0):0.0,5765:1.0):0.648,(7615:0.345,8301:0.655):0.352):0.316):0.048,((((((946:0.082,5420:0.918):0.479,6796:0.521):0.228,(6749:0.731,8381:0.269):0.272):0.236,(2256:0.712,(3425:0.243,9426:0.757):0.288):0.264):0.097,4841:0.653):0.06,(6063:0.53,8272:0.47):0.347):0.154):0.14,((6335:0.179,8722:0.821):0.685,8693:0.815):0.199):0.025,((((773:0.721,2602:0.279):0.185,9418:0.815):0.409,8528:0.591):0.267,(((((1081:0.426,(1082:0.483,(((8852:0.0,9025:1.0):0.0,9045:1.0):0.0,9055:1.0):0.517):0.074):0.2,((4157:0.0,7666:1.0):0.378,(4158:0.527,8674:0.473):0.122):0.175):0.212,(((((3011:0.0,5244:1.0):0.0,6557:1.0):0.0,8436:1.0):0.0,9182:1.0):0.0,9183:1.0):0.1):0.143,(((((3397:0.0,8432:1.0):0.0,8558:1.0):0.0,8559:1.0):0.318,8438:0.682):0.342,(7287:0.347,7892:0.653):0.658):0.138):0.32,8482:0.758):0.046):0.207):0.149,((((289:0.817,((4256:0.255,7633:0.745):0.255,9436:0.745):0.183):0.286,8572:0.714):0.119,((947:0.103,5419:0.897):0.353,6128:0.647):0.381):0.246,(1092:0.695,(((((1843:0.0,5529:1.0):0.0,5530:1.0):0.0,5531:1.0):0.0,5982:1.0):0.289,4684:0.711):0.305):0.379):0.095):0.015,((((1518:0.233,((2147:0.0,8928:1.0):0.0,9071:1.0):0.767):0.432,((2146:0.0,2704:1.0):0.0,9275:1.0):0.568):0.386,8491:0.614):0.182,((4154:0.351,7144:0.649):0.416,((6501:0.267,9274:0.733):0.595,(6751:0.0,(8453:0.0,8454:1.0):1.0):0.405):0.084):0.193):0.39):0.106):0.021):0.023,(((77:0.521,1126:0.479):0.404,(((((((1137:0.0,1181:1.0):0.0,1182:1.0):0.319,6411:0.681):0.2,1138:0.8):0.554,1151:0.446):0.544,(1152:0.297,2417:0.703):0.456):0.331,((2318:0.781,((((3726:0.0,5747:1.0):0.0,5930:1.0):0.0,6129:1.0):0.0,9412:1.0):0.219):0.154,(((2961:0.0,5790:1.0):0.26,5501:0.74):0.208,6077:0.792):0.346):0.419):0.487):0.149,((((((97:0.341,(4992:0.715,4993:0.285):0.159):0.123,(7326:0.0,8304:1.0):0.627):0.457,((714:0.0,4953:1.0):0.139,7995:0.861):0.293):0.067,((((((((1018:0.214,6266:0.786):0.276,1019:0.224):0.285,(6267:0.527,8297:0.473):0.215):0.287,4332:0.088):0.166,3137:0.522):0.175,((4331:0.0,7006:1.0):0.167,4333:0.833):0.481):0.096,7366:0.904):0.344,(3253:0.197,(3254:0.495,((3326:0.0,3618:1.0):0.0,3653:1.0):0.505):0.303):0.75):0.644):0.202,(((1996:0.495,6642:0.505):0.509,(4131:0.299,8686:0.701):0.491):0.275,((((4713:0.0,4714:1.0):0.674,(4715:0.381,6667:0.619):0.326):0.157,4716:0.343):0.249,(6213:0.805,((7360:0.301,((8067:0.767,8069:0.233):0.333,8068:0.667):0.199):0.063,8066:0.687):0.195):0.563):0.202):0.135):0.317,((((267:0.302,4534:0.698):0.486,268:0.514):0.597,((4487:0.114,(((4584:0.38,6968:0.62):0.24,(5414:0.412,6872:0.588):0.26):0.012,6871:0.738):0.261):0.014,((5332:0.0,7762:1.0):0.27,((8214:0.0,8215:1.0):0.5,8216:0.5):0.23):0.361):0.465):0.249,((((346:0.606,7874:0.394):0.42,(4349:1.0,4350:0.0):0.58):0.349,4439:0.151):0.436,((((1682:0.0,2312:1.0):0.556,6275:0.444):0.537,(3500:0.426,(4782:0.324,8070:0.676):0.574):0.463):0.071,(4717:0.58,(7099:0.738,7196:0.262):0.42):0.241):0.408):0.246):0.248):0.061):0.042):0.004,(((((((((((107:0.131,1086:0.869):0.566,110:0.434):0.393,(108:0.0,7364:1.0):0.107):0.185,109:0.815):0.355,(((174:0.0,8340:1.0):0.0,9215:1.0):0.062,((5108:0.0,6346:1.0):0.48,5109:0.52):0.438):0.145):0.145,(3784:0.579,4761:0.421):0.23):0.148,((((1193:0.0,5045:1.0):0.407,5044:0.593):0.296,5043:0.704):0.462,5261:0.538):0.539):0.215,(((175:0.75,1120:0.25):0.338,(3135:0.0,3410:1.0):0.662):0.335,(((447:0.854,1034:0.146):0.52,448:0.48):0.406,(2874:0.639,(2875:0.301,7414:0.699):0.361):0.282):0.134):0.187):0.054,(((978:0.0,2397:1.0):0.793,7244:0.207):0.704,((3785:0.0,6451:1.0):0.415,((4507:0.124,5820:0.876):0.344,(5730:0.713,5731:0.287):0.156):0.835):0.296):0.218):0.136,((((128:0.124,3991:0.876):0.266,(((1071:0.0,2150:1.0):0.742,2221:0.258):0.205,2220:0.795):0.484):0.272,6662:0.853):0.165,((((216:0.176,7956:0.824):0.084,((5060:0.387,(6154:0.0,(7257:0.0,(7258:0.5,(7259:0.0,(7699:1.0,7700:0.0):1.0):0.5):0.5):1.0):0.613):0.327,((6463:0.034,7200:0.966):0.512,7201:0.488):0.423):0.291):0.302,((1155:0.0,6462:1.0):0.39,((1582:0.0,5367:1.0):0.792,1684:0.208):0.61):0.573):0.28,((505:0.842,(767:0.015,3274:0.985):0.158):0.16,(1220:0.639,((4860:0.0,6727:1.0):0.365,6728:0.635):0.361):0.59):0.291):0.083):0.102):0.035,(((((((354:0.0,7812:1.0):0.0,7813:1.0):0.0,7814:1.0):0.57,((1970:0.0,7815:1.0):0.146,(((2860:0.119,((2863:0.974,2865:0.026):0.013,2864:0.987):0.131):0.141,2861:0.859):0.071,2862:0.929):0.104):0.43):0.479,(2174:0.622,(2175:0.331,2476:0.669):0.378):0.521):0.243,((1627:0.309,2010:0.691):0.27,2364:0.73):0.507):0.426,(((766:0.501,2797:0.499):0.297,((((2308:0.0,8390:1.0):0.0,9392:1.0):0.297,(5664:0.432,(8725:0.0,8726:1.0):0.568):0.703):0.257,((((4056:0.0,8057:1.0):0.0,8058:1.0):0.638,7614:0.362):0.188,5927:0.312):0.243):0.14):0.067,((2817:0.0,6652:1.0):0.306,8333:0.694):0.277):0.157):0.108):0.07):0.012,(((((((91:0.0,(7183:0.0,7667:1.0):1.0):0.652,(((3057:0.0,3511:1.0):0.226,7375:0.774):0.185,(((((3064:0.0,3335:1.0):0.0,3506:1.0):0.0,3539:1.0):0.716,3540:0.284):0.379,(3538:0.0,3696:1.0):0.621):0.565):0.348):0.263,(((((1000:0.0,8098:1.0):0.196,6136:0.804):0.163,((3470:0.188,7951:0.812):0.093,7952:0.907):0.337):0.493,(2968:0.243,3667:0.757):0.507):0.2,(((((1585:0.0,1586:1.0):0.482,(1795:0.153,1796:0.847):0.518):0.131,((3547:0.0,7516:1.0):0.0,7567:1.0):0.369):0.4,(((6707:1.0,6708:0.0):1.0,7566:0.0):0.213,8541:0.787):0.6):0.315,(((2969:0.0,2976:1.0):0.0,3095:1.0):0.287,3186:0.713):0.685):0.644):0.241):0.117,(((186:0.608,(3200:0.0,3337:1.0):0.392):0.289,3213:0.711):0.239,4045:0.761):0.434):0.218,((((((((460:0.427,(2644:0.473,(2732:0.144,((((2733:0.0,8702:1.0):0.0,8703:1.0):0.0,8704:1.0):0.214,2810:0.786):0.356):0.277):0.073):0.183,((823:0.3,(824:0.0,2316:1.0):0.7):0.361,5142:0.639):0.379):0.349,(((656:0.769,(3197:0.696,(4096:0.051,8862:0.949):0.304):0.231):0.185,(((782:0.318,(2949:0.216,5088:0.784):0.182):0.154,2946:0.596):0.14,((((2071:0.782,(3112:0.0,(6375:1.0,6376:0.0):1.0):0.218):0.404,((((2936:0.0,3000:1.0):0.182,2980:0.818):0.16,3216:0.84):0.365,2944:0.635):0.096):0.03,(2956:0.628,3123:0.372):0.095):0.07,(2938:0.129,3530:0.871):0.367):0.024):0.136):0.147,((((1869:0.181,3434:0.819):0.292,2775:0.208):0.238,(4599:0.0,8527:1.0):0.762):0.281,(2740:0.372,3359:0.628):0.344):0.144):0.2):0.077,8457:0.789):0.21,(((489:0.407,(779:0.584,8805:0.416):0.593):0.128,((778:0.0,8600:1.0):0.256,((4234:0.0,5131:1.0):0.081,8601:0.919):0.244):0.247):0.234,(8591:0.821,8599:0.179):0.766):0.24):0.105,((((((1512:0.381,3220:0.619):0.129,(2216:0.77,5994:0.23):0.371):0.41,(((((1741:0.0,8592:1.0):0.0,8593:1.0):0.0,8594:1.0):0.0,8595:1.0):0.171,2200:0.829):0.34):0.278,(((((1599:0.0,2245:1.0):0.0,3015:1.0):0.0,3762:1.0):0.084,1727:0.916):0.135,((1835:0.0,2729:1.0):1.0,2281:0.0):0.865):0.472):0.297,8564:0.828):0.374,(((4762:0.0,6754:1.0):0.475,((6374:0.164,8012:0.836):0.264,6815:0.236):0.525):0.573,((7044:0.66,8474:0.34):0.644,9413:0.856):0.146):0.106):0.045):0.008,((((((859:0.0,7365:1.0):0.347,(7520:0.664,8085:0.336):0.653):0.344,((((899:0.143,902:0.857):0.071,1017:0.929):0.254,((900:0.863,6819:0.137):0.262,(2675:0.0,8358:1.0):0.238):0.058):0.15,7452:0.569):0.281):0.248,(((860:0.254,(982:0.0,4515:1.0):0.746):0.249,(4744:0.0,(7619:1.0,7620:0.0):1.0):0.251):0.243,((((901:0.067,7047:0.933):0.236,(4253:0.091,6348:0.909):0.264):0.43,5925:0.82):0.151,4743:0.724):0.32):0.071):0.325,((((4745:0.0,7564:1.0):0.406,8537:0.594):0.092,(8299:0.474,8536:0.526):0.158):0.12,8535:0.755):0.099):0.174,((((((1371:0.758,3737:0.242):0.181,(6892:0.0,(8262:0.0,(((8281:0.0,8282:1.0):0.0,8283:1.0):0.0,8284:1.0):1.0):1.0):0.819):0.118,(1385:0.985,((2253:0.0,3695:1.0):0.006,6820:0.994):0.015):0.132):0.139,(((4457:0.214,8435:0.786):0.151,7473:0.849):0.225,(6332:0.0,8287:1.0):0.525):0.142):0.2,8699:0.847):0.095,((((5046:0.0,5048:1.0):0.823,5047:0.177):0.472,((6300:0.0,8285:1.0):0.451,7242:0.549):0.028):0.591,((6466:0.115,6794:0.885):0.623,(8133:0.549,8250:0.451):0.377):0.409):0.358):0.079):0.177):0.043,((((((((((658:0.163,((659:0.0,5394:1.0):0.0,8503:1.0):0.837):0.339,(6527:1.0,6528:0.0):0.661):0.374,(((((783:0.238,784:0.762):0.12,6281:0.88):0.06,6546:0.94):0.076,((((((((((796:0.0,1476:1.0):0.0,1517:1.0):0.0,1954:1.0):0.0,2222:1.0):0.0,2363:1.0):0.0,2614:1.0):0.0,7334:1.0):0.0,8264:1.0):0.0,(6640:1.0,6641:0.0):1.0):0.0,((7949:0.0,8300:1.0):1.0,7950:0.0):1.0):0.049):0.053,(((6419:0.358,7064:0.642):0.176,7115:0.824):0.09,7725:0.91):0.19):0.005):0.09,(((3716:0.129,7658:0.871):0.074,6180:0.926):0.036,7467:0.964):0.197):0.043,((1600:0.796,1646:0.204):0.163,2329:0.837):0.38):0.061,(3744:0.347,4531:0.653):0.252):0.138,(4883:0.249,7689:0.751):0.484):0.126,((1785:0.0,1786:1.0):0.817,(1891:0.631,(2682:0.627,5793:0.373):0.369):0.183):0.755):0.154,(((906:0.335,907:0.665):0.617,(1098:0.588,3465:0.412):0.383):0.615,((2694:0.0,3599:1.0):0.555,3447:0.445):0.385):0.503):0.031,(1748:0.581,(2348:0.629,((((5543:0.0,5545:1.0):0.0,5547:1.0):0.0,(5546:0.0,6926:1.0):1.0):0.048,5544:0.952):0.371):0.419):0.516):0.107):0.037):0.018,(((((((250:0.173,7707:0.827):0.282,(3061:0.0,3062:1.0):0.218):0.269,3606:0.731):0.289,(((2330:0.815,3773:0.185):0.275,3028:0.725):0.235,3088:0.765):0.179):0.296,((1677:0.843,(3029:0.287,3750:0.713):0.157):0.176,3496:0.824):0.547):0.252,((((848:0.247,3725:0.753):0.275,3720:0.725):0.342,(3132:0.557,(3740:0.0,3741:1.0):0.443):0.158):0.234,(((((2032:0.0,7803:1.0):0.112,8489:0.888):0.286,7801:0.714):0.259,(2277:0.0,8325:1.0):0.241):0.48,((2940:0.135,3617:0.865):0.325,3590:0.675):0.27):0.173):0.182):0.091,(((388:0.496,((3040:0.285,3244:0.715):0.379,(3689:0.781,(3704:0.736,(3760:0.0,8205:1.0):0.264):0.219):0.121):0.254):0.598,((((987:0.0,3464:1.0):0.262,(3113:0.721,3287:0.279):0.238):0.254,2941:0.746):0.36,(2463:0.0,3780:1.0):0.515):0.418):0.332,(((((((((((472:0.0,3444:1.0):0.0,3556:1.0):0.0,3561:1.0):0.0,3598:1.0):0.004,3628:0.996):0.189,3436:0.811):0.098,(3049:0.711,(4803:0.0,6539:1.0):0.289):0.402):0.204,((1721:0.649,(2758:0.105,((2759:0.198,6865:0.802):0.146,8090:0.854):0.145):0.226):0.295,2371:0.768):0.265):0.117,((3109:0.146,3141:0.854):0.629,(3293:0.392,3453:0.608):0.371):0.383):0.227,(((1110:0.0,9168:1.0):0.682,5416:0.318):0.746,((((1111:0.0,8903:1.0):0.0,8942:1.0):0.459,1941:0.541):0.267,8927:0.733):0.254):0.562):0.143,(((775:0.294,8625:0.706):0.566,2053:0.434):0.157,((4483:0.377,4484:0.623):0.491,(8354:0.0,8916:1.0):0.509):0.718):0.395):0.068):0.103):0.035):0.004,((((((((142:0.0,8208:1.0):0.357,(597:0.3,7581:0.7):0.143):0.119,5309:0.631):0.353,((3340:0.42,((5509:0.398,5942:0.602):0.396,6343:0.604):0.58):0.051,((3362:0.488,(4309:0.508,6986:0.492):0.512):0.464,3892:0.536):0.449):0.116):0.04,((((357:0.877,(((459:0.0,7359:1.0):0.0,8220:1.0):0.0,((6648:0.0,8329:1.0):0.5,7569:0.5):0.5):0.123):0.237,4595:0.763):0.13,((((1587:0.0,2700:1.0):0.074,8049:0.926):0.47,4289:0.53):0.146,(1994:0.347,7468:0.653):0.479):0.307):0.055,(((923:0.0,6743:1.0):0.431,4564:0.569):0.251,((926:0.326,4297:0.674):0.412,927:0.088):0.249):0.14):0.213):0.123,((((((((((483:0.0,((4301:0.0,((4302:0.5,((7946:0.0,7947:1.0):0.0,7948:1.0):0.5):0.25,4303:0.75):0.25):0.5,4304:0.5):0.5):1.0,484:0.0):1.0,2634:0.0):0.635,(4258:0.0,4262:1.0):0.365):0.223,6515:0.777):0.242,4259:0.758):0.27,((4263:0.113,(6997:0.0,6998:1.0):0.887):0.204,6694:0.796):0.23):0.134,(((4260:0.701,4994:0.299):0.469,4995:0.531):0.31,4261:0.69):0.178):0.054,(2066:0.0,3382:1.0):0.289):0.424,(((649:0.846,4853:0.154):0.408,((1573:0.356,(((3944:0.473,(4120:0.531,6519:0.469):0.527):0.184,(7470:0.573,8293:0.427):0.316):0.307,(6756:0.489,6757:0.511):0.318):0.206):0.132,(2752:0.404,7544:0.596):0.555):0.03):0.105,(((((919:0.0,5409:1.0):0.394,((920:0.151,(4123:0.246,4136:0.754):0.349):0.06,((4135:0.0,5143:1.0):0.61,7659:0.39):0.315):0.293):0.284,6893:0.716):0.338,(1820:0.269,(3970:0.0,6698:1.0):0.731):0.162):0.082,(((((3866:0.0,7026:1.0):0.0,8008:1.0):0.126,8605:0.874):0.249,5579:0.751):0.207,((((3893:0.121,8750:0.879):0.061,8751:0.939):0.152,3894:0.098):0.122,(4288:0.34,8411:0.66):0.253):0.168):0.297):0.054):0.125):0.143):0.077,(((143:0.293,((922:0.111,7426:0.889):0.453,(6931:0.0,6932:1.0):0.547):0.707):0.236,(((337:0.319,7845:0.681):0.329,7760:0.671):0.494,4087:0.506):0.358):0.232,(((556:0.239,((6929:0.532,6930:0.468):0.266,(7325:0.0,8245:1.0):0.734):0.261):0.276,((((1107:0.0,7318:1.0):0.252,7460:0.748):0.256,(2838:0.869,(4137:0.0,4809:1.0):0.131):0.494):0.171,((((3246:0.0,5153:1.0):0.0,7163:1.0):0.0,7752:1.0):0.0,7905:1.0):0.204):0.099):0.353,((((2991:0.0,7140:1.0):0.203,3315:0.797):0.214,3182:0.786):0.112,((4788:0.498,(4863:0.005,6483:0.995):0.502):0.182,(((((4864:0.0,6714:1.0):0.0,7357:1.0):0.0,7793:1.0):0.152,6678:0.848):0.425,(6229:0.0,6230:1.0):0.575):0.318):0.388):0.448):0.244):0.162):0.131,((((((218:0.198,(504:0.896,959:0.104):0.302):0.655,(219:0.0,3466:1.0):0.095):0.395,((((2959:0.0,3374:1.0):0.0,3384:1.0):0.858,3299:0.142):0.479,2960:0.521):0.605):0.238,(1897:0.302,(((6933:0.0,6934:1.0):0.0,6935:1.0):0.0,(7280:0.5,7281:0.5):0.5):0.698):0.512):0.398,(((((930:0.0,931:1.0):0.0,7661:1.0):0.0,7771:1.0):0.42,(3168:0.517,3245:0.483):0.58):0.411,(((((3856:0.0,7921:1.0):0.152,4119:0.848):0.615,(((((((5368:0.001,(((((((((((5379:0.0,5383:1.0):0.0,5387:1.0):0.557,5380:0.443):0.278,5381:0.722):0.139,5382:0.861):0.07,5384:0.93):0.035,5385:0.965):0.017,5386:0.983):0.009,5388:0.991):0.004,5389:0.996):0.002,5390:0.998):0.003):0.11,5370:0.888):0.057,5373:0.943):0.028,5376:0.972):0.014,5378:0.986):0.004,(((5371:0.91,5374:0.09):0.045,5375:0.955):0.023,5377:0.977):0.012):0.217,5369:0.775):0.893):0.084,((4099:0.081,4391:0.919):0.095,(6810:0.442,(7517:0.783,7844:0.217):0.558):0.405):0.178):0.156,8508:0.84):0.09):0.094):0.099,((((((((((914:0.0,4046:1.0):0.0,4068:1.0):0.0,4070:1.0):0.025,((((4032:0.675,9276:0.325):0.125,(8545:0.325,9278:0.675):0.125):0.04,8547:0.835):0.036,((4069:0.5,9277:0.5):0.25,8546:0.75):0.12):0.147):0.098,((3154:1.0,3155:0.0):0.929,((3370:0.0,4057:1.0):0.144,4083:0.856):0.071):0.137):0.054,((((1992:0.0,2370:1.0):0.0,4065:1.0):0.0,(4040:0.0,(((8115:0.0,8116:1.0):0.0,8117:1.0):0.0,8118:1.0):1.0):1.0):0.34,(3797:0.362,3865:0.638):0.16):0.29):0.173,3607:0.909):0.163,((2004:0.641,(2005:0.0,2114:1.0):0.359):0.319,2357:0.681):0.837):0.234,((((((((1132:0.391,5436:0.609):0.304,5435:0.696):0.09,(1133:0.334,(1135:0.587,(5437:0.367,(6378:0.0,6379:1.0):0.633):0.413):0.166):0.035):0.121,1136:0.692):0.162,((4633:0.38,6591:0.62):0.275,8241:0.725):0.244):0.071,4049:0.226):0.178,(1134:0.0,5434:1.0):0.572):0.232,8516:0.823):0.669):0.23,((2501:0.693,((3203:0.0,3251:1.0):0.167,(5178:0.0,7035:1.0):0.833):0.307):0.34,(((3079:0.0,3304:1.0):0.464,3324:0.536):0.508,(((3222:0.0,7783:1.0):0.424,(((7136:0.0,7137:1.0):0.0,7225:1.0):0.555,7680:0.445):0.576):0.283,(5002:0.356,(6573:0.301,((7283:0.0,7284:1.0):0.0,7285:1.0):0.699):0.644):0.717):0.492):0.535):0.423):0.048):0.089):0.075):0.03):0.011,((((((((((((((3:0.19,((276:0.0,6186:1.0):0.0,6187:1.0):0.81):0.273,506:0.727):0.14,1176:0.86):0.093,1202:0.907):0.046,4574:0.954):0.137,53:0.113):0.11,(((394:0.0,395:1.0):0.0,7867:1.0):0.246,414:0.754):0.39):0.573,(4047:0.289,(4408:0.421,6775:0.579):0.211):0.413):0.474,((((((36:0.0,37:1.0):0.0,7602:1.0):0.65,4672:0.35):0.698,(4395:0.468,4396:0.532):0.302):0.4,(1836:0.575,6424:0.425):0.6):0.185,(((412:0.0,4576:1.0):0.489,(((5489:0.111,5491:0.889):0.055,5492:0.945):0.278,5493:0.222):0.261):0.574,5490:0.426):0.533):0.161):0.272,((3978:0.223,((5652:0.0,6016:1.0):0.465,(5653:0.776,6243:0.224):0.535):0.777):0.729,((4017:0.0,6080:1.0):0.482,5638:0.518):0.271):0.441):0.042,((((((((442:0.0,3916:1.0):0.0,3949:1.0):0.0,4795:1.0):0.0,7199:1.0):0.0,8498:1.0):0.061,(4014:0.452,4990:0.548):0.439):0.098,3989:0.902):0.232,(4492:0.052,7448:0.948):0.768):0.338):0.219,(((((((22:0.0,5937:1.0):0.246,7863:0.754):0.267,(4226:0.0,5945:1.0):0.733):0.292,5094:0.708):0.219,(3946:0.146,7865:0.854):0.656):0.122,(((((433:0.0,9249:1.0):0.0,9250:1.0):0.0,9251:1.0):0.348,(434:0.0,8176:1.0):0.652):0.355,(1188:0.0,7020:1.0):0.645):0.44):0.438,(((600:0.374,4007:0.626):0.247,7300:0.753):0.41,((((631:0.0,7352:1.0):0.385,8027:0.615):0.167,(((1466:0.0,2582:1.0):0.0,2726:1.0):0.0,9211:1.0):0.333):0.4,((((812:0.434,8585:0.566):0.329,813:0.671):0.425,(((6250:0.0,6252:1.0):0.0,6253:1.0):0.0,8707:1.0):0.575):0.371,3636:0.504):0.162):0.129):0.179):0.071):0.075,(((((229:0.39,5098:0.61):0.428,((231:0.347,(1704:0.0,2516:1.0):0.653):0.446,2260:0.554):0.072):0.522,(((((((230:0.0,6577:1.0):0.0,6777:1.0):0.0,7278:1.0):0.0,7456:1.0):0.177,(2833:0.327,6146:0.673):0.323):0.17,((((530:0.31,(798:0.0,7806:1.0):0.69):0.299,(((590:0.0,6202:1.0):0.161,4921:0.839):0.215,((591:0.692,4121:0.308):0.286,((((3250:0.0,7112:1.0):0.0,8112:1.0):0.0,8113:1.0):0.0,8114:1.0):0.714):0.035):0.076):0.064,(((((595:0.345,733:0.655):0.3,2832:0.7):0.194,((797:0.392,2745:0.608):0.228,2831:0.772):0.056):0.125,2830:0.75):0.058,((911:0.0,7823:1.0):0.118,2835:0.882):0.192):0.093):0.107,(((((594:0.0,3887:1.0):0.0,4940:1.0):0.021,(7276:0.461,9212:0.539):0.479):0.06,(5138:0.0,7830:1.0):0.94):0.072,6645:0.928):0.323):0.023):0.106,(((592:0.169,5090:0.831):0.17,(1449:0.113,2454:0.887):0.33):0.383,(5201:0.814,5202:0.186):0.867):0.37):0.158):0.36,((((308:0.61,(424:0.0,7152:1.0):0.39):0.476,4931:0.524):0.443,((3327:0.379,5515:0.621):0.148,5249:0.352):0.557):0.327,(((2659:0.66,7108:0.34):0.378,((2794:0.0,2795:1.0):0.399,6961:0.601):0.622):0.387,((5857:0.568,5858:0.432):0.782,(((((((6143:0.0,9205:1.0):0.0,9206:1.0):0.0,9207:1.0):0.0,9208:1.0):0.0,9209:1.0):0.0,(8617:1.0,8618:0.0):1.0):0.216,7677:0.784):0.218):0.426):0.189):0.099):0.051,(((((((((314:0.0,7531:1.0):0.0,(3221:0.0,8359:1.0):1.0):0.044,((3009:0.594,3543:0.406):0.253,3081:0.747):0.206):0.089,3639:0.911):0.29,5392:0.71):0.012,((((((2713:0.069,8265:0.931):0.235,6746:0.265):0.238,7530:0.512):0.36,7535:0.64):0.048,((3063:0.535,4104:0.465):0.614,(3204:0.159,7541:0.841):0.386):0.077):0.045,((4089:0.332,(4767:0.577,7528:0.423):0.168):0.143,5986:0.607):0.127):0.086):0.193,((((((1840:0.0,5733:1.0):0.0,7320:1.0):0.1,(((6846:0.513,6847:0.487):0.295,6848:0.705):0.205,(6964:0.232,7540:0.768):0.17):0.088):0.09,((3056:0.16,7539:0.84):0.232,7538:0.768):0.066):0.091,3842:0.706):0.143,((2755:0.249,(7235:0.0,7236:1.0):0.751):0.366,4766:0.634):0.482):0.219):0.084,(((((1503:0.17,1930:0.83):0.216,3747:0.784):0.264,2485:0.736):0.083,((((((1504:0.418,7537:0.582):0.078,(3192:0.434,(3383:0.561,7536:0.439):0.066):0.047):0.037,3012:0.401):0.052,7543:0.51):0.189,(((2990:0.0,7542:1.0):0.425,(7532:0.418,(7533:0.436,7534:0.564):0.082):0.075):0.057,6214:0.443):0.157):0.086,(1550:0.0,6062:1.0):0.226):0.12):0.086,((((((3083:0.0,5921:1.0):0.0,5922:1.0):0.0,5923:1.0):0.0,5926:1.0):0.275,5924:0.725):0.335,3488:0.665):0.332):0.26):0.387,(((1549:0.515,2494:0.485):0.559,(4996:0.123,5548:0.877):0.441):0.732,(((1831:0.0,1832:1.0):0.511,(5597:0.5,5644:0.5):0.489):0.348,((3891:0.0,8002:1.0):0.139,(5907:0.678,(7017:0.576,7018:0.424):0.322):0.361):0.652):0.221):0.17):0.118):0.028):0.032,(((((((((10:0.0,2877:1.0):0.0,4851:1.0):0.156,3979:0.844):0.269,(((629:0.065,7749:0.935):0.057,((1846:0.0,(6993:0.0,8344:1.0):1.0):0.433,((5068:0.0,5210:1.0):0.0,6647:1.0):0.567):0.443):0.157,(4597:0.819,4598:0.181):0.843):0.231):0.307,(((((356:0.0,4686:1.0):0.0,7919:1.0):0.495,((6134:0.352,(6525:0.0,7052:1.0):0.648):0.225,((6398:0.138,6713:0.862):0.521,6712:0.479):0.65):0.318):0.046,((((3357:0.0,((6505:1.0,6506:0.0):1.0,(6586:0.0,6587:1.0):0.0):1.0):0.171,7462:0.829):0.219,((4683:0.0,7264:1.0):0.358,7058:0.642):0.281):0.126,(4685:0.519,6263:0.481):0.249):0.125):0.145,(((689:0.0,2586:1.0):0.0,3634:1.0):0.189,((5296:0.369,(6384:0.0,6385:1.0):0.631):0.238,7481:0.762):0.061):0.48):0.183):0.107,(((161:0.657,(4169:0.593,4451:0.407):0.343):0.588,(((((694:0.0,2335:1.0):0.0,5161:1.0):0.0,7836:1.0):0.0,(5185:0.0,7856:1.0):1.0):0.332,1980:0.668):0.287):0.337,5423:0.726):0.362):0.126,((((((302:0.0,7486:1.0):0.373,3018:0.627):0.067,((((1175:0.141,3339:0.859):0.282,((3017:0.0,3041:1.0):0.0,3652:1.0):0.218):0.298,3094:0.702):0.103,(3163:0.689,((3177:0.0,6248:1.0):0.264,6249:0.736):0.311):0.209):0.151):0.283,1174:0.873):0.34,(2609:0.777,((3421:0.15,5751:0.85):0.362,5532:0.638):0.223):0.347):0.404,((351:0.0,6212:1.0):0.461,352:0.539):0.831):0.197):0.046,((((((((33:0.0,190:1.0):0.0,198:1.0):0.296,193:0.704):0.179,(((183:0.0,6621:1.0):0.0,(6620:0.0,7485:1.0):1.0):0.607,5609:0.393):0.821):0.393,(196:0.503,3584:0.497):0.482):0.301,((184:0.397,(2897:0.497,3373:0.503):0.603):0.35,977:0.65):0.433):0.315,(((((214:0.487,5025:0.513):0.422,(2571:0.404,(4933:1.0,4934:0.0):0.596):0.578):0.73,(((215:0.0,645:1.0):0.202,3234:0.798):0.257,(5535:0.676,5536:0.324):0.743):0.208):0.308,((((1014:0.183,4219:0.817):0.278,6045:0.722):0.223,(5666:0.0,8526:1.0):0.777):0.232,((((4749:0.0,8365:1.0):0.602,4750:0.398):0.345,4769:0.655):0.241,4768:0.759):0.768):0.442):0.242,((((((274:0.324,(4639:0.253,(((6264:0.0,(8034:0.5,8035:0.5):0.5):1.0,6265:0.0):1.0,7594:0.0):0.747):0.176):0.2,5689:0.8):0.458,(((343:0.219,6011:0.781):0.15,5251:0.85):0.183,872:0.817):0.339):0.25,(((344:0.2,5105:0.8):0.392,1033:0.608):0.494,(1407:0.545,((((((1417:0.0,1419:1.0):0.0,1423:1.0):0.0,1424:1.0):0.0,1425:1.0):0.371,1420:0.629):0.225,1421:0.775):0.455):0.506):0.485):0.071,((((904:0.212,4587:0.788):0.287,4585:0.713):0.194,(((1636:0.918,(1760:0.044,(((6160:0.0,8170:1.0):0.0,8171:1.0):0.411,8172:0.589):0.456):0.082):0.09,4203:0.91):0.145,4586:0.855):0.056):0.428,(5029:0.43,(5877:0.0,7139:1.0):0.57):0.635):0.294):0.216,((((1097:0.0,(5806:0.0,5860:1.0):1.0):0.688,(1457:0.325,(4473:0.305,7989:0.695):0.175):0.312):0.324,((((3769:0.0,5617:1.0):0.0,5619:1.0):0.0,6012:1.0):0.395,5620:0.605):0.426):0.228,((((((4402:0.0,4403:1.0):0.0,4404:1.0):0.0,4405:1.0):0.0,4406:1.0):0.301,4407:0.699):0.596,(((4553:0.0,7683:1.0):0.677,(4728:0.489,4729:0.511):0.323):0.573,((((4590:0.0,4592:1.0):0.0,4593:1.0):0.0,4594:1.0):0.375,4591:0.625):0.427):0.404):0.389):0.283):0.038):0.016):0.049,((((((((((((((((199:0.0,5556:1.0):0.0,5566:1.0):0.0,5604:1.0):0.0,5624:1.0):0.0,5639:1.0):0.0,5677:1.0):0.0,6068:1.0):0.162,999:0.838):0.081,5642:0.919):0.175,6003:0.825):0.324,5787:0.676):0.252,(4061:0.705,(((4129:1.0,4130:0.0):0.848,(((((5607:1.0,5608:0.0):0.0,5699:1.0):0.0,5933:1.0):0.0,5964:1.0):0.119,5853:0.881):0.152):0.513,(5596:0.362,(6970:0.355,7403:0.645):0.138):0.487):0.295):0.205):0.185,((((((((957:0.0,4435:1.0):0.0,5219:1.0):0.0,7763:1.0):0.22,(4298:0.519,4299:0.481):0.28):0.073,((5217:0.345,5481:0.655):0.421,5220:0.579):0.239):0.142,(3183:0.317,5221:0.683):0.639):0.201,((((((3291:0.1,5479:0.9):0.203,(((4557:0.0,(4981:0.5,4982:0.5):0.5):1.0,4558:0.0):0.191,5480:0.809):0.297):0.233,(3691:0.384,5477:0.616):0.517):0.149,(4467:0.758,(4468:0.185,5478:0.815):0.242):0.413):0.306,(4400:0.177,5218:0.823):0.413):0.058,((4850:0.123,7821:0.877):0.393,7185:0.607):0.442):0.138):0.214,((2398:0.398,3184:0.602):0.369,6953:0.631):0.484):0.47):0.054,(((550:0.6,562:0.4):0.26,(((3008:0.0,3532:1.0):0.0,3622:1.0):0.333,3276:0.667):0.24):0.375,(((5152:0.316,(5255:0.484,6710:0.516):0.184):0.389,(6709:0.0,7775:1.0):0.361):0.146,((((8810:0.0,9020:1.0):0.0,9028:1.0):0.0,9030:1.0):0.276,8856:0.724):0.479):0.625):0.373):0.075,(((((((((((((((((((((((((((((((((((((((((((((((((((((((((200:0.0,201:1.0):0.0,203:1.0):0.0,204:1.0):0.0,5226:1.0):0.0,5227:1.0):0.0,5228:1.0):0.0,6886:1.0):0.0,6940:1.0):0.0,7395:1.0):0.0,7497:1.0):0.0,9280:1.0):0.0,9281:1.0):0.0,9282:1.0):0.0,9283:1.0):0.0,9284:1.0):0.0,9285:1.0):0.0,9286:1.0):0.0,9287:1.0):0.0,9288:1.0):0.0,9298:1.0):0.0,9299:1.0):0.0,9300:1.0):0.0,9301:1.0):0.0,9302:1.0):0.0,9303:1.0):0.0,9304:1.0):0.0,9305:1.0):0.0,9306:1.0):0.0,9307:1.0):0.0,9308:1.0):0.0,9309:1.0):0.0,9310:1.0):0.0,9311:1.0):0.0,9312:1.0):0.0,9313:1.0):0.0,9314:1.0):0.0,9315:1.0):0.0,9316:1.0):0.0,9317:1.0):0.0,9318:1.0):0.0,9319:1.0):0.0,9320:1.0):0.0,9321:1.0):0.0,9322:1.0):0.0,9323:1.0):0.0,9324:1.0):0.0,9325:1.0):0.0,9326:1.0):0.0,9327:1.0):0.0,9328:1.0):0.0,9329:1.0):0.0,9330:1.0):0.0,9331:1.0):0.0,9332:1.0):0.408,(719:0.374,(2836:0.688,2837:0.312):0.626):0.592):0.273,((((((202:0.0,5621:1.0):0.0,5755:1.0):0.0,6092:1.0):0.197,5684:0.803):0.319,5717:0.681):0.229,(((318:0.328,6008:0.672):0.189,6023:0.811):0.299,2685:0.701):0.396):0.282):0.141,(((((((((((332:0.0,6430:1.0):0.0,8493:1.0):0.0,8494:1.0):0.0,8495:1.0):0.0,(7015:0.0,7016:1.0):1.0):0.158,(4932:0.583,(6543:0.609,6544:0.391):0.417):0.342):0.084,6943:0.916):0.286,333:0.714):0.273,5672:0.727):0.33,(((596:0.0,8499:1.0):0.0,8500:1.0):0.0,8501:1.0):0.67):0.331,((((882:0.0,883:1.0):0.0,6827:1.0):0.179,(4868:0.0,4869:1.0):0.821):0.508,((5946:0.0,6602:1.0):0.0,6730:1.0):0.492):0.544):0.323):0.223):0.058,(((((((((420:0.0,7718:1.0):0.57,(995:0.422,6671:0.578):0.43):0.694,((((((((421:0.0,5151:1.0):0.0,6219:1.0):0.0,7178:1.0):0.0,8106:1.0):0.0,8107:1.0):0.186,7117:0.814):0.152,((((1989:0.194,4168:0.806):0.169,4904:0.831):0.174,(((4910:0.323,6326:0.677):0.162,6677:0.838):0.047,((4912:0.0,8108:1.0):0.318,6327:0.682):0.203):0.263):0.064,3632:0.78):0.098):0.2,(958:0.602,(((4675:0.0,6329:1.0):0.0,6330:1.0):0.0,6331:1.0):0.398):0.182):0.326):0.192,((((935:0.143,7250:0.857):0.243,1632:0.757):0.121,((((1631:0.534,7251:0.466):0.151,(((4911:0.0,7559:1.0):0.0,7560:1.0):0.0,7561:1.0):0.349):0.16,6887:0.34):0.077,7249:0.673):0.286):0.463,((2230:0.248,((6380:0.0,7893:1.0):0.053,6381:0.947):0.252):0.184,6308:0.816):0.521):0.363):0.035,((((840:0.421,5895:0.579):0.257,((850:0.0,2451:1.0):0.129,((4842:0.416,7981:0.584):0.339,4905:0.661):0.371):0.243):0.372,(2502:0.419,5894:0.581):0.878):0.221,(2449:0.542,(4819:1.0,4820:0.0):0.458):0.623):0.114):0.055,((((((1108:1.0,1109:0.0):0.0,7376:1.0):0.197,(((4955:1.0,4956:0.0):0.299,6596:0.701):0.025,((6594:0.0,6597:1.0):0.5,6595:0.5):0.225):0.428):0.725,6228:0.275):0.764,(((((2148:0.0,5902:1.0):0.258,(4906:0.273,6218:0.727):0.242):0.106,(2468:0.308,6724:0.692):0.269):0.124,7345:0.938):0.179,4475:0.821):0.236):0.258,((1867:0.0,5928:1.0):0.576,1868:0.424):0.711):0.208):0.087,(((1784:0.615,5031:0.385):0.577,((((2052:0.298,6307:0.702):0.151,6400:0.849):0.178,2537:0.072):0.021,((6306:0.44,6401:0.56):0.043,6399:0.457):0.385):0.283):0.289,((((3601:0.499,4313:0.501):0.005,4312:0.495):0.295,4315:0.705):0.355,(4314:0.0,8698:1.0):0.645):0.609):0.31):0.184,(((841:0.244,(4242:1.0,4243:0.0):0.756):0.313,(7197:0.306,7198:0.694):0.687):0.463,((((1077:0.0,7343:1.0):0.0,7344:1.0):0.257,((3668:0.407,(4794:0.0,(6917:0.0,6923:1.0):1.0):0.593):0.345,((4596:0.0,6916:1.0):0.0,7418:1.0):0.655):0.243):0.417,(((2892:0.0,2895:1.0):0.0,(2893:0.5,(2894:0.0,2896:1.0):0.5):0.5):0.497,(4580:0.663,5577:0.337):0.503):0.521):0.225):0.245):0.121,((((((((965:0.0,7906:1.0):0.0,7907:1.0):0.0,7908:1.0):0.353,7423:0.647):0.487,((6510:0.411,7440:0.589):0.332,7424:0.668):0.513):0.235,((2162:0.549,5804:0.451):0.887,((((3827:0.0,6431:1.0):0.0,6567:1.0):0.0,6568:1.0):0.228,6459:0.772):0.113):0.265):0.287,(((2153:0.019,8217:0.981):0.501,(4929:0.627,7547:0.373):0.499):0.538,(((5443:0.0,7977:1.0):0.28,7589:0.72):0.525,(6582:0.17,8251:0.83):0.475):0.462):0.197):0.11,((1574:0.0,8345:1.0):0.688,((5616:0.771,(5703:0.0,5705:1.0):0.229):0.351,5704:0.649):0.312):0.561):0.219):0.068):0.023):0.009):0.019,(((((((((((((((((30:0.245,(380:0.443,7764:0.557):0.255):0.262,4310:0.738):0.155,5880:0.345):0.391,((((227:0.0,273:1.0):0.0,6185:1.0):0.191,6691:0.809):0.164,6116:0.836):0.296):0.157,(((272:0.405,5859:0.595):0.623,3010:0.377):0.032,(376:0.293,((776:0.177,7022:0.823):0.257,((5471:0.311,7021:0.689):0.155,7983:0.845):0.243):0.207):0.28):0.283):0.17,(((((((((320:0.0,5855:1.0):0.0,6386:1.0):0.0,6387:1.0):0.0,7338:1.0):0.0,(565:0.0,566:1.0):1.0):0.199,5574:0.801):0.408,6099:0.592):0.278,4884:0.722):0.094,((378:0.0,379:1.0):0.602,(446:0.0,4311:1.0):0.398):0.281):0.18):0.052,((((((306:0.0,5835:1.0):0.631,307:0.369):0.358,((449:0.122,(5032:0.721,6668:0.279):0.378):0.355,6363:0.645):0.392):0.077,(((3883:0.0,7899:1.0):0.388,7607:0.612):0.264,4997:0.736):0.423):0.125,((((3437:0.0,3926:1.0):0.0,5189:1.0):0.0,5190:1.0):0.163,(4114:0.815,((4115:0.131,4663:0.869):0.102,(7031:0.826,7032:0.174):0.398):0.185):0.337):0.118):0.056,((1172:0.54,4472:0.46):0.612,5188:0.388):0.682):0.1):0.191,((((209:0.0,7194:1.0):0.339,(330:0.619,2986:0.381):0.161):0.088,(6764:0.194,7648:0.806):0.537):0.25,((331:0.262,4413:0.738):0.314,4008:0.686):0.312):0.209):0.055,(((((3187:0.0,5192:1.0):0.219,(3681:0.519,(6605:0.0,(8479:1.0,8480:0.0):1.0):0.481):0.281):0.18,8084:0.82):0.208,((7792:0.0,7958:1.0):0.0,8111:1.0):0.792):0.511,(((3710:0.0,7158:1.0):0.0,7791:1.0):0.167,(6615:0.647,8100:0.353):0.833):0.161):0.326):0.151,((((((((((((((((32:0.0,5485:1.0):0.0,7271:1.0):0.14,6589:0.86):0.093,(4551:0.449,5486:0.551):0.407):0.059,(((238:0.329,873:0.671):0.419,(((3936:0.0,7336:1.0):0.0,7794:1.0):0.13,5263:0.87):0.081):0.118,7090:0.882):0.098):0.012,(((6137:0.0,7304:1.0):0.104,6138:0.896):0.454,(((6139:0.0,6575:1.0):0.0,7193:1.0):0.0,8109:1.0):0.546):0.535):0.091,(((((682:0.0,684:1.0):0.0,7954:1.0):0.197,7525:0.803):0.136,5262:0.864):0.264,(2547:0.531,6184:0.469):0.361):0.128):0.021,((((976:0.0,1529:1.0):0.234,1765:0.766):0.203,7955:0.797):0.283,6347:0.717):0.264):0.092,(((242:0.0,7118:1.0):0.24,6571:0.76):0.208,(((5484:0.798,6551:0.202):0.12,6304:0.88):0.172,(6550:0.579,6599:0.421):0.453):0.105):0.149):0.065,((((3867:0.172,6905:0.828):0.158,(((((4478:1.0,7808:0.0):0.0,8422:1.0):0.47,7807:0.53):0.687,(((6150:0.0,7370:1.0):0.0,7371:1.0):0.183,7910:0.817):0.063):0.059,8235:0.816):0.154):0.011,(3937:0.105,8175:0.895):0.333):0.177,(5145:0.617,6495:0.383):0.823):0.241):0.021,((((102:0.361,7380:0.639):0.333,((((((551:0.0,7582:1.0):0.45,7870:0.55):0.307,(552:0.45,((693:0.119,7784:0.881):0.463,(4739:0.141,7363:0.859):0.537):0.05):0.193):0.407,(((((((1078:0.0,4971:1.0):0.0,7785:1.0):0.031,7475:0.969):0.015,7665:0.985):0.008,7875:0.992):0.007,(((((3844:0.0,7498:1.0):0.086,4245:0.914):0.039,7119:0.961):0.02,7489:0.98):0.01,7872:0.99):0.009):0.169,7871:0.885):0.077):0.044,(4044:0.414,7869:0.586):0.3):0.254,(6057:0.538,(6354:0.409,(6454:0.0,6455:1.0):0.591):0.462):0.219):0.095):0.043,(((((1428:0.085,8231:0.915):0.063,(6323:0.497,6324:0.503):0.437):0.099,6783:0.901):0.114,((2767:0.0,7889:1.0):0.387,7299:0.613):0.323):0.276,((((((3835:0.0,7606:1.0):0.121,6737:0.879):0.18,8323:0.82):0.254,6793:0.746):0.121,((6305:0.319,((((6357:0.0,6778:1.0):0.0,7864:1.0):0.0,(6421:0.0,6422:1.0):1.0):0.0,(6541:1.0,6542:0.0):1.0):0.681):0.283,7549:0.717):0.629):0.231,(4627:1.0,4628:0.0):0.644):0.041):0.1):0.041,(((((451:0.111,(7321:1.0,7322:0.0):0.889):0.38,(((4305:1.0,4306:0.0):0.847,7392:0.153):0.135,7391:0.865):0.62):0.206,(5130:0.434,5875:0.566):0.419):0.084,(3845:0.241,6739:0.759):0.353):0.203,(((2678:0.64,((4015:0.0,6912:1.0):0.0,7750:1.0):0.36):0.272,(3846:0.461,6406:0.539):0.228):0.14,((2870:0.406,5542:0.594):0.305,(6439:0.0,6440:1.0):0.695):0.298):0.164):0.032):0.03):0.042,(((((239:0.272,5526:0.728):0.2,5852:0.8):0.291,5157:0.709):0.163,(((4060:0.327,6488:0.673):0.279,(4821:0.649,(6705:0.0,8223:1.0):0.351):0.221):0.373,((4824:0.718,4825:0.282):0.509,6210:0.491):0.252):0.212):0.245,((1102:0.573,(6373:0.415,7570:0.585):0.427):0.217,((4162:0.216,4163:0.784):0.268,7162:0.732):0.283):0.099):0.14):0.049,(((772:0.152,((1510:0.435,5568:0.565):0.692,5567:0.308):0.848):0.111,((4171:0.0,4172:1.0):0.381,7917:0.619):0.389):0.542,((((2332:0.0,7195:1.0):0.0,7747:1.0):0.246,7746:0.754):0.264,6638:0.736):0.271):0.145):0.057,(((((((((((((((((((((((((((101:1.0,106:0.0):0.0,6464:1.0):0.0,7847:1.0):0.0,9394:1.0):0.0,9395:1.0):0.0,9396:1.0):0.0,9397:1.0):0.0,9398:1.0):0.0,9399:1.0):0.0,9400:1.0):0.0,9401:1.0):0.0,9402:1.0):0.0,9403:1.0):0.0,9404:1.0):0.0,9405:1.0):0.0,9406:1.0):0.0,9407:1.0):0.0,9408:1.0):0.0,9409:1.0):0.0,((((5779:0.0,5780:1.0):0.0,6755:1.0):1.0,8327:0.0):1.0,8328:0.0):1.0):0.027,2033:0.973):0.08,3614:0.92):0.053,(5483:0.444,6504:0.556):0.447):0.127,((((512:0.043,8213:0.957):0.2,8191:0.8):0.398,(2867:0.853,(2868:0.0,6772:1.0):0.147):0.352):0.037,((799:1.0,800:0.0):0.85,((2869:0.0,6317:1.0):0.152,8853:0.848):0.15):0.338):0.029):0.064,(((((((316:0.0,7039:1.0):0.0,7957:1.0):0.044,8425:0.956):0.105,462:0.895):0.153,(6547:0.0,6548:1.0):0.847):0.155,3974:0.845):0.172,(4588:0.321,6303:0.679):0.328):0.057):0.096,(((((((751:0.423,6038:0.577):0.039,4546:0.461):0.034,7219:0.466):0.12,(3941:0.0,6278:1.0):0.505):0.372,(2648:0.329,5482:0.671):0.253):0.124,(((1349:0.619,3878:0.381):0.348,((((((3707:0.0,6262:1.0):0.413,7184:0.587):0.249,7292:0.751):0.059,((4280:1.0,4281:0.0):0.705,(6408:0.0,(6437:0.0,6438:1.0):1.0):0.295):0.191):0.271,3708:0.604):0.305,((4012:0.0,6433:1.0):0.386,6529:0.614):0.195):0.277):0.13,(6193:0.151,6194:0.849):0.573):0.299):0.225,(((((2848:0.0,2849:1.0):0.0,7130:1.0):0.0,8083:1.0):0.464,(5155:1.0,5156:0.0):0.536):0.436,(4506:0.791,((6632:0.0,7386:1.0):0.0,8157:1.0):0.209):0.564):0.49):0.044):0.045,((((((((103:0.0,6972:1.0):0.0,7202:1.0):0.0,7457:1.0):0.302,(6682:0.521,7441:0.479):0.698):0.478,((((221:0.0,4006:1.0):0.0,8731:1.0):0.15,(582:0.42,4244:0.58):0.35):0.059,708:0.691):0.209):0.138,((((((138:0.0,139:1.0):0.533,6188:0.467):0.362,(6920:0.668,6922:0.332):0.638):0.185,(6158:0.745,((6921:0.0,7638:1.0):0.0,7714:1.0):0.255):0.315):0.049,((443:0.347,6334:0.653):0.279,(3982:0.337,7254:0.663):0.221):0.201):0.061,(6552:0.341,8366:0.659):0.471):0.088):0.072,((((((131:0.0,6600:1.0):0.0,8352:1.0):0.288,(315:0.31,461:0.69):0.212):0.249,(295:0.0,8277:1.0):0.751):0.463,((768:0.0,5000:1.0):0.168,769:0.832):0.537):0.166,((683:0.766,(2684:0.377,4122:0.623):0.234):0.431,(3963:0.334,4870:0.666):0.569):0.24):0.124):0.065,(((620:0.0,2459:1.0):0.538,((4687:0.0,8193:1.0):0.239,7781:0.761):0.462):0.237,(((655:0.697,908:0.303):0.244,(3882:0.296,7668:0.704):0.256):0.261,((758:0.0,8525:1.0):0.416,3895:0.584):0.239):0.076):0.188):0.025):0.015):0.039,(((309:0.0,9185:1.0):0.636,((539:0.147,4212:0.853):0.134,7964:0.866):0.364):0.2,((((((467:0.0,7651:1.0):0.0,7652:1.0):0.463,(6962:0.0,6973:1.0):0.537):0.179,(4909:0.66,6255:0.34):0.321):0.309,(((1015:0.454,6511:0.546):0.506,1016:0.494):0.344,(3990:0.796,((5645:0.914,5646:0.086):0.297,6029:0.703):0.204):0.156):0.128):0.147,(((700:0.191,(6349:0.189,7705:0.811):0.309):0.463,((((1149:0.0,1150:1.0):1.0,(((3822:0.0,3823:1.0):0.0,4264:1.0):0.0,7716:1.0):0.0):0.18,7114:0.82):0.332,1564:0.668):0.287):0.124,6083:0.376):0.509):0.3):0.072):0.016,((((((80:0.424,7060:0.576):0.042,(9201:0.789,9202:0.211):0.458):0.315,(831:0.433,5183:0.567):0.31):0.117,((542:0.0,6884:1.0):0.447,((((992:0.045,9199:0.955):0.127,(993:0.04,9200:0.96):0.123):0.116,8080:0.759):0.008,(1029:0.0,6949:1.0):0.242):0.428):0.164):0.275,((((917:0.0,4133:1.0):0.343,(4134:0.148,((6140:0.806,8201:0.194):0.598,(6141:0.0,7040:1.0):0.402):0.352):0.657):0.286,(918:0.112,6558:0.888):0.714):0.347,7290:0.653):0.295):0.12,(((((((450:0.0,6427:1.0):0.0,6429:1.0):0.001,1105:0.999):0.094,4004:0.906):0.116,(((502:0.0,7999:1.0):0.0,8000:1.0):0.524,(503:0.326,6153:0.674):0.476):0.384):0.103,(((4343:0.0,7474:1.0):0.111,8322:0.889):0.269,((7029:1.0,7030:0.0):0.0,7988:1.0):0.731):0.397):0.209,(((630:0.0,2711:1.0):0.509,((2002:0.0,4545:1.0):0.257,(4638:0.0,8635:1.0):0.743):0.491):0.333,(((((707:0.0,8613:1.0):0.0,8615:1.0):0.759,(1189:0.0,4642:1.0):0.241):0.183,4640:0.817):0.243,989:0.757):0.417):0.233):0.08):0.137):0.043):0.039,(((((((89:0.0,4678:1.0):0.0,4679:1.0):0.0,6969:1.0):0.408,6965:0.592):0.217,(((((4623:0.0,7558:1.0):0.0,8228:1.0):0.216,6919:0.784):0.178,5729:0.322):0.196,((((6215:0.0,6681:1.0):0.0,7512:1.0):0.274,6637:0.726):0.522,(7513:0.741,(8318:0.0,8319:1.0):0.259):0.478):0.242):0.314):0.405,104:0.345):0.508,(((((((153:0.15,8246:0.85):0.286,((606:0.0,4077:1.0):0.072,7688:0.928):0.214):0.184,(3565:0.824,(3566:0.299,8303:0.701):0.176):0.566):0.119,((604:0.574,3336:0.426):0.135,((((747:0.0,7084:1.0):0.0,7085:1.0):0.0,7086:1.0):0.109,6490:0.891):0.365):0.099):0.195,(((212:0.0,8519:1.0):0.158,7083:0.842):0.163,((3729:0.681,4582:0.319):0.407,3925:0.593):0.337):0.195):0.147,(((281:0.363,2090:0.637):0.587,(((((1827:0.0,(2261:0.0,8717:1.0):1.0):1.0,(1828:0.0,2815:1.0):0.0):0.65,2091:0.35):0.213,4078:0.787):0.135,7795:0.865):0.413):0.29,((654:0.182,((2660:0.688,((4846:0.0,4847:1.0):0.0,7206:1.0):0.312):0.174,3901:0.826):0.318):0.261,3985:0.739):0.21):0.23):0.064,(5118:0.245,7782:0.755):0.817):0.062):0.077):0.002,((((31:0.549,6117:0.451):0.342,5127:0.658):0.292,((211:0.246,(1726:0.675,5030:0.325):0.254):0.319,6583:0.681):0.176):0.082,(((1578:0.657,2635:0.343):0.479,3711:0.521):0.412,(((2512:0.424,5753:0.576):0.683,(5746:0.736,((((((5905:0.0,5908:1.0):0.0,5910:1.0):0.0,5911:1.0):0.0,5913:1.0):0.0,5916:1.0):0.148,5914:0.852):0.264):0.317):0.169,((3166:0.0,7008:1.0):0.0,7933:1.0):0.831):0.275):0.172):0.157):0.046,((((((111:0.257,6526:0.743):0.176,5022:0.324):0.443,(695:0.441,((4033:0.0,5258:1.0):0.559,((4930:0.0,8286:1.0):0.452,7712:0.548):0.441):0.559):0.432):0.367,((((((1437:0.0,2081:1.0):0.15,2375:0.85):0.327,2639:0.673):0.604,(1635:0.906,(((1799:0.0,1800:1.0):0.5,4214:0.5):0.368,4161:0.132):0.094):0.396):0.28,(((((2839:1.0,2840:0.0):0.0,6762:1.0):0.0,7301:1.0):0.153,5520:0.847):0.221,3517:0.779):0.47):0.081,(((2589:0.783,((4160:0.0,7550:1.0):0.0,7551:1.0):0.217):0.252,((((4107:1.0,4108:0.0):0.456,8007:0.544):0.691,7545:0.309):0.457,((6957:0.0,8240:1.0):0.325,8239:0.675):0.543):0.248):0.259,((4159:0.0,8652:1.0):0.12,6811:0.88):0.366):0.259):0.108):0.126,((((974:0.079,8679:0.921):0.422,(4656:0.426,7014:0.574):0.578):0.426,6936:0.574):0.208,(((((2805:0.007,6649:0.993):0.677,(2807:0.348,8347:0.652):0.323):0.409,2806:0.091):0.96,(((4029:0.0,7435:1.0):0.0,7444:1.0):0.0,(8313:0.0,8314:1.0):1.0):0.04):0.253,(4010:0.447,(6061:0.0,8131:1.0):0.553):0.247):0.323):0.3):0.068,(((422:0.573,(((423:0.0,9213:1.0):0.628,6665:0.372):0.422,891:0.578):0.427):0.657,(((5091:0.193,5584:0.807):0.161,7508:0.839):0.504,(6617:0.464,(6797:1.0,6798:0.0):0.536):0.496):0.249):0.491,((((((583:0.805,(2127:0.974,(((((5956:0.0,5957:1.0):0.0,5958:1.0):0.0,5959:1.0):0.0,5960:1.0):0.0,5961:1.0):0.026):0.195):0.316,5920:0.684):0.416,(((916:0.0,7728:1.0):0.0,(5680:1.0,5681:0.0):1.0):0.268,7593:0.732):0.584):0.441,((((((832:0.0,7245:1.0):0.0,8401:1.0):0.0,8402:1.0):0.233,4442:0.767):0.285,(6576:0.0,((((8073:0.0,8074:1.0):0.0,8076:1.0):0.0,8077:1.0):0.0,(8075:0.0,8089:1.0):1.0):1.0):0.715):0.457,4691:0.543):0.559):0.162,(2234:0.524,(5845:1.0,5846:0.0):0.476):0.494):0.125,(((4389:0.319,(6608:0.638,(((7002:0.0,7003:1.0):0.0,(7269:0.0,7270:1.0):1.0):0.697,7275:0.303):0.362):0.681):0.249,7770:0.751):0.388,6277:0.55):0.526):0.11):0.053):0.021):0.018,((((((132:0.0,7579:1.0):0.696,5001:0.304):0.451,3080:0.549):0.524,(177:0.271,178:0.729):0.476):0.145,((((2224:0.0,8127:1.0):0.742,(5788:1.0,5789:0.0):0.258):0.222,5807:0.778):0.168,5881:0.832):0.574):0.164,((1115:0.635,1873:0.365):0.516,((1480:0.587,1609:0.413):0.222,(5146:0.0,5700:1.0):0.778):0.359):0.352):0.128):0.016,(((((((((46:0.535,47:0.465):0.724,((970:0.0,7894:1.0):0.0,8403:1.0):0.276):0.228,6109:0.772):0.148,((4575:0.63,7252:0.37):0.11,6425:0.39):0.602):0.359,((464:0.158,3945:0.842):0.239,6295:0.761):0.391):0.233,(((((((((((((((((59:0.0,3906:1.0):0.0,4003:1.0):0.0,4324:1.0):0.0,5061:1.0):0.0,6216:1.0):0.0,7466:1.0):0.0,7804:1.0):0.0,8119:1.0):0.0,8120:1.0):0.0,8206:1.0):0.0,8209:1.0):0.0,(7509:0.5,7510:0.5):0.5):0.051,(((4011:0.0,7595:1.0):0.42,4504:0.58):0.268,(5169:0.552,5170:0.448):0.232):0.199):0.105,((((430:0.146,(3917:0.0,6559:1.0):0.854):0.386,485:0.614):0.316,(((3796:0.0,8473:1.0):0.309,4041:0.691):0.247,4583:0.753):0.184):0.088,(((463:0.0,465:1.0):0.0,8469:1.0):0.131,4549:0.869):0.162):0.067):0.035,(((639:0.531,640:0.469):0.38,(4038:0.0,7128:1.0):0.62):0.21,(((1927:0.032,5065:0.968):0.104,((3640:0.334,5067:0.666):0.144,(3976:0.219,(5064:0.456,5066:0.544):0.281):0.106):0.208):0.247,2970:0.846):0.22):0.094):0.059,(4856:0.726,7272:0.274):0.444):0.201,((3799:0.367,4844:0.633):0.591,((3834:0.0,5010:1.0):0.0,6572:1.0):0.409):0.539):0.044):0.101,((((58:0.0,7527:1.0):0.284,1439:0.716):0.207,6175:0.793):0.437,(((2336:0.145,6747:0.855):0.284,(3107:0.075,3108:0.925):0.216):0.228,4208:0.772):0.563):0.415):0.083,((((((((((((((((78:0.887,((808:0.0,5154:1.0):0.0,8614:1.0):0.113):0.058,5195:0.942):0.029,6614:0.971):0.022,((((79:0.0,8317:1.0):0.0,8331:1.0):0.0,(((6530:0.0,6531:1.0):0.0,6532:1.0):0.0,6533:1.0):1.0):0.048,6613:0.952):0.04):0.086,4291:0.883):0.06,4428:0.94):0.03,7568:0.97):0.011,((((((((322:0.0,5214:1.0):0.0,6177:1.0):0.0,6178:1.0):0.0,6199:1.0):0.101,6174:0.899):0.049,6176:0.951):0.025,6198:0.975):0.027,8320:0.973):0.008):0.056,((7226:0.917,7227:0.083):0.538,7228:0.462):0.439):0.022,((((1022:0.0,7351:1.0):0.505,4165:0.495):0.321,(2275:0.21,5966:0.79):0.679):0.201,6818:0.799):0.256):0.081,(2989:0.254,7154:0.746):0.415):0.125,(((809:0.352,7023:0.648):0.269,6409:0.731):0.201,((3115:0.0,7698:1.0):0.378,6639:0.622):0.299):0.384):0.049,(((368:0.476,(369:0.0,4838:1.0):0.524):0.369,3356:0.631):0.299,4839:0.701):0.211):0.084,(866:0.72,3102:0.28):0.532):0.136,((((321:0.699,6873:0.301):0.532,3700:0.468):0.421,(2259:0.507,4998:0.493):0.579):0.222,((((515:0.0,516:1.0):0.573,971:0.427):0.361,(732:0.39,4421:0.61):0.139):0.175,((863:0.652,864:0.348):0.357,(865:0.467,1168:0.533):0.143):0.325):0.231):0.281):0.068,((491:0.597,4039:0.403):0.507,(((743:0.407,744:0.593):0.619,(1076:0.13,(((1186:0.201,(4398:0.174,4399:0.826):0.299):0.32,4401:0.68):0.316,1187:0.684):0.12):0.256):0.229,((((1075:0.157,6156:0.843):0.259,3655:0.241):0.134,(4753:0.365,7265:0.635):0.491):0.131,(3072:0.426,4752:0.574):0.306):0.146):0.118):0.459):0.157):0.058,((((((((105:0.0,(5034:0.0,(6336:0.5,6337:0.5):0.5):1.0):0.0,(7071:1.0,7072:0.0):1.0):0.159,6144:0.841):0.34,(((4876:0.21,7038:0.79):0.3,7578:0.2):0.126,7471:0.874):0.535):0.446,((3687:0.8,((6448:0.0,6449:1.0):0.318,6633:0.682):0.2):0.571,3743:0.429):0.351):0.222,(((((((140:0.0,6981:1.0):0.0,8378:1.0):0.138,7624:0.862):0.155,((((4694:0.0,4695:1.0):0.0,4696:1.0):0.227,8368:0.773):0.688,((((6358:0.0,6966:1.0):0.0,7591:1.0):0.248,6661:0.752):0.151,6928:0.849):0.062):0.22):0.166,7274:0.834):0.14,((4140:0.732,4142:0.268):0.534,4141:0.466):0.204):0.174,(419:0.0,7656:1.0):0.154):0.487):0.074,(((240:0.0,7232:1.0):0.307,241:0.693):0.367,7231:0.633):0.81):0.345,((((((((117:0.0,490:1.0):0.0,6826:1.0):0.0,8515:1.0):0.158,(((5102:1.0,5103:0.0):0.744,6345:0.256):0.313,6574:0.687):0.092):0.233,7286:0.767):0.303,(((4655:0.873,(4657:0.185,4963:0.815):0.127):0.295,(6979:0.229,7213:0.771):0.455):0.117,(4658:0.335,(5028:0.496,6581:0.504):0.165):0.133):0.822):0.218,(((8571:0.0,8813:1.0):0.0,8963:1.0):0.0,9054:1.0):0.625):0.019,(492:0.883,(942:0.0,8687:1.0):0.117):0.856):0.271):0.064):0.032):0.029,((((((((((49:0.0,4201:1.0):0.72,(4235:0.41,(6556:0.334,(8129:0.467,(8130:0.635,8363:0.365):0.533):0.166):0.34):0.28):0.303,7430:0.572):0.55,(((((54:0.0,8420:1.0):0.0,8421:1.0):0.138,6170:0.862):0.265,7404:0.735):0.242,(((340:0.214,(2345:0.461,((4645:0.0,7328:1.0):0.0,7329:1.0):0.539):0.286):0.138,((4644:0.0,4859:1.0):0.407,4861:0.593):0.362):0.079,(4348:0.183,((4646:0.354,6549:0.646):0.224,(6804:0.304,(7464:0.567,7465:0.433):0.696):0.276):0.317):0.171):0.258):0.289):0.165,((285:0.646,4607:0.354):0.477,((((2826:0.0,8342:1.0):0.225,5318:0.775):0.135,8227:0.865):0.113,(7050:0.866,7051:0.134):0.387):0.398):0.351):0.174,(((((163:0.392,(((5256:0.0,5257:1.0):0.592,5498:0.408):0.167,5440:0.333):0.108):0.242,(1129:0.428,(6259:0.403,6260:0.597):0.072):0.289):0.153,(((164:0.0,7678:1.0):0.179,4462:0.821):0.335,(4051:0.242,5441:0.758):0.165):0.035):0.064,((((165:0.0,7209:1.0):0.155,6351:0.845):0.177,6784:0.823):0.114,2880:0.886):0.28):0.4,((166:0.715,((2182:0.0,2641:1.0):0.244,4436:0.756):0.285):0.343,((278:0.794,((4815:0.0,5449:1.0):0.171,6494:0.829):0.206):0.344,((4490:0.0,((4491:0.0,6822:1.0):0.0,7751:1.0):1.0):0.49,(((6282:0.0,6283:1.0):0.0,6284:1.0):0.822,6285:0.178):0.51):0.656):0.157):0.382):0.186):0.285,((((609:1.0,610:0.0):0.635,(5112:0.679,6322:0.321):0.365):0.611,(((((((975:0.0,4126:1.0):0.0,7636:1.0):0.0,7637:1.0):0.544,((5206:0.0,5207:1.0):0.0,5208:1.0):0.456):0.339,(((5110:0.0,5113:1.0):0.0,5114:1.0):0.0,7116:1.0):0.161):0.304,5111:0.696):0.276,6453:0.724):0.139):0.388,(((4374:0.593,(6584:0.287,((7965:0.039,7967:0.961):0.112,7966:0.888):0.213):0.157):0.344,((4721:0.0,8198:1.0):0.348,6989:0.652):0.406):0.493,5212:0.507):0.339):0.201):0.085,((((((((((301:0.226,8407:0.774):0.277,((5179:0.379,6813:0.621):0.187,6814:0.813):0.223):0.16,(((((((((680:0.0,(5438:0.5,5439:0.5):0.5):0.0,6987:1.0):0.0,6988:1.0):0.0,7526:1.0):0.0,7719:1.0):0.0,7720:1.0):0.0,8408:1.0):0.0,((7068:1.0,7069:0.0):0.0,7070:1.0):1.0):0.171,2190:0.829):0.09):0.065,((858:0.002,(2879:0.497,(2881:0.0,8200:1.0):0.503):0.498):0.474,1164:0.526):0.435):0.047,((601:0.233,7266:0.767):0.327,(((((4618:0.0,6452:1.0):0.0,7019:1.0):0.596,6982:0.404):0.25,(4619:0.404,7384:0.596):0.25):0.125,(6983:0.404,7385:0.596):0.375):0.298):0.196):0.053,5096:0.951):0.181,(((((342:0.0,4325:1.0):0.0,7253:1.0):0.0,8574:1.0):0.132,8097:0.868):0.211,(692:0.385,((2796:0.0,7822:1.0):0.678,5042:0.322):0.615):0.789):0.067):0.069,(((((((507:0.5,4296:0.5):0.5,508:0.0):0.0,6598:1.0):0.0,6911:1.0):0.268,(728:0.0,6127:1.0):0.732):0.189,(681:0.517,4320:0.483):0.311):0.132,(((567:0.57,(568:0.0,(8025:0.5,8026:0.5):0.5):0.43):0.424,4321:0.576):0.133,(((4319:0.0,7556:1.0):0.245,7555:0.755):0.212,7073:0.788):0.367):0.18):0.257):0.216,((((((((511:0.0,3758:1.0):0.0,3759:1.0):0.0,7007:1.0):0.247,6624:0.753):0.148,6653:0.852):0.086,(((3258:0.0,5850:1.0):0.659,3451:0.341):0.39,3295:0.61):0.414):0.218,(3771:0.484,(4463:0.594,4615:0.406):0.516):0.282):0.242,((((((804:0.0,8311:1.0):0.0,8312:1.0):0.215,2883:0.785):0.246,996:0.754):0.294,((((4292:0.0,7487:1.0):0.304,6609:0.696):0.4,4727:0.1):0.251,(8310:0.788,8565:0.212):0.749):0.206):0.233,(4636:0.887,4862:0.113):0.329):0.106):0.126):0.237,((((((531:0.4,1544:0.6):0.322,1787:0.678):0.41,(1039:0.611,2296:0.389):0.59):0.301,((((((((((((((((((((((((((((((((((3096:0.0,4352:1.0):0.0,4353:1.0):0.0,4354:1.0):0.0,4355:1.0):0.0,4356:1.0):0.0,4357:1.0):0.0,4359:1.0):0.0,4360:1.0):0.0,4361:1.0):0.0,4362:1.0):0.0,4363:1.0):0.0,4364:1.0):0.0,4366:1.0):0.0,4367:1.0):0.0,4368:1.0):0.0,4369:1.0):0.0,4370:1.0):0.0,4371:1.0):0.0,4372:1.0):0.0,4373:1.0):0.0,4375:1.0):0.0,4376:1.0):0.0,4377:1.0):0.0,4378:1.0):0.0,4379:1.0):0.0,4380:1.0):0.0,4381:1.0):0.0,4382:1.0):0.0,4383:1.0):0.0,4384:1.0):0.0,4385:1.0):0.0,4386:1.0):0.0,8189:1.0):0.204,3268:0.796):0.199):0.216,((1725:0.208,2029:0.792):0.284,2834:0.716):0.409):0.177,((3300:0.767,(((8801:0.0,9002:1.0):0.0,9047:1.0):0.0,9051:1.0):0.233):0.217,9043:0.783):0.495):0.311):0.127):0.113,((((((((((((90:0.421,(5903:0.279,6457:0.721):0.579):0.108,(2823:0.533,6456:0.467):0.392):0.15,(3338:0.651,((7126:0.364,7450:0.636):0.273,(7522:0.829,(7548:0.172,(8194:0.223,(8195:0.5,8196:0.5):0.277):0.328):0.171):0.727):0.349):0.24):0.148,((((((4875:0.111,4880:0.889):0.403,4879:0.597):0.367,4877:0.633):0.395,(4878:0.0,6734:1.0):0.605):0.144,(6195:0.0,8174:1.0):0.356):0.054,((6340:0.0,7562:1.0):0.238,7563:0.762):0.571):0.411):0.061,((((((4719:1.0,4720:0.0):1.0,7417:0.0):1.0,5059:0.0):0.22,6536:0.78):0.266,(6222:0.576,(6585:0.822,7515:0.178):0.424):0.234):0.426,(6522:0.435,6523:0.565):0.574):0.545):0.139,((((179:0.806,180:0.194):0.162,(6458:0.407,6618:0.593):0.338):0.123,6234:0.877):0.352,(6163:0.458,(6164:0.151,7837:0.849):0.542):0.148):0.405):0.156,((((280:0.256,(6167:1.0,6168:0.0):0.744):0.674,(2657:0.742,(((6470:0.0,6472:1.0):0.0,6473:1.0):0.0,(6471:0.0,7713:1.0):1.0):0.258):0.326):0.488,(466:0.534,6978:0.466):0.512):0.461,(((((2871:0.568,(2872:0.0,6564:1.0):0.432):0.528,6877:0.472):0.605,(6619:0.522,(6977:0.0,8038:1.0):0.478):0.395):0.164,(((((4810:0.0,4811:1.0):0.0,(7612:1.0,7613:0.0):1.0):0.256,(((4983:0.0,4985:1.0):0.0,4986:1.0):0.703,(4984:0.242,6242:0.758):0.297):0.244):0.157,6699:0.593):0.35,((6913:1.0,6914:0.0):0.426,((7127:0.0,7571:1.0):0.517,7305:0.483):0.574):0.525):0.203):0.334,((((4783:0.0,6611:1.0):0.0,6954:1.0):0.123,((((((4944:1.0,4945:0.0):0.0,4946:1.0):0.0,4947:1.0):0.0,4948:1.0):0.727,6634:0.273):0.313,6635:0.687):0.377):0.138,((6467:0.0,6468:1.0):0.0,6469:1.0):0.862):0.226):0.116):0.081):0.274,(((((((((256:0.0,4922:1.0):1.0,((((7494:1.0,7495:0.0):0.0,8289:1.0):0.0,8290:1.0):0.0,8291:1.0):0.0):1.0,6578:0.0):0.463,(2821:0.0,8316:1.0):0.537):0.338,((5063:0.0,6666:1.0):0.381,6344:0.619):0.662):0.084,(5078:0.0,6938:1.0):0.416):0.261,((((1422:0.549,4458:0.451):0.557,(7307:0.366,7802:0.634):0.443):0.439,((4454:0.0,4455:1.0):0.469,(6509:0.599,(6744:0.0,8207:1.0):0.401):0.531):0.061):0.543,(((((4347:0.0,8370:1.0):0.174,6298:0.826):0.233,6299:0.767):0.138,(5892:0.0,6717:1.0):0.362):0.209,7662:0.791):0.239):0.243):0.089,((2820:0.0,2822:1.0):0.536,4701:0.464):0.573):0.39,((((((549:0.0,(4503:0.0,5057:1.0):1.0):0.483,((7383:0.0,8259:1.0):0.164,7873:0.836):0.517):0.051,(5658:0.254,(7737:0.0,8364:1.0):0.746):0.449):0.337,3843:0.663):0.373,(4977:0.615,4978:0.385):0.627):0.176,((4018:0.643,((5264:1.0,5265:0.0):0.0,7239:1.0):0.357):0.297,(5848:0.182,7406:0.818):0.703):0.324):0.267):0.015):0.16,((((((((336:0.652,(4786:0.161,4787:0.839):0.348):0.242,(4698:0.287,6350:0.713):0.258):0.128,((((((510:0.0,598:1.0):0.0,599:1.0):0.0,6711:1.0):0.0,7399:1.0):0.0,7506:1.0):0.179,4954:0.821):0.247):0.14,4785:0.547):0.065,(2282:0.594,6352:0.406):0.497):0.441,((377:0.603,6197:0.397):0.628,(((4335:0.0,7190:1.0):0.0,7738:1.0):0.119,(4341:0.0,4654:1.0):0.881):0.372):0.231):0.06,((((4340:0.276,6461:0.724):0.432,((5906:0.0,(6802:0.0,(((6856:0.0,6857:1.0):0.0,6858:1.0):0.0,6859:1.0):1.0):1.0):0.469,(6864:0.0,7501:1.0):0.531):0.568):0.32,(4918:0.728,7755:0.272):0.555):0.083,(((4443:0.812,(4445:0.207,7572:0.793):0.188):0.236,(4697:0.0,7881:1.0):0.764):0.144,((6487:0.0,(((7207:0.0,7208:1.0):0.0,8082:1.0):1.0,8081:0.0):1.0):0.199,6625:0.801):0.856):0.386):0.153):0.109,(((418:0.0,5260:1.0):0.421,4917:0.579):0.472,(((((((((6211:1.0,6235:0.0):0.0,6314:1.0):0.0,7204:1.0):0.0,7500:1.0):0.0,7552:1.0):0.0,7970:1.0):0.437,8315:0.563):0.463,6236:0.037):0.849,((((6256:0.0,6257:1.0):0.74,6370:0.26):0.376,6947:0.624):0.288,6258:0.712):0.401):0.591):0.382):0.152):0.057,((((3266:0.0,6628:1.0):0.28,(((4581:0.165,(6328:0.5,6803:0.5):0.335):0.104,((7476:0.0,8243:1.0):0.25,7477:0.25):0.646):0.484,6481:0.516):0.72):0.193,(((6365:0.0,6569:1.0):0.0,7838:1.0):0.424,6366:0.576):0.494):0.228,((3420:0.582,6078:0.418):0.247,((6491:0.0,6644:1.0):0.0,7346:1.0):0.753):0.412):0.435):0.101,(((((((((((((((((((((((((((((((((((((((((((((((((((((((((((((((((((((((((((((((((((((((((((((((((((((((((((((((((((((((((((((((((((((((((((((((((((((((((((((((((((((((((((((((((((((((((((((((((((((((((((((251:0.5,252:0.5):0.5,731:0.5):0.5,1095:0.5):0.5,8029:0.5):4.611686018427388e18,(607:0.5,608:0.5):4.611686018427388e18):0.0,905:4.611686018427388e18):0.0,1021:4.611686018427388e18):0.0,((1671:0.5,1672:0.5):0.5,2338:0.5):4.611686018427388e18):0.0,((((1749:0.5,1750:0.5):0.5,2376:0.5):0.75,7340:0.75):0.5,7341:0.5):4.611686018427388e18):0.0,(1780:0.5,1781:0.5):4.611686018427388e18):0.0,(1802:0.5,1821:0.5):4.611686018427388e18):0.0,2019:4.611686018427388e18):0.0,((2060:0.5,2061:0.5):0.5,2674:0.5):4.611686018427388e18):0.0,2136:4.611686018427388e18):0.0,(2151:0.5,2152:0.5):4.611686018427388e18):0.0,(2211:0.5,2212:0.5):4.611686018427388e18):0.0,2238:4.611686018427388e18):0.0,2305:4.611686018427388e18):0.0,2365:4.611686018427388e18):0.0,(2382:0.5,2383:0.5):4.611686018427388e18):0.0,(2407:0.5,2408:0.5):4.611686018427388e18):0.0,2479:4.611686018427388e18):0.0,2489:4.611686018427388e18):0.0,2498:4.611686018427388e18):0.0,2513:4.611686018427388e18):0.0,2514:4.611686018427388e18):0.0,(2530:0.5,2531:0.5):4.611686018427388e18):0.0,(2538:0.5,2539:0.5):4.611686018427388e18):0.0,(2542:0.5,2543:0.5):4.611686018427388e18):0.0,(2553:0.5,2554:0.5):4.611686018427388e18):0.0,2560:4.611686018427388e18):0.0,(2565:0.5,2566:0.5):4.611686018427388e18):0.0,(2592:0.5,2593:0.5):4.611686018427388e18):0.0,(2604:0.5,2605:0.5):4.611686018427388e18):0.0,(2632:0.5,2633:0.5):4.611686018427388e18):0.0,(2646:0.5,2647:0.5):4.611686018427388e18):0.0,2667:4.611686018427388e18):0.0,(2697:0.5,2698:0.5):4.611686018427388e18):0.0,2710:4.611686018427388e18):0.0,2738:4.611686018427388e18):0.0,2743:4.611686018427388e18):0.0,2753:4.611686018427388e18):0.0,2768:4.611686018427388e18):0.0,((2858:0.5,2859:0.5):0.5,7687:0.5):4.611686018427388e18):0.0,(2899:0.5,2900:0.5):4.611686018427388e18):0.0,(2918:0.5,2919:0.5):4.611686018427388e18):0.0,(3247:0.5,3248:0.5):4.611686018427388e18):0.0,(4112:0.5,4113:0.5):4.611686018427388e18):0.0,(4239:0.5,4240:0.5):4.611686018427388e18):0.0,(4307:0.5,4308:0.5):4.611686018427388e18):0.0,(4516:0.5,4517:0.5):4.611686018427388e18):0.0,(4547:0.5,4548:0.5):4.611686018427388e18):0.0,(4600:0.5,4601:0.5):4.611686018427388e18):0.0,(4620:0.5,4621:0.5):4.611686018427388e18):0.0,(4681:0.5,4682:0.5):4.611686018427388e18):0.0,4706:4.611686018427388e18):0.0,(4733:0.5,4734:0.5):4.611686018427388e18):0.0,(((4735:0.5,4736:0.5):0.5,4737:0.5):0.125,4738:0.125):4.611686018427388e18):0.0,4741:4.611686018427388e18):0.0,(4746:0.5,4747:0.5):4.611686018427388e18):0.0,(((4789:0.5,4790:0.5):0.5,4791:0.5):0.75,4792:0.75):4.611686018427388e18):0.0,(4796:0.5,4797:0.5):4.611686018427388e18):0.0,((4872:0.5,4873:0.5):0.5,4874:0.5):4.611686018427388e18):0.0,(4913:0.5,4914:0.5):4.611686018427388e18):0.0,(4965:0.5,4966:0.5):4.611686018427388e18):0.0,(4988:0.5,4989:0.5):4.611686018427388e18):0.0,(5003:0.5,5004:0.5):4.611686018427388e18):0.0,5069:4.611686018427388e18):0.0,(5081:0.5,5082:0.5):4.611686018427388e18):0.0,(5101:0.5,6855:0.5):4.611686018427388e18):0.0,(5106:0.5,5107:0.5):4.611686018427388e18):0.0,((5172:0.5,5173:0.5):0.25,5174:0.25):4.611686018427388e18):0.0,(5204:0.5,5205:0.5):4.611686018427388e18):0.0,(5364:0.5,5365:0.5):4.611686018427388e18):0.0,(5610:0.5,5611:0.5):4.611686018427388e18):0.0,(5674:0.5,5675:0.5):4.611686018427388e18):0.0,(5783:0.5,5784:0.5):4.611686018427388e18):0.0,(5785:0.5,5786:0.5):4.611686018427388e18):0.0,(6043:0.5,6044:0.5):4.611686018427388e18):0.0,6075:4.611686018427388e18):0.0,6090:4.611686018427388e18):0.0,6110:4.611686018427388e18):0.0,(6200:0.5,6201:0.5):4.611686018427388e18):0.0,(6220:0.5,6221:0.5):4.611686018427388e18):0.0,(6226:0.5,6227:0.5):4.611686018427388e18):0.0,(6246:0.5,6247:0.5):4.611686018427388e18):0.0,6302:4.611686018427388e18):0.0,(6355:0.5,6356:0.5):4.611686018427388e18):0.0,(6360:0.5,6361:0.5):4.611686018427388e18):0.0,6382:4.611686018427388e18):0.0,((6390:0.5,6391:0.5):0.5,6392:0.5):4.611686018427388e18):0.0,(6434:0.5,6435:0.5):4.611686018427388e18):0.0,6477:4.611686018427388e18):0.0,((6478:0.5,6479:0.5):0.5,6480:0.5):4.611686018427388e18):0.0,((6502:0.5,6503:0.5):0.5,6907:0.5):4.611686018427388e18):0.0,6555:4.611686018427388e18):0.0,6593:4.611686018427388e18):0.0,(6622:0.5,6623:0.5):4.611686018427388e18):0.0,6655:4.611686018427388e18):0.0,((6658:0.5,6659:0.5):0.5,6660:0.5):4.611686018427388e18):0.0,6685:4.611686018427388e18):0.0,6689:4.611686018427388e18):0.0,6706:4.611686018427388e18):0.0,6715:4.611686018427388e18):0.0,6729:4.611686018427388e18):0.0,(6768:0.5,6769:0.5):4.611686018427388e18):0.0,6788:4.611686018427388e18):0.0,((6799:0.5,6800:0.5):0.5,6801:0.5):4.611686018427388e18):0.0,6808:4.611686018427388e18):0.0,(6830:0.5,6831:0.5):4.611686018427388e18):0.0,6833:4.611686018427388e18):0.0,6843:4.611686018427388e18):0.0,(6869:0.5,6870:0.5):4.611686018427388e18):0.0,(((6874:0.5,6875:0.5):0.5,8092:0.5):0.25,8095:0.25):4.611686018427388e18):0.0,6902:4.611686018427388e18):0.0,(6903:0.5,6904:0.5):4.611686018427388e18):0.0,6994:4.611686018427388e18):0.0,7004:4.611686018427388e18):0.0,7011:4.611686018427388e18):0.0,7027:4.611686018427388e18):0.0,(7133:0.5,7134:0.5):4.611686018427388e18):0.0,7192:4.611686018427388e18):0.0,(7211:0.5,7212:0.5):4.611686018427388e18):0.0,(7217:0.5,7218:0.5):4.611686018427388e18):0.0,(7220:0.5,7221:0.5):4.611686018427388e18):0.0,7279:4.611686018427388e18):0.0,7294:4.611686018427388e18):0.0,(7296:0.5,7297:0.5):4.611686018427388e18):0.0,7330:4.611686018427388e18):0.0,7342:4.611686018427388e18):0.0,(7372:0.5,7373:0.5):4.611686018427388e18):0.0,7382:4.611686018427388e18):0.0,7398:4.611686018427388e18):0.0,(7408:0.5,7409:0.5):4.611686018427388e18):0.0,(7420:0.5,7421:0.5):4.611686018427388e18):0.0,7433:4.611686018427388e18):0.0,(7436:0.5,7437:0.5):4.611686018427388e18):0.0,7442:4.611686018427388e18):0.0,7458:4.611686018427388e18):0.0,7469:4.611686018427388e18):0.0,(7479:0.5,7480:0.5):4.611686018427388e18):0.0,7507:4.611686018427388e18):0.0,((7523:0.5,7773:0.5):0.5,7774:0.5):4.611686018427388e18):0.0,7554:4.611686018427388e18):0.0,7573:4.611686018427388e18):0.0,7574:4.611686018427388e18):0.0,7575:4.611686018427388e18):0.0,(7608:0.5,7609:0.5):4.611686018427388e18):0.0,(7622:0.5,7623:0.5):4.611686018427388e18):0.0,((7630:0.5,7631:0.5):0.5,7632:0.5):4.611686018427388e18):0.0,((7644:0.5,7645:0.5):0.5,8247:0.5):4.611686018427388e18):0.0,(7684:0.5,7685:0.5):4.611686018427388e18):0.0,(7693:0.5,7694:0.5):4.611686018427388e18):0.0,(7695:0.5,7696:0.5):4.611686018427388e18):0.0,7729:4.611686018427388e18):0.0,(7735:0.5,7736:0.5):4.611686018427388e18):0.0,(7740:0.5,7741:0.5):4.611686018427388e18):0.0,7742:4.611686018427388e18):0.0,7858:4.611686018427388e18):0.0,7859:4.611686018427388e18):0.0,7888:4.611686018427388e18):0.0,7891:4.611686018427388e18):0.0,7909:4.611686018427388e18):0.0,(7923:0.5,7924:0.5):4.611686018427388e18):0.0,(7929:0.5,7930:0.5):4.611686018427388e18):0.0,((7934:0.5,7935:0.5):0.5,7936:0.5):4.611686018427388e18):0.0,7961:4.611686018427388e18):0.0,((7973:0.5,7974:0.5):0.5,7975:0.5):4.611686018427388e18):0.0,(7985:0.5,7986:0.5):4.611686018427388e18):0.0,7987:4.611686018427388e18):0.0,7991:4.611686018427388e18):0.0,8004:4.611686018427388e18):0.0,8005:4.611686018427388e18):0.0,(8022:0.5,8023:0.5):4.611686018427388e18):0.0,(8036:0.5,8037:0.5):4.611686018427388e18):0.0,(8054:0.5,8055:0.5):4.611686018427388e18):0.0,8063:4.611686018427388e18):0.0,(8071:0.5,8072:0.5):4.611686018427388e18):0.0,8096:4.611686018427388e18):0.0,8105:4.611686018427388e18):0.0,8128:4.611686018427388e18):0.0,((8154:0.5,8155:0.5):0.5,8156:0.5):4.611686018427388e18):0.0,8173:4.611686018427388e18):0.0,8221:4.611686018427388e18):0.0,(8237:0.5,8238:0.5):4.611686018427388e18):0.0,8257:4.611686018427388e18):0.0,8258:4.611686018427388e18):0.0,8271:4.611686018427388e18):0.0,8273:4.611686018427388e18):0.0,8275:4.611686018427388e18):0.0,8279:4.611686018427388e18):0.0,8280:4.611686018427388e18):0.0,8341:4.611686018427388e18):0.0,(8385:0.5,8386:0.5):4.611686018427388e18):0.0,8392:4.611686018427388e18):0.0,8413:4.611686018427388e18):0.0,8414:4.611686018427388e18):0.0,8415:4.611686018427388e18):0.0,(8710:0.5,8711:0.5):4.611686018427388e18):0.0,(8746:0.5,8747:0.5):4.611686018427388e18):0.0,(8748:0.5,8749:0.5):4.611686018427388e18):0.0,(8752:0.5,8753:0.5):4.611686018427388e18):0.0,(9179:0.5,9180:0.5):4.611686018427388e18):0.0,(((9244:0.5,9245:0.5):0.5,9246:0.5):0.5,9247:0.5):4.611686018427388e18):4.611686018427388e18,255:0.0):0.0):0.104,((((((360:0.0,7817:1.0):0.193,((6524:0.0,7379:1.0):0.342,(6616:0.0,7816:1.0):0.658):0.307):0.391,(((406:0.0,407:1.0):0.0,7641:1.0):0.555,((842:0.0,4760:1.0):0.466,1653:0.534):0.445):0.609):0.352,((4095:0.0,6280:1.0):0.615,(((4688:0.059,8178:0.941):0.644,4689:0.356):0.198,4693:0.802):0.385):0.351):0.246,((2515:0.515,4764:0.485):0.456,(2746:0.61,((4765:0.262,6570:0.738):0.475,5007:0.525):0.39):0.419):0.598):0.369,((((370:0.36,3415:0.64):0.314,4000:0.686):0.21,((1339:0.825,(((4109:0.0,8412:1.0):0.058,((6496:0.0,6497:1.0):0.386,6498:0.614):0.442):0.181,4854:0.819):0.175):0.356,(1401:0.469,(3237:1.0,3238:0.0):0.531):0.644):0.275):0.421,((((((((((729:0.0,4951:1.0):0.0,7721:1.0):0.0,7722:1.0):0.0,7723:1.0):0.0,8019:1.0):0.056,((4770:0.234,(6565:0.209,6566:0.791):0.266):0.26,(4771:0.5,4772:0.5):0.24):0.319):0.113,2656:0.887):0.277,4943:0.723):0.203,((3101:0.309,3646:0.691):0.187,((4634:0.164,6233:0.836):0.442,7397:0.558):0.563):0.035):0.137,(((((2368:0.0,2369:1.0):1.0,2555:0.0):1.0,4961:0.0):0.215,4952:0.785):0.353,2673:0.647):0.588):0.32):0.207):0.078):0.034):0.027,((((((169:0.442,(1040:0.0,1041:1.0):0.558):0.372,1633:0.628):0.506,(((((172:0.0,7390:1.0):0.135,7660:0.865):0.212,((173:0.0,6669:1.0):0.212,6418:0.788):0.288):0.078,4748:0.672):0.331,2577:0.669):0.369):0.191,((((((((171:0.104,5132:0.896):0.097,4858:0.903):0.199,7310:0.801):0.315,(((4479:0.0,4480:1.0):0.173,6776:0.827):0.142,(5209:0.0,7829:1.0):0.858):0.185):0.129,(((((846:0.0,8163:1.0):0.0,8164:1.0):0.0,8165:1.0):0.0,8166:1.0):0.292,8162:0.708):0.496):0.212,((((4498:0.0,6603:1.0):0.176,((6672:0.0,7940:1.0):0.0,(((6673:0.0,6675:1.0):0.0,8160:1.0):0.25,((6674:0.0,((7941:1.0,7942:0.0):0.5,7943:0.5):0.5):1.0,(7024:0.0,7025:1.0):0.0):0.25):0.75):0.824):0.089,7432:0.911):0.125,6261:0.875):0.288):0.058,(4499:0.18,7585:0.82):0.567):0.093,(((1700:1.0,1701:0.0):0.258,4823:0.742):0.59,((((2533:0.0,5866:1.0):0.0,5867:1.0):0.0,5868:1.0):0.163,3775:0.837):0.41):0.065):0.259):0.234,(((3407:0.0,8332:1.0):0.26,3569:0.74):0.263,(5023:0.705,5024:0.295):0.737):0.696):0.275,((((((495:0.0,496:1.0):1.0,(1604:0.0,2425:1.0):0.0):0.447,(1603:0.374,7317:0.626):0.553):0.404,4476:0.596):0.524,((3531:0.701,(4822:0.0,6192:1.0):0.299):0.213,6191:0.787):0.445):0.467,(((((((3904:0.0,5366:1.0):0.0,7514:1.0):0.0,8374:1.0):0.002,4170:0.998):0.136,5035:0.864):0.111,((4452:0.185,4453:0.815):0.251,6372:0.749):0.139):0.308,((6670:0.0,7727:1.0):0.954,6950:0.046):0.692):0.376):0.126):0.074):0.022):0.017,(((((((((((((((76:0.0,6761:1.0):0.0,6974:1.0):0.0,7066:1.0):0.0,7819:1.0):0.0,8219:1.0):0.0,8738:1.0):0.08,8427:0.92):0.073,3050:0.927):0.117,4285:0.883):0.26,((641:0.427,642:0.573):0.305,3047:0.695):0.49):0.151,(((5080:0.464,(6924:0.602,6925:0.398):0.536):0.318,5235:0.682):0.404,((7113:0.0,7841:1.0):0.353,7842:0.647):0.596):0.607):0.05,((((((210:0.189,1660:0.811):0.225,(((4616:1.0,4617:0.0):0.264,6995:0.736):0.222,5669:0.778):0.775):0.196,8680:0.804):0.219,((3557:0.879,((4849:0.0,7234:1.0):0.0,8040:1.0):0.121):0.225,5442:0.775):0.531):0.103,(((454:0.0,6301:1.0):0.0,8534:1.0):0.559,(1162:0.589,(4542:0.702,4725:0.298):0.411):0.441):0.382):0.146,(((((362:0.0,4437:1.0):0.192,4485:0.808):0.111,((1065:0.7,(1066:0.202,7601:0.798):0.3):0.307,((3091:0.177,4692:0.823):0.341,7937:0.659):0.193):0.139):0.146,((501:0.0,8295:1.0):0.471,4798:0.529):0.479):0.265,(734:0.517,(4901:0.265,7169:0.735):0.483):0.345):0.198):0.03):0.109,(((129:0.782,((130:0.158,648:0.842):0.403,((5549:0.504,(((5560:0.0,5563:1.0):0.022,5561:0.978):0.255,((5562:0.0,5955:1.0):0.988,(5685:0.0,5686:1.0):0.012):0.245):0.246):0.351,5564:0.899):0.472):0.218):0.416,((1862:0.478,(1939:0.0,(2564:0.0,8701:1.0):1.0):0.522):0.397,6204:0.603):0.396):0.256,(((((((296:0.0,7164:1.0):0.0,7368:1.0):0.0,8360:1.0):0.242,578:0.758):0.069,(1887:0.799,(2499:0.435,2890:0.565):0.201):0.431):0.189,(((638:0.0,4021:1.0):0.414,6951:0.586):0.274,2243:0.726):0.529):0.151,(((((297:0.155,4647:0.845):0.343,7604:0.657):0.246,2137:0.754):0.22,(298:0.289,(1003:0.435,1610:0.565):0.711):0.78):0.207,((2403:0.263,2404:0.737):0.179,6880:0.821):0.793):0.318):0.034):0.08):0.063,(((((((149:0.835,5184:0.165):0.734,(150:0.483,3240:0.517):0.266):0.601,2887:0.399):0.165,(637:0.0,8433:1.0):0.71):0.327,((361:0.417,4973:0.583):0.441,((((2317:0.0,7690:1.0):0.0,8003:1.0):0.169,(6244:0.225,6245:0.775):0.331):0.576,(4358:0.814,4890:0.186):0.424):0.309):0.102):0.143,((((2666:0.23,(4488:0.387,4920:0.613):0.27):0.052,(4489:0.0,7976:1.0):0.698):0.503,5499:0.622):0.302,7596:0.761):0.664):0.204,(((((543:0.0,7081:1.0):0.592,((2628:0.0,8455:1.0):0.196,7149:0.804):0.408):0.27,((((749:0.0,7168:1.0):0.0,7170:1.0):0.0,9393:1.0):0.14,((2891:0.253,7165:0.747):0.278,7155:0.722):0.11):0.168):0.344,3672:0.687):0.269,((1814:0.484,3471:0.516):0.47,(4968:0.0,7175:1.0):0.53):0.121):0.334):0.033):0.081,(((((((((223:0.0,226:1.0):0.0,7132:1.0):0.0,8380:1.0):0.285,1157:0.715):0.127,((1790:0.0,5126:1.0):0.0,8302:1.0):0.373):0.296,(224:0.365,(((6484:0.0,7210:1.0):0.0,7240:1.0):0.0,8379:1.0):0.635):0.204):0.377,(2027:0.903,(3580:0.855,(4293:0.0,7188:1.0):0.145):0.097):0.498):0.266,((834:0.607,(2620:0.685,4497:0.315):0.393):0.57,(2578:0.456,5330:0.544):0.43):0.484):0.235,((((701:0.33,2217:0.67):0.574,((1011:0.243,1724:0.757):0.635,(6173:0.433,7339:0.567):0.365):0.301):0.155,3837:0.408):0.333,((887:0.581,5410:0.419):0.261,4132:0.739):0.589):0.323):0.047):0.02):0.013):0.013):0.017):0.005,(((((((((((4:0.0,7478:1.0):0.0,8015:1.0):0.388,4674:0.612):0.362,5991:0.638):0.421,(3223:0.0,5886:1.0):0.579):0.301,(((2218:0.0,7704:1.0):0.18,2419:0.82):0.641,3398:0.359):0.543):0.22,((((657:0.261,3778:0.739):0.47,1680:0.53):0.46,((2971:0.612,3262:0.388):0.224,3261:0.776):0.54):0.388,(((853:0.501,(3004:0.0,(3318:0.0,7331:1.0):1.0):0.499):0.111,3303:0.389):0.486,(3369:0.473,3441:0.527):0.514):0.409):0.229):0.125,(((((348:0.0,1907:1.0):0.0,7876:1.0):0.381,(349:0.509,350:0.491):0.119):0.354,(3087:0.792,8636:0.208):0.521):0.36,(((427:0.474,428:0.526):0.245,(5203:0.452,8505:0.548):0.255):0.363,8212:0.387):0.547):0.357):0.069,(((((((148:0.847,((((((((((((((((((((706:0.0,3800:1.0):0.0,3801:1.0):0.0,3802:1.0):0.0,3803:1.0):0.0,3804:1.0):0.0,3807:1.0):0.0,3808:1.0):0.0,3809:1.0):0.0,3810:1.0):0.0,3811:1.0):0.0,3812:1.0):0.0,3813:1.0):0.0,3814:1.0):0.0,3815:1.0):0.0,3816:1.0):0.0,3817:1.0):0.0,3818:1.0):0.0,3819:1.0):0.0,3820:1.0):0.0,3821:1.0):0.153):0.262,3059:0.738):0.59,(3738:0.6,(3805:0.261,((7901:0.155,7903:0.845):0.173,7902:0.327):0.239):0.4):0.41):0.533,((4554:0.163,6812:0.837):0.453,7277:0.547):0.42):0.22,(((755:0.605,1072:0.395):0.346,(((5825:0.718,6093:0.282):0.666,((8817:0.258,9069:0.742):0.342,8822:0.658):0.334):0.18,8839:0.82):0.592):0.181,((2287:0.164,8391:0.836):0.568,(3520:0.77,((8775:0.0,8804:1.0):0.124,8776:0.876):0.23):0.432):0.507):0.176):0.135,((((((335:0.775,((8774:0.0,8898:1.0):0.0,8925:1.0):0.225):0.418,((1197:0.731,1198:0.269):0.596,3344:0.404):0.457):0.26,8820:0.802):0.341,((3579:0.0,7125:1.0):0.0,(6882:0.0,6883:1.0):1.0):0.659):0.183,((2054:0.469,2176:0.531):0.354,2430:0.646):0.817):0.446,(((((((((((((((1443:0.0,1444:1.0):0.0,1829:1.0):0.0,2135:1.0):0.0,2269:1.0):0.0,2390:1.0):0.0,2426:1.0):0.0,2474:1.0):0.0,2487:1.0):0.0,2488:1.0):0.0,2616:1.0):0.0,2681:1.0):0.0,(1464:0.0,1465:1.0):1.0):0.009,2268:0.991):0.085,2615:0.915):0.466,5998:0.534):0.307):0.148):0.041,(((((((157:0.0,6474:1.0):0.0,7054:1.0):0.245,1638:0.755):0.173,6894:0.827):0.297,158:0.703):0.4,(((((((635:0.0,5277:1.0):0.0,5350:1.0):0.0,5351:1.0):0.641,9216:0.359):0.399,636:0.601):0.722,4763:0.278):0.608,((8589:0.0,8700:1.0):0.473,8590:0.527):0.392):0.069):0.257,(((1511:0.691,(((1854:0.0,1945:1.0):0.0,2331:1.0):0.0,2651:1.0):0.309):0.241,(4030:0.525,(8470:0.856,8471:0.144):0.475):0.759):0.426,(((2372:0.312,5581:0.688):0.627,(3824:0.679,(3899:0.0,5421:1.0):0.321):0.373):0.277,(3651:0.782,((((((8815:0.0,8910:1.0):0.0,9056:1.0):0.0,9063:1.0):0.186,8819:0.814):0.097,8858:0.903):0.16,8974:0.84):0.218):0.598):0.254):0.189):0.092):0.012):0.018,((((((((((((((((((27:0.0,28:1.0):0.0,4829:1.0):0.0,4830:1.0):0.0,4831:1.0):0.0,4832:1.0):0.0,4833:1.0):0.0,4834:1.0):0.0,4836:1.0):0.202,3322:0.798):0.247,7880:0.753):0.226,4835:0.774):0.242,2816:0.758):0.429,(((932:0.576,3352:0.424):0.459,(3406:0.432,3564:0.568):0.541):0.24,3391:0.76):0.508):0.218,((99:0.225,8079:0.775):0.462,100:0.538):0.689):0.372,((((((385:0.719,(7459:0.749,((8797:0.0,8798:1.0):0.0,8920:1.0):0.251):0.281):0.156,(8770:0.792,(8771:0.0,9080:1.0):0.208):0.344):0.244,((8713:0.0,8979:1.0):0.133,((8836:0.0,8879:1.0):0.237,9000:0.763):0.367):0.256):0.161,(1596:0.708,(3603:0.651,((8793:0.0,8794:1.0):0.0,8847:1.0):0.349):0.292):0.339):0.264,((((((1416:0.318,(5099:0.0,5100:1.0):0.682):0.483,(8841:0.0,9062:1.0):0.517):0.287,8899:0.713):0.329,6867:0.671):0.346,((4609:0.912,(((((((((((((8783:0.0,8848:1.0):0.0,8866:1.0):0.0,8878:1.0):0.0,8924:1.0):0.0,8941:1.0):0.0,8945:1.0):0.0,8951:1.0):0.0,8954:1.0):0.0,8957:1.0):0.0,8970:1.0):0.0,8977:1.0):0.0,9022:1.0):0.065,9052:0.935):0.088):0.105,8956:0.895):0.154):0.127,8972:0.841):0.171):0.198,((2843:0.173,(2844:0.233,2845:0.767):0.327):0.165,6217:0.835):0.791):0.128):0.07,((((((((771:0.0,8874:1.0):0.0,9019:1.0):0.0,(4410:1.0,4411:0.0):1.0):0.133,8845:0.867):0.091,((((((2943:0.0,8952:1.0):0.0,8960:1.0):0.0,8966:1.0):0.307,4524:0.693):0.207,(8855:0.401,9046:0.599):0.293):0.127,8632:0.873):0.284):0.075,8911:0.925):0.347,4284:0.653):0.249,((((1572:0.887,((((1877:0.0,8859:1.0):0.132,1936:0.868):0.223,8812:0.777):0.341,((((((((2064:0.0,8873:1.0):0.0,9033:1.0):0.0,9038:1.0):0.0,((2799:0.0,2800:1.0):0.0,2801:1.0):1.0):0.104,9015:0.896):0.076,9001:0.924):0.109,8959:0.891):0.111,8986:0.889):0.159):0.113):0.107,7298:0.893):0.38,((((((((2063:0.0,8891:1.0):0.0,8896:1.0):0.0,8909:1.0):0.0,8932:1.0):0.207,3551:0.793):0.089,(((2545:0.0,8780:1.0):0.0,8826:1.0):0.14,9005:0.86):0.161):0.176,(((((5976:0.0,6493:1.0):0.0,7282:1.0):0.209,(8768:0.0,8821:1.0):0.791):0.659,7402:0.841):0.053,(((6626:1.0,7261:0.0):0.0,8917:1.0):0.0,8995:1.0):0.197):0.199):0.173,((3117:0.503,3347:0.497):0.254,8506:0.746):0.389):0.149):0.151,((((2930:0.585,(3005:0.53,3297:0.47):0.415):0.265,(5775:0.878,(((((8260:1.0,8763:0.0):0.0,8764:1.0):0.0,8946:1.0):0.0,8962:1.0):0.101,9012:0.899):0.122):0.235):0.159,7173:0.841):0.161,8126:0.839):0.443):0.054):0.175):0.016,((((((182:0.872,(((((((8769:0.0,8818:1.0):0.0,8827:1.0):0.0,8840:1.0):0.0,8844:1.0):0.0,8904:1.0):0.0,8913:1.0):0.0,8921:1.0):0.128):0.089,3499:0.911):0.142,(7312:0.715,7313:0.285):0.858):0.359,(1898:0.598,2140:0.402):0.641):0.24,((1568:0.674,(((1744:0.0,7499:1.0):0.186,2389:0.814):0.253,7009:0.747):0.326):0.207,6704:0.793):0.635):0.497,((((717:0.0,8620:1.0):0.37,5305:0.63):0.547,((((718:0.0,5893:1.0):0.0,8504:1.0):0.112,2683:0.888):0.359,((3657:0.198,(4652:0.0,7393:1.0):0.802):0.298,(4650:0.0,8795:1.0):0.202):0.641):0.453):0.38,((((2112:0.375,(5587:0.269,(7759:0.535,7765:0.465):0.731):0.125):0.254,(4676:0.0,4898:1.0):0.371):0.077,3860:0.611):0.495,((2511:0.896,(5144:0.0,7396:1.0):0.104):0.314,(2640:0.836,(3549:0.328,(4622:0.0,6142:1.0):0.672):0.164):0.186):0.466):0.17):0.118):0.071):0.053,(((((63:0.0,7580:1.0):0.439,(((2714:0.0,7860:1.0):0.519,3702:0.481):0.369,(5224:0.721,(5777:0.857,((((5826:0.0,5828:1.0):0.0,5829:1.0):0.0,5830:1.0):0.207,5827:0.793):0.143):0.279):0.381):0.186):0.223,((((((71:0.654,2374:0.346):0.363,2393:0.637):0.119,((95:0.0,8397:1.0):0.262,2967:0.738):0.381):0.208,(3051:0.402,7992:0.598):0.542):0.053,(((704:0.169,(4667:0.0,4668:1.0):0.831):0.34,(2079:0.154,8706:0.846):0.41):0.02,(3914:0.148,7788:0.852):0.355):0.165):0.142,((((((81:0.391,8334:0.609):0.446,((((82:0.0,3623:1.0):0.0,3688:1.0):0.0,7443:1.0):0.0,8338:1.0):0.054):0.156,(2346:0.648,3116:0.352):0.344):0.116,((2802:0.917,((2803:0.0,4206:1.0):0.0,4207:1.0):0.083):0.102,4205:0.898):0.384):0.133,((759:0.328,((760:0.0,7900:1.0):0.634,6423:0.366):0.672):0.422,3121:0.578):0.149):0.138,(((711:0.668,4560:0.332):0.137,2804:0.363):0.144,((1973:0.227,2608:0.773):0.408,4923:0.592):0.356):0.268):0.041):0.137):0.159,((((((((113:0.0,8496:1.0):0.0,8570:1.0):0.181,(6686:0.269,7882:0.731):0.319):0.226,(((735:0.436,1055:0.564):0.486,((1777:0.872,((1778:0.0,8851:1.0):0.0,8888:1.0):0.128):0.141,8857:0.859):0.514):0.296,(7010:0.0,9172:1.0):0.704):0.024):0.141,8020:0.859):0.192,(((3871:0.0,8633:1.0):0.452,6507:0.548):0.3,((3884:0.261,(8843:0.0,8868:1.0):0.739):0.442,(((((4523:0.0,8387:1.0):0.0,8388:1.0):0.0,8389:1.0):0.26,4525:0.74):0.321,8355:0.679):0.558):0.2):0.25):0.04,(((4566:0.255,4567:0.745):0.635,((6535:0.115,8404:0.885):0.503,7079:0.497):0.365):0.115,(6654:0.524,8540:0.476):0.385):0.567):0.066,((((895:0.585,(4009:0.0,4653:1.0):0.415):0.293,(2734:0.434,4538:0.566):0.207):0.109,((((((((4855:0.0,8876:1.0):0.0,8939:1.0):0.0,9048:1.0):0.0,9079:1.0):0.0,(((5742:0.0,5743:1.0):1.0,6037:0.0):1.0,7308:0.0):1.0):0.066,9013:0.934):0.185,(8248:1.0,8249:0.0):0.815):0.114,7161:0.886):0.391):0.251,((((2629:0.483,4731:0.517):0.322,4730:0.178):0.253,4732:0.747):0.343,(2735:0.562,4537:0.438):0.032):0.28):0.34):0.08):0.062,((((((((((195:0.237,8567:0.763):0.554,(3038:0.0,7932:1.0):0.446):0.443,((1913:0.831,((8694:0.814,(8823:0.0,8861:1.0):0.186):0.314,9014:0.686):0.169):0.193,(((7400:0.679,(8773:0.0,9036:1.0):0.321):0.183,9027:0.817):0.206,8964:0.794):0.244):0.276):0.042,((((((((835:0.069,8867:0.931):0.034,8933:0.966):0.017,9031:0.983):0.009,(((((((((((((5626:1.0,5627:0.0):0.0,5659:1.0):0.0,5876:1.0):0.0,6091:1.0):0.0,8870:1.0):0.0,8969:1.0):0.0,8992:1.0):0.0,9008:1.0):0.0,9049:1.0):0.107,8923:0.893):0.06,8895:0.94):0.029,8998:0.971):0.015,9034:0.985):0.007):0.034,(986:0.671,7186:0.329):0.489):0.075,(3610:0.787,(6223:0.412,6224:0.588):0.213):0.16):0.052,((((((955:0.015,9267:0.985):0.034,((((4394:0.0,9266:1.0):0.035,9221:0.965):0.018,9223:0.982):0.009,9268:0.991):0.028):0.011,(((5199:0.251,9220:0.749):0.123,9222:0.877):0.062,9269:0.938):0.082):0.038,8987:0.9):0.13,6676:0.87):0.081,8465:0.919):0.027):0.082,((((1519:0.0,1683:1.0):0.533,2392:0.467):0.368,1548:0.632):0.265,8999:0.735):0.346):0.129):0.11,((((2850:0.0,2851:1.0):0.0,8348:1.0):0.0,8349:1.0):0.223,8533:0.777):0.462):0.059,((((3333:0.333,3334:0.667):0.631,3536:0.369):0.885,((8573:0.0,8900:1.0):0.128,8889:0.872):0.115):0.136,8976:0.864):0.479):0.062,(((((((((((762:0.0,5663:1.0):0.0,6446:1.0):0.0,6447:1.0):0.096,(7076:0.5,7080:0.5):0.404):0.109,7412:0.891):0.066,7996:0.934):0.196,2945:0.804):0.058,((7055:0.344,7993:0.656):0.17,7994:0.83):0.176):0.071,810:0.312):0.113,8996:0.699):0.164,((817:0.105,4393:0.895):0.262,((((3512:0.13,7077:0.87):0.101,7148:0.899):0.069,8016:0.931):0.087,7078:0.913):0.238):0.231):0.174):0.082,(((612:0.0,6906:1.0):0.293,677:0.707):0.083,((((5589:1.0,5590:0.0):0.0,7600:1.0):0.278,5631:0.722):0.334,5770:0.666):0.667):0.57):0.053,((((((((787:0.0,8094:1.0):0.095,8093:0.905):0.227,1284:0.773):0.23,((956:0.0,3546:1.0):0.086,3482:0.914):0.27):0.105,(1497:0.609,5200:0.391):0.207):0.24,4446:0.791):0.268,(((1127:0.228,8091:0.772):0.211,9239:0.789):0.358,3452:0.642):0.17):0.183,3432:0.582):0.123):0.141,(((((621:0.803,((1013:0.0,4925:1.0):0.0,4926:1.0):0.197):0.323,4928:0.677):0.393,4924:0.607):0.391,(((1083:0.0,8550:1.0):0.0,8551:1.0):0.156,4204:0.844):0.609):0.052,((((((1084:0.0,2170:1.0):0.0,6135:1.0):0.0,7172:1.0):0.118,((4419:0.0,4420:1.0):0.469,6026:0.531):0.382):0.303,2551:0.697):0.362,5727:0.638):0.401):0.185):0.069):0.047):0.011):0.012,(((((((((((((6:0.769,(((1979:0.333,3205:0.667):0.311,((3043:0.0,3111:1.0):0.0,3156:1.0):0.189):0.386,5191:0.614):0.231):0.326,1590:0.674):0.648,(((((1117:0.168,1523:0.832):0.184,2046:0.816):0.455,(((1569:0.0,2324:1.0):0.0,2588:1.0):0.039,2034:0.961):0.17):0.126,(((((((((1522:0.0,1615:1.0):0.0,1739:1.0):0.0,1919:1.0):0.0,2532:1.0):0.117,2503:0.883):0.115,(2193:0.0,6147:1.0):0.885):0.091,2095:0.909):0.038,((1619:0.0,7135:1.0):0.621,(1838:0.0,7369:1.0):0.379):0.587):0.149,(1593:0.497,2041:0.503):0.288):0.17):0.087,(((((((((((((((((1505:0.0,1506:1.0):0.0,1962:1.0):0.0,2009:1.0):0.0,2149:1.0):0.0,2351:1.0):0.0,2416:1.0):0.0,2461:1.0):0.0,2495:1.0):0.0,2548:1.0):0.0,2558:1.0):0.0,2596:1.0):0.0,2617:1.0):0.0,2702:1.0):0.104,2638:0.896):0.116,2047:0.884):0.107,2325:0.893):0.075,1865:0.925):0.3):0.187):0.168,(((((1144:0.617,((1509:0.0,2400:1.0):0.0,2661:1.0):0.383):0.488,(((1483:0.349,1853:0.651):0.132,((2076:1.0,2077:0.0):0.0,7754:1.0):0.368):0.404,1935:0.596):0.137):0.223,((1471:0.705,((((1541:0.0,1928:1.0):0.0,2518:1.0):0.0,(2721:0.0,(5054:0.5,5055:0.5):0.5):1.0):0.349,2123:0.651):0.295):0.388,2069:0.612):0.371):0.352,(((1815:0.164,2130:0.836):0.088,(2214:0.0,6952:1.0):0.912):0.126,2244:0.874):0.32):0.134,((((((((((1491:0.0,1858:1.0):0.0,1995:1.0):0.0,2252:1.0):0.0,2720:1.0):0.0,(1847:0.0,2637:1.0):1.0):0.059,((1690:0.343,1819:0.657):0.203,1691:0.797):0.191):0.119,1859:0.881):0.083,1612:0.917):0.172,((((1496:0.0,1752:1.0):0.0,2284:1.0):0.0,((6416:0.0,7922:1.0):0.25,6417:0.25):0.75):0.138,2590:0.862):0.328):0.125,(1527:0.597,1736:0.403):0.367):0.18):0.127):0.026,((((1526:0.13,1969:0.87):0.134,2467:0.866):0.47,((1543:0.4,2179:0.6):0.492,2433:0.508):0.53):0.348,(((1597:0.229,(4246:0.0,(((6388:1.0,6389:0.0):0.0,6512:1.0):0.0,6513:1.0):1.0):0.771):0.214,1767:0.786):0.364,(1740:0.428,(2106:0.473,(2172:0.252,7588:0.748):0.527):0.072):0.761):0.261):0.2):0.052,(((1629:1.0,1630:0.0):0.777,((1782:0.491,2251:0.509):0.442,2065:0.558):0.223):0.331,(1666:0.521,2113:0.479):0.669):0.485):0.07,(((((55:0.747,1892:0.253):0.608,((((8458:0.0,8459:1.0):0.0,8460:1.0):0.0,8461:1.0):0.0,8462:1.0):0.392):0.334,2271:0.666):0.436,(((367:0.0,8517:1.0):0.22,1070:0.78):0.759,((((890:0.0,3460:1.0):0.0,(6991:1.0,6992:0.0):1.0):0.266,2435:0.734):0.143,1647:0.857):0.241):0.189):0.281,((228:0.0,4050:1.0):0.262,(1717:0.0,6853:1.0):0.738):0.625):0.086):0.096,(((1069:0.743,(1645:0.0,7895:1.0):0.257):0.551,(1628:0.354,1649:0.646):0.449):0.391,((1551:0.663,(5026:0.404,5027:0.596):0.337):0.409,(((2559:0.0,8153:1.0):0.0,(4959:0.0,8351:1.0):1.0):0.05,(4960:0.416,7959:0.584):0.45):0.841):0.422):0.46):0.068,(((((12:0.298,(1048:0.133,((3481:0.152,7744:0.848):0.077,7745:0.923):0.117):0.577):0.311,(62:0.019,((757:0.583,1190:0.417):0.209,4144:0.791):0.231):0.251):0.324,(((1498:0.175,6748:0.825):0.353,1949:0.647):0.37,(1860:0.295,8437:0.705):0.38):0.215):0.069,(((((371:0.032,7978:0.968):0.088,((((373:0.0,3709:1.0):0.201,(374:0.56,(375:0.537,7982:0.463):0.44):0.299):0.104,(((3764:0.0,6963:1.0):0.0,7621:1.0):0.415,5494:0.585):0.208):0.124,7979:0.97):0.084):0.203,2311:0.961):0.114,((372:0.0,944:1.0):0.469,1002:0.531):0.323):0.377,((((524:0.259,6465:0.741):0.422,4722:0.578):0.267,6476:0.733):0.694,((1140:0.274,(((2790:0.213,6650:0.787):0.139,7969:0.861):0.175,6944:0.825):0.226):0.225,1738:0.525):0.306):0.243):0.28):0.25,(((((((((((((((((((((((((((((((((((((((632:1.0,1460:0.0):0.0,1513:1.0):0.0,1535:1.0):0.0,1542:1.0):0.0,1667:1.0):0.0,1826:1.0):0.0,1850:1.0):0.0,1851:1.0):0.0,2030:1.0):0.0,2059:1.0):0.0,2105:1.0):0.0,2118:1.0):0.0,2160:1.0):0.0,2288:1.0):0.0,2295:1.0):0.0,2309:1.0):0.0,2327:1.0):0.0,2333:1.0):0.0,2442:1.0):0.0,2471:1.0):0.0,2480:1.0):0.0,2549:1.0):0.0,2567:1.0):0.0,2595:1.0):0.0,2612:1.0):0.0,2689:1.0):0.0,(2423:0.0,6475:1.0):1.0):0.0,(2695:0.0,7605:1.0):1.0):0.0,(2231:0.0,(2232:0.0,(((4247:0.5,4248:0.5):0.0,4249:0.5):0.0,4250:0.5):0.5):1.0):1.0):0.001,2037:0.999):0.002,1856:0.998):0.117,1639:0.883):0.069,1925:0.931):0.121,(2208:0.434,(((6789:0.0,6791:1.0):0.5,6792:0.5):0.252,6790:0.248):0.566):0.879):0.109,4724:0.891):0.287,(((((((((1441:0.0,1614:1.0):0.0,1961:1.0):0.0,2624:1.0):0.0,2717:1.0):0.152,1556:0.848):0.151,2199:0.849):0.084,1442:0.916):0.308,1906:0.692):0.378,((1620:0.487,(1879:0.0,6690:1.0):0.513):0.353,2101:0.647):0.497):0.074):0.132,(((1492:0.0,1576:1.0):0.642,((2443:0.304,3361:0.696):0.275,3039:0.725):0.358):0.293,(2606:0.0,3392:1.0):0.707):0.436):0.131,((((1473:0.667,1773:0.333):0.518,1772:0.482):0.351,2110:0.649):0.431,(((1579:0.0,2203:1.0):0.122,1982:0.878):0.373,(5981:0.547,7131:0.453):0.627):0.538):0.039):0.067,(((((1130:0.467,1131:0.533):0.461,1161:0.539):0.467,((6101:0.0,6316:1.0):0.017,8346:0.983):0.533):0.482,((5737:0.846,(((((((8143:0.0,8144:1.0):0.0,8145:1.0):0.0,8146:1.0):0.0,8148:1.0):0.0,8149:1.0):0.0,8150:1.0):0.0,8151:1.0):0.154):0.172,7361:0.828):0.518):0.262,(((1711:0.339,6732:0.661):0.267,2781:0.733):0.218,(5338:0.202,(7691:1.0,7692:0.0):0.798):0.782):0.597):0.241):0.05):0.045):0.03,((((((((((((11:0.0,6291:1.0):0.0,9170:1.0):0.102,((1044:0.0,8488:1.0):0.442,(1045:0.616,7394:0.384):0.058):0.648):0.236,4969:0.764):0.39,((13:0.49,(15:0.533,6287:0.467):0.51):0.24,14:0.26):0.36):0.205,(((672:0.0,3495:1.0):0.245,((3699:0.197,(4425:0.0,4427:1.0):0.803):0.514,(4426:0.0,6876:1.0):0.486):0.755):0.178,(((3128:0.0,4474:1.0):0.0,8356:1.0):0.814,(((4865:0.152,4866:0.848):0.488,6286:0.512):0.052,4867:0.448):0.436):0.314):0.107):0.214,((843:0.0,4828:1.0):0.425,1999:0.575):0.608):0.129,((381:0.439,((((382:0.0,7984:1.0):0.0,7997:1.0):0.0,7998:1.0):0.273,(((1163:0.0,7914:1.0):0.525,2736:0.475):0.287,4079:0.713):0.227):0.186):0.331,((652:0.811,653:0.189):0.293,1975:0.707):0.481):0.327):0.268,(((((721:0.306,((2228:0.166,((4845:0.0,6854:1.0):0.379,7222:0.621):0.334):0.202,7315:0.548):0.194):0.19,6942:0.81):0.163,7067:0.837):0.302,(((((722:0.0,1159:1.0):0.0,1160:1.0):0.256,(3782:0.0,8723:1.0):0.744):0.196,(847:0.155,6290:0.845):0.304):0.345,((5896:0.776,5897:0.224):0.676,6123:0.324):0.155):0.032):0.17,(((3180:0.0,3478:1.0):0.426,3346:0.574):0.5,(3307:0.387,6069:0.613):0.5):0.616):0.442):0.107,(((((740:0.883,(741:0.117,5799:0.883):0.117):0.064,5150:0.936):0.426,5798:0.574):0.305,(5522:0.294,5595:0.706):0.695):0.303,(5800:0.0,8509:1.0):0.697):0.448):0.064,(((((545:0.235,(546:0.0,2154:1.0):0.765):0.218,((8266:1.0,8267:0.0):0.381,8268:0.619):0.782):0.418,((547:0.247,1822:0.753):0.206,(2115:0.624,2116:0.376):0.794):0.582):0.374,((2283:0.0,8393:1.0):0.36,(6971:0.0,8110:1.0):0.64):0.563):0.221,((((((((828:0.0,3542:1.0):0.0,6276:1.0):0.0,8357:1.0):0.118,(2265:0.706,2954:0.294):0.382):0.176,829:0.824):0.127,((2965:0.405,3188:0.595):0.363,3231:0.637):0.31):0.133,(3078:0.593,(3241:0.273,3493:0.727):0.407):0.398):0.371,((830:0.572,(1900:0.0,(2247:0.0,(5148:0.0,5149:1.0):1.0):1.0):0.428):0.604,(((1917:0.867,(((1918:0.0,2527:1.0):0.0,2591:1.0):0.0,9238:1.0):0.133):0.238,2099:0.762):0.214,1981:0.786):0.396):0.231):0.202):0.148):0.05,(((1769:0.254,3058:0.746):0.817,(((5473:0.356,5474:0.644):0.3,((6161:0.0,((6189:1.0,6190:0.0):1.0,((6861:0.0,6862:1.0):0.0,6863:1.0):0.0):1.0):0.509,6162:0.491):0.45):0.21,5475:0.165):0.183):0.833,((((2173:0.0,3385:1.0):0.159,(3341:0.0,7953:1.0):0.841):0.311,3591:0.689):0.789,((((2322:0.137,3272:0.863):0.465,(3125:0.0,(3498:0.0,3535:1.0):1.0):0.535):0.237,(((2337:0.0,3455:1.0):0.211,3757:0.789):0.168,3568:0.832):0.638):0.259,((3031:0.627,((((3118:1.0,3119:0.0):0.0,3485:1.0):0.302,3145:0.698):0.405,3269:0.595):0.373):0.172,((((((3099:0.0,8811:1.0):0.0,8824:1.0):0.0,9039:1.0):0.123,8808:0.877):0.15,5041:0.85):0.146,8864:0.854):0.328):0.311):0.145):0.213):0.19):0.006):0.029,(((((((((112:0.0,5673:1.0):0.0,5682:1.0):0.0,5752:1.0):0.098,((1030:0.0,4502:1.0):0.429,1031:0.571):0.402):0.235,((478:0.026,(479:0.553,7482:0.447):0.474):0.306,2062:0.694):0.265):0.148,(((1713:0.0,3525:1.0):0.148,(3317:0.352,6508:0.648):0.352):0.397,5594:0.853):0.634):0.192,((((698:0.533,2456:0.467):0.636,(1870:0.482,2455:0.518):0.364):0.363,((((699:0.0,2506:1.0):0.0,2569:1.0):0.233,2728:0.767):0.171,2381:0.829):0.137):0.398,((2306:0.0,5283:1.0):0.575,(5250:0.17,(7546:0.82,8010:0.18):0.33):0.425):0.462):0.179):0.178,((((((((538:0.0,5640:1.0):0.0,(2349:1.0,2350:0.0):1.0):0.158,5864:0.842):0.287,2195:0.713):0.141,(2038:0.62,(2074:0.659,2206:0.341):0.38):0.234):0.436,((1940:0.306,(2496:0.0,2556:1.0):0.694):0.447,(2080:0.651,2509:0.349):0.553):0.502):0.225,((((2177:0.0,2178:1.0):0.489,(((5550:0.0,5552:1.0):0.0,5553:1.0):0.238,5551:0.762):0.511):0.385,((2395:0.519,(2396:0.0,2574:1.0):0.481):0.71,5533:0.29):0.615):0.46,((((2742:0.088,5637:0.912):0.213,(2906:0.151,5636:0.849):0.287):0.164,3408:0.586):0.414,(4976:0.642,(5147:0.768,7335:0.232):0.858):0.086):0.469):0.054):0.068,(((((1601:0.0,7374:1.0):0.0,8288:1.0):0.195,1977:0.805):0.397,2367:0.603):0.512,((((2764:0.521,4147:0.479):0.14,2765:0.36):0.383,4148:0.117):0.215,7005:0.785):0.488):0.392):0.133):0.068,((((((185:0.316,2161:0.684):0.207,((((5468:0.0,5470:1.0):0.0,6342:1.0):0.371,5469:0.629):0.421,(5706:0.0,7349:1.0):0.079):0.793):0.67,(((((((1462:0.0,1463:1.0):0.0,1966:1.0):0.0,2715:1.0):0.264,6750:0.736):0.239,1899:0.261):0.143,(1500:0.0,1813:1.0):0.607):0.239,((5692:0.0,5693:1.0):0.255,(5694:0.51,5778:0.49):0.745):0.386):0.33):0.248,(((((277:0.0,9181:1.0):0.259,4555:0.741):0.332,(1141:0.367,4339:0.633):0.668):0.377,((1468:0.682,1469:0.318):0.445,3534:0.555):0.498):0.276,(((((((518:0.0,3648:1.0):0.0,5771:1.0):0.0,6041:1.0):0.262,3267:0.738):0.152,5011:0.848):0.42,((1205:1.0,1206:0.0):0.568,2974:0.432):0.58):0.197,((820:0.635,(5629:0.0,5714:1.0):0.365):0.616,(1499:0.266,2475:0.734):0.384):0.428):0.169):0.088):0.075,((((437:0.73,(((((526:0.0,527:1.0):0.0,1642:1.0):0.0,(1046:1.0,1047:0.0):1.0):0.104,6927:0.896):0.28,(1880:0.354,2117:0.646):0.72):0.27):0.383,((2171:0.548,(6627:0.274,6657:0.726):0.452):0.064,(2273:0.33,2274:0.67):0.436):0.836):0.256,(((1458:0.205,2167:0.795):0.654,(((2092:0.0,2093:1.0):0.724,(2782:0.0,2786:1.0):0.276):0.432,2412:0.568):0.096):0.249,((2299:0.0,5691:1.0):0.44,(3448:0.266,(7518:0.14,7519:0.86):0.234):0.56):0.361):0.358):0.221,(((1756:0.337,1942:0.663):0.206,2026:0.794):0.489,((1805:0.0,8863:1.0):0.211,3577:0.789):0.511):0.442):0.049):0.017,(((((188:0.531,1718:0.469):0.413,(((((2197:0.528,2607:0.472):0.416,4019:0.584):0.32,(((((3302:0.865,9084:0.135):0.122,5954:0.878):0.089,(5049:0.412,5050:0.588):0.411):0.081,6482:0.919):0.127,9085:0.873):0.18):0.214,((((3467:0.535,3643:0.465):0.305,5345:0.695):0.036,(((((((3903:0.0,7868:1.0):0.0,9093:1.0):0.0,9094:1.0):0.0,9095:1.0):0.0,9096:1.0):0.0,9097:1.0):0.194,4076:0.806):0.214):0.031,((8871:0.791,(((9086:0.0,9090:1.0):0.0,9091:1.0):0.0,9092:1.0):0.209):0.112,9070:0.888):0.219):0.138):0.035,((8468:0.812,(9087:0.219,9088:0.781):0.188):0.17,9089:0.83):0.527):0.225):0.278,((((((((1434:0.0,2207:1.0):0.0,2209:1.0):0.0,2688:1.0):0.12,2507:0.88):0.138,(2028:0.0,2297:1.0):0.862):0.171,2314:0.829):0.239,(1658:0.626,1659:0.374):0.761):0.411,(((1565:0.152,2122:0.848):0.376,2194:0.624):0.241,1687:0.759):0.464):0.138):0.131,((((((((((((((((452:0.0,8218:1.0):0.785,(1191:0.826,1192:0.174):0.215):0.157,2165:0.343):0.792,(453:0.498,((((1889:0.0,2020:1.0):0.0,2075:1.0):0.0,2457:1.0):0.149,2068:0.851):0.502):0.302):0.277,(((((((((((((((((1451:0.0,2058:1.0):0.0,2100:1.0):0.0,2257:1.0):0.0,2464:1.0):0.0,2483:1.0):0.0,2519:1.0):0.0,2636:1.0):0.0,2662:1.0):0.0,2671:1.0):0.0,2680:1.0):0.0,(1637:0.0,6005:1.0):1.0):0.0,(2573:0.0,2618:1.0):1.0):0.073,2669:0.927):0.06,1910:0.94):0.103,((1452:0.923,((((1472:0.0,2630:1.0):0.101,2546:0.899):0.084,2563:0.916):0.044,1811:0.956):0.077):0.113,2001:0.887):0.007):0.073,(1467:0.203,2119:0.797):0.404):0.074,(((1570:0.681,(1617:0.0,2352:1.0):0.319):0.157,(1997:0.0,2133:1.0):0.843):0.327,1616:0.673):0.184):0.041):0.058,((1623:0.368,(1644:0.0,2132:1.0):0.632):0.24,2024:0.76):0.328):0.127,(((1453:0.404,1804:0.596):0.332,1882:0.668):0.121,(((1484:0.509,1938:0.491):0.472,2087:0.528):0.601,(1654:0.491,(1655:0.0,2599:1.0):0.509):0.149):0.223):0.132):0.085,(((1435:0.257,2645:0.743):0.39,(1742:0.46,1806:0.54):0.36):0.147,(((1436:0.371,2031:0.629):0.404,((1446:0.0,8307:1.0):0.0,8308:1.0):0.596):0.052,(1553:0.411,1554:0.589):0.448):0.291):0.07):0.025,((((((((1656:0.0,2128:1.0):0.0,2229:1.0):0.0,2239:1.0):0.0,2391:1.0):0.203,1722:0.797):0.102,2166:0.898):0.305,2051:0.695):0.309,(((((1679:0.0,1926:1.0):0.0,2192:1.0):0.0,2294:1.0):0.502,1743:0.498):0.373,(((1863:0.0,1864:1.0):0.0,2650:1.0):0.581,2011:0.419):0.627):0.191):0.128):0.059,(((((((1447:0.0,2246:1.0):0.107,2107:0.893):0.115,1922:0.885):0.131,1664:0.869):0.122,2236:0.878):0.078,((((((((((((((((((((1520:0.0,1581:1.0):0.0,1588:1.0):0.0,1699:1.0):0.0,1808:1.0):0.0,1998:1.0):0.0,2048:1.0):0.0,2078:1.0):0.0,2102:1.0):0.0,2158:1.0):0.0,2219:1.0):0.0,2310:1.0):0.0,2415:1.0):0.0,2439:1.0):0.0,2460:1.0):0.0,2535:1.0):0.101,2258:0.899):0.112,2056:0.888):0.058,2126:0.942):0.097,((1531:0.559,1641:0.441):0.391,1562:0.609):0.153):0.11,2185:0.89):0.133):0.153,((1695:0.396,1696:0.604):0.265,1758:0.735):0.257):0.209):0.072,((((1023:0.468,(1896:0.301,2237:0.699):0.532):0.283,(((1454:0.792,((1455:0.0,2300:1.0):0.0,(1678:0.0,2143:1.0):1.0):0.208):0.14,2421:0.86):0.118,2534:0.882):0.217):0.206,(((1775:0.0,2690:1.0):0.826,1861:0.174):0.493,1791:0.507):0.607):0.252,(((((((((((1445:0.0,2413:1.0):0.0,2484:1.0):0.0,2568:1.0):0.0,2723:1.0):0.003,2562:0.997):0.225,(1575:0.871,1759:0.129):0.275):0.065,1757:0.685):0.244,((1479:0.193,2420:0.807):0.134,2361:0.866):0.256):0.14,1673:0.672):0.152,((((1545:0.893,(1703:0.0,2724:1.0):0.107):0.293,2089:0.707):0.153,1557:0.847):0.157,1974:0.843):0.333):0.03,((1561:0.781,((1702:0.256,2686:0.744):0.563,(1963:0.642,1964:0.358):0.437):0.219):0.284,(((1662:0.0,2313:1.0):0.282,1817:0.718):0.372,1801:0.628):0.185):0.221):0.19):0.095):0.032,(((((1501:0.0,8757:1.0):0.353,1818:0.647):0.575,(1502:0.321,1971:0.679):0.425):0.28,((((((1532:0.0,1634:1.0):0.0,2264:1.0):0.207,1875:0.793):0.137,1841:0.863):0.305,(1566:0.569,(1625:0.307,1987:0.693):0.431):0.195):0.052,(((1688:0.235,1689:0.765):0.247,(2603:0.628,7686:0.372):0.753):0.306,(1783:0.739,(2067:0.46,2432:0.54):0.261):0.632):0.229):0.048):0.103,((1737:0.43,1921:0.57):0.385,2227:0.615):0.655):0.137):0.019,(((((((570:0.0,4461:1.0):0.265,(3003:0.0,3746:1.0):0.735):0.144,8326:0.856):0.194,615:0.306):0.117,(936:0.0,2205:1.0):0.383):0.629,((((1539:0.295,1540:0.705):0.818,(1640:0.346,1803:0.654):0.182):0.037,1559:0.713):0.123,1709:0.252):0.308):0.167,((((1555:0.0,1663:1.0):0.0,2164:1.0):0.143,2086:0.857):0.285,1676:0.715):0.466):0.241):0.041,((((994:0.521,2189:0.479):0.549,(1652:0.412,2248:0.588):0.451):0.257,((2120:0.526,2187:0.474):0.413,(((2776:0.69,2777:0.31):0.24,4666:0.76):0.196,2778:0.804):0.587):0.571):0.12,((1450:0.774,(((2876:0.0,4116:1.0):0.0,7087:1.0):0.0,((6130:0.25,(6131:0.5,6133:0.5):0.75):0.125,6132:0.375):0.625):0.226):0.418,(1563:0.621,(1665:0.109,(1883:0.0,6172:1.0):0.891):0.379):0.332):0.435):0.068):0.03,(((988:0.585,1890:0.415):0.565,((1440:0.667,2465:0.333):0.353,1794:0.647):0.435):0.637,(((1470:0.383,1552:0.617):0.188,((1686:0.728,2270:0.272):0.395,2163:0.605):0.562):0.229,(((((1591:0.0,2156:1.0):0.256,1592:0.744):0.594,1812:0.406):0.506,((1734:0.213,1735:0.787):0.143,2134:0.857):0.494):0.439,(1755:0.0,2427:1.0):0.436):0.201):0.198):0.101):0.062,((((1571:0.657,1751:0.343):0.18,1779:0.82):0.285,((1947:0.0,8475:1.0):0.632,(((1948:0.0,2575:1.0):0.0,4802:1.0):0.0,(4800:0.0,4801:1.0):1.0):0.368):0.715):0.572,(((1589:0.478,(1894:0.179,2360:0.821):0.522):0.431,(1943:0.203,5810:0.797):0.569):0.372,((5792:0.259,5899:0.741):0.384,5898:0.616):0.472):0.288):0.195):0.068):0.034,(((((197:0.0,2523:1.0):0.096,5601:0.904):0.534,(3650:0.329,7886:0.671):0.466):0.288,(2015:0.104,2125:0.896):0.212):0.508,(((((1026:0.0,1027:1.0):0.551,(1657:0.664,1885:0.336):0.449):0.328,(1607:0.672,(1937:0.848,2784:0.152):0.328):0.547):0.26,((1809:0.299,2362:0.701):0.042,(3921:0.708,4423:0.292):0.208):0.427):0.113,(1606:0.502,(1730:1.0,1731:0.0):0.498):0.512):0.25):0.191):0.037):0.027):0.033):0.009,(((((((((((((((16:1.0,17:0.0):0.214,1196:0.786):0.358,((1143:0.159,2703:0.841):0.467,(1849:0.0,2292:1.0):0.533):0.642):0.087,4200:0.663):0.312,((((((399:0.0,405:1.0):0.247,(1088:0.0,1089:1.0):0.753):0.199,(634:0.321,803:0.679):0.051):0.103,(998:0.0,1020:1.0):0.272):0.023,6980:0.727):0.205,((528:0.0,529:1.0):0.324,((5715:0.0,5716:1.0):0.0,7599:1.0):0.676):0.358):0.375):0.243,(((((((((((334:0.0,679:1.0):0.0,811:1.0):0.0,1035:1.0):0.0,1057:1.0):0.0,1060:1.0):0.0,1061:1.0):0.0,1062:1.0):0.0,1063:1.0):0.0,1064:1.0):0.335,1058:0.665):0.294,725:0.706):0.374):0.241,((((((((34:0.0,35:1.0):0.0,364:1.0):0.0,972:1.0):0.0,1049:1.0):0.0,1050:1.0):0.331,(((801:0.0,1169:1.0):0.191,1165:0.809):0.32,(1007:0.0,1142:1.0):0.68):0.169):0.212,1051:0.788):0.55,(((119:0.446,(737:0.402,(((838:0.0,839:1.0):1.0,((2652:0.0,2712:1.0):0.0,4665:1.0):0.0):0.65,1053:0.35):0.598):0.054):0.212,((121:0.0,1054:1.0):0.426,((279:0.0,928:1.0):0.0,1056:1.0):0.574):0.163):0.205,(1052:0.31,6122:0.69):0.358):0.157):0.129):0.249,((((((473:0.498,3456:0.502):0.319,(4512:0.331,4513:0.669):0.431):0.39,(((2184:0.702,(2921:0.0,8875:1.0):0.298):0.176,8885:0.824):0.153,(3690:0.642,4500:0.358):0.347):0.11):0.183,(((((((2920:0.0,8806:1.0):0.0,8990:1.0):0.0,9010:1.0):0.096,8661:0.904):0.192,8981:0.808):0.088,((5947:0.0,9057:1.0):0.274,8877:0.726):0.162):0.152,((3249:0.866,((((3328:0.0,8830:1.0):0.0,9076:1.0):0.084,8766:0.916):0.098,9042:0.902):0.134):0.226,4075:0.774):0.067):0.207):0.077,((((2922:0.0,3626:1.0):0.395,2931:0.605):0.078,2923:0.422):0.38,(((((((3196:0.0,8897:1.0):0.0,8937:1.0):0.0,8950:1.0):0.0,8978:1.0):0.166,3663:0.834):0.169,(8269:0.0,8270:1.0):0.831):0.191,(((((3263:0.0,3264:1.0):0.0,3613:1.0):0.363,3280:0.637):0.386,3305:0.614):0.35,3605:0.4):0.684):0.089):0.141):0.098,((((1546:0.0,2431:1.0):1.0,1547:0.0):0.702,1991:0.298):0.563,1912:0.437):0.62):0.221):0.102,(((((((((((((146:0.0,8210:1.0):0.353,((6759:0.134,6760:0.866):0.472,7056:0.528):0.147):0.263,(6785:0.443,7367:0.557):0.299):0.47,((((1764:0.0,9154:1.0):0.077,9122:0.923):0.187,9107:0.813):0.116,9115:0.884):0.061):0.07,9113:0.93):0.178,(3645:0.458,5721:0.542):0.478):0.071,3890:0.85):0.07,(((((((((((187:0.0,2045:1.0):0.0,9134:1.0):0.0,9146:1.0):0.0,9162:1.0):0.0,9163:1.0):0.0,9164:1.0):0.151,3365:0.849):0.122,9111:0.878):0.077,(((9101:0.0,9139:1.0):0.0,9156:1.0):0.226,9104:0.774):0.173):0.236,((((3930:0.071,9106:0.929):0.035,9143:0.965):0.032,9098:0.968):0.005,((((((((((((((((((8760:0.0,9099:1.0):0.0,9110:1.0):0.0,9112:1.0):0.0,9125:1.0):0.0,9130:1.0):0.0,9131:1.0):0.0,9135:1.0):0.0,9137:1.0):0.0,9138:1.0):0.0,9141:1.0):0.0,9144:1.0):0.0,9145:1.0):0.0,9147:1.0):0.0,9148:1.0):0.0,9152:1.0):0.089,9108:0.911):0.047,9132:0.953):0.024,9155:0.976):0.026):0.1):0.099,(((1685:0.0,2303:1.0):0.386,2320:0.614):0.354,6071:0.646):0.678):0.09):0.059,(((1842:0.815,((2124:0.0,2267:1.0):0.0,2983:1.0):0.185):0.182,3494:0.818):0.145,3417:0.855):0.398):0.114,((((((167:0.177,5528:0.823):0.138,8690:0.862):0.221,(3560:0.606,(5052:0.0,5053:1.0):0.394):0.279):0.183,(((168:0.0,(8476:0.0,8477:1.0):1.0):0.302,6958:0.698):0.422,(4704:0.369,4705:0.631):0.578):0.317):0.212,(((818:0.735,6500:0.265):0.352,954:0.648):0.162,(845:0.235,4900:0.765):0.338):0.351):0.069,((814:0.472,(1993:0.174,(2622:0.0,4541:1.0):0.826):0.528):0.323,4540:0.677):0.731):0.037):0.057,(((((410:0.0,1978:1.0):0.707,(696:0.229,6268:0.771):0.293):0.357,((697:0.0,3475:1.0):0.488,6684:0.512):0.143):0.2,1558:0.3):0.155,2055:0.845):0.239):0.039,((((1754:0.161,(4710:1.0,4711:0.0):0.839):0.196,2012:0.804):0.201,6111:0.799):0.431,(2353:0.174,5583:0.826):0.569):0.473):0.043,((((((673:0.511,6288:0.489):0.135,674:0.365):0.37,8367:0.63):0.567,((2910:0.238,9118:0.762):0.204,9102:0.796):0.183):0.427,((1073:0.093,1074:0.907):0.546,(((2631:0.853,((((3826:0.0,3881:1.0):0.0,7063:1.0):0.0,8011:1.0):0.118,4257:0.882):0.147):0.183,3879:0.817):0.134,((5391:0.445,8050:0.555):0.528,7529:0.472):0.366):0.204):0.206):0.016,((((((939:0.191,8922:0.809):0.133,9120:0.867):0.212,(((((((1950:0.0,2692:1.0):1.0,1951:0.0):1.0,8141:0.0):0.325,(5240:0.202,7818:0.798):0.175):0.155,(8138:0.0,8142:1.0):0.345):0.086,8139:0.664):0.186,(7647:0.39,8140:0.61):0.314):0.28):0.163,((3724:0.757,((((8994:0.0,9121:1.0):0.0,9127:1.0):0.058,9150:0.942):0.127,((9103:0.0,9160:1.0):0.061,9149:0.939):0.123):0.118):0.25,9114:0.875):0.233):0.059,(((((1409:0.406,(4195:0.471,4197:0.529):0.094):0.08,4194:0.42):0.074,2798:0.426):0.017,(3479:0.495,4193:0.505):0.046):0.187,(((4199:0.0,9158:1.0):0.101,9133:0.899):0.254,7241:0.746):0.313):0.208):0.12,(((((((((((((1456:0.0,5353:1.0):0.0,5354:1.0):0.0,5355:1.0):0.0,5356:1.0):0.0,5357:1.0):0.0,5358:1.0):0.0,5359:1.0):0.0,5360:1.0):0.0,5361:1.0):0.0,5362:1.0):0.034,((2008:0.0,3082:1.0):0.558,((7851:0.0,7852:1.0):0.5,(7853:1.0,7854:0.0):0.5):0.192):0.341):0.316,(9153:0.425,9218:0.575):0.684):0.337,((2428:0.0,2429:1.0):0.859,((((((((((2504:0.0,2987:1.0):0.0,9109:1.0):0.0,9119:1.0):0.0,9124:1.0):0.0,9129:1.0):0.0,9161:1.0):0.066,2999:0.934):0.034,9128:0.966):0.022,(((2505:0.915,(2988:0.0,3442:1.0):0.085):0.043,9116:0.957):0.021,9157:0.979):0.009):0.044,(((8305:0.0,8306:1.0):0.232,8828:0.768):0.118,9066:0.882):0.253):0.11):0.167):0.212):0.174):0.104):0.093):0.032,((((((292:0.889,3358:0.111):0.206,(293:0.0,3239:1.0):0.294):0.377,((802:0.348,3179:0.652):0.569,(2975:0.595,(3195:0.301,8152:0.699):0.405):0.431):0.248):0.229,((4568:0.853,5231:0.147):0.414,5342:0.586):0.474):0.216,(((898:0.0,5424:1.0):0.376,3965:0.624):0.284,(((1485:0.541,3252:0.459):0.799,((2378:0.847,3582:0.153):0.286,3625:0.714):0.201):0.272,(1866:0.34,3066:0.66):0.478):0.091):0.153):0.051,(((1823:0.278,1871:0.722):0.408,(2579:0.533,((3563:0.137,3674:0.863):0.262,3588:0.738):0.467):0.592):0.359,((5698:0.759,(((((8788:0.0,8901:1.0):0.0,8915:1.0):0.0,8918:1.0):0.0,9026:1.0):0.172,8944:0.828):0.241):0.277,5995:0.723):0.359):0.311):0.107):0.022,(((((((159:1.0,160:0.0):0.0,7124:1.0):0.0,7447:1.0):0.0,8181:1.0):0.187,6159:0.813):0.585,(((685:0.665,686:0.335):0.532,((4957:0.473,4958:0.527):0.721,5276:0.279):0.468):0.431,((3907:0.0,8182:1.0):0.536,(4936:0.113,5817:0.887):0.464):0.537):0.149):0.096,((((705:0.683,(2855:0.106,(6407:0.0,8062:1.0):0.894):0.317):0.204,6325:0.296):0.033,((1594:0.309,7439:0.691):0.236,(1595:0.506,2854:0.494):0.264):0.217):0.328,(3309:0.58,(3678:0.189,(4857:0.783,6896:0.217):0.311):0.42):0.406):0.097):0.314):0.04,(((((((29:0.07,3387:0.93):0.134,((1807:0.0,3748:1.0):0.062,3409:0.938):0.116):0.041,3255:0.834):0.203,((1901:0.0,5534:1.0):0.123,7927:0.877):0.422):0.3,(3077:0.681,(3418:0.71,(((((8791:0.0,8838:1.0):0.0,8912:1.0):0.0,8983:1.0):0.222,8930:0.778):0.245,9032:0.755):0.29):0.319):0.575):0.201,((1710:0.245,1763:0.755):0.484,((((3541:0.881,((((((8785:0.0,8869:1.0):0.0,8914:1.0):0.0,8967:1.0):0.0,8973:1.0):0.0,8980:1.0):0.0,8991:1.0):0.119):0.099,8935:0.901):0.143,(7255:1.0,7256:0.0):0.857):0.194,5801:0.806):0.516):0.44):0.199,((((((((3037:0.0,3185:1.0):0.0,3555:1.0):0.0,3615:1.0):0.0,3620:1.0):0.454,3449:0.546):0.31,3321:0.69):0.174,3345:0.826):0.392,((((3342:0.0,3343:1.0):0.408,4138:0.592):0.621,(3354:0.214,7980:0.786):0.379):0.423,3355:0.577):0.608):0.313):0.156):0.056,(((((((((((120:0.346,(122:0.767,937:0.233):0.154):0.177,3487:0.573):0.138,(1697:0.0,1698:1.0):0.487):0.151,(192:0.388,(736:0.365,(738:0.496,6203:0.504):0.135):0.112):0.162):0.261,(((232:0.135,(2750:0.488,2751:0.512):0.365):0.121,3776:0.629):0.157,(3694:0.638,((5605:0.594,7012:0.406):0.325,6410:0.675):0.362):0.155):0.065):0.189,((5873:0.229,5874:0.771):0.316,6002:0.684):0.726):0.211,((((((532:0.0,2731:1.0):0.489,2510:0.511):0.478,533:0.022):0.417,(745:0.527,((1538:1.0,3214:0.0):0.661,3215:0.339):0.473):0.583):0.214,(((((614:0.0,9235:1.0):0.0,9236:1.0):0.0,9237:1.0):0.178,9100:0.822):0.284,((3472:0.276,8383:0.724):0.221,6910:0.779):0.466):0.207):0.108,(((((((((573:0.0,2788:1.0):0.0,6765:1.0):0.0,8232:1.0):0.0,8672:1.0):0.0,8673:1.0):0.0,8692:1.0):0.138,(2787:0.753,2789:0.247):0.362):0.101,7246:0.899):0.271,(4013:0.0,8675:1.0):0.604):0.271):0.218):0.105,(((((712:0.731,713:0.269):0.251,8053:0.749):0.635,(2291:0.717,((4346:0.263,8052:0.737):0.146,7438:0.854):0.283):0.24):0.358,((((2293:0.911,((((((((((((3981:0.0,8825:1.0):0.0,8833:1.0):0.0,8886:1.0):0.0,8887:1.0):0.0,8906:1.0):0.0,8907:1.0):0.0,8931:1.0):0.0,8948:1.0):0.0,8993:1.0):0.0,8997:1.0):0.0,9004:1.0):0.144,7425:0.856):0.089):0.145,8902:0.855):0.099,((3553:0.0,7122:1.0):0.134,5222:0.866):0.401):0.212,((((((((2490:0.0,2491:1.0):0.0,4233:1.0):0.0,9169:1.0):0.677,4228:0.323):0.037,(4230:0.295,(4231:0.443,4232:0.557):0.205):0.088):0.339,3490:0.474):0.28,(4227:0.592,4229:0.408):0.22):0.646,(3165:0.424,4964:0.576):0.323):0.147):0.087):0.117,(((856:0.751,2762:0.249):0.275,857:0.225):0.293,2478:0.957):0.621):0.268):0.036,((((1976:0.0,4987:1.0):0.556,((3147:0.0,3148:1.0):0.146,3761:0.854):0.444):0.477,(2964:0.0,9248:1.0):0.523):0.483,(2406:0.678,3292:0.322):0.392):0.325):0.09,((((217:0.268,3025:0.732):0.622,((3953:0.622,5236:0.378):0.369,4037:0.631):0.378):0.211,((816:0.602,2780:0.398):0.237,8606:0.763):0.726):0.291,((((3376:0.324,(8884:0.0,9021:1.0):0.676):0.482,7731:0.518):0.303,(((((((3644:0.0,8799:1.0):0.0,8837:1.0):0.0,8961:1.0):0.123,8880:0.877):0.14,8908:0.86):0.084,9059:0.916):0.36,(7088:0.491,7089:0.509):0.64):0.197):0.21,(((3515:0.886,((((((3664:0.0,8936:1.0):0.0,8984:1.0):0.0,8985:1.0):0.0,8988:1.0):0.0,9009:1.0):0.158,5177:0.842):0.114):0.15,3693:0.85):0.128,8949:0.872):0.446):0.308):0.17):0.028,(((((409:0.21,7810:0.79):0.391,2933:0.609):0.093,2926:0.407):0.164,(1934:0.753,(((4215:0.016,((((((4218:0.989,4225:0.011):0.006,4220:0.994):0.003,4221:0.997):0.001,4222:0.999):0.001,4223:0.999):0.0,4224:1.0):0.016):0.22,4216:0.765):0.139,4217:0.861):0.251):0.491):0.24,(((753:0.293,2561:0.707):0.638,(1952:0.592,(2658:0.527,(8800:0.313,9017:0.687):0.473):0.408):0.362):0.2,((((1516:0.9,((3323:0.792,3676:0.208):0.354,(6315:0.9,(((7422:0.0,8045:1.0):0.0,8046:1.0):0.13,8047:0.87):0.1):0.146):0.1):0.126,8048:0.874):0.099,((2905:0.051,8043:0.949):0.301,5861:0.699):0.135):0.293,(((((2321:0.808,((2904:0.0,7247:1.0):0.0,7809:1.0):0.192):0.122,2902:0.878):0.06,2903:0.94):0.399,((2901:0.118,2907:0.882):0.187,2909:0.813):0.101):0.097,(2462:0.517,((2791:0.0,2792:1.0):0.0,2793:1.0):0.483):0.403):0.276):0.063):0.223):0.307):0.048):0.021,((((((((((((((194:0.0,5632:1.0):0.0,5769:1.0):0.143,6060:0.857):0.084,5993:0.916):0.153,6034:0.847):0.19,3331:0.81):0.314,(((1112:0.0,5554:1.0):0.0,5660:1.0):0.154,3271:0.846):0.186):0.234,(((5950:0.0,((6735:0.5,6736:0.5):0.25,(7839:0.5,7840:0.5):0.25):0.25):0.275,5951:0.725):0.396,5996:0.604):0.704):0.114,((355:0.742,(((1430:0.729,(((((5557:1.0,5558:0.0):0.0,5650:1.0):0.0,5651:1.0):0.0,6102:1.0):0.0,(5649:0.0,(7348:0.0,8087:1.0):1.0):1.0):0.271):0.294,3522:0.706):0.253,6013:0.747):0.258):0.267,((3791:0.444,3792:0.556):0.265,5625:0.735):0.483):0.259):0.065,((((((2103:0.0,2104:1.0):0.0,2708:1.0):0.257,9224:0.743):0.393,(4329:0.656,4330:0.344):0.607):0.248,((3019:0.0,5917:1.0):0.254,6042:0.746):0.252):0.316,(((((3604:0.0,8720:1.0):0.0,9175:1.0):0.291,8721:0.709):0.571,(5008:0.475,5851:0.525):0.429):0.2,((((((((4927:0.0,5816:1.0):0.0,5919:1.0):0.0,5990:1.0):0.131,6049:0.869):0.086,6104:0.914):0.082,6098:0.918):0.223,(((5701:0.0,6025:1.0):0.0,6742:1.0):0.616,5702:0.384):0.715):0.007,5815:0.774):0.237):0.122):0.093):0.051,((((400:0.781,((5882:0.0,5884:1.0):0.0,5885:1.0):0.219):0.436,(3897:0.347,6007:0.653):0.564):0.222,((2679:0.577,(4641:0.801,(5931:0.0,6082:1.0):0.199):0.423):0.28,4081:0.72):0.403):0.277,((((1923:1.0,1924:0.0):0.0,2482:1.0):0.436,3416:0.564):0.445,(((4635:0.516,((5592:0.0,7356:1.0):0.0,8343:1.0):0.484):0.9,((((((((5521:0.0,5622:1.0):0.0,5726:1.0):0.0,5972:1.0):0.0,6065:1.0):0.0,6103:1.0):0.0,6106:1.0):0.126,5888:0.874):0.18,5978:0.82):0.1):0.077,6000:0.923):0.055):0.289):0.079):0.051,((((563:0.0,564:1.0):0.213,8006:0.787):0.352,((((5575:0.0,5623:1.0):0.186,5773:0.814):0.096,5794:0.904):0.274,5987:0.726):0.148):0.166,((2323:0.383,(((5757:0.0,5758:1.0):0.0,5759:1.0):0.273,6006:0.727):0.617):0.141,(((5241:0.133,6020:0.867):0.111,5593:0.889):0.348,5872:0.652):0.359):0.178):0.363):0.093,((((((2621:0.0,5936:1.0):0.0,6085:1.0):0.0,(5678:0.0,(5679:0.0,(5833:0.0,5834:1.0):1.0):1.0):1.0):0.168,9136:0.832):0.159,3085:0.841):0.32,((((((((((3013:0.0,3509:1.0):0.0,5734:1.0):0.0,5736:1.0):0.0,5739:1.0):0.0,5740:1.0):0.0,6036:1.0):0.131,3516:0.869):0.111,3624:0.889):0.091,5735:0.909):0.287,(5738:0.502,5929:0.498):0.463):0.305):0.36):0.116,(((((((((((((605:0.0,3217:1.0):0.0,3510:1.0):0.0,7597:1.0):0.141,3360:0.859):0.135,((((3211:0.0,3507:1.0):0.169,3375:0.831):0.098,3438:0.902):0.138,3212:0.862):0.365):0.068,3594:0.932):0.07,(3389:0.434,3428:0.566):0.43):0.137,((((2962:0.0,3629:1.0):0.165,3767:0.835):0.189,3296:0.811):0.234,3270:0.766):0.191):0.351,(((1881:0.0,2699:1.0):0.905,((((((((((3021:0.0,3162:1.0):0.0,3314:1.0):0.0,3439:1.0):0.0,3521:1.0):0.0,3573:1.0):0.0,3697:1.0):0.218,3201:0.782):0.153,3596:0.847):0.096,3529:0.904):0.148,3316:0.852):0.095):0.449,(3022:0.711,(3097:0.841,(3103:0.105,(3679:0.0,6148:1.0):0.895):0.159):0.289):0.215):0.113):0.074,(2226:0.505,(3070:0.556,3609:0.444):0.495):0.36):0.115,(((2981:0.595,(3372:0.224,3445:0.776):0.405):0.482,(3260:0.402,5643:0.598):0.518):0.306,(((((3089:0.0,3611:1.0):0.165,3783:0.835):0.133,(3662:0.0,7761:1.0):0.867):0.238,3386:0.762):0.262,3198:0.738):0.163):0.262):0.206,(((((2934:0.0,9243:1.0):0.161,3597:0.839):0.412,3766:0.588):0.557,(((3150:0.25,(3151:0.0,((8102:0.0,8103:1.0):0.0,8104:1.0):1.0):0.75):0.209,3388:0.791):0.626,(((((3218:0.0,3277:1.0):0.0,3329:1.0):0.279,3755:0.721):0.188,3572:0.812):0.26,3219:0.74):0.374):0.318):0.303,((2984:0.885,((3722:0.797,((((((7101:0.0,8657:1.0):0.0,8658:1.0):0.063,8654:0.937):0.032,8655:0.968):0.016,8656:0.984):0.063,(((((((8659:0.0,8660:1.0):0.0,8662:1.0):0.0,8663:1.0):0.0,8664:1.0):0.0,8665:1.0):0.0,8666:1.0):0.0,8667:1.0):0.062):0.14):0.123,8653:0.877):0.24):0.446,((5749:0.22,5750:0.78):0.408,6612:0.592):0.749):0.162):0.05):0.106,(((833:0.406,(3523:0.0,5878:1.0):0.594):0.482,4164:0.518):0.366,((((1694:0.0,8777:1.0):0.0,8781:1.0):0.246,1972:0.754):0.594,(3332:0.522,3575:0.478):0.406):0.259):0.428):0.093):0.032):0.016,(((((18:0.376,(933:0.142,934:0.858):0.624):0.453,785:0.547):0.507,((19:0.422,(((((1432:1.0,1433:0.0):0.0,7263:1.0):0.0,7831:1.0):0.0,7832:1.0):0.308,2470:0.692):0.578):0.552,(((1733:0.0,1895:1.0):0.0,1985:1.0):0.475,(3861:0.0,7268:1.0):0.525):0.448):0.29):0.216,((924:0.578,((1477:0.0,7757:1.0):0.506,3086:0.494):0.422):0.494,(3048:0.42,(3504:0.39,4508:0.61):0.58):0.444):0.432):0.062,(((((170:0.438,754:0.562):0.438,(338:0.207,339:0.793):0.562):0.648,(220:0.288,(3975:0.411,(6364:0.376,(7503:0.0,7504:1.0):0.624):0.589):0.212):0.321):0.242,((3105:0.481,5079:0.519):0.398,3378:0.602):0.742):0.181,(((((((((254:0.331,8410:0.669):0.171,3431:0.329):0.331,((2756:0.0,2878:1.0):0.408,3399:0.592):0.294):0.362,((((1719:0.65,3189:0.35):0.235,(1816:0.0,5432:1.0):0.265):0.111,(((3161:0.0,5431:1.0):0.0,5433:1.0):0.0,6860:1.0):0.639):0.12,(3526:0.36,7121:0.64):0.38):0.216):0.011,(((921:0.175,7640:0.825):0.396,(3502:0.708,3574:0.292):0.354):0.154,((1720:0.0,2709:1.0):0.348,3468:0.652):0.346):0.2):0.198,(((((909:0.0,8739:1.0):0.0,8740:1.0):0.0,8741:1.0):0.0,8742:1.0):0.624,(3426:0.513,5211:0.487):0.376):0.447):0.023,((((497:0.0,8512:1.0):0.143,3705:0.857):0.172,(2763:1.0,5093:0.0):0.828):0.207,(((((2017:0.0,3076:1.0):0.0,3093:1.0):0.0,3377:1.0):0.108,3450:0.892):0.211,2982:0.789):0.168):0.26):0.091,((((675:1.0,676:0.0):1.0,(5254:0.0,5259:1.0):0.0):0.279,((4812:0.0,4814:1.0):0.493,8236:0.507):0.721):0.66,(3960:0.415,4447:0.585):0.34):0.508):0.109,(((910:0.0,4577:1.0):0.313,(4105:0.593,8294:0.407):0.687):0.56,(2517:0.866,(((((3016:0.0,3042:1.0):0.0,3589:1.0):0.257,3319:0.743):0.34,3461:0.66):0.219,3146:0.781):0.134):0.44):0.377):0.153):0.198):0.053):0.02):0.006,(((((((((((((((((((21:0.0,1933:1.0):0.0,2339:1.0):0.0,2355:1.0):0.0,2418:1.0):0.0,2477:1.0):0.0,2623:1.0):0.0,2642:1.0):0.195,2643:0.805):0.218,2023:0.782):0.123,2141:0.877):0.179,2693:0.821):0.444,(1059:0.497,2409:0.503):0.556):0.475,(3202:0.51,((3630:0.88,((((((8765:0.0,8934:1.0):0.0,8965:1.0):0.0,9018:1.0):0.0,9074:1.0):0.174,8854:0.826):0.127,9044:0.873):0.12):0.189,8832:0.811):0.49):0.369):0.112,((1955:0.0,1956:1.0):0.846,(((3505:0.827,((((((((4775:0.0,4777:1.0):0.0,4778:1.0):0.0,4779:1.0):0.0,4780:1.0):0.0,4781:1.0):0.0,7945:1.0):0.849,((8789:0.0,8790:1.0):0.0,8814:1.0):0.151):0.137,9065:0.863):0.173):0.093,(4102:0.714,((4103:0.14,8743:0.86):0.441,8681:0.559):0.286):0.157):0.14,8958:0.86):0.154):0.587):0.106,((((((((40:0.805,(((41:0.0,6393:1.0):0.0,8204:1.0):0.186,3414:0.814):0.195):0.234,319:0.766):0.134,3140:0.866):0.35,((118:0.497,((513:0.0,514:1.0):0.538,6786:0.462):0.503):0.286,2953:0.714):0.494):0.221,((((((((((((((((((151:0.0,2302:1.0):0.0,3955:1.0):0.0,3956:1.0):0.0,3957:1.0):0.0,3958:1.0):0.0,3959:1.0):0.0,3967:1.0):0.0,3968:1.0):0.0,3969:1.0):0.0,3973:1.0):0.0,3984:1.0):0.0,3986:1.0):0.0,3988:1.0):0.0,3992:1.0):0.047,3961:0.953):0.046,3562:0.954):0.148,((2707:0.0,5932:1.0):0.572,3983:0.428):0.852):0.164,(((588:0.408,1123:0.592):0.281,(2927:0.353,(3131:0.602,3781:0.398):0.147):0.219):0.12,((1122:0.0,1528:1.0):0.417,1876:0.583):0.443):0.304):0.156):0.027,((((((((((155:0.0,8309:1.0):0.0,8579:1.0):1.0,156:0.0):1.0,((206:0.0,3586:1.0):0.0,3595:1.0):0.0):0.12,8426:0.88):0.08,3007:0.92):0.047,3430:0.953):0.108,(((((((1525:0.0,3659:1.0):0.076,3669:0.924):0.092,(3060:0.503,((3143:0.0,6817:1.0):0.135,6816:0.865):0.497):0.658):0.116,3474:0.884):0.088,3001:0.912):0.066,(((((2942:0.0,3320:1.0):0.0,7587:1.0):0.161,3301:0.839):0.131,3980:0.869):0.086,3053:0.914):0.079):0.039,2882:0.889):0.058):0.193,(2916:0.0,2917:1.0):0.787):0.184,((1177:0.335,4202:0.665):0.418,((((1461:0.0,2289:1.0):0.196,1766:0.804):0.34,2319:0.66):0.361,(1602:0.212,1613:0.788):0.389):0.207):0.389):0.019):0.072,((((((((((498:0.0,8872:1.0):0.0,8926:1.0):0.0,9016:1.0):0.0,9058:1.0):0.0,9060:1.0):0.182,6179:0.818):0.099,3987:0.901):0.089,3514:0.911):0.241,(((8787:0.0,8860:1.0):0.22,8968:0.78):0.119,8803:0.881):0.634):0.137,((2757:0.205,2785:0.795):0.321,3612:0.679):0.426):0.23):0.064,(((((((540:0.371,7147:0.629):0.324,((6171:0.0,7238:1.0):0.152,6238:0.848):0.676):0.441,(((541:0.504,(4323:0.414,7710:0.586):0.496):0.082,4318:0.418):0.206,((((4322:0.0,6145:1.0):0.0,7709:1.0):0.0,7711:1.0):0.176,8088:0.824):0.294):0.121):0.386,((589:0.358,(6499:0.0,8158:1.0):0.642):0.378,7205:0.622):0.395):0.167,((((((3159:0.0,8892:1.0):0.0,8893:1.0):0.0,9073:1.0):0.135,8919:0.865):0.163,8883:0.837):0.36,3770:0.64):0.262):0.135,(3971:0.585,(4101:0.773,((((8802:0.0,8971:1.0):0.0,(9007:0.0,9082:1.0):1.0):0.164,8807:0.836):0.186,9041:0.814):0.227):0.415):0.259):0.2,(((2169:0.0,(5776:0.0,6656:1.0):1.0):0.252,((((3353:0.0,6889:1.0):0.0,6890:1.0):0.0,6891:1.0):0.503,5774:0.497):0.748):0.333,3942:0.667):0.395):0.108):0.044):0.021,(((263:0.497,3962:0.503):0.541,((581:0.575,(1067:0.0,4080:1.0):0.425):0.512,1006:0.488):0.459):0.622,((((1166:0.385,1167:0.615):0.726,(1643:0.717,(((2687:0.0,6293:1.0):0.0,6294:1.0):0.116,2744:0.884):0.283):0.274):0.038,((3233:0.136,((3527:0.079,(5005:0.5,5006:0.5):0.421):0.04,8619:0.96):0.114):0.337,4020:0.663):0.212):0.418,((2394:0.729,(3795:0.2,7316:0.8):0.271):0.076,(3862:0.172,7123:0.828):0.674):0.379):0.153):0.166):0.068,(((((23:0.516,724:0.484):0.425,((3110:0.0,8033:1.0):0.883,(((8490:0.0,8881:1.0):0.0,8943:1.0):0.0,9035:1.0):0.117):0.575):0.55,(((2082:0.406,2254:0.594):0.672,((2358:0.549,(5488:0.0,6311:1.0):0.451):0.426,5508:0.574):0.328):0.381,((3745:0.0,6996:1.0):0.495,((4804:0.746,4806:0.254):0.595,4805:0.405):0.505):0.587):0.2):0.184,((1611:0.479,(2121:0.534,(8796:0.253,8850:0.747):0.466):0.521):0.163,(((4702:1.0,4703:0.0):0.0,(4848:0.0,(8439:0.0,8440:1.0):1.0):1.0):0.299,(((5967:0.0,5968:1.0):0.134,6017:0.866):0.134,9003:0.866):0.201):0.4):0.397):0.172,(((((561:0.889,((1681:0.0,2448:1.0):0.0,2594:1.0):0.111):0.11,2625:0.89):0.09,2366:0.91):0.594,((3670:0.607,((8778:0.0,8779:1.0):0.0,9061:1.0):0.393):0.325,8639:0.675):0.406):0.429,(((2587:0.0,7968:1.0):0.487,((((3457:0.0,3654:1.0):0.379,3649:0.621):0.246,3518:0.754):0.251,3486:0.749):0.513):0.395,(((((3104:0.0,8361:1.0):0.528,6396:0.472):0.076,(6394:0.687,6397:0.313):0.424):0.234,6395:0.516):0.482,(((5538:0.856,((5823:0.858,((7353:0.0,7354:1.0):1.0,(8762:0.0,8772:1.0):0.0):0.142):0.162,8761:0.838):0.144):0.087,(8031:0.0,8032:1.0):0.913):0.149,8955:0.851):0.518):0.304):0.221):0.098):0.064):0.024,(((((125:0.314,1128:0.686):0.508,(126:0.182,((8041:1.0,8042:0.0):0.0,8044:1.0):0.818):0.492):0.304,((3311:0.312,3661:0.688):0.682,(((4569:0.248,8929:0.752):0.168,4570:0.832):0.189,6289:0.811):0.318):0.524):0.27,(((720:0.451,4612:0.549):0.368,(((((2180:1.0,2181:0.0):0.0,8497:1.0):0.46,7314:0.54):0.237,7107:0.763):0.178,(3120:0.484,(7302:0.816,7309:0.184):0.516):0.322):0.632):0.23,((2111:0.569,2996:0.431):0.167,(3402:0.657,((4970:0.0,7553:1.0):0.0,7920:1.0):0.343):0.333):0.411):0.291):0.166,(((((517:0.493,4935:0.507):0.757,3951:0.243):0.177,(726:1.0,727:0.0):0.823):0.569,((((((2611:0.0,8890:1.0):0.0,8938:1.0):0.0,8982:1.0):0.089,(((8767:0.0,9037:1.0):0.223,8782:0.777):0.115,8809:0.885):0.161):0.098,9053:0.902):0.331,((((2691:0.0,9029:1.0):0.0,9067:1.0):0.066,((((3157:0.0,8849:1.0):0.209,8816:0.791):0.104,8940:0.896):0.082,5856:0.918):0.059):0.178,8758:0.76):0.198):0.299):0.12,((((2552:0.655,(6879:0.0,(7681:0.0,7682:1.0):1.0):0.345):0.536,((8353:0.0,8835:1.0):0.0,8905:1.0):0.464):0.369,(3852:0.0,7650:1.0):0.631):0.314,(6046:0.0,6047:1.0):0.686):0.196):0.241):0.084):0.011,(((((((((((((((((((88:0.0,8442:1.0):0.0,8443:1.0):0.0,8444:1.0):0.0,8445:1.0):0.0,8446:1.0):0.0,8447:1.0):0.0,8448:1.0):0.0,8449:1.0):0.0,8450:1.0):0.0,8451:1.0):0.0,8452:1.0):0.0,(5119:0.0,5120:1.0):1.0):0.157,(1521:0.687,2242:0.313):0.843):0.31,((((2414:0.0,5193:1.0):0.242,4145:0.758):0.578,3706:0.422):0.373,(3034:0.614,3483:0.386):0.627):0.44):0.148,((((2828:1.0,2829:0.0):0.403,8121:0.597):0.34,(3793:0.557,5168:0.443):0.16):0.299,(4550:0.188,4552:0.812):0.451):0.258):0.123,(((2210:0.232,((3023:0.773,(5813:0.0,7311:1.0):0.227):0.114,3351:0.886):0.268):0.306,3427:0.694):0.646,(3129:0.728,((3232:0.121,3756:0.879):0.279,3289:0.721):0.272):0.354):0.307):0.111,((((((((1474:0.0,6941:1.0):0.0,6955:1.0):0.0,8252:1.0):0.0,8253:1.0):0.18,5741:0.82):0.122,((3779:0.424,(4059:0.274,(((4651:0.14,5472:0.86):0.191,7288:0.809):0.168,(6039:0.254,7289:0.746):0.082):0.101):0.326):0.187,(8123:0.0,8124:1.0):0.75):0.316):0.292,(6031:0.005,8463:0.995):0.708):0.233,(((1648:1.0,2739:0.0):0.444,6100:0.556):0.485,(1833:0.148,7177:0.852):0.515):0.508):0.271):0.077,((((((191:0.719,((3033:0.0,3685:1.0):0.274,3497:0.726):0.281):0.138,(3647:0.0,6773:1.0):0.862):0.417,(3210:0.668,3489:0.332):0.583):0.229,((((2929:0.785,((((3084:0.0,3698:1.0):0.155,3462:0.845):0.087,3642:0.913):0.071,3209:0.929):0.215):0.331,2958:0.669):0.06,((((2973:0.0,3285:1.0):0.0,3635:1.0):0.228,3519:0.772):0.157,3684:0.843):0.19):0.337,3312:0.601):0.095):0.108,((((303:0.622,(3403:0.608,(9203:0.0,9204:1.0):0.392):0.378):0.187,3046:0.813):0.243,(1986:0.341,4559:0.659):0.507):0.263,((3160:0.811,(3548:0.79,((3751:0.0,3753:1.0):0.189,3754:0.811):0.21):0.189):0.103,(3752:0.0,6521:1.0):0.897):0.354):0.207):0.309,((((((477:0.0,3284:1.0):0.0,3429:1.0):0.391,3164:0.609):0.403,((1774:0.277,(2818:0.903,2819:0.097):0.223):0.292,5576:0.708):0.472):0.417,((((1888:0.0,8018:1.0):0.297,8017:0.703):0.146,6444:0.854):0.466,4494:0.534):0.333):0.149,(((((903:0.244,2884:0.756):0.42,5077:0.58):0.08,4334:0.42):0.124,2131:0.376):0.35,6588:0.9):0.78):0.111):0.104):0.015,(((((189:0.435,(1714:0.0,2044:1.0):0.565):0.503,((((((((3100:0.0,3367:1.0):0.0,3469:1.0):0.0,3602:1.0):0.0,8611:1.0):0.0,8612:1.0):0.154,5953:0.846):0.108,5983:0.892):0.371,(5690:0.568,(5865:0.634,5949:0.366):0.432):0.129):0.372):0.161,(((973:0.508,984:0.492):0.549,((((2950:0.0,3226:1.0):0.202,(((((3683:0.0,6206:1.0):0.0,7669:1.0):0.0,7670:1.0):0.0,7671:1.0):0.0,(7849:0.0,7850:1.0):1.0):0.798):0.219,3390:0.781):0.336,(3393:0.892,((((7102:0.0,7104:1.0):0.0,7105:1.0):0.555,7103:0.445):0.467,7106:0.033):0.358):0.664):0.138):0.145,((((((2994:0.0,2995:1.0):0.0,3171:1.0):0.366,3170:0.634):0.251,3065:0.749):0.33,3026:0.67):0.503,((3069:0.381,((3173:0.359,(3174:0.0,3380:1.0):0.641):0.298,3585:0.702):0.619):0.112,(3114:0.558,3765:0.442):0.388):0.309):0.253):0.173):0.255,((((519:0.0,1068:1.0):0.425,520:0.575):0.529,(((((1524:0.0,3491:1.0):0.222,3680:0.778):0.152,3032:0.848):0.199,(2144:0.322,2145:0.678):0.801):0.475,(((((1770:0.0,2722:1.0):0.227,(1874:0.832,2957:0.168):0.273):0.312,1771:0.688):0.168,3290:0.832):0.338,3074:0.662):0.424):0.069):0.132,((((647:0.481,3071:0.519):0.277,(2963:0.332,3552:0.668):0.223):0.148,(2992:0.612,(3178:0.482,3199:0.518):0.388):0.352):0.159,((2225:0.502,2665:0.498):0.362,2290:0.638):0.716):0.257):0.088):0.067,((((((403:0.0,404:1.0):0.0,5628:1.0):0.0,5687:1.0):0.431,2948:0.569):0.449,(((1042:0.0,3404:1.0):0.0,3666:1.0):0.367,(3275:0.535,5821:0.465):0.633):0.301):0.377,((3036:0.774,((3133:0.82,8064:0.18):0.64,(3134:0.271,(3136:0.0,3477:1.0):0.729):0.36):0.226):0.569,((3052:0.728,3774:0.272):0.582,3127:0.418):0.431):0.498):0.131):0.099):0.008):0.017):0.005):0.007);\n"
      ]
     },
     "execution_count": 15,
     "metadata": {},
     "output_type": "execute_result"
    }
   ],
   "source": [
    "R"
   ]
  },
  {
   "cell_type": "code",
   "execution_count": 16,
   "metadata": {},
   "outputs": [],
   "source": [
    "g = SimpleGraph(R.numNodes)\n",
    "w = spzeros(R.numNodes,R.numNodes)\n",
    "for i = 1:R.numEdges\n",
    "    src = R.edge[i].node[1].number\n",
    "    dst = R.edge[i].node[2].number\n",
    "    add_edge!(g,src,dst)\n",
    "    w[src,dst] = R.edge[i].length\n",
    "    w[dst,src] = w[src,dst]\n",
    "end"
   ]
  },
  {
   "cell_type": "code",
   "execution_count": 17,
   "metadata": {},
   "outputs": [
    {
     "name": "stderr",
     "output_type": "stream",
     "text": [
      "\u001b[32mProgress:  98%|████████████████████████████████████████▍|  ETA: 0:00:01\u001b[39m"
     ]
    },
    {
     "name": "stdout",
     "output_type": "stream",
     "text": [
      " 68.183605 seconds (1.30 M allocations: 32.474 GiB, 21.43% gc time)\n"
     ]
    },
    {
     "data": {
      "text/plain": [
       "18870×18870 Array{Float64,2}:\n",
       " 0.0      3.65579  4.32061  3.54239  …  1.62642     1.62489     1.61984   \n",
       " 3.65579  0.0      4.72662  3.9585      2.04253     2.0309      2.03595   \n",
       " 4.32061  4.72662  0.0      4.62333     2.70736     2.69573     2.70078   \n",
       " 3.54239  3.9585   4.62333  0.0         1.91597     1.92761     1.92255   \n",
       " 3.7099   4.16538  4.83021  4.05199     2.13601     2.13449     2.12943   \n",
       " 3.92926  4.34538  5.0102   4.21882  …  2.30284     2.31448     2.30942   \n",
       " 3.18624  3.64173  4.30656  3.52833     1.61236     1.61083     1.60578   \n",
       " 2.57143  3.02692  3.69174  2.91352     0.997546    0.996018    0.990965  \n",
       " 2.86945  3.32493  3.98976  3.21154     1.29556     1.29404     1.28898   \n",
       " 2.68562  3.09163  3.72203  2.98834     1.07236     1.06073     1.06578   \n",
       " 3.44995  3.86607  4.5309   3.73951  …  1.82354     1.83517     1.83012   \n",
       " 3.00545  3.42156  4.08639  3.295       1.37903     1.39066     1.38561   \n",
       " 3.811    4.22712  4.89195  4.10056     2.18459     2.19622     2.19117   \n",
       " ⋮                                   ⋱                                    \n",
       " 1.61243  2.06792  2.73275  1.95452     0.0385505   0.0370228   0.0319697 \n",
       " 1.64974  2.06585  2.73068  1.91438     0.0233231   0.0349569   0.0299039 \n",
       " 1.6471   2.06322  2.72805  1.93666  …  0.0206882   0.032322    0.0272689 \n",
       " 1.60015  2.05564  2.72046  1.94224     0.0262664   0.0247387   0.0196856 \n",
       " 1.63548  2.02031  2.70631  1.93819     0.0222218   0.010588    0.0156411 \n",
       " 1.60834  2.04745  2.71227  1.93405     0.0180751   0.0165474   0.0114944 \n",
       " 1.63888  2.05499  2.71982  1.90351     0.0124598   0.0240936   0.0190406 \n",
       " 1.63781  2.05392  2.71875  1.92736  …  0.0113891   0.023023    0.0179699 \n",
       " 1.63159  2.04771  2.71253  1.92115     0.00517448  0.0168083   0.0117552 \n",
       " 1.62642  2.04253  2.70736  1.91597     0.0         0.0116338   0.00658077\n",
       " 1.62489  2.0309   2.69573  1.92761     0.0116338   0.0         0.00505306\n",
       " 1.61984  2.03595  2.70078  1.92255     0.00658077  0.00505306  0.0       "
      ]
     },
     "execution_count": 17,
     "metadata": {},
     "output_type": "execute_result"
    }
   ],
   "source": [
    "@time D3 = parallel_dp_shortest_paths(g, w)"
   ]
  },
  {
   "cell_type": "code",
   "execution_count": 18,
   "metadata": {},
   "outputs": [
    {
     "name": "stdout",
     "output_type": "stream",
     "text": [
      "avg_distortion(D3[1:n, 1:n], A) = 0.09569053555165995\n"
     ]
    }
   ],
   "source": [
    "@show(avg_distortion(D3[1:n,1:n],A));"
   ]
  },
  {
   "cell_type": "code",
   "execution_count": 19,
   "metadata": {},
   "outputs": [
    {
     "name": "stdout",
     "output_type": "stream",
     "text": [
      "MAP(D3[1:n, 1:n], G) = 0.727817592236963\n"
     ]
    }
   ],
   "source": [
    "@show(MAP(D3[1:n,1:n],G));"
   ]
  },
  {
   "cell_type": "code",
   "execution_count": 25,
   "metadata": {},
   "outputs": [
    {
     "ename": "UndefVarError",
     "evalue": "UndefVarError: ranperm not defined",
     "output_type": "error",
     "traceback": [
      "UndefVarError: ranperm not defined",
      "",
      "Stacktrace:",
      " [1] metric_to_tree_struct(::Array{Int64,2}, ::Float64) at ./In[10]:18",
      " [2] metric_to_tree_struct(::Array{Int64,2}) at ./In[10]:6",
      " [3] top-level scope at util.jl:156",
      " [4] top-level scope at In[25]:1"
     ]
    }
   ],
   "source": [
    "@time G3,W3 = metric_to_tree_struct(A);\n",
    "@show(is_connected(G3));\n",
    "D3 = LightGraphs.Parallel.floyd_warshall_shortest_paths(G3,W3).dists;\n",
    "@show(avg_distortion(D3[1:n,1:n],A));\n",
    "@show(MAP(D3[1:n,1:n],G));"
   ]
  },
  {
   "cell_type": "code",
   "execution_count": null,
   "metadata": {},
   "outputs": [],
   "source": [
    "nthds = nthreads()\n",
    "\n",
    "X1 = fill([], nthds)"
   ]
  },
  {
   "cell_type": "code",
   "execution_count": null,
   "metadata": {},
   "outputs": [],
   "source": [
    "n,n = size(A)\n",
    "global d = 0"
   ]
  },
  {
   "cell_type": "code",
   "execution_count": null,
   "metadata": {
    "code_folding": []
   },
   "outputs": [],
   "source": [
    "p = Progress(n)\n",
    "for i = 1:n\n",
    "    for j = 1:i-1\n",
    "        d += abs(A[i,j]-D2[i,j])/A[i,j]\n",
    "    end\n",
    "    next!(p)\n",
    "end\n",
    "    \n",
    "2*d/(n*(n-1))"
   ]
  },
  {
   "cell_type": "code",
   "execution_count": null,
   "metadata": {},
   "outputs": [],
   "source": [
    "map = 0\n",
    "p2 = Progress(n)\n",
    "for i = 1:n\n",
    "    N = neighborhood(G,i,1)\n",
    "    D = D2[:,i]\n",
    "    p = sortperm(D)\n",
    "    P = Dict()\n",
    "    for j = 1:n\n",
    "        P[p[j]] = j\n",
    "    end\n",
    "    d = length(N)\n",
    "    for j = 1:d\n",
    "        R = P[N[j]]\n",
    "        a = Set(N)\n",
    "        b = Set(p[1:R])\n",
    "        map += length(intersect(a,b))/(d*R)        \n",
    "    end\n",
    "    next!(p2)\n",
    "end\n",
    "\n",
    "map/n"
   ]
  },
  {
   "cell_type": "code",
   "execution_count": 13,
   "metadata": {
    "code_folding": [
     0,
     11,
     12,
     23,
     30,
     35,
     49,
     55,
     72,
     76,
     98,
     115,
     128
    ]
   },
   "outputs": [
    {
     "data": {
      "text/plain": [
       "nj!"
      ]
     },
     "execution_count": 13,
     "metadata": {},
     "output_type": "execute_result"
    }
   ],
   "source": [
    "function check_distance_matrix(D::Matrix{<:Real})\n",
    "    size(D, 1) > 1 || throw(DomainError(D, \"Too few nodes\"))\n",
    "    if any(D .< 0)\n",
    "        throw(DomainError(D, \"Negative entries in distance matrix\"))\n",
    "    end\n",
    "    if any(diag(D) .!= 0.0)\n",
    "        throw(DomainError(D, \"Diagonal entry not 0\"))\n",
    "    end\n",
    "end\n",
    "\n",
    "\n",
    "\"\"\"\n",
    "    nj!(D::Matrix{Float64}, names::AbstractVector{String}=String[];\n",
    "        force_nonnegative_edges::Bool=false)\n",
    "Construct a phylogenetic tree from the input distance matrix and\n",
    "vector of names (as strings), using the Neighbour-Joinging algorithm\n",
    "([Satou & Nei 1987](https://doi.org/10.1093/oxfordjournals.molbev.a040454)).\n",
    "The order of the `names` argument should match that of the row (and\n",
    "column) of the matrix `D`.\n",
    "With `force_nonnegative_edges` being `true`, any negative edge length\n",
    "is changed to 0.0 (with a message).\n",
    "Warning: `D` is modified.\n",
    "\"\"\"\n",
    "function nj!(D::Matrix{Float64}, names::AbstractVector{String}=String[];\n",
    "             force_nonnegative_edges::Bool=true)\n",
    "\n",
    "    check_distance_matrix(D)\n",
    "    n = size(D, 1)              # number of species\n",
    "\n",
    "    # when no names arg is supplied\n",
    "    if isempty(names)\n",
    "        names = string.(1:n)\n",
    "    end\n",
    "\n",
    "    # create empty network with n unconnected leaf nodes\n",
    "    nodes = map(function(i)\n",
    "                node = PhyloNetworks.Node(i, true)\n",
    "                node.name = names[i]\n",
    "                return node\n",
    "                end,\n",
    "                1:n)\n",
    "\n",
    "    net = PhyloNetworks.HybridNetwork(nodes, PhyloNetworks.Edge[])\n",
    "    # an array of Node s.t. active_nodes[i] would correspond to the\n",
    "    # ith entry in distance matrix D at each iteration\n",
    "    active_nodes = nodes\n",
    "\n",
    "    neglenp = 0  # number of negative edge lengths\n",
    "\n",
    "    while n > 2\n",
    "        # compute Q matrix and find min\n",
    "        # warning: here i and j are indeces for D, not actual id's\n",
    "        sums = sum(D, dims = 1)\n",
    "        cur = Inf\n",
    "        min_index = (0, 0)\n",
    "        for i = 1:n\n",
    "            for j = i:n\n",
    "                if j != i\n",
    "                    qij = (n-2) * D[i,j] - sums[i] - sums[j]\n",
    "                    if qij < cur\n",
    "                        cur = qij\n",
    "                        min_index = (i, j)\n",
    "                    end\n",
    "                end\n",
    "            end\n",
    "        end\n",
    "\n",
    "        # connect the nodes, compute the length of the edge\n",
    "        (i, j) = min_index\n",
    "        dik = D[i,j] / 2 + (sums[i] - sums[j]) / (2 * (n - 2))\n",
    "        djk = D[i,j] - dik\n",
    "        # force negative lengths to 0, if any\n",
    "        if dik < 0.0\n",
    "            neglenp += 1\n",
    "            if force_nonnegative_edges dik = 0.0; end\n",
    "        end\n",
    "        if djk < 0.0\n",
    "            neglenp += 1\n",
    "            if force_nonnegative_edges djk = 0.0; end\n",
    "        end\n",
    "\n",
    "        # create new edges and node, update tree\n",
    "        edgenum = net.numEdges\n",
    "        eik = PhyloNetworks.Edge(edgenum + 1, dik) # edge length must be Float64 for Edge()\n",
    "        ejk = PhyloNetworks.Edge(edgenum + 2, djk)\n",
    "        node_k = PhyloNetworks.Node(net.numNodes+1, false, false, [eik, ejk]) # new node\n",
    "        node_i = active_nodes[i]\n",
    "        node_j = active_nodes[j]\n",
    "        PhyloNetworks.setNode!(eik, PhyloNetworks.Node[node_i, node_k])\n",
    "        PhyloNetworks.setNode!(ejk, PhyloNetworks.Node[node_j, node_k])\n",
    "        PhyloNetworks.setEdge!(node_i, eik)\n",
    "        PhyloNetworks.setEdge!(node_j, ejk)\n",
    "        PhyloNetworks.pushEdge!(net, eik)\n",
    "        PhyloNetworks.pushEdge!(net, ejk)\n",
    "        PhyloNetworks.pushNode!(net, node_k)\n",
    "\n",
    "        # update map and D\n",
    "        # replace D[l, i] with D[l, k], delete D[ , j]\n",
    "        for l in 1:n\n",
    "            if !(l in [i j])\n",
    "                D[l, i] = (D[l,i] + D[j,l] - D[i,j]) / 2\n",
    "                D[i, l] = D[l, i]\n",
    "            end\n",
    "        end\n",
    "        newidx = filter(u->u!=j, 1:n) # index 1:n\\{j}\n",
    "        D = view(D, newidx, newidx)\n",
    "\n",
    "        # update active_nodes\n",
    "        active_nodes[i] = node_k\n",
    "        active_nodes = view(active_nodes, newidx)\n",
    "\n",
    "        n = n - 1\n",
    "    end\n",
    "\n",
    "    # base case\n",
    "    if D[1,2] < 0.0\n",
    "        neglenp += 1\n",
    "        if force_nonnegative_edges D[1,2] = 0.0; end\n",
    "    end\n",
    "    node1 = active_nodes[1]\n",
    "    node2 = active_nodes[2]\n",
    "    newedge = PhyloNetworks.Edge(net.numEdges+1, D[1,2])\n",
    "    PhyloNetworks.setNode!(newedge, [node1, node2])\n",
    "    PhyloNetworks.setEdge!(node1, newedge)\n",
    "    PhyloNetworks.setEdge!(node2, newedge)\n",
    "    PhyloNetworks.pushEdge!(net, newedge)\n",
    "\n",
    "    # report on number of negative branches\n",
    "    if neglenp > 0\n",
    "        infostr = (force_nonnegative_edges ?\n",
    "                   \"$neglenp branches had negative lengths, reset to 0\" :\n",
    "                   \"$neglenp branches have negative lengths\" )\n",
    "        @info infostr\n",
    "    end\n",
    "\n",
    "    return net\n",
    "end\n"
   ]
  },
  {
   "cell_type": "code",
   "execution_count": null,
   "metadata": {},
   "outputs": [],
   "source": [
    "using JLD2, FileIO\n",
    "@load (\"./l1_tree_yeast-1e-5-heurestic.jld2\") R"
   ]
  },
  {
   "cell_type": "code",
   "execution_count": null,
   "metadata": {},
   "outputs": [],
   "source": [
    "D4 = R[end]+A;"
   ]
  },
  {
   "cell_type": "code",
   "execution_count": null,
   "metadata": {},
   "outputs": [],
   "source": [
    "@show(MAP(D4[1:n,1:n],G));"
   ]
  },
  {
   "cell_type": "code",
   "execution_count": null,
   "metadata": {},
   "outputs": [],
   "source": [
    "@show(avg_distortion(D4[1:n,1:n],A));"
   ]
  },
  {
   "cell_type": "code",
   "execution_count": 20,
   "metadata": {},
   "outputs": [
    {
     "data": {
      "text/plain": [
       "1"
      ]
     },
     "execution_count": 20,
     "metadata": {},
     "output_type": "execute_result"
    }
   ],
   "source": [
    "1"
   ]
  },
  {
   "cell_type": "code",
   "execution_count": null,
   "metadata": {},
   "outputs": [],
   "source": []
  }
 ],
 "metadata": {
  "@webio": {
   "lastCommId": null,
   "lastKernelId": null
  },
  "kernelspec": {
   "display_name": "Julia 1.1.0",
   "language": "julia",
   "name": "julia-1.1"
  },
  "language_info": {
   "file_extension": ".jl",
   "mimetype": "application/julia",
   "name": "julia",
   "version": "1.1.0"
  }
 },
 "nbformat": 4,
 "nbformat_minor": 2
}
